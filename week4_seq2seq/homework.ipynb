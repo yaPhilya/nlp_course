{
  "nbformat": 4,
  "nbformat_minor": 0,
  "metadata": {
    "colab": {
      "name": "Copy_of_practice.ipynb",
      "version": "0.3.2",
      "provenance": [],
      "collapsed_sections": [
        "bYs7ADee5qFq",
        "xB7j453nfhV2",
        "vXcDN9Va87Aq"
      ]
    },
    "kernelspec": {
      "name": "python3",
      "display_name": "Python 3"
    },
    "accelerator": "GPU"
  },
  "cells": [
    {
      "metadata": {
        "colab_type": "text",
        "id": "s-ZhZUct5qEV"
      },
      "cell_type": "markdown",
      "source": [
        "## Seminar and homework (10 points total)\n",
        "\n",
        "Today we shall compose encoder-decoder neural networks and apply them to the task of machine translation.\n",
        "\n",
        "![img](https://esciencegroup.files.wordpress.com/2016/03/seq2seq.jpg)\n",
        "_(img: esciencegroup.files.wordpress.com)_\n",
        "\n",
        "\n",
        "Encoder-decoder architectures are about converting anything to anything, including\n",
        " * Machine translation and spoken dialogue systems\n",
        " * [Image captioning](http://mscoco.org/dataset/#captions-challenge2015) and [image2latex](https://openai.com/requests-for-research/#im2latex) (convolutional encoder, recurrent decoder)\n",
        " * Generating [images by captions](https://arxiv.org/abs/1511.02793) (recurrent encoder, convolutional decoder)\n",
        " * Grapheme2phoneme - convert words to transcripts"
      ]
    },
    {
      "metadata": {
        "colab_type": "text",
        "id": "vv7yaD5L5qEX"
      },
      "cell_type": "markdown",
      "source": [
        "## Our task: machine translation\n",
        "\n",
        "We gonna try our encoder-decoder models on russian to english machine translation problem. More specifically, we'll translate hotel and hostel descriptions. This task shows the scale of machine translation while not requiring you to train your model for weeks if you don't use GPU.\n",
        "\n",
        "Before we get to the architecture, there's some preprocessing to be done. ~~Go tokenize~~ Alright, this time we've done preprocessing for you. As usual, the data will be tokenized with WordPunctTokenizer.\n",
        "\n",
        "However, there's one more thing to do. Our data lines contain unique rare words. If we operate on a word level, we will have to deal with large vocabulary size. If instead we use character-level models, it would take lots of iterations to process a sequence. This time we're gonna pick something inbetween.\n",
        "\n",
        "One popular approach is called [Byte Pair Encoding](https://github.com/rsennrich/subword-nmt) aka __BPE__. The algorithm starts with a character-level tokenization and then iteratively merges most frequent pairs for N iterations. This results in frequent words being merged into a single token and rare words split into syllables or even characters.\n",
        "\n"
      ]
    },
    {
      "metadata": {
        "colab": {},
        "colab_type": "code",
        "id": "zVEq_Cjg5qEZ"
      },
      "cell_type": "code",
      "source": [
        "!pip3 install subword-nmt &> log\n",
        "!wget https://github.com/yandexdataschool/nlp_course/raw/62c1410427385336ef2bea74b09cba39c956207d/week4_seq2seq/data.txt -O data.txt 2> log\n",
        "!wget https://github.com/yandexdataschool/nlp_course/raw/62c1410427385336ef2bea74b09cba39c956207d/week4_seq2seq/utils.py -O utils.py 2> log\n",
        "!wget https://github.com/yandexdataschool/nlp_course/raw/62c1410427385336ef2bea74b09cba39c956207d/week4_seq2seq/dummy_checkpoint.npz -O dummy_checkpoint.npz 2> log\n",
        "#thanks to tilda and deephack teams for the data"
      ],
      "execution_count": 0,
      "outputs": []
    },
    {
      "metadata": {
        "colab": {},
        "colab_type": "code",
        "id": "vvEN3yEh5qEd"
      },
      "cell_type": "code",
      "source": [
        "from nltk.tokenize import WordPunctTokenizer\n",
        "from subword_nmt.learn_bpe import learn_bpe\n",
        "from subword_nmt.apply_bpe import BPE\n",
        "tokenizer = WordPunctTokenizer()\n",
        "def tokenize(x):\n",
        "    return ' '.join(tokenizer.tokenize(x.lower()))\n",
        "\n",
        "# split and tokenize the data\n",
        "with open('train.en', 'w') as f_src,  open('train.ru', 'w') as f_dst:\n",
        "    for line in open('data.txt'):\n",
        "        src_line, dst_line = line.strip().split('\\t')\n",
        "        f_src.write(tokenize(src_line) + '\\n')\n",
        "        f_dst.write(tokenize(dst_line) + '\\n')\n",
        "\n",
        "# build and apply bpe vocs\n",
        "bpe = {}\n",
        "for lang in ['en', 'ru']:\n",
        "    learn_bpe(open('./train.' + lang), open('bpe_rules.' + lang, 'w'), num_symbols=8000)\n",
        "    bpe[lang] = BPE(open('./bpe_rules.' + lang))\n",
        "    \n",
        "    with open('train.bpe.' + lang, 'w') as f_out:\n",
        "        for line in open('train.' + lang):\n",
        "            f_out.write(bpe[lang].process_line(line.strip()) + '\\n')"
      ],
      "execution_count": 0,
      "outputs": []
    },
    {
      "metadata": {
        "colab_type": "text",
        "id": "8OpOodYf5qEg"
      },
      "cell_type": "markdown",
      "source": [
        "### Building vocabularies\n",
        "\n",
        "We now need to build vocabularies that map strings to token ids and vice versa. We're gonna need these fellas when we feed training data into model or convert output matrices into words."
      ]
    },
    {
      "metadata": {
        "colab": {},
        "colab_type": "code",
        "id": "IMX_nxrc5qEh"
      },
      "cell_type": "code",
      "source": [
        "import numpy as np\n",
        "import matplotlib.pyplot as plt\n",
        "%matplotlib inline"
      ],
      "execution_count": 0,
      "outputs": []
    },
    {
      "metadata": {
        "colab": {
          "base_uri": "https://localhost:8080/",
          "height": 179
        },
        "colab_type": "code",
        "id": "dqZSRJj55qEk",
        "outputId": "49a63ef9-393b-409b-f264-f420ceb6ce77"
      },
      "cell_type": "code",
      "source": [
        "data_inp = np.array(open('./train.bpe.ru').read().split('\\n'))\n",
        "data_out = np.array(open('./train.bpe.en').read().split('\\n'))\n",
        "\n",
        "from sklearn.model_selection import train_test_split\n",
        "train_inp, dev_inp, train_out, dev_out = train_test_split(data_inp, data_out, test_size=3000,\n",
        "                                                          random_state=42)\n",
        "for i in range(3):\n",
        "    print('inp:', train_inp[i])\n",
        "    print('out:', train_out[i], end='\\n\\n')"
      ],
      "execution_count": 87,
      "outputs": [
        {
          "output_type": "stream",
          "text": [
            "inp: на территории обустроена бесплатная частная парковка .\n",
            "out: free private parking is available on site .\n",
            "\n",
            "inp: кроме того , в 5 минутах ходьбы работают многочисленные бары и рестораны .\n",
            "out: guests can find many bars and restaurants within a 5 - minute walk .\n",
            "\n",
            "inp: отель san mi@@ gu@@ el расположен в центре мор@@ ели@@ и , в 750 метрах от главной площади города и кафедрального собора .\n",
            "out: hotel san miguel is located in central more@@ lia , 750 metres from the city ’ s main square and cathedral .\n",
            "\n"
          ],
          "name": "stdout"
        }
      ]
    },
    {
      "metadata": {
        "colab": {},
        "colab_type": "code",
        "id": "OIezmisG5qEq"
      },
      "cell_type": "code",
      "source": [
        "from utils import Vocab\n",
        "inp_voc = Vocab.from_lines(train_inp)\n",
        "out_voc = Vocab.from_lines(train_out)"
      ],
      "execution_count": 0,
      "outputs": []
    },
    {
      "metadata": {
        "colab": {
          "base_uri": "https://localhost:8080/",
          "height": 233
        },
        "colab_type": "code",
        "id": "DzuvKS4k5qEw",
        "outputId": "d79357f9-8f95-42ea-d06c-afdd73e8988b"
      },
      "cell_type": "code",
      "source": [
        "# Here's how you cast lines into ids and backwards.\n",
        "batch_lines = sorted(train_inp, key=len)[5:10]\n",
        "batch_ids = inp_voc.to_matrix(batch_lines)\n",
        "batch_lines_restored = inp_voc.to_lines(batch_ids)\n",
        "\n",
        "print(\"lines\")\n",
        "print(batch_lines)\n",
        "print(\"\\nwords to ids (0 = bos, 1 = eos):\")\n",
        "print(batch_ids)\n",
        "print(\"\\nback to words\")\n",
        "print(batch_lines_restored)"
      ],
      "execution_count": 89,
      "outputs": [
        {
          "output_type": "stream",
          "text": [
            "lines\n",
            "['гостевой дом r .', 'до афин — 20 км .', 'работает боулинг .', 'оборудован балкон .', 'подключен wi - fi .']\n",
            "\n",
            "words to ids (0 = bos, 1 = eos):\n",
            "[[   0 2688 2943 1108   29    1    1    1]\n",
            " [   0 2922 1834 8035   59 3800   29    1]\n",
            " [   0 6030 2083   29    1    1    1    1]\n",
            " [   0 4927 1870   29    1    1    1    1]\n",
            " [   0 5549 1453   27  592   29    1    1]]\n",
            "\n",
            "back to words\n",
            "['гостевой дом r .', 'до афин — 20 км .', 'работает боулинг .', 'оборудован балкон .', 'подключен wi - fi .']\n"
          ],
          "name": "stdout"
        }
      ]
    },
    {
      "metadata": {
        "colab_type": "text",
        "id": "FZZWSRbm5qEz"
      },
      "cell_type": "markdown",
      "source": [
        "Draw source and translation length distributions to estimate the scope of the task."
      ]
    },
    {
      "metadata": {
        "colab": {
          "base_uri": "https://localhost:8080/",
          "height": 280
        },
        "colab_type": "code",
        "id": "BNJUcIvn5qE0",
        "outputId": "3b9e6b45-afba-4bd9-e471-94d91e25f430"
      },
      "cell_type": "code",
      "source": [
        "plt.figure(figsize=[8, 4])\n",
        "plt.subplot(1, 2, 1)\n",
        "plt.title(\"source length\")\n",
        "plt.hist(list(map(len, map(str.split, train_inp))), bins=20);\n",
        "\n",
        "plt.subplot(1, 2, 2)\n",
        "plt.title(\"translation length\")\n",
        "plt.hist(list(map(len, map(str.split, train_out))), bins=20);"
      ],
      "execution_count": 90,
      "outputs": [
        {
          "output_type": "display_data",
          "data": {
            "image/png": "[encoded data removed]",
            "text/plain": [
              "<matplotlib.figure.Figure at 0x7ff4545d5358>"
            ]
          },
          "metadata": {
            "tags": []
          }
        }
      ]
    },
    {
      "metadata": {
        "colab_type": "text",
        "id": "7x_yD6425qE4"
      },
      "cell_type": "markdown",
      "source": [
        "### Encoder-decoder model\n",
        "\n",
        "The code below contas a template for a simple encoder-decoder model: single GRU encoder/decoder, no attention or anything. This model is implemented for you as a reference and a baseline for your homework assignment."
      ]
    },
    {
      "metadata": {
        "colab": {},
        "colab_type": "code",
        "id": "slJbFORR5qE5"
      },
      "cell_type": "code",
      "source": [
        "import tensorflow as tf\n",
        "import keras.layers as L\n",
        "from utils import infer_length, infer_mask"
      ],
      "execution_count": 0,
      "outputs": []
    },
    {
      "metadata": {
        "colab": {},
        "colab_type": "code",
        "id": "028yUWcD5qE8"
      },
      "cell_type": "code",
      "source": [
        "class BasicModel:\n",
        "    def __init__(self, name, inp_voc, out_voc, emb_size=64, hid_size=128):\n",
        "        \"\"\"\n",
        "        A simple encoder-decoder model\n",
        "        \"\"\"\n",
        "        self.name, self.inp_voc, self.out_voc = name, inp_voc, out_voc\n",
        "\n",
        "        with tf.variable_scope(name):\n",
        "            self.emb_inp = L.Embedding(len(inp_voc), emb_size)\n",
        "            self.emb_out = L.Embedding(len(out_voc), emb_size)\n",
        "            self.enc0 = tf.contrib.rnn.GRUBlockCellV2(hid_size)\n",
        "\n",
        "            self.dec_start = L.Dense(hid_size)\n",
        "            self.dec0 = tf.contrib.rnn.GRUBlockCellV2(hid_size)\n",
        "            self.logits = L.Dense(len(out_voc))\n",
        "\n",
        "            # prepare to translate_lines\n",
        "            self.inp = tf.placeholder('int32', [None, None])\n",
        "            self.initial_state = self.prev_state = self.encode(self.inp)\n",
        "            self.prev_tokens = tf.placeholder('int32', [None])\n",
        "            self.next_state, self.next_logits = self.decode(self.prev_state, self.prev_tokens)\n",
        "        \n",
        "        self.weights = tf.get_collection(tf.GraphKeys.TRAINABLE_VARIABLES, scope=name)\n",
        "\n",
        "    def encode(self, inp, **flags):\n",
        "        \"\"\"\n",
        "        Takes symbolic input sequence, computes initial state\n",
        "        :param inp: matrix of input tokens [batch, time]\n",
        "        :returns: initial decoder state tensors, one or many\n",
        "        \"\"\"\n",
        "        inp_lengths = infer_length(inp, self.inp_voc.eos_ix)\n",
        "        inp_emb = self.emb_inp(inp)\n",
        "        with tf.variable_scope('enc0'):\n",
        "            _, enc_last = tf.nn.dynamic_rnn(\n",
        "                              self.enc0, inp_emb,\n",
        "                              sequence_length=inp_lengths,\n",
        "                              dtype = inp_emb.dtype)\n",
        "        dec_start = self.dec_start(enc_last)\n",
        "        return [dec_start]\n",
        "\n",
        "    def decode(self, prev_state, prev_tokens, **flags):\n",
        "        \"\"\"\n",
        "        Takes previous decoder state and tokens, returns new state and logits for next tokens\n",
        "        :param prev_state: a list of previous decoder state tensors\n",
        "        :param prev_tokens: previous output tokens, an int vector of [batch_size]\n",
        "        :return: a list of next decoder state tensors, a tensor of logits [batch, n_tokens]\n",
        "        \"\"\"\n",
        "        [prev_dec] = prev_state\n",
        "        prev_emb = self.emb_out(prev_tokens[:,None])[:,0]\n",
        "        with tf.variable_scope('dec0'):\n",
        "            new_dec_out, new_dec_state = self.dec0(prev_emb, prev_dec)\n",
        "        output_logits = self.logits(new_dec_out)\n",
        "        return [new_dec_state], output_logits\n",
        "\n",
        "    def translate_lines(self, inp_lines, max_len=100):\n",
        "        \"\"\"\n",
        "        Translates a list of lines by greedily selecting most likely next token at each step\n",
        "        :returns: a list of output lines, a sequence of model states at each step\n",
        "        \"\"\"\n",
        "        state = sess.run(self.initial_state, {self.inp: inp_voc.to_matrix(inp_lines)})\n",
        "        outputs = [[self.out_voc.bos_ix] for _ in range(len(inp_lines))]\n",
        "        all_states = [state]\n",
        "        finished = [False] * len(inp_lines)\n",
        "\n",
        "        for t in range(max_len):\n",
        "            state, logits = sess.run([self.next_state, self.next_logits], {**dict(zip(self.prev_state, state)),\n",
        "                                           self.prev_tokens: [out_i[-1] for out_i in outputs]})\n",
        "            next_tokens = np.argmax(logits, axis=-1)\n",
        "            all_states.append(state)\n",
        "            for i in range(len(next_tokens)):\n",
        "                outputs[i].append(next_tokens[i])\n",
        "                finished[i] |= next_tokens[i] == self.out_voc.eos_ix\n",
        "        return out_voc.to_lines(outputs), all_states"
      ],
      "execution_count": 0,
      "outputs": []
    },
    {
      "metadata": {
        "colab": {
          "base_uri": "https://localhost:8080/",
          "height": 73
        },
        "colab_type": "code",
        "id": "KemzgbZ45qE_",
        "outputId": "2306981c-a37c-4b3a-fae3-d3c6a0a16373"
      },
      "cell_type": "code",
      "source": [
        "tf.reset_default_graph()\n",
        "sess = tf.InteractiveSession()\n",
        "# ^^^ if you get \"variable *** already exists\": re-run this cell again - it will clear all tf operations youve 'built\n",
        "\n",
        "model = BasicModel('model', inp_voc, out_voc)\n",
        "sess.run(tf.global_variables_initializer())"
      ],
      "execution_count": 93,
      "outputs": [
        {
          "output_type": "stream",
          "text": [
            "/usr/local/lib/python3.6/dist-packages/tensorflow/python/client/session.py:1662: UserWarning: An interactive session is already active. This can cause out-of-memory errors in some cases. You must explicitly call `InteractiveSession.close()` to release resources held by the other session(s).\n",
            "  warnings.warn('An interactive session is already active. This can '\n"
          ],
          "name": "stderr"
        }
      ]
    },
    {
      "metadata": {
        "colab_type": "text",
        "id": "pPcPFOjR5qFD"
      },
      "cell_type": "markdown",
      "source": [
        "### Training loss (2 points)\n",
        "\n",
        "Our training objetive is almost the same as it was for neural language models:\n",
        "$$ L = {\\frac1{|D|}} \\sum_{X, Y \\in D} \\sum_{y_t \\in Y} - \\log p(y_t \\mid y_1, \\dots, y_{t-1}, X, \\theta) $$\n",
        "\n",
        "where $|D|$ is the __total length of all sequences__, including BOS and first EOS, but excluding PAD."
      ]
    },
    {
      "metadata": {
        "colab": {},
        "colab_type": "code",
        "id": "zZVvrhLp5qFE"
      },
      "cell_type": "code",
      "source": [
        "def compute_logits(model, inp, out, **flags):\n",
        "    \"\"\"\n",
        "    :param inp: input tokens matrix, int32[batch, time]\n",
        "    :param out: reference tokens matrix, int32[batch, time]\n",
        "    :returns: logits of shape [batch, time, voc_size]\n",
        "    \n",
        "    * logits must be a linear output of your neural network.\n",
        "    * logits [:, 0, :] should always predic BOS\n",
        "    * logits [:, -1, :] should be probabilities of last token in out\n",
        "    This function should NOT return logits predicted when taking out[:, -1] as y_prev\n",
        "    \"\"\"\n",
        "    batch_size = tf.shape(inp)[0]\n",
        "    \n",
        "    # Encode inp, get initial state\n",
        "    first_state = model.encode(inp)\n",
        "    \n",
        "    # initial logits: always predict BOS\n",
        "    first_logits = tf.log(tf.one_hot(tf.fill([batch_size], model.out_voc.bos_ix),\n",
        "                                     len(model.out_voc)) + 1e-30)\n",
        "    \n",
        "    # Decode step\n",
        "    def step(prev_state, y_prev):\n",
        "        # Given previous state, obtain next state and next token logits\n",
        "        prev_state, prev_logits = prev_state\n",
        "        new_state, new_logits = model.decode(prev_state, y_prev)\n",
        "        return [new_state, new_logits]\n",
        "\n",
        "    # You can now use tf.scan to run step several times.\n",
        "    # use tf.transpose(out) as elems (to process one time-step at a time)\n",
        "    # docs: https://www.tensorflow.org/api_docs/python/tf/scan\n",
        "    \n",
        "    out = tf.scan(step, tf.transpose(out)[:-1], initializer=[first_state, first_logits])\n",
        "    \n",
        "    logits_seq = out[1]\n",
        "    \n",
        "    # prepend first_logits to logits_seq\n",
        "    logits_seq = tf.concat((first_logits[np.newaxis], logits_seq), axis=0)\n",
        "    \n",
        "    # Make sure you convert logits_seq from [time, batch, voc_size] to [batch, time, voc_size]\n",
        "    logits_seq = tf.transpose(logits_seq, [1, 0, 2])\n",
        "    \n",
        "    return logits_seq"
      ],
      "execution_count": 0,
      "outputs": []
    },
    {
      "metadata": {
        "colab": {},
        "colab_type": "code",
        "id": "kcIFqryc5qFJ"
      },
      "cell_type": "code",
      "source": [
        "from utils import load\n",
        "load(tf.trainable_variables(), 'dummy_checkpoint.npz')\n",
        "dummy_inp = tf.constant(inp_voc.to_matrix(train_inp[:3]))\n",
        "dummy_out = tf.constant(out_voc.to_matrix(train_out[:3]))\n",
        "dummy_logits = sess.run(compute_logits(model, dummy_inp, dummy_out))\n",
        "dummy_ref = np.array([-0.13257082, -0.11084784, -0.09024167, -0.14910498], dtype='float32')\n",
        "assert np.allclose(dummy_logits.sum(-1)[0, 1:5], dummy_ref)\n",
        "ref_shape = (dummy_out.shape[0], dummy_out.shape[1], len(out_voc))\n",
        "assert dummy_logits.shape == ref_shape, \"Your logits shape should be {} but got {}\".format(dummy_logits.shape, ref_shape)\n",
        "assert all(dummy_logits[:, 0].argmax(-1) == out_voc.bos_ix), \"first step must always be BOS\""
      ],
      "execution_count": 0,
      "outputs": []
    },
    {
      "metadata": {
        "colab_type": "text",
        "id": "LapnmQpQCwsZ"
      },
      "cell_type": "markdown",
      "source": [
        "$$ L = {\\frac1{|D|}} \\sum_{X, Y \\in D} \\sum_{y_t \\in Y} - \\log p(y_t \\mid y_1, \\dots, y_{t-1}, X, \\theta) $$\n"
      ]
    },
    {
      "metadata": {
        "colab": {},
        "colab_type": "code",
        "id": "Mct_tXox5qFN",
        "scrolled": true
      },
      "cell_type": "code",
      "source": [
        "from utils import select_values_over_last_axis\n",
        "\n",
        "def compute_loss(model, inp, out, **flags):\n",
        "    \"\"\"\n",
        "    Compute loss (float32 scalar) as in the formula above\n",
        "    :param inp: input tokens matrix, int32[batch, time]\n",
        "    :param out: reference tokens matrix, int32[batch, time]\n",
        "    \n",
        "    In order to pass the tests, your function should\n",
        "    * include loss at first EOS but not the subsequent ones\n",
        "    * divide sum of losses by a sum of input lengths (use infer_length or infer_mask)\n",
        "    \"\"\"\n",
        "    mask = infer_mask(out, out_voc.eos_ix)    \n",
        "    logits_seq = compute_logits(model, inp, out, **flags)\n",
        "    \n",
        "    # Compute loss as per instructions above\n",
        "    logs = tf.nn.log_softmax(logits_seq)\n",
        "    logs = select_values_over_last_axis(logs, out)\n",
        "    \n",
        "    loss = - tf.divide(tf.reduce_sum(logs * mask), tf.reduce_sum(mask)) \n",
        "    \n",
        "    return loss"
      ],
      "execution_count": 0,
      "outputs": []
    },
    {
      "metadata": {
        "colab": {
          "base_uri": "https://localhost:8080/",
          "height": 35
        },
        "colab_type": "code",
        "id": "GS2jkR-D5qFP",
        "outputId": "1ac14bcd-f7b7-44d1-f415-59cea72a947d"
      },
      "cell_type": "code",
      "source": [
        "dummy_loss = sess.run(compute_loss(model, dummy_inp, dummy_out))\n",
        "print(\"Loss:\", dummy_loss)\n",
        "assert np.allclose(dummy_loss, 8.425, rtol=0.1, atol=0.1), \"We're sorry for your loss\""
      ],
      "execution_count": 97,
      "outputs": [
        {
          "output_type": "stream",
          "text": [
            "Loss: 8.424398\n"
          ],
          "name": "stdout"
        }
      ]
    },
    {
      "metadata": {
        "colab_type": "text",
        "id": "9G23kXzi5qFV"
      },
      "cell_type": "markdown",
      "source": [
        "### Evaluation: BLEU\n",
        "\n",
        "Machine translation is commonly evaluated with [BLEU](https://en.wikipedia.org/wiki/BLEU) score. This metric simply computes which fraction of predicted n-grams is actually present in the reference translation. It does so for n=1,2,3 and 4 and computes the geometric average with penalty if translation is shorter than reference.\n",
        "\n",
        "While BLEU [has many drawbacks](http://www.cs.jhu.edu/~ccb/publications/re-evaluating-the-role-of-bleu-in-mt-research.pdf), it still remains the most commonly used metric and one of the simplest to compute."
      ]
    },
    {
      "metadata": {
        "colab": {},
        "colab_type": "code",
        "id": "6GVoEeo75qFW"
      },
      "cell_type": "code",
      "source": [
        "from nltk.translate.bleu_score import corpus_bleu\n",
        "def compute_bleu(model, inp_lines, out_lines, bpe_sep='@@ ', **flags):\n",
        "    \"\"\" Estimates corpora-level BLEU score of model's translations given inp and reference out \"\"\"\n",
        "    translations, _ = model.translate_lines(inp_lines, **flags)\n",
        "    # Note: if you experience out-of-memory error, split input lines into batches and translate separately\n",
        "    return corpus_bleu([[ref] for ref in out_lines], translations) * 100"
      ],
      "execution_count": 0,
      "outputs": []
    },
    {
      "metadata": {
        "colab": {
          "base_uri": "https://localhost:8080/",
          "height": 35
        },
        "colab_type": "code",
        "id": "FjD39J8q5qFZ",
        "outputId": "c8d4d191-4984-4b62-dc5b-f9df828fdbe7"
      },
      "cell_type": "code",
      "source": [
        "compute_bleu(model, dev_inp, dev_out)"
      ],
      "execution_count": 99,
      "outputs": [
        {
          "output_type": "execute_result",
          "data": {
            "text/plain": [
              "4.764888431368293"
            ]
          },
          "metadata": {
            "tags": []
          },
          "execution_count": 99
        }
      ]
    },
    {
      "metadata": {
        "colab_type": "text",
        "id": "HeDgqId15qFc"
      },
      "cell_type": "markdown",
      "source": [
        "### Training loop\n",
        "\n",
        "Training encoder-decoder models isn't that different from any other models: sample batches, compute loss, backprop and update"
      ]
    },
    {
      "metadata": {
        "colab": {},
        "colab_type": "code",
        "id": "AzHklx1W5qFd"
      },
      "cell_type": "code",
      "source": [
        "inp = tf.placeholder('int32', [None, None])\n",
        "out = tf.placeholder('int32', [None, None])\n",
        "\n",
        "loss = compute_loss(model, inp, out)\n",
        "\n",
        "train_step = tf.train.AdamOptimizer().minimize(loss)"
      ],
      "execution_count": 0,
      "outputs": []
    },
    {
      "metadata": {
        "colab": {},
        "colab_type": "code",
        "id": "YUqa6LGm5qFf",
        "scrolled": false
      },
      "cell_type": "code",
      "source": [
        "from IPython.display import clear_output\n",
        "from tqdm import tqdm, trange\n",
        "metrics = {'train_loss': [], 'dev_bleu': [] }\n",
        "\n",
        "sess.run(tf.global_variables_initializer())\n",
        "batch_size = 32"
      ],
      "execution_count": 0,
      "outputs": []
    },
    {
      "metadata": {
        "colab": {
          "base_uri": "https://localhost:8080/",
          "height": 370
        },
        "colab_type": "code",
        "id": "f7zCO5SE5qFi",
        "outputId": "b4517abf-e1eb-4e41-a74f-a09a2520f8f1",
        "scrolled": true
      },
      "cell_type": "code",
      "source": [
        "for _ in trange(10000):\n",
        "    step = len(metrics['train_loss']) + 1\n",
        "    batch_ix = np.random.randint(len(train_inp), size=batch_size)\n",
        "    feed_dict = {\n",
        "        inp: inp_voc.to_matrix(train_inp[batch_ix]),\n",
        "        out: out_voc.to_matrix(train_out[batch_ix]),\n",
        "    }\n",
        "    \n",
        "    loss_t, _ = sess.run([loss, train_step], feed_dict)\n",
        "    metrics['train_loss'].append((step, loss_t))\n",
        "    \n",
        "    if step % 100 == 0:\n",
        "        metrics['dev_bleu'].append((step, compute_bleu(model, dev_inp, dev_out)))\n",
        "        \n",
        "        clear_output(True)\n",
        "        plt.figure(figsize=(12,4))\n",
        "        for i, (name, history) in enumerate(sorted(metrics.items())):\n",
        "            plt.subplot(1, len(metrics), i + 1)\n",
        "            plt.title(name)\n",
        "            plt.plot(*zip(*history))\n",
        "            plt.grid()\n",
        "        plt.show()\n",
        "        print(\"Mean loss=%.3f\" % np.mean(metrics['train_loss'][-10:], axis=0)[1], flush=True)\n",
        "        \n",
        "# Note: it's okay if bleu oscillates up and down as long as it gets better on average over long term (e.g. 5k batches)"
      ],
      "execution_count": 57,
      "outputs": [
        {
          "output_type": "display_data",
          "data": {
            "image/png": "[encoded data removed]",
            "text/plain": [
              "<matplotlib.figure.Figure at 0x7ff455b036a0>"
            ]
          },
          "metadata": {
            "tags": []
          }
        },
        {
          "output_type": "stream",
          "text": [
            "Mean loss=2.185\n"
          ],
          "name": "stdout"
        },
        {
          "output_type": "stream",
          "text": [
            "\n",
            "\n",
            "100%|██████████| 10000/10000 [39:45<00:00,  2.10s/it]\u001b[A\u001b[A\n",
            "\n",
            "\u001b[A\u001b[A"
          ],
          "name": "stderr"
        }
      ]
    },
    {
      "metadata": {
        "colab": {},
        "colab_type": "code",
        "id": "EJXzrpZZ5qFl"
      },
      "cell_type": "code",
      "source": [
        "assert np.mean(metrics['dev_bleu'][-10:], axis=0)[1] > 35, \"We kind of need a higher bleu BLEU from you. Kind of right now.\""
      ],
      "execution_count": 0,
      "outputs": []
    },
    {
      "metadata": {
        "id": "g-bXq_liHaQI",
        "colab_type": "code",
        "colab": {
          "base_uri": "https://localhost:8080/",
          "height": 35
        },
        "outputId": "18f739b7-6d3e-4248-aa24-56a69fd830a6"
      },
      "cell_type": "code",
      "source": [
        "np.mean(metrics['dev_bleu'][-10:], axis=0)[1]"
      ],
      "execution_count": 62,
      "outputs": [
        {
          "output_type": "execute_result",
          "data": {
            "text/plain": [
              "42.1803961191189"
            ]
          },
          "metadata": {
            "tags": []
          },
          "execution_count": 62
        }
      ]
    },
    {
      "metadata": {
        "colab": {
          "base_uri": "https://localhost:8080/",
          "height": 361
        },
        "colab_type": "code",
        "id": "Bpyaw_Fg5qFn",
        "outputId": "870cabc2-4ef8-4cb1-a042-474aa6ea8f34"
      },
      "cell_type": "code",
      "source": [
        "for inp_line, trans_line in zip(dev_inp[::500], model.translate_lines(dev_inp[::500])[0]):\n",
        "    print(inp_line)\n",
        "    print(trans_line)\n",
        "    print()"
      ],
      "execution_count": 59,
      "outputs": [
        {
          "output_type": "stream",
          "text": [
            "в распоряжении гостей общая кухня и общая гостиная .\n",
            "there is a shared kitchen and a shared kitchen .\n",
            "\n",
            "кроме того , предоставляется прокат велосипедов , услуги трансфера и бесплатная парковка .\n",
            "there is a shuttle service to the airport , and a shuttle service is available for an extra charge .\n",
            "\n",
            "расстояние до города ки@@ сси@@ м@@ ми составляет 26 км .\n",
            "the alpe thermal baths is 11 km away .\n",
            "\n",
            "апартаменты в пент@@ хаусе с общим открытым бассейном , садом , кондиционером и террасой для загара расположены в 5 минутах ходьбы от пляжа на курорте ка@@ бо - рой .\n",
            "located in a quiet area , a garden with a terrace , a terrace and a terrace , villa villa is located in the centre of cal@@ é@@ a , just a 5 - minute walk from the beach .\n",
            "\n",
            "апартаменты mo@@ s@@ co@@ w point - loft red square находятся в москве , в 200 метрах от большого театра .\n",
            "located in rome , this apartment is 400 metres from the cathedral of saint lazare .\n",
            "\n",
            "в вашем распоряжении собственная ванная комната с душем и полотенцами .\n",
            "featuring a shower , private bathrooms also come with towels .\n",
            "\n"
          ],
          "name": "stdout"
        }
      ]
    },
    {
      "metadata": {
        "colab_type": "text",
        "id": "bYs7ADee5qFq"
      },
      "cell_type": "markdown",
      "source": [
        "### Your Attention Required (4 points)\n",
        "\n",
        "In this section we want you to improve over the basic model by implementing a simple attention mechanism.\n",
        "\n",
        "This is gonna be a two-parter: building the __attention layer__ and using it for an __attentive seq2seq model__."
      ]
    },
    {
      "metadata": {
        "colab_type": "text",
        "id": "4PRP-K8x5qFr"
      },
      "cell_type": "markdown",
      "source": [
        "### Attention layer\n",
        "\n",
        "Here you will have to implement a layer that computes a simple additive attention:\n",
        "\n",
        "Given encoder sequence $ h^e_0, h^e_1, h^e_2, ..., h^e_T$ and a single decoder state $h^d$,\n",
        "\n",
        "* Compute logits with a 2-layer neural network\n",
        "$$a_t = linear_{out}(tanh(linear_{e}(h^e_t) + linear_{d}(h_d)))$$\n",
        "* Get probabilities from logits, \n",
        "$$ p_t = {{e ^ {a_t}} \\over { \\sum_\\tau e^{a_\\tau} }} $$\n",
        "\n",
        "* Add up encoder states with probabilities to get __attention response__\n",
        "$$ attn = \\sum_t p_t \\cdot h^e_t $$\n",
        "\n",
        "You can learn more about attention layers in the leture slides or [from this post](https://distill.pub/2016/augmented-rnns/)."
      ]
    },
    {
      "metadata": {
        "colab": {},
        "colab_type": "code",
        "id": "gAwHaO0W5qFr"
      },
      "cell_type": "code",
      "source": [
        "class AttentionLayer:\n",
        "    def __init__(self, name, enc_size, dec_size, hid_size, activ=tf.tanh,):\n",
        "        \"\"\" A layer that computes additive attention response and weights \"\"\"\n",
        "        self.name = name\n",
        "        self.enc_size = enc_size # num units in encoder state\n",
        "        self.dec_size = dec_size # num units in decoder state\n",
        "        self.hid_size = hid_size # attention layer hidden units\n",
        "        self.activ = activ       # attention layer hidden nonlinearity\n",
        "\n",
        "        with tf.variable_scope(name):\n",
        "            # YOUR CODE - create layer variables\n",
        "            self.linear_enc = L.Dense(self.hid_size, input_shape=[None, None, self.enc_size])\n",
        "            self.linear_dec = L.Dense(self.hid_size, input_shape=[None, self.dec_size])\n",
        "            self.attn = L.Dense(1, input_shape=[None, None, self.hid_size])\n",
        "\n",
        "    def __call__(self, enc, dec, inp_mask):\n",
        "        \"\"\"\n",
        "        Computes attention response and weights\n",
        "        :param enc: encoder activation sequence, float32[batch_size, ninp, enc_size]\n",
        "        :param dec: single decoder state used as \"query\", float32[batch_size, dec_size]\n",
        "        :param inp_mask: mask on enc activatons (0 after first eos), float32 [batch_size, ninp]\n",
        "        :returns: attn[batch_size, enc_size], probs[batch_size, ninp]\n",
        "            - attn - attention response vector (weighted sum of enc)\n",
        "            - probs - attention weights after softmax\n",
        "        \"\"\"\n",
        "        with tf.variable_scope(self.name):\n",
        "            \n",
        "            # Compute logits\n",
        "            enc_transformed = self.linear_enc(enc)\n",
        "            dec_transformed = self.linear_dec(dec)\n",
        "            \n",
        "            \n",
        "            logits = self.attn(self.activ(enc_transformed + dec_transformed[:, np.newaxis, :]))\n",
        "            \n",
        "            # Apply mask - if mask is 0, logits should be -inf or -1e9\n",
        "            # You may need tf.where\n",
        "            zero_prob = tf.fill(dims=tf.shape(logits), value=-1e9)\n",
        "            logits = tf.where(tf.equal(inp_mask[:, :, np.newaxis], 1), logits, zero_prob)\n",
        "            \n",
        "            # Compute attention probabilities (softmax)\n",
        "            probs = tf.nn.softmax(logits, axis=1)\n",
        "            \n",
        "            print(probs.shape)\n",
        "            print(enc.shape)\n",
        "            probs = tf.squeeze(probs, axis=-1)\n",
        "            \n",
        "            # Compute attention response using enc and probs\n",
        "            attn = tf.reduce_sum(probs[:, :, None] * enc, axis=1)\n",
        "            \n",
        "            return attn, probs"
      ],
      "execution_count": 0,
      "outputs": []
    },
    {
      "metadata": {
        "colab_type": "text",
        "id": "7rc3Zqm15qFw"
      },
      "cell_type": "markdown",
      "source": [
        "### Seq2seq model with attention\n",
        "\n",
        "You can now use the attention layer to build a network. The simplest way to implement attention is to use it in decoder phase:\n",
        "![img](https://i.imgur.com/6fKHlHb.png)\n",
        "_image from distill.pub [article](https://distill.pub/2016/augmented-rnns/)_\n",
        "\n",
        "On every step, use __previous__ decoder state to obtain attention response. Then feed concat this response to the inputs of next attetion layer.\n",
        "\n",
        "The key implementation detail here is __model state__. Put simply, you can add any tensor into the list of `encode` outputs. You will then have access to them at each `decode` step. This may include:\n",
        "* Last RNN hidden states (as in basic model)\n",
        "* The whole sequence of encoder outputs (to attend to) and mask\n",
        "* Attention probabilities (to visualize)\n",
        "\n",
        "_There are, of course, alternative ways to wire attention into your network and different kinds of attention. Take a look at [this](https://arxiv.org/abs/1609.08144), [this](https://arxiv.org/abs/1706.03762) and [this](https://arxiv.org/abs/1808.03867) for ideas. And for image captioning/im2latex there's [visual attention](https://arxiv.org/abs/1502.03044)_"
      ]
    },
    {
      "metadata": {
        "colab": {},
        "colab_type": "code",
        "id": "iIX1o5sm5qFw"
      },
      "cell_type": "code",
      "source": [
        "class AttentiveModel(BasicModel):\n",
        "    def __init__(self, name, inp_voc, out_voc,\n",
        "                 emb_size=64, hid_size=128, attn_size=128):\n",
        "        \"\"\" Translation model that uses attention. See instructions above. \"\"\"\n",
        "        self.name = name\n",
        "        self.inp_voc = inp_voc\n",
        "        self.out_voc = out_voc\n",
        "\n",
        "        with tf.variable_scope(name):\n",
        "            \n",
        "            # YOUR CODE - define model layers\n",
        "            \n",
        "            self.ebm_inp = L.Embedding(len(inp_voc), emb_size)\n",
        "            self.emb_out = L.Embedding(len(out_voc), emb_size)\n",
        "            self.enc0 = tf.contrib.rnn.GRUBlockCellV2(hid_size)\n",
        "            \n",
        "            self.attn = AttentionLayer('attention_layer', hid_size, hid_size, attn_size)\n",
        "            \n",
        "            self.dec_start = L.Dense(hid_size)\n",
        "            self.dec0 = tf.contrib.rnn.GRUBlockCellV2(hid_size)\n",
        "            self.logits = L.Dense(len(out_voc))\n",
        "            # END OF YOUR CODE\n",
        "            \n",
        "            # prepare to translate_lines\n",
        "            self.inp = tf.placeholder('int32', [None, None])\n",
        "            self.initial_state = self.prev_state = self.encode(self.inp)\n",
        "            self.prev_tokens = tf.placeholder('int32', [None])\n",
        "            self.next_state, self.next_logits = self.decode(self.prev_state, self.prev_tokens)\n",
        "\n",
        "        self.weights = tf.get_collection(tf.GraphKeys.TRAINABLE_VARIABLES, scope=name)\n",
        "\n",
        "    def encode(self, inp, **flags):\n",
        "        \"\"\"\n",
        "        Takes symbolic input sequence, computes initial state\n",
        "        :param inp: matrix of input tokens [batch, time]\n",
        "        :return: a list of initial decoder state tensors\n",
        "        \"\"\"\n",
        "        \n",
        "        # encode input sequence, create initial decoder states\n",
        "        \n",
        "        inp_lengths = infer_length(inp, self.inp_voc.eos_ix)\n",
        "        inp_emb = self.ebm_inp(inp)\n",
        "        encoders = []\n",
        "        with tf.variable_scope('enc0'):\n",
        "            outputs, enc_last = tf.nn.dynamic_rnn(self.enc0, \n",
        "                                          inp_emb, \n",
        "                                          sequence_length=inp_lengths,\n",
        "                                          dtype=inp_emb.dtype)\n",
        "            encoders = outputs\n",
        "        \n",
        "        dec_start = self.dec_start(enc_last)\n",
        "        mask = infer_mask(inp, inp_voc.eos_ix)\n",
        "        # apply attention layer from initial decoder hidden state\n",
        "        attn_resp, probs = self.attn(encoders, dec_start, mask)\n",
        "        \n",
        "        # Build first state: include\n",
        "        # * initial states for decoder recurrent layers\n",
        "        # * encoder sequence and encoder attn mask (for attention)\n",
        "        # * make sure that last state item is attention probabilities tensor\n",
        "        \n",
        "        first_state = [dec_start, encoders, mask, probs]\n",
        "        return first_state\n",
        "\n",
        "    def decode(self, prev_state, prev_tokens, **flags):\n",
        "        \"\"\"\n",
        "        Takes previous decoder state and tokens, returns new state and logits\n",
        "        :param prev_state: a list of previous decoder state tensors\n",
        "        :param prev_tokens: previous output tokens, an int vector of [batch_size]\n",
        "        :return: a list of next decoder state tensors, a tensor of logits [batch,n_tokens]\n",
        "        \"\"\"\n",
        "        # Unpack your state: you will get tensors in the same order that you've packed in encode\n",
        "        [prev_dec, encoders, mask, probs] = prev_state\n",
        "        \n",
        "        \n",
        "        # Perform decoder step\n",
        "        # * predict next attn response and attn probas given previous decoder state\n",
        "        # * use prev token embedding and attn response to update decoder states (concatenate and feed into decoder cell)\n",
        "        # * predict logits\n",
        "        \n",
        "        \n",
        "        attn_resp, attn_prob = self.attn(encoders, prev_dec, mask)\n",
        "        \n",
        "        prev_emb = self.emb_out(prev_tokens[:,None])[:,0]\n",
        "        prev_emb = tf.concat([prev_emb, attn_resp], axis=1)\n",
        "        \n",
        "        with tf.variable_scope('dec0'):\n",
        "            new_dec_out, new_dec_state = self.dec0(prev_emb, prev_dec)\n",
        "            \n",
        "        output_logits = self.logits(new_dec_out)\n",
        "        \n",
        "        # Pack new state:\n",
        "        # * replace previous decoder state with next one\n",
        "        # * copy encoder sequence and mask from prev_state\n",
        "        # * append new attention probas\n",
        "        new_state = [new_dec_state, encoders, mask, attn_prob]\n",
        "        return new_state, output_logits\n"
      ],
      "execution_count": 0,
      "outputs": []
    },
    {
      "metadata": {
        "colab": {
          "base_uri": "https://localhost:8080/",
          "height": 145
        },
        "colab_type": "code",
        "id": "19ONeP1L5qFz",
        "outputId": "f977357f-2925-4584-beb1-07b3659a8ee3"
      },
      "cell_type": "code",
      "source": [
        "# WARNING! this cell will clear your TF graph from the regular model. All trained variables will be gone!\n",
        "tf.reset_default_graph()\n",
        "sess = tf.InteractiveSession()\n",
        "model = AttentiveModel('model_attn', inp_voc, out_voc)"
      ],
      "execution_count": 104,
      "outputs": [
        {
          "output_type": "stream",
          "text": [
            "/usr/local/lib/python3.6/dist-packages/tensorflow/python/client/session.py:1662: UserWarning: An interactive session is already active. This can cause out-of-memory errors in some cases. You must explicitly call `InteractiveSession.close()` to release resources held by the other session(s).\n",
            "  warnings.warn('An interactive session is already active. This can '\n"
          ],
          "name": "stderr"
        },
        {
          "output_type": "stream",
          "text": [
            "(?, ?, 1)\n",
            "(?, ?, 128)\n",
            "(?, ?, 1)\n",
            "(?, ?, 128)\n"
          ],
          "name": "stdout"
        }
      ]
    },
    {
      "metadata": {
        "colab_type": "text",
        "id": "RA1d5Iio5qF2"
      },
      "cell_type": "markdown",
      "source": [
        "### Training attentive model\n",
        "\n",
        "We'll reuse the infrastructure you've built for the regular model. I hope you didn't hard-code anything :)"
      ]
    },
    {
      "metadata": {
        "colab": {
          "base_uri": "https://localhost:8080/",
          "height": 89
        },
        "colab_type": "code",
        "id": "d1MW34An5qF3",
        "outputId": "2e92eeda-70e7-4b94-d6b4-17b880651d06"
      },
      "cell_type": "code",
      "source": [
        "inp = tf.placeholder('int32', [None, None])\n",
        "out = tf.placeholder('int32', [None, None])\n",
        "\n",
        "loss = compute_loss(model, inp, out)\n",
        "train_step = tf.train.AdamOptimizer().minimize(loss)"
      ],
      "execution_count": 105,
      "outputs": [
        {
          "output_type": "stream",
          "text": [
            "(?, ?, 1)\n",
            "(?, ?, 128)\n",
            "(?, ?, 1)\n",
            "(?, ?, 128)\n"
          ],
          "name": "stdout"
        }
      ]
    },
    {
      "metadata": {
        "colab": {},
        "colab_type": "code",
        "id": "BRueuHmO5qF6"
      },
      "cell_type": "code",
      "source": [
        "metrics = {'train_loss': [], 'dev_bleu': []}\n",
        "sess.run(tf.global_variables_initializer())\n",
        "batch_size = 32"
      ],
      "execution_count": 0,
      "outputs": []
    },
    {
      "metadata": {
        "colab": {
          "base_uri": "https://localhost:8080/",
          "height": 370
        },
        "colab_type": "code",
        "id": "R9VGClvY5qF8",
        "outputId": "b5561eee-f9c7-40f4-bd9f-0fa649d431fb"
      },
      "cell_type": "code",
      "source": [
        "for _ in trange(10000):\n",
        "    step = len(metrics['train_loss']) + 1\n",
        "    batch_ix = np.random.randint(len(train_inp), size=batch_size)\n",
        "    feed_dict = {\n",
        "        inp: inp_voc.to_matrix(train_inp[batch_ix]),\n",
        "        out: out_voc.to_matrix(train_out[batch_ix]),\n",
        "    }\n",
        "    \n",
        "    loss_t, _ = sess.run([loss, train_step], feed_dict)\n",
        "    metrics['train_loss'].append((step, loss_t))\n",
        "    \n",
        "    if step % 100 == 0:\n",
        "        metrics['dev_bleu'].append((step, compute_bleu(model, dev_inp, dev_out)))\n",
        "        \n",
        "        clear_output(True)\n",
        "        plt.figure(figsize=(12,4))\n",
        "        for i, (name, history) in enumerate(sorted(metrics.items())):\n",
        "            plt.subplot(1, len(metrics), i + 1)\n",
        "            plt.title(name)\n",
        "            plt.plot(*zip(*history))\n",
        "            plt.grid()\n",
        "        plt.show()\n",
        "        print(\"Mean loss=%.3f\" % np.mean(metrics['train_loss'][-10:], axis=0)[1], flush=True)\n",
        "\n",
        "# Your model may train slower than the basic one. check that it's at least >30 bleu by 5k steps\n",
        "# Also: you don't have to train for 25k steps. It was chosen by a squirrel."
      ],
      "execution_count": 72,
      "outputs": [
        {
          "output_type": "display_data",
          "data": {
            "image/png": "[encoded data removed]",
            "text/plain": [
              "<matplotlib.figure.Figure at 0x7ff4ba5a9668>"
            ]
          },
          "metadata": {
            "tags": []
          }
        },
        {
          "output_type": "stream",
          "text": [
            "Mean loss=2.195\n"
          ],
          "name": "stdout"
        },
        {
          "output_type": "stream",
          "text": [
            "\n",
            "\n",
            "100%|██████████| 10000/10000 [1:00:39<00:00,  2.98s/it]\u001b[A\u001b[A\n",
            "\n",
            "\u001b[A\u001b[A"
          ],
          "name": "stderr"
        }
      ]
    },
    {
      "metadata": {
        "colab": {},
        "colab_type": "code",
        "id": "aP83xExI5qGD"
      },
      "cell_type": "code",
      "source": [
        "assert np.mean(metrics['dev_bleu'][-10:], axis=0)[1] > 45, \"Something might be wrong with the model...\""
      ],
      "execution_count": 0,
      "outputs": []
    },
    {
      "metadata": {
        "id": "XwnojVlvaD3s",
        "colab_type": "code",
        "colab": {
          "base_uri": "https://localhost:8080/",
          "height": 35
        },
        "outputId": "bff4cde3-9da2-42b8-a37b-73de38f9419b"
      },
      "cell_type": "code",
      "source": [
        "np.mean(metrics['dev_bleu'][-10:], axis=0)[1]"
      ],
      "execution_count": 74,
      "outputs": [
        {
          "output_type": "execute_result",
          "data": {
            "text/plain": [
              "45.15019845469324"
            ]
          },
          "metadata": {
            "tags": []
          },
          "execution_count": 74
        }
      ]
    },
    {
      "metadata": {
        "id": "Q53YOuweaoIN",
        "colab_type": "code",
        "colab": {
          "base_uri": "https://localhost:8080/",
          "height": 197
        },
        "outputId": "86fd0c16-803e-4905-9708-6ec766761d08"
      },
      "cell_type": "code",
      "source": [
        "!pip install bokeh"
      ],
      "execution_count": 107,
      "outputs": [
        {
          "output_type": "stream",
          "text": [
            "Requirement already satisfied: bokeh in /usr/local/lib/python3.6/dist-packages (0.13.0)\n",
            "Requirement already satisfied: packaging>=16.8 in /usr/local/lib/python3.6/dist-packages (from bokeh) (18.0)\n",
            "Requirement already satisfied: numpy>=1.7.1 in /usr/local/lib/python3.6/dist-packages (from bokeh) (1.14.6)\n",
            "Requirement already satisfied: PyYAML>=3.10 in /usr/local/lib/python3.6/dist-packages (from bokeh) (3.13)\n",
            "Requirement already satisfied: python-dateutil>=2.1 in /usr/local/lib/python3.6/dist-packages (from bokeh) (2.5.3)\n",
            "Requirement already satisfied: Jinja2>=2.7 in /usr/local/lib/python3.6/dist-packages (from bokeh) (2.10)\n",
            "Requirement already satisfied: tornado>=4.3 in /usr/local/lib/python3.6/dist-packages (from bokeh) (4.5.3)\n",
            "Requirement already satisfied: six>=1.5.2 in /usr/local/lib/python3.6/dist-packages (from bokeh) (1.11.0)\n",
            "Requirement already satisfied: pyparsing>=2.0.2 in /usr/local/lib/python3.6/dist-packages (from packaging>=16.8->bokeh) (2.2.2)\n",
            "Requirement already satisfied: MarkupSafe>=0.23 in /usr/local/lib/python3.6/dist-packages (from Jinja2>=2.7->bokeh) (1.0)\n"
          ],
          "name": "stdout"
        }
      ]
    },
    {
      "metadata": {
        "colab": {
          "base_uri": "https://localhost:8080/",
          "height": 47
        },
        "colab_type": "code",
        "id": "x_h2Rs4n5qGF",
        "outputId": "87914400-df5c-43df-86f4-d9fd21249b60"
      },
      "cell_type": "code",
      "source": [
        "import bokeh.plotting as pl\n",
        "import bokeh.models as bm\n",
        "from bokeh.io import output_notebook, show\n",
        "output_notebook()\n",
        "\n",
        "def draw_attention(inp_line, translation, probs):\n",
        "    \"\"\" An intentionally ambiguous function to visualize attention weights \"\"\"\n",
        "    inp_tokens = inp_voc.tokenize(inp_line)\n",
        "    trans_tokens = out_voc.tokenize(translation)\n",
        "    probs = probs[:len(trans_tokens), :len(inp_tokens)]\n",
        "    \n",
        "    fig = pl.figure(x_range=(0, len(inp_tokens)), y_range=(0, len(trans_tokens)),\n",
        "                    x_axis_type=None, y_axis_type=None, tools=[])\n",
        "    fig.image([probs[::-1]], 0, 0, len(inp_tokens), len(trans_tokens))\n",
        "\n",
        "    fig.add_layout(bm.LinearAxis(axis_label='source tokens'), 'above')\n",
        "    fig.xaxis.ticker = np.arange(len(inp_tokens)) + 0.5\n",
        "    fig.xaxis.major_label_overrides = dict(zip(np.arange(len(inp_tokens)) + 0.5, inp_tokens))\n",
        "    fig.xaxis.major_label_orientation = 45\n",
        "\n",
        "    fig.add_layout(bm.LinearAxis(axis_label='translation tokens'), 'left')\n",
        "    fig.yaxis.ticker = np.arange(len(trans_tokens)) + 0.5\n",
        "    fig.yaxis.major_label_overrides = dict(zip(np.arange(len(trans_tokens)) + 0.5, trans_tokens[::-1]))\n",
        "\n",
        "    show(fig)"
      ],
      "execution_count": 77,
      "outputs": [
        {
          "output_type": "display_data",
          "data": {
            "text/html": [
              "\n",
              "    <div class=\"bk-root\">\n",
              "        <a href=\"https://bokeh.pydata.org\" target=\"_blank\" class=\"bk-logo bk-logo-small bk-logo-notebook\"></a>\n",
              "        <span id=\"412c1085-2c58-42b3-92f3-5842ed13d2bd\">Loading BokehJS ...</span>\n",
              "    </div>"
            ]
          },
          "metadata": {
            "tags": []
          }
        },
        {
          "output_type": "display_data",
          "data": {
            "application/javascript": [
              "\n",
              "(function(root) {\n",
              "  function now() {\n",
              "    return new Date();\n",
              "  }\n",
              "\n",
              "  var force = true;\n",
              "\n",
              "  if (typeof (root._bokeh_onload_callbacks) === \"undefined\" || force === true) {\n",
              "    root._bokeh_onload_callbacks = [];\n",
              "    root._bokeh_is_loading = undefined;\n",
              "  }\n",
              "\n",
              "  var JS_MIME_TYPE = 'application/javascript';\n",
              "  var HTML_MIME_TYPE = 'text/html';\n",
              "  var EXEC_MIME_TYPE = 'application/vnd.bokehjs_exec.v0+json';\n",
              "  var CLASS_NAME = 'output_bokeh rendered_html';\n",
              "\n",
              "  /**\n",
              "   * Render data to the DOM node\n",
              "   */\n",
              "  function render(props, node) {\n",
              "    var script = document.createElement(\"script\");\n",
              "    node.appendChild(script);\n",
              "  }\n",
              "\n",
              "  /**\n",
              "   * Handle when an output is cleared or removed\n",
              "   */\n",
              "  function handleClearOutput(event, handle) {\n",
              "    var cell = handle.cell;\n",
              "\n",
              "    var id = cell.output_area._bokeh_element_id;\n",
              "    var server_id = cell.output_area._bokeh_server_id;\n",
              "    // Clean up Bokeh references\n",
              "    if (id != null && id in Bokeh.index) {\n",
              "      Bokeh.index[id].model.document.clear();\n",
              "      delete Bokeh.index[id];\n",
              "    }\n",
              "\n",
              "    if (server_id !== undefined) {\n",
              "      // Clean up Bokeh references\n",
              "      var cmd = \"from bokeh.io.state import curstate; print(curstate().uuid_to_server['\" + server_id + \"'].get_sessions()[0].document.roots[0]._id)\";\n",
              "      cell.notebook.kernel.execute(cmd, {\n",
              "        iopub: {\n",
              "          output: function(msg) {\n",
              "            var id = msg.content.text.trim();\n",
              "            if (id in Bokeh.index) {\n",
              "              Bokeh.index[id].model.document.clear();\n",
              "              delete Bokeh.index[id];\n",
              "            }\n",
              "          }\n",
              "        }\n",
              "      });\n",
              "      // Destroy server and session\n",
              "      var cmd = \"import bokeh.io.notebook as ion; ion.destroy_server('\" + server_id + \"')\";\n",
              "      cell.notebook.kernel.execute(cmd);\n",
              "    }\n",
              "  }\n",
              "\n",
              "  /**\n",
              "   * Handle when a new output is added\n",
              "   */\n",
              "  function handleAddOutput(event, handle) {\n",
              "    var output_area = handle.output_area;\n",
              "    var output = handle.output;\n",
              "\n",
              "    // limit handleAddOutput to display_data with EXEC_MIME_TYPE content only\n",
              "    if ((output.output_type != \"display_data\") || (!output.data.hasOwnProperty(EXEC_MIME_TYPE))) {\n",
              "      return\n",
              "    }\n",
              "\n",
              "    var toinsert = output_area.element.find(\".\" + CLASS_NAME.split(' ')[0]);\n",
              "\n",
              "    if (output.metadata[EXEC_MIME_TYPE][\"id\"] !== undefined) {\n",
              "      toinsert[toinsert.length - 1].firstChild.textContent = output.data[JS_MIME_TYPE];\n",
              "      // store reference to embed id on output_area\n",
              "      output_area._bokeh_element_id = output.metadata[EXEC_MIME_TYPE][\"id\"];\n",
              "    }\n",
              "    if (output.metadata[EXEC_MIME_TYPE][\"server_id\"] !== undefined) {\n",
              "      var bk_div = document.createElement(\"div\");\n",
              "      bk_div.innerHTML = output.data[HTML_MIME_TYPE];\n",
              "      var script_attrs = bk_div.children[0].attributes;\n",
              "      for (var i = 0; i < script_attrs.length; i++) {\n",
              "        toinsert[toinsert.length - 1].firstChild.setAttribute(script_attrs[i].name, script_attrs[i].value);\n",
              "      }\n",
              "      // store reference to server id on output_area\n",
              "      output_area._bokeh_server_id = output.metadata[EXEC_MIME_TYPE][\"server_id\"];\n",
              "    }\n",
              "  }\n",
              "\n",
              "  function register_renderer(events, OutputArea) {\n",
              "\n",
              "    function append_mime(data, metadata, element) {\n",
              "      // create a DOM node to render to\n",
              "      var toinsert = this.create_output_subarea(\n",
              "        metadata,\n",
              "        CLASS_NAME,\n",
              "        EXEC_MIME_TYPE\n",
              "      );\n",
              "      this.keyboard_manager.register_events(toinsert);\n",
              "      // Render to node\n",
              "      var props = {data: data, metadata: metadata[EXEC_MIME_TYPE]};\n",
              "      render(props, toinsert[toinsert.length - 1]);\n",
              "      element.append(toinsert);\n",
              "      return toinsert\n",
              "    }\n",
              "\n",
              "    /* Handle when an output is cleared or removed */\n",
              "    events.on('clear_output.CodeCell', handleClearOutput);\n",
              "    events.on('delete.Cell', handleClearOutput);\n",
              "\n",
              "    /* Handle when a new output is added */\n",
              "    events.on('output_added.OutputArea', handleAddOutput);\n",
              "\n",
              "    /**\n",
              "     * Register the mime type and append_mime function with output_area\n",
              "     */\n",
              "    OutputArea.prototype.register_mime_type(EXEC_MIME_TYPE, append_mime, {\n",
              "      /* Is output safe? */\n",
              "      safe: true,\n",
              "      /* Index of renderer in `output_area.display_order` */\n",
              "      index: 0\n",
              "    });\n",
              "  }\n",
              "\n",
              "  // register the mime type if in Jupyter Notebook environment and previously unregistered\n",
              "  if (root.Jupyter !== undefined) {\n",
              "    var events = require('base/js/events');\n",
              "    var OutputArea = require('notebook/js/outputarea').OutputArea;\n",
              "\n",
              "    if (OutputArea.prototype.mime_types().indexOf(EXEC_MIME_TYPE) == -1) {\n",
              "      register_renderer(events, OutputArea);\n",
              "    }\n",
              "  }\n",
              "\n",
              "  \n",
              "  if (typeof (root._bokeh_timeout) === \"undefined\" || force === true) {\n",
              "    root._bokeh_timeout = Date.now() + 5000;\n",
              "    root._bokeh_failed_load = false;\n",
              "  }\n",
              "\n",
              "  var NB_LOAD_WARNING = {'data': {'text/html':\n",
              "     \"<div style='background-color: #fdd'>\\n\"+\n",
              "     \"<p>\\n\"+\n",
              "     \"BokehJS does not appear to have successfully loaded. If loading BokehJS from CDN, this \\n\"+\n",
              "     \"may be due to a slow or bad network connection. Possible fixes:\\n\"+\n",
              "     \"</p>\\n\"+\n",
              "     \"<ul>\\n\"+\n",
              "     \"<li>re-rerun `output_notebook()` to attempt to load from CDN again, or</li>\\n\"+\n",
              "     \"<li>use INLINE resources instead, as so:</li>\\n\"+\n",
              "     \"</ul>\\n\"+\n",
              "     \"<code>\\n\"+\n",
              "     \"from bokeh.resources import INLINE\\n\"+\n",
              "     \"output_notebook(resources=INLINE)\\n\"+\n",
              "     \"</code>\\n\"+\n",
              "     \"</div>\"}};\n",
              "\n",
              "  function display_loaded() {\n",
              "    var el = document.getElementById(\"412c1085-2c58-42b3-92f3-5842ed13d2bd\");\n",
              "    if (el != null) {\n",
              "      el.textContent = \"BokehJS is loading...\";\n",
              "    }\n",
              "    if (root.Bokeh !== undefined) {\n",
              "      if (el != null) {\n",
              "        el.textContent = \"BokehJS \" + root.Bokeh.version + \" successfully loaded.\";\n",
              "      }\n",
              "    } else if (Date.now() < root._bokeh_timeout) {\n",
              "      setTimeout(display_loaded, 100)\n",
              "    }\n",
              "  }\n",
              "\n",
              "\n",
              "  function run_callbacks() {\n",
              "    try {\n",
              "      root._bokeh_onload_callbacks.forEach(function(callback) { callback() });\n",
              "    }\n",
              "    finally {\n",
              "      delete root._bokeh_onload_callbacks\n",
              "    }\n",
              "    console.info(\"Bokeh: all callbacks have finished\");\n",
              "  }\n",
              "\n",
              "  function load_libs(js_urls, callback) {\n",
              "    root._bokeh_onload_callbacks.push(callback);\n",
              "    if (root._bokeh_is_loading > 0) {\n",
              "      console.log(\"Bokeh: BokehJS is being loaded, scheduling callback at\", now());\n",
              "      return null;\n",
              "    }\n",
              "    if (js_urls == null || js_urls.length === 0) {\n",
              "      run_callbacks();\n",
              "      return null;\n",
              "    }\n",
              "    console.log(\"Bokeh: BokehJS not loaded, scheduling load and callback at\", now());\n",
              "    root._bokeh_is_loading = js_urls.length;\n",
              "    for (var i = 0; i < js_urls.length; i++) {\n",
              "      var url = js_urls[i];\n",
              "      var s = document.createElement('script');\n",
              "      s.src = url;\n",
              "      s.async = false;\n",
              "      s.onreadystatechange = s.onload = function() {\n",
              "        root._bokeh_is_loading--;\n",
              "        if (root._bokeh_is_loading === 0) {\n",
              "          console.log(\"Bokeh: all BokehJS libraries loaded\");\n",
              "          run_callbacks()\n",
              "        }\n",
              "      };\n",
              "      s.onerror = function() {\n",
              "        console.warn(\"failed to load library \" + url);\n",
              "      };\n",
              "      console.log(\"Bokeh: injecting script tag for BokehJS library: \", url);\n",
              "      document.getElementsByTagName(\"head\")[0].appendChild(s);\n",
              "    }\n",
              "  };var element = document.getElementById(\"412c1085-2c58-42b3-92f3-5842ed13d2bd\");\n",
              "  if (element == null) {\n",
              "    console.log(\"Bokeh: ERROR: autoload.js configured with elementid '412c1085-2c58-42b3-92f3-5842ed13d2bd' but no matching script tag was found. \")\n",
              "    return false;\n",
              "  }\n",
              "\n",
              "  var js_urls = [\"https://cdn.pydata.org/bokeh/release/bokeh-0.13.0.min.js\", \"https://cdn.pydata.org/bokeh/release/bokeh-widgets-0.13.0.min.js\", \"https://cdn.pydata.org/bokeh/release/bokeh-tables-0.13.0.min.js\", \"https://cdn.pydata.org/bokeh/release/bokeh-gl-0.13.0.min.js\"];\n",
              "\n",
              "  var inline_js = [\n",
              "    function(Bokeh) {\n",
              "      Bokeh.set_log_level(\"info\");\n",
              "    },\n",
              "    \n",
              "    function(Bokeh) {\n",
              "      \n",
              "    },\n",
              "    function(Bokeh) {\n",
              "      console.log(\"Bokeh: injecting CSS: https://cdn.pydata.org/bokeh/release/bokeh-0.13.0.min.css\");\n",
              "      Bokeh.embed.inject_css(\"https://cdn.pydata.org/bokeh/release/bokeh-0.13.0.min.css\");\n",
              "      console.log(\"Bokeh: injecting CSS: https://cdn.pydata.org/bokeh/release/bokeh-widgets-0.13.0.min.css\");\n",
              "      Bokeh.embed.inject_css(\"https://cdn.pydata.org/bokeh/release/bokeh-widgets-0.13.0.min.css\");\n",
              "      console.log(\"Bokeh: injecting CSS: https://cdn.pydata.org/bokeh/release/bokeh-tables-0.13.0.min.css\");\n",
              "      Bokeh.embed.inject_css(\"https://cdn.pydata.org/bokeh/release/bokeh-tables-0.13.0.min.css\");\n",
              "    }\n",
              "  ];\n",
              "\n",
              "  function run_inline_js() {\n",
              "    \n",
              "    if ((root.Bokeh !== undefined) || (force === true)) {\n",
              "      for (var i = 0; i < inline_js.length; i++) {\n",
              "        inline_js[i].call(root, root.Bokeh);\n",
              "      }if (force === true) {\n",
              "        display_loaded();\n",
              "      }} else if (Date.now() < root._bokeh_timeout) {\n",
              "      setTimeout(run_inline_js, 100);\n",
              "    } else if (!root._bokeh_failed_load) {\n",
              "      console.log(\"Bokeh: BokehJS failed to load within specified timeout.\");\n",
              "      root._bokeh_failed_load = true;\n",
              "    } else if (force !== true) {\n",
              "      var cell = $(document.getElementById(\"412c1085-2c58-42b3-92f3-5842ed13d2bd\")).parents('.cell').data().cell;\n",
              "      cell.output_area.append_execute_result(NB_LOAD_WARNING)\n",
              "    }\n",
              "\n",
              "  }\n",
              "\n",
              "  if (root._bokeh_is_loading === 0) {\n",
              "    console.log(\"Bokeh: BokehJS loaded, going straight to plotting\");\n",
              "    run_inline_js();\n",
              "  } else {\n",
              "    load_libs(js_urls, function() {\n",
              "      console.log(\"Bokeh: BokehJS plotting callback run at\", now());\n",
              "      run_inline_js();\n",
              "    });\n",
              "  }\n",
              "}(window));"
            ],
            "application/vnd.bokehjs_load.v0+json": "\n(function(root) {\n  function now() {\n    return new Date();\n  }\n\n  var force = true;\n\n  if (typeof (root._bokeh_onload_callbacks) === \"undefined\" || force === true) {\n    root._bokeh_onload_callbacks = [];\n    root._bokeh_is_loading = undefined;\n  }\n\n  \n\n  \n  if (typeof (root._bokeh_timeout) === \"undefined\" || force === true) {\n    root._bokeh_timeout = Date.now() + 5000;\n    root._bokeh_failed_load = false;\n  }\n\n  var NB_LOAD_WARNING = {'data': {'text/html':\n     \"<div style='background-color: #fdd'>\\n\"+\n     \"<p>\\n\"+\n     \"BokehJS does not appear to have successfully loaded. If loading BokehJS from CDN, this \\n\"+\n     \"may be due to a slow or bad network connection. Possible fixes:\\n\"+\n     \"</p>\\n\"+\n     \"<ul>\\n\"+\n     \"<li>re-rerun `output_notebook()` to attempt to load from CDN again, or</li>\\n\"+\n     \"<li>use INLINE resources instead, as so:</li>\\n\"+\n     \"</ul>\\n\"+\n     \"<code>\\n\"+\n     \"from bokeh.resources import INLINE\\n\"+\n     \"output_notebook(resources=INLINE)\\n\"+\n     \"</code>\\n\"+\n     \"</div>\"}};\n\n  function display_loaded() {\n    var el = document.getElementById(\"412c1085-2c58-42b3-92f3-5842ed13d2bd\");\n    if (el != null) {\n      el.textContent = \"BokehJS is loading...\";\n    }\n    if (root.Bokeh !== undefined) {\n      if (el != null) {\n        el.textContent = \"BokehJS \" + root.Bokeh.version + \" successfully loaded.\";\n      }\n    } else if (Date.now() < root._bokeh_timeout) {\n      setTimeout(display_loaded, 100)\n    }\n  }\n\n\n  function run_callbacks() {\n    try {\n      root._bokeh_onload_callbacks.forEach(function(callback) { callback() });\n    }\n    finally {\n      delete root._bokeh_onload_callbacks\n    }\n    console.info(\"Bokeh: all callbacks have finished\");\n  }\n\n  function load_libs(js_urls, callback) {\n    root._bokeh_onload_callbacks.push(callback);\n    if (root._bokeh_is_loading > 0) {\n      console.log(\"Bokeh: BokehJS is being loaded, scheduling callback at\", now());\n      return null;\n    }\n    if (js_urls == null || js_urls.length === 0) {\n      run_callbacks();\n      return null;\n    }\n    console.log(\"Bokeh: BokehJS not loaded, scheduling load and callback at\", now());\n    root._bokeh_is_loading = js_urls.length;\n    for (var i = 0; i < js_urls.length; i++) {\n      var url = js_urls[i];\n      var s = document.createElement('script');\n      s.src = url;\n      s.async = false;\n      s.onreadystatechange = s.onload = function() {\n        root._bokeh_is_loading--;\n        if (root._bokeh_is_loading === 0) {\n          console.log(\"Bokeh: all BokehJS libraries loaded\");\n          run_callbacks()\n        }\n      };\n      s.onerror = function() {\n        console.warn(\"failed to load library \" + url);\n      };\n      console.log(\"Bokeh: injecting script tag for BokehJS library: \", url);\n      document.getElementsByTagName(\"head\")[0].appendChild(s);\n    }\n  };var element = document.getElementById(\"412c1085-2c58-42b3-92f3-5842ed13d2bd\");\n  if (element == null) {\n    console.log(\"Bokeh: ERROR: autoload.js configured with elementid '412c1085-2c58-42b3-92f3-5842ed13d2bd' but no matching script tag was found. \")\n    return false;\n  }\n\n  var js_urls = [\"https://cdn.pydata.org/bokeh/release/bokeh-0.13.0.min.js\", \"https://cdn.pydata.org/bokeh/release/bokeh-widgets-0.13.0.min.js\", \"https://cdn.pydata.org/bokeh/release/bokeh-tables-0.13.0.min.js\", \"https://cdn.pydata.org/bokeh/release/bokeh-gl-0.13.0.min.js\"];\n\n  var inline_js = [\n    function(Bokeh) {\n      Bokeh.set_log_level(\"info\");\n    },\n    \n    function(Bokeh) {\n      \n    },\n    function(Bokeh) {\n      console.log(\"Bokeh: injecting CSS: https://cdn.pydata.org/bokeh/release/bokeh-0.13.0.min.css\");\n      Bokeh.embed.inject_css(\"https://cdn.pydata.org/bokeh/release/bokeh-0.13.0.min.css\");\n      console.log(\"Bokeh: injecting CSS: https://cdn.pydata.org/bokeh/release/bokeh-widgets-0.13.0.min.css\");\n      Bokeh.embed.inject_css(\"https://cdn.pydata.org/bokeh/release/bokeh-widgets-0.13.0.min.css\");\n      console.log(\"Bokeh: injecting CSS: https://cdn.pydata.org/bokeh/release/bokeh-tables-0.13.0.min.css\");\n      Bokeh.embed.inject_css(\"https://cdn.pydata.org/bokeh/release/bokeh-tables-0.13.0.min.css\");\n    }\n  ];\n\n  function run_inline_js() {\n    \n    if ((root.Bokeh !== undefined) || (force === true)) {\n      for (var i = 0; i < inline_js.length; i++) {\n        inline_js[i].call(root, root.Bokeh);\n      }if (force === true) {\n        display_loaded();\n      }} else if (Date.now() < root._bokeh_timeout) {\n      setTimeout(run_inline_js, 100);\n    } else if (!root._bokeh_failed_load) {\n      console.log(\"Bokeh: BokehJS failed to load within specified timeout.\");\n      root._bokeh_failed_load = true;\n    } else if (force !== true) {\n      var cell = $(document.getElementById(\"412c1085-2c58-42b3-92f3-5842ed13d2bd\")).parents('.cell').data().cell;\n      cell.output_area.append_execute_result(NB_LOAD_WARNING)\n    }\n\n  }\n\n  if (root._bokeh_is_loading === 0) {\n    console.log(\"Bokeh: BokehJS loaded, going straight to plotting\");\n    run_inline_js();\n  } else {\n    load_libs(js_urls, function() {\n      console.log(\"Bokeh: BokehJS plotting callback run at\", now());\n      run_inline_js();\n    });\n  }\n}(window));"
          },
          "metadata": {
            "tags": []
          }
        }
      ]
    },
    {
      "metadata": {
        "colab": {},
        "colab_type": "code",
        "id": "Z6J079xW5qGI"
      },
      "cell_type": "code",
      "source": [
        "inp = dev_inp[::500]\n",
        "\n",
        "trans, states = model.translate_lines(inp)\n",
        "\n",
        "# select attention probs from model state (you may need to change this for your custom model)\n",
        "attention_probs = np.stack([state[-1] for state in states], axis=1)"
      ],
      "execution_count": 0,
      "outputs": []
    },
    {
      "metadata": {
        "colab": {
          "base_uri": "https://localhost:8080/",
          "height": 3047
        },
        "colab_type": "code",
        "id": "rVe9Vqli5qGP",
        "scrolled": false,
        "outputId": "b396f3a8-bbfe-4c48-ab2a-08d7ad1b66c7"
      },
      "cell_type": "code",
      "source": [
        "output_notebook()\n",
        "for i in range(5):\n",
        "    draw_attention(inp[i], trans[i], attention_probs[i])"
      ],
      "execution_count": 81,
      "outputs": [
        {
          "output_type": "display_data",
          "data": {
            "text/html": [
              "\n",
              "    <div class=\"bk-root\">\n",
              "        <a href=\"https://bokeh.pydata.org\" target=\"_blank\" class=\"bk-logo bk-logo-small bk-logo-notebook\"></a>\n",
              "        <span id=\"2e74e445-97a2-46f2-b533-f44e79fc8bf8\">Loading BokehJS ...</span>\n",
              "    </div>"
            ]
          },
          "metadata": {
            "tags": []
          }
        },
        {
          "output_type": "display_data",
          "data": {
            "application/javascript": [
              "\n",
              "(function(root) {\n",
              "  function now() {\n",
              "    return new Date();\n",
              "  }\n",
              "\n",
              "  var force = true;\n",
              "\n",
              "  if (typeof (root._bokeh_onload_callbacks) === \"undefined\" || force === true) {\n",
              "    root._bokeh_onload_callbacks = [];\n",
              "    root._bokeh_is_loading = undefined;\n",
              "  }\n",
              "\n",
              "  var JS_MIME_TYPE = 'application/javascript';\n",
              "  var HTML_MIME_TYPE = 'text/html';\n",
              "  var EXEC_MIME_TYPE = 'application/vnd.bokehjs_exec.v0+json';\n",
              "  var CLASS_NAME = 'output_bokeh rendered_html';\n",
              "\n",
              "  /**\n",
              "   * Render data to the DOM node\n",
              "   */\n",
              "  function render(props, node) {\n",
              "    var script = document.createElement(\"script\");\n",
              "    node.appendChild(script);\n",
              "  }\n",
              "\n",
              "  /**\n",
              "   * Handle when an output is cleared or removed\n",
              "   */\n",
              "  function handleClearOutput(event, handle) {\n",
              "    var cell = handle.cell;\n",
              "\n",
              "    var id = cell.output_area._bokeh_element_id;\n",
              "    var server_id = cell.output_area._bokeh_server_id;\n",
              "    // Clean up Bokeh references\n",
              "    if (id != null && id in Bokeh.index) {\n",
              "      Bokeh.index[id].model.document.clear();\n",
              "      delete Bokeh.index[id];\n",
              "    }\n",
              "\n",
              "    if (server_id !== undefined) {\n",
              "      // Clean up Bokeh references\n",
              "      var cmd = \"from bokeh.io.state import curstate; print(curstate().uuid_to_server['\" + server_id + \"'].get_sessions()[0].document.roots[0]._id)\";\n",
              "      cell.notebook.kernel.execute(cmd, {\n",
              "        iopub: {\n",
              "          output: function(msg) {\n",
              "            var id = msg.content.text.trim();\n",
              "            if (id in Bokeh.index) {\n",
              "              Bokeh.index[id].model.document.clear();\n",
              "              delete Bokeh.index[id];\n",
              "            }\n",
              "          }\n",
              "        }\n",
              "      });\n",
              "      // Destroy server and session\n",
              "      var cmd = \"import bokeh.io.notebook as ion; ion.destroy_server('\" + server_id + \"')\";\n",
              "      cell.notebook.kernel.execute(cmd);\n",
              "    }\n",
              "  }\n",
              "\n",
              "  /**\n",
              "   * Handle when a new output is added\n",
              "   */\n",
              "  function handleAddOutput(event, handle) {\n",
              "    var output_area = handle.output_area;\n",
              "    var output = handle.output;\n",
              "\n",
              "    // limit handleAddOutput to display_data with EXEC_MIME_TYPE content only\n",
              "    if ((output.output_type != \"display_data\") || (!output.data.hasOwnProperty(EXEC_MIME_TYPE))) {\n",
              "      return\n",
              "    }\n",
              "\n",
              "    var toinsert = output_area.element.find(\".\" + CLASS_NAME.split(' ')[0]);\n",
              "\n",
              "    if (output.metadata[EXEC_MIME_TYPE][\"id\"] !== undefined) {\n",
              "      toinsert[toinsert.length - 1].firstChild.textContent = output.data[JS_MIME_TYPE];\n",
              "      // store reference to embed id on output_area\n",
              "      output_area._bokeh_element_id = output.metadata[EXEC_MIME_TYPE][\"id\"];\n",
              "    }\n",
              "    if (output.metadata[EXEC_MIME_TYPE][\"server_id\"] !== undefined) {\n",
              "      var bk_div = document.createElement(\"div\");\n",
              "      bk_div.innerHTML = output.data[HTML_MIME_TYPE];\n",
              "      var script_attrs = bk_div.children[0].attributes;\n",
              "      for (var i = 0; i < script_attrs.length; i++) {\n",
              "        toinsert[toinsert.length - 1].firstChild.setAttribute(script_attrs[i].name, script_attrs[i].value);\n",
              "      }\n",
              "      // store reference to server id on output_area\n",
              "      output_area._bokeh_server_id = output.metadata[EXEC_MIME_TYPE][\"server_id\"];\n",
              "    }\n",
              "  }\n",
              "\n",
              "  function register_renderer(events, OutputArea) {\n",
              "\n",
              "    function append_mime(data, metadata, element) {\n",
              "      // create a DOM node to render to\n",
              "      var toinsert = this.create_output_subarea(\n",
              "        metadata,\n",
              "        CLASS_NAME,\n",
              "        EXEC_MIME_TYPE\n",
              "      );\n",
              "      this.keyboard_manager.register_events(toinsert);\n",
              "      // Render to node\n",
              "      var props = {data: data, metadata: metadata[EXEC_MIME_TYPE]};\n",
              "      render(props, toinsert[toinsert.length - 1]);\n",
              "      element.append(toinsert);\n",
              "      return toinsert\n",
              "    }\n",
              "\n",
              "    /* Handle when an output is cleared or removed */\n",
              "    events.on('clear_output.CodeCell', handleClearOutput);\n",
              "    events.on('delete.Cell', handleClearOutput);\n",
              "\n",
              "    /* Handle when a new output is added */\n",
              "    events.on('output_added.OutputArea', handleAddOutput);\n",
              "\n",
              "    /**\n",
              "     * Register the mime type and append_mime function with output_area\n",
              "     */\n",
              "    OutputArea.prototype.register_mime_type(EXEC_MIME_TYPE, append_mime, {\n",
              "      /* Is output safe? */\n",
              "      safe: true,\n",
              "      /* Index of renderer in `output_area.display_order` */\n",
              "      index: 0\n",
              "    });\n",
              "  }\n",
              "\n",
              "  // register the mime type if in Jupyter Notebook environment and previously unregistered\n",
              "  if (root.Jupyter !== undefined) {\n",
              "    var events = require('base/js/events');\n",
              "    var OutputArea = require('notebook/js/outputarea').OutputArea;\n",
              "\n",
              "    if (OutputArea.prototype.mime_types().indexOf(EXEC_MIME_TYPE) == -1) {\n",
              "      register_renderer(events, OutputArea);\n",
              "    }\n",
              "  }\n",
              "\n",
              "  \n",
              "  if (typeof (root._bokeh_timeout) === \"undefined\" || force === true) {\n",
              "    root._bokeh_timeout = Date.now() + 5000;\n",
              "    root._bokeh_failed_load = false;\n",
              "  }\n",
              "\n",
              "  var NB_LOAD_WARNING = {'data': {'text/html':\n",
              "     \"<div style='background-color: #fdd'>\\n\"+\n",
              "     \"<p>\\n\"+\n",
              "     \"BokehJS does not appear to have successfully loaded. If loading BokehJS from CDN, this \\n\"+\n",
              "     \"may be due to a slow or bad network connection. Possible fixes:\\n\"+\n",
              "     \"</p>\\n\"+\n",
              "     \"<ul>\\n\"+\n",
              "     \"<li>re-rerun `output_notebook()` to attempt to load from CDN again, or</li>\\n\"+\n",
              "     \"<li>use INLINE resources instead, as so:</li>\\n\"+\n",
              "     \"</ul>\\n\"+\n",
              "     \"<code>\\n\"+\n",
              "     \"from bokeh.resources import INLINE\\n\"+\n",
              "     \"output_notebook(resources=INLINE)\\n\"+\n",
              "     \"</code>\\n\"+\n",
              "     \"</div>\"}};\n",
              "\n",
              "  function display_loaded() {\n",
              "    var el = document.getElementById(\"2e74e445-97a2-46f2-b533-f44e79fc8bf8\");\n",
              "    if (el != null) {\n",
              "      el.textContent = \"BokehJS is loading...\";\n",
              "    }\n",
              "    if (root.Bokeh !== undefined) {\n",
              "      if (el != null) {\n",
              "        el.textContent = \"BokehJS \" + root.Bokeh.version + \" successfully loaded.\";\n",
              "      }\n",
              "    } else if (Date.now() < root._bokeh_timeout) {\n",
              "      setTimeout(display_loaded, 100)\n",
              "    }\n",
              "  }\n",
              "\n",
              "\n",
              "  function run_callbacks() {\n",
              "    try {\n",
              "      root._bokeh_onload_callbacks.forEach(function(callback) { callback() });\n",
              "    }\n",
              "    finally {\n",
              "      delete root._bokeh_onload_callbacks\n",
              "    }\n",
              "    console.info(\"Bokeh: all callbacks have finished\");\n",
              "  }\n",
              "\n",
              "  function load_libs(js_urls, callback) {\n",
              "    root._bokeh_onload_callbacks.push(callback);\n",
              "    if (root._bokeh_is_loading > 0) {\n",
              "      console.log(\"Bokeh: BokehJS is being loaded, scheduling callback at\", now());\n",
              "      return null;\n",
              "    }\n",
              "    if (js_urls == null || js_urls.length === 0) {\n",
              "      run_callbacks();\n",
              "      return null;\n",
              "    }\n",
              "    console.log(\"Bokeh: BokehJS not loaded, scheduling load and callback at\", now());\n",
              "    root._bokeh_is_loading = js_urls.length;\n",
              "    for (var i = 0; i < js_urls.length; i++) {\n",
              "      var url = js_urls[i];\n",
              "      var s = document.createElement('script');\n",
              "      s.src = url;\n",
              "      s.async = false;\n",
              "      s.onreadystatechange = s.onload = function() {\n",
              "        root._bokeh_is_loading--;\n",
              "        if (root._bokeh_is_loading === 0) {\n",
              "          console.log(\"Bokeh: all BokehJS libraries loaded\");\n",
              "          run_callbacks()\n",
              "        }\n",
              "      };\n",
              "      s.onerror = function() {\n",
              "        console.warn(\"failed to load library \" + url);\n",
              "      };\n",
              "      console.log(\"Bokeh: injecting script tag for BokehJS library: \", url);\n",
              "      document.getElementsByTagName(\"head\")[0].appendChild(s);\n",
              "    }\n",
              "  };var element = document.getElementById(\"2e74e445-97a2-46f2-b533-f44e79fc8bf8\");\n",
              "  if (element == null) {\n",
              "    console.log(\"Bokeh: ERROR: autoload.js configured with elementid '2e74e445-97a2-46f2-b533-f44e79fc8bf8' but no matching script tag was found. \")\n",
              "    return false;\n",
              "  }\n",
              "\n",
              "  var js_urls = [\"https://cdn.pydata.org/bokeh/release/bokeh-0.13.0.min.js\", \"https://cdn.pydata.org/bokeh/release/bokeh-widgets-0.13.0.min.js\", \"https://cdn.pydata.org/bokeh/release/bokeh-tables-0.13.0.min.js\", \"https://cdn.pydata.org/bokeh/release/bokeh-gl-0.13.0.min.js\"];\n",
              "\n",
              "  var inline_js = [\n",
              "    function(Bokeh) {\n",
              "      Bokeh.set_log_level(\"info\");\n",
              "    },\n",
              "    \n",
              "    function(Bokeh) {\n",
              "      \n",
              "    },\n",
              "    function(Bokeh) {\n",
              "      console.log(\"Bokeh: injecting CSS: https://cdn.pydata.org/bokeh/release/bokeh-0.13.0.min.css\");\n",
              "      Bokeh.embed.inject_css(\"https://cdn.pydata.org/bokeh/release/bokeh-0.13.0.min.css\");\n",
              "      console.log(\"Bokeh: injecting CSS: https://cdn.pydata.org/bokeh/release/bokeh-widgets-0.13.0.min.css\");\n",
              "      Bokeh.embed.inject_css(\"https://cdn.pydata.org/bokeh/release/bokeh-widgets-0.13.0.min.css\");\n",
              "      console.log(\"Bokeh: injecting CSS: https://cdn.pydata.org/bokeh/release/bokeh-tables-0.13.0.min.css\");\n",
              "      Bokeh.embed.inject_css(\"https://cdn.pydata.org/bokeh/release/bokeh-tables-0.13.0.min.css\");\n",
              "    }\n",
              "  ];\n",
              "\n",
              "  function run_inline_js() {\n",
              "    \n",
              "    if ((root.Bokeh !== undefined) || (force === true)) {\n",
              "      for (var i = 0; i < inline_js.length; i++) {\n",
              "        inline_js[i].call(root, root.Bokeh);\n",
              "      }if (force === true) {\n",
              "        display_loaded();\n",
              "      }} else if (Date.now() < root._bokeh_timeout) {\n",
              "      setTimeout(run_inline_js, 100);\n",
              "    } else if (!root._bokeh_failed_load) {\n",
              "      console.log(\"Bokeh: BokehJS failed to load within specified timeout.\");\n",
              "      root._bokeh_failed_load = true;\n",
              "    } else if (force !== true) {\n",
              "      var cell = $(document.getElementById(\"2e74e445-97a2-46f2-b533-f44e79fc8bf8\")).parents('.cell').data().cell;\n",
              "      cell.output_area.append_execute_result(NB_LOAD_WARNING)\n",
              "    }\n",
              "\n",
              "  }\n",
              "\n",
              "  if (root._bokeh_is_loading === 0) {\n",
              "    console.log(\"Bokeh: BokehJS loaded, going straight to plotting\");\n",
              "    run_inline_js();\n",
              "  } else {\n",
              "    load_libs(js_urls, function() {\n",
              "      console.log(\"Bokeh: BokehJS plotting callback run at\", now());\n",
              "      run_inline_js();\n",
              "    });\n",
              "  }\n",
              "}(window));"
            ],
            "application/vnd.bokehjs_load.v0+json": "\n(function(root) {\n  function now() {\n    return new Date();\n  }\n\n  var force = true;\n\n  if (typeof (root._bokeh_onload_callbacks) === \"undefined\" || force === true) {\n    root._bokeh_onload_callbacks = [];\n    root._bokeh_is_loading = undefined;\n  }\n\n  \n\n  \n  if (typeof (root._bokeh_timeout) === \"undefined\" || force === true) {\n    root._bokeh_timeout = Date.now() + 5000;\n    root._bokeh_failed_load = false;\n  }\n\n  var NB_LOAD_WARNING = {'data': {'text/html':\n     \"<div style='background-color: #fdd'>\\n\"+\n     \"<p>\\n\"+\n     \"BokehJS does not appear to have successfully loaded. If loading BokehJS from CDN, this \\n\"+\n     \"may be due to a slow or bad network connection. Possible fixes:\\n\"+\n     \"</p>\\n\"+\n     \"<ul>\\n\"+\n     \"<li>re-rerun `output_notebook()` to attempt to load from CDN again, or</li>\\n\"+\n     \"<li>use INLINE resources instead, as so:</li>\\n\"+\n     \"</ul>\\n\"+\n     \"<code>\\n\"+\n     \"from bokeh.resources import INLINE\\n\"+\n     \"output_notebook(resources=INLINE)\\n\"+\n     \"</code>\\n\"+\n     \"</div>\"}};\n\n  function display_loaded() {\n    var el = document.getElementById(\"2e74e445-97a2-46f2-b533-f44e79fc8bf8\");\n    if (el != null) {\n      el.textContent = \"BokehJS is loading...\";\n    }\n    if (root.Bokeh !== undefined) {\n      if (el != null) {\n        el.textContent = \"BokehJS \" + root.Bokeh.version + \" successfully loaded.\";\n      }\n    } else if (Date.now() < root._bokeh_timeout) {\n      setTimeout(display_loaded, 100)\n    }\n  }\n\n\n  function run_callbacks() {\n    try {\n      root._bokeh_onload_callbacks.forEach(function(callback) { callback() });\n    }\n    finally {\n      delete root._bokeh_onload_callbacks\n    }\n    console.info(\"Bokeh: all callbacks have finished\");\n  }\n\n  function load_libs(js_urls, callback) {\n    root._bokeh_onload_callbacks.push(callback);\n    if (root._bokeh_is_loading > 0) {\n      console.log(\"Bokeh: BokehJS is being loaded, scheduling callback at\", now());\n      return null;\n    }\n    if (js_urls == null || js_urls.length === 0) {\n      run_callbacks();\n      return null;\n    }\n    console.log(\"Bokeh: BokehJS not loaded, scheduling load and callback at\", now());\n    root._bokeh_is_loading = js_urls.length;\n    for (var i = 0; i < js_urls.length; i++) {\n      var url = js_urls[i];\n      var s = document.createElement('script');\n      s.src = url;\n      s.async = false;\n      s.onreadystatechange = s.onload = function() {\n        root._bokeh_is_loading--;\n        if (root._bokeh_is_loading === 0) {\n          console.log(\"Bokeh: all BokehJS libraries loaded\");\n          run_callbacks()\n        }\n      };\n      s.onerror = function() {\n        console.warn(\"failed to load library \" + url);\n      };\n      console.log(\"Bokeh: injecting script tag for BokehJS library: \", url);\n      document.getElementsByTagName(\"head\")[0].appendChild(s);\n    }\n  };var element = document.getElementById(\"2e74e445-97a2-46f2-b533-f44e79fc8bf8\");\n  if (element == null) {\n    console.log(\"Bokeh: ERROR: autoload.js configured with elementid '2e74e445-97a2-46f2-b533-f44e79fc8bf8' but no matching script tag was found. \")\n    return false;\n  }\n\n  var js_urls = [\"https://cdn.pydata.org/bokeh/release/bokeh-0.13.0.min.js\", \"https://cdn.pydata.org/bokeh/release/bokeh-widgets-0.13.0.min.js\", \"https://cdn.pydata.org/bokeh/release/bokeh-tables-0.13.0.min.js\", \"https://cdn.pydata.org/bokeh/release/bokeh-gl-0.13.0.min.js\"];\n\n  var inline_js = [\n    function(Bokeh) {\n      Bokeh.set_log_level(\"info\");\n    },\n    \n    function(Bokeh) {\n      \n    },\n    function(Bokeh) {\n      console.log(\"Bokeh: injecting CSS: https://cdn.pydata.org/bokeh/release/bokeh-0.13.0.min.css\");\n      Bokeh.embed.inject_css(\"https://cdn.pydata.org/bokeh/release/bokeh-0.13.0.min.css\");\n      console.log(\"Bokeh: injecting CSS: https://cdn.pydata.org/bokeh/release/bokeh-widgets-0.13.0.min.css\");\n      Bokeh.embed.inject_css(\"https://cdn.pydata.org/bokeh/release/bokeh-widgets-0.13.0.min.css\");\n      console.log(\"Bokeh: injecting CSS: https://cdn.pydata.org/bokeh/release/bokeh-tables-0.13.0.min.css\");\n      Bokeh.embed.inject_css(\"https://cdn.pydata.org/bokeh/release/bokeh-tables-0.13.0.min.css\");\n    }\n  ];\n\n  function run_inline_js() {\n    \n    if ((root.Bokeh !== undefined) || (force === true)) {\n      for (var i = 0; i < inline_js.length; i++) {\n        inline_js[i].call(root, root.Bokeh);\n      }if (force === true) {\n        display_loaded();\n      }} else if (Date.now() < root._bokeh_timeout) {\n      setTimeout(run_inline_js, 100);\n    } else if (!root._bokeh_failed_load) {\n      console.log(\"Bokeh: BokehJS failed to load within specified timeout.\");\n      root._bokeh_failed_load = true;\n    } else if (force !== true) {\n      var cell = $(document.getElementById(\"2e74e445-97a2-46f2-b533-f44e79fc8bf8\")).parents('.cell').data().cell;\n      cell.output_area.append_execute_result(NB_LOAD_WARNING)\n    }\n\n  }\n\n  if (root._bokeh_is_loading === 0) {\n    console.log(\"Bokeh: BokehJS loaded, going straight to plotting\");\n    run_inline_js();\n  } else {\n    load_libs(js_urls, function() {\n      console.log(\"Bokeh: BokehJS plotting callback run at\", now());\n      run_inline_js();\n    });\n  }\n}(window));"
          },
          "metadata": {
            "tags": []
          }
        },
        {
          "output_type": "display_data",
          "data": {
            "text/html": [
              "\n",
              "\n",
              "\n",
              "\n",
              "\n",
              "\n",
              "  <div class=\"bk-root\" id=\"7d1d1fd1-0ff1-4405-affd-a2343896d35b\"></div>\n"
            ]
          },
          "metadata": {
            "tags": []
          }
        },
        {
          "output_type": "display_data",
          "data": {
            "application/javascript": [
              "(function(root) {\n",
              "  function embed_document(root) {\n",
              "    \n",
              "  var docs_json = {\"f1779fbd-f508-46b4-824e-b38898f81eff\":{\"roots\":{\"references\":[{\"attributes\":{},\"id\":\"3dbb2611-a6c1-41da-aff7-e9675827e597\",\"type\":\"LinearScale\"},{\"attributes\":{},\"id\":\"11916d8d-bf7a-406b-9550-72033b067568\",\"type\":\"BasicTickFormatter\"},{\"attributes\":{},\"id\":\"f490f06e-07cc-40ad-8758-4e8b4a6f0bf2\",\"type\":\"LinearScale\"},{\"attributes\":{\"data_source\":{\"id\":\"7e2f400a-3d97-4bdc-afea-c3d1f27f568a\",\"type\":\"ColumnDataSource\"},\"glyph\":{\"id\":\"8d7aedd9-dee8-425d-8ae7-a84caac10db7\",\"type\":\"Image\"},\"hover_glyph\":null,\"muted_glyph\":null,\"nonselection_glyph\":{\"id\":\"c121011b-20cd-4a17-a424-a7937d39d0e4\",\"type\":\"Image\"},\"selection_glyph\":null,\"view\":{\"id\":\"571b504b-9bfc-4c5d-9264-381cf6294486\",\"type\":\"CDSView\"}},\"id\":\"6f3417b5-1422-41d6-bad9-cd6f1b841ff4\",\"type\":\"GlyphRenderer\"},{\"attributes\":{\"plot\":null,\"text\":\"\"},\"id\":\"693335b3-b325-4e78-906f-3802400d5e77\",\"type\":\"Title\"},{\"attributes\":{\"color_mapper\":{\"id\":\"8b2fb036-74c3-4854-8c35-dfa4f510368f\",\"type\":\"LinearColorMapper\"},\"dh\":{\"units\":\"data\",\"value\":13},\"dw\":{\"units\":\"data\",\"value\":11},\"image\":{\"field\":\"image\"},\"x\":{\"value\":0},\"y\":{\"value\":0}},\"id\":\"8d7aedd9-dee8-425d-8ae7-a84caac10db7\",\"type\":\"Image\"},{\"attributes\":{\"axis_label\":\"translation tokens\",\"formatter\":{\"id\":\"f8e65f6e-2b2e-44cb-a00b-5e468d9d2c91\",\"type\":\"BasicTickFormatter\"},\"major_label_overrides\":{\"0.5\":\"_EOS_\",\"1.5\":\".\",\"10.5\":\"can\",\"11.5\":\"guests\",\"12.5\":\"_BOS_\",\"2.5\":\"property\",\"3.5\":\"the\",\"4.5\":\"at\",\"5.5\":\"kitchen\",\"6.5\":\"shared\",\"7.5\":\"the\",\"8.5\":\"in\",\"9.5\":\"cook\"},\"plot\":{\"id\":\"e1a1e38a-4084-4259-b777-55642ae200ba\",\"subtype\":\"Figure\",\"type\":\"Plot\"},\"ticker\":{\"id\":\"3b546113-3dcc-4999-932e-77423039a65b\",\"type\":\"FixedTicker\"}},\"id\":\"363fe634-039c-448d-8d7a-c63f5fc657df\",\"type\":\"LinearAxis\"},{\"attributes\":{\"color_mapper\":{\"id\":\"61ab9fc2-324e-4e1b-98c7-246a0f14a0c0\",\"type\":\"LinearColorMapper\"},\"dh\":{\"units\":\"data\",\"value\":13},\"dw\":{\"units\":\"data\",\"value\":11},\"image\":{\"field\":\"image\"},\"x\":{\"value\":0},\"y\":{\"value\":0}},\"id\":\"c121011b-20cd-4a17-a424-a7937d39d0e4\",\"type\":\"Image\"},{\"attributes\":{\"ticks\":[0.5,1.5,2.5,3.5,4.5,5.5,6.5,7.5,8.5,9.5,10.5,11.5,12.5]},\"id\":\"3b546113-3dcc-4999-932e-77423039a65b\",\"type\":\"FixedTicker\"},{\"attributes\":{\"palette\":[\"#000000\",\"#252525\",\"#525252\",\"#737373\",\"#969696\",\"#bdbdbd\",\"#d9d9d9\",\"#f0f0f0\",\"#ffffff\"]},\"id\":\"8b2fb036-74c3-4854-8c35-dfa4f510368f\",\"type\":\"LinearColorMapper\"},{\"attributes\":{\"above\":[{\"id\":\"b53f71bd-ce9c-4c5a-a7ff-a1203b1ea98e\",\"type\":\"LinearAxis\"}],\"left\":[{\"id\":\"363fe634-039c-448d-8d7a-c63f5fc657df\",\"type\":\"LinearAxis\"}],\"renderers\":[{\"id\":\"6f3417b5-1422-41d6-bad9-cd6f1b841ff4\",\"type\":\"GlyphRenderer\"},{\"id\":\"b53f71bd-ce9c-4c5a-a7ff-a1203b1ea98e\",\"type\":\"LinearAxis\"},{\"id\":\"363fe634-039c-448d-8d7a-c63f5fc657df\",\"type\":\"LinearAxis\"}],\"title\":{\"id\":\"693335b3-b325-4e78-906f-3802400d5e77\",\"type\":\"Title\"},\"toolbar\":{\"id\":\"c5cc58bf-16e2-4c7e-9eeb-e57d60aa3b67\",\"type\":\"Toolbar\"},\"x_range\":{\"id\":\"549b1d96-b769-4a67-8ff1-7ffa3e888a8e\",\"type\":\"Range1d\"},\"x_scale\":{\"id\":\"3dbb2611-a6c1-41da-aff7-e9675827e597\",\"type\":\"LinearScale\"},\"y_range\":{\"id\":\"c962b5f5-2737-4db4-b9d8-b0fb54ce8363\",\"type\":\"Range1d\"},\"y_scale\":{\"id\":\"f490f06e-07cc-40ad-8758-4e8b4a6f0bf2\",\"type\":\"LinearScale\"}},\"id\":\"e1a1e38a-4084-4259-b777-55642ae200ba\",\"subtype\":\"Figure\",\"type\":\"Plot\"},{\"attributes\":{\"callback\":null,\"end\":11},\"id\":\"549b1d96-b769-4a67-8ff1-7ffa3e888a8e\",\"type\":\"Range1d\"},{\"attributes\":{\"callback\":null,\"end\":13},\"id\":\"c962b5f5-2737-4db4-b9d8-b0fb54ce8363\",\"type\":\"Range1d\"},{\"attributes\":{},\"id\":\"c23a2753-35bb-4dac-b6cc-981bdbafb44b\",\"type\":\"Selection\"},{\"attributes\":{\"active_drag\":\"auto\",\"active_inspect\":\"auto\",\"active_multi\":null,\"active_scroll\":\"auto\",\"active_tap\":\"auto\"},\"id\":\"c5cc58bf-16e2-4c7e-9eeb-e57d60aa3b67\",\"type\":\"Toolbar\"},{\"attributes\":{\"source\":{\"id\":\"7e2f400a-3d97-4bdc-afea-c3d1f27f568a\",\"type\":\"ColumnDataSource\"}},\"id\":\"571b504b-9bfc-4c5d-9264-381cf6294486\",\"type\":\"CDSView\"},{\"attributes\":{},\"id\":\"09521ca8-b99b-4179-9da5-98f7af72d514\",\"type\":\"UnionRenderers\"},{\"attributes\":{},\"id\":\"f8e65f6e-2b2e-44cb-a00b-5e468d9d2c91\",\"type\":\"BasicTickFormatter\"},{\"attributes\":{\"ticks\":[0.5,1.5,2.5,3.5,4.5,5.5,6.5,7.5,8.5,9.5,10.5]},\"id\":\"b4c04775-15d8-4814-b47b-c114e2211472\",\"type\":\"FixedTicker\"},{\"attributes\":{\"axis_label\":\"source tokens\",\"formatter\":{\"id\":\"11916d8d-bf7a-406b-9550-72033b067568\",\"type\":\"BasicTickFormatter\"},\"major_label_orientation\":45,\"major_label_overrides\":{\"0.5\":\"_BOS_\",\"1.5\":\"\\u0432\",\"10.5\":\"_EOS_\",\"2.5\":\"\\u0440\\u0430\\u0441\\u043f\\u043e\\u0440\\u044f\\u0436\\u0435\\u043d\\u0438\\u0438\",\"3.5\":\"\\u0433\\u043e\\u0441\\u0442\\u0435\\u0439\",\"4.5\":\"\\u043e\\u0431\\u0449\\u0430\\u044f\",\"5.5\":\"\\u043a\\u0443\\u0445\\u043d\\u044f\",\"6.5\":\"\\u0438\",\"7.5\":\"\\u043e\\u0431\\u0449\\u0430\\u044f\",\"8.5\":\"\\u0433\\u043e\\u0441\\u0442\\u0438\\u043d\\u0430\\u044f\",\"9.5\":\".\"},\"plot\":{\"id\":\"e1a1e38a-4084-4259-b777-55642ae200ba\",\"subtype\":\"Figure\",\"type\":\"Plot\"},\"ticker\":{\"id\":\"b4c04775-15d8-4814-b47b-c114e2211472\",\"type\":\"FixedTicker\"}},\"id\":\"b53f71bd-ce9c-4c5a-a7ff-a1203b1ea98e\",\"type\":\"LinearAxis\"},{\"attributes\":{\"callback\":null,\"data\":{\"image\":[{\"__ndarray__\":\"ecEZPZA7rjxC4bA8g4iTPL2n9DweaEc9dfN/PXpjgz7NZcI+h/iMPSgBYz220yc+DknqPeU+sT2spXE9PJcvPULyBj0WhA89rTBxPi3QQT4JjbY8KkiVPEEAPD4onCM+SXYcPtee5j0dDQg+TcCTPV9nTT3r/l09M4GEPadkDzzuAgo8t00EPjELvD2k9JI9Ac0ePSR23zybgsY8tV7SPKS+iT4ZgHs+7iIsPUm4DT2VE1g+Op4HPo/5pz1eVAs9npfWPK++kzwyLMs8jyOCPv+SPD5cPpg8mKFuPOWFFT4q+OU9cm/uPee5oD0a/xg+OQcgPmVhAD73YI09asETPW24rDuMYK87HX+jPX0NmT2ojb09kpWpPW8GIj7uv0I+rJd9PhIQGj0PdMg8SUzMO+ekujsplFo95LxJPXtnij3PC6M9pLV0PmD4nT4LCgw+wIeSPP2czjzcE1M8U70iPKCQhT0QVoo9vEq/PVyE5T2I4Dc+WsWBPnJ4Fj5wuSQ9l5TfPPG+8jvwUOE7kOKhPKCayjzYX1w9vi/UPR3s4D7/goM+RlKmPRDtJTzGtQw8qGd6OvFIijobzYU6k7HMOuoIrDvDr9Y8O0WYPrDg8j5WPi4+gAfPO+/lJjyKT4U7FmBiO/xjyj1hxOs9SlkPPohNDz7NdDI+hOTePU3Lsj2JQ1w9ffAYPQLEqTwulsM8/GPKPWHE6z1KWQ8+iE0PPs10Mj6E5N49TcuyPYlDXD198Bg9AsSpPC6Wwzw=\",\"dtype\":\"float32\",\"shape\":[13,11]}]},\"selected\":{\"id\":\"c23a2753-35bb-4dac-b6cc-981bdbafb44b\",\"type\":\"Selection\"},\"selection_policy\":{\"id\":\"09521ca8-b99b-4179-9da5-98f7af72d514\",\"type\":\"UnionRenderers\"}},\"id\":\"7e2f400a-3d97-4bdc-afea-c3d1f27f568a\",\"type\":\"ColumnDataSource\"},{\"attributes\":{\"palette\":[\"#000000\",\"#252525\",\"#525252\",\"#737373\",\"#969696\",\"#bdbdbd\",\"#d9d9d9\",\"#f0f0f0\",\"#ffffff\"]},\"id\":\"61ab9fc2-324e-4e1b-98c7-246a0f14a0c0\",\"type\":\"LinearColorMapper\"}],\"root_ids\":[\"e1a1e38a-4084-4259-b777-55642ae200ba\"]},\"title\":\"Bokeh Application\",\"version\":\"0.13.0\"}};\n",
              "  var render_items = [{\"docid\":\"f1779fbd-f508-46b4-824e-b38898f81eff\",\"roots\":{\"e1a1e38a-4084-4259-b777-55642ae200ba\":\"7d1d1fd1-0ff1-4405-affd-a2343896d35b\"}}];\n",
              "  root.Bokeh.embed.embed_items_notebook(docs_json, render_items);\n",
              "\n",
              "  }\n",
              "  if (root.Bokeh !== undefined) {\n",
              "    embed_document(root);\n",
              "  } else {\n",
              "    var attempts = 0;\n",
              "    var timer = setInterval(function(root) {\n",
              "      if (root.Bokeh !== undefined) {\n",
              "        embed_document(root);\n",
              "        clearInterval(timer);\n",
              "      }\n",
              "      attempts++;\n",
              "      if (attempts > 100) {\n",
              "        console.log(\"Bokeh: ERROR: Unable to run BokehJS code because BokehJS library is missing\")\n",
              "        clearInterval(timer);\n",
              "      }\n",
              "    }, 10, root)\n",
              "  }\n",
              "})(window);"
            ],
            "application/vnd.bokehjs_exec.v0+json": ""
          },
          "metadata": {
            "tags": [],
            "application/vnd.bokehjs_exec.v0+json": {
              "id": "e1a1e38a-4084-4259-b777-55642ae200ba"
            }
          }
        },
        {
          "output_type": "display_data",
          "data": {
            "text/html": [
              "\n",
              "\n",
              "\n",
              "\n",
              "\n",
              "\n",
              "  <div class=\"bk-root\" id=\"ec09e32d-2686-43ac-9601-35c3df29b8c1\"></div>\n"
            ]
          },
          "metadata": {
            "tags": []
          }
        },
        {
          "output_type": "display_data",
          "data": {
            "application/javascript": [
              "(function(root) {\n",
              "  function embed_document(root) {\n",
              "    \n",
              "  var docs_json = {\"f8f5a0b5-607f-4b67-a918-1da67d8da411\":{\"roots\":{\"references\":[{\"attributes\":{\"color_mapper\":{\"id\":\"e556037b-6bf8-4d52-913c-6a0cee957f7a\",\"type\":\"LinearColorMapper\"},\"dh\":{\"units\":\"data\",\"value\":12},\"dw\":{\"units\":\"data\",\"value\":15},\"image\":{\"field\":\"image\"},\"x\":{\"value\":0},\"y\":{\"value\":0}},\"id\":\"e304bba0-e64d-4693-aa60-aba3a85de496\",\"type\":\"Image\"},{\"attributes\":{\"callback\":null,\"data\":{\"image\":[{\"__ndarray__\":\"7/XgPde5TT1g0sk8MiugPN/QPDw12Cc7bg7MOv9sojvRN1479WVvPFVhCz34uo4+0PqCPsFg9D3Mto09LKVSPjlalD2XIdM88vSrPG4DYTz+nzE7nbb1OsYHRTseSc87V+2IPFMDGz0fdGY+sAdMPmxf3T1DwXc9MibHPT1KQj0A6KU8N06CPErJCDyHGLY7siHIO367vDsdkGY8bk6nPAzMKj3lJ4o+vuqSPjH40j11IGs9RwJYPWXo+TxlXGg8F50ePNxGgDtAe1k7vjGXO+xB0DvZBl48Ln1OPRCHSj1hsJw+ataYPnF3qD14iJg9GdXXPT2Fdz3t8s085BivPCy7FjwAyBo7awGNO0URKzwaLko8FglLPbQQJD7Lk689ev+dPeuxJj5RsVo+5Js0PI2a0jtFwGc74Hk8PLhLqjzPe588XkzVPFkJZz2vxts9sinrPTChgD5Yhqo92iysPdM3AD79k6E9pWRCO+0Z/Dqjgto6I5UoPPU+szwzk4Y9PizyPe2n4j66OTE+/xQpPI6luT37f1M816qiPF1jsjwYHMY7E1/yOWRMsjmrcJk5OHvfOncIuzsasbo8834YPeF3Dz9bfs49TvtxPDBqTD6H+947ROIGPO+l2jyWCGc87TgVPTGXJj3nBGs9hdLKPZlW7T0CgFs+tV9IPht49z01bZo96ZmIPAlYYDxlqpw7dI94O+FVPTuoiSM7+WHuPNkf1TyHNNY8fDYDPYHPTD1IHTk+JlwUPi2DRj6ny909guMKPf/W4T2d4T48PNMkPIFuxzxjvpg8Y7EMPPr3JjwYVTo81zQzPICqTTyiEls+S66+PovYpj2j2vM9bE8LPWOz6jzgGF09GpT/POWD4TveRZs7Y7EMPPr3JjwYVTo81zQzPICqTTyiEls+S66+PovYpj2j2vM9bE8LPWOz6jzgGF09GpT/POWD4TveRZs7\",\"dtype\":\"float32\",\"shape\":[12,15]}]},\"selected\":{\"id\":\"6bcec521-9d4d-4420-bc2a-04b83c62602c\",\"type\":\"Selection\"},\"selection_policy\":{\"id\":\"a1ccbc2d-3cf5-4594-9502-cce1c2e83d2e\",\"type\":\"UnionRenderers\"}},\"id\":\"0608bf35-a569-4872-9ff9-90342aaf1fac\",\"type\":\"ColumnDataSource\"},{\"attributes\":{\"callback\":null,\"end\":15},\"id\":\"e0fc6807-50f7-4693-bffd-eeb5c41c6840\",\"type\":\"Range1d\"},{\"attributes\":{\"axis_label\":\"source tokens\",\"formatter\":{\"id\":\"d5687eca-5e49-44fd-9dd9-79a2b5681408\",\"type\":\"BasicTickFormatter\"},\"major_label_orientation\":45,\"major_label_overrides\":{\"0.5\":\"_BOS_\",\"1.5\":\"\\u043a\\u0440\\u043e\\u043c\\u0435\",\"10.5\":\"\\u0438\",\"11.5\":\"\\u0431\\u0435\\u0441\\u043f\\u043b\\u0430\\u0442\\u043d\\u0430\\u044f\",\"12.5\":\"\\u043f\\u0430\\u0440\\u043a\\u043e\\u0432\\u043a\\u0430\",\"13.5\":\".\",\"14.5\":\"_EOS_\",\"2.5\":\"\\u0442\\u043e\\u0433\\u043e\",\"3.5\":\",\",\"4.5\":\"\\u043f\\u0440\\u0435\\u0434\\u043e\\u0441\\u0442\\u0430\\u0432\\u043b\\u044f\\u0435\\u0442\\u0441\\u044f\",\"5.5\":\"\\u043f\\u0440\\u043e\\u043a\\u0430\\u0442\",\"6.5\":\"\\u0432\\u0435\\u043b\\u043e\\u0441\\u0438\\u043f\\u0435\\u0434\\u043e\\u0432\",\"7.5\":\",\",\"8.5\":\"\\u0443\\u0441\\u043b\\u0443\\u0433\\u0438\",\"9.5\":\"\\u0442\\u0440\\u0430\\u043d\\u0441\\u0444\\u0435\\u0440\\u0430\"},\"plot\":{\"id\":\"dbe082cd-1c82-42c9-8aad-5873bb12a969\",\"subtype\":\"Figure\",\"type\":\"Plot\"},\"ticker\":{\"id\":\"3c4ea087-0a8c-41c8-b258-f947740f742a\",\"type\":\"FixedTicker\"}},\"id\":\"bcab29f0-4ae3-494a-ba05-9ad362f36ee5\",\"type\":\"LinearAxis\"},{\"attributes\":{},\"id\":\"a1ccbc2d-3cf5-4594-9502-cce1c2e83d2e\",\"type\":\"UnionRenderers\"},{\"attributes\":{},\"id\":\"40cf76da-b4ad-4407-89fc-5683596845d7\",\"type\":\"LinearScale\"},{\"attributes\":{},\"id\":\"46621755-2da0-4a63-af39-3f1377624950\",\"type\":\"LinearScale\"},{\"attributes\":{\"color_mapper\":{\"id\":\"fd9ac141-f82d-4a7b-b2bb-00b31bae873f\",\"type\":\"LinearColorMapper\"},\"dh\":{\"units\":\"data\",\"value\":12},\"dw\":{\"units\":\"data\",\"value\":15},\"image\":{\"field\":\"image\"},\"x\":{\"value\":0},\"y\":{\"value\":0}},\"id\":\"61d87275-38df-4f35-bd26-86d981a5da1b\",\"type\":\"Image\"},{\"attributes\":{},\"id\":\"4c2fbc4f-14a5-40e3-9aaf-d1733d47ca22\",\"type\":\"BasicTickFormatter\"},{\"attributes\":{\"above\":[{\"id\":\"bcab29f0-4ae3-494a-ba05-9ad362f36ee5\",\"type\":\"LinearAxis\"}],\"left\":[{\"id\":\"09545d73-124c-4a88-8d91-7fdc4bf115e5\",\"type\":\"LinearAxis\"}],\"renderers\":[{\"id\":\"89988403-46aa-449a-9af6-8ead22b540e4\",\"type\":\"GlyphRenderer\"},{\"id\":\"bcab29f0-4ae3-494a-ba05-9ad362f36ee5\",\"type\":\"LinearAxis\"},{\"id\":\"09545d73-124c-4a88-8d91-7fdc4bf115e5\",\"type\":\"LinearAxis\"}],\"title\":{\"id\":\"1e5cb53d-43a8-48d7-85a1-d938021ef66a\",\"type\":\"Title\"},\"toolbar\":{\"id\":\"87a25b1d-7ecc-4366-a80f-d0c4673e6061\",\"type\":\"Toolbar\"},\"x_range\":{\"id\":\"e0fc6807-50f7-4693-bffd-eeb5c41c6840\",\"type\":\"Range1d\"},\"x_scale\":{\"id\":\"46621755-2da0-4a63-af39-3f1377624950\",\"type\":\"LinearScale\"},\"y_range\":{\"id\":\"a2f6674e-c8cd-43a1-aa09-fc2ed99772c3\",\"type\":\"Range1d\"},\"y_scale\":{\"id\":\"40cf76da-b4ad-4407-89fc-5683596845d7\",\"type\":\"LinearScale\"}},\"id\":\"dbe082cd-1c82-42c9-8aad-5873bb12a969\",\"subtype\":\"Figure\",\"type\":\"Plot\"},{\"attributes\":{\"axis_label\":\"translation tokens\",\"formatter\":{\"id\":\"4c2fbc4f-14a5-40e3-9aaf-d1733d47ca22\",\"type\":\"BasicTickFormatter\"},\"major_label_overrides\":{\"0.5\":\"_EOS_\",\"1.5\":\".\",\"10.5\":\"the\",\"11.5\":\"_BOS_\",\"2.5\":\"parking\",\"3.5\":\"free\",\"4.5\":\"and\",\"5.5\":\"rental\",\"6.5\":\"bike\",\"7.5\":\"free\",\"8.5\":\"offers\",\"9.5\":\"property\"},\"plot\":{\"id\":\"dbe082cd-1c82-42c9-8aad-5873bb12a969\",\"subtype\":\"Figure\",\"type\":\"Plot\"},\"ticker\":{\"id\":\"4b8ac9cc-49fb-4a07-8d50-d3b8e9101aff\",\"type\":\"FixedTicker\"}},\"id\":\"09545d73-124c-4a88-8d91-7fdc4bf115e5\",\"type\":\"LinearAxis\"},{\"attributes\":{},\"id\":\"6bcec521-9d4d-4420-bc2a-04b83c62602c\",\"type\":\"Selection\"},{\"attributes\":{\"ticks\":[0.5,1.5,2.5,3.5,4.5,5.5,6.5,7.5,8.5,9.5,10.5,11.5,12.5,13.5,14.5]},\"id\":\"3c4ea087-0a8c-41c8-b258-f947740f742a\",\"type\":\"FixedTicker\"},{\"attributes\":{\"active_drag\":\"auto\",\"active_inspect\":\"auto\",\"active_multi\":null,\"active_scroll\":\"auto\",\"active_tap\":\"auto\"},\"id\":\"87a25b1d-7ecc-4366-a80f-d0c4673e6061\",\"type\":\"Toolbar\"},{\"attributes\":{\"palette\":[\"#000000\",\"#252525\",\"#525252\",\"#737373\",\"#969696\",\"#bdbdbd\",\"#d9d9d9\",\"#f0f0f0\",\"#ffffff\"]},\"id\":\"e556037b-6bf8-4d52-913c-6a0cee957f7a\",\"type\":\"LinearColorMapper\"},{\"attributes\":{\"source\":{\"id\":\"0608bf35-a569-4872-9ff9-90342aaf1fac\",\"type\":\"ColumnDataSource\"}},\"id\":\"7bab2e13-7cd0-4f93-b108-f74c3ea7ec35\",\"type\":\"CDSView\"},{\"attributes\":{\"ticks\":[0.5,1.5,2.5,3.5,4.5,5.5,6.5,7.5,8.5,9.5,10.5,11.5]},\"id\":\"4b8ac9cc-49fb-4a07-8d50-d3b8e9101aff\",\"type\":\"FixedTicker\"},{\"attributes\":{\"plot\":null,\"text\":\"\"},\"id\":\"1e5cb53d-43a8-48d7-85a1-d938021ef66a\",\"type\":\"Title\"},{\"attributes\":{\"data_source\":{\"id\":\"0608bf35-a569-4872-9ff9-90342aaf1fac\",\"type\":\"ColumnDataSource\"},\"glyph\":{\"id\":\"61d87275-38df-4f35-bd26-86d981a5da1b\",\"type\":\"Image\"},\"hover_glyph\":null,\"muted_glyph\":null,\"nonselection_glyph\":{\"id\":\"e304bba0-e64d-4693-aa60-aba3a85de496\",\"type\":\"Image\"},\"selection_glyph\":null,\"view\":{\"id\":\"7bab2e13-7cd0-4f93-b108-f74c3ea7ec35\",\"type\":\"CDSView\"}},\"id\":\"89988403-46aa-449a-9af6-8ead22b540e4\",\"type\":\"GlyphRenderer\"},{\"attributes\":{\"palette\":[\"#000000\",\"#252525\",\"#525252\",\"#737373\",\"#969696\",\"#bdbdbd\",\"#d9d9d9\",\"#f0f0f0\",\"#ffffff\"]},\"id\":\"fd9ac141-f82d-4a7b-b2bb-00b31bae873f\",\"type\":\"LinearColorMapper\"},{\"attributes\":{},\"id\":\"d5687eca-5e49-44fd-9dd9-79a2b5681408\",\"type\":\"BasicTickFormatter\"},{\"attributes\":{\"callback\":null,\"end\":12},\"id\":\"a2f6674e-c8cd-43a1-aa09-fc2ed99772c3\",\"type\":\"Range1d\"}],\"root_ids\":[\"dbe082cd-1c82-42c9-8aad-5873bb12a969\"]},\"title\":\"Bokeh Application\",\"version\":\"0.13.0\"}};\n",
              "  var render_items = [{\"docid\":\"f8f5a0b5-607f-4b67-a918-1da67d8da411\",\"roots\":{\"dbe082cd-1c82-42c9-8aad-5873bb12a969\":\"ec09e32d-2686-43ac-9601-35c3df29b8c1\"}}];\n",
              "  root.Bokeh.embed.embed_items_notebook(docs_json, render_items);\n",
              "\n",
              "  }\n",
              "  if (root.Bokeh !== undefined) {\n",
              "    embed_document(root);\n",
              "  } else {\n",
              "    var attempts = 0;\n",
              "    var timer = setInterval(function(root) {\n",
              "      if (root.Bokeh !== undefined) {\n",
              "        embed_document(root);\n",
              "        clearInterval(timer);\n",
              "      }\n",
              "      attempts++;\n",
              "      if (attempts > 100) {\n",
              "        console.log(\"Bokeh: ERROR: Unable to run BokehJS code because BokehJS library is missing\")\n",
              "        clearInterval(timer);\n",
              "      }\n",
              "    }, 10, root)\n",
              "  }\n",
              "})(window);"
            ],
            "application/vnd.bokehjs_exec.v0+json": ""
          },
          "metadata": {
            "tags": [],
            "application/vnd.bokehjs_exec.v0+json": {
              "id": "dbe082cd-1c82-42c9-8aad-5873bb12a969"
            }
          }
        },
        {
          "output_type": "display_data",
          "data": {
            "text/html": [
              "\n",
              "\n",
              "\n",
              "\n",
              "\n",
              "\n",
              "  <div class=\"bk-root\" id=\"bbdc4ed4-6529-4f6b-abe1-13cba565e265\"></div>\n"
            ]
          },
          "metadata": {
            "tags": []
          }
        },
        {
          "output_type": "display_data",
          "data": {
            "application/javascript": [
              "(function(root) {\n",
              "  function embed_document(root) {\n",
              "    \n",
              "  var docs_json = {\"12e78674-6384-4c70-8495-b485af8ed630\":{\"roots\":{\"references\":[{\"attributes\":{},\"id\":\"e42d1223-f921-499b-a544-0b7b0b575bae\",\"type\":\"LinearScale\"},{\"attributes\":{},\"id\":\"8903bbe5-c3c7-4848-9508-2feb8ce4b9ac\",\"type\":\"LinearScale\"},{\"attributes\":{\"palette\":[\"#000000\",\"#252525\",\"#525252\",\"#737373\",\"#969696\",\"#bdbdbd\",\"#d9d9d9\",\"#f0f0f0\",\"#ffffff\"]},\"id\":\"5e58acee-5c34-43cb-af5a-cebda9686722\",\"type\":\"LinearColorMapper\"},{\"attributes\":{\"palette\":[\"#000000\",\"#252525\",\"#525252\",\"#737373\",\"#969696\",\"#bdbdbd\",\"#d9d9d9\",\"#f0f0f0\",\"#ffffff\"]},\"id\":\"b87d1a68-6853-4382-b1f3-333b72b304cd\",\"type\":\"LinearColorMapper\"},{\"attributes\":{\"callback\":null,\"end\":12},\"id\":\"a11e9241-60fb-4aaf-b48e-a7007a5d9d5c\",\"type\":\"Range1d\"},{\"attributes\":{\"ticks\":[0.5,1.5,2.5,3.5,4.5,5.5,6.5,7.5,8.5,9.5,10.5,11.5,12.5]},\"id\":\"9c9484a7-e69d-4115-a363-f132ade57cb0\",\"type\":\"FixedTicker\"},{\"attributes\":{},\"id\":\"f7c90442-a13b-4efa-afae-911f5c35ceeb\",\"type\":\"Selection\"},{\"attributes\":{\"callback\":null,\"end\":13},\"id\":\"cefafd1c-9ab0-49fb-92df-6fc021ba6152\",\"type\":\"Range1d\"},{\"attributes\":{\"data_source\":{\"id\":\"4ba98aca-89dc-4775-a20d-eeb58d0bd460\",\"type\":\"ColumnDataSource\"},\"glyph\":{\"id\":\"400d912d-f73d-4c9d-b692-3bdd989b5340\",\"type\":\"Image\"},\"hover_glyph\":null,\"muted_glyph\":null,\"nonselection_glyph\":{\"id\":\"d7d25983-79ae-4163-9f16-b649b8dafc56\",\"type\":\"Image\"},\"selection_glyph\":null,\"view\":{\"id\":\"9f241b07-1504-4fb9-8075-06786f1c6efb\",\"type\":\"CDSView\"}},\"id\":\"aa519076-462c-4118-889b-86dc5f789492\",\"type\":\"GlyphRenderer\"},{\"attributes\":{\"color_mapper\":{\"id\":\"5e58acee-5c34-43cb-af5a-cebda9686722\",\"type\":\"LinearColorMapper\"},\"dh\":{\"units\":\"data\",\"value\":12},\"dw\":{\"units\":\"data\",\"value\":13},\"image\":{\"field\":\"image\"},\"x\":{\"value\":0},\"y\":{\"value\":0}},\"id\":\"d7d25983-79ae-4163-9f16-b649b8dafc56\",\"type\":\"Image\"},{\"attributes\":{\"plot\":null,\"text\":\"\"},\"id\":\"4c5dba83-823f-4804-b098-910ea6be2482\",\"type\":\"Title\"},{\"attributes\":{},\"id\":\"e74503fa-d845-41f1-9773-a42da3cee3a9\",\"type\":\"BasicTickFormatter\"},{\"attributes\":{},\"id\":\"56158427-0d82-48cd-a915-58261e0558dd\",\"type\":\"UnionRenderers\"},{\"attributes\":{\"active_drag\":\"auto\",\"active_inspect\":\"auto\",\"active_multi\":null,\"active_scroll\":\"auto\",\"active_tap\":\"auto\"},\"id\":\"971261f3-2f80-4272-beda-2c91a046dbd9\",\"type\":\"Toolbar\"},{\"attributes\":{\"callback\":null,\"data\":{\"image\":[{\"__ndarray__\":\"8V9MPsV1Cz6ydtE9Kc55Pe7ljT0j93s9j6ngPDH09zw1BfM8Za26PIm7Nj2CiAA+chK4PRp8Dj4C6OM9hlThPdPLzz1pn8c9AYBEPcW60TwhuR49O1iBPbJS8zxnekY8HfkXPlZmmT2xBK88zB6aPBx8TjyT7JI8N+UiPQ6FLD3GcoM9Hl6yPWI+mj2JVAs99fCkPIeYxj64Dzc+q2DkPJ1XzDwbQ6I8u3nQPBSjGT08YAc91BuVPFA0oTzyi0s8XlogPCkDdTxSnws/o/pXPjQMeD6v30k+544kPnwtBT5LFaw9wBbPPLrpFDtMOk47i0m0OygIFjyyTkQ9jnh3PT2kAz00UGg6Ptm0OoBuBDsZNwQ8gtvEPEpqTT2bGos9CnXIPbQMxj3L/+U8tAkoPY4Ffz5VZqo+OArwPTwF4z3Qgs49LQb3PQl0BD7d25w9O9ijPLFF0DyFIR49nooWPZmTJj6gtyU9WAypPENnUj322jY9y/QAPeaq+TzijCw9chWCPX3yqj1vVAU+LrtNPhWpjj153K88trIAPpEG1z3zmcA7aUEdPGgSazzMjPo8T2SLPeHO4z1BOZ090sMuPo7ocj7L8qs9wB2cPY7AfT1hJVs9M9v0O226HTykKy48JUyiPP5wTj13CYI9g1XEPXcO3T0Y+ks+S1X6PYggoT1tewE+t5vdPcY+JTt/Il07vFB0O5tNJDyVoVQ9Jaz/PXx0Jj4aMl0+caNhPtHoqj1q90o9wIgGPb0NHz3GPiU7fyJdO7xQdDubTSQ8laFUPSWs/z18dCY+GjJdPnGjYT7R6Ko9avdKPcCIBj29DR89\",\"dtype\":\"float32\",\"shape\":[12,13]}]},\"selected\":{\"id\":\"f7c90442-a13b-4efa-afae-911f5c35ceeb\",\"type\":\"Selection\"},\"selection_policy\":{\"id\":\"56158427-0d82-48cd-a915-58261e0558dd\",\"type\":\"UnionRenderers\"}},\"id\":\"4ba98aca-89dc-4775-a20d-eeb58d0bd460\",\"type\":\"ColumnDataSource\"},{\"attributes\":{\"axis_label\":\"source tokens\",\"formatter\":{\"id\":\"e74503fa-d845-41f1-9773-a42da3cee3a9\",\"type\":\"BasicTickFormatter\"},\"major_label_orientation\":45,\"major_label_overrides\":{\"0.5\":\"_BOS_\",\"1.5\":\"\\u0440\\u0430\\u0441\\u0441\\u0442\\u043e\\u044f\\u043d\\u0438\\u0435\",\"10.5\":\"\\u043a\\u043c\",\"11.5\":\".\",\"12.5\":\"_EOS_\",\"2.5\":\"\\u0434\\u043e\",\"3.5\":\"\\u0433\\u043e\\u0440\\u043e\\u0434\\u0430\",\"4.5\":\"\\u043a\\u0438@@\",\"5.5\":\"\\u0441\\u0441\\u0438@@\",\"6.5\":\"\\u043c@@\",\"7.5\":\"\\u043c\\u0438\",\"8.5\":\"\\u0441\\u043e\\u0441\\u0442\\u0430\\u0432\\u043b\\u044f\\u0435\\u0442\",\"9.5\":\"26\"},\"plot\":{\"id\":\"72cac276-059c-4533-8ec9-92b0ef31b43b\",\"subtype\":\"Figure\",\"type\":\"Plot\"},\"ticker\":{\"id\":\"9c9484a7-e69d-4115-a363-f132ade57cb0\",\"type\":\"FixedTicker\"}},\"id\":\"adff0431-bf79-4e77-965c-5cc679236ba4\",\"type\":\"LinearAxis\"},{\"attributes\":{\"above\":[{\"id\":\"adff0431-bf79-4e77-965c-5cc679236ba4\",\"type\":\"LinearAxis\"}],\"left\":[{\"id\":\"4efb7350-16c6-41dd-94c8-fc9e42e497b9\",\"type\":\"LinearAxis\"}],\"renderers\":[{\"id\":\"aa519076-462c-4118-889b-86dc5f789492\",\"type\":\"GlyphRenderer\"},{\"id\":\"adff0431-bf79-4e77-965c-5cc679236ba4\",\"type\":\"LinearAxis\"},{\"id\":\"4efb7350-16c6-41dd-94c8-fc9e42e497b9\",\"type\":\"LinearAxis\"}],\"title\":{\"id\":\"4c5dba83-823f-4804-b098-910ea6be2482\",\"type\":\"Title\"},\"toolbar\":{\"id\":\"971261f3-2f80-4272-beda-2c91a046dbd9\",\"type\":\"Toolbar\"},\"x_range\":{\"id\":\"cefafd1c-9ab0-49fb-92df-6fc021ba6152\",\"type\":\"Range1d\"},\"x_scale\":{\"id\":\"8903bbe5-c3c7-4848-9508-2feb8ce4b9ac\",\"type\":\"LinearScale\"},\"y_range\":{\"id\":\"a11e9241-60fb-4aaf-b48e-a7007a5d9d5c\",\"type\":\"Range1d\"},\"y_scale\":{\"id\":\"e42d1223-f921-499b-a544-0b7b0b575bae\",\"type\":\"LinearScale\"}},\"id\":\"72cac276-059c-4533-8ec9-92b0ef31b43b\",\"subtype\":\"Figure\",\"type\":\"Plot\"},{\"attributes\":{},\"id\":\"19a83a1e-7479-4566-bf46-ceb18bd15f3f\",\"type\":\"BasicTickFormatter\"},{\"attributes\":{\"ticks\":[0.5,1.5,2.5,3.5,4.5,5.5,6.5,7.5,8.5,9.5,10.5,11.5]},\"id\":\"f0c4d5c5-6a28-494e-9650-63a6b157b4d8\",\"type\":\"FixedTicker\"},{\"attributes\":{\"source\":{\"id\":\"4ba98aca-89dc-4775-a20d-eeb58d0bd460\",\"type\":\"ColumnDataSource\"}},\"id\":\"9f241b07-1504-4fb9-8075-06786f1c6efb\",\"type\":\"CDSView\"},{\"attributes\":{\"axis_label\":\"translation tokens\",\"formatter\":{\"id\":\"19a83a1e-7479-4566-bf46-ceb18bd15f3f\",\"type\":\"BasicTickFormatter\"},\"major_label_overrides\":{\"0.5\":\"_EOS_\",\"1.5\":\".\",\"10.5\":\"the\",\"11.5\":\"_BOS_\",\"2.5\":\"property\",\"3.5\":\"the\",\"4.5\":\"from\",\"5.5\":\"km\",\"6.5\":\"53\",\"7.5\":\"is\",\"8.5\":\"airport\",\"9.5\":\"nearest\"},\"plot\":{\"id\":\"72cac276-059c-4533-8ec9-92b0ef31b43b\",\"subtype\":\"Figure\",\"type\":\"Plot\"},\"ticker\":{\"id\":\"f0c4d5c5-6a28-494e-9650-63a6b157b4d8\",\"type\":\"FixedTicker\"}},\"id\":\"4efb7350-16c6-41dd-94c8-fc9e42e497b9\",\"type\":\"LinearAxis\"},{\"attributes\":{\"color_mapper\":{\"id\":\"b87d1a68-6853-4382-b1f3-333b72b304cd\",\"type\":\"LinearColorMapper\"},\"dh\":{\"units\":\"data\",\"value\":12},\"dw\":{\"units\":\"data\",\"value\":13},\"image\":{\"field\":\"image\"},\"x\":{\"value\":0},\"y\":{\"value\":0}},\"id\":\"400d912d-f73d-4c9d-b692-3bdd989b5340\",\"type\":\"Image\"}],\"root_ids\":[\"72cac276-059c-4533-8ec9-92b0ef31b43b\"]},\"title\":\"Bokeh Application\",\"version\":\"0.13.0\"}};\n",
              "  var render_items = [{\"docid\":\"12e78674-6384-4c70-8495-b485af8ed630\",\"roots\":{\"72cac276-059c-4533-8ec9-92b0ef31b43b\":\"bbdc4ed4-6529-4f6b-abe1-13cba565e265\"}}];\n",
              "  root.Bokeh.embed.embed_items_notebook(docs_json, render_items);\n",
              "\n",
              "  }\n",
              "  if (root.Bokeh !== undefined) {\n",
              "    embed_document(root);\n",
              "  } else {\n",
              "    var attempts = 0;\n",
              "    var timer = setInterval(function(root) {\n",
              "      if (root.Bokeh !== undefined) {\n",
              "        embed_document(root);\n",
              "        clearInterval(timer);\n",
              "      }\n",
              "      attempts++;\n",
              "      if (attempts > 100) {\n",
              "        console.log(\"Bokeh: ERROR: Unable to run BokehJS code because BokehJS library is missing\")\n",
              "        clearInterval(timer);\n",
              "      }\n",
              "    }, 10, root)\n",
              "  }\n",
              "})(window);"
            ],
            "application/vnd.bokehjs_exec.v0+json": ""
          },
          "metadata": {
            "tags": [],
            "application/vnd.bokehjs_exec.v0+json": {
              "id": "72cac276-059c-4533-8ec9-92b0ef31b43b"
            }
          }
        },
        {
          "output_type": "display_data",
          "data": {
            "text/html": [
              "\n",
              "\n",
              "\n",
              "\n",
              "\n",
              "\n",
              "  <div class=\"bk-root\" id=\"731b623c-1863-41d3-ab5d-2a895b765ec2\"></div>\n"
            ]
          },
          "metadata": {
            "tags": []
          }
        },
        {
          "output_type": "display_data",
          "data": {
            "application/javascript": [
              "(function(root) {\n",
              "  function embed_document(root) {\n",
              "    \n",
              "  var docs_json = {\"8c6a3ba3-aca7-4ed9-a0c5-f04cbad01bb3\":{\"roots\":{\"references\":[{\"attributes\":{\"palette\":[\"#000000\",\"#252525\",\"#525252\",\"#737373\",\"#969696\",\"#bdbdbd\",\"#d9d9d9\",\"#f0f0f0\",\"#ffffff\"]},\"id\":\"1335957c-3d5a-486a-b121-dd872e62f86a\",\"type\":\"LinearColorMapper\"},{\"attributes\":{},\"id\":\"c0db147b-0ac9-432b-b097-dab4cf8bf0b6\",\"type\":\"Selection\"},{\"attributes\":{\"palette\":[\"#000000\",\"#252525\",\"#525252\",\"#737373\",\"#969696\",\"#bdbdbd\",\"#d9d9d9\",\"#f0f0f0\",\"#ffffff\"]},\"id\":\"b05af825-4c2f-4817-a14f-27b346af5c87\",\"type\":\"LinearColorMapper\"},{\"attributes\":{\"plot\":null,\"text\":\"\"},\"id\":\"7ff270af-dc5b-4161-a92e-c8c8ef569a68\",\"type\":\"Title\"},{\"attributes\":{\"ticks\":[0.5,1.5,2.5,3.5,4.5,5.5,6.5,7.5,8.5,9.5,10.5,11.5,12.5,13.5,14.5,15.5,16.5,17.5,18.5,19.5,20.5,21.5,22.5,23.5,24.5,25.5,26.5,27.5,28.5,29.5,30.5,31.5]},\"id\":\"17fe81d8-dcc1-4d94-95b1-acfcf83a5a5e\",\"type\":\"FixedTicker\"},{\"attributes\":{\"source\":{\"id\":\"9f737aca-fe97-4c87-b48f-f5427de01961\",\"type\":\"ColumnDataSource\"}},\"id\":\"d4060900-f29f-4304-8d86-34356d24a5d4\",\"type\":\"CDSView\"},{\"attributes\":{},\"id\":\"9cd525cb-fb43-4b45-9dfd-a71c8174b186\",\"type\":\"BasicTickFormatter\"},{\"attributes\":{\"active_drag\":\"auto\",\"active_inspect\":\"auto\",\"active_multi\":null,\"active_scroll\":\"auto\",\"active_tap\":\"auto\"},\"id\":\"358fb8ea-9eb4-48ff-88b6-9546a55235cd\",\"type\":\"Toolbar\"},{\"attributes\":{},\"id\":\"f817eab9-b0ce-4cf4-9a73-2ee6edb8e2f1\",\"type\":\"UnionRenderers\"},{\"attributes\":{\"axis_label\":\"translation tokens\",\"formatter\":{\"id\":\"feca7b39-1a90-4e25-b4fe-7b6690f515b8\",\"type\":\"BasicTickFormatter\"},\"major_label_overrides\":{\"0.5\":\"_EOS_\",\"1.5\":\".\",\"10.5\":\"with\",\"11.5\":\"garden\",\"12.5\":\"a\",\"13.5\":\",\",\"14.5\":\"garden\",\"15.5\":\"a\",\"16.5\":\",\",\"17.5\":\"garden\",\"18.5\":\"a\",\"19.5\":\"features\",\"2.5\":\"terrace\",\"20.5\":\"apartment\",\"21.5\":\"this\",\"22.5\":\",\",\"23.5\":\"sea\",\"24.5\":\"the\",\"25.5\":\"of\",\"26.5\":\"area\",\"27.5\":\"quiet\",\"28.5\":\"a\",\"29.5\":\"in\",\"3.5\":\"a\",\"30.5\":\"located\",\"31.5\":\"_BOS_\",\"4.5\":\"with\",\"5.5\":\"garden\",\"6.5\":\"a\",\"7.5\":\"and\",\"8.5\":\"terrace\",\"9.5\":\"a\"},\"plot\":{\"id\":\"92d417af-3f5c-43b6-a8db-824fe448a187\",\"subtype\":\"Figure\",\"type\":\"Plot\"},\"ticker\":{\"id\":\"17fe81d8-dcc1-4d94-95b1-acfcf83a5a5e\",\"type\":\"FixedTicker\"}},\"id\":\"c7083262-8895-4317-80eb-ad50fd9c5fdb\",\"type\":\"LinearAxis\"},{\"attributes\":{\"data_source\":{\"id\":\"9f737aca-fe97-4c87-b48f-f5427de01961\",\"type\":\"ColumnDataSource\"},\"glyph\":{\"id\":\"61779721-3bdd-4cee-9514-3e95541efa53\",\"type\":\"Image\"},\"hover_glyph\":null,\"muted_glyph\":null,\"nonselection_glyph\":{\"id\":\"1e81106c-7b2b-4f0e-b577-8a904115fbc0\",\"type\":\"Image\"},\"selection_glyph\":null,\"view\":{\"id\":\"d4060900-f29f-4304-8d86-34356d24a5d4\",\"type\":\"CDSView\"}},\"id\":\"7bc1035a-c7e2-49ee-b8bd-1cf7759c4d9e\",\"type\":\"GlyphRenderer\"},{\"attributes\":{},\"id\":\"eb830ad5-1ac4-4ed1-8681-227e178d93e8\",\"type\":\"LinearScale\"},{\"attributes\":{\"color_mapper\":{\"id\":\"b05af825-4c2f-4817-a14f-27b346af5c87\",\"type\":\"LinearColorMapper\"},\"dh\":{\"units\":\"data\",\"value\":32},\"dw\":{\"units\":\"data\",\"value\":32},\"image\":{\"field\":\"image\"},\"x\":{\"value\":0},\"y\":{\"value\":0}},\"id\":\"61779721-3bdd-4cee-9514-3e95541efa53\",\"type\":\"Image\"},{\"attributes\":{\"callback\":null,\"data\":{\"image\":[{\"__ndarray__\":\"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\",\"dtype\":\"float32\",\"shape\":[32,32]}]},\"selected\":{\"id\":\"c0db147b-0ac9-432b-b097-dab4cf8bf0b6\",\"type\":\"Selection\"},\"selection_policy\":{\"id\":\"f817eab9-b0ce-4cf4-9a73-2ee6edb8e2f1\",\"type\":\"UnionRenderers\"}},\"id\":\"9f737aca-fe97-4c87-b48f-f5427de01961\",\"type\":\"ColumnDataSource\"},{\"attributes\":{\"axis_label\":\"source tokens\",\"formatter\":{\"id\":\"9cd525cb-fb43-4b45-9dfd-a71c8174b186\",\"type\":\"BasicTickFormatter\"},\"major_label_orientation\":45,\"major_label_overrides\":{\"0.5\":\"_BOS_\",\"1.5\":\"\\u0430\\u043f\\u0430\\u0440\\u0442\\u0430\\u043c\\u0435\\u043d\\u0442\\u044b\",\"10.5\":\"\\u0441\\u0430\\u0434\\u043e\\u043c\",\"11.5\":\",\",\"12.5\":\"\\u043a\\u043e\\u043d\\u0434\\u0438\\u0446\\u0438\\u043e\\u043d\\u0435\\u0440\\u043e\\u043c\",\"13.5\":\"\\u0438\",\"14.5\":\"\\u0442\\u0435\\u0440\\u0440\\u0430\\u0441\\u043e\\u0439\",\"15.5\":\"\\u0434\\u043b\\u044f\",\"16.5\":\"\\u0437\\u0430\\u0433\\u0430\\u0440\\u0430\",\"17.5\":\"\\u0440\\u0430\\u0441\\u043f\\u043e\\u043b\\u043e\\u0436\\u0435\\u043d\\u044b\",\"18.5\":\"\\u0432\",\"19.5\":\"5\",\"2.5\":\"\\u0432\",\"20.5\":\"\\u043c\\u0438\\u043d\\u0443\\u0442\\u0430\\u0445\",\"21.5\":\"\\u0445\\u043e\\u0434\\u044c\\u0431\\u044b\",\"22.5\":\"\\u043e\\u0442\",\"23.5\":\"\\u043f\\u043b\\u044f\\u0436\\u0430\",\"24.5\":\"\\u043d\\u0430\",\"25.5\":\"\\u043a\\u0443\\u0440\\u043e\\u0440\\u0442\\u0435\",\"26.5\":\"\\u043a\\u0430@@\",\"27.5\":\"\\u0431\\u043e\",\"28.5\":\"-\",\"29.5\":\"\\u0440\\u043e\\u0439\",\"3.5\":\"\\u043f\\u0435\\u043d\\u0442@@\",\"30.5\":\".\",\"31.5\":\"_EOS_\",\"4.5\":\"\\u0445\\u0430\\u0443\\u0441\\u0435\",\"5.5\":\"\\u0441\",\"6.5\":\"\\u043e\\u0431\\u0449\\u0438\\u043c\",\"7.5\":\"\\u043e\\u0442\\u043a\\u0440\\u044b\\u0442\\u044b\\u043c\",\"8.5\":\"\\u0431\\u0430\\u0441\\u0441\\u0435\\u0439\\u043d\\u043e\\u043c\",\"9.5\":\",\"},\"plot\":{\"id\":\"92d417af-3f5c-43b6-a8db-824fe448a187\",\"subtype\":\"Figure\",\"type\":\"Plot\"},\"ticker\":{\"id\":\"1a35a63e-e0c5-4a90-9431-522a6e721b5c\",\"type\":\"FixedTicker\"}},\"id\":\"621f45bc-48c7-4ce9-b42c-f56f8007e798\",\"type\":\"LinearAxis\"},{\"attributes\":{},\"id\":\"feca7b39-1a90-4e25-b4fe-7b6690f515b8\",\"type\":\"BasicTickFormatter\"},{\"attributes\":{\"color_mapper\":{\"id\":\"1335957c-3d5a-486a-b121-dd872e62f86a\",\"type\":\"LinearColorMapper\"},\"dh\":{\"units\":\"data\",\"value\":32},\"dw\":{\"units\":\"data\",\"value\":32},\"image\":{\"field\":\"image\"},\"x\":{\"value\":0},\"y\":{\"value\":0}},\"id\":\"1e81106c-7b2b-4f0e-b577-8a904115fbc0\",\"type\":\"Image\"},{\"attributes\":{\"above\":[{\"id\":\"621f45bc-48c7-4ce9-b42c-f56f8007e798\",\"type\":\"LinearAxis\"}],\"left\":[{\"id\":\"c7083262-8895-4317-80eb-ad50fd9c5fdb\",\"type\":\"LinearAxis\"}],\"renderers\":[{\"id\":\"7bc1035a-c7e2-49ee-b8bd-1cf7759c4d9e\",\"type\":\"GlyphRenderer\"},{\"id\":\"621f45bc-48c7-4ce9-b42c-f56f8007e798\",\"type\":\"LinearAxis\"},{\"id\":\"c7083262-8895-4317-80eb-ad50fd9c5fdb\",\"type\":\"LinearAxis\"}],\"title\":{\"id\":\"7ff270af-dc5b-4161-a92e-c8c8ef569a68\",\"type\":\"Title\"},\"toolbar\":{\"id\":\"358fb8ea-9eb4-48ff-88b6-9546a55235cd\",\"type\":\"Toolbar\"},\"x_range\":{\"id\":\"4b25b637-3480-4795-ac32-64010fface71\",\"type\":\"Range1d\"},\"x_scale\":{\"id\":\"eb830ad5-1ac4-4ed1-8681-227e178d93e8\",\"type\":\"LinearScale\"},\"y_range\":{\"id\":\"48bc9c9a-7eb5-46e2-bf3d-7531d94fd4d2\",\"type\":\"Range1d\"},\"y_scale\":{\"id\":\"28dada2d-d10b-409e-9cf5-b9388981628e\",\"type\":\"LinearScale\"}},\"id\":\"92d417af-3f5c-43b6-a8db-824fe448a187\",\"subtype\":\"Figure\",\"type\":\"Plot\"},{\"attributes\":{\"ticks\":[0.5,1.5,2.5,3.5,4.5,5.5,6.5,7.5,8.5,9.5,10.5,11.5,12.5,13.5,14.5,15.5,16.5,17.5,18.5,19.5,20.5,21.5,22.5,23.5,24.5,25.5,26.5,27.5,28.5,29.5,30.5,31.5]},\"id\":\"1a35a63e-e0c5-4a90-9431-522a6e721b5c\",\"type\":\"FixedTicker\"},{\"attributes\":{\"callback\":null,\"end\":32},\"id\":\"48bc9c9a-7eb5-46e2-bf3d-7531d94fd4d2\",\"type\":\"Range1d\"},{\"attributes\":{},\"id\":\"28dada2d-d10b-409e-9cf5-b9388981628e\",\"type\":\"LinearScale\"},{\"attributes\":{\"callback\":null,\"end\":32},\"id\":\"4b25b637-3480-4795-ac32-64010fface71\",\"type\":\"Range1d\"}],\"root_ids\":[\"92d417af-3f5c-43b6-a8db-824fe448a187\"]},\"title\":\"Bokeh Application\",\"version\":\"0.13.0\"}};\n",
              "  var render_items = [{\"docid\":\"8c6a3ba3-aca7-4ed9-a0c5-f04cbad01bb3\",\"roots\":{\"92d417af-3f5c-43b6-a8db-824fe448a187\":\"731b623c-1863-41d3-ab5d-2a895b765ec2\"}}];\n",
              "  root.Bokeh.embed.embed_items_notebook(docs_json, render_items);\n",
              "\n",
              "  }\n",
              "  if (root.Bokeh !== undefined) {\n",
              "    embed_document(root);\n",
              "  } else {\n",
              "    var attempts = 0;\n",
              "    var timer = setInterval(function(root) {\n",
              "      if (root.Bokeh !== undefined) {\n",
              "        embed_document(root);\n",
              "        clearInterval(timer);\n",
              "      }\n",
              "      attempts++;\n",
              "      if (attempts > 100) {\n",
              "        console.log(\"Bokeh: ERROR: Unable to run BokehJS code because BokehJS library is missing\")\n",
              "        clearInterval(timer);\n",
              "      }\n",
              "    }, 10, root)\n",
              "  }\n",
              "})(window);"
            ],
            "application/vnd.bokehjs_exec.v0+json": ""
          },
          "metadata": {
            "tags": [],
            "application/vnd.bokehjs_exec.v0+json": {
              "id": "92d417af-3f5c-43b6-a8db-824fe448a187"
            }
          }
        },
        {
          "output_type": "display_data",
          "data": {
            "text/html": [
              "\n",
              "\n",
              "\n",
              "\n",
              "\n",
              "\n",
              "  <div class=\"bk-root\" id=\"d0a21b2d-a7bb-4d20-865f-afae15532de9\"></div>\n"
            ]
          },
          "metadata": {
            "tags": []
          }
        },
        {
          "output_type": "display_data",
          "data": {
            "application/javascript": [
              "(function(root) {\n",
              "  function embed_document(root) {\n",
              "    \n",
              "  var docs_json = {\"7697db1a-79ea-41ca-8f70-3453b9ac622a\":{\"roots\":{\"references\":[{\"attributes\":{\"axis_label\":\"source tokens\",\"formatter\":{\"id\":\"93c579a3-de16-4900-9a55-016e7abdbffa\",\"type\":\"BasicTickFormatter\"},\"major_label_orientation\":45,\"major_label_overrides\":{\"0.5\":\"_BOS_\",\"1.5\":\"\\u0430\\u043f\\u0430\\u0440\\u0442\\u0430\\u043c\\u0435\\u043d\\u0442\\u044b\",\"10.5\":\"square\",\"11.5\":\"\\u043d\\u0430\\u0445\\u043e\\u0434\\u044f\\u0442\\u0441\\u044f\",\"12.5\":\"\\u0432\",\"13.5\":\"\\u043c\\u043e\\u0441\\u043a\\u0432\\u0435\",\"14.5\":\",\",\"15.5\":\"\\u0432\",\"16.5\":\"200\",\"17.5\":\"\\u043c\\u0435\\u0442\\u0440\\u0430\\u0445\",\"18.5\":\"\\u043e\\u0442\",\"19.5\":\"\\u0431\\u043e\\u043b\\u044c\\u0448\\u043e\\u0433\\u043e\",\"2.5\":\"mo@@\",\"20.5\":\"\\u0442\\u0435\\u0430\\u0442\\u0440\\u0430\",\"21.5\":\".\",\"22.5\":\"_EOS_\",\"3.5\":\"s@@\",\"4.5\":\"co@@\",\"5.5\":\"w\",\"6.5\":\"point\",\"7.5\":\"-\",\"8.5\":\"loft\",\"9.5\":\"red\"},\"plot\":{\"id\":\"dbb095b5-8e59-4549-b004-33b441cc81da\",\"subtype\":\"Figure\",\"type\":\"Plot\"},\"ticker\":{\"id\":\"46877da5-c337-4346-9fcc-0509c9ecda50\",\"type\":\"FixedTicker\"}},\"id\":\"e9613ba3-8b82-4134-ae33-b1792c373e48\",\"type\":\"LinearAxis\"},{\"attributes\":{\"callback\":null,\"end\":24},\"id\":\"9c990719-99c4-4cbe-a94e-5807f6bebf6f\",\"type\":\"Range1d\"},{\"attributes\":{\"ticks\":[0.5,1.5,2.5,3.5,4.5,5.5,6.5,7.5,8.5,9.5,10.5,11.5,12.5,13.5,14.5,15.5,16.5,17.5,18.5,19.5,20.5,21.5,22.5]},\"id\":\"46877da5-c337-4346-9fcc-0509c9ecda50\",\"type\":\"FixedTicker\"},{\"attributes\":{\"axis_label\":\"translation tokens\",\"formatter\":{\"id\":\"5f8e6a15-a8d9-4444-a7d4-2a3a46180418\",\"type\":\"BasicTickFormatter\"},\"major_label_overrides\":{\"0.5\":\"_EOS_\",\"1.5\":\".\",\"10.5\":\".\",\"11.5\":\"view\",\"12.5\":\"sea\",\"13.5\":\"the\",\"14.5\":\"from\",\"15.5\":\"metres\",\"16.5\":\"700\",\"17.5\":\"is\",\"18.5\":\"maggiore\",\"19.5\":\"maria\",\"2.5\":\"cathedral\",\"20.5\":\"santa\",\"21.5\":\"at\",\"22.5\":\"apartment\",\"23.5\":\"_BOS_\",\"3.5\":\"the\",\"4.5\":\"from\",\"5.5\":\"metres\",\"6.5\":\"700\",\"7.5\":\"is\",\"8.5\":\"apartment\",\"9.5\":\"the\"},\"plot\":{\"id\":\"dbb095b5-8e59-4549-b004-33b441cc81da\",\"subtype\":\"Figure\",\"type\":\"Plot\"},\"ticker\":{\"id\":\"7acb5838-38db-43f2-b33e-ee0b066fca69\",\"type\":\"FixedTicker\"}},\"id\":\"a4139d12-dac2-4e1a-8694-532b8f874ac5\",\"type\":\"LinearAxis\"},{\"attributes\":{},\"id\":\"fcf35f73-24d8-4db7-a3da-48332129c17a\",\"type\":\"LinearScale\"},{\"attributes\":{\"callback\":null,\"end\":23},\"id\":\"6513adf9-e285-458a-861f-b22b62aed5b9\",\"type\":\"Range1d\"},{\"attributes\":{\"active_drag\":\"auto\",\"active_inspect\":\"auto\",\"active_multi\":null,\"active_scroll\":\"auto\",\"active_tap\":\"auto\"},\"id\":\"2a8f8226-844d-4d21-b699-a571d55e1bc3\",\"type\":\"Toolbar\"},{\"attributes\":{\"color_mapper\":{\"id\":\"af3c26b8-8df5-4464-9346-c0e94696b1d6\",\"type\":\"LinearColorMapper\"},\"dh\":{\"units\":\"data\",\"value\":24},\"dw\":{\"units\":\"data\",\"value\":23},\"image\":{\"field\":\"image\"},\"x\":{\"value\":0},\"y\":{\"value\":0}},\"id\":\"849524e4-f43d-4e6e-a67d-078c3b08cd8f\",\"type\":\"Image\"},{\"attributes\":{\"data_source\":{\"id\":\"cdda5058-0edc-4935-a645-82a7b4da16b1\",\"type\":\"ColumnDataSource\"},\"glyph\":{\"id\":\"a513d3a5-10fd-4d40-ab12-79c391a83f18\",\"type\":\"Image\"},\"hover_glyph\":null,\"muted_glyph\":null,\"nonselection_glyph\":{\"id\":\"849524e4-f43d-4e6e-a67d-078c3b08cd8f\",\"type\":\"Image\"},\"selection_glyph\":null,\"view\":{\"id\":\"1ef3f823-e4dd-4bd1-a218-82d159581d51\",\"type\":\"CDSView\"}},\"id\":\"05831d86-2ed2-44c7-a978-7028667dac4c\",\"type\":\"GlyphRenderer\"},{\"attributes\":{\"color_mapper\":{\"id\":\"0470c831-472a-414d-b347-e6da740a1eea\",\"type\":\"LinearColorMapper\"},\"dh\":{\"units\":\"data\",\"value\":24},\"dw\":{\"units\":\"data\",\"value\":23},\"image\":{\"field\":\"image\"},\"x\":{\"value\":0},\"y\":{\"value\":0}},\"id\":\"a513d3a5-10fd-4d40-ab12-79c391a83f18\",\"type\":\"Image\"},{\"attributes\":{},\"id\":\"0df93795-007e-4c0e-8830-0f530cf15a1c\",\"type\":\"LinearScale\"},{\"attributes\":{\"palette\":[\"#000000\",\"#252525\",\"#525252\",\"#737373\",\"#969696\",\"#bdbdbd\",\"#d9d9d9\",\"#f0f0f0\",\"#ffffff\"]},\"id\":\"0470c831-472a-414d-b347-e6da740a1eea\",\"type\":\"LinearColorMapper\"},{\"attributes\":{},\"id\":\"c95e091c-9b78-407e-aa7b-e4e235695a36\",\"type\":\"Selection\"},{\"attributes\":{},\"id\":\"93c579a3-de16-4900-9a55-016e7abdbffa\",\"type\":\"BasicTickFormatter\"},{\"attributes\":{\"palette\":[\"#000000\",\"#252525\",\"#525252\",\"#737373\",\"#969696\",\"#bdbdbd\",\"#d9d9d9\",\"#f0f0f0\",\"#ffffff\"]},\"id\":\"af3c26b8-8df5-4464-9346-c0e94696b1d6\",\"type\":\"LinearColorMapper\"},{\"attributes\":{\"plot\":null,\"text\":\"\"},\"id\":\"5e8da715-ae2e-4438-88fb-ef655f4bb990\",\"type\":\"Title\"},{\"attributes\":{\"callback\":null,\"data\":{\"image\":[{\"__ndarray__\":\"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\",\"dtype\":\"float32\",\"shape\":[24,23]}]},\"selected\":{\"id\":\"c95e091c-9b78-407e-aa7b-e4e235695a36\",\"type\":\"Selection\"},\"selection_policy\":{\"id\":\"93270d3e-3f16-4b92-97ee-24d4bfd9380c\",\"type\":\"UnionRenderers\"}},\"id\":\"cdda5058-0edc-4935-a645-82a7b4da16b1\",\"type\":\"ColumnDataSource\"},{\"attributes\":{\"ticks\":[0.5,1.5,2.5,3.5,4.5,5.5,6.5,7.5,8.5,9.5,10.5,11.5,12.5,13.5,14.5,15.5,16.5,17.5,18.5,19.5,20.5,21.5,22.5,23.5]},\"id\":\"7acb5838-38db-43f2-b33e-ee0b066fca69\",\"type\":\"FixedTicker\"},{\"attributes\":{\"above\":[{\"id\":\"e9613ba3-8b82-4134-ae33-b1792c373e48\",\"type\":\"LinearAxis\"}],\"left\":[{\"id\":\"a4139d12-dac2-4e1a-8694-532b8f874ac5\",\"type\":\"LinearAxis\"}],\"renderers\":[{\"id\":\"05831d86-2ed2-44c7-a978-7028667dac4c\",\"type\":\"GlyphRenderer\"},{\"id\":\"e9613ba3-8b82-4134-ae33-b1792c373e48\",\"type\":\"LinearAxis\"},{\"id\":\"a4139d12-dac2-4e1a-8694-532b8f874ac5\",\"type\":\"LinearAxis\"}],\"title\":{\"id\":\"5e8da715-ae2e-4438-88fb-ef655f4bb990\",\"type\":\"Title\"},\"toolbar\":{\"id\":\"2a8f8226-844d-4d21-b699-a571d55e1bc3\",\"type\":\"Toolbar\"},\"x_range\":{\"id\":\"6513adf9-e285-458a-861f-b22b62aed5b9\",\"type\":\"Range1d\"},\"x_scale\":{\"id\":\"0df93795-007e-4c0e-8830-0f530cf15a1c\",\"type\":\"LinearScale\"},\"y_range\":{\"id\":\"9c990719-99c4-4cbe-a94e-5807f6bebf6f\",\"type\":\"Range1d\"},\"y_scale\":{\"id\":\"fcf35f73-24d8-4db7-a3da-48332129c17a\",\"type\":\"LinearScale\"}},\"id\":\"dbb095b5-8e59-4549-b004-33b441cc81da\",\"subtype\":\"Figure\",\"type\":\"Plot\"},{\"attributes\":{\"source\":{\"id\":\"cdda5058-0edc-4935-a645-82a7b4da16b1\",\"type\":\"ColumnDataSource\"}},\"id\":\"1ef3f823-e4dd-4bd1-a218-82d159581d51\",\"type\":\"CDSView\"},{\"attributes\":{},\"id\":\"5f8e6a15-a8d9-4444-a7d4-2a3a46180418\",\"type\":\"BasicTickFormatter\"},{\"attributes\":{},\"id\":\"93270d3e-3f16-4b92-97ee-24d4bfd9380c\",\"type\":\"UnionRenderers\"}],\"root_ids\":[\"dbb095b5-8e59-4549-b004-33b441cc81da\"]},\"title\":\"Bokeh Application\",\"version\":\"0.13.0\"}};\n",
              "  var render_items = [{\"docid\":\"7697db1a-79ea-41ca-8f70-3453b9ac622a\",\"roots\":{\"dbb095b5-8e59-4549-b004-33b441cc81da\":\"d0a21b2d-a7bb-4d20-865f-afae15532de9\"}}];\n",
              "  root.Bokeh.embed.embed_items_notebook(docs_json, render_items);\n",
              "\n",
              "  }\n",
              "  if (root.Bokeh !== undefined) {\n",
              "    embed_document(root);\n",
              "  } else {\n",
              "    var attempts = 0;\n",
              "    var timer = setInterval(function(root) {\n",
              "      if (root.Bokeh !== undefined) {\n",
              "        embed_document(root);\n",
              "        clearInterval(timer);\n",
              "      }\n",
              "      attempts++;\n",
              "      if (attempts > 100) {\n",
              "        console.log(\"Bokeh: ERROR: Unable to run BokehJS code because BokehJS library is missing\")\n",
              "        clearInterval(timer);\n",
              "      }\n",
              "    }, 10, root)\n",
              "  }\n",
              "})(window);"
            ],
            "application/vnd.bokehjs_exec.v0+json": ""
          },
          "metadata": {
            "tags": [],
            "application/vnd.bokehjs_exec.v0+json": {
              "id": "dbb095b5-8e59-4549-b004-33b441cc81da"
            }
          }
        }
      ]
    },
    {
      "metadata": {
        "colab_type": "text",
        "id": "yie00OSK5qGT"
      },
      "cell_type": "markdown",
      "source": [
        "## Grand Finale (4+ points)\n",
        "\n",
        "We want you to find the best model for the task. Use everything you know.\n",
        "\n",
        "* different recurrent units: rnn/gru/lstm; deeper architectures\n",
        "* bidirectional encoder, different attention methods for decoder\n",
        "* word dropout, training schedules, anything you can imagine\n",
        "\n",
        "As usual, we want you to describe what you tried and what results you obtained."
      ]
    },
    {
      "metadata": {
        "colab_type": "text",
        "collapsed": true,
        "id": "N2MuqlrL5qGT"
      },
      "cell_type": "markdown",
      "source": [
        "`[your report/log here or anywhere you please]`"
      ]
    },
    {
      "metadata": {
        "id": "xB7j453nfhV2",
        "colab_type": "text"
      },
      "cell_type": "markdown",
      "source": [
        "### Поробуем двунаправленную сетку"
      ]
    },
    {
      "metadata": {
        "colab": {},
        "colab_type": "code",
        "id": "CWcR0cSp5qGW"
      },
      "cell_type": "code",
      "source": [
        "class AttentiveBiderectionalModel(AttentiveModel):\n",
        "    def __init__(self, name, inp_voc, out_voc,\n",
        "                 emb_size=64, hid_size=128, attn_size=128):\n",
        "        \"\"\" Translation model that uses attention. See instructions above. \"\"\"\n",
        "        self.name = name\n",
        "        self.inp_voc = inp_voc\n",
        "        self.out_voc = out_voc\n",
        "\n",
        "        with tf.variable_scope(name):\n",
        "            \n",
        "            # YOUR CODE - define model layers\n",
        "            \n",
        "            self.ebm_inp = L.Embedding(len(inp_voc), emb_size)\n",
        "            self.emb_out = L.Embedding(len(out_voc), emb_size)\n",
        "            \n",
        "            self.enc0_fw = tf.contrib.rnn.GRUBlockCellV2(hid_size)\n",
        "            self.enc0_bw = tf.contrib.rnn.GRUBlockCellV2(hid_size)\n",
        "            \n",
        "            self.attn = AttentionLayer('attention_layer', 2 * hid_size, hid_size, attn_size)\n",
        "            \n",
        "            self.dec_start = L.Dense(hid_size)\n",
        "            self.dec0 = tf.contrib.rnn.GRUBlockCellV2(hid_size)\n",
        "            self.logits = L.Dense(len(out_voc))\n",
        "            # END OF YOUR CODE\n",
        "            \n",
        "            # prepare to translate_lines\n",
        "            self.inp = tf.placeholder('int32', [None, None])\n",
        "            self.initial_state = self.prev_state = self.encode(self.inp)\n",
        "            self.prev_tokens = tf.placeholder('int32', [None])\n",
        "            self.next_state, self.next_logits = self.decode(self.prev_state, self.prev_tokens)\n",
        "\n",
        "        self.weights = tf.get_collection(tf.GraphKeys.TRAINABLE_VARIABLES, scope=name)\n",
        "\n",
        "    def encode(self, inp, **flags):\n",
        "        \"\"\"\n",
        "        Takes symbolic input sequence, computes initial state\n",
        "        :param inp: matrix of input tokens [batch, time]\n",
        "        :return: a list of initial decoder state tensors\n",
        "        \"\"\"\n",
        "        \n",
        "        # encode input sequence, create initial decoder states\n",
        "        \n",
        "        inp_lengths = infer_length(inp, self.inp_voc.eos_ix)\n",
        "        inp_emb = self.ebm_inp(inp)\n",
        "        encoders = []\n",
        "        with tf.variable_scope('enc0'):\n",
        "            outputs, forward_last, backward_last = tf.contrib.rnn.stack_bidirectional_dynamic_rnn([self.enc0_fw],\n",
        "                                                                                                 [self.enc0_bw],\n",
        "                                                                                                 inp_emb,\n",
        "                                                                                                 sequence_length=inp_lengths,\n",
        "                                                                                                 dtype=inp_emb.dtype)\n",
        "            \n",
        "            encoders = outputs\n",
        "        \n",
        "        dec_start = self.dec_start(tf.concat([forward_last[0], backward_last[0]], axis=1))\n",
        "        mask = infer_mask(inp, inp_voc.eos_ix)\n",
        "        # apply attention layer from initial decoder hidden state\n",
        "        attn_resp, probs = self.attn(encoders, dec_start, mask)\n",
        "        \n",
        "        # Build first state: include\n",
        "        # * initial states for decoder recurrent layers\n",
        "        # * encoder sequence and encoder attn mask (for attention)\n",
        "        # * make sure that last state item is attention probabilities tensor\n",
        "        \n",
        "        first_state = [dec_start, encoders, mask, probs]\n",
        "        return first_state\n",
        "\n",
        "    def decode(self, prev_state, prev_tokens, **flags):\n",
        "        \"\"\"\n",
        "        Takes previous decoder state and tokens, returns new state and logits\n",
        "        :param prev_state: a list of previous decoder state tensors\n",
        "        :param prev_tokens: previous output tokens, an int vector of [batch_size]\n",
        "        :return: a list of next decoder state tensors, a tensor of logits [batch,n_tokens]\n",
        "        \"\"\"\n",
        "        # Unpack your state: you will get tensors in the same order that you've packed in encode\n",
        "        [prev_dec, encoders, mask, probs] = prev_state\n",
        "        \n",
        "        \n",
        "        # Perform decoder step\n",
        "        # * predict next attn response and attn probas given previous decoder state\n",
        "        # * use prev token embedding and attn response to update decoder states (concatenate and feed into decoder cell)\n",
        "        # * predict logits\n",
        "        \n",
        "        \n",
        "        attn_resp, attn_prob = self.attn(encoders, prev_dec, mask)\n",
        "        \n",
        "        prev_emb = self.emb_out(prev_tokens[:,None])[:,0]\n",
        "        prev_emb = tf.concat([prev_emb, attn_resp], axis=1)\n",
        "        \n",
        "        with tf.variable_scope('dec0'):\n",
        "            new_dec_out, new_dec_state = self.dec0(prev_emb, prev_dec)\n",
        "            \n",
        "        output_logits = self.logits(new_dec_out)\n",
        "        \n",
        "        # Pack new state:\n",
        "        # * replace previous decoder state with next one\n",
        "        # * copy encoder sequence and mask from prev_state\n",
        "        # * append new attention probas\n",
        "        new_state = [new_dec_state, encoders, mask, attn_prob]\n",
        "        return new_state, output_logits\n"
      ],
      "execution_count": 0,
      "outputs": []
    },
    {
      "metadata": {
        "colab": {
          "base_uri": "https://localhost:8080/",
          "height": 145
        },
        "colab_type": "code",
        "outputId": "40db7701-1111-48d1-b22e-a63d5e4c05bf",
        "id": "yUkZyiQ6pIkf"
      },
      "cell_type": "code",
      "source": [
        "# WARNING! this cell will clear your TF graph from the regular model. All trained variables will be gone!\n",
        "tf.reset_default_graph()\n",
        "sess = tf.InteractiveSession()\n",
        "model = AttentiveBiderectionalModel('model_2_attn', inp_voc, out_voc)"
      ],
      "execution_count": 111,
      "outputs": [
        {
          "output_type": "stream",
          "text": [
            "/usr/local/lib/python3.6/dist-packages/tensorflow/python/client/session.py:1662: UserWarning: An interactive session is already active. This can cause out-of-memory errors in some cases. You must explicitly call `InteractiveSession.close()` to release resources held by the other session(s).\n",
            "  warnings.warn('An interactive session is already active. This can '\n"
          ],
          "name": "stderr"
        },
        {
          "output_type": "stream",
          "text": [
            "(?, ?, 1)\n",
            "(?, ?, 256)\n",
            "(?, ?, 1)\n",
            "(?, ?, 256)\n"
          ],
          "name": "stdout"
        }
      ]
    },
    {
      "metadata": {
        "colab": {
          "base_uri": "https://localhost:8080/",
          "height": 89
        },
        "colab_type": "code",
        "outputId": "e60f0dc6-9bea-4b72-b1b1-0afc74a92586",
        "id": "J9PxAb52pIkm"
      },
      "cell_type": "code",
      "source": [
        "inp = tf.placeholder('int32', [None, None])\n",
        "out = tf.placeholder('int32', [None, None])\n",
        "\n",
        "loss = compute_loss(model, inp, out)\n",
        "train_step = tf.train.AdamOptimizer().minimize(loss)"
      ],
      "execution_count": 112,
      "outputs": [
        {
          "output_type": "stream",
          "text": [
            "(?, ?, 1)\n",
            "(?, ?, 256)\n",
            "(?, ?, 1)\n",
            "(?, ?, 256)\n"
          ],
          "name": "stdout"
        }
      ]
    },
    {
      "metadata": {
        "colab": {},
        "colab_type": "code",
        "id": "b9NdFruLpIko"
      },
      "cell_type": "code",
      "source": [
        "metrics = {'train_loss': [], 'dev_bleu': []}\n",
        "sess.run(tf.global_variables_initializer())\n",
        "batch_size = 32"
      ],
      "execution_count": 0,
      "outputs": []
    },
    {
      "metadata": {
        "colab": {
          "base_uri": "https://localhost:8080/",
          "height": 370
        },
        "colab_type": "code",
        "outputId": "d8033393-de1f-4c00-fb3a-c6c75b6dcbe2",
        "id": "SgEM7k1CpIkr"
      },
      "cell_type": "code",
      "source": [
        "for _ in trange(10000):\n",
        "    step = len(metrics['train_loss']) + 1\n",
        "    batch_ix = np.random.randint(len(train_inp), size=batch_size)\n",
        "    feed_dict = {\n",
        "        inp: inp_voc.to_matrix(train_inp[batch_ix]),\n",
        "        out: out_voc.to_matrix(train_out[batch_ix]),\n",
        "    }\n",
        "    \n",
        "    loss_t, _ = sess.run([loss, train_step], feed_dict)\n",
        "    metrics['train_loss'].append((step, loss_t))\n",
        "    \n",
        "    if step % 100 == 0:\n",
        "        metrics['dev_bleu'].append((step, compute_bleu(model, dev_inp, dev_out)))\n",
        "        \n",
        "        clear_output(True)\n",
        "        plt.figure(figsize=(12,4))\n",
        "        for i, (name, history) in enumerate(sorted(metrics.items())):\n",
        "            plt.subplot(1, len(metrics), i + 1)\n",
        "            plt.title(name)\n",
        "            plt.plot(*zip(*history))\n",
        "            plt.grid()\n",
        "        plt.show()\n",
        "        print(\"Mean loss=%.3f\" % np.mean(metrics['train_loss'][-10:], axis=0)[1], flush=True)\n",
        "\n",
        "# Your model may train slower than the basic one. check that it's at least >30 bleu by 5k steps\n",
        "# Also: you don't have to train for 25k steps. It was chosen by a squirrel."
      ],
      "execution_count": 114,
      "outputs": [
        {
          "output_type": "display_data",
          "data": {
            "image/png": "[encoded data removed]",
            "text/plain": [
              "<matplotlib.figure.Figure at 0x7ff4b6c37c18>"
            ]
          },
          "metadata": {
            "tags": []
          }
        },
        {
          "output_type": "stream",
          "text": [
            "Mean loss=1.985\n"
          ],
          "name": "stdout"
        },
        {
          "output_type": "stream",
          "text": [
            "\n",
            "\n",
            "100%|██████████| 10000/10000 [1:16:46<00:00,  3.82s/it]\u001b[A\u001b[A\n",
            "\n",
            "\u001b[A\u001b[A"
          ],
          "name": "stderr"
        }
      ]
    },
    {
      "metadata": {
        "id": "dtsxNLmk8HX4",
        "colab_type": "code",
        "colab": {
          "base_uri": "https://localhost:8080/",
          "height": 35
        },
        "outputId": "9ca85dd0-a2f3-4d2d-d868-20b62cf0032a"
      },
      "cell_type": "code",
      "source": [
        "np.mean(metrics['dev_bleu'][-10:], axis=0)[1]"
      ],
      "execution_count": 117,
      "outputs": [
        {
          "output_type": "execute_result",
          "data": {
            "text/plain": [
              "50.94453159828451"
            ]
          },
          "metadata": {
            "tags": []
          },
          "execution_count": 117
        }
      ]
    },
    {
      "metadata": {
        "id": "n_s4gXFNaCvL",
        "colab_type": "code",
        "colab": {}
      },
      "cell_type": "code",
      "source": [
        ""
      ],
      "execution_count": 0,
      "outputs": []
    },
    {
      "metadata": {
        "id": "vXcDN9Va87Aq",
        "colab_type": "text"
      },
      "cell_type": "markdown",
      "source": [
        "### Попробуем запустить на несколько слоев."
      ]
    },
    {
      "metadata": {
        "id": "j2GY7LrQ85Re",
        "colab_type": "code",
        "colab": {}
      },
      "cell_type": "code",
      "source": [
        ""
      ],
      "execution_count": 0,
      "outputs": []
    },
    {
      "metadata": {
        "colab": {},
        "colab_type": "code",
        "id": "wrclLYke9OCE"
      },
      "cell_type": "code",
      "source": [
        "class AttentiveBiderectionalMultilayerModel(AttentiveBiderectionalModel):\n",
        "    def __init__(self, name, inp_voc, out_voc,\n",
        "                 emb_size=64, hid_size=128, attn_size=128):\n",
        "        \"\"\" Translation model that uses attention. See instructions above. \"\"\"\n",
        "        self.name = name\n",
        "        self.inp_voc = inp_voc\n",
        "        self.out_voc = out_voc\n",
        "\n",
        "        with tf.variable_scope(name):\n",
        "            \n",
        "            # YOUR CODE - define model layers\n",
        "            \n",
        "            self.ebm_inp = L.Embedding(len(inp_voc), emb_size)\n",
        "            self.emb_out = L.Embedding(len(out_voc), emb_size)\n",
        "            \n",
        "            self.enc0 = tf.contrib.cudnn_rnn.CudnnGRU(2, hid_size, direction='bidirectional')\n",
        "            \n",
        "            self.attn = AttentionLayer('attention_layer', 2 * hid_size, 2 * hid_size, attn_size)\n",
        "            \n",
        "            self.dec_start = L.Dense(2 * hid_size)\n",
        "            self.dec0 = tf.contrib.cudnn_rnn.CudnnGRU(1, 2 * hid_size)\n",
        "            self.logits = L.Dense(len(out_voc))\n",
        "            # END OF YOUR CODE\n",
        "            \n",
        "            # prepare to translate_lines\n",
        "            self.inp = tf.placeholder('int32', [None, None])\n",
        "            self.initial_state = self.prev_state = self.encode(self.inp)\n",
        "            self.prev_tokens = tf.placeholder('int32', [None])\n",
        "            self.next_state, self.next_logits = self.decode(self.prev_state, self.prev_tokens)\n",
        "\n",
        "        self.weights = tf.get_collection(tf.GraphKeys.TRAINABLE_VARIABLES, scope=name)\n",
        "\n",
        "    def encode(self, inp, **flags):\n",
        "        \"\"\"\n",
        "        Takes symbolic input sequence, computes initial state\n",
        "        :param inp: matrix of input tokens [batch, time]\n",
        "        :return: a list of initial decoder state tensors\n",
        "        \"\"\"\n",
        "        \n",
        "        # encode input sequence, create initial decoder states\n",
        "        \n",
        "        inp_lengths = infer_length(inp, self.inp_voc.eos_ix)\n",
        "        inp_emb = self.ebm_inp(inp)\n",
        "        encoders = []\n",
        "        inp_emb_trans = tf.transpose(inp_emb, [1, 0, 2])\n",
        "        \n",
        "        with tf.variable_scope('enc0'):\n",
        "            outputs_trans, (forward_last,) = self.enc0(inp_emb_trans)\n",
        "            \n",
        "            encoders = tf.transpose(outputs, [1, 0, 2])\n",
        "            \n",
        "        last_state = tf.reshape(tf.transpose(forward_last, [1, 0, 2]), [forward_last.shape[1], -1])\n",
        "        \n",
        "        dec_start = self.dec_start(last_state)\n",
        "        mask = infer_mask(inp, inp_voc.eos_ix)\n",
        "        # apply attention layer from initial decoder hidden state\n",
        "        attn_resp, probs = self.attn(encoders, dec_start, mask)\n",
        "        \n",
        "        # Build first state: include\n",
        "        # * initial states for decoder recurrent layers\n",
        "        # * encoder sequence and encoder attn mask (for attention)\n",
        "        # * make sure that last state item is attention probabilities tensor\n",
        "        \n",
        "        first_state = [dec_start, encoders, mask, probs]\n",
        "        return first_state\n",
        "\n",
        "    def decode(self, prev_state, prev_tokens, **flags):\n",
        "        \"\"\"\n",
        "        Takes previous decoder state and tokens, returns new state and logits\n",
        "        :param prev_state: a list of previous decoder state tensors\n",
        "        :param prev_tokens: previous output tokens, an int vector of [batch_size]\n",
        "        :return: a list of next decoder state tensors, a tensor of logits [batch,n_tokens]\n",
        "        \"\"\"\n",
        "        # Unpack your state: you will get tensors in the same order that you've packed in encode\n",
        "        [prev_dec, encoders, mask, probs] = prev_state\n",
        "        \n",
        "        \n",
        "        # Perform decoder step\n",
        "        # * predict next attn response and attn probas given previous decoder state\n",
        "        # * use prev token embedding and attn response to update decoder states (concatenate and feed into decoder cell)\n",
        "        # * predict logits\n",
        "        \n",
        "        \n",
        "        attn_resp, attn_prob = self.attn(encoders, prev_dec, mask)\n",
        "        \n",
        "        prev_emb = self.emb_out(prev_tokens[:,None])[:,0]\n",
        "        prev_emb = tf.concat([prev_emb, attn_resp], axis=1)\n",
        "        \n",
        "        with tf.variable_scope('dec0'):\n",
        "            new_dec_out, (new_dec_state,) = self.dec0(tf.expand_dims(prev_emb, 0), tf.expand_dims(prev_dec, 0))\n",
        "            \n",
        "        new_dec_out = new_dec_out[0, :, :]\n",
        "        new_dec_state = new_dec_state[0, :, :]\n",
        "        output_logits = self.logits(new_dec_out)\n",
        "        \n",
        "        # Pack new state:\n",
        "        # * replace previous decoder state with next one\n",
        "        # * copy encoder sequence and mask from prev_state\n",
        "        # * append new attention probas\n",
        "        new_state = [new_dec_state, encoders, mask, attn_prob]\n",
        "        return new_state, output_logits\n"
      ],
      "execution_count": 0,
      "outputs": []
    },
    {
      "metadata": {
        "colab": {
          "base_uri": "https://localhost:8080/",
          "height": 145
        },
        "colab_type": "code",
        "outputId": "a9d90fd1-8a1a-4bc5-8fb7-490945c8dd46",
        "id": "YIbNAI959OCK"
      },
      "cell_type": "code",
      "source": [
        "# WARNING! this cell will clear your TF graph from the regular model. All trained variables will be gone!\n",
        "tf.reset_default_graph()\n",
        "sess = tf.InteractiveSession()\n",
        "model = AttentiveBiderectionalModel('model_2_attn', inp_voc, out_voc)"
      ],
      "execution_count": 125,
      "outputs": [
        {
          "output_type": "stream",
          "text": [
            "/usr/local/lib/python3.6/dist-packages/tensorflow/python/client/session.py:1662: UserWarning: An interactive session is already active. This can cause out-of-memory errors in some cases. You must explicitly call `InteractiveSession.close()` to release resources held by the other session(s).\n",
            "  warnings.warn('An interactive session is already active. This can '\n"
          ],
          "name": "stderr"
        },
        {
          "output_type": "stream",
          "text": [
            "(?, ?, 1)\n",
            "(?, ?, 256)\n",
            "(?, ?, 1)\n",
            "(?, ?, 256)\n"
          ],
          "name": "stdout"
        }
      ]
    },
    {
      "metadata": {
        "colab": {
          "base_uri": "https://localhost:8080/",
          "height": 89
        },
        "colab_type": "code",
        "outputId": "d4d91131-3d4f-4f45-d648-5b5ead695393",
        "id": "_o3D_lmq9OCO"
      },
      "cell_type": "code",
      "source": [
        "inp = tf.placeholder('int32', [None, None])\n",
        "out = tf.placeholder('int32', [None, None])\n",
        "\n",
        "loss = compute_loss(model, inp, out)\n",
        "train_step = tf.train.AdamOptimizer().minimize(loss)"
      ],
      "execution_count": 126,
      "outputs": [
        {
          "output_type": "stream",
          "text": [
            "(?, ?, 1)\n",
            "(?, ?, 256)\n",
            "(?, ?, 1)\n",
            "(?, ?, 256)\n"
          ],
          "name": "stdout"
        }
      ]
    },
    {
      "metadata": {
        "colab": {},
        "colab_type": "code",
        "id": "dPstNRwo9OCR"
      },
      "cell_type": "code",
      "source": [
        "metrics = {'train_loss': [], 'dev_bleu': []}\n",
        "sess.run(tf.global_variables_initializer())\n",
        "batch_size = 32"
      ],
      "execution_count": 0,
      "outputs": []
    },
    {
      "metadata": {
        "colab": {
          "base_uri": "https://localhost:8080/",
          "height": 2818
        },
        "colab_type": "code",
        "outputId": "0a46d848-7a5e-439b-9d4c-b3558ac5de00",
        "id": "Q_cqp7xH9OCS"
      },
      "cell_type": "code",
      "source": [
        "for _ in trange(25000):\n",
        "    step = len(metrics['train_loss']) + 1\n",
        "    batch_ix = np.random.randint(len(train_inp), size=batch_size)\n",
        "    feed_dict = {\n",
        "        inp: inp_voc.to_matrix(train_inp[batch_ix]),\n",
        "        out: out_voc.to_matrix(train_out[batch_ix]),\n",
        "    }\n",
        "    \n",
        "    loss_t, _ = sess.run([loss, train_step], feed_dict)\n",
        "    metrics['train_loss'].append((step, loss_t))\n",
        "    \n",
        "    if step % 100 == 0:\n",
        "        metrics['dev_bleu'].append((step, compute_bleu(model, dev_inp, dev_out)))\n",
        "        \n",
        "        clear_output(True)\n",
        "        plt.figure(figsize=(12,4))\n",
        "        for i, (name, history) in enumerate(sorted(metrics.items())):\n",
        "            plt.subplot(1, len(metrics), i + 1)\n",
        "            plt.title(name)\n",
        "            plt.plot(*zip(*history))\n",
        "            plt.grid()\n",
        "        plt.show()\n",
        "        print(\"Mean loss=%.3f\" % np.mean(metrics['train_loss'][-10:], axis=0)[1], flush=True)\n",
        "\n",
        "# Your model may train slower than the basic one. check that it's at least >30 bleu by 5k steps\n",
        "# Also: you don't have to train for 25k steps. It was chosen by a squirrel."
      ],
      "execution_count": 129,
      "outputs": [
        {
          "output_type": "display_data",
          "data": {
            "image/png": "[encoded data removed]",
            "text/plain": [
              "<matplotlib.figure.Figure at 0x7ff4541389e8>"
            ]
          },
          "metadata": {
            "tags": []
          }
        },
        {
          "output_type": "stream",
          "text": [
            "Mean loss=1.310\n"
          ],
          "name": "stdout"
        },
        {
          "output_type": "stream",
          "text": [
            "\n",
            "\n",
            "\n",
            "\n",
            "100%|█████████▉| 24967/25000 [3:12:46<02:04,  3.76s/it]\u001b[A\u001b[A\u001b[A\u001b[A\n",
            "\n",
            "\n",
            "\n",
            "100%|█████████▉| 24968/25000 [3:12:46<01:27,  2.73s/it]\u001b[A\u001b[A\u001b[A\u001b[A\n",
            "\n",
            "\n",
            "\n",
            "100%|█████████▉| 24969/25000 [3:12:47<01:02,  2.02s/it]\u001b[A\u001b[A\u001b[A\u001b[A\n",
            "\n",
            "\n",
            "\n",
            "100%|█████████▉| 24970/25000 [3:12:47<00:45,  1.51s/it]\u001b[A\u001b[A\u001b[A\u001b[A\n",
            "\n",
            "\n",
            "\n",
            "100%|█████████▉| 24971/25000 [3:12:47<00:33,  1.16s/it]\u001b[A\u001b[A\u001b[A\u001b[A\n",
            "\n",
            "\n",
            "\n",
            "100%|█████████▉| 24972/25000 [3:12:48<00:25,  1.09it/s]\u001b[A\u001b[A\u001b[A\u001b[A\n",
            "\n",
            "\n",
            "\n",
            "100%|█████████▉| 24973/25000 [3:12:48<00:20,  1.34it/s]\u001b[A\u001b[A\u001b[A\u001b[A\n",
            "\n",
            "\n",
            "\n",
            "100%|█████████▉| 24974/25000 [3:12:48<00:16,  1.58it/s]\u001b[A\u001b[A\u001b[A\u001b[A\n",
            "\n",
            "\n",
            "\n",
            "100%|█████████▉| 24975/25000 [3:12:49<00:13,  1.82it/s]\u001b[A\u001b[A\u001b[A\u001b[A\n",
            "\n",
            "\n",
            "\n",
            "100%|█████████▉| 24976/25000 [3:12:49<00:11,  2.03it/s]\u001b[A\u001b[A\u001b[A\u001b[A\n",
            "\n",
            "\n",
            "\n",
            "100%|█████████▉| 24977/25000 [3:12:49<00:10,  2.20it/s]\u001b[A\u001b[A\u001b[A\u001b[A\n",
            "\n",
            "\n",
            "\n",
            "100%|█████████▉| 24978/25000 [3:12:50<00:08,  2.45it/s]\u001b[A\u001b[A\u001b[A\u001b[A\n",
            "\n",
            "\n",
            "\n",
            "100%|█████████▉| 24979/25000 [3:12:50<00:08,  2.53it/s]\u001b[A\u001b[A\u001b[A\u001b[A\n",
            "\n",
            "\n",
            "\n",
            "100%|█████████▉| 24980/25000 [3:12:50<00:07,  2.58it/s]\u001b[A\u001b[A\u001b[A\u001b[A\n",
            "\n",
            "\n",
            "\n",
            "100%|█████████▉| 24981/25000 [3:12:51<00:07,  2.55it/s]\u001b[A\u001b[A\u001b[A\u001b[A\n",
            "\n",
            "\n",
            "\n",
            "100%|█████████▉| 24982/25000 [3:12:51<00:08,  2.22it/s]\u001b[A\u001b[A\u001b[A\u001b[A\n",
            "\n",
            "\n",
            "\n",
            "100%|█████████▉| 24983/25000 [3:12:52<00:06,  2.60it/s]\u001b[A\u001b[A\u001b[A\u001b[A\n",
            "\n",
            "\n",
            "\n",
            "100%|█████████▉| 24984/25000 [3:12:52<00:06,  2.66it/s]\u001b[A\u001b[A\u001b[A\u001b[A\n",
            "\n",
            "\n",
            "\n",
            "100%|█████████▉| 24985/25000 [3:12:52<00:05,  2.75it/s]\u001b[A\u001b[A\u001b[A\u001b[A\n",
            "\n",
            "\n",
            "\n",
            "100%|█████████▉| 24986/25000 [3:12:53<00:05,  2.76it/s]\u001b[A\u001b[A\u001b[A\u001b[A\n",
            "\n",
            "\n",
            "\n",
            "100%|█████████▉| 24987/25000 [3:12:53<00:05,  2.58it/s]\u001b[A\u001b[A\u001b[A\u001b[A\n",
            "\n",
            "\n",
            "\n",
            "100%|█████████▉| 24988/25000 [3:12:53<00:04,  2.71it/s]\u001b[A\u001b[A\u001b[A\u001b[A\n",
            "\n",
            "\n",
            "\n",
            "100%|█████████▉| 24989/25000 [3:12:54<00:03,  2.94it/s]\u001b[A\u001b[A\u001b[A\u001b[A\n",
            "\n",
            "\n",
            "\n",
            "100%|█████████▉| 24990/25000 [3:12:54<00:03,  2.54it/s]\u001b[A\u001b[A\u001b[A\u001b[A\n",
            "\n",
            "\n",
            "\n",
            "100%|█████████▉| 24991/25000 [3:12:55<00:03,  2.59it/s]\u001b[A\u001b[A\u001b[A\u001b[A\n",
            "\n",
            "\n",
            "\n",
            "100%|█████████▉| 24992/25000 [3:12:55<00:03,  2.60it/s]\u001b[A\u001b[A\u001b[A\u001b[A\n",
            "\n",
            "\n",
            "\n",
            "100%|█████████▉| 24993/25000 [3:12:55<00:02,  2.70it/s]\u001b[A\u001b[A\u001b[A\u001b[A\n",
            "\n",
            "\n",
            "\n",
            "100%|█████████▉| 24994/25000 [3:12:56<00:02,  2.34it/s]\u001b[A\u001b[A\u001b[A\u001b[A\n",
            "\n",
            "\n",
            "\n",
            "100%|█████████▉| 24995/25000 [3:12:56<00:02,  2.32it/s]\u001b[A\u001b[A\u001b[A\u001b[A\n",
            "\n",
            "\n",
            "\n",
            "100%|█████████▉| 24996/25000 [3:12:57<00:01,  2.55it/s]\u001b[A\u001b[A\u001b[A\u001b[A\n",
            "\n",
            "\n",
            "\n",
            "100%|█████████▉| 24997/25000 [3:12:57<00:01,  2.72it/s]\u001b[A\u001b[A\u001b[A\u001b[A\n",
            "\n",
            "\n",
            "\n",
            "100%|█████████▉| 24998/25000 [3:12:57<00:00,  2.81it/s]\u001b[A\u001b[A\u001b[A\u001b[A\n",
            "\n",
            "\n",
            "\n",
            "100%|█████████▉| 24999/25000 [3:12:58<00:00,  2.82it/s]\u001b[A\u001b[A\u001b[A\u001b[A\n",
            "\n",
            "\n",
            "\n",
            "100%|██████████| 25000/25000 [3:12:58<00:00,  3.09it/s]\u001b[A\u001b[A\u001b[A\u001b[A\n",
            "\n",
            "\n",
            "\n",
            "\u001b[A\u001b[A\u001b[A\u001b[A"
          ],
          "name": "stderr"
        }
      ]
    },
    {
      "metadata": {
        "colab_type": "code",
        "colab": {
          "base_uri": "https://localhost:8080/",
          "height": 35
        },
        "outputId": "1eb8b1c3-8135-422b-a812-83cee59b42ba",
        "id": "OtWfZr8_4EfY"
      },
      "cell_type": "code",
      "source": [
        "np.mean(metrics['dev_bleu'][-10:], axis=0)[1]"
      ],
      "execution_count": 130,
      "outputs": [
        {
          "output_type": "execute_result",
          "data": {
            "text/plain": [
              "54.94692888187783"
            ]
          },
          "metadata": {
            "tags": []
          },
          "execution_count": 130
        }
      ]
    },
    {
      "metadata": {
        "colab": {},
        "colab_type": "code",
        "id": "N3B7tVf94jMd"
      },
      "cell_type": "code",
      "source": [
        "inp = dev_inp[::500]\n",
        "\n",
        "trans, states = model.translate_lines(inp)\n",
        "\n",
        "# select attention probs from model state (you may need to change this for your custom model)\n",
        "attention_probs = np.stack([state[-1] for state in states], axis=1)"
      ],
      "execution_count": 0,
      "outputs": []
    },
    {
      "metadata": {
        "colab": {
          "base_uri": "https://localhost:8080/",
          "height": 3047
        },
        "colab_type": "code",
        "scrolled": false,
        "outputId": "3cc4eec7-ed97-4671-bf7b-bcaf2e08ac39",
        "id": "lT6wvLQ94jMg"
      },
      "cell_type": "code",
      "source": [
        "output_notebook()\n",
        "for i in range(5):\n",
        "    draw_attention(inp[i], trans[i], attention_probs[i])"
      ],
      "execution_count": 132,
      "outputs": [
        {
          "output_type": "display_data",
          "data": {
            "text/html": [
              "\n",
              "    <div class=\"bk-root\">\n",
              "        <a href=\"https://bokeh.pydata.org\" target=\"_blank\" class=\"bk-logo bk-logo-small bk-logo-notebook\"></a>\n",
              "        <span id=\"18699b03-32c5-4a41-bdb4-a9782d0b2f1c\">Loading BokehJS ...</span>\n",
              "    </div>"
            ]
          },
          "metadata": {
            "tags": []
          }
        },
        {
          "output_type": "display_data",
          "data": {
            "application/javascript": [
              "\n",
              "(function(root) {\n",
              "  function now() {\n",
              "    return new Date();\n",
              "  }\n",
              "\n",
              "  var force = true;\n",
              "\n",
              "  if (typeof (root._bokeh_onload_callbacks) === \"undefined\" || force === true) {\n",
              "    root._bokeh_onload_callbacks = [];\n",
              "    root._bokeh_is_loading = undefined;\n",
              "  }\n",
              "\n",
              "  var JS_MIME_TYPE = 'application/javascript';\n",
              "  var HTML_MIME_TYPE = 'text/html';\n",
              "  var EXEC_MIME_TYPE = 'application/vnd.bokehjs_exec.v0+json';\n",
              "  var CLASS_NAME = 'output_bokeh rendered_html';\n",
              "\n",
              "  /**\n",
              "   * Render data to the DOM node\n",
              "   */\n",
              "  function render(props, node) {\n",
              "    var script = document.createElement(\"script\");\n",
              "    node.appendChild(script);\n",
              "  }\n",
              "\n",
              "  /**\n",
              "   * Handle when an output is cleared or removed\n",
              "   */\n",
              "  function handleClearOutput(event, handle) {\n",
              "    var cell = handle.cell;\n",
              "\n",
              "    var id = cell.output_area._bokeh_element_id;\n",
              "    var server_id = cell.output_area._bokeh_server_id;\n",
              "    // Clean up Bokeh references\n",
              "    if (id != null && id in Bokeh.index) {\n",
              "      Bokeh.index[id].model.document.clear();\n",
              "      delete Bokeh.index[id];\n",
              "    }\n",
              "\n",
              "    if (server_id !== undefined) {\n",
              "      // Clean up Bokeh references\n",
              "      var cmd = \"from bokeh.io.state import curstate; print(curstate().uuid_to_server['\" + server_id + \"'].get_sessions()[0].document.roots[0]._id)\";\n",
              "      cell.notebook.kernel.execute(cmd, {\n",
              "        iopub: {\n",
              "          output: function(msg) {\n",
              "            var id = msg.content.text.trim();\n",
              "            if (id in Bokeh.index) {\n",
              "              Bokeh.index[id].model.document.clear();\n",
              "              delete Bokeh.index[id];\n",
              "            }\n",
              "          }\n",
              "        }\n",
              "      });\n",
              "      // Destroy server and session\n",
              "      var cmd = \"import bokeh.io.notebook as ion; ion.destroy_server('\" + server_id + \"')\";\n",
              "      cell.notebook.kernel.execute(cmd);\n",
              "    }\n",
              "  }\n",
              "\n",
              "  /**\n",
              "   * Handle when a new output is added\n",
              "   */\n",
              "  function handleAddOutput(event, handle) {\n",
              "    var output_area = handle.output_area;\n",
              "    var output = handle.output;\n",
              "\n",
              "    // limit handleAddOutput to display_data with EXEC_MIME_TYPE content only\n",
              "    if ((output.output_type != \"display_data\") || (!output.data.hasOwnProperty(EXEC_MIME_TYPE))) {\n",
              "      return\n",
              "    }\n",
              "\n",
              "    var toinsert = output_area.element.find(\".\" + CLASS_NAME.split(' ')[0]);\n",
              "\n",
              "    if (output.metadata[EXEC_MIME_TYPE][\"id\"] !== undefined) {\n",
              "      toinsert[toinsert.length - 1].firstChild.textContent = output.data[JS_MIME_TYPE];\n",
              "      // store reference to embed id on output_area\n",
              "      output_area._bokeh_element_id = output.metadata[EXEC_MIME_TYPE][\"id\"];\n",
              "    }\n",
              "    if (output.metadata[EXEC_MIME_TYPE][\"server_id\"] !== undefined) {\n",
              "      var bk_div = document.createElement(\"div\");\n",
              "      bk_div.innerHTML = output.data[HTML_MIME_TYPE];\n",
              "      var script_attrs = bk_div.children[0].attributes;\n",
              "      for (var i = 0; i < script_attrs.length; i++) {\n",
              "        toinsert[toinsert.length - 1].firstChild.setAttribute(script_attrs[i].name, script_attrs[i].value);\n",
              "      }\n",
              "      // store reference to server id on output_area\n",
              "      output_area._bokeh_server_id = output.metadata[EXEC_MIME_TYPE][\"server_id\"];\n",
              "    }\n",
              "  }\n",
              "\n",
              "  function register_renderer(events, OutputArea) {\n",
              "\n",
              "    function append_mime(data, metadata, element) {\n",
              "      // create a DOM node to render to\n",
              "      var toinsert = this.create_output_subarea(\n",
              "        metadata,\n",
              "        CLASS_NAME,\n",
              "        EXEC_MIME_TYPE\n",
              "      );\n",
              "      this.keyboard_manager.register_events(toinsert);\n",
              "      // Render to node\n",
              "      var props = {data: data, metadata: metadata[EXEC_MIME_TYPE]};\n",
              "      render(props, toinsert[toinsert.length - 1]);\n",
              "      element.append(toinsert);\n",
              "      return toinsert\n",
              "    }\n",
              "\n",
              "    /* Handle when an output is cleared or removed */\n",
              "    events.on('clear_output.CodeCell', handleClearOutput);\n",
              "    events.on('delete.Cell', handleClearOutput);\n",
              "\n",
              "    /* Handle when a new output is added */\n",
              "    events.on('output_added.OutputArea', handleAddOutput);\n",
              "\n",
              "    /**\n",
              "     * Register the mime type and append_mime function with output_area\n",
              "     */\n",
              "    OutputArea.prototype.register_mime_type(EXEC_MIME_TYPE, append_mime, {\n",
              "      /* Is output safe? */\n",
              "      safe: true,\n",
              "      /* Index of renderer in `output_area.display_order` */\n",
              "      index: 0\n",
              "    });\n",
              "  }\n",
              "\n",
              "  // register the mime type if in Jupyter Notebook environment and previously unregistered\n",
              "  if (root.Jupyter !== undefined) {\n",
              "    var events = require('base/js/events');\n",
              "    var OutputArea = require('notebook/js/outputarea').OutputArea;\n",
              "\n",
              "    if (OutputArea.prototype.mime_types().indexOf(EXEC_MIME_TYPE) == -1) {\n",
              "      register_renderer(events, OutputArea);\n",
              "    }\n",
              "  }\n",
              "\n",
              "  \n",
              "  if (typeof (root._bokeh_timeout) === \"undefined\" || force === true) {\n",
              "    root._bokeh_timeout = Date.now() + 5000;\n",
              "    root._bokeh_failed_load = false;\n",
              "  }\n",
              "\n",
              "  var NB_LOAD_WARNING = {'data': {'text/html':\n",
              "     \"<div style='background-color: #fdd'>\\n\"+\n",
              "     \"<p>\\n\"+\n",
              "     \"BokehJS does not appear to have successfully loaded. If loading BokehJS from CDN, this \\n\"+\n",
              "     \"may be due to a slow or bad network connection. Possible fixes:\\n\"+\n",
              "     \"</p>\\n\"+\n",
              "     \"<ul>\\n\"+\n",
              "     \"<li>re-rerun `output_notebook()` to attempt to load from CDN again, or</li>\\n\"+\n",
              "     \"<li>use INLINE resources instead, as so:</li>\\n\"+\n",
              "     \"</ul>\\n\"+\n",
              "     \"<code>\\n\"+\n",
              "     \"from bokeh.resources import INLINE\\n\"+\n",
              "     \"output_notebook(resources=INLINE)\\n\"+\n",
              "     \"</code>\\n\"+\n",
              "     \"</div>\"}};\n",
              "\n",
              "  function display_loaded() {\n",
              "    var el = document.getElementById(\"18699b03-32c5-4a41-bdb4-a9782d0b2f1c\");\n",
              "    if (el != null) {\n",
              "      el.textContent = \"BokehJS is loading...\";\n",
              "    }\n",
              "    if (root.Bokeh !== undefined) {\n",
              "      if (el != null) {\n",
              "        el.textContent = \"BokehJS \" + root.Bokeh.version + \" successfully loaded.\";\n",
              "      }\n",
              "    } else if (Date.now() < root._bokeh_timeout) {\n",
              "      setTimeout(display_loaded, 100)\n",
              "    }\n",
              "  }\n",
              "\n",
              "\n",
              "  function run_callbacks() {\n",
              "    try {\n",
              "      root._bokeh_onload_callbacks.forEach(function(callback) { callback() });\n",
              "    }\n",
              "    finally {\n",
              "      delete root._bokeh_onload_callbacks\n",
              "    }\n",
              "    console.info(\"Bokeh: all callbacks have finished\");\n",
              "  }\n",
              "\n",
              "  function load_libs(js_urls, callback) {\n",
              "    root._bokeh_onload_callbacks.push(callback);\n",
              "    if (root._bokeh_is_loading > 0) {\n",
              "      console.log(\"Bokeh: BokehJS is being loaded, scheduling callback at\", now());\n",
              "      return null;\n",
              "    }\n",
              "    if (js_urls == null || js_urls.length === 0) {\n",
              "      run_callbacks();\n",
              "      return null;\n",
              "    }\n",
              "    console.log(\"Bokeh: BokehJS not loaded, scheduling load and callback at\", now());\n",
              "    root._bokeh_is_loading = js_urls.length;\n",
              "    for (var i = 0; i < js_urls.length; i++) {\n",
              "      var url = js_urls[i];\n",
              "      var s = document.createElement('script');\n",
              "      s.src = url;\n",
              "      s.async = false;\n",
              "      s.onreadystatechange = s.onload = function() {\n",
              "        root._bokeh_is_loading--;\n",
              "        if (root._bokeh_is_loading === 0) {\n",
              "          console.log(\"Bokeh: all BokehJS libraries loaded\");\n",
              "          run_callbacks()\n",
              "        }\n",
              "      };\n",
              "      s.onerror = function() {\n",
              "        console.warn(\"failed to load library \" + url);\n",
              "      };\n",
              "      console.log(\"Bokeh: injecting script tag for BokehJS library: \", url);\n",
              "      document.getElementsByTagName(\"head\")[0].appendChild(s);\n",
              "    }\n",
              "  };var element = document.getElementById(\"18699b03-32c5-4a41-bdb4-a9782d0b2f1c\");\n",
              "  if (element == null) {\n",
              "    console.log(\"Bokeh: ERROR: autoload.js configured with elementid '18699b03-32c5-4a41-bdb4-a9782d0b2f1c' but no matching script tag was found. \")\n",
              "    return false;\n",
              "  }\n",
              "\n",
              "  var js_urls = [\"https://cdn.pydata.org/bokeh/release/bokeh-0.13.0.min.js\", \"https://cdn.pydata.org/bokeh/release/bokeh-widgets-0.13.0.min.js\", \"https://cdn.pydata.org/bokeh/release/bokeh-tables-0.13.0.min.js\", \"https://cdn.pydata.org/bokeh/release/bokeh-gl-0.13.0.min.js\"];\n",
              "\n",
              "  var inline_js = [\n",
              "    function(Bokeh) {\n",
              "      Bokeh.set_log_level(\"info\");\n",
              "    },\n",
              "    \n",
              "    function(Bokeh) {\n",
              "      \n",
              "    },\n",
              "    function(Bokeh) {\n",
              "      console.log(\"Bokeh: injecting CSS: https://cdn.pydata.org/bokeh/release/bokeh-0.13.0.min.css\");\n",
              "      Bokeh.embed.inject_css(\"https://cdn.pydata.org/bokeh/release/bokeh-0.13.0.min.css\");\n",
              "      console.log(\"Bokeh: injecting CSS: https://cdn.pydata.org/bokeh/release/bokeh-widgets-0.13.0.min.css\");\n",
              "      Bokeh.embed.inject_css(\"https://cdn.pydata.org/bokeh/release/bokeh-widgets-0.13.0.min.css\");\n",
              "      console.log(\"Bokeh: injecting CSS: https://cdn.pydata.org/bokeh/release/bokeh-tables-0.13.0.min.css\");\n",
              "      Bokeh.embed.inject_css(\"https://cdn.pydata.org/bokeh/release/bokeh-tables-0.13.0.min.css\");\n",
              "    }\n",
              "  ];\n",
              "\n",
              "  function run_inline_js() {\n",
              "    \n",
              "    if ((root.Bokeh !== undefined) || (force === true)) {\n",
              "      for (var i = 0; i < inline_js.length; i++) {\n",
              "        inline_js[i].call(root, root.Bokeh);\n",
              "      }if (force === true) {\n",
              "        display_loaded();\n",
              "      }} else if (Date.now() < root._bokeh_timeout) {\n",
              "      setTimeout(run_inline_js, 100);\n",
              "    } else if (!root._bokeh_failed_load) {\n",
              "      console.log(\"Bokeh: BokehJS failed to load within specified timeout.\");\n",
              "      root._bokeh_failed_load = true;\n",
              "    } else if (force !== true) {\n",
              "      var cell = $(document.getElementById(\"18699b03-32c5-4a41-bdb4-a9782d0b2f1c\")).parents('.cell').data().cell;\n",
              "      cell.output_area.append_execute_result(NB_LOAD_WARNING)\n",
              "    }\n",
              "\n",
              "  }\n",
              "\n",
              "  if (root._bokeh_is_loading === 0) {\n",
              "    console.log(\"Bokeh: BokehJS loaded, going straight to plotting\");\n",
              "    run_inline_js();\n",
              "  } else {\n",
              "    load_libs(js_urls, function() {\n",
              "      console.log(\"Bokeh: BokehJS plotting callback run at\", now());\n",
              "      run_inline_js();\n",
              "    });\n",
              "  }\n",
              "}(window));"
            ],
            "application/vnd.bokehjs_load.v0+json": "\n(function(root) {\n  function now() {\n    return new Date();\n  }\n\n  var force = true;\n\n  if (typeof (root._bokeh_onload_callbacks) === \"undefined\" || force === true) {\n    root._bokeh_onload_callbacks = [];\n    root._bokeh_is_loading = undefined;\n  }\n\n  \n\n  \n  if (typeof (root._bokeh_timeout) === \"undefined\" || force === true) {\n    root._bokeh_timeout = Date.now() + 5000;\n    root._bokeh_failed_load = false;\n  }\n\n  var NB_LOAD_WARNING = {'data': {'text/html':\n     \"<div style='background-color: #fdd'>\\n\"+\n     \"<p>\\n\"+\n     \"BokehJS does not appear to have successfully loaded. If loading BokehJS from CDN, this \\n\"+\n     \"may be due to a slow or bad network connection. Possible fixes:\\n\"+\n     \"</p>\\n\"+\n     \"<ul>\\n\"+\n     \"<li>re-rerun `output_notebook()` to attempt to load from CDN again, or</li>\\n\"+\n     \"<li>use INLINE resources instead, as so:</li>\\n\"+\n     \"</ul>\\n\"+\n     \"<code>\\n\"+\n     \"from bokeh.resources import INLINE\\n\"+\n     \"output_notebook(resources=INLINE)\\n\"+\n     \"</code>\\n\"+\n     \"</div>\"}};\n\n  function display_loaded() {\n    var el = document.getElementById(\"18699b03-32c5-4a41-bdb4-a9782d0b2f1c\");\n    if (el != null) {\n      el.textContent = \"BokehJS is loading...\";\n    }\n    if (root.Bokeh !== undefined) {\n      if (el != null) {\n        el.textContent = \"BokehJS \" + root.Bokeh.version + \" successfully loaded.\";\n      }\n    } else if (Date.now() < root._bokeh_timeout) {\n      setTimeout(display_loaded, 100)\n    }\n  }\n\n\n  function run_callbacks() {\n    try {\n      root._bokeh_onload_callbacks.forEach(function(callback) { callback() });\n    }\n    finally {\n      delete root._bokeh_onload_callbacks\n    }\n    console.info(\"Bokeh: all callbacks have finished\");\n  }\n\n  function load_libs(js_urls, callback) {\n    root._bokeh_onload_callbacks.push(callback);\n    if (root._bokeh_is_loading > 0) {\n      console.log(\"Bokeh: BokehJS is being loaded, scheduling callback at\", now());\n      return null;\n    }\n    if (js_urls == null || js_urls.length === 0) {\n      run_callbacks();\n      return null;\n    }\n    console.log(\"Bokeh: BokehJS not loaded, scheduling load and callback at\", now());\n    root._bokeh_is_loading = js_urls.length;\n    for (var i = 0; i < js_urls.length; i++) {\n      var url = js_urls[i];\n      var s = document.createElement('script');\n      s.src = url;\n      s.async = false;\n      s.onreadystatechange = s.onload = function() {\n        root._bokeh_is_loading--;\n        if (root._bokeh_is_loading === 0) {\n          console.log(\"Bokeh: all BokehJS libraries loaded\");\n          run_callbacks()\n        }\n      };\n      s.onerror = function() {\n        console.warn(\"failed to load library \" + url);\n      };\n      console.log(\"Bokeh: injecting script tag for BokehJS library: \", url);\n      document.getElementsByTagName(\"head\")[0].appendChild(s);\n    }\n  };var element = document.getElementById(\"18699b03-32c5-4a41-bdb4-a9782d0b2f1c\");\n  if (element == null) {\n    console.log(\"Bokeh: ERROR: autoload.js configured with elementid '18699b03-32c5-4a41-bdb4-a9782d0b2f1c' but no matching script tag was found. \")\n    return false;\n  }\n\n  var js_urls = [\"https://cdn.pydata.org/bokeh/release/bokeh-0.13.0.min.js\", \"https://cdn.pydata.org/bokeh/release/bokeh-widgets-0.13.0.min.js\", \"https://cdn.pydata.org/bokeh/release/bokeh-tables-0.13.0.min.js\", \"https://cdn.pydata.org/bokeh/release/bokeh-gl-0.13.0.min.js\"];\n\n  var inline_js = [\n    function(Bokeh) {\n      Bokeh.set_log_level(\"info\");\n    },\n    \n    function(Bokeh) {\n      \n    },\n    function(Bokeh) {\n      console.log(\"Bokeh: injecting CSS: https://cdn.pydata.org/bokeh/release/bokeh-0.13.0.min.css\");\n      Bokeh.embed.inject_css(\"https://cdn.pydata.org/bokeh/release/bokeh-0.13.0.min.css\");\n      console.log(\"Bokeh: injecting CSS: https://cdn.pydata.org/bokeh/release/bokeh-widgets-0.13.0.min.css\");\n      Bokeh.embed.inject_css(\"https://cdn.pydata.org/bokeh/release/bokeh-widgets-0.13.0.min.css\");\n      console.log(\"Bokeh: injecting CSS: https://cdn.pydata.org/bokeh/release/bokeh-tables-0.13.0.min.css\");\n      Bokeh.embed.inject_css(\"https://cdn.pydata.org/bokeh/release/bokeh-tables-0.13.0.min.css\");\n    }\n  ];\n\n  function run_inline_js() {\n    \n    if ((root.Bokeh !== undefined) || (force === true)) {\n      for (var i = 0; i < inline_js.length; i++) {\n        inline_js[i].call(root, root.Bokeh);\n      }if (force === true) {\n        display_loaded();\n      }} else if (Date.now() < root._bokeh_timeout) {\n      setTimeout(run_inline_js, 100);\n    } else if (!root._bokeh_failed_load) {\n      console.log(\"Bokeh: BokehJS failed to load within specified timeout.\");\n      root._bokeh_failed_load = true;\n    } else if (force !== true) {\n      var cell = $(document.getElementById(\"18699b03-32c5-4a41-bdb4-a9782d0b2f1c\")).parents('.cell').data().cell;\n      cell.output_area.append_execute_result(NB_LOAD_WARNING)\n    }\n\n  }\n\n  if (root._bokeh_is_loading === 0) {\n    console.log(\"Bokeh: BokehJS loaded, going straight to plotting\");\n    run_inline_js();\n  } else {\n    load_libs(js_urls, function() {\n      console.log(\"Bokeh: BokehJS plotting callback run at\", now());\n      run_inline_js();\n    });\n  }\n}(window));"
          },
          "metadata": {
            "tags": []
          }
        },
        {
          "output_type": "display_data",
          "data": {
            "text/html": [
              "\n",
              "\n",
              "\n",
              "\n",
              "\n",
              "\n",
              "  <div class=\"bk-root\" id=\"3cf3cc5c-48f3-4d32-ba7e-c202e523ccb7\"></div>\n"
            ]
          },
          "metadata": {
            "tags": []
          }
        },
        {
          "output_type": "display_data",
          "data": {
            "application/javascript": [
              "(function(root) {\n",
              "  function embed_document(root) {\n",
              "    \n",
              "  var docs_json = {\"f72b866d-655b-4ed8-8ac8-8706d1ae07f2\":{\"roots\":{\"references\":[{\"attributes\":{\"ticks\":[0.5,1.5,2.5,3.5,4.5,5.5,6.5,7.5,8.5,9.5,10.5]},\"id\":\"8b9ed20c-df3c-4229-b8f6-23f0d6738348\",\"type\":\"FixedTicker\"},{\"attributes\":{\"callback\":null,\"end\":13},\"id\":\"0c6591f3-4b26-4742-9fa7-b37a78a73b05\",\"type\":\"Range1d\"},{\"attributes\":{\"callback\":null,\"data\":{\"image\":[{\"__ndarray__\":\"K3CMNtoxbTjXlT45vhsoOR4/GTzYqYU6f103OywTjD1JfZI8Nf0/PUhwWj9vl404+ZRsOh2LlDlZkSc5yh/POhFCTzzIhZk8lBFiPPpZzzzvmIs+EGMnP9sxBjmn/MI6IFmwOuuwpTrp50w8CrWxPFITwT3oAeE8kzTIPTcaDT86ekM+RIACNxGdmTgCV5A4bLGEOSSr4DqZ9ik8kLCBOxg6+zyxi2A/WPdqPbqhljwNc/c6kuYSO73KETs7DAE7LGQ4PMg9ljuRnTc7G4AJP9Pdzj51gx48g/m1PMUpkjj2dG85aM1YOglt1zk3SgM72VGoOoqaMD2k2V0/V7b1PMW5aDzN/yg9PsuBONU2oDk0jeE5ZhmTOvzgMT19S6w+zMX3Pnkk+Dyji7g9pfFLPK0ysjocMfE3noO0OSZiwjkpqPY6zlawPf+yPj+W1XI97BzcPI7cnj0YAfY6Sf1EOmod1DjH78I5sPwgO0dO4TtSAzc/HcEoPsuFgzyKM0A93yQ8PUnOzzkMP5w6R/d4Oj4GrTuOFio8L6GrPOzPLT8NvVs9/pdHPJaxDz7JDpM93XVGO6l/IztyLqg88aHRO93KFT2O54w9bAowP9wQGz3/2j49fE0VPeF7FT3AomA7/WidPGaF+T2IlRg96wmdPaUjGj54RhE/6RXRO85y2DsYxKE8oWuWO+d+tDqUifY7ZoX5PYiVGD3rCZ09pSMaPnhGET/pFdE7znLYOxjEoTyha5Y75360OpSJ9js=\",\"dtype\":\"float32\",\"shape\":[13,11]}]},\"selected\":{\"id\":\"7ac919ac-add6-48c8-8e9b-560ce9bbc9c4\",\"type\":\"Selection\"},\"selection_policy\":{\"id\":\"9024706f-9bfe-497f-b608-aaabf55045d4\",\"type\":\"UnionRenderers\"}},\"id\":\"d2ea3b1b-e4e5-4b89-a436-6eabc7583fde\",\"type\":\"ColumnDataSource\"},{\"attributes\":{},\"id\":\"7ac919ac-add6-48c8-8e9b-560ce9bbc9c4\",\"type\":\"Selection\"},{\"attributes\":{\"color_mapper\":{\"id\":\"211eb3cb-e3da-488a-b32a-f31b8448f90c\",\"type\":\"LinearColorMapper\"},\"dh\":{\"units\":\"data\",\"value\":13},\"dw\":{\"units\":\"data\",\"value\":11},\"image\":{\"field\":\"image\"},\"x\":{\"value\":0},\"y\":{\"value\":0}},\"id\":\"d0556b4c-6b4b-4823-8ba8-7799cb546a8e\",\"type\":\"Image\"},{\"attributes\":{\"source\":{\"id\":\"d2ea3b1b-e4e5-4b89-a436-6eabc7583fde\",\"type\":\"ColumnDataSource\"}},\"id\":\"84f0e938-8f40-4117-a9a1-3921db2f5dfb\",\"type\":\"CDSView\"},{\"attributes\":{},\"id\":\"f876bdf4-2d3b-4c29-90eb-c0d19f789e42\",\"type\":\"LinearScale\"},{\"attributes\":{\"palette\":[\"#000000\",\"#252525\",\"#525252\",\"#737373\",\"#969696\",\"#bdbdbd\",\"#d9d9d9\",\"#f0f0f0\",\"#ffffff\"]},\"id\":\"9d1c7d76-1b91-44b7-93ac-bf14c20b65d8\",\"type\":\"LinearColorMapper\"},{\"attributes\":{},\"id\":\"e76b1b2b-e622-4359-bf6f-6a78b1b7e23b\",\"type\":\"LinearScale\"},{\"attributes\":{\"active_drag\":\"auto\",\"active_inspect\":\"auto\",\"active_multi\":null,\"active_scroll\":\"auto\",\"active_tap\":\"auto\"},\"id\":\"dbeb1a33-2a35-4260-936e-53eaecea0007\",\"type\":\"Toolbar\"},{\"attributes\":{},\"id\":\"01ebcdfd-8364-46c4-8a4f-38a9cea42add\",\"type\":\"BasicTickFormatter\"},{\"attributes\":{},\"id\":\"493e77f3-c8a9-4073-8008-f89971b336f2\",\"type\":\"BasicTickFormatter\"},{\"attributes\":{\"plot\":null,\"text\":\"\"},\"id\":\"e2bc96c2-50c8-4861-9d43-27af126b35eb\",\"type\":\"Title\"},{\"attributes\":{\"above\":[{\"id\":\"a3fee8da-37b7-4d8a-8668-2c5c7dad1e27\",\"type\":\"LinearAxis\"}],\"left\":[{\"id\":\"e9e655e0-ce1b-4aa0-aad7-c390c2956498\",\"type\":\"LinearAxis\"}],\"renderers\":[{\"id\":\"928d677b-964a-4d70-a2ed-3d77c998c581\",\"type\":\"GlyphRenderer\"},{\"id\":\"a3fee8da-37b7-4d8a-8668-2c5c7dad1e27\",\"type\":\"LinearAxis\"},{\"id\":\"e9e655e0-ce1b-4aa0-aad7-c390c2956498\",\"type\":\"LinearAxis\"}],\"title\":{\"id\":\"e2bc96c2-50c8-4861-9d43-27af126b35eb\",\"type\":\"Title\"},\"toolbar\":{\"id\":\"dbeb1a33-2a35-4260-936e-53eaecea0007\",\"type\":\"Toolbar\"},\"x_range\":{\"id\":\"91eee997-3875-458d-ba5c-9524eecd491b\",\"type\":\"Range1d\"},\"x_scale\":{\"id\":\"f876bdf4-2d3b-4c29-90eb-c0d19f789e42\",\"type\":\"LinearScale\"},\"y_range\":{\"id\":\"0c6591f3-4b26-4742-9fa7-b37a78a73b05\",\"type\":\"Range1d\"},\"y_scale\":{\"id\":\"e76b1b2b-e622-4359-bf6f-6a78b1b7e23b\",\"type\":\"LinearScale\"}},\"id\":\"9f10c396-87f2-4241-ae6b-d3ee7f37692f\",\"subtype\":\"Figure\",\"type\":\"Plot\"},{\"attributes\":{\"callback\":null,\"end\":11},\"id\":\"91eee997-3875-458d-ba5c-9524eecd491b\",\"type\":\"Range1d\"},{\"attributes\":{\"data_source\":{\"id\":\"d2ea3b1b-e4e5-4b89-a436-6eabc7583fde\",\"type\":\"ColumnDataSource\"},\"glyph\":{\"id\":\"0ad67086-6134-408c-89b9-b1254feacf70\",\"type\":\"Image\"},\"hover_glyph\":null,\"muted_glyph\":null,\"nonselection_glyph\":{\"id\":\"d0556b4c-6b4b-4823-8ba8-7799cb546a8e\",\"type\":\"Image\"},\"selection_glyph\":null,\"view\":{\"id\":\"84f0e938-8f40-4117-a9a1-3921db2f5dfb\",\"type\":\"CDSView\"}},\"id\":\"928d677b-964a-4d70-a2ed-3d77c998c581\",\"type\":\"GlyphRenderer\"},{\"attributes\":{},\"id\":\"9024706f-9bfe-497f-b608-aaabf55045d4\",\"type\":\"UnionRenderers\"},{\"attributes\":{\"palette\":[\"#000000\",\"#252525\",\"#525252\",\"#737373\",\"#969696\",\"#bdbdbd\",\"#d9d9d9\",\"#f0f0f0\",\"#ffffff\"]},\"id\":\"211eb3cb-e3da-488a-b32a-f31b8448f90c\",\"type\":\"LinearColorMapper\"},{\"attributes\":{\"axis_label\":\"source tokens\",\"formatter\":{\"id\":\"01ebcdfd-8364-46c4-8a4f-38a9cea42add\",\"type\":\"BasicTickFormatter\"},\"major_label_orientation\":45,\"major_label_overrides\":{\"0.5\":\"_BOS_\",\"1.5\":\"\\u0432\",\"10.5\":\"_EOS_\",\"2.5\":\"\\u0440\\u0430\\u0441\\u043f\\u043e\\u0440\\u044f\\u0436\\u0435\\u043d\\u0438\\u0438\",\"3.5\":\"\\u0433\\u043e\\u0441\\u0442\\u0435\\u0439\",\"4.5\":\"\\u043e\\u0431\\u0449\\u0430\\u044f\",\"5.5\":\"\\u043a\\u0443\\u0445\\u043d\\u044f\",\"6.5\":\"\\u0438\",\"7.5\":\"\\u043e\\u0431\\u0449\\u0430\\u044f\",\"8.5\":\"\\u0433\\u043e\\u0441\\u0442\\u0438\\u043d\\u0430\\u044f\",\"9.5\":\".\"},\"plot\":{\"id\":\"9f10c396-87f2-4241-ae6b-d3ee7f37692f\",\"subtype\":\"Figure\",\"type\":\"Plot\"},\"ticker\":{\"id\":\"8b9ed20c-df3c-4229-b8f6-23f0d6738348\",\"type\":\"FixedTicker\"}},\"id\":\"a3fee8da-37b7-4d8a-8668-2c5c7dad1e27\",\"type\":\"LinearAxis\"},{\"attributes\":{\"ticks\":[0.5,1.5,2.5,3.5,4.5,5.5,6.5,7.5,8.5,9.5,10.5,11.5,12.5]},\"id\":\"f9e7c93d-069e-4572-9643-603ba9530f91\",\"type\":\"FixedTicker\"},{\"attributes\":{\"axis_label\":\"translation tokens\",\"formatter\":{\"id\":\"493e77f3-c8a9-4073-8008-f89971b336f2\",\"type\":\"BasicTickFormatter\"},\"major_label_overrides\":{\"0.5\":\"_EOS_\",\"1.5\":\".\",\"10.5\":\"is\",\"11.5\":\"there\",\"12.5\":\"_BOS_\",\"2.5\":\"room\",\"3.5\":\"living\",\"4.5\":\"shared\",\"5.5\":\"a\",\"6.5\":\"and\",\"7.5\":\"kitchen\",\"8.5\":\"shared\",\"9.5\":\"a\"},\"plot\":{\"id\":\"9f10c396-87f2-4241-ae6b-d3ee7f37692f\",\"subtype\":\"Figure\",\"type\":\"Plot\"},\"ticker\":{\"id\":\"f9e7c93d-069e-4572-9643-603ba9530f91\",\"type\":\"FixedTicker\"}},\"id\":\"e9e655e0-ce1b-4aa0-aad7-c390c2956498\",\"type\":\"LinearAxis\"},{\"attributes\":{\"color_mapper\":{\"id\":\"9d1c7d76-1b91-44b7-93ac-bf14c20b65d8\",\"type\":\"LinearColorMapper\"},\"dh\":{\"units\":\"data\",\"value\":13},\"dw\":{\"units\":\"data\",\"value\":11},\"image\":{\"field\":\"image\"},\"x\":{\"value\":0},\"y\":{\"value\":0}},\"id\":\"0ad67086-6134-408c-89b9-b1254feacf70\",\"type\":\"Image\"}],\"root_ids\":[\"9f10c396-87f2-4241-ae6b-d3ee7f37692f\"]},\"title\":\"Bokeh Application\",\"version\":\"0.13.0\"}};\n",
              "  var render_items = [{\"docid\":\"f72b866d-655b-4ed8-8ac8-8706d1ae07f2\",\"roots\":{\"9f10c396-87f2-4241-ae6b-d3ee7f37692f\":\"3cf3cc5c-48f3-4d32-ba7e-c202e523ccb7\"}}];\n",
              "  root.Bokeh.embed.embed_items_notebook(docs_json, render_items);\n",
              "\n",
              "  }\n",
              "  if (root.Bokeh !== undefined) {\n",
              "    embed_document(root);\n",
              "  } else {\n",
              "    var attempts = 0;\n",
              "    var timer = setInterval(function(root) {\n",
              "      if (root.Bokeh !== undefined) {\n",
              "        embed_document(root);\n",
              "        clearInterval(timer);\n",
              "      }\n",
              "      attempts++;\n",
              "      if (attempts > 100) {\n",
              "        console.log(\"Bokeh: ERROR: Unable to run BokehJS code because BokehJS library is missing\")\n",
              "        clearInterval(timer);\n",
              "      }\n",
              "    }, 10, root)\n",
              "  }\n",
              "})(window);"
            ],
            "application/vnd.bokehjs_exec.v0+json": ""
          },
          "metadata": {
            "tags": [],
            "application/vnd.bokehjs_exec.v0+json": {
              "id": "9f10c396-87f2-4241-ae6b-d3ee7f37692f"
            }
          }
        },
        {
          "output_type": "display_data",
          "data": {
            "text/html": [
              "\n",
              "\n",
              "\n",
              "\n",
              "\n",
              "\n",
              "  <div class=\"bk-root\" id=\"ae1813ab-6709-485e-adea-04f6faa77dc9\"></div>\n"
            ]
          },
          "metadata": {
            "tags": []
          }
        },
        {
          "output_type": "display_data",
          "data": {
            "application/javascript": [
              "(function(root) {\n",
              "  function embed_document(root) {\n",
              "    \n",
              "  var docs_json = {\"1ca74afd-9a41-498b-9cb8-a704f4c89815\":{\"roots\":{\"references\":[{\"attributes\":{\"palette\":[\"#000000\",\"#252525\",\"#525252\",\"#737373\",\"#969696\",\"#bdbdbd\",\"#d9d9d9\",\"#f0f0f0\",\"#ffffff\"]},\"id\":\"d8a1c107-943a-4991-a767-af9274a79b46\",\"type\":\"LinearColorMapper\"},{\"attributes\":{},\"id\":\"59083e89-7f96-4038-b06d-bb1c8ca010ef\",\"type\":\"Selection\"},{\"attributes\":{\"axis_label\":\"translation tokens\",\"formatter\":{\"id\":\"df97d9b8-37f4-4286-82b3-f85e2f6d34de\",\"type\":\"BasicTickFormatter\"},\"major_label_overrides\":{\"0.5\":\"_EOS_\",\"1.5\":\".\",\"10.5\":\"and\",\"11.5\":\"rental\",\"12.5\":\"bike\",\"13.5\":\"_BOS_\",\"2.5\":\"use\",\"3.5\":\"to\",\"4.5\":\"guests\",\"5.5\":\"for\",\"6.5\":\"available\",\"7.5\":\"are\",\"8.5\":\"services\",\"9.5\":\"shuttle\"},\"plot\":{\"id\":\"1e487a6e-c1bb-4e85-b693-53438eb4d8ac\",\"subtype\":\"Figure\",\"type\":\"Plot\"},\"ticker\":{\"id\":\"81720210-abb8-4bea-b7db-5820982f9eec\",\"type\":\"FixedTicker\"}},\"id\":\"6326fa5e-3858-4d98-97b4-45d5e7bb81fd\",\"type\":\"LinearAxis\"},{\"attributes\":{\"ticks\":[0.5,1.5,2.5,3.5,4.5,5.5,6.5,7.5,8.5,9.5,10.5,11.5,12.5,13.5]},\"id\":\"81720210-abb8-4bea-b7db-5820982f9eec\",\"type\":\"FixedTicker\"},{\"attributes\":{},\"id\":\"b0343b08-d20e-445e-b4c6-83576aa496ec\",\"type\":\"LinearScale\"},{\"attributes\":{\"source\":{\"id\":\"a1dcaa33-d2c1-4356-a8b3-93c6b606ba4b\",\"type\":\"ColumnDataSource\"}},\"id\":\"5000d8e1-018d-4368-9fb6-b41bf18ede6d\",\"type\":\"CDSView\"},{\"attributes\":{\"axis_label\":\"source tokens\",\"formatter\":{\"id\":\"b908919b-5c54-4b50-bdfb-b3288e12a068\",\"type\":\"BasicTickFormatter\"},\"major_label_orientation\":45,\"major_label_overrides\":{\"0.5\":\"_BOS_\",\"1.5\":\"\\u043a\\u0440\\u043e\\u043c\\u0435\",\"10.5\":\"\\u0438\",\"11.5\":\"\\u0431\\u0435\\u0441\\u043f\\u043b\\u0430\\u0442\\u043d\\u0430\\u044f\",\"12.5\":\"\\u043f\\u0430\\u0440\\u043a\\u043e\\u0432\\u043a\\u0430\",\"13.5\":\".\",\"14.5\":\"_EOS_\",\"2.5\":\"\\u0442\\u043e\\u0433\\u043e\",\"3.5\":\",\",\"4.5\":\"\\u043f\\u0440\\u0435\\u0434\\u043e\\u0441\\u0442\\u0430\\u0432\\u043b\\u044f\\u0435\\u0442\\u0441\\u044f\",\"5.5\":\"\\u043f\\u0440\\u043e\\u043a\\u0430\\u0442\",\"6.5\":\"\\u0432\\u0435\\u043b\\u043e\\u0441\\u0438\\u043f\\u0435\\u0434\\u043e\\u0432\",\"7.5\":\",\",\"8.5\":\"\\u0443\\u0441\\u043b\\u0443\\u0433\\u0438\",\"9.5\":\"\\u0442\\u0440\\u0430\\u043d\\u0441\\u0444\\u0435\\u0440\\u0430\"},\"plot\":{\"id\":\"1e487a6e-c1bb-4e85-b693-53438eb4d8ac\",\"subtype\":\"Figure\",\"type\":\"Plot\"},\"ticker\":{\"id\":\"a8c5bd3a-a8a2-4d70-b003-0391e044ef69\",\"type\":\"FixedTicker\"}},\"id\":\"4fd121b1-45e0-4651-a7a6-355f7aa5a0c3\",\"type\":\"LinearAxis\"},{\"attributes\":{\"ticks\":[0.5,1.5,2.5,3.5,4.5,5.5,6.5,7.5,8.5,9.5,10.5,11.5,12.5,13.5,14.5]},\"id\":\"a8c5bd3a-a8a2-4d70-b003-0391e044ef69\",\"type\":\"FixedTicker\"},{\"attributes\":{\"above\":[{\"id\":\"4fd121b1-45e0-4651-a7a6-355f7aa5a0c3\",\"type\":\"LinearAxis\"}],\"left\":[{\"id\":\"6326fa5e-3858-4d98-97b4-45d5e7bb81fd\",\"type\":\"LinearAxis\"}],\"renderers\":[{\"id\":\"b591145b-60e3-4186-9bb0-4cc1aeda6ba0\",\"type\":\"GlyphRenderer\"},{\"id\":\"4fd121b1-45e0-4651-a7a6-355f7aa5a0c3\",\"type\":\"LinearAxis\"},{\"id\":\"6326fa5e-3858-4d98-97b4-45d5e7bb81fd\",\"type\":\"LinearAxis\"}],\"title\":{\"id\":\"f5497121-94fe-4aa0-acee-3309d6385b81\",\"type\":\"Title\"},\"toolbar\":{\"id\":\"6b6acedd-0705-4623-88b8-c2c39b6a2cb7\",\"type\":\"Toolbar\"},\"x_range\":{\"id\":\"66d883fb-a27b-49b1-8f0c-0befe60a470c\",\"type\":\"Range1d\"},\"x_scale\":{\"id\":\"b0343b08-d20e-445e-b4c6-83576aa496ec\",\"type\":\"LinearScale\"},\"y_range\":{\"id\":\"adc8460e-17d5-4c98-a8d2-61e65e14a401\",\"type\":\"Range1d\"},\"y_scale\":{\"id\":\"5ee4effa-e515-4c24-88fa-c365218fc60e\",\"type\":\"LinearScale\"}},\"id\":\"1e487a6e-c1bb-4e85-b693-53438eb4d8ac\",\"subtype\":\"Figure\",\"type\":\"Plot\"},{\"attributes\":{\"callback\":null,\"end\":15},\"id\":\"66d883fb-a27b-49b1-8f0c-0befe60a470c\",\"type\":\"Range1d\"},{\"attributes\":{\"palette\":[\"#000000\",\"#252525\",\"#525252\",\"#737373\",\"#969696\",\"#bdbdbd\",\"#d9d9d9\",\"#f0f0f0\",\"#ffffff\"]},\"id\":\"fb9c593b-d0bd-489c-8a21-8a2cad45062a\",\"type\":\"LinearColorMapper\"},{\"attributes\":{\"plot\":null,\"text\":\"\"},\"id\":\"f5497121-94fe-4aa0-acee-3309d6385b81\",\"type\":\"Title\"},{\"attributes\":{},\"id\":\"b908919b-5c54-4b50-bdfb-b3288e12a068\",\"type\":\"BasicTickFormatter\"},{\"attributes\":{},\"id\":\"df97d9b8-37f4-4286-82b3-f85e2f6d34de\",\"type\":\"BasicTickFormatter\"},{\"attributes\":{\"callback\":null,\"data\":{\"image\":[{\"__ndarray__\":\"BMCJOrBTgDk5wkc5NnWGOquzRTvHRPM7V4q3OpC6ljvbAQE8gtNJPY3yAz2hy1A+WAGvPW86LT6ex90+iBUCPGn5JzsNkg07T94NOyKC1jtLGYE7vh+3OskELDtVBCE7DoQhPTR+Uz0YUV89ImKIPaczCz4Nvh4/mNeqOhhRODqDMsw59QSXOnYKnzvVS3o7OfqmOpnPxDsMYxg8XF0+PRTebD3vqLs9bunPPO0ROj7ScxE/g0TXO6BIxToRmxU6G+1IO9mOsDuHbwo72xueOosdDjzsiD487dtYPdp9yz0zlJk9Fdu2PNRuSj69EAM/egeMOQrbkzgMpBY4K2CgOLbqEDrMsG47V/m0On7tVztQSvQ7AjVJPcY0MTzCY7M9875QPcwEBz7aIic///w8O+q81DotgP05aQUzOjU1NDswqII7eiM+OgzDWzyRBYQ9kkWpPlmjAj4LmgQ96oAfPCnIXT1Bh7U+O8SfOXjKiDhoIcM42DfdOWpMyDqAf3Q6HzpvOqFDFDoVoyc8ZiWcPR7ufD7kzM0++72oPVuzST3SLgM+12gyOcHIeDkWkGA55XdJOpYGRTpBd+c5ExKgOuUuiT3aE948lOAXPlllrz4E7Ts+d61LPRwdjD0XXeA9j8syOyDjSDp3a0Y6IE0iOkjAsjrd5Mg6tjneO/j/WTsvX9o8wuYlPqNlVD03zKU+/Jh2Pi87mD0KLtI95SqrN6W4JzficAI3rdxNOCf1JDkSu1U5nQu3Oc28LTtTqNg9nBC9PrVDSz4r1ZE+iu9MPCQdPTwXPGc8JDmtN5KBaTcnlW83nKRLOR03CTq9iLk6FNIzOzJ27j1w4f4+mlZ4PlduiD023g49f4u7O0cXozwSIjc8MjWAPLucHDwxDpw76dc1PcIAxT2VoC0+LxWQPgJTnT6PDIU8Pq4ZPAbjVDwEC+I7NtITPCIzxDtD4S48bfsuO/maCjsaBBA79G4XPJSv+jvG7Wo+VW4TPz9Nwz3Nccc78auMO9o8MDxR8S89GIj+O6ng5TqFLu86bfsuO/maCjsaBBA79G4XPJSv+jvG7Wo+VW4TPz9Nwz3Nccc78auMO9o8MDxR8S89GIj+O6ng5TqFLu86\",\"dtype\":\"float32\",\"shape\":[14,15]}]},\"selected\":{\"id\":\"59083e89-7f96-4038-b06d-bb1c8ca010ef\",\"type\":\"Selection\"},\"selection_policy\":{\"id\":\"d14aa357-a250-49b7-aafd-13e2281a49db\",\"type\":\"UnionRenderers\"}},\"id\":\"a1dcaa33-d2c1-4356-a8b3-93c6b606ba4b\",\"type\":\"ColumnDataSource\"},{\"attributes\":{\"data_source\":{\"id\":\"a1dcaa33-d2c1-4356-a8b3-93c6b606ba4b\",\"type\":\"ColumnDataSource\"},\"glyph\":{\"id\":\"7a088e76-c2d5-4793-b9fb-f86d848c18af\",\"type\":\"Image\"},\"hover_glyph\":null,\"muted_glyph\":null,\"nonselection_glyph\":{\"id\":\"d54adc39-3ce2-44fa-bd0e-0a7f2a949b41\",\"type\":\"Image\"},\"selection_glyph\":null,\"view\":{\"id\":\"5000d8e1-018d-4368-9fb6-b41bf18ede6d\",\"type\":\"CDSView\"}},\"id\":\"b591145b-60e3-4186-9bb0-4cc1aeda6ba0\",\"type\":\"GlyphRenderer\"},{\"attributes\":{\"color_mapper\":{\"id\":\"fb9c593b-d0bd-489c-8a21-8a2cad45062a\",\"type\":\"LinearColorMapper\"},\"dh\":{\"units\":\"data\",\"value\":14},\"dw\":{\"units\":\"data\",\"value\":15},\"image\":{\"field\":\"image\"},\"x\":{\"value\":0},\"y\":{\"value\":0}},\"id\":\"d54adc39-3ce2-44fa-bd0e-0a7f2a949b41\",\"type\":\"Image\"},{\"attributes\":{\"callback\":null,\"end\":14},\"id\":\"adc8460e-17d5-4c98-a8d2-61e65e14a401\",\"type\":\"Range1d\"},{\"attributes\":{\"color_mapper\":{\"id\":\"d8a1c107-943a-4991-a767-af9274a79b46\",\"type\":\"LinearColorMapper\"},\"dh\":{\"units\":\"data\",\"value\":14},\"dw\":{\"units\":\"data\",\"value\":15},\"image\":{\"field\":\"image\"},\"x\":{\"value\":0},\"y\":{\"value\":0}},\"id\":\"7a088e76-c2d5-4793-b9fb-f86d848c18af\",\"type\":\"Image\"},{\"attributes\":{},\"id\":\"5ee4effa-e515-4c24-88fa-c365218fc60e\",\"type\":\"LinearScale\"},{\"attributes\":{\"active_drag\":\"auto\",\"active_inspect\":\"auto\",\"active_multi\":null,\"active_scroll\":\"auto\",\"active_tap\":\"auto\"},\"id\":\"6b6acedd-0705-4623-88b8-c2c39b6a2cb7\",\"type\":\"Toolbar\"},{\"attributes\":{},\"id\":\"d14aa357-a250-49b7-aafd-13e2281a49db\",\"type\":\"UnionRenderers\"}],\"root_ids\":[\"1e487a6e-c1bb-4e85-b693-53438eb4d8ac\"]},\"title\":\"Bokeh Application\",\"version\":\"0.13.0\"}};\n",
              "  var render_items = [{\"docid\":\"1ca74afd-9a41-498b-9cb8-a704f4c89815\",\"roots\":{\"1e487a6e-c1bb-4e85-b693-53438eb4d8ac\":\"ae1813ab-6709-485e-adea-04f6faa77dc9\"}}];\n",
              "  root.Bokeh.embed.embed_items_notebook(docs_json, render_items);\n",
              "\n",
              "  }\n",
              "  if (root.Bokeh !== undefined) {\n",
              "    embed_document(root);\n",
              "  } else {\n",
              "    var attempts = 0;\n",
              "    var timer = setInterval(function(root) {\n",
              "      if (root.Bokeh !== undefined) {\n",
              "        embed_document(root);\n",
              "        clearInterval(timer);\n",
              "      }\n",
              "      attempts++;\n",
              "      if (attempts > 100) {\n",
              "        console.log(\"Bokeh: ERROR: Unable to run BokehJS code because BokehJS library is missing\")\n",
              "        clearInterval(timer);\n",
              "      }\n",
              "    }, 10, root)\n",
              "  }\n",
              "})(window);"
            ],
            "application/vnd.bokehjs_exec.v0+json": ""
          },
          "metadata": {
            "tags": [],
            "application/vnd.bokehjs_exec.v0+json": {
              "id": "1e487a6e-c1bb-4e85-b693-53438eb4d8ac"
            }
          }
        },
        {
          "output_type": "display_data",
          "data": {
            "text/html": [
              "\n",
              "\n",
              "\n",
              "\n",
              "\n",
              "\n",
              "  <div class=\"bk-root\" id=\"d5c5ed9b-7a56-46b8-aace-8d586293c8fb\"></div>\n"
            ]
          },
          "metadata": {
            "tags": []
          }
        },
        {
          "output_type": "display_data",
          "data": {
            "application/javascript": [
              "(function(root) {\n",
              "  function embed_document(root) {\n",
              "    \n",
              "  var docs_json = {\"e82d0ddd-44c4-40cf-b625-323fdc65a70a\":{\"roots\":{\"references\":[{\"attributes\":{\"above\":[{\"id\":\"b64f012d-03d2-4caa-ab73-374f28e99e02\",\"type\":\"LinearAxis\"}],\"left\":[{\"id\":\"19345bf3-57b8-4de6-8bee-bf9515b2f9b4\",\"type\":\"LinearAxis\"}],\"renderers\":[{\"id\":\"c7c4c624-6c85-4db9-b935-5be75aa79118\",\"type\":\"GlyphRenderer\"},{\"id\":\"b64f012d-03d2-4caa-ab73-374f28e99e02\",\"type\":\"LinearAxis\"},{\"id\":\"19345bf3-57b8-4de6-8bee-bf9515b2f9b4\",\"type\":\"LinearAxis\"}],\"title\":{\"id\":\"fe5f8e29-757e-45ed-8c6d-fb4e9b998d4e\",\"type\":\"Title\"},\"toolbar\":{\"id\":\"fe2d87ed-9b45-4788-b557-781c25b282b2\",\"type\":\"Toolbar\"},\"x_range\":{\"id\":\"f68876a6-a767-4bcc-b6a1-e42b70978f1b\",\"type\":\"Range1d\"},\"x_scale\":{\"id\":\"e6fe669a-e132-4e92-852c-e8e02dbf76c0\",\"type\":\"LinearScale\"},\"y_range\":{\"id\":\"3b186213-aa9e-46eb-a742-79cb78df382d\",\"type\":\"Range1d\"},\"y_scale\":{\"id\":\"59d43b77-54de-4f0b-bf5a-691c8ac55a22\",\"type\":\"LinearScale\"}},\"id\":\"7b346673-05f1-4aff-a89f-6fec5140583c\",\"subtype\":\"Figure\",\"type\":\"Plot\"},{\"attributes\":{\"ticks\":[0.5,1.5,2.5,3.5,4.5,5.5,6.5,7.5,8.5,9.5,10.5,11.5,12.5]},\"id\":\"58abe1d2-7995-4971-bdc7-9e1e6ebf20df\",\"type\":\"FixedTicker\"},{\"attributes\":{},\"id\":\"c1b390c0-a56f-4daa-b20b-058166a1b320\",\"type\":\"BasicTickFormatter\"},{\"attributes\":{\"source\":{\"id\":\"fba27932-0f40-4772-b4bd-c7fafbc34ad0\",\"type\":\"ColumnDataSource\"}},\"id\":\"30360c42-6f9e-4def-b6f9-cd02c1020ecf\",\"type\":\"CDSView\"},{\"attributes\":{\"color_mapper\":{\"id\":\"3ed98c59-7697-418e-b5c9-2bf85ed5eb56\",\"type\":\"LinearColorMapper\"},\"dh\":{\"units\":\"data\",\"value\":10},\"dw\":{\"units\":\"data\",\"value\":13},\"image\":{\"field\":\"image\"},\"x\":{\"value\":0},\"y\":{\"value\":0}},\"id\":\"2f793734-5f64-48c3-98cd-2dffbc63164c\",\"type\":\"Image\"},{\"attributes\":{\"active_drag\":\"auto\",\"active_inspect\":\"auto\",\"active_multi\":null,\"active_scroll\":\"auto\",\"active_tap\":\"auto\"},\"id\":\"fe2d87ed-9b45-4788-b557-781c25b282b2\",\"type\":\"Toolbar\"},{\"attributes\":{\"ticks\":[0.5,1.5,2.5,3.5,4.5,5.5,6.5,7.5,8.5,9.5]},\"id\":\"613d8203-f899-44b0-b3d3-bc52bedd4085\",\"type\":\"FixedTicker\"},{\"attributes\":{},\"id\":\"e6fe669a-e132-4e92-852c-e8e02dbf76c0\",\"type\":\"LinearScale\"},{\"attributes\":{},\"id\":\"7ea8acab-2cb3-4161-a28a-02dd528bd292\",\"type\":\"Selection\"},{\"attributes\":{},\"id\":\"59d43b77-54de-4f0b-bf5a-691c8ac55a22\",\"type\":\"LinearScale\"},{\"attributes\":{\"axis_label\":\"translation tokens\",\"formatter\":{\"id\":\"d77f5266-c107-40eb-9e1c-0e934b202d94\",\"type\":\"BasicTickFormatter\"},\"major_label_overrides\":{\"0.5\":\"_EOS_\",\"1.5\":\".\",\"2.5\":\"away\",\"3.5\":\"km\",\"4.5\":\"26\",\"5.5\":\"is\",\"6.5\":\"bath\",\"7.5\":\"mar@@\",\"8.5\":\"aqua@@\",\"9.5\":\"_BOS_\"},\"plot\":{\"id\":\"7b346673-05f1-4aff-a89f-6fec5140583c\",\"subtype\":\"Figure\",\"type\":\"Plot\"},\"ticker\":{\"id\":\"613d8203-f899-44b0-b3d3-bc52bedd4085\",\"type\":\"FixedTicker\"}},\"id\":\"19345bf3-57b8-4de6-8bee-bf9515b2f9b4\",\"type\":\"LinearAxis\"},{\"attributes\":{},\"id\":\"84da2183-cb33-4daa-894e-a5002e7e6e47\",\"type\":\"UnionRenderers\"},{\"attributes\":{\"data_source\":{\"id\":\"fba27932-0f40-4772-b4bd-c7fafbc34ad0\",\"type\":\"ColumnDataSource\"},\"glyph\":{\"id\":\"ca750b42-fd44-41d2-bfe2-f5a13c352150\",\"type\":\"Image\"},\"hover_glyph\":null,\"muted_glyph\":null,\"nonselection_glyph\":{\"id\":\"2f793734-5f64-48c3-98cd-2dffbc63164c\",\"type\":\"Image\"},\"selection_glyph\":null,\"view\":{\"id\":\"30360c42-6f9e-4def-b6f9-cd02c1020ecf\",\"type\":\"CDSView\"}},\"id\":\"c7c4c624-6c85-4db9-b935-5be75aa79118\",\"type\":\"GlyphRenderer\"},{\"attributes\":{\"palette\":[\"#000000\",\"#252525\",\"#525252\",\"#737373\",\"#969696\",\"#bdbdbd\",\"#d9d9d9\",\"#f0f0f0\",\"#ffffff\"]},\"id\":\"3ed98c59-7697-418e-b5c9-2bf85ed5eb56\",\"type\":\"LinearColorMapper\"},{\"attributes\":{\"color_mapper\":{\"id\":\"d2cf660c-9783-4e69-9c25-8b6b9b58df7b\",\"type\":\"LinearColorMapper\"},\"dh\":{\"units\":\"data\",\"value\":10},\"dw\":{\"units\":\"data\",\"value\":13},\"image\":{\"field\":\"image\"},\"x\":{\"value\":0},\"y\":{\"value\":0}},\"id\":\"ca750b42-fd44-41d2-bfe2-f5a13c352150\",\"type\":\"Image\"},{\"attributes\":{\"callback\":null,\"end\":13},\"id\":\"f68876a6-a767-4bcc-b6a1-e42b70978f1b\",\"type\":\"Range1d\"},{\"attributes\":{\"callback\":null,\"data\":{\"image\":[{\"__ndarray__\":\"+ZszO1mLFzuwKTY6xbUKOwREEzzoDQc7TMwXOoXYFTqH80w7N0RSOoyrFzojlRw9T+xvPwMN3DomYl47yCEpOpUB0zr4bBs8mOmlOk3RMDpuCrg57D4QOhcEmzoaIXc5Z8BPPeWebT9mvfw6pabwOudIJzp0t2w66wAPOmgrjjhNdCc4zJT7OOBXRDpCUmk50CMFOiHGxz3qF2U/l+sEObrRijnHes44F+NAOMi4XTffU841Jy6XNhe/ijg1kEs89JRxP/vmLz3rQBw5HsY9OSFFQjhy50k5KjGnN/DnJje256k2zlzjNOeRzTW69TM4rdu8OvlYfz9TVdk55PYtOZXXWjlepG08sAoOPdpMoD1rXyY84C6XOWThEDrShlg6G+gqPfnRTT41ack+WI2BPXqbhj2u3cM9lJeDPNXHGjy3g7Y7etF4Ow7ijDoIS486hFOjOy5UsD3WzBI+mTryPppZKT2KZKU9cYEIPtNJwTyYdW88uNTeOxXZZz0MuDQ+eR8wPh08vD4nB5Y9fHVKPHSbnzxz3xU9RD2EPCsnyDxzB9o8LHZ6PCfB0jtwiR8+bxcfP9Zgaz3b5GQ96lwhPKx7uzobhsg7KgBsOutnYzybrOw8cwfaPCx2ejwnwdI7cIkfPm8XHz/WYGs92+RkPepcITyse7s6G4bIOyoAbDrrZ2M8m6zsPA==\",\"dtype\":\"float32\",\"shape\":[10,13]}]},\"selected\":{\"id\":\"7ea8acab-2cb3-4161-a28a-02dd528bd292\",\"type\":\"Selection\"},\"selection_policy\":{\"id\":\"84da2183-cb33-4daa-894e-a5002e7e6e47\",\"type\":\"UnionRenderers\"}},\"id\":\"fba27932-0f40-4772-b4bd-c7fafbc34ad0\",\"type\":\"ColumnDataSource\"},{\"attributes\":{\"plot\":null,\"text\":\"\"},\"id\":\"fe5f8e29-757e-45ed-8c6d-fb4e9b998d4e\",\"type\":\"Title\"},{\"attributes\":{\"callback\":null,\"end\":10},\"id\":\"3b186213-aa9e-46eb-a742-79cb78df382d\",\"type\":\"Range1d\"},{\"attributes\":{\"palette\":[\"#000000\",\"#252525\",\"#525252\",\"#737373\",\"#969696\",\"#bdbdbd\",\"#d9d9d9\",\"#f0f0f0\",\"#ffffff\"]},\"id\":\"d2cf660c-9783-4e69-9c25-8b6b9b58df7b\",\"type\":\"LinearColorMapper\"},{\"attributes\":{},\"id\":\"d77f5266-c107-40eb-9e1c-0e934b202d94\",\"type\":\"BasicTickFormatter\"},{\"attributes\":{\"axis_label\":\"source tokens\",\"formatter\":{\"id\":\"c1b390c0-a56f-4daa-b20b-058166a1b320\",\"type\":\"BasicTickFormatter\"},\"major_label_orientation\":45,\"major_label_overrides\":{\"0.5\":\"_BOS_\",\"1.5\":\"\\u0440\\u0430\\u0441\\u0441\\u0442\\u043e\\u044f\\u043d\\u0438\\u0435\",\"10.5\":\"\\u043a\\u043c\",\"11.5\":\".\",\"12.5\":\"_EOS_\",\"2.5\":\"\\u0434\\u043e\",\"3.5\":\"\\u0433\\u043e\\u0440\\u043e\\u0434\\u0430\",\"4.5\":\"\\u043a\\u0438@@\",\"5.5\":\"\\u0441\\u0441\\u0438@@\",\"6.5\":\"\\u043c@@\",\"7.5\":\"\\u043c\\u0438\",\"8.5\":\"\\u0441\\u043e\\u0441\\u0442\\u0430\\u0432\\u043b\\u044f\\u0435\\u0442\",\"9.5\":\"26\"},\"plot\":{\"id\":\"7b346673-05f1-4aff-a89f-6fec5140583c\",\"subtype\":\"Figure\",\"type\":\"Plot\"},\"ticker\":{\"id\":\"58abe1d2-7995-4971-bdc7-9e1e6ebf20df\",\"type\":\"FixedTicker\"}},\"id\":\"b64f012d-03d2-4caa-ab73-374f28e99e02\",\"type\":\"LinearAxis\"}],\"root_ids\":[\"7b346673-05f1-4aff-a89f-6fec5140583c\"]},\"title\":\"Bokeh Application\",\"version\":\"0.13.0\"}};\n",
              "  var render_items = [{\"docid\":\"e82d0ddd-44c4-40cf-b625-323fdc65a70a\",\"roots\":{\"7b346673-05f1-4aff-a89f-6fec5140583c\":\"d5c5ed9b-7a56-46b8-aace-8d586293c8fb\"}}];\n",
              "  root.Bokeh.embed.embed_items_notebook(docs_json, render_items);\n",
              "\n",
              "  }\n",
              "  if (root.Bokeh !== undefined) {\n",
              "    embed_document(root);\n",
              "  } else {\n",
              "    var attempts = 0;\n",
              "    var timer = setInterval(function(root) {\n",
              "      if (root.Bokeh !== undefined) {\n",
              "        embed_document(root);\n",
              "        clearInterval(timer);\n",
              "      }\n",
              "      attempts++;\n",
              "      if (attempts > 100) {\n",
              "        console.log(\"Bokeh: ERROR: Unable to run BokehJS code because BokehJS library is missing\")\n",
              "        clearInterval(timer);\n",
              "      }\n",
              "    }, 10, root)\n",
              "  }\n",
              "})(window);"
            ],
            "application/vnd.bokehjs_exec.v0+json": ""
          },
          "metadata": {
            "tags": [],
            "application/vnd.bokehjs_exec.v0+json": {
              "id": "7b346673-05f1-4aff-a89f-6fec5140583c"
            }
          }
        },
        {
          "output_type": "display_data",
          "data": {
            "text/html": [
              "\n",
              "\n",
              "\n",
              "\n",
              "\n",
              "\n",
              "  <div class=\"bk-root\" id=\"440df773-9cfc-4544-ae21-63be92c26f94\"></div>\n"
            ]
          },
          "metadata": {
            "tags": []
          }
        },
        {
          "output_type": "display_data",
          "data": {
            "application/javascript": [
              "(function(root) {\n",
              "  function embed_document(root) {\n",
              "    \n",
              "  var docs_json = {\"3d3fe7a0-4aa8-446e-a209-a893a761a141\":{\"roots\":{\"references\":[{\"attributes\":{\"ticks\":[0.5,1.5,2.5,3.5,4.5,5.5,6.5,7.5,8.5,9.5,10.5,11.5,12.5,13.5,14.5,15.5,16.5,17.5,18.5,19.5,20.5,21.5,22.5,23.5,24.5,25.5,26.5,27.5,28.5]},\"id\":\"561c8f3e-85d2-476a-859b-0cd9a583afe7\",\"type\":\"FixedTicker\"},{\"attributes\":{\"callback\":null,\"end\":29},\"id\":\"a424f262-3699-4b80-9652-42aee8866a40\",\"type\":\"Range1d\"},{\"attributes\":{\"source\":{\"id\":\"f7c386db-0ea2-4762-8b6f-8dfff8d4ce76\",\"type\":\"ColumnDataSource\"}},\"id\":\"68ef8a00-5003-4736-bf35-8d94aacefa80\",\"type\":\"CDSView\"},{\"attributes\":{},\"id\":\"aaf493ef-a3f1-452f-a46e-e578cf3bea40\",\"type\":\"LinearScale\"},{\"attributes\":{\"axis_label\":\"translation tokens\",\"formatter\":{\"id\":\"444b3aef-5838-4d51-8003-810fd7e36371\",\"type\":\"BasicTickFormatter\"},\"major_label_overrides\":{\"0.5\":\"_EOS_\",\"1.5\":\".\",\"10.5\":\"outdoor\",\"11.5\":\"communal\",\"12.5\":\"a\",\"13.5\":\"features\",\"14.5\":\"resort\",\"15.5\":\"this\",\"16.5\":\",\",\"17.5\":\"beach\",\"18.5\":\"the\",\"19.5\":\"in\",\"2.5\":\"terrace\",\"20.5\":\"beach\",\"21.5\":\"the\",\"22.5\":\"from\",\"23.5\":\"walk\",\"24.5\":\"\\u2019\",\"25.5\":\"minutes\",\"26.5\":\"5\",\"27.5\":\"located\",\"28.5\":\"_BOS_\",\"3.5\":\"sun\",\"4.5\":\"a\",\"5.5\":\"and\",\"6.5\":\"conditioning\",\"7.5\":\"air\",\"8.5\":\",\",\"9.5\":\"pool\"},\"plot\":{\"id\":\"07d84a7e-e45e-44c8-a32f-e0bbe8861910\",\"subtype\":\"Figure\",\"type\":\"Plot\"},\"ticker\":{\"id\":\"561c8f3e-85d2-476a-859b-0cd9a583afe7\",\"type\":\"FixedTicker\"}},\"id\":\"857a4208-f043-4a81-b96b-4a0566c8826f\",\"type\":\"LinearAxis\"},{\"attributes\":{\"color_mapper\":{\"id\":\"144ae4f7-0b62-49ec-8b2c-d68faef6d1ec\",\"type\":\"LinearColorMapper\"},\"dh\":{\"units\":\"data\",\"value\":29},\"dw\":{\"units\":\"data\",\"value\":32},\"image\":{\"field\":\"image\"},\"x\":{\"value\":0},\"y\":{\"value\":0}},\"id\":\"bc2ba49c-8623-4ee5-b2a1-cded0b910e0b\",\"type\":\"Image\"},{\"attributes\":{\"callback\":null,\"data\":{\"image\":[{\"__ndarray__\":\"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\",\"dtype\":\"float32\",\"shape\":[29,32]}]},\"selected\":{\"id\":\"29428ab7-8b73-470f-ab7a-2b97639f5059\",\"type\":\"Selection\"},\"selection_policy\":{\"id\":\"f0c0962e-d4dd-46f1-815f-1236a3b48302\",\"type\":\"UnionRenderers\"}},\"id\":\"f7c386db-0ea2-4762-8b6f-8dfff8d4ce76\",\"type\":\"ColumnDataSource\"},{\"attributes\":{\"ticks\":[0.5,1.5,2.5,3.5,4.5,5.5,6.5,7.5,8.5,9.5,10.5,11.5,12.5,13.5,14.5,15.5,16.5,17.5,18.5,19.5,20.5,21.5,22.5,23.5,24.5,25.5,26.5,27.5,28.5,29.5,30.5,31.5]},\"id\":\"54eb584a-48d6-4939-be68-b19a1b639a01\",\"type\":\"FixedTicker\"},{\"attributes\":{\"palette\":[\"#000000\",\"#252525\",\"#525252\",\"#737373\",\"#969696\",\"#bdbdbd\",\"#d9d9d9\",\"#f0f0f0\",\"#ffffff\"]},\"id\":\"144ae4f7-0b62-49ec-8b2c-d68faef6d1ec\",\"type\":\"LinearColorMapper\"},{\"attributes\":{\"plot\":null,\"text\":\"\"},\"id\":\"a0a410e7-1976-4d43-8e4a-da5c250f7969\",\"type\":\"Title\"},{\"attributes\":{\"axis_label\":\"source tokens\",\"formatter\":{\"id\":\"1a99cf24-d46f-4b2b-8bc7-22235c1d4af5\",\"type\":\"BasicTickFormatter\"},\"major_label_orientation\":45,\"major_label_overrides\":{\"0.5\":\"_BOS_\",\"1.5\":\"\\u0430\\u043f\\u0430\\u0440\\u0442\\u0430\\u043c\\u0435\\u043d\\u0442\\u044b\",\"10.5\":\"\\u0441\\u0430\\u0434\\u043e\\u043c\",\"11.5\":\",\",\"12.5\":\"\\u043a\\u043e\\u043d\\u0434\\u0438\\u0446\\u0438\\u043e\\u043d\\u0435\\u0440\\u043e\\u043c\",\"13.5\":\"\\u0438\",\"14.5\":\"\\u0442\\u0435\\u0440\\u0440\\u0430\\u0441\\u043e\\u0439\",\"15.5\":\"\\u0434\\u043b\\u044f\",\"16.5\":\"\\u0437\\u0430\\u0433\\u0430\\u0440\\u0430\",\"17.5\":\"\\u0440\\u0430\\u0441\\u043f\\u043e\\u043b\\u043e\\u0436\\u0435\\u043d\\u044b\",\"18.5\":\"\\u0432\",\"19.5\":\"5\",\"2.5\":\"\\u0432\",\"20.5\":\"\\u043c\\u0438\\u043d\\u0443\\u0442\\u0430\\u0445\",\"21.5\":\"\\u0445\\u043e\\u0434\\u044c\\u0431\\u044b\",\"22.5\":\"\\u043e\\u0442\",\"23.5\":\"\\u043f\\u043b\\u044f\\u0436\\u0430\",\"24.5\":\"\\u043d\\u0430\",\"25.5\":\"\\u043a\\u0443\\u0440\\u043e\\u0440\\u0442\\u0435\",\"26.5\":\"\\u043a\\u0430@@\",\"27.5\":\"\\u0431\\u043e\",\"28.5\":\"-\",\"29.5\":\"\\u0440\\u043e\\u0439\",\"3.5\":\"\\u043f\\u0435\\u043d\\u0442@@\",\"30.5\":\".\",\"31.5\":\"_EOS_\",\"4.5\":\"\\u0445\\u0430\\u0443\\u0441\\u0435\",\"5.5\":\"\\u0441\",\"6.5\":\"\\u043e\\u0431\\u0449\\u0438\\u043c\",\"7.5\":\"\\u043e\\u0442\\u043a\\u0440\\u044b\\u0442\\u044b\\u043c\",\"8.5\":\"\\u0431\\u0430\\u0441\\u0441\\u0435\\u0439\\u043d\\u043e\\u043c\",\"9.5\":\",\"},\"plot\":{\"id\":\"07d84a7e-e45e-44c8-a32f-e0bbe8861910\",\"subtype\":\"Figure\",\"type\":\"Plot\"},\"ticker\":{\"id\":\"54eb584a-48d6-4939-be68-b19a1b639a01\",\"type\":\"FixedTicker\"}},\"id\":\"f13d43f0-8416-4901-901f-77e0b87165ec\",\"type\":\"LinearAxis\"},{\"attributes\":{\"color_mapper\":{\"id\":\"88f0ae46-f2b1-4f6a-b80c-e6f10d8eab12\",\"type\":\"LinearColorMapper\"},\"dh\":{\"units\":\"data\",\"value\":29},\"dw\":{\"units\":\"data\",\"value\":32},\"image\":{\"field\":\"image\"},\"x\":{\"value\":0},\"y\":{\"value\":0}},\"id\":\"993695e2-acc6-4d85-ab32-3b0641c0b1ab\",\"type\":\"Image\"},{\"attributes\":{\"above\":[{\"id\":\"f13d43f0-8416-4901-901f-77e0b87165ec\",\"type\":\"LinearAxis\"}],\"left\":[{\"id\":\"857a4208-f043-4a81-b96b-4a0566c8826f\",\"type\":\"LinearAxis\"}],\"renderers\":[{\"id\":\"afe9a6b7-695f-4bdb-9148-e81c304d4411\",\"type\":\"GlyphRenderer\"},{\"id\":\"f13d43f0-8416-4901-901f-77e0b87165ec\",\"type\":\"LinearAxis\"},{\"id\":\"857a4208-f043-4a81-b96b-4a0566c8826f\",\"type\":\"LinearAxis\"}],\"title\":{\"id\":\"a0a410e7-1976-4d43-8e4a-da5c250f7969\",\"type\":\"Title\"},\"toolbar\":{\"id\":\"40fbc7e7-4ed5-445e-ba41-3f4dc29b4070\",\"type\":\"Toolbar\"},\"x_range\":{\"id\":\"12bf42a8-ade8-44fd-9569-9b46484a3e59\",\"type\":\"Range1d\"},\"x_scale\":{\"id\":\"aaf493ef-a3f1-452f-a46e-e578cf3bea40\",\"type\":\"LinearScale\"},\"y_range\":{\"id\":\"a424f262-3699-4b80-9652-42aee8866a40\",\"type\":\"Range1d\"},\"y_scale\":{\"id\":\"ffea9c72-5a21-404e-822d-433ff76abe23\",\"type\":\"LinearScale\"}},\"id\":\"07d84a7e-e45e-44c8-a32f-e0bbe8861910\",\"subtype\":\"Figure\",\"type\":\"Plot\"},{\"attributes\":{\"active_drag\":\"auto\",\"active_inspect\":\"auto\",\"active_multi\":null,\"active_scroll\":\"auto\",\"active_tap\":\"auto\"},\"id\":\"40fbc7e7-4ed5-445e-ba41-3f4dc29b4070\",\"type\":\"Toolbar\"},{\"attributes\":{\"data_source\":{\"id\":\"f7c386db-0ea2-4762-8b6f-8dfff8d4ce76\",\"type\":\"ColumnDataSource\"},\"glyph\":{\"id\":\"bc2ba49c-8623-4ee5-b2a1-cded0b910e0b\",\"type\":\"Image\"},\"hover_glyph\":null,\"muted_glyph\":null,\"nonselection_glyph\":{\"id\":\"993695e2-acc6-4d85-ab32-3b0641c0b1ab\",\"type\":\"Image\"},\"selection_glyph\":null,\"view\":{\"id\":\"68ef8a00-5003-4736-bf35-8d94aacefa80\",\"type\":\"CDSView\"}},\"id\":\"afe9a6b7-695f-4bdb-9148-e81c304d4411\",\"type\":\"GlyphRenderer\"},{\"attributes\":{},\"id\":\"444b3aef-5838-4d51-8003-810fd7e36371\",\"type\":\"BasicTickFormatter\"},{\"attributes\":{},\"id\":\"ffea9c72-5a21-404e-822d-433ff76abe23\",\"type\":\"LinearScale\"},{\"attributes\":{\"callback\":null,\"end\":32},\"id\":\"12bf42a8-ade8-44fd-9569-9b46484a3e59\",\"type\":\"Range1d\"},{\"attributes\":{},\"id\":\"f0c0962e-d4dd-46f1-815f-1236a3b48302\",\"type\":\"UnionRenderers\"},{\"attributes\":{},\"id\":\"29428ab7-8b73-470f-ab7a-2b97639f5059\",\"type\":\"Selection\"},{\"attributes\":{\"palette\":[\"#000000\",\"#252525\",\"#525252\",\"#737373\",\"#969696\",\"#bdbdbd\",\"#d9d9d9\",\"#f0f0f0\",\"#ffffff\"]},\"id\":\"88f0ae46-f2b1-4f6a-b80c-e6f10d8eab12\",\"type\":\"LinearColorMapper\"},{\"attributes\":{},\"id\":\"1a99cf24-d46f-4b2b-8bc7-22235c1d4af5\",\"type\":\"BasicTickFormatter\"}],\"root_ids\":[\"07d84a7e-e45e-44c8-a32f-e0bbe8861910\"]},\"title\":\"Bokeh Application\",\"version\":\"0.13.0\"}};\n",
              "  var render_items = [{\"docid\":\"3d3fe7a0-4aa8-446e-a209-a893a761a141\",\"roots\":{\"07d84a7e-e45e-44c8-a32f-e0bbe8861910\":\"440df773-9cfc-4544-ae21-63be92c26f94\"}}];\n",
              "  root.Bokeh.embed.embed_items_notebook(docs_json, render_items);\n",
              "\n",
              "  }\n",
              "  if (root.Bokeh !== undefined) {\n",
              "    embed_document(root);\n",
              "  } else {\n",
              "    var attempts = 0;\n",
              "    var timer = setInterval(function(root) {\n",
              "      if (root.Bokeh !== undefined) {\n",
              "        embed_document(root);\n",
              "        clearInterval(timer);\n",
              "      }\n",
              "      attempts++;\n",
              "      if (attempts > 100) {\n",
              "        console.log(\"Bokeh: ERROR: Unable to run BokehJS code because BokehJS library is missing\")\n",
              "        clearInterval(timer);\n",
              "      }\n",
              "    }, 10, root)\n",
              "  }\n",
              "})(window);"
            ],
            "application/vnd.bokehjs_exec.v0+json": ""
          },
          "metadata": {
            "tags": [],
            "application/vnd.bokehjs_exec.v0+json": {
              "id": "07d84a7e-e45e-44c8-a32f-e0bbe8861910"
            }
          }
        },
        {
          "output_type": "display_data",
          "data": {
            "text/html": [
              "\n",
              "\n",
              "\n",
              "\n",
              "\n",
              "\n",
              "  <div class=\"bk-root\" id=\"60f9282b-3b9a-447a-89bc-e513fba91264\"></div>\n"
            ]
          },
          "metadata": {
            "tags": []
          }
        },
        {
          "output_type": "display_data",
          "data": {
            "application/javascript": [
              "(function(root) {\n",
              "  function embed_document(root) {\n",
              "    \n",
              "  var docs_json = {\"3d04422c-3b30-45d5-bf46-ca7d4ab2a534\":{\"roots\":{\"references\":[{\"attributes\":{\"data_source\":{\"id\":\"c41b3bd2-9670-4dd3-a13d-8d33179656cd\",\"type\":\"ColumnDataSource\"},\"glyph\":{\"id\":\"702c5788-e5be-40a9-973a-2a6869f372d7\",\"type\":\"Image\"},\"hover_glyph\":null,\"muted_glyph\":null,\"nonselection_glyph\":{\"id\":\"f3e72ed2-159e-4ebc-8dd9-fc2ffb6ddb40\",\"type\":\"Image\"},\"selection_glyph\":null,\"view\":{\"id\":\"5daabae4-4661-4725-baca-32968065aad4\",\"type\":\"CDSView\"}},\"id\":\"d0ac9ce3-4981-45a6-896a-28035cc77cb2\",\"type\":\"GlyphRenderer\"},{\"attributes\":{\"axis_label\":\"translation tokens\",\"formatter\":{\"id\":\"185fe2e9-8eb6-4a68-9d3f-401dfd555083\",\"type\":\"BasicTickFormatter\"},\"major_label_overrides\":{\"0.5\":\"_EOS_\",\"1.5\":\".\",\"10.5\":\"city\",\"11.5\":\"the\",\"12.5\":\"of\",\"13.5\":\"theatre\",\"14.5\":\"city\",\"15.5\":\"the\",\"16.5\":\"from\",\"17.5\":\"metres\",\"18.5\":\"200\",\"19.5\":\"located\",\"2.5\":\"balcony\",\"20.5\":\"_BOS_\",\"3.5\":\"a\",\"4.5\":\"features\",\"5.5\":\"apartment\",\"6.5\":\"this\",\"7.5\":\",\",\"8.5\":\"kazan\",\"9.5\":\"of\"},\"plot\":{\"id\":\"5c0cc6f9-ee67-4538-b3c1-49a11c8ec3e6\",\"subtype\":\"Figure\",\"type\":\"Plot\"},\"ticker\":{\"id\":\"0a966f3d-44fa-4a94-b32e-3561079dc602\",\"type\":\"FixedTicker\"}},\"id\":\"f945ff28-27f6-4652-97cf-e54f74df2906\",\"type\":\"LinearAxis\"},{\"attributes\":{},\"id\":\"185fe2e9-8eb6-4a68-9d3f-401dfd555083\",\"type\":\"BasicTickFormatter\"},{\"attributes\":{},\"id\":\"27bec3d8-4cc0-456e-8298-eedac89e6e5b\",\"type\":\"LinearScale\"},{\"attributes\":{\"palette\":[\"#000000\",\"#252525\",\"#525252\",\"#737373\",\"#969696\",\"#bdbdbd\",\"#d9d9d9\",\"#f0f0f0\",\"#ffffff\"]},\"id\":\"4ed7aebf-be3d-4544-b8a5-de5b64bbd714\",\"type\":\"LinearColorMapper\"},{\"attributes\":{},\"id\":\"77046553-ff41-49a0-a9a6-5272feaf1967\",\"type\":\"BasicTickFormatter\"},{\"attributes\":{\"palette\":[\"#000000\",\"#252525\",\"#525252\",\"#737373\",\"#969696\",\"#bdbdbd\",\"#d9d9d9\",\"#f0f0f0\",\"#ffffff\"]},\"id\":\"d39ddd57-364e-480b-8f2e-5ab04ff91e0b\",\"type\":\"LinearColorMapper\"},{\"attributes\":{\"callback\":null,\"end\":23},\"id\":\"aab71cd8-6569-4c84-8dd8-875f57393efd\",\"type\":\"Range1d\"},{\"attributes\":{\"above\":[{\"id\":\"1887f505-d152-41bc-a1c6-79a17c1ffac4\",\"type\":\"LinearAxis\"}],\"left\":[{\"id\":\"f945ff28-27f6-4652-97cf-e54f74df2906\",\"type\":\"LinearAxis\"}],\"renderers\":[{\"id\":\"d0ac9ce3-4981-45a6-896a-28035cc77cb2\",\"type\":\"GlyphRenderer\"},{\"id\":\"1887f505-d152-41bc-a1c6-79a17c1ffac4\",\"type\":\"LinearAxis\"},{\"id\":\"f945ff28-27f6-4652-97cf-e54f74df2906\",\"type\":\"LinearAxis\"}],\"title\":{\"id\":\"a6562000-de84-4d20-8113-91c842a30da1\",\"type\":\"Title\"},\"toolbar\":{\"id\":\"9592c05f-48e4-4667-8f8b-acfc9f68a264\",\"type\":\"Toolbar\"},\"x_range\":{\"id\":\"aab71cd8-6569-4c84-8dd8-875f57393efd\",\"type\":\"Range1d\"},\"x_scale\":{\"id\":\"27bec3d8-4cc0-456e-8298-eedac89e6e5b\",\"type\":\"LinearScale\"},\"y_range\":{\"id\":\"2db74152-9085-4fbd-af4f-116f1aa8cb0f\",\"type\":\"Range1d\"},\"y_scale\":{\"id\":\"664fd727-76d2-4618-8840-7c61547087f0\",\"type\":\"LinearScale\"}},\"id\":\"5c0cc6f9-ee67-4538-b3c1-49a11c8ec3e6\",\"subtype\":\"Figure\",\"type\":\"Plot\"},{\"attributes\":{\"plot\":null,\"text\":\"\"},\"id\":\"a6562000-de84-4d20-8113-91c842a30da1\",\"type\":\"Title\"},{\"attributes\":{\"callback\":null,\"end\":21},\"id\":\"2db74152-9085-4fbd-af4f-116f1aa8cb0f\",\"type\":\"Range1d\"},{\"attributes\":{\"source\":{\"id\":\"c41b3bd2-9670-4dd3-a13d-8d33179656cd\",\"type\":\"ColumnDataSource\"}},\"id\":\"5daabae4-4661-4725-baca-32968065aad4\",\"type\":\"CDSView\"},{\"attributes\":{},\"id\":\"664fd727-76d2-4618-8840-7c61547087f0\",\"type\":\"LinearScale\"},{\"attributes\":{\"color_mapper\":{\"id\":\"4ed7aebf-be3d-4544-b8a5-de5b64bbd714\",\"type\":\"LinearColorMapper\"},\"dh\":{\"units\":\"data\",\"value\":21},\"dw\":{\"units\":\"data\",\"value\":23},\"image\":{\"field\":\"image\"},\"x\":{\"value\":0},\"y\":{\"value\":0}},\"id\":\"702c5788-e5be-40a9-973a-2a6869f372d7\",\"type\":\"Image\"},{\"attributes\":{\"active_drag\":\"auto\",\"active_inspect\":\"auto\",\"active_multi\":null,\"active_scroll\":\"auto\",\"active_tap\":\"auto\"},\"id\":\"9592c05f-48e4-4667-8f8b-acfc9f68a264\",\"type\":\"Toolbar\"},{\"attributes\":{\"color_mapper\":{\"id\":\"d39ddd57-364e-480b-8f2e-5ab04ff91e0b\",\"type\":\"LinearColorMapper\"},\"dh\":{\"units\":\"data\",\"value\":21},\"dw\":{\"units\":\"data\",\"value\":23},\"image\":{\"field\":\"image\"},\"x\":{\"value\":0},\"y\":{\"value\":0}},\"id\":\"f3e72ed2-159e-4ebc-8dd9-fc2ffb6ddb40\",\"type\":\"Image\"},{\"attributes\":{\"callback\":null,\"data\":{\"image\":[{\"__ndarray__\":\"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\",\"dtype\":\"float32\",\"shape\":[21,23]}]},\"selected\":{\"id\":\"e58530c7-751b-4430-8f6a-648374066c28\",\"type\":\"Selection\"},\"selection_policy\":{\"id\":\"bbc98670-474f-4f9d-b96d-ce7d882c4f65\",\"type\":\"UnionRenderers\"}},\"id\":\"c41b3bd2-9670-4dd3-a13d-8d33179656cd\",\"type\":\"ColumnDataSource\"},{\"attributes\":{},\"id\":\"bbc98670-474f-4f9d-b96d-ce7d882c4f65\",\"type\":\"UnionRenderers\"},{\"attributes\":{\"ticks\":[0.5,1.5,2.5,3.5,4.5,5.5,6.5,7.5,8.5,9.5,10.5,11.5,12.5,13.5,14.5,15.5,16.5,17.5,18.5,19.5,20.5,21.5,22.5]},\"id\":\"90979d3b-49bf-4c4d-80a6-da28474c98f0\",\"type\":\"FixedTicker\"},{\"attributes\":{},\"id\":\"e58530c7-751b-4430-8f6a-648374066c28\",\"type\":\"Selection\"},{\"attributes\":{\"axis_label\":\"source tokens\",\"formatter\":{\"id\":\"77046553-ff41-49a0-a9a6-5272feaf1967\",\"type\":\"BasicTickFormatter\"},\"major_label_orientation\":45,\"major_label_overrides\":{\"0.5\":\"_BOS_\",\"1.5\":\"\\u0430\\u043f\\u0430\\u0440\\u0442\\u0430\\u043c\\u0435\\u043d\\u0442\\u044b\",\"10.5\":\"square\",\"11.5\":\"\\u043d\\u0430\\u0445\\u043e\\u0434\\u044f\\u0442\\u0441\\u044f\",\"12.5\":\"\\u0432\",\"13.5\":\"\\u043c\\u043e\\u0441\\u043a\\u0432\\u0435\",\"14.5\":\",\",\"15.5\":\"\\u0432\",\"16.5\":\"200\",\"17.5\":\"\\u043c\\u0435\\u0442\\u0440\\u0430\\u0445\",\"18.5\":\"\\u043e\\u0442\",\"19.5\":\"\\u0431\\u043e\\u043b\\u044c\\u0448\\u043e\\u0433\\u043e\",\"2.5\":\"mo@@\",\"20.5\":\"\\u0442\\u0435\\u0430\\u0442\\u0440\\u0430\",\"21.5\":\".\",\"22.5\":\"_EOS_\",\"3.5\":\"s@@\",\"4.5\":\"co@@\",\"5.5\":\"w\",\"6.5\":\"point\",\"7.5\":\"-\",\"8.5\":\"loft\",\"9.5\":\"red\"},\"plot\":{\"id\":\"5c0cc6f9-ee67-4538-b3c1-49a11c8ec3e6\",\"subtype\":\"Figure\",\"type\":\"Plot\"},\"ticker\":{\"id\":\"90979d3b-49bf-4c4d-80a6-da28474c98f0\",\"type\":\"FixedTicker\"}},\"id\":\"1887f505-d152-41bc-a1c6-79a17c1ffac4\",\"type\":\"LinearAxis\"},{\"attributes\":{\"ticks\":[0.5,1.5,2.5,3.5,4.5,5.5,6.5,7.5,8.5,9.5,10.5,11.5,12.5,13.5,14.5,15.5,16.5,17.5,18.5,19.5,20.5]},\"id\":\"0a966f3d-44fa-4a94-b32e-3561079dc602\",\"type\":\"FixedTicker\"}],\"root_ids\":[\"5c0cc6f9-ee67-4538-b3c1-49a11c8ec3e6\"]},\"title\":\"Bokeh Application\",\"version\":\"0.13.0\"}};\n",
              "  var render_items = [{\"docid\":\"3d04422c-3b30-45d5-bf46-ca7d4ab2a534\",\"roots\":{\"5c0cc6f9-ee67-4538-b3c1-49a11c8ec3e6\":\"60f9282b-3b9a-447a-89bc-e513fba91264\"}}];\n",
              "  root.Bokeh.embed.embed_items_notebook(docs_json, render_items);\n",
              "\n",
              "  }\n",
              "  if (root.Bokeh !== undefined) {\n",
              "    embed_document(root);\n",
              "  } else {\n",
              "    var attempts = 0;\n",
              "    var timer = setInterval(function(root) {\n",
              "      if (root.Bokeh !== undefined) {\n",
              "        embed_document(root);\n",
              "        clearInterval(timer);\n",
              "      }\n",
              "      attempts++;\n",
              "      if (attempts > 100) {\n",
              "        console.log(\"Bokeh: ERROR: Unable to run BokehJS code because BokehJS library is missing\")\n",
              "        clearInterval(timer);\n",
              "      }\n",
              "    }, 10, root)\n",
              "  }\n",
              "})(window);"
            ],
            "application/vnd.bokehjs_exec.v0+json": ""
          },
          "metadata": {
            "tags": [],
            "application/vnd.bokehjs_exec.v0+json": {
              "id": "5c0cc6f9-ee67-4538-b3c1-49a11c8ec3e6"
            }
          }
        }
      ]
    },
    {
      "metadata": {
        "id": "Yl3QJ2908tca",
        "colab_type": "text"
      },
      "cell_type": "markdown",
      "source": [
        "### Выводы"
      ]
    },
    {
      "metadata": {
        "id": "INaxyIq28xaL",
        "colab_type": "text"
      },
      "cell_type": "markdown",
      "source": [
        "Даже не до конца обученное внимание позволило существенно увеличить качество.\n",
        "\n",
        "Очень сильный прирост дало добавление двунаправленного энкодера\n",
        "\n",
        "Так же качество очень увеличилось от замены энкодера на двухслойный, время обучения правда довольно увеличилось.\n",
        "\n",
        "В принципе все улучшения дали свой результат."
      ]
    }
  ]
}