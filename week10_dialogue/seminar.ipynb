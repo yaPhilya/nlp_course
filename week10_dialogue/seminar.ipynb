{
 "cells": [
  {
   "cell_type": "markdown",
   "metadata": {
    "colab_type": "text",
    "id": "Ge4Ed7j1cATf"
   },
   "source": [
    "# Seminar: simple question answering\n",
    "![img](https://recruitlook.com/wp-content/uploads/2015/01/questionanswer3.jpg)\n",
    "\n",
    "Today we're going to build a retrieval-based question answering model with metric learning models.\n",
    "\n",
    "_this seminar is based on original notebook by [Oleg Vasilev](https://github.com/Omrigan/)_\n",
    "\n"
   ]
  },
  {
   "cell_type": "code",
   "execution_count": 2,
   "metadata": {
    "colab": {},
    "colab_type": "code",
    "id": "XZLLTe7jcATh"
   },
   "outputs": [],
   "source": [
    "import numpy as np\n",
    "import matplotlib.pyplot as plt\n",
    "%matplotlib inline"
   ]
  },
  {
   "cell_type": "markdown",
   "metadata": {
    "colab_type": "text",
    "id": "7IJ2xEv6cATm"
   },
   "source": [
    "### Dataset\n",
    "\n",
    "Today's data is Stanford Question Answering Dataset (SQuAD). Given a paragraph of text and a question, our model's task is to select a snippet that answers the question.\n",
    "\n",
    "We are not going to solve the full task today. Instead, we'll train a model to __select the sentence containing answer__ among several options.\n",
    "\n",
    "As usual, you are given an utility module with data reader and some helper functions"
   ]
  },
  {
   "cell_type": "code",
   "execution_count": 3,
   "metadata": {
    "colab": {
     "base_uri": "https://localhost:8080/",
     "height": 68
    },
    "colab_type": "code",
    "id": "LnImatBjccGw",
    "outputId": "43b6c7d7-a5ad-4a52-ccf4-c7c317db4941"
   },
   "outputs": [
    {
     "name": "stdout",
     "output_type": "stream",
     "text": [
      "[nltk_data] Downloading package punkt to /home/ya-philya/nltk_data...\n",
      "[nltk_data]   Package punkt is already up-to-date!\n"
     ]
    },
    {
     "data": {
      "text/plain": [
       "True"
      ]
     },
     "execution_count": 3,
     "metadata": {},
     "output_type": "execute_result"
    }
   ],
   "source": [
    "import nltk\n",
    "nltk.download('punkt')"
   ]
  },
  {
   "cell_type": "code",
   "execution_count": 4,
   "metadata": {
    "colab": {},
    "colab_type": "code",
    "id": "AWOvayujcATn"
   },
   "outputs": [],
   "source": [
    "import utils\n",
    "!wget https://rajpurkar.github.io/SQuAD-explorer/dataset/train-v2.0.json -O squad-v2.0.json 2> log\n",
    "# backup download link: https://www.dropbox.com/s/q4fuihaerqr0itj/squad.tar.gz?dl=1\n",
    "train, test = utils.build_dataset('./squad-v2.0.json')"
   ]
  },
  {
   "cell_type": "code",
   "execution_count": 5,
   "metadata": {
    "colab": {
     "base_uri": "https://localhost:8080/",
     "height": 193
    },
    "colab_type": "code",
    "id": "urnlkk1ncATr",
    "outputId": "df06ec83-74a0-4941-e9d3-381213b71a9c"
   },
   "outputs": [
    {
     "name": "stdout",
     "output_type": "stream",
     "text": [
      "QUESTION Where did Beyonce get her name from? \n",
      "\n",
      "[ ] Beyoncé Giselle Knowles was born in Houston, Texas, to Celestine Ann \"Tina\" Knowles (née Beyincé), a hairdresser and salon owner, and Mathew Knowles, a Xerox sales manager.\n",
      "[v] Beyoncé's name is a tribute to her mother's maiden name.\n",
      "[ ] Beyoncé's younger sister Solange is also a singer and a former member of Destiny's Child.\n",
      "[ ] Mathew is African-American, while Tina is of Louisiana Creole descent (with African, Native American, French, Cajun, and distant Irish and Spanish ancestry).\n",
      "[ ] Through her mother, Beyoncé is a descendant of Acadian leader Joseph Broussard.\n",
      "[ ] She was raised in a Methodist household.\n"
     ]
    }
   ],
   "source": [
    "pid, question, options, correct_indices, wrong_indices = train.iloc[40]\n",
    "print('QUESTION', question, '\\n')\n",
    "for i, cand in enumerate(options):\n",
    "    print(['[ ]', '[v]'][i in correct_indices], cand)"
   ]
  },
  {
   "cell_type": "code",
   "execution_count": 6,
   "metadata": {
    "colab": {
     "base_uri": "https://localhost:8080/",
     "height": 204
    },
    "colab_type": "code",
    "id": "KSyY-uC3ePx2",
    "outputId": "d6aacabb-c301-4051-a49f-067f8992eb34"
   },
   "outputs": [
    {
     "data": {
      "text/html": [
       "<div>\n",
       "<style scoped>\n",
       "    .dataframe tbody tr th:only-of-type {\n",
       "        vertical-align: middle;\n",
       "    }\n",
       "\n",
       "    .dataframe tbody tr th {\n",
       "        vertical-align: top;\n",
       "    }\n",
       "\n",
       "    .dataframe thead th {\n",
       "        text-align: right;\n",
       "    }\n",
       "</style>\n",
       "<table border=\"1\" class=\"dataframe\">\n",
       "  <thead>\n",
       "    <tr style=\"text-align: right;\">\n",
       "      <th></th>\n",
       "      <th>paragraph_id</th>\n",
       "      <th>question</th>\n",
       "      <th>options</th>\n",
       "      <th>correct_indices</th>\n",
       "      <th>wrong_indices</th>\n",
       "    </tr>\n",
       "  </thead>\n",
       "  <tbody>\n",
       "    <tr>\n",
       "      <th>0</th>\n",
       "      <td>0</td>\n",
       "      <td>When did Beyonce start becoming popular?</td>\n",
       "      <td>[Beyoncé Giselle Knowles-Carter (/biːˈjɒnseɪ/ ...</td>\n",
       "      <td>[1]</td>\n",
       "      <td>[0, 2, 3]</td>\n",
       "    </tr>\n",
       "    <tr>\n",
       "      <th>1</th>\n",
       "      <td>0</td>\n",
       "      <td>What areas did Beyonce compete in when she was...</td>\n",
       "      <td>[Beyoncé Giselle Knowles-Carter (/biːˈjɒnseɪ/ ...</td>\n",
       "      <td>[1]</td>\n",
       "      <td>[0, 2, 3]</td>\n",
       "    </tr>\n",
       "    <tr>\n",
       "      <th>2</th>\n",
       "      <td>0</td>\n",
       "      <td>When did Beyonce leave Destiny's Child and bec...</td>\n",
       "      <td>[Beyoncé Giselle Knowles-Carter (/biːˈjɒnseɪ/ ...</td>\n",
       "      <td>[3]</td>\n",
       "      <td>[0, 1, 2]</td>\n",
       "    </tr>\n",
       "    <tr>\n",
       "      <th>3</th>\n",
       "      <td>0</td>\n",
       "      <td>In what city and state did Beyonce  grow up?</td>\n",
       "      <td>[Beyoncé Giselle Knowles-Carter (/biːˈjɒnseɪ/ ...</td>\n",
       "      <td>[1]</td>\n",
       "      <td>[0, 2, 3]</td>\n",
       "    </tr>\n",
       "    <tr>\n",
       "      <th>4</th>\n",
       "      <td>0</td>\n",
       "      <td>In which decade did Beyonce become famous?</td>\n",
       "      <td>[Beyoncé Giselle Knowles-Carter (/biːˈjɒnseɪ/ ...</td>\n",
       "      <td>[1]</td>\n",
       "      <td>[0, 2, 3]</td>\n",
       "    </tr>\n",
       "  </tbody>\n",
       "</table>\n",
       "</div>"
      ],
      "text/plain": [
       "   paragraph_id                                           question  \\\n",
       "0             0           When did Beyonce start becoming popular?   \n",
       "1             0  What areas did Beyonce compete in when she was...   \n",
       "2             0  When did Beyonce leave Destiny's Child and bec...   \n",
       "3             0      In what city and state did Beyonce  grow up?    \n",
       "4             0         In which decade did Beyonce become famous?   \n",
       "\n",
       "                                             options correct_indices  \\\n",
       "0  [Beyoncé Giselle Knowles-Carter (/biːˈjɒnseɪ/ ...             [1]   \n",
       "1  [Beyoncé Giselle Knowles-Carter (/biːˈjɒnseɪ/ ...             [1]   \n",
       "2  [Beyoncé Giselle Knowles-Carter (/biːˈjɒnseɪ/ ...             [3]   \n",
       "3  [Beyoncé Giselle Knowles-Carter (/biːˈjɒnseɪ/ ...             [1]   \n",
       "4  [Beyoncé Giselle Knowles-Carter (/biːˈjɒnseɪ/ ...             [1]   \n",
       "\n",
       "  wrong_indices  \n",
       "0     [0, 2, 3]  \n",
       "1     [0, 2, 3]  \n",
       "2     [0, 1, 2]  \n",
       "3     [0, 2, 3]  \n",
       "4     [0, 2, 3]  "
      ]
     },
     "execution_count": 6,
     "metadata": {},
     "output_type": "execute_result"
    }
   ],
   "source": [
    "train.head()"
   ]
  },
  {
   "cell_type": "code",
   "execution_count": 7,
   "metadata": {
    "colab": {
     "base_uri": "https://localhost:8080/",
     "height": 187
    },
    "colab_type": "code",
    "id": "D6x6jaCQeccY",
    "outputId": "70a7fde6-453f-428e-92e3-426e12b5ada9"
   },
   "outputs": [
    {
     "name": "stdout",
     "output_type": "stream",
     "text": [
      "<class 'pandas.core.frame.DataFrame'>\n",
      "Int64Index: 58161 entries, 0 to 85125\n",
      "Data columns (total 5 columns):\n",
      "paragraph_id       58161 non-null int64\n",
      "question           58161 non-null object\n",
      "options            58161 non-null object\n",
      "correct_indices    58161 non-null object\n",
      "wrong_indices      58161 non-null object\n",
      "dtypes: int64(1), object(4)\n",
      "memory usage: 2.7+ MB\n"
     ]
    }
   ],
   "source": [
    "train.info()"
   ]
  },
  {
   "cell_type": "markdown",
   "metadata": {
    "colab_type": "text",
    "id": "_H1vxbc5cATu"
   },
   "source": [
    "### Universal Sentence Encoder\n",
    "\n",
    "We've already solved quite a few tasks from scratch, training our own embeddings and convolutional/recurrent layers. However, one can often achieve higher quality by using pre-trained models. So today we're gonna use pre-trained Universal Sentence Encoder from [Tensorflow Hub](https://tfhub.dev/google/universal-sentence-encoder/2).\n",
    "\n",
    "\n",
    "[__Universal Sentence Encoder__](https://arxiv.org/abs/1803.11175) is a model that encoders phrases, sentences or short paragraphs into a fixed-size vector. It was trained simultaneosly on a variety of tasks to achieve versatility.\n"
   ]
  },
  {
   "cell_type": "code",
   "execution_count": 9,
   "metadata": {
    "colab": {
     "base_uri": "https://localhost:8080/",
     "height": 85
    },
    "colab_type": "code",
    "id": "vcpNOgFWcATv",
    "outputId": "3a3493db-b368-492a-93db-fdaf7bbadad0"
   },
   "outputs": [
    {
     "name": "stderr",
     "output_type": "stream",
     "text": [
      "Using TensorFlow backend.\n"
     ]
    },
    {
     "name": "stdout",
     "output_type": "stream",
     "text": [
      "INFO:tensorflow:Using /tmp/tfhub_modules to cache modules.\n",
      "INFO:tensorflow:Downloading TF-Hub Module 'https://tfhub.dev/google/universal-sentence-encoder/2'.\n",
      "INFO:tensorflow:Downloaded TF-Hub Module 'https://tfhub.dev/google/universal-sentence-encoder/2'.\n"
     ]
    }
   ],
   "source": [
    "import tensorflow as tf\n",
    "import keras.layers as L\n",
    "import tensorflow_hub as hub\n",
    "tf.reset_default_graph()\n",
    "sess = tf.InteractiveSession()\n",
    "\n",
    "universal_sentence_encoder = hub.Module(\"https://tfhub.dev/google/universal-sentence-encoder/2\", \n",
    "                                        trainable=False)\n",
    "# consider as well:\n",
    "# * lite: https://tfhub.dev/google/universal-sentence-encoder-lite/2\n",
    "# * large: https://tfhub.dev/google/universal-sentence-encoder-large/2\n",
    "\n",
    "sess.run([tf.global_variables_initializer(), tf.tables_initializer()]);"
   ]
  },
  {
   "cell_type": "code",
   "execution_count": 10,
   "metadata": {
    "colab": {
     "base_uri": "https://localhost:8080/",
     "height": 314
    },
    "colab_type": "code",
    "id": "3ceNAlL2cATz",
    "outputId": "23a00b60-4b94-4304-e3e4-623fbb4085c7"
   },
   "outputs": [
    {
     "name": "stdout",
     "output_type": "stream",
     "text": [
      "INFO:tensorflow:Saver not created because there are no variables in the graph to restore\n"
     ]
    },
    {
     "data": {
      "text/plain": [
       "<matplotlib.image.AxesImage at 0x7fcf702bd898>"
      ]
     },
     "execution_count": 10,
     "metadata": {},
     "output_type": "execute_result"
    },
    {
     "data": {
      "image/png": "[encoded data removed]",
      "text/plain": [
       "<Figure size 432x288 with 1 Axes>"
      ]
     },
     "metadata": {
      "needs_background": "light"
     },
     "output_type": "display_data"
    }
   ],
   "source": [
    "# tfhub implementation does tokenization for you\n",
    "dummy_ph = tf.placeholder(tf.string, shape=[None])\n",
    "dummy_vectors = universal_sentence_encoder(dummy_ph)\n",
    "\n",
    "dummy_lines = [\n",
    "    \"How old are you?\",                                                 # 0\n",
    "    \"In what mythology do two canines watch over the Chinvat Bridge?\",  # 1\n",
    "    \"I'm sorry, okay, I'm not perfect, but I'm trying.\",                # 2\n",
    "    \"What is your age?\",                                                # 3\n",
    "    \"Beware, for I am fearless, and therefore powerful.\",               # 4\n",
    "]\n",
    "\n",
    "dummy_vectors_np = sess.run(dummy_vectors, {\n",
    "    dummy_ph: dummy_lines\n",
    "})\n",
    "\n",
    "plt.title('phrase similarity')\n",
    "plt.imshow(dummy_vectors_np.dot(dummy_vectors_np.T), interpolation='none', cmap='gray')"
   ]
  },
  {
   "cell_type": "markdown",
   "metadata": {
    "colab_type": "text",
    "id": "chmXWkOlcAT1"
   },
   "source": [
    "As you can see, __the strongest similarity is between lines 0 and 3__. Indeed they correspond to \"How old are you?\" and \"What is your age?\""
   ]
  },
  {
   "cell_type": "markdown",
   "metadata": {
    "colab_type": "text",
    "id": "KdbMhwlrcAT2"
   },
   "source": [
    "### Model (2 points)\n",
    "\n",
    "Our goal for today is to build a model that measures similarity between question and answer. In particular, it maps both question and answer into fixed-size vectors such that:\n",
    "\n",
    "Our model is a pair of $V_q(q)$ and $V_a(a)$ - networks that turn phrases into vectors. \n",
    "\n",
    "__Objective:__ Question vector $V_q(q)$ should be __closer__ to correct answer vectors $V_a(a^+)$ than to incorrect ones $V_a(a^-)$ .\n",
    "\n",
    "Both vectorizers can be anything you wish. For starters, let's use a couple of dense layers on top of the Universal Sentence Encoder.\n",
    "\n",
    "\n"
   ]
  },
  {
   "cell_type": "code",
   "execution_count": 11,
   "metadata": {
    "colab": {},
    "colab_type": "code",
    "id": "xEqct0PxcAT3"
   },
   "outputs": [],
   "source": [
    "import keras.layers as L\n",
    "class Vectorizer:\n",
    "    def __init__(self, output_size=256, hid_size=256, universal_sentence_encoder=universal_sentence_encoder):\n",
    "        \"\"\" A small feedforward network on top of universal sentence encoder. 2-3 layers should be enough \"\"\"\n",
    "        self.universal_sentence_encoder = universal_sentence_encoder\n",
    "        \n",
    "        # define a few layers to be applied on top of u.s.e.\n",
    "        # note: please make sure your final layer comes with _linear_ activation\n",
    "        self.head = L.Dense(output_size)\n",
    "        \n",
    "\n",
    "    def __call__(self, input_phrases, is_train=True):\n",
    "        \"\"\"\n",
    "        Apply vectorizer. Use dropout and any other hacks at will.\n",
    "        :param input_phrases: [batch_size] of tf.string\n",
    "        :param is_train: if True, apply dropouts and other ops in train mode, \n",
    "                         if False - evaluation mode\n",
    "        :returns: predicted phrase vectors, [batch_size, output_size]\n",
    "        \"\"\"\n",
    "        return self.head(self.universal_sentence_encoder(input_phrases))"
   ]
  },
  {
   "cell_type": "code",
   "execution_count": 12,
   "metadata": {
    "colab": {},
    "colab_type": "code",
    "id": "Gk7LFWWncAT4"
   },
   "outputs": [],
   "source": [
    "question_vectorizer = Vectorizer()\n",
    "answer_vectorizer = Vectorizer()"
   ]
  },
  {
   "cell_type": "code",
   "execution_count": 18,
   "metadata": {
    "colab": {
     "base_uri": "https://localhost:8080/",
     "height": 68
    },
    "colab_type": "code",
    "id": "fYwqHmnDcAT6",
    "outputId": "4c063ccf-6c89-40c5-fa44-d9f773dc1983"
   },
   "outputs": [
    {
     "name": "stdout",
     "output_type": "stream",
     "text": [
      "INFO:tensorflow:Saver not created because there are no variables in the graph to restore\n",
      "INFO:tensorflow:Saver not created because there are no variables in the graph to restore\n",
      "Well done!\n"
     ]
    }
   ],
   "source": [
    "dummy_v_q = question_vectorizer(dummy_ph, is_train=True)\n",
    "dummy_v_q_det = question_vectorizer(dummy_ph, is_train=False)\n",
    "utils.initialize_uninitialized()\n",
    "assert sess.run(dummy_v_q, {dummy_ph: dummy_lines}).shape == (5, 256)\n",
    "assert np.allclose(\n",
    "    sess.run(dummy_v_q_det, {dummy_ph: dummy_lines}),\n",
    "    sess.run(dummy_v_q_det, {dummy_ph: dummy_lines})\n",
    "), \"make sure your model doesn't use dropout/noise or non-determinism if is_train=False\"\n",
    "\n",
    "print(\"Well done!\")"
   ]
  },
  {
   "cell_type": "markdown",
   "metadata": {
    "colab_type": "text",
    "id": "3lLNyzkNcAT9"
   },
   "source": [
    "### Training: minibatches\n",
    "\n",
    "Our model learns on triples $(q, a^+, a^-)$: \n",
    "* q - __q__uestion\n",
    "* (a+) - correct __a__nswer\n",
    "* (a-) - wrong __a__nswer \n",
    "\n",
    "Below you will find a generator that samples such triples from data."
   ]
  },
  {
   "cell_type": "code",
   "execution_count": 25,
   "metadata": {
    "colab": {},
    "colab_type": "code",
    "id": "f1UZ8T5RcAT-"
   },
   "outputs": [],
   "source": [
    "import random\n",
    "\n",
    "def iterate_minibatches(data, batch_size, total_batch_num, shuffle=True, cycle=False):\n",
    "    \"\"\"\n",
    "    Generates minibatches of triples: {questions, correct answers, wrong answers}\n",
    "    If there are several wrong (or correct) answers, picks one at random.\n",
    "    \"\"\"\n",
    "    indices = np.arange(len(data))\n",
    "    cnt = 0\n",
    "    while True:\n",
    "        if shuffle:\n",
    "            indices = np.random.permutation(indices)\n",
    "        for batch_start in range(0, len(indices), batch_size):\n",
    "            batch_indices = indices[batch_start: batch_start + batch_size]\n",
    "            batch = data.iloc[batch_indices]\n",
    "            questions = batch['question'].values\n",
    "            correct_answers = np.array([\n",
    "                row['options'][random.choice(row['correct_indices'])]\n",
    "                for i, row in batch.iterrows()\n",
    "            ])\n",
    "            wrong_answers = np.array([\n",
    "                row['options'][random.choice(row['wrong_indices'])]\n",
    "                for i, row in batch.iterrows()\n",
    "            ])\n",
    "\n",
    "            yield {\n",
    "                'questions' : questions,\n",
    "                'correct_answers': correct_answers,\n",
    "                'wrong_answers': wrong_answers,\n",
    "            }\n",
    "            cnt += 1\n",
    "            if cnt == total_batch_num:\n",
    "                break\n",
    "        if cnt == total_batch_num:\n",
    "            break\n",
    "        if not cycle:\n",
    "            break"
   ]
  },
  {
   "cell_type": "code",
   "execution_count": 27,
   "metadata": {
    "colab": {
     "base_uri": "https://localhost:8080/",
     "height": 210
    },
    "colab_type": "code",
    "id": "2m453_3fcAUA",
    "outputId": "2db97061-425d-44a1-8782-cc09f19b9a5a"
   },
   "outputs": [
    {
     "name": "stdout",
     "output_type": "stream",
     "text": [
      "{'questions': array(['Why use two consecutive year dates?',\n",
      "       'What area only had about 2 million Protestants in 2010?',\n",
      "       'U.S. investment banks Increased their financial leverage and also increased their vulnerability to what?'],\n",
      "      dtype=object), 'correct_answers': array(['Dual dating uses two consecutive years because of differences in the starting date of the year, or includes both the Julian and Gregorian dates.',\n",
      "       '[ae] In 2010, a total of more than 800 million included 300 million in Sub-Saharan Africa, 260 million in the Americas, 140 million in Asia-Pacific region, 100 million in Europe and 2 million in Middle East-North Africa.',\n",
      "       'From 2004 to 2007, the top five U.S. investment banks each significantly increased their financial leverage (see diagram), which increased their vulnerability to a financial shock.'],\n",
      "      dtype='<U220'), 'wrong_answers': array(['To unambiguously specify the date, dual dating or Old Style (O.S.)',\n",
      "       \"Various estimates put the percentage of Protestants in relation to the total number of world's Christians at 33%, 36%, 36.7%, and 40%, while in relation to the world's population at 11.6% and 13%.\",\n",
      "       'However, both Barclays and Bank of America ultimately declined to purchase the entire company.'],\n",
      "      dtype='<U196')}\n"
     ]
    }
   ],
   "source": [
    "dummy_batch = next(iterate_minibatches(train.sample(3), 3, 10))\n",
    "print(dummy_batch)"
   ]
  },
  {
   "cell_type": "markdown",
   "metadata": {
    "colab_type": "text",
    "id": "uX-rhvMCcAUB"
   },
   "source": [
    "### Training: loss function (2 points)\n",
    "We want our vectorizers to put correct answers closer to question vectors and incorrect answers farther away from them. One way to express this is to use is Pairwise Hinge Loss _(aka Triplet Loss)_. \n",
    "\n",
    "$$ L = \\frac 1N \\underset {q, a^+, a^-} \\sum max(0, \\space \\delta - sim[V_q(q), V_a(a^+)] + sim[V_q(q), V_a(a^-)] )$$\n",
    "\n",
    ", where\n",
    "* sim[a, b] is some similarity function: dot product, cosine or negative distance\n",
    "* δ - loss hyperparameter, e.g. δ=1.0. If sim[a, b] is linear in b, all δ > 0 are equivalent.\n",
    "\n",
    "\n",
    "This reads as __Correct answers must be closer than the wrong ones by at least δ.__\n",
    "\n",
    "![img](https://raw.githubusercontent.com/yandexdataschool/nlp_course/master/resources/margin.png)\n",
    "<center>_image: question vector is green, correct answers are blue, incorrect answers are red_</center>\n",
    "\n",
    "\n",
    "Note: in effect, we train a Deep Semantic Similarity Model [DSSM](https://www.microsoft.com/en-us/research/project/dssm/). "
   ]
  },
  {
   "cell_type": "code",
   "execution_count": 28,
   "metadata": {
    "colab": {},
    "colab_type": "code",
    "id": "q2U3mOzucAUC"
   },
   "outputs": [],
   "source": [
    "def similarity(a, b):\n",
    "    \"\"\" Dot product as a similarity function \"\"\"\n",
    "    return tf.reduce_sum(tf.multiply(a, b), axis=1)\n",
    "\n",
    "def compute_loss(question_vectors, correct_answer_vectors, wrong_answer_vectors, delta=1.0):\n",
    "    \"\"\" \n",
    "    Compute the triplet loss as per formula above.\n",
    "    Use similarity function above for  sim[a, b]\n",
    "    :param question_vectors: float32[batch_size, vector_size]\n",
    "    :param correct_answer_vectors: float32[batch_size, vector_size]\n",
    "    :param wrong_answer_vectors: float32[batch_size, vector_size]\n",
    "    :returns: loss for every row in batch, float32[batch_size]\n",
    "    Hint: DO NOT use tf.reduce_max, it's a wrong kind of maximum :)\n",
    "    \"\"\"\n",
    "    \n",
    "    return tf.maximum(0.0, delta - similarity(question_vectors, correct_answer_vectors) + \n",
    "                      similarity(question_vectors, wrong_answer_vectors))"
   ]
  },
  {
   "cell_type": "code",
   "execution_count": 29,
   "metadata": {
    "colab": {},
    "colab_type": "code",
    "id": "czAL0zCtcAUD"
   },
   "outputs": [],
   "source": [
    "dummy_v1 = tf.constant([[0.1, 0.2, -1], [-1.2, 0.6, 1.0]], dtype=tf.float32)\n",
    "dummy_v2 = tf.constant([[0.9, 2.1, -6.6], [0.1, 0.8, -2.2]], dtype=tf.float32)\n",
    "dummy_v3 = tf.constant([[-4.1, 0.1, 1.2], [0.3, -1, -2]], dtype=tf.float32)\n",
    "\n",
    "assert np.allclose(similarity(dummy_v1, dummy_v2).eval(), [7.11, -1.84])\n",
    "assert np.allclose(compute_loss(dummy_v1, dummy_v2, dummy_v3, delta=5.0).eval(), [0.0, 3.88])"
   ]
  },
  {
   "cell_type": "markdown",
   "metadata": {
    "colab_type": "text",
    "id": "1Y0YJc1qcAUE"
   },
   "source": [
    "Once loss is working, let's train our model by our usual means."
   ]
  },
  {
   "cell_type": "code",
   "execution_count": 30,
   "metadata": {
    "colab": {
     "base_uri": "https://localhost:8080/",
     "height": 68
    },
    "colab_type": "code",
    "id": "ThHBX2TvcAUE",
    "outputId": "02cfc161-98e2-4500-f42b-d578f7051287"
   },
   "outputs": [
    {
     "name": "stdout",
     "output_type": "stream",
     "text": [
      "INFO:tensorflow:Saver not created because there are no variables in the graph to restore\n",
      "INFO:tensorflow:Saver not created because there are no variables in the graph to restore\n",
      "INFO:tensorflow:Saver not created because there are no variables in the graph to restore\n"
     ]
    }
   ],
   "source": [
    "placeholders = {\n",
    "    key: tf.placeholder(tf.string, [None]) for key in dummy_batch.keys()\n",
    "}\n",
    "\n",
    "v_q = question_vectorizer(placeholders['questions'], is_train=True)\n",
    "v_a_correct = answer_vectorizer(placeholders['correct_answers'], is_train=True)\n",
    "v_a_wrong = answer_vectorizer(placeholders['wrong_answers'], is_train=True)\n",
    "\n",
    "loss = tf.reduce_mean(compute_loss(v_q, v_a_correct, v_a_wrong))\n",
    "step = tf.train.AdamOptimizer().minimize(loss)"
   ]
  },
  {
   "cell_type": "code",
   "execution_count": 31,
   "metadata": {
    "colab": {
     "base_uri": "https://localhost:8080/",
     "height": 68
    },
    "colab_type": "code",
    "id": "83pwAyN0cAUF",
    "outputId": "9db188af-9e89-46ec-b078-c0733542ea74"
   },
   "outputs": [
    {
     "name": "stdout",
     "output_type": "stream",
     "text": [
      "INFO:tensorflow:Saver not created because there are no variables in the graph to restore\n",
      "INFO:tensorflow:Saver not created because there are no variables in the graph to restore\n",
      "INFO:tensorflow:Saver not created because there are no variables in the graph to restore\n"
     ]
    }
   ],
   "source": [
    "# we also compute recall: probability that a^+ is closer to q than a^-\n",
    "test_v_q = question_vectorizer(placeholders['questions'], is_train=False)\n",
    "test_v_a_correct = answer_vectorizer(placeholders['correct_answers'], is_train=False)\n",
    "test_v_a_wrong = answer_vectorizer(placeholders['wrong_answers'], is_train=False)\n",
    "\n",
    "correct_is_closer = tf.greater(similarity(test_v_q, test_v_a_correct),\n",
    "                               similarity(test_v_q, test_v_a_wrong))\n",
    "recall = tf.reduce_mean(tf.to_float(correct_is_closer))"
   ]
  },
  {
   "cell_type": "markdown",
   "metadata": {
    "colab_type": "text",
    "id": "o3WFhgmCcAUH"
   },
   "source": [
    "### Training loop\n",
    "\n",
    "Just as we always do, we can now train DSSM on minibatches and periodically measure recall on validation data.\n",
    "\n",
    "\n",
    "__Note 1:__ DSSM training may be very sensitive to the choice of batch size. Small batch size may decrease model quality.\n",
    "\n",
    "__Note 2:__ here we use the same dataset as __\"test set\"__ and __\"validation (dev) set\"__. \n",
    "\n",
    "In any serious scientific experiment, those must be two separate sets. Validation is for hyperparameter tuning and testr is for final eval only.\n"
   ]
  },
  {
   "cell_type": "code",
   "execution_count": 33,
   "metadata": {
    "colab": {},
    "colab_type": "code",
    "id": "BXzu0YVccAUH"
   },
   "outputs": [],
   "source": [
    "import pandas as pd\n",
    "from IPython.display import clear_output\n",
    "from tqdm import tqdm_notebook\n",
    "\n",
    "ewma = lambda x, span: pd.DataFrame({'x': x})['x'].ewm(span=span).mean().values\n",
    "dev_batches = iterate_minibatches(test, batch_size=512, total_batch_num=1000, cycle=True)\n",
    "loss_history = []\n",
    "dev_recall_history = []\n",
    "utils.initialize_uninitialized()"
   ]
  },
  {
   "cell_type": "code",
   "execution_count": 36,
   "metadata": {},
   "outputs": [],
   "source": [
    "from tqdm import tqdm"
   ]
  },
  {
   "cell_type": "code",
   "execution_count": 37,
   "metadata": {
    "colab": {
     "base_uri": "https://localhost:8080/",
     "height": 1338
    },
    "colab_type": "code",
    "id": "Mlza0n0XcAUJ",
    "outputId": "2773a7c5-a3bb-4c79-ae9f-c3717d327948"
   },
   "outputs": [
    {
     "data": {
      "image/png": "[encoded data removed]",
      "text/plain": [
       "<Figure size 864x432 with 2 Axes>"
      ]
     },
     "metadata": {
      "needs_background": "light"
     },
     "output_type": "display_data"
    },
    {
     "name": "stderr",
     "output_type": "stream",
     "text": [
      "1000it [05:42,  2.05it/s]\n"
     ]
    }
   ],
   "source": [
    "# infinite training loop. Stop it manually or implement early stopping\n",
    "\n",
    "for batch in tqdm(iterate_minibatches(train, batch_size=1024, total_batch_num=1000, cycle=True)):\n",
    "    feed = {placeholders[key] : batch[key] for key in batch}\n",
    "    loss_t, _ = sess.run([loss, step], feed)\n",
    "    loss_history.append(loss_t)\n",
    "    if len(loss_history) % 50 == 0:\n",
    "        # measure dev recall = P(correct_is_closer_than_wrong | q, a+, a-)\n",
    "        dev_batch = next(dev_batches)\n",
    "        recall_t = sess.run(recall, {placeholders[key] : dev_batch[key] for key in dev_batch})\n",
    "        dev_recall_history.append(recall_t)\n",
    "    \n",
    "    if len(loss_history) % 50 == 0:\n",
    "        clear_output(True)\n",
    "        plt.figure(figsize=[12, 6])\n",
    "        plt.subplot(1, 2, 1), plt.title('train loss (hinge)'), plt.grid()\n",
    "        plt.scatter(np.arange(len(loss_history)), loss_history, alpha=0.1)\n",
    "        plt.plot(ewma(loss_history, span=100))\n",
    "        plt.subplot(1, 2, 2), plt.title('dev recall (1 correct vs 1 wrong)'), plt.grid()\n",
    "        dev_time = np.arange(1, len(dev_recall_history) + 1) * 100\n",
    "        plt.scatter(dev_time, dev_recall_history, alpha=0.1)\n",
    "        plt.plot(dev_time, ewma(dev_recall_history, span=10))\n",
    "        plt.show()\n",
    "    "
   ]
  },
  {
   "cell_type": "code",
   "execution_count": 38,
   "metadata": {
    "colab": {
     "base_uri": "https://localhost:8080/",
     "height": 51
    },
    "colab_type": "code",
    "id": "18NmOKB8cAUK",
    "outputId": "ce746c2c-a2c0-454b-de14-d576448f14ae"
   },
   "outputs": [
    {
     "name": "stdout",
     "output_type": "stream",
     "text": [
      "Mean recall: 0.8544922\n",
      "Well done!\n"
     ]
    }
   ],
   "source": [
    "print(\"Mean recall:\", np.mean(dev_recall_history[-10:]))\n",
    "assert np.mean(dev_recall_history[-10:]) > 0.85, \"Please train for at least 85% recall on test set. \"\\\n",
    "                                                  \"You may need to change vectorizer model for that.\"\n",
    "print(\"Well done!\")"
   ]
  },
  {
   "cell_type": "markdown",
   "metadata": {
    "colab_type": "text",
    "collapsed": true,
    "id": "AfIDo1CAcAUL"
   },
   "source": [
    "# Final evaluation (1 point)\n",
    "\n",
    "Let's see how well does our model perform on actual question answering. \n",
    "\n",
    "Given a question and a set of possible answers, pick answer with highest similarity to estimate accuracy."
   ]
  },
  {
   "cell_type": "code",
   "execution_count": 39,
   "metadata": {
    "colab": {},
    "colab_type": "code",
    "id": "MCd5aQE4cAUL"
   },
   "outputs": [
    {
     "name": "stdout",
     "output_type": "stream",
     "text": [
      "INFO:tensorflow:Saver not created because there are no variables in the graph to restore\n",
      "INFO:tensorflow:Saver not created because there are no variables in the graph to restore\n"
     ]
    }
   ],
   "source": [
    "# optional: build tf graph required for select_best_answer\n",
    "# <...>\n",
    "\n",
    "phs = {'question': tf.placeholder(dtype=tf.string, shape=(1,)), 'ans': tf.placeholder(dtype=tf.string, shape=[None])}\n",
    "quest_vect = question_vectorizer(phs['question'], is_train=False)\n",
    "ans_vect = answer_vectorizer(phs['ans'], is_train=False)\n",
    "sim = similarity(quest_vect, ans_vect)\n",
    "best = tf.argmax(sim)\n",
    "\n",
    "def select_best_answer(question, possible_answers):\n",
    "    \"\"\"\n",
    "    Predicts which answer best fits the question\n",
    "    :param question: a single string containing a question\n",
    "    :param possible_answers: a list of strings containing possible answers\n",
    "    :returns: integer - the index of best answer in possible_answer\n",
    "    \"\"\"\n",
    "    return sess.run(best, {phs['question']: np.array([question]), phs['ans']: np.array(possible_answers)})\n",
    "    "
   ]
  },
  {
   "cell_type": "code",
   "execution_count": 40,
   "metadata": {
    "colab": {},
    "colab_type": "code",
    "id": "6LECXlP5cAUM"
   },
   "outputs": [
    {
     "name": "stderr",
     "output_type": "stream",
     "text": [
      "100%|██████████| 26970/26970 [03:18<00:00, 136.05it/s]"
     ]
    },
    {
     "name": "stdout",
     "output_type": "stream",
     "text": [
      "Accuracy: 0.69722\n",
      "Great job!\n"
     ]
    },
    {
     "name": "stderr",
     "output_type": "stream",
     "text": [
      "\n"
     ]
    }
   ],
   "source": [
    "predicted_answers = [\n",
    "    select_best_answer(question, possible_answers)\n",
    "    for i, (question, possible_answers) in tqdm(test[['question', 'options']].iterrows(), total=len(test))\n",
    "]\n",
    "\n",
    "accuracy = np.mean([\n",
    "    answer in correct_ix\n",
    "    for answer, correct_ix in zip(predicted_answers, test['correct_indices'].values)\n",
    "])\n",
    "print(\"Accuracy: %0.5f\" % accuracy)\n",
    "assert accuracy > 0.65, \"we need more accuracy!\"\n",
    "print(\"Great job!\")"
   ]
  },
  {
   "cell_type": "code",
   "execution_count": 42,
   "metadata": {
    "colab": {},
    "colab_type": "code",
    "id": "z0n-jOnkcAUN"
   },
   "outputs": [],
   "source": [
    "def draw_results(question, possible_answers, predicted_index, correct_indices):\n",
    "    print(\"Q:\", question, end='\\n\\n')\n",
    "    for i, answer in enumerate(possible_answers):\n",
    "        print(\"#%i: %s %s\" % (i, '[*]' if i == predicted_index else '[ ]', answer))\n",
    "    \n",
    "    print(\"\\nVerdict:\", \"CORRECT\" if predicted_index in correct_indices else \"INCORRECT\", \n",
    "          \"(ref: %s)\" % correct_indices, end='\\n' * 3)"
   ]
  },
  {
   "cell_type": "code",
   "execution_count": 43,
   "metadata": {
    "colab": {},
    "colab_type": "code",
    "id": "qatiT0a4cAUO",
    "scrolled": false
   },
   "outputs": [
    {
     "name": "stdout",
     "output_type": "stream",
     "text": [
      "Q: Which three countries did Beyonce's song \"Work It Out\" achieve top ten status?\n",
      "\n",
      "#0: [ ] In July 2002, Beyoncé continued her acting career playing Foxxy Cleopatra alongside Mike Myers in the comedy film, Austin Powers in Goldmember, which spent its first weekend atop the US box office and grossed $73 million.\n",
      "#1: [*] Beyoncé released \"Work It Out\" as the lead single from its soundtrack album which entered the top ten in the UK, Norway, and Belgium.\n",
      "#2: [ ] In 2003, Beyoncé starred opposite Cuba Gooding, Jr., in the musical comedy The Fighting Temptations as Lilly, a single mother whom Gooding's character falls in love with.\n",
      "#3: [ ] The film received mixed reviews from critics but grossed $30 million in the U.S. Beyoncé released \"Fighting Temptation\" as the lead single from the film's soundtrack album, with Missy Elliott, MC Lyte, and Free which was also used to promote the film.\n",
      "#4: [ ] Another of Beyoncé's contributions to the soundtrack, \"Summertime\", fared better on the US charts.\n",
      "\n",
      "Verdict: CORRECT (ref: [1])\n",
      "\n",
      "\n",
      "Q: Jay Z has a website called what?\n",
      "\n",
      "#0: [ ] On January 7, 2012, Beyoncé gave birth to a daughter, Blue Ivy Carter, at Lenox Hill Hospital in New York under heavy security.\n",
      "#1: [*] Two days later, Jay Z released \"Glory\", a song dedicated to their child, on his website Lifeandtimes.com.\n",
      "#2: [ ] The song detailed the couple's pregnancy struggles, including a miscarriage Beyoncé suffered before becoming pregnant with Blue Ivy.\n",
      "#3: [ ] Blue Ivy's cries are included at the end of the song, and she was officially credited as \"B.I.C.\"\n",
      "#4: [ ] on it. At two days old, she became the youngest person ever to appear on a Billboard chart when \"Glory\" debuted on the Hot R&B/Hip-Hop Songs chart.\n",
      "\n",
      "Verdict: CORRECT (ref: [1])\n",
      "\n",
      "\n",
      "Q: In what year did the state of New York pass a law to free the slaves?\n",
      "\n",
      "#0: [*] Under New York State's gradual abolition act of 1799, children of slave mothers were born to be eventually liberated but were held in indentured servitude until their mid-to-late twenties.\n",
      "#1: [ ] Together with slaves freed by their masters after the Revolutionary War and escaped slaves, a significant free-black population gradually developed in Manhattan.\n",
      "#2: [ ] Under such influential United States founders as Alexander Hamilton and John Jay, the New York Manumission Society worked for abolition and established the African Free School to educate black children.\n",
      "#3: [ ] It was not until 1827 that slavery was completely abolished in the state, and free blacks struggled afterward with discrimination.\n",
      "#4: [ ] New York interracial abolitionist activism continued; among its leaders were graduates of the African Free School.\n",
      "#5: [ ] The city's black population reached more than 16,000 in 1840.\n",
      "\n",
      "Verdict: CORRECT (ref: [0])\n",
      "\n",
      "\n",
      "Q: How many Special Police protected the relay event?\n",
      "\n",
      "#0: [ ] Malaysia: The event was held in the capital city, Kuala Lumpur, on April 21.\n",
      "#1: [ ] The 16.5 km long-relay began from the historic Independence Square, passed in front of several city landmarks before coming to an end at the iconic Petronas Twin Towers.\n",
      "#2: [ ] Among the landmarks the Olympic flame passed next to were the Parliament House, National Mosque, KL Tower and Merdeka Stadium.\n",
      "#3: [*] A team of 1000 personnel from the Malaysian police Special Action Squad guarded the event and escorted the torchbearers.\n",
      "#4: [ ] The last time an Olympic torch relay was held in Malaysia was the 1964 Tokyo edition.\n",
      "\n",
      "Verdict: CORRECT (ref: [3])\n",
      "\n",
      "\n",
      "Q: When the Soviet Union ended in 1991, what was the RSFSR government called?\n",
      "\n",
      "#0: [ ] The Government was known officially as the Council of People's Commissars (1917–1946), Council of Ministers (1946–1978) and Council of Ministers–Government (1978–1991).\n",
      "#1: [*] The first government was headed by Vladimir Lenin as \"Chairman of the Council of People's Commissars of the Russian SFSR\" and the last by Boris Yeltsin as both head of government and head of state under the title \"President\".\n",
      "\n",
      "Verdict: INCORRECT (ref: [0])\n",
      "\n",
      "\n",
      "Q: What radio station format is facing demographic pressures in the present day?\n",
      "\n",
      "#0: [*] The soft AC format may soon be facing the demographic pressures that the jazz and big band formats faced in the 1960s and 1970s and that the oldies format is starting to face today, with the result that one may hear soft AC less on over-the-air radio and more on satellite radio systems in coming years.\n",
      "#1: [ ] Much of the music and artists that were traditionally played on soft AC stations have been relegated to the adult standards format, which is itself disappearing because of aging demographics.\n",
      "#2: [ ] Some soft AC stations have found a niche by incorporating more oldies into their playlists and are more open to playing softer songs that fit the \"traditional\" definition of AC.\n",
      "\n",
      "Verdict: CORRECT (ref: [0])\n",
      "\n",
      "\n",
      "Q: Where was the street named after Tito that was found unconstitutional located?\n",
      "\n",
      "#0: [ ] In the years following the dissolution of Yugoslavia, some historians stated that human rights were suppressed in Yugoslavia under Tito, particularly in the first decade up until the Tito-Stalin split.\n",
      "#1: [*] On 4 October 2011, the Slovenian Constitutional Court found a 2009 naming of a street in Ljubljana after Tito to be unconstitutional.\n",
      "#2: [ ] While several public areas in Slovenia (named during the Yugoslav period) do already bear Tito's name, on the issue of renaming an additional street the court ruled that:\n",
      "\n",
      "Verdict: CORRECT (ref: [1])\n",
      "\n",
      "\n"
     ]
    }
   ],
   "source": [
    "for i in [1, 100, 1000, 2000, 3000, 4000, 5000]:\n",
    "    draw_results(test.iloc[i].question, test.iloc[i].options,\n",
    "                 predicted_answers[i], test.iloc[i].correct_indices)"
   ]
  },
  {
   "cell_type": "code",
   "execution_count": 47,
   "metadata": {
    "colab": {},
    "colab_type": "code",
    "id": "itcF-jgHcAUP"
   },
   "outputs": [
    {
     "name": "stdout",
     "output_type": "stream",
     "text": [
      "Q: What is my name?\n",
      "\n",
      "#0: [ ] My name's Filipp\n",
      "#1: [*] My name is Dan\n",
      "#2: [ ] I don't know\n",
      "\n",
      "Verdict: INCORRECT (ref: [0])\n",
      "\n",
      "\n"
     ]
    }
   ],
   "source": [
    "question = \"What is my name?\" # your question here!\n",
    "possible_answers = [\n",
    "    \"My name's Filipp\",\n",
    "    \"My name is Dan\",\n",
    "    \"I don't know\"]\n",
    "\n",
    "predicted_answer = select_best_answer(question, possible_answers)\n",
    "\n",
    "draw_results(question, possible_answers,\n",
    "             predicted_answer, [0])"
   ]
  },
  {
   "cell_type": "markdown",
   "metadata": {
    "colab_type": "text",
    "id": "Ehl35nrqcAUQ"
   },
   "source": [
    "### Bonus tasks\n",
    "\n",
    "There are many ways to improve our question answering model. Here's a bunch of things you can do to increase your understanding and get bonus points.\n",
    "\n",
    "### 1.  Hard Negatives (3+ pts)\n",
    "\n",
    "Not all wrong answers are equally wrong. As the training progresses, _most negative examples $a^-$ will be to easy._ So easy in fact, that loss function and gradients on such negatives is exactly __0.0__. To improve training efficiency, one can __mine hard negative samples__.\n",
    "\n",
    "Given a list of answers,\n",
    "* __Hard negative__ is the wrong answer with highest similarity with question,\n",
    "\n",
    "$$a^-_{hard} = \\underset {a^-} {argmax} \\space sim[V_q(q), V_a(a^-)]$$\n",
    "\n",
    "* __Semi-hard negative__ is the one with highest similarity _among wrong answers that are farther than positive one. This option is more useful if some wrong answers may actually be mislabelled correct answers.\n",
    "\n",
    "* One can also __sample__ negatives proportionally to $$P(a^-_i) \\sim e ^ {sim[V_q(q), V_a(a^-_i)]}$$\n",
    "\n",
    "\n",
    "The task is to implement at least __hard negative__ sampling and apply it for model training.\n",
    "\n",
    "\n",
    "### 2. Bring Your Own Model (3+ pts)\n",
    "In addition to Universal Sentence Encoder, one can also train a new model.\n",
    "* You name it: convolutions, RNN, self-attention\n",
    "* Use pre-trained ELMO or FastText embeddings\n",
    "* Monitor overfitting and use dropout / word dropout to improve performance\n",
    "\n",
    "__Note:__ if you use ELMO please note that it requires tokenized text while USE can deal with raw strings. You can tokenize data manually or use tokenized=True when reading dataset.\n",
    "\n",
    "\n",
    "* hard negatives (strategies: hardest, hardest farter than current, randomized)\n",
    "* train model on the full dataset to see if it can mine answers to new questions over the entire wikipedia. Use approximate nearest neighbor search for fast lookup.\n",
    "\n",
    "\n",
    "### 3. Search engine (3+ pts)\n",
    "\n",
    "Our basic model only selects answers from 2-5 available sentences in paragraph. You can extend it to search over __the whole dataset__. All sentences in all other paragraphs are viable answers.\n",
    "\n",
    "The goal is to train such a model and use it to __quickly find top-10 answers from the whole set__.\n",
    "\n",
    "* You can ask such model a question of your own making - to see which answers it can find among the entire training dataset or even the entire wikipedia.\n",
    "* Searching for top-K neighbors is easier if you use specialized methods: [KD-Tree](https://scikit-learn.org/stable/modules/generated/sklearn.neighbors.KDTree.html) or [HNSW](https://github.com/nmslib/hnswlib). \n",
    "* This task is much easier to train if you use hard or semi-hard negatives. You can even find hard negatives for one question from correct answers to other questions in batch - do so in-graph for maximum efficiency. See [1.] for more details.\n"
   ]
  }
 ],
 "metadata": {
  "accelerator": "GPU",
  "colab": {
   "name": "seminar.ipynb",
   "provenance": [],
   "version": "0.3.2"
  },
  "kernelspec": {
   "display_name": "Python 3",
   "language": "python",
   "name": "python3"
  },
  "language_info": {
   "codemirror_mode": {
    "name": "ipython",
    "version": 3
   },
   "file_extension": ".py",
   "mimetype": "text/x-python",
   "name": "python",
   "nbconvert_exporter": "python",
   "pygments_lexer": "ipython3",
   "version": "3.6.6"
  }
 },
 "nbformat": 4,
 "nbformat_minor": 1
}
