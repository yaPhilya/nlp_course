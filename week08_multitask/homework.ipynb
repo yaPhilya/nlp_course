{
  "nbformat": 4,
  "nbformat_minor": 0,
  "metadata": {
    "colab": {
      "name": "homework.ipynb",
      "version": "0.3.2",
      "provenance": []
    },
    "kernelspec": {
      "name": "python3",
      "display_name": "Python 3"
    },
    "accelerator": "GPU"
  },
  "cells": [
    {
      "metadata": {
        "id": "fEQLNowBwQsg",
        "colab_type": "text"
      },
      "cell_type": "markdown",
      "source": [
        "# Homework: Multi-task Learning & Domain Adaptation\n",
        "##  Named Entity Recognition\n",
        "\n",
        "Today we're gonna solve the problem of named entity recognition. Here's what it does in one picture:\n",
        "![img](https://commons.bmstu.wiki/images/0/00/NER1.png)\n",
        "[image source](https://bit.ly/2Pmg7L2)\n",
        "\n",
        "\n",
        "For each word, in a sentence, your model should predict a named entity class:\n"
      ]
    },
    {
      "metadata": {
        "id": "wBBFMOp0wQsi",
        "colab_type": "code",
        "colab": {}
      },
      "cell_type": "code",
      "source": [
        "import numpy as np\n",
        "import tensorflow as tf\n",
        "tf.reset_default_graph()\n",
        "sess = tf.InteractiveSession()"
      ],
      "execution_count": 0,
      "outputs": []
    },
    {
      "metadata": {
        "id": "D7NcduC6wQsn",
        "colab_type": "text"
      },
      "cell_type": "markdown",
      "source": [
        "## Data\n",
        "\n",
        "### Train set\n",
        "\n",
        "Our model will train on a [Groningen Meaning Bank corpus](https://www.kaggle.com/abhinavwalia95/entity-annotated-corpus).\n",
        "\n",
        "Each word of every sentence is labelled with named entity class and a part-of-speech tag.\n",
        "\n",
        "### Source domain testset\n",
        "\n",
        "Our train set consists from texts from different news sources. Therefore as source-domain testset we will use data from [CoNLL-2003 Shared Task](https://github.com/Franck-Dernoncourt/NeuroNER/blob/master/data/conll2003/en). More information about the task can be found [here](https://www.clips.uantwerpen.be/conll2003/ner/).\n",
        "\n",
        "### Target domain (in-domain) data\n",
        "\n",
        "As target-domain data we will use data from [WNUT17 Emerging and Rare entity recognition task](http://noisy-text.github.io/2017/emerging-rare-entities.html). This shared task focuses on identifying unusual, previously-unseen entities in the context of emerging discussions. The data were mined from mined from Twitter, Reddit,\n",
        "YouTube and StackExchange. Results of different competitors of the task were published [here](https://noisy-text.github.io/2017/pdf/WNUT18.pdf).\n",
        "\n",
        "### Named entity classes\n",
        "\n",
        "* PER - _person_: names of people (e.g. Alexander S. Pushkin)\n",
        "* ORG - _organization_: names of corporations (e.g. Yandex), names of non-profit organizations (e.g. UNICEF)\n",
        "Google).\n",
        "* LOC - _location_ : e.g. Russia\n",
        "* MISC - _miscellaneous_ : other named entities including names of products (e.g. iPhone) and creative works (e.g. Bohemian Rhapsody)\n",
        "\n",
        "### Evaluation metrics\n",
        "\n",
        "As evaluation metrics we will F1 measure on exact matched NEs. It means that partially overlapped enitities of same class are considered as mismatch.\n",
        "For example, LOC entities below is partially overlapped. And it is a mismatch:\n",
        "\n",
        "__O, B-LOC, I-LOC, O__\n",
        "\n",
        "__O, B-LOC, I-LOC, I-LOC__\n",
        "\n",
        "Details can be found in the code of _conlleval.py_\n",
        "\n",
        "### Data format\n",
        "\n",
        "The format of all dataset follows popular [IOB format](https://en.wikipedia.org/wiki/Inside–outside–beginning_(tagging)). The B- prefix before a tag indicates that the tag is the beginning of a chunk, and an I- prefix before a tag indicates that the tag is inside a chunk. The B- tag is used only when a tag is followed by a tag of the same type without O tokens between them. An O tag indicates that a token belongs to no chunk.\n",
        "\n",
        "The named entity labels include:\n",
        "* __B-LOC__ - location - first token\n",
        "* __I-LOC__ - location - subsequent tokens\n",
        "* __B-ORG__ - organization - first token\n",
        "* __O__ - not a named entity\n",
        "\n",
        "Take a look for yourself:"
      ]
    },
    {
      "metadata": {
        "id": "HU0nbJkswQso",
        "colab_type": "code",
        "outputId": "9a48f33c-f2be-4b6a-ee9f-a9f1fb5b883d",
        "colab": {
          "base_uri": "https://localhost:8080/",
          "height": 1397
        }
      },
      "cell_type": "code",
      "source": [
        "# Train:\n",
        "!wget https://www.dropbox.com/s/xobyz6jgovvz3dm/kaggle-train.conll?dl=1 -O kaggle-train.conll\n",
        "\n",
        "# Source domain testset:\n",
        "!wget https://www.dropbox.com/s/1l8b9iy78cglrw3/source-domain-test.conll?dl=1 -O source-domain-test.conll\n",
        "\n",
        "# Target domain testset:\n",
        "!wget https://www.dropbox.com/s/oxfkdy23ux5hfz5/target-domain-test.conll?dl=1 -O target-domain-test.conll\n",
        "    \n",
        "# Target domain monolingual data:\n",
        "!wget https://www.dropbox.com/s/ysdrotjdfljydbr/target-domain-monolingual.conll?dl=1 -O target-domain-monolingual.conll\n"
      ],
      "execution_count": 1,
      "outputs": [
        {
          "output_type": "stream",
          "text": [
            "--2018-11-26 02:08:45--  https://www.dropbox.com/s/xobyz6jgovvz3dm/kaggle-train.conll?dl=1\n",
            "Resolving www.dropbox.com (www.dropbox.com)... 162.125.8.1, 2620:100:601b:1::a27d:801\n",
            "Connecting to www.dropbox.com (www.dropbox.com)|162.125.8.1|:443... connected.\n",
            "HTTP request sent, awaiting response... 301 Moved Permanently\n",
            "Location: /s/dl/xobyz6jgovvz3dm/kaggle-train.conll [following]\n",
            "--2018-11-26 02:08:46--  https://www.dropbox.com/s/dl/xobyz6jgovvz3dm/kaggle-train.conll\n",
            "Reusing existing connection to www.dropbox.com:443.\n",
            "HTTP request sent, awaiting response... 302 Found\n",
            "Location: https://uce1a72c5556b112aa67c4cac3c3.dl.dropboxusercontent.com/cd/0/get/AWRkkbJklHhLOV8auykLp4AUQtFQg_GMfjuSKHDf1nNWZkR2IA5XufVx6tbhLSRV_TP-8QplI4-GyScDl47IqbmtcAEahVgzVmQxetKTO3SdIpLCVuw1Pjbf_QeJ6pruT537U__dxUCkcTyJBarWkEXQGrArO9IcsmKbkpQ8SR37mrUGM7rj40moP22ahG2KFrg/file?dl=1 [following]\n",
            "--2018-11-26 02:08:46--  https://uce1a72c5556b112aa67c4cac3c3.dl.dropboxusercontent.com/cd/0/get/AWRkkbJklHhLOV8auykLp4AUQtFQg_GMfjuSKHDf1nNWZkR2IA5XufVx6tbhLSRV_TP-8QplI4-GyScDl47IqbmtcAEahVgzVmQxetKTO3SdIpLCVuw1Pjbf_QeJ6pruT537U__dxUCkcTyJBarWkEXQGrArO9IcsmKbkpQ8SR37mrUGM7rj40moP22ahG2KFrg/file?dl=1\n",
            "Resolving uce1a72c5556b112aa67c4cac3c3.dl.dropboxusercontent.com (uce1a72c5556b112aa67c4cac3c3.dl.dropboxusercontent.com)... 162.125.8.6, 2620:100:6018:6::a27d:306\n",
            "Connecting to uce1a72c5556b112aa67c4cac3c3.dl.dropboxusercontent.com (uce1a72c5556b112aa67c4cac3c3.dl.dropboxusercontent.com)|162.125.8.6|:443... connected.\n",
            "HTTP request sent, awaiting response... 200 OK\n",
            "Length: 12200095 (12M) [application/binary]\n",
            "Saving to: ‘kaggle-train.conll’\n",
            "\n",
            "kaggle-train.conll  100%[===================>]  11.63M  47.8MB/s    in 0.2s    \n",
            "\n",
            "2018-11-26 02:08:46 (47.8 MB/s) - ‘kaggle-train.conll’ saved [12200095/12200095]\n",
            "\n",
            "--2018-11-26 02:08:47--  https://www.dropbox.com/s/1l8b9iy78cglrw3/source-domain-test.conll?dl=1\n",
            "Resolving www.dropbox.com (www.dropbox.com)... 162.125.8.1, 2620:100:601b:1::a27d:801\n",
            "Connecting to www.dropbox.com (www.dropbox.com)|162.125.8.1|:443... connected.\n",
            "HTTP request sent, awaiting response... 301 Moved Permanently\n",
            "Location: /s/dl/1l8b9iy78cglrw3/source-domain-test.conll [following]\n",
            "--2018-11-26 02:08:47--  https://www.dropbox.com/s/dl/1l8b9iy78cglrw3/source-domain-test.conll\n",
            "Reusing existing connection to www.dropbox.com:443.\n",
            "HTTP request sent, awaiting response... 302 Found\n",
            "Location: https://uc32287dd99b11530f1015003749.dl.dropboxusercontent.com/cd/0/get/AWRs9zcKELzZNI6E3-uCns1D7MFqv4jgZh5LtaBXc1zbJLCBo-AI_jHjy7x-PEFK-vh9dM8kZ5BX4yWMpawCnXRbOWxw_YmjEhwcPcotW5YlvFrkcwgysno48QXCiOeaABD3u9leuf4yFiM0D9j4vVjjll2rTsHcSh7rVO2fSC8xgPzQSj2TrZJ3nF1dl1n6Mv0/file?dl=1 [following]\n",
            "--2018-11-26 02:08:48--  https://uc32287dd99b11530f1015003749.dl.dropboxusercontent.com/cd/0/get/AWRs9zcKELzZNI6E3-uCns1D7MFqv4jgZh5LtaBXc1zbJLCBo-AI_jHjy7x-PEFK-vh9dM8kZ5BX4yWMpawCnXRbOWxw_YmjEhwcPcotW5YlvFrkcwgysno48QXCiOeaABD3u9leuf4yFiM0D9j4vVjjll2rTsHcSh7rVO2fSC8xgPzQSj2TrZJ3nF1dl1n6Mv0/file?dl=1\n",
            "Resolving uc32287dd99b11530f1015003749.dl.dropboxusercontent.com (uc32287dd99b11530f1015003749.dl.dropboxusercontent.com)... 162.125.8.6, 2620:100:601b:6::a27d:806\n",
            "Connecting to uc32287dd99b11530f1015003749.dl.dropboxusercontent.com (uc32287dd99b11530f1015003749.dl.dropboxusercontent.com)|162.125.8.6|:443... connected.\n",
            "HTTP request sent, awaiting response... 200 OK\n",
            "Length: 526358 (514K) [application/binary]\n",
            "Saving to: ‘source-domain-test.conll’\n",
            "\n",
            "source-domain-test. 100%[===================>] 514.02K  --.-KB/s    in 0.1s    \n",
            "\n",
            "2018-11-26 02:08:48 (4.19 MB/s) - ‘source-domain-test.conll’ saved [526358/526358]\n",
            "\n",
            "--2018-11-26 02:08:49--  https://www.dropbox.com/s/oxfkdy23ux5hfz5/target-domain-test.conll?dl=1\n",
            "Resolving www.dropbox.com (www.dropbox.com)... 162.125.8.1, 2620:100:601b:1::a27d:801\n",
            "Connecting to www.dropbox.com (www.dropbox.com)|162.125.8.1|:443... connected.\n",
            "HTTP request sent, awaiting response... 301 Moved Permanently\n",
            "Location: /s/dl/oxfkdy23ux5hfz5/target-domain-test.conll [following]\n",
            "--2018-11-26 02:08:49--  https://www.dropbox.com/s/dl/oxfkdy23ux5hfz5/target-domain-test.conll\n",
            "Reusing existing connection to www.dropbox.com:443.\n",
            "HTTP request sent, awaiting response... 302 Found\n",
            "Location: https://uc11a7ad0d8fff701e0a8f86a6f5.dl.dropboxusercontent.com/cd/0/get/AWRV3rSpFg7LzbkjSxqo7SeRXoN-6D0VK3N_8iynSOALhmTyClkNFyWwwAhyjioF0QLXleAGPEChLA8p1zGIZsc6jA6rmoMtwkKZw8nq_Sg9g3Bz-NPEtivXpan3Jpu9WqBzhZC3ZXB3OgxEZMHIpKc5Q5i8tChk5EW8g3kHbK-rCfquyPFH3ivedH8NZuyVuBs/file?dl=1 [following]\n",
            "--2018-11-26 02:08:49--  https://uc11a7ad0d8fff701e0a8f86a6f5.dl.dropboxusercontent.com/cd/0/get/AWRV3rSpFg7LzbkjSxqo7SeRXoN-6D0VK3N_8iynSOALhmTyClkNFyWwwAhyjioF0QLXleAGPEChLA8p1zGIZsc6jA6rmoMtwkKZw8nq_Sg9g3Bz-NPEtivXpan3Jpu9WqBzhZC3ZXB3OgxEZMHIpKc5Q5i8tChk5EW8g3kHbK-rCfquyPFH3ivedH8NZuyVuBs/file?dl=1\n",
            "Resolving uc11a7ad0d8fff701e0a8f86a6f5.dl.dropboxusercontent.com (uc11a7ad0d8fff701e0a8f86a6f5.dl.dropboxusercontent.com)... 162.125.3.6, 2620:100:601b:6::a27d:806\n",
            "Connecting to uc11a7ad0d8fff701e0a8f86a6f5.dl.dropboxusercontent.com (uc11a7ad0d8fff701e0a8f86a6f5.dl.dropboxusercontent.com)|162.125.3.6|:443... connected.\n",
            "HTTP request sent, awaiting response... 200 OK\n",
            "Length: 183185 (179K) [application/binary]\n",
            "Saving to: ‘target-domain-test.conll’\n",
            "\n",
            "target-domain-test. 100%[===================>] 178.89K  --.-KB/s    in 0.03s   \n",
            "\n",
            "2018-11-26 02:08:50 (5.45 MB/s) - ‘target-domain-test.conll’ saved [183185/183185]\n",
            "\n",
            "--2018-11-26 02:08:51--  https://www.dropbox.com/s/ysdrotjdfljydbr/target-domain-monolingual.conll?dl=1\n",
            "Resolving www.dropbox.com (www.dropbox.com)... 162.125.8.1, 2620:100:601b:1::a27d:801\n",
            "Connecting to www.dropbox.com (www.dropbox.com)|162.125.8.1|:443... connected.\n",
            "HTTP request sent, awaiting response... 301 Moved Permanently\n",
            "Location: /s/dl/ysdrotjdfljydbr/target-domain-monolingual.conll [following]\n",
            "--2018-11-26 02:08:51--  https://www.dropbox.com/s/dl/ysdrotjdfljydbr/target-domain-monolingual.conll\n",
            "Reusing existing connection to www.dropbox.com:443.\n",
            "HTTP request sent, awaiting response... 302 Found\n",
            "Location: https://ucb7180eaa415d8b7ffcb35f6f0d.dl.dropboxusercontent.com/cd/0/get/AWQoLAtJt6gttVGu2G5ItA8eGk1NqjmTQM8sYn7n2mvaFIV4XGcRloVtm2imK0Ju7jzd1t2MwlUFRGSFR8-zfbvWB7cocSd5c-o3ZkHDF18aN06GhILLjNzPfn3LAekpXsGtWFmENXOsSz7I55MiPtZglJg6AyS6EBuRZfOeNfEUoicDiUmHYlW2qn_sV4cSpNo/file?dl=1 [following]\n",
            "--2018-11-26 02:08:51--  https://ucb7180eaa415d8b7ffcb35f6f0d.dl.dropboxusercontent.com/cd/0/get/AWQoLAtJt6gttVGu2G5ItA8eGk1NqjmTQM8sYn7n2mvaFIV4XGcRloVtm2imK0Ju7jzd1t2MwlUFRGSFR8-zfbvWB7cocSd5c-o3ZkHDF18aN06GhILLjNzPfn3LAekpXsGtWFmENXOsSz7I55MiPtZglJg6AyS6EBuRZfOeNfEUoicDiUmHYlW2qn_sV4cSpNo/file?dl=1\n",
            "Resolving ucb7180eaa415d8b7ffcb35f6f0d.dl.dropboxusercontent.com (ucb7180eaa415d8b7ffcb35f6f0d.dl.dropboxusercontent.com)... 162.125.8.6, 2620:100:601b:6::a27d:806\n",
            "Connecting to ucb7180eaa415d8b7ffcb35f6f0d.dl.dropboxusercontent.com (ucb7180eaa415d8b7ffcb35f6f0d.dl.dropboxusercontent.com)|162.125.8.6|:443... connected.\n",
            "HTTP request sent, awaiting response... 200 OK\n",
            "Length: 338533 (331K) [application/binary]\n",
            "Saving to: ‘target-domain-monolingual.conll’\n",
            "\n",
            "target-domain-monol 100%[===================>] 330.60K  --.-KB/s    in 0.1s    \n",
            "\n",
            "2018-11-26 02:08:51 (3.12 MB/s) - ‘target-domain-monolingual.conll’ saved [338533/338533]\n",
            "\n"
          ],
          "name": "stdout"
        }
      ]
    },
    {
      "metadata": {
        "id": "7E1ouE7bzPMy",
        "colab_type": "code",
        "outputId": "46f4df11-d1ba-4603-9fc0-7d8a56015e38",
        "colab": {
          "base_uri": "https://localhost:8080/",
          "height": 422
        }
      },
      "cell_type": "code",
      "source": [
        "!wget https://raw.githubusercontent.com/yaPhilya/nlp_course/master/week08_multitask/conlleval.py\n",
        "!wget https://raw.githubusercontent.com/yaPhilya/nlp_course/master/week08_multitask/utils.py"
      ],
      "execution_count": 8,
      "outputs": [
        {
          "output_type": "stream",
          "text": [
            "--2018-11-26 02:09:40--  https://raw.githubusercontent.com/yaPhilya/nlp_course/master/week08_multitask/conlleval.py\n",
            "Resolving raw.githubusercontent.com (raw.githubusercontent.com)... 151.101.0.133, 151.101.64.133, 151.101.128.133, ...\n",
            "Connecting to raw.githubusercontent.com (raw.githubusercontent.com)|151.101.0.133|:443... connected.\n",
            "HTTP request sent, awaiting response... 200 OK\n",
            "Length: 7046 (6.9K) [text/plain]\n",
            "Saving to: ‘conlleval.py.1’\n",
            "\n",
            "\rconlleval.py.1        0%[                    ]       0  --.-KB/s               \rconlleval.py.1      100%[===================>]   6.88K  --.-KB/s    in 0s      \n",
            "\n",
            "2018-11-26 02:09:40 (60.9 MB/s) - ‘conlleval.py.1’ saved [7046/7046]\n",
            "\n",
            "--2018-11-26 02:09:41--  https://raw.githubusercontent.com/yaPhilya/nlp_course/master/week08_multitask/utils.py\n",
            "Resolving raw.githubusercontent.com (raw.githubusercontent.com)... 151.101.0.133, 151.101.64.133, 151.101.128.133, ...\n",
            "Connecting to raw.githubusercontent.com (raw.githubusercontent.com)|151.101.0.133|:443... connected.\n",
            "HTTP request sent, awaiting response... 200 OK\n",
            "Length: 6853 (6.7K) [text/plain]\n",
            "Saving to: ‘utils.py.1’\n",
            "\n",
            "utils.py.1          100%[===================>]   6.69K  --.-KB/s    in 0s      \n",
            "\n",
            "2018-11-26 02:09:41 (59.7 MB/s) - ‘utils.py.1’ saved [6853/6853]\n",
            "\n"
          ],
          "name": "stdout"
        }
      ]
    },
    {
      "metadata": {
        "id": "CcBh983JwQst",
        "colab_type": "code",
        "outputId": "2be63327-4390-4505-f908-5809a0db70b6",
        "colab": {
          "base_uri": "https://localhost:8080/",
          "height": 128
        }
      },
      "cell_type": "code",
      "source": [
        "from conlleval import evaluate\n",
        "from utils import read_conll\n",
        "data = read_conll('./kaggle-train.conll', lower_words=True)\n",
        "\n",
        "data[333]"
      ],
      "execution_count": 9,
      "outputs": [
        {
          "output_type": "execute_result",
          "data": {
            "text/plain": [
              "{'ne': 'O O O O O O B-ORG I-ORG O O O B-LOC O B-LOC O B-LOC I-LOC O B-LOC O B-LOC O B-LOC O B-LOC O B-LOC O B-LOC O B-LOC O B-LOC O B-LOC O B-LOC O B-LOC O B-LOC O B-LOC O B-LOC O',\n",
              " 'pos': 'DT CD NNS RB JJ IN NNP NNP NN NN VBP NNP , NNP , NNP NNP , NNP , NNP , NNP , NNP , NNP , NNP , NNP , NNP , NNP , NNP , NNP , NNP , NNP CC NNP .',\n",
              " 'word': 'the 17 countries now eligible for world bank debt relief are benin , bolivia , burkina faso , ethiopia , ghana , guyana , honduras , madagascar , mali , mozambique , nicaragua , niger , rwanda , senegal , tanzania , uganda and zambia .'}"
            ]
          },
          "metadata": {
            "tags": []
          },
          "execution_count": 9
        }
      ]
    },
    {
      "metadata": {
        "id": "DQ2cvz6owQsv",
        "colab_type": "code",
        "colab": {}
      },
      "cell_type": "code",
      "source": [
        "test_outdomain_data = read_conll('./source-domain-test.conll', lower_words=True)\n",
        "test_indomain_data = read_conll('./target-domain-test.conll', column_names=['word', 'ne'], lower_words=True)\n",
        "monolingual_indomain_data = read_conll('./target-domain-monolingual.conll', column_names=['word'], lower_words=True)"
      ],
      "execution_count": 0,
      "outputs": []
    },
    {
      "metadata": {
        "id": "6OOuLJ3Vz_Ji",
        "colab_type": "code",
        "outputId": "5195222b-6fd3-45cd-9441-8db89f3a344f",
        "colab": {
          "base_uri": "https://localhost:8080/",
          "height": 108
        }
      },
      "cell_type": "code",
      "source": [
        "test_outdomain_data[300]"
      ],
      "execution_count": 11,
      "outputs": [
        {
          "output_type": "execute_result",
          "data": {
            "text/plain": [
              "{'ne': 'B-LOC I-LOC O B-PER I-PER O O O O O B-MISC O O O O O O O O O O O O O O O O O O O O O B-LOC O O O',\n",
              " 'pos': 'NNP NNP NN NNP NNP VBD DT NN TO PRP$ JJ NN , IN RB VBG JJ IN NN , WRB PRP VBD VBN RB IN DT JJ JJ NNS VB IN NNP IN NNP .',\n",
              " 'word': 'west indies batsman brian lara suffered another blow to his australian tour , after already being disciplined for misconduct , when he was dismissed cheaply in the first limited overs match against australia on friday .'}"
            ]
          },
          "metadata": {
            "tags": []
          },
          "execution_count": 11
        }
      ]
    },
    {
      "metadata": {
        "id": "lqIAXPfc0QEv",
        "colab_type": "code",
        "outputId": "48e20415-4299-420b-bd4a-7b3aac710cd4",
        "colab": {
          "base_uri": "https://localhost:8080/",
          "height": 51
        }
      },
      "cell_type": "code",
      "source": [
        "test_indomain_data[846]"
      ],
      "execution_count": 12,
      "outputs": [
        {
          "output_type": "execute_result",
          "data": {
            "text/plain": [
              "{'ne': 'O B-MISC I-MISC I-MISC O O O O O O O O O O O O O O O O O O O O O O O O O O',\n",
              " 'word': '“ la la land ” received 14 academy award nominations , tying the record set by the films . . . https://t.co/ubyjchiwkd by # cnn via @ c 0 nvey'}"
            ]
          },
          "metadata": {
            "tags": []
          },
          "execution_count": 12
        }
      ]
    },
    {
      "metadata": {
        "id": "P5R2OEYT0j0P",
        "colab_type": "code",
        "outputId": "9eb8558f-41c0-49c5-8cf7-2d5a6df37f62",
        "colab": {
          "base_uri": "https://localhost:8080/",
          "height": 34
        }
      },
      "cell_type": "code",
      "source": [
        "monolingual_indomain_data[487]"
      ],
      "execution_count": 13,
      "outputs": [
        {
          "output_type": "execute_result",
          "data": {
            "text/plain": [
              "{'word': 'just got all caught up on my flagged emails from the week . now i feel good about leaving the office for the weekend . tgif !'}"
            ]
          },
          "metadata": {
            "tags": []
          },
          "execution_count": 13
        }
      ]
    },
    {
      "metadata": {
        "id": "94cFFYbawQsx",
        "colab_type": "code",
        "outputId": "74494a3e-1342-4fe0-d990-a5db25aba420",
        "colab": {
          "base_uri": "https://localhost:8080/",
          "height": 34
        }
      },
      "cell_type": "code",
      "source": [
        "from sklearn.model_selection import train_test_split\n",
        "train_data, dev_data = train_test_split(data, test_size=0.25, random_state=42)\n",
        "print(\"train: {}, dev: {}\".format(len(train_data), len(dev_data)))"
      ],
      "execution_count": 14,
      "outputs": [
        {
          "output_type": "stream",
          "text": [
            "train: 35967, dev: 11989\n"
          ],
          "name": "stdout"
        }
      ]
    },
    {
      "metadata": {
        "id": "oanYk9S0afp2",
        "colab_type": "code",
        "outputId": "a6e7e5f4-824b-4937-b90e-1d8813b176bd",
        "colab": {
          "base_uri": "https://localhost:8080/",
          "height": 193
        }
      },
      "cell_type": "code",
      "source": [
        "train_data"
      ],
      "execution_count": 15,
      "outputs": [
        {
          "output_type": "execute_result",
          "data": {
            "text/plain": [
              "array([{'word': 'the spokesman said the u.n. forces responded using an attack helicopter .', 'pos': 'DT NN VBD DT NNP NNS VBD VBG DT NN NN .', 'ne': 'O O O O B-ORG O O O O O O O'},\n",
              "       {'word': 'presidents of member nations argentina , brazil , paraguay and uruguay are to sign a document tuesday extending voting rights and lower tariffs to venezuela .', 'pos': 'NNS IN NN NNS NNP , NNP , NNP CC NNP VBP TO VB DT NN NNP VBG NN NNS CC JJR NNS TO NNP .', 'ne': 'O O O O B-ORG O B-ORG O B-ORG O B-ORG O O O O O O O O O O O O O B-ORG O'},\n",
              "       {'word': 'ecuador \\'s daily oil exports of nearly \"150000\" barrels each day have been completely stopped .', 'pos': 'NNP POS JJ NN NNS IN RB CD NNS DT NN VBP VBN RB VBN .', 'ne': 'B-LOC O O O O O O O O O O O O O O O'},\n",
              "       ...,\n",
              "       {'word': 'some media report the abductors were paid an unspecified ransom .', 'pos': 'DT NNS VBP DT NNS VBD VBN DT JJ NN .', 'ne': 'O O O O O O O O O O O'},\n",
              "       {'word': 'kindhearts officials have not commented on the alleged links to terrorism .', 'pos': 'NNP NNS VBP RB VBN IN DT JJ NNS TO NN .', 'ne': 'B-ORG O O O O O O O O O O O'},\n",
              "       {'word': 'it also said that no one else who has come into contact with the woman has shown any symptoms of the virus .', 'pos': 'PRP RB VBD IN DT CD NN WP VBZ VBN IN NN IN DT NN VBZ VBN DT NNS IN DT NN .', 'ne': 'O O O O O O O O O O O O O O O O O O O O O O O'}],\n",
              "      dtype=object)"
            ]
          },
          "metadata": {
            "tags": []
          },
          "execution_count": 15
        }
      ]
    },
    {
      "metadata": {
        "id": "lxQOR1UWwQs0",
        "colab_type": "code",
        "colab": {}
      },
      "cell_type": "code",
      "source": [
        "from utils import Vocab\n",
        "vocabs = {\n",
        "    key: Vocab.from_lines([row[key] for row in train_data])\n",
        "    for key in ['word', 'pos', 'ne']\n",
        "}\n",
        "\n",
        "def prepare_batch(data):\n",
        "    keys = data[0].keys()\n",
        "    return {\n",
        "        key: vocabs[key].to_matrix(row[key] for row in data)\n",
        "        for key in keys\n",
        "    }"
      ],
      "execution_count": 0,
      "outputs": []
    },
    {
      "metadata": {
        "id": "crMpHF7dwQs2",
        "colab_type": "code",
        "outputId": "7b41e775-2d41-4950-8ce7-61239b1519a8",
        "colab": {
          "base_uri": "https://localhost:8080/",
          "height": 153
        }
      },
      "cell_type": "code",
      "source": [
        "dummy_rows = sorted(data, key=lambda row: len(row['word']))[100:102]\n",
        "print(dummy_rows[0])\n",
        "print(dummy_rows[1])\n",
        "prepare_batch(dummy_rows)"
      ],
      "execution_count": 17,
      "outputs": [
        {
          "output_type": "stream",
          "text": [
            "{'word': 'well , it could happen !', 'pos': 'RB , PRP MD VB .', 'ne': 'O O O O O O'}\n",
            "{'word': 'sudan denies the claim .', 'pos': 'NNP VBZ DT NN .', 'ne': 'B-LOC O O O O'}\n"
          ],
          "name": "stdout"
        },
        {
          "output_type": "execute_result",
          "data": {
            "text/plain": [
              "{'ne': array([[10, 10, 10, 10, 10, 10],\n",
              "        [ 2, 10, 10, 10, 10,  0]], dtype=int32),\n",
              " 'pos': array([[26,  4, 24, 17, 33,  5],\n",
              "        [19, 38, 10, 18,  5,  0]], dtype=int32),\n",
              " 'word': array([[27512,   289, 13824,  7061, 12084,     2],\n",
              "        [24626,  7884, 25433,  6090,   292,     0]], dtype=int32)}"
            ]
          },
          "metadata": {
            "tags": []
          },
          "execution_count": 17
        }
      ]
    },
    {
      "metadata": {
        "id": "3gj5mzA_wQs3",
        "colab_type": "text"
      },
      "cell_type": "markdown",
      "source": [
        "## Baseline: single-task model (1.5 points)\n",
        "\n",
        "![img](https://github.com/yandexdataschool/nlp_course/raw/master/resources/gorynich_ne.png)\n",
        "\n",
        "Let's start with a straightforward model that does named entity recognition.\n",
        "\n",
        "\n",
        "The image will make sense later :)"
      ]
    },
    {
      "metadata": {
        "id": "veoFiueP5fDI",
        "colab_type": "code",
        "outputId": "e5ee1be7-9450-4ebe-9c53-988ddf431568",
        "colab": {
          "base_uri": "https://localhost:8080/",
          "height": 34
        }
      },
      "cell_type": "code",
      "source": [
        "import keras, keras.layers as L"
      ],
      "execution_count": 18,
      "outputs": [
        {
          "output_type": "stream",
          "text": [
            "Using TensorFlow backend.\n"
          ],
          "name": "stderr"
        }
      ]
    },
    {
      "metadata": {
        "id": "13cdfpe-wQs4",
        "colab_type": "code",
        "colab": {}
      },
      "cell_type": "code",
      "source": [
        "import keras, keras.layers as L\n",
        "\n",
        "class SimpleModel:\n",
        "    def __init__(self, name, emb_size=128, hid_size=128):\n",
        "        \"\"\" \n",
        "        A model that predicts named entity class for each word\n",
        "        We recommend the following model:\n",
        "        * Embedding\n",
        "        * Bi-directional LSTM\n",
        "        * Linear layer to predict logits\n",
        "        \"\"\"\n",
        "        \n",
        "        # define layers\n",
        "        self.emb = L.Embedding(len(vocabs['word']), emb_size)\n",
        "        \n",
        "        self.lstm = L.Bidirectional(L.CuDNNLSTM(hid_size // 2, return_sequences=True))\n",
        "        self.logits = L.Dense(len(vocabs['ne']))\n",
        "    \n",
        "    def __call__(self, input_ix):\n",
        "        \"\"\"\n",
        "        Compute logits for named entity recognition\n",
        "        :param input_ix: a matrix of token indices, int32[batch_size, seq_length]\n",
        "        \"\"\"\n",
        "        ner_logits = self.logits(self.lstm(self.emb(input_ix)))\n",
        "        return {'ne': ner_logits}\n"
      ],
      "execution_count": 0,
      "outputs": []
    },
    {
      "metadata": {
        "id": "JLGtetYCwQs6",
        "colab_type": "code",
        "colab": {}
      },
      "cell_type": "code",
      "source": [
        "model = SimpleModel('mod1')\n",
        "\n",
        "\n",
        "\n",
        "dummy_ix = tf.constant(prepare_batch(train_data[:3])['word'])\n",
        "dummy_out = model(dummy_ix)\n",
        "\n",
        "sess.run(tf.global_variables_initializer())\n",
        "dummy_logits = sess.run(dummy_out['ne'])\n",
        "\n",
        "assert dummy_logits.shape == (3, dummy_ix.shape[1], len(vocabs['ne']))\n",
        "assert dummy_logits.min() < 0 and dummy_logits.max() > 0, \"you ~may~ have added nonlinearity after logits.\"\\\n",
        "                                                          \"Make sure they're just a linear layer\""
      ],
      "execution_count": 0,
      "outputs": []
    },
    {
      "metadata": {
        "id": "QzDPHr9ywQs8",
        "colab_type": "code",
        "colab": {}
      },
      "cell_type": "code",
      "source": [
        "from utils import infer_mask\n",
        "\n",
        "class trainer:\n",
        "    \"\"\" A bunch of tensorflow operations used for model training \"\"\"\n",
        "    \n",
        "    ph = {\n",
        "        'word': tf.placeholder('int32', [None, None], name='input_tokens'),\n",
        "        'ne': tf.placeholder('int32', [None, None], name='named_entities'),\n",
        "    }\n",
        "\n",
        "    logits = model(ph['word'])\n",
        "    mask = infer_mask(ph['word'])\n",
        "    \n",
        "    loss = -tf.nn.log_softmax(logits['ne'], -1) * tf.one_hot(ph['ne'], len(vocabs['ne']))\n",
        "    loss = tf.reduce_sum(loss * mask[:, :, None]) / tf.reduce_sum(mask)\n",
        "\n",
        "    step = tf.train.AdamOptimizer().minimize(loss)"
      ],
      "execution_count": 0,
      "outputs": []
    },
    {
      "metadata": {
        "id": "WuXAjoJJwQs-",
        "colab_type": "text"
      },
      "cell_type": "markdown",
      "source": [
        "### Training loop\n",
        "\n",
        "Nothin' special: sample random batches and perform SGD steps"
      ]
    },
    {
      "metadata": {
        "id": "VCK33Z6QwQs-",
        "colab_type": "code",
        "colab": {}
      },
      "cell_type": "code",
      "source": [
        "def iterate_minibatches(data, batch_size=128, shuffle=True, cycle=False, max_batches=None):\n",
        "    indices = np.arange(len(data))\n",
        "    total_batches = 0\n",
        "    while True:\n",
        "        if shuffle: indices = np.random.permutation(indices)\n",
        "        for start_i in range(0, len(data), batch_size):\n",
        "            batch_ix = indices[start_i: start_i + batch_size]\n",
        "            yield prepare_batch(data[batch_ix])\n",
        "            total_batches += 1\n",
        "            if max_batches and total_batches >= max_batches:\n",
        "                raise StopIteration()\n",
        "        if not cycle: break\n",
        "            \n",
        "\n",
        "def compute_error_rate(trainer, data, batch_size=128, key='ne'):\n",
        "    numerator = denominator = 0.0\n",
        "    for batch in iterate_minibatches(data, batch_size, shuffle=False, cycle=False):\n",
        "        batch_ne_logits, batch_mask = sess.run([trainer.logits[key], trainer.mask], \n",
        "                                               {trainer.ph['word']: batch['word']})\n",
        "        numerator += np.sum((batch[key] == batch_ne_logits.argmax(-1)) * batch_mask)\n",
        "        denominator += batch_mask.sum()\n",
        "    return (1.0 - numerator / denominator) * 100\n",
        "\n",
        "def decode_greedy(trainer, data, vocabs, batch_size=128, key='ne'):\n",
        "    result = []\n",
        "    for batch in iterate_minibatches(data, batch_size, shuffle=False, cycle=False):\n",
        "        batch_logits = sess.run(trainer.logits[key], \n",
        "                                {trainer.ph['word']: batch['word']})\n",
        "        result.extend(vocabs[key].to_lines(batch_logits.argmax(-1)))\n",
        "    return result\n",
        "\n",
        "def compute_stats(trainer, data, vocabs, batch_size=128, key='ne', verbose=False):\n",
        "    pred_seqs = decode_greedy(trainer, data, vocabs, batch_size, key)\n",
        "    true_seqs = [r[key] for r in data]\n",
        "    precision, recall, f1 = evaluate(true_seqs, pred_seqs, verbose)\n",
        "    return precision, recall, f1\n",
        "    "
      ],
      "execution_count": 0,
      "outputs": []
    },
    {
      "metadata": {
        "id": "TngiCujOwQs_",
        "colab_type": "code",
        "colab": {}
      },
      "cell_type": "code",
      "source": [
        "class StatsHistory:\n",
        "    def __init__(self):\n",
        "        self.precision = []\n",
        "        self.recall = []\n",
        "        self.f1 = []"
      ],
      "execution_count": 0,
      "outputs": []
    },
    {
      "metadata": {
        "id": "j1DOa0ldwQtB",
        "colab_type": "code",
        "colab": {}
      },
      "cell_type": "code",
      "source": [
        "from tqdm import tqdm\n",
        "from IPython.display import clear_output\n",
        "import matplotlib.pyplot as plt\n",
        "%matplotlib inline\n",
        "eval_every = 100\n",
        "\n",
        "loss_history = []\n",
        "dev_stats_history = StatsHistory()\n",
        "indomain_stats_history = StatsHistory()\n",
        "outdomain_stats_history = StatsHistory()\n",
        "\n",
        "sess.run(tf.global_variables_initializer())"
      ],
      "execution_count": 0,
      "outputs": []
    },
    {
      "metadata": {
        "id": "YUtYrD1BwQtC",
        "colab_type": "code",
        "outputId": "b37e56a6-25bf-487c-faf1-021802d6a79d",
        "colab": {
          "base_uri": "https://localhost:8080/",
          "height": 34
        }
      },
      "cell_type": "code",
      "source": [
        "len(dev_data)"
      ],
      "execution_count": 25,
      "outputs": [
        {
          "output_type": "execute_result",
          "data": {
            "text/plain": [
              "11989"
            ]
          },
          "metadata": {
            "tags": []
          },
          "execution_count": 25
        }
      ]
    },
    {
      "metadata": {
        "scrolled": false,
        "id": "_TelvmKlwQtE",
        "colab_type": "code",
        "outputId": "4656392f-2875-4ad1-ed37-456b75368a57",
        "colab": {
          "base_uri": "https://localhost:8080/",
          "height": 1182
        }
      },
      "cell_type": "code",
      "source": [
        "for batch in tqdm(iterate_minibatches(train_data, batch_size=1024, cycle=True, max_batches=3500)):\n",
        "    loss_t, _ = sess.run([trainer.loss, trainer.step],\n",
        "                         {trainer.ph[key]: batch[key] for key in trainer.ph})\n",
        "    loss_history.append(loss_t)\n",
        "    \n",
        "    if len(loss_history) % eval_every == 0:\n",
        "        precision, recall, f1 = compute_stats(trainer, dev_data, vocabs, verbose=True)\n",
        "        dev_stats_history.precision.append(precision)\n",
        "        dev_stats_history.recall.append(recall)\n",
        "        dev_stats_history.f1.append(f1)\n",
        "        \n",
        "        _, _, f1 = compute_stats(trainer, test_outdomain_data, vocabs, verbose=True)\n",
        "        outdomain_stats_history.f1.append(f1)\n",
        "        \n",
        "        _, _, f1 = compute_stats(trainer, test_indomain_data, vocabs, verbose=True)\n",
        "        indomain_stats_history.f1.append(f1)\n",
        "\n",
        "        clear_output(True)\n",
        "        plt.figure(figsize=[12, 6])\n",
        "        plt.subplot(1, 2, 1)\n",
        "        plt.plot(loss_history)\n",
        "        plt.title('train loss'), plt.grid()\n",
        "        plt.subplot(1, 2, 2)\n",
        "        \n",
        "        plt.plot(np.arange(1, len(dev_stats_history.f1) + 1) * eval_every, dev_stats_history.f1, label=\"dev f1\")\n",
        "        plt.plot(np.arange(1, len(outdomain_stats_history.f1) + 1) * eval_every, outdomain_stats_history.f1, label=\"outdomain f1\")\n",
        "        plt.plot(np.arange(1, len(indomain_stats_history.f1) + 1) * eval_every, indomain_stats_history.f1, label=\"indomain f1\")\n",
        "\n",
        "        plt.legend()\n",
        "        plt.title('dev stats %'), plt.grid()\n",
        "        plt.show()"
      ],
      "execution_count": 0,
      "outputs": [
        {
          "output_type": "display_data",
          "data": {
            "image/png": "[encoded data removed]",
            "text/plain": [
              "<matplotlib.figure.Figure at 0x7faddfba8e48>"
            ]
          },
          "metadata": {
            "tags": []
          }
        },
        {
          "output_type": "stream",
          "text": [
            "2536it [05:52,  8.10it/s]"
          ],
          "name": "stderr"
        },
        {
          "output_type": "error",
          "ename": "KeyboardInterrupt",
          "evalue": "ignored",
          "traceback": [
            "\u001b[0;31m---------------------------------------------------------------------------\u001b[0m",
            "\u001b[0;31mKeyboardInterrupt\u001b[0m                         Traceback (most recent call last)",
            "\u001b[0;32m<ipython-input-24-9154dfd126a8>\u001b[0m in \u001b[0;36m<module>\u001b[0;34m()\u001b[0m\n\u001b[0;32m----> 1\u001b[0;31m \u001b[0;32mfor\u001b[0m \u001b[0mbatch\u001b[0m \u001b[0;32min\u001b[0m \u001b[0mtqdm\u001b[0m\u001b[0;34m(\u001b[0m\u001b[0miterate_minibatches\u001b[0m\u001b[0;34m(\u001b[0m\u001b[0mtrain_data\u001b[0m\u001b[0;34m,\u001b[0m \u001b[0mbatch_size\u001b[0m\u001b[0;34m=\u001b[0m\u001b[0;36m1024\u001b[0m\u001b[0;34m,\u001b[0m \u001b[0mcycle\u001b[0m\u001b[0;34m=\u001b[0m\u001b[0;32mTrue\u001b[0m\u001b[0;34m,\u001b[0m \u001b[0mmax_batches\u001b[0m\u001b[0;34m=\u001b[0m\u001b[0;36m3500\u001b[0m\u001b[0;34m)\u001b[0m\u001b[0;34m)\u001b[0m\u001b[0;34m:\u001b[0m\u001b[0;34m\u001b[0m\u001b[0;34m\u001b[0m\u001b[0m\n\u001b[0m\u001b[1;32m      2\u001b[0m     loss_t, _ = sess.run([trainer.loss, trainer.step],\n\u001b[1;32m      3\u001b[0m                          {trainer.ph[key]: batch[key] for key in trainer.ph})\n\u001b[1;32m      4\u001b[0m     \u001b[0mloss_history\u001b[0m\u001b[0;34m.\u001b[0m\u001b[0mappend\u001b[0m\u001b[0;34m(\u001b[0m\u001b[0mloss_t\u001b[0m\u001b[0;34m)\u001b[0m\u001b[0;34m\u001b[0m\u001b[0;34m\u001b[0m\u001b[0m\n\u001b[1;32m      5\u001b[0m \u001b[0;34m\u001b[0m\u001b[0m\n",
            "\u001b[0;32m/usr/local/lib/python3.6/dist-packages/tqdm/_tqdm.py\u001b[0m in \u001b[0;36m__iter__\u001b[0;34m(self)\u001b[0m\n\u001b[1;32m    977\u001b[0m \"\"\", fp_write=getattr(self.fp, 'write', sys.stderr.write))\n\u001b[1;32m    978\u001b[0m \u001b[0;34m\u001b[0m\u001b[0m\n\u001b[0;32m--> 979\u001b[0;31m             \u001b[0;32mfor\u001b[0m \u001b[0mobj\u001b[0m \u001b[0;32min\u001b[0m \u001b[0miterable\u001b[0m\u001b[0;34m:\u001b[0m\u001b[0;34m\u001b[0m\u001b[0;34m\u001b[0m\u001b[0m\n\u001b[0m\u001b[1;32m    980\u001b[0m                 \u001b[0;32myield\u001b[0m \u001b[0mobj\u001b[0m\u001b[0;34m\u001b[0m\u001b[0;34m\u001b[0m\u001b[0m\n\u001b[1;32m    981\u001b[0m                 \u001b[0;31m# Update and possibly print the progressbar.\u001b[0m\u001b[0;34m\u001b[0m\u001b[0;34m\u001b[0m\u001b[0;34m\u001b[0m\u001b[0m\n",
            "\u001b[0;32m<ipython-input-20-aa60453f1abd>\u001b[0m in \u001b[0;36miterate_minibatches\u001b[0;34m(data, batch_size, shuffle, cycle, max_batches)\u001b[0m\n\u001b[1;32m      6\u001b[0m         \u001b[0;32mfor\u001b[0m \u001b[0mstart_i\u001b[0m \u001b[0;32min\u001b[0m \u001b[0mrange\u001b[0m\u001b[0;34m(\u001b[0m\u001b[0;36m0\u001b[0m\u001b[0;34m,\u001b[0m \u001b[0mlen\u001b[0m\u001b[0;34m(\u001b[0m\u001b[0mdata\u001b[0m\u001b[0;34m)\u001b[0m\u001b[0;34m,\u001b[0m \u001b[0mbatch_size\u001b[0m\u001b[0;34m)\u001b[0m\u001b[0;34m:\u001b[0m\u001b[0;34m\u001b[0m\u001b[0;34m\u001b[0m\u001b[0m\n\u001b[1;32m      7\u001b[0m             \u001b[0mbatch_ix\u001b[0m \u001b[0;34m=\u001b[0m \u001b[0mindices\u001b[0m\u001b[0;34m[\u001b[0m\u001b[0mstart_i\u001b[0m\u001b[0;34m:\u001b[0m \u001b[0mstart_i\u001b[0m \u001b[0;34m+\u001b[0m \u001b[0mbatch_size\u001b[0m\u001b[0;34m]\u001b[0m\u001b[0;34m\u001b[0m\u001b[0;34m\u001b[0m\u001b[0m\n\u001b[0;32m----> 8\u001b[0;31m             \u001b[0;32myield\u001b[0m \u001b[0mprepare_batch\u001b[0m\u001b[0;34m(\u001b[0m\u001b[0mdata\u001b[0m\u001b[0;34m[\u001b[0m\u001b[0mbatch_ix\u001b[0m\u001b[0;34m]\u001b[0m\u001b[0;34m)\u001b[0m\u001b[0;34m\u001b[0m\u001b[0;34m\u001b[0m\u001b[0m\n\u001b[0m\u001b[1;32m      9\u001b[0m             \u001b[0mtotal_batches\u001b[0m \u001b[0;34m+=\u001b[0m \u001b[0;36m1\u001b[0m\u001b[0;34m\u001b[0m\u001b[0;34m\u001b[0m\u001b[0m\n\u001b[1;32m     10\u001b[0m             \u001b[0;32mif\u001b[0m \u001b[0mmax_batches\u001b[0m \u001b[0;32mand\u001b[0m \u001b[0mtotal_batches\u001b[0m \u001b[0;34m>=\u001b[0m \u001b[0mmax_batches\u001b[0m\u001b[0;34m:\u001b[0m\u001b[0;34m\u001b[0m\u001b[0;34m\u001b[0m\u001b[0m\n",
            "\u001b[0;32m<ipython-input-14-22310de51ccf>\u001b[0m in \u001b[0;36mprepare_batch\u001b[0;34m(data)\u001b[0m\n\u001b[1;32m      9\u001b[0m     return {\n\u001b[1;32m     10\u001b[0m         \u001b[0mkey\u001b[0m\u001b[0;34m:\u001b[0m \u001b[0mvocabs\u001b[0m\u001b[0;34m[\u001b[0m\u001b[0mkey\u001b[0m\u001b[0;34m]\u001b[0m\u001b[0;34m.\u001b[0m\u001b[0mto_matrix\u001b[0m\u001b[0;34m(\u001b[0m\u001b[0mrow\u001b[0m\u001b[0;34m[\u001b[0m\u001b[0mkey\u001b[0m\u001b[0;34m]\u001b[0m \u001b[0;32mfor\u001b[0m \u001b[0mrow\u001b[0m \u001b[0;32min\u001b[0m \u001b[0mdata\u001b[0m\u001b[0;34m)\u001b[0m\u001b[0;34m\u001b[0m\u001b[0;34m\u001b[0m\u001b[0m\n\u001b[0;32m---> 11\u001b[0;31m         \u001b[0;32mfor\u001b[0m \u001b[0mkey\u001b[0m \u001b[0;32min\u001b[0m \u001b[0mkeys\u001b[0m\u001b[0;34m\u001b[0m\u001b[0;34m\u001b[0m\u001b[0m\n\u001b[0m\u001b[1;32m     12\u001b[0m     }\n",
            "\u001b[0;32m<ipython-input-14-22310de51ccf>\u001b[0m in \u001b[0;36m<dictcomp>\u001b[0;34m(.0)\u001b[0m\n\u001b[1;32m      9\u001b[0m     return {\n\u001b[1;32m     10\u001b[0m         \u001b[0mkey\u001b[0m\u001b[0;34m:\u001b[0m \u001b[0mvocabs\u001b[0m\u001b[0;34m[\u001b[0m\u001b[0mkey\u001b[0m\u001b[0;34m]\u001b[0m\u001b[0;34m.\u001b[0m\u001b[0mto_matrix\u001b[0m\u001b[0;34m(\u001b[0m\u001b[0mrow\u001b[0m\u001b[0;34m[\u001b[0m\u001b[0mkey\u001b[0m\u001b[0;34m]\u001b[0m \u001b[0;32mfor\u001b[0m \u001b[0mrow\u001b[0m \u001b[0;32min\u001b[0m \u001b[0mdata\u001b[0m\u001b[0;34m)\u001b[0m\u001b[0;34m\u001b[0m\u001b[0;34m\u001b[0m\u001b[0m\n\u001b[0;32m---> 11\u001b[0;31m         \u001b[0;32mfor\u001b[0m \u001b[0mkey\u001b[0m \u001b[0;32min\u001b[0m \u001b[0mkeys\u001b[0m\u001b[0;34m\u001b[0m\u001b[0;34m\u001b[0m\u001b[0m\n\u001b[0m\u001b[1;32m     12\u001b[0m     }\n",
            "\u001b[0;32m/content/utils.py\u001b[0m in \u001b[0;36mto_matrix\u001b[0;34m(self, lines, max_len)\u001b[0m\n\u001b[1;32m     62\u001b[0m         \u001b[0;32mfor\u001b[0m \u001b[0mi\u001b[0m\u001b[0;34m,\u001b[0m \u001b[0mseq\u001b[0m \u001b[0;32min\u001b[0m \u001b[0menumerate\u001b[0m\u001b[0;34m(\u001b[0m\u001b[0mlines\u001b[0m\u001b[0;34m)\u001b[0m\u001b[0;34m:\u001b[0m\u001b[0;34m\u001b[0m\u001b[0;34m\u001b[0m\u001b[0m\n\u001b[1;32m     63\u001b[0m             \u001b[0mrow_ix\u001b[0m \u001b[0;34m=\u001b[0m \u001b[0mlist\u001b[0m\u001b[0;34m(\u001b[0m\u001b[0mmap\u001b[0m\u001b[0;34m(\u001b[0m\u001b[0mself\u001b[0m\u001b[0;34m.\u001b[0m\u001b[0mtoken_to_ix\u001b[0m\u001b[0;34m.\u001b[0m\u001b[0mget\u001b[0m\u001b[0;34m,\u001b[0m \u001b[0mseq\u001b[0m\u001b[0;34m)\u001b[0m\u001b[0;34m)\u001b[0m\u001b[0;34m[\u001b[0m\u001b[0;34m:\u001b[0m\u001b[0mmax_len\u001b[0m\u001b[0;34m]\u001b[0m\u001b[0;34m\u001b[0m\u001b[0;34m\u001b[0m\u001b[0m\n\u001b[0;32m---> 64\u001b[0;31m             \u001b[0mmatrix\u001b[0m\u001b[0;34m[\u001b[0m\u001b[0mi\u001b[0m\u001b[0;34m,\u001b[0m \u001b[0;34m:\u001b[0m\u001b[0mlen\u001b[0m\u001b[0;34m(\u001b[0m\u001b[0mrow_ix\u001b[0m\u001b[0;34m)\u001b[0m\u001b[0;34m]\u001b[0m \u001b[0;34m=\u001b[0m \u001b[0mrow_ix\u001b[0m\u001b[0;34m\u001b[0m\u001b[0;34m\u001b[0m\u001b[0m\n\u001b[0m\u001b[1;32m     65\u001b[0m         \u001b[0;32mreturn\u001b[0m \u001b[0mmatrix\u001b[0m\u001b[0;34m\u001b[0m\u001b[0;34m\u001b[0m\u001b[0m\n\u001b[1;32m     66\u001b[0m \u001b[0;34m\u001b[0m\u001b[0m\n",
            "\u001b[0;31mKeyboardInterrupt\u001b[0m: "
          ]
        }
      ]
    },
    {
      "metadata": {
        "id": "77BmSSwrwQtG",
        "colab_type": "code",
        "outputId": "81dddf8a-1752-44f0-c0b3-5cf5d8ffbdd0",
        "colab": {
          "base_uri": "https://localhost:8080/",
          "height": 68
        }
      },
      "cell_type": "code",
      "source": [
        "print(\"Best dev f1 = %.3f%%\" % max(dev_stats_history.f1),\n",
        "      \"\\nBest in-domain f1 = %.3f%%\" % max(indomain_stats_history.f1),\n",
        "      \"\\nBest out-of-domain f1 = %.3f%%\" % max(outdomain_stats_history.f1))\n",
        "assert max(dev_stats_history.f1) > 75, \"you can do better\""
      ],
      "execution_count": 0,
      "outputs": [
        {
          "output_type": "stream",
          "text": [
            "Best dev f1 = 75.449% \n",
            "Best in-domain f1 = 15.726% \n",
            "Best out-of-domain f1 = 37.463%\n"
          ],
          "name": "stdout"
        }
      ]
    },
    {
      "metadata": {
        "id": "a0pWZQjDwQtI",
        "colab_type": "text"
      },
      "cell_type": "markdown",
      "source": [
        "# Multitask model: NER + POS (1.5 points)\n",
        "\n",
        "Our data contains not only named entity labels, but also part-of-speech tags. Those problems are similar in nature, making it a good candidate for multi-tasking. With any luck, ouyr model will become better at named entity recognition by learning for POS-tagging.\n",
        "\n",
        "![model2](https://github.com/yandexdataschool/nlp_course/raw/master/resources/gorynich_2.png)"
      ]
    },
    {
      "metadata": {
        "id": "XzJTdCb4wQtJ",
        "colab_type": "code",
        "colab": {}
      },
      "cell_type": "code",
      "source": [
        "import keras, keras.layers as L\n",
        "\n",
        "class MultitaskModel:\n",
        "    def __init__(self, name, emb_size=128, hid_size=128):\n",
        "        \"\"\" \n",
        "        Equivalent to the SimpleModel above, but with two \n",
        "        linear \"heads\": one for \"ne\" logits and another for \"pos\".\n",
        "        Both heads should grow from the same intermediate \"body\" layer\n",
        "        \"\"\"\n",
        "        self.emb = L.Embedding(len(vocabs['word']), emb_size)\n",
        "        \n",
        "        self.lstm = L.Bidirectional(L.CuDNNLSTM(hid_size // 2, return_sequences=True))\n",
        "        self.logits_ne = L.Dense(len(vocabs['ne']))\n",
        "        self.logits_pos = L.Dense(len(vocabs['pos']))\n",
        "\n",
        "    \n",
        "    def __call__(self, input_ix):\n",
        "        \"\"\"\n",
        "        Compute logits for named entity recognition\n",
        "        \"\"\"\n",
        "        ner_logits = self.logits_ne(self.lstm(self.emb(input_ix)))\n",
        "        pos_logits = self.logits_pos(self.lstm(self.emb(input_ix)))\n",
        "        return {'ne': ner_logits, 'pos': pos_logits}"
      ],
      "execution_count": 0,
      "outputs": []
    },
    {
      "metadata": {
        "id": "4pvEno2IwQtL",
        "colab_type": "code",
        "colab": {}
      },
      "cell_type": "code",
      "source": [
        "model = MultitaskModel('mod2')\n",
        "\n",
        "dummy_ix = tf.constant(prepare_batch(train_data[:3])['word'])\n",
        "dummy_out = model(dummy_ix)\n",
        "assert 'ne' in dummy_out and 'pos' in dummy_out\n",
        "\n",
        "sess.run(tf.global_variables_initializer())\n",
        "\n",
        "for key, logits in sess.run(dummy_out).items():\n",
        "    assert logits.shape == (3, dummy_ix.shape[1], len(vocabs[key]))"
      ],
      "execution_count": 0,
      "outputs": []
    },
    {
      "metadata": {
        "id": "PuF3IxGTwQtM",
        "colab_type": "code",
        "colab": {}
      },
      "cell_type": "code",
      "source": [
        "from utils import infer_mask\n",
        "\n",
        "class multitask_trainer:\n",
        "    \"\"\" A trainer that computes losses for both NER and POS tasks and adds them together. \"\"\"    \n",
        "    ph = {\n",
        "        'word': tf.placeholder('int32', [None, None], name='input_tokens'),\n",
        "        'ne': tf.placeholder('int32', [None, None], name='named_entities'),\n",
        "        'pos': tf.placeholder('int32', [None, None], name='part_of_speech_tags'),\n",
        "    }\n",
        "\n",
        "    logits = model(ph['word'])\n",
        "    mask = infer_mask(ph['word'])\n",
        "    \n",
        "    # Compute loss for NER. Feel free to reuse the code from original trainer\n",
        "    ner_loss = -tf.nn.log_softmax(logits['ne'], -1) * tf.one_hot(ph['ne'], len(vocabs['ne']))\n",
        "    ner_loss = tf.reduce_sum(ner_loss * mask[:, :, None]) / tf.reduce_sum(mask)\n",
        "\n",
        "    # Compute the same kind of loss for POS.  (key: 'pos')\n",
        "    pos_loss = -tf.nn.log_softmax(logits['pos'], -1) * tf.one_hot(ph['pos'], len(vocabs['pos']))\n",
        "    pos_loss = tf.reduce_sum(pos_loss * mask[:, :, None]) / tf.reduce_sum(mask)\n",
        "    \n",
        "    # The total loss is just a sum of two losses.\n",
        "    # Note: you can use weighted combination of losses to squeeze a few more %%\n",
        "    loss = ner_loss + pos_loss\n",
        "    step = tf.train.AdamOptimizer().minimize(loss)"
      ],
      "execution_count": 0,
      "outputs": []
    },
    {
      "metadata": {
        "id": "-NKzSxJ0wQtM",
        "colab_type": "code",
        "colab": {}
      },
      "cell_type": "code",
      "source": [
        "dummy_batch = prepare_batch(train_data[:3])\n",
        "ner_loss, pos_loss = sess.run([multitask_trainer.ner_loss, multitask_trainer.pos_loss], \n",
        "                              {multitask_trainer.ph[key]: dummy_batch[key] for key in multitask_trainer.ph})\n",
        "\n",
        "assert ner_loss > 0 and np.shape(ner_loss) == (), \"loss must be a positive scalar\"\n",
        "assert pos_loss > 0 and np.shape(pos_loss) == (), \"loss must be a positive scalar\""
      ],
      "execution_count": 0,
      "outputs": []
    },
    {
      "metadata": {
        "id": "aun757hHwQtN",
        "colab_type": "code",
        "colab": {}
      },
      "cell_type": "code",
      "source": [
        "from tqdm import tqdm\n",
        "from IPython.display import clear_output\n",
        "import matplotlib.pyplot as plt\n",
        "%matplotlib inline\n",
        "\n",
        "loss_history = []\n",
        "dev_stats_history = StatsHistory()\n",
        "indomain_stats_history = StatsHistory()\n",
        "outdomain_stats_history = StatsHistory()\n",
        "\n",
        "sess.run(tf.global_variables_initializer())"
      ],
      "execution_count": 0,
      "outputs": []
    },
    {
      "metadata": {
        "id": "02ziyoXdwQtO",
        "colab_type": "code",
        "outputId": "10c6ab4b-fbef-45d1-ec41-474fedc7e242",
        "colab": {
          "base_uri": "https://localhost:8080/",
          "height": 423
        }
      },
      "cell_type": "code",
      "source": [
        "for batch in tqdm(iterate_minibatches(train_data, cycle=True, batch_size=512, max_batches=3500)):\n",
        "    loss_t, _ = sess.run([multitask_trainer.loss, multitask_trainer.step], \n",
        "                         {multitask_trainer.ph[key]: batch[key] for key in multitask_trainer.ph})\n",
        "    loss_history.append(loss_t)\n",
        "    \n",
        "    if len(loss_history) % 100 == 0:\n",
        "        precision, recall, f1 = compute_stats(multitask_trainer, dev_data, vocabs, batch_size=512, verbose=True)\n",
        "        dev_stats_history.precision.append(precision)\n",
        "        dev_stats_history.recall.append(recall)\n",
        "        dev_stats_history.f1.append(f1)\n",
        "\n",
        "        _, _, f1 = compute_stats(multitask_trainer, test_outdomain_data, vocabs, batch_size=512, verbose=True)\n",
        "        outdomain_stats_history.f1.append(f1)\n",
        "        \n",
        "        _, _, f1 = compute_stats(multitask_trainer, test_indomain_data, vocabs, batch_size=512, verbose=True)\n",
        "        indomain_stats_history.f1.append(f1)\n",
        "        \n",
        "        clear_output(True)\n",
        "        plt.figure(figsize=[12, 6])\n",
        "        plt.subplot(1, 2, 1)\n",
        "        plt.plot(loss_history)\n",
        "        plt.title('train loss'), plt.grid()\n",
        "        plt.subplot(1, 2, 2)\n",
        "        \n",
        "        plt.plot(np.arange(1, len(dev_stats_history.f1) + 1) * eval_every, dev_stats_history.f1, label=\"dev f1\")\n",
        "        plt.plot(np.arange(1, len(outdomain_stats_history.f1) + 1) * eval_every, outdomain_stats_history.f1, label=\"outdomain f1\")\n",
        "        plt.plot(np.arange(1, len(indomain_stats_history.f1) + 1) * eval_every, indomain_stats_history.f1, label=\"indomain f1\")\n",
        "        \n",
        "        plt.title('dev stats %'), plt.grid()\n",
        "        plt.show()"
      ],
      "execution_count": 0,
      "outputs": [
        {
          "output_type": "display_data",
          "data": {
            "image/png": "[encoded data removed]",
            "text/plain": [
              "<matplotlib.figure.Figure at 0x7faddcaf0438>"
            ]
          },
          "metadata": {
            "tags": []
          }
        },
        {
          "output_type": "stream",
          "text": [
            "\n",
            "3500it [07:13,  2.16it/s]\u001b[A\n",
            "\u001b[A"
          ],
          "name": "stderr"
        }
      ]
    },
    {
      "metadata": {
        "id": "e4ll_K38wQtP",
        "colab_type": "code",
        "outputId": "cf68258e-fe84-4602-928d-1694db7c6f6f",
        "colab": {
          "base_uri": "https://localhost:8080/",
          "height": 68
        }
      },
      "cell_type": "code",
      "source": [
        "print(\"Best dev f1 = %.3f%%\" % max(dev_stats_history.f1),\n",
        "      \"\\nBest indomain f1 = %.3f%%\" % max(indomain_stats_history.f1),\n",
        "      \"\\nBest outdomain f1 = %.3f%%\" % max(outdomain_stats_history.f1))\n",
        "assert max(dev_stats_history.f1) > 75, \"you can do better\""
      ],
      "execution_count": 0,
      "outputs": [
        {
          "output_type": "stream",
          "text": [
            "Best dev f1 = 77.106% \n",
            "Best indomain f1 = 15.768% \n",
            "Best outdomain f1 = 38.379%\n"
          ],
          "name": "stdout"
        }
      ]
    },
    {
      "metadata": {
        "id": "6JfeK1FiwQtQ",
        "colab_type": "text"
      },
      "cell_type": "markdown",
      "source": [
        "# Multitask model: NER + POS + LM (2 points)\n",
        "\n",
        "Two heads are great, but three's even better! Let's add language modeling to the task.\n",
        "\n",
        "With language models, however, there are a few complications:\n",
        "* Our data is too small for LM training. Let's use [1 billion word benchmark](http://www.statmt.org/lm-benchmark/) instead. It *may* even be a good idea to preserve cases.\n",
        "* Language models have some issues with being bidirectional. We recommend training forward and backward models separately and fusing them together. Or use the same approach as [ELMO](https://tfhub.dev/google/elmo/2).\n",
        "* The simplest scheme is to pre-train as a language model and fine-tune for NER and POS. We recommend starting from that.\n",
        "\n",
        "__IMPORTANT!__ NER/POS dataset comes pre-tokenized.  Make sure you apply {almost} the same tokenization when training language model. Alternatively, you can re-tokenize ner/pos data.\n",
        "\n",
        "\n",
        "![model3](https://github.com/yandexdataschool/nlp_course/raw/master/resources/gorynich_small.png)"
      ]
    },
    {
      "metadata": {
        "id": "9FRs-__mJKmv",
        "colab_type": "code",
        "colab": {}
      },
      "cell_type": "code",
      "source": [
        "\n",
        "import tensorflow as tf\n",
        "import keras.layers as L\n",
        "import tensorflow_hub as hub\n"
      ],
      "execution_count": 0,
      "outputs": []
    },
    {
      "metadata": {
        "id": "jMTO5GpqJOz8",
        "colab_type": "code",
        "outputId": "3789ed78-9966-46d4-d252-81bdf839f652",
        "colab": {
          "base_uri": "https://localhost:8080/",
          "height": 68
        }
      },
      "cell_type": "code",
      "source": [
        "elmo = hub.Module(\"https://tfhub.dev/google/elmo/2\", trainable=False)"
      ],
      "execution_count": 32,
      "outputs": [
        {
          "output_type": "stream",
          "text": [
            "INFO:tensorflow:Using /tmp/tfhub_modules to cache modules.\n",
            "INFO:tensorflow:Downloading TF-Hub Module 'https://tfhub.dev/google/elmo/2'.\n",
            "INFO:tensorflow:Downloaded TF-Hub Module 'https://tfhub.dev/google/elmo/2'.\n"
          ],
          "name": "stdout"
        }
      ]
    },
    {
      "metadata": {
        "id": "zB83bntqmr_a",
        "colab_type": "code",
        "outputId": "38fd581f-f746-4e10-f0ec-9d893d2a877f",
        "colab": {
          "base_uri": "https://localhost:8080/",
          "height": 34
        }
      },
      "cell_type": "code",
      "source": [
        "sess.run([tf.global_variables_initializer(), tf.tables_initializer()])"
      ],
      "execution_count": 33,
      "outputs": [
        {
          "output_type": "execute_result",
          "data": {
            "text/plain": [
              "[None, None]"
            ]
          },
          "metadata": {
            "tags": []
          },
          "execution_count": 33
        }
      ]
    },
    {
      "metadata": {
        "id": "iYbi2VxwrDVw",
        "colab_type": "code",
        "colab": {}
      },
      "cell_type": "code",
      "source": [
        "def prepare_batch_v2(data):\n",
        "    keys = data[0].keys()\n",
        "    res = {\n",
        "        key: vocabs[key].to_matrix(row[key] for row in data)\n",
        "        for key in keys\n",
        "    }\n",
        "    res['raw_text'] = np.array([row['word'] for row in data])\n",
        "    return res"
      ],
      "execution_count": 0,
      "outputs": []
    },
    {
      "metadata": {
        "id": "7lXebKkxwQtR",
        "colab_type": "code",
        "colab": {}
      },
      "cell_type": "code",
      "source": [
        "class MultitaskModel:\n",
        "    def __init__(self, name, emb_size=128, hid_size=128):\n",
        "        \"\"\" \n",
        "        Equivalent to the SimpleModel above, but with three\n",
        "        linear \"heads\": one for \"ne\" logits, second for \"pos\" and last for language modelling.\n",
        "        Both heads should grow from the same intermediate \"body\" layer\n",
        "        \"\"\"\n",
        "        # define layers:\n",
        "        self.lm = elmo\n",
        "        self.logits_ne = L.Dense(len(vocabs['ne']), name='ner_logits')\n",
        "        self.logits_pos = L.Dense(len(vocabs['pos']))\n",
        "        \n",
        "    def __call__(self, input_ix):\n",
        "        \"\"\"\n",
        "        Compute logits for named entity recognition\n",
        "        \"\"\"\n",
        "        inter = self.lm(input_ix, signature=\"default\", as_dict=True)['elmo']\n",
        "\n",
        "        ner_logits = self.logits_ne(inter)\n",
        "        pos_logits = self.logits_pos(inter)\n",
        "        lm_logits = ner_logits\n",
        "        return {'ne': ner_logits, 'pos': pos_logits, 'lm': lm_logits}"
      ],
      "execution_count": 0,
      "outputs": []
    },
    {
      "metadata": {
        "id": "NqQ5TMZAwQtS",
        "colab_type": "code",
        "outputId": "ac00f169-7488-44bb-a061-c4a69e73a078",
        "colab": {
          "base_uri": "https://localhost:8080/",
          "height": 215
        }
      },
      "cell_type": "code",
      "source": [
        "model = MultitaskModel('mod3')\n",
        "\n",
        "dummy_batch = prepare_batch_v2(train_data[:3])\n",
        "dummy_ix = tf.constant(dummy_batch['raw_text'], dtype=tf.string)\n",
        "dummy_ph = tf.placeholder(tf.string, shape=[None])\n",
        "#dummy_out = model(dummy_ix)\n",
        "dummy_ner = model.logits_ne(model.lm(dummy_ph, signature=\"default\", as_dict=True)['elmo'])\n",
        "\n",
        "sess.run([tf.global_variables_initializer(), tf.tables_initializer()])\n",
        "\n",
        "dummy_ner = sess.run(dummy_ner, {dummy_ph: dummy_batch['raw_text']})\n",
        "\n",
        "assert 'ne' in dummy_out and 'pos' in dummy_out and 'lm' in dummy_out\n"
      ],
      "execution_count": 36,
      "outputs": [
        {
          "output_type": "stream",
          "text": [
            "INFO:tensorflow:Saver not created because there are no variables in the graph to restore\n"
          ],
          "name": "stdout"
        },
        {
          "output_type": "error",
          "ename": "AssertionError",
          "evalue": "ignored",
          "traceback": [
            "\u001b[0;31m---------------------------------------------------------------------------\u001b[0m",
            "\u001b[0;31mAssertionError\u001b[0m                            Traceback (most recent call last)",
            "\u001b[0;32m<ipython-input-36-3fba29763f83>\u001b[0m in \u001b[0;36m<module>\u001b[0;34m()\u001b[0m\n\u001b[1;32m     11\u001b[0m \u001b[0mdummy_ner\u001b[0m \u001b[0;34m=\u001b[0m \u001b[0msess\u001b[0m\u001b[0;34m.\u001b[0m\u001b[0mrun\u001b[0m\u001b[0;34m(\u001b[0m\u001b[0mdummy_ner\u001b[0m\u001b[0;34m,\u001b[0m \u001b[0;34m{\u001b[0m\u001b[0mdummy_ph\u001b[0m\u001b[0;34m:\u001b[0m \u001b[0mdummy_batch\u001b[0m\u001b[0;34m[\u001b[0m\u001b[0;34m'raw_text'\u001b[0m\u001b[0;34m]\u001b[0m\u001b[0;34m}\u001b[0m\u001b[0;34m)\u001b[0m\u001b[0;34m\u001b[0m\u001b[0;34m\u001b[0m\u001b[0m\n\u001b[1;32m     12\u001b[0m \u001b[0;34m\u001b[0m\u001b[0m\n\u001b[0;32m---> 13\u001b[0;31m \u001b[0;32massert\u001b[0m \u001b[0;34m'ne'\u001b[0m \u001b[0;32min\u001b[0m \u001b[0mdummy_out\u001b[0m \u001b[0;32mand\u001b[0m \u001b[0;34m'pos'\u001b[0m \u001b[0;32min\u001b[0m \u001b[0mdummy_out\u001b[0m \u001b[0;32mand\u001b[0m \u001b[0;34m'lm'\u001b[0m \u001b[0;32min\u001b[0m \u001b[0mdummy_out\u001b[0m\u001b[0;34m\u001b[0m\u001b[0;34m\u001b[0m\u001b[0m\n\u001b[0m",
            "\u001b[0;31mAssertionError\u001b[0m: "
          ]
        }
      ]
    },
    {
      "metadata": {
        "id": "IzUcDkrMYOMY",
        "colab_type": "code",
        "outputId": "ec202f6a-d928-4443-ebd4-4654d91f1bba",
        "colab": {
          "base_uri": "https://localhost:8080/",
          "height": 680
        }
      },
      "cell_type": "code",
      "source": [
        "for m in model.lm.variable_map.values():\n",
        "  print(m.name, m.trainable)"
      ],
      "execution_count": 37,
      "outputs": [
        {
          "output_type": "stream",
          "text": [
            "module/bilm/char_embed:0 False\n",
            "module/bilm/CNN/W_cnn_0:0 False\n",
            "module/bilm/CNN/b_cnn_0:0 False\n",
            "module/bilm/CNN/W_cnn_1:0 False\n",
            "module/bilm/CNN/b_cnn_1:0 False\n",
            "module/bilm/CNN/W_cnn_2:0 False\n",
            "module/bilm/CNN/b_cnn_2:0 False\n",
            "module/bilm/CNN/W_cnn_3:0 False\n",
            "module/bilm/CNN/b_cnn_3:0 False\n",
            "module/bilm/CNN/W_cnn_4:0 False\n",
            "module/bilm/CNN/b_cnn_4:0 False\n",
            "module/bilm/CNN/W_cnn_5:0 False\n",
            "module/bilm/CNN/b_cnn_5:0 False\n",
            "module/bilm/CNN/W_cnn_6:0 False\n",
            "module/bilm/CNN/b_cnn_6:0 False\n",
            "module/bilm/CNN_high_0/W_carry:0 False\n",
            "module/bilm/CNN_high_0/b_carry:0 False\n",
            "module/bilm/CNN_high_0/W_transform:0 False\n",
            "module/bilm/CNN_high_0/b_transform:0 False\n",
            "module/bilm/CNN_high_1/W_carry:0 False\n",
            "module/bilm/CNN_high_1/b_carry:0 False\n",
            "module/bilm/CNN_high_1/W_transform:0 False\n",
            "module/bilm/CNN_high_1/b_transform:0 False\n",
            "module/bilm/CNN_proj/W_proj:0 False\n",
            "module/bilm/CNN_proj/b_proj:0 False\n",
            "module/bilm/RNN_0/RNN/MultiRNNCell/Cell0/rnn/lstm_cell/kernel:0 False\n",
            "module/bilm/RNN_0/RNN/MultiRNNCell/Cell0/rnn/lstm_cell/bias:0 False\n",
            "module/bilm/RNN_0/RNN/MultiRNNCell/Cell0/rnn/lstm_cell/projection/kernel:0 False\n",
            "module/bilm/RNN_0/RNN/MultiRNNCell/Cell1/rnn/lstm_cell/kernel:0 False\n",
            "module/bilm/RNN_0/RNN/MultiRNNCell/Cell1/rnn/lstm_cell/bias:0 False\n",
            "module/bilm/RNN_0/RNN/MultiRNNCell/Cell1/rnn/lstm_cell/projection/kernel:0 False\n",
            "module/bilm/RNN_1/RNN/MultiRNNCell/Cell0/rnn/lstm_cell/kernel:0 False\n",
            "module/bilm/RNN_1/RNN/MultiRNNCell/Cell0/rnn/lstm_cell/bias:0 False\n",
            "module/bilm/RNN_1/RNN/MultiRNNCell/Cell0/rnn/lstm_cell/projection/kernel:0 False\n",
            "module/bilm/RNN_1/RNN/MultiRNNCell/Cell1/rnn/lstm_cell/kernel:0 False\n",
            "module/bilm/RNN_1/RNN/MultiRNNCell/Cell1/rnn/lstm_cell/bias:0 False\n",
            "module/bilm/RNN_1/RNN/MultiRNNCell/Cell1/rnn/lstm_cell/projection/kernel:0 False\n",
            "module/aggregation/weights:0 False\n",
            "module/aggregation/scaling:0 False\n"
          ],
          "name": "stdout"
        }
      ]
    },
    {
      "metadata": {
        "id": "jihYHDqcUSYv",
        "colab_type": "code",
        "outputId": "2ef0a92a-72ce-403a-d829-64d089f48c6e",
        "colab": {
          "base_uri": "https://localhost:8080/",
          "height": 34
        }
      },
      "cell_type": "code",
      "source": [
        "dummy_ner.shape"
      ],
      "execution_count": 38,
      "outputs": [
        {
          "output_type": "execute_result",
          "data": {
            "text/plain": [
              "(3, 26, 11)"
            ]
          },
          "metadata": {
            "tags": []
          },
          "execution_count": 38
        }
      ]
    },
    {
      "metadata": {
        "id": "r6Ui5R6ewQtT",
        "colab_type": "text"
      },
      "cell_type": "markdown",
      "source": [
        "Different schemes for multitask learning with Language Model component.\n",
        "\n",
        "You can try at least two of them:\n",
        "* Pretrain network using monolingual data as Language Model and then train model as NER and POS tagger.\n",
        "* Train network alternately: one step on NER and POS tasks, one step on LM tasks. \n"
      ]
    },
    {
      "metadata": {
        "id": "NuHXbMvIwQtT",
        "colab_type": "code",
        "outputId": "28965cd3-46b6-4a41-f355-df353f4cec5a",
        "colab": {
          "base_uri": "https://localhost:8080/",
          "height": 34
        }
      },
      "cell_type": "code",
      "source": [
        "from utils import infer_mask\n",
        "\n",
        "\n",
        "\n",
        "class multitask_trainer:\n",
        "    \"\"\" A trainer that computes losses for both NER, POS and LM tasks and adds them together. \"\"\"\n",
        "    ph = {\n",
        "        'word': tf.placeholder('int32', [None, None], name='input_tokens'),\n",
        "        'ne': tf.placeholder('int32', [None, None], name='named_entities'),\n",
        "        'pos': tf.placeholder('int32', [None, None], name='part_of_speech_tags'),\n",
        "        'lm': tf.placeholder('int32', [None, None], name='output_tokens'),\n",
        "        'raw_text': tf.placeholder(tf.string, [None], name='elma_texts')\n",
        "    }\n",
        "\n",
        "    logits = model(ph['raw_text'])\n",
        "    mask = infer_mask(ph['word'])\n",
        "\n",
        "    # Compute loss for NER. Feel free to reuse the code from original trainer\n",
        "\n",
        "    ner_loss = -tf.nn.log_softmax(logits['ne'], -1) * tf.one_hot(ph['ne'], len(vocabs['ne']))\n",
        "    ner_loss = tf.reduce_sum(ner_loss * mask[:, :, None]) / tf.reduce_sum(mask)\n",
        "\n",
        "    # Compute the same kind of loss for POS.  (key: 'pos')\n",
        "\n",
        "    pos_loss = -tf.nn.log_softmax(logits['pos'], -1) * tf.one_hot(ph['pos'], len(vocabs['pos']))\n",
        "    pos_loss = tf.reduce_sum(pos_loss * mask[:, :, None]) / tf.reduce_sum(mask)\n",
        "\n",
        "    # Compute the same kind of loss for LM.\n",
        "\n",
        "    #lm_loss = <YOUR CODE>\n",
        "\n",
        "    # YOUR CODE HERE\n",
        "    loss = ner_loss + pos_loss\n",
        "    step = tf.train.AdamOptimizer().minimize(loss)\n"
      ],
      "execution_count": 39,
      "outputs": [
        {
          "output_type": "stream",
          "text": [
            "INFO:tensorflow:Saver not created because there are no variables in the graph to restore\n"
          ],
          "name": "stdout"
        }
      ]
    },
    {
      "metadata": {
        "id": "MQFT1L9af2kA",
        "colab_type": "code",
        "colab": {}
      },
      "cell_type": "code",
      "source": [
        "def iterate_minibatches_v2(data, batch_size=128, shuffle=True, cycle=False, max_batches=None):\n",
        "    indices = np.arange(len(data))\n",
        "    total_batches = 0\n",
        "    while True:\n",
        "        if shuffle: indices = np.random.permutation(indices)\n",
        "        for start_i in range(0, len(data), batch_size):\n",
        "            batch_ix = indices[start_i: start_i + batch_size]\n",
        "            yield prepare_batch_v2(data[batch_ix])\n",
        "            total_batches += 1\n",
        "            if max_batches and total_batches >= max_batches:\n",
        "                raise StopIteration()\n",
        "        if not cycle: break\n",
        "\n",
        "def compute_error_rate_v2(trainer, data, batch_size=128, key='ne'):\n",
        "    numerator = denominator = 0.0\n",
        "    for batch in iterate_minibatches_v2(data, batch_size, shuffle=False, cycle=False):\n",
        "        batch_ne_logits, batch_mask = sess.run([trainer.logits[key], trainer.mask], \n",
        "                                               {trainer.ph['raw_text']: batch['raw_text']})\n",
        "        numerator += np.sum((batch[key] == batch_ne_logits.argmax(-1)) * batch_mask)\n",
        "        denominator += batch_mask.sum()\n",
        "    return (1.0 - numerator / denominator) * 100\n",
        "\n",
        "def decode_greedy_v2(trainer, data, vocabs, batch_size=128, key='ne'):\n",
        "    result = []\n",
        "    for batch in iterate_minibatches_v2(data, batch_size, shuffle=False, cycle=False):\n",
        "        batch_logits = sess.run(trainer.logits[key], \n",
        "                                {trainer.ph['raw_text']: batch['raw_text']})\n",
        "        result.extend(vocabs[key].to_lines(batch_logits.argmax(-1)))\n",
        "    return result\n",
        "\n",
        "def compute_stats_v2(trainer, data, vocabs, batch_size=128, key='ne', verbose=False):\n",
        "    pred_seqs = decode_greedy_v2(trainer, data, vocabs, batch_size, key)\n",
        "    true_seqs = [r[key] for r in data]\n",
        "    precision, recall, f1 = evaluate(true_seqs, pred_seqs, verbose)\n",
        "    return precision, recall, f1"
      ],
      "execution_count": 0,
      "outputs": []
    },
    {
      "metadata": {
        "id": "oZqYA51owQtU",
        "colab_type": "code",
        "outputId": "07fae312-32f0-4b8e-ec40-5bd1473aa2aa",
        "colab": {
          "base_uri": "https://localhost:8080/",
          "height": 34
        }
      },
      "cell_type": "code",
      "source": [
        "from tqdm import tqdm\n",
        "from IPython.display import clear_output\n",
        "import matplotlib.pyplot as plt\n",
        "%matplotlib inline\n",
        "\n",
        "loss_history = []\n",
        "dev_stats_history = StatsHistory()\n",
        "indomain_stats_history = StatsHistory()\n",
        "outdomain_stats_history = StatsHistory()\n",
        "\n",
        "sess.run([tf.global_variables_initializer(), tf.tables_initializer()])"
      ],
      "execution_count": 41,
      "outputs": [
        {
          "output_type": "execute_result",
          "data": {
            "text/plain": [
              "[None, None]"
            ]
          },
          "metadata": {
            "tags": []
          },
          "execution_count": 41
        }
      ]
    },
    {
      "metadata": {
        "id": "vpCWyCbfwQtV",
        "colab_type": "code",
        "outputId": "3309bec7-7519-4ef2-c5d6-988ecca4aa59",
        "colab": {
          "base_uri": "https://localhost:8080/",
          "height": 491
        }
      },
      "cell_type": "code",
      "source": [
        "for batch in tqdm(iterate_minibatches_v2(train_data, cycle=True, max_batches=2500)):\n",
        "    # YOUR CODE HERE\n",
        "    batch['lm'] = batch['word']\n",
        "    \n",
        "    loss_t, _ = sess.run([multitask_trainer.loss, multitask_trainer.step], \n",
        "                         {multitask_trainer.ph[key]: batch[key] for key in multitask_trainer.ph})\n",
        "    loss_history.append(loss_t)\n",
        "    \n",
        "    if len(loss_history) % 100 == 0:\n",
        "        precision, recall, f1 = compute_stats_v2(multitask_trainer, dev_data, vocabs, batch_size=64, verbose=True)\n",
        "        dev_stats_history.precision.append(precision)\n",
        "        dev_stats_history.recall.append(recall)\n",
        "        dev_stats_history.f1.append(f1)\n",
        "\n",
        "        _, _, f1 = compute_stats_v2(multitask_trainer, test_outdomain_data, vocabs, batch_size=64, verbose=True)\n",
        "        outdomain_stats_history.f1.append(f1)\n",
        "        \n",
        "        _, _, f1 = compute_stats_v2(multitask_trainer, test_indomain_data, vocabs, batch_size=64, verbose=True)\n",
        "        indomain_stats_history.f1.append(f1)\n",
        "        \n",
        "        clear_output(True)\n",
        "        plt.figure(figsize=[12, 6])\n",
        "        plt.subplot(1, 2, 1)\n",
        "        plt.plot(loss_history)\n",
        "        plt.title('train loss'), plt.grid()\n",
        "        plt.subplot(1, 2, 2)\n",
        "        \n",
        "        plt.plot(np.arange(1, len(dev_stats_history.f1) + 1) * eval_every, dev_stats_history.f1, label=\"dev f1\")\n",
        "        plt.plot(np.arange(1, len(outdomain_stats_history.f1) + 1) * eval_every, outdomain_stats_history.f1, label=\"outdomain f1\")\n",
        "        plt.plot(np.arange(1, len(indomain_stats_history.f1) + 1) * eval_every, indomain_stats_history.f1, label=\"indomain f1\")\n",
        "        \n",
        "        plt.title('dev stats %'), plt.grid()\n",
        "        plt.show()"
      ],
      "execution_count": 0,
      "outputs": [
        {
          "output_type": "display_data",
          "data": {
            "image/png": "[encoded data removed]",
            "text/plain": [
              "<matplotlib.figure.Figure at 0x7faddccdc5c0>"
            ]
          },
          "metadata": {
            "tags": []
          }
        },
        {
          "output_type": "stream",
          "text": [
            "\n",
            "\n",
            "\n",
            "2500it [2:04:48, 55.56s/it]\u001b[A\u001b[A\u001b[A\n",
            "\n",
            "\n",
            "\u001b[A\u001b[A\u001b[A"
          ],
          "name": "stderr"
        }
      ]
    },
    {
      "metadata": {
        "id": "D77dOrrdKlH7",
        "colab_type": "code",
        "outputId": "bed46f36-5775-4248-a67a-288bead8ff45",
        "colab": {
          "base_uri": "https://localhost:8080/",
          "height": 68
        }
      },
      "cell_type": "code",
      "source": [
        "print(\"Best dev f1 = %.3f%%\" % max(dev_stats_history.f1),\n",
        "      \"\\nBest indomain f1 = %.3f%%\" % max(indomain_stats_history.f1),\n",
        "      \"\\nBest outdomain f1 = %.3f%%\" % max(outdomain_stats_history.f1))"
      ],
      "execution_count": 0,
      "outputs": [
        {
          "output_type": "stream",
          "text": [
            "Best dev f1 = 71.448% \n",
            "Best indomain f1 = 19.806% \n",
            "Best outdomain f1 = 47.709%\n"
          ],
          "name": "stdout"
        }
      ]
    },
    {
      "metadata": {
        "id": "t5LxZMQ9ZFZb",
        "colab_type": "text"
      },
      "cell_type": "markdown",
      "source": [
        " Вместо LSTM слоев я добавил выходы предобученной ELMO. Понимаю что это не совсем добавление LM части в модель, но я пытался fine-tun'ить ее и втыкался в какую-то ошибку несовместимости CPU и GPU (такое чувство что ELMO создалась на CPU или я хз)\n",
        " \n",
        " Но даже с учетом этого видно, что на indomain и outdomain она превосходит предыдущие, хотя еще не до конца доучена, так как на dev скор меньше\n",
        " \n",
        " Так же это снимает проблему неизвестных слов, так как ELMO char-based и можем получить эмбед для любого слова"
      ]
    },
    {
      "metadata": {
        "id": "KefcJVkYwQtW",
        "colab_type": "text"
      },
      "cell_type": "markdown",
      "source": [
        "# Structured prediction for NEs (2 points)\n",
        "\n",
        "![lstm_crf_ner](https://github.com/yandexdataschool/nlp_course/raw/master/resources/lstm_crf_ner.png)\n",
        "\n",
        "[_Picture from  Lample et al._](https://arxiv.org/abs/1603.01360)\n",
        "\n",
        "A setup with seq2seq and cross-entropy loss for tagging is not so good. Because in the case tagging there is an important constraint: input and output sequence have same length, and the number of output token types is much less than the number of input token types.\n",
        "\n",
        "To use this constraint effectively it is good idea to try structured [CRF loss](https://github.com/tensorflow/tensorflow/tree/master/tensorflow/contrib/crf) for NER (and POS)\n",
        "\n",
        "\n",
        "A good example of TensorFlow implementation of NER NN with CRF loss can be found in the [blogpost](https://guillaumegenthial.github.io/sequence-tagging-with-tensorflow.html)"
      ]
    },
    {
      "metadata": {
        "id": "90Ys_ii6L20P",
        "colab_type": "code",
        "outputId": "5fc88b2d-8483-4b1b-daf4-1a88cb2b63ad",
        "colab": {
          "base_uri": "https://localhost:8080/",
          "height": 34
        }
      },
      "cell_type": "code",
      "source": [
        "model = MultitaskModel('mod4')\n",
        "\n",
        "dummy_batch = prepare_batch_v2(train_data[:3])\n",
        "dummy_ix = tf.constant(dummy_batch['raw_text'], dtype=tf.string)\n",
        "dummy_ph = tf.placeholder(tf.string, shape=[None])\n",
        "#dummy_out = model(dummy_ix)\n",
        "dummy_ner = model.logits_ne(model.lm(dummy_ph, signature=\"default\", as_dict=True)['elmo'])\n",
        "\n",
        "sess.run([tf.global_variables_initializer(), tf.tables_initializer()])\n",
        "\n",
        "dummy_ner = sess.run(dummy_ner, {dummy_ph: dummy_batch['raw_text']})"
      ],
      "execution_count": 42,
      "outputs": [
        {
          "output_type": "stream",
          "text": [
            "INFO:tensorflow:Saver not created because there are no variables in the graph to restore\n"
          ],
          "name": "stdout"
        }
      ]
    },
    {
      "metadata": {
        "id": "_g16iTJE6T41",
        "colab_type": "code",
        "outputId": "9cfcecc8-1060-4281-8118-9c7fdf116c67",
        "colab": {
          "base_uri": "https://localhost:8080/",
          "height": 34
        }
      },
      "cell_type": "code",
      "source": [
        "dummy_ner.shape"
      ],
      "execution_count": 43,
      "outputs": [
        {
          "output_type": "execute_result",
          "data": {
            "text/plain": [
              "(3, 26, 11)"
            ]
          },
          "metadata": {
            "tags": []
          },
          "execution_count": 43
        }
      ]
    },
    {
      "metadata": {
        "id": "BdwdSxCF0SdI",
        "colab_type": "code",
        "outputId": "f3cbf733-2cff-4cf5-f3a0-aec6aa39634d",
        "colab": {
          "base_uri": "https://localhost:8080/",
          "height": 108
        }
      },
      "cell_type": "code",
      "source": [
        "from utils import infer_mask, infer_length\n",
        "\n",
        "\n",
        "\n",
        "class multitask_trainer_v3:\n",
        "    \"\"\" A trainer that computes losses for both NER, POS and LM tasks and adds them together. \"\"\"\n",
        "    ph = {\n",
        "        'word': tf.placeholder('int32', [None, None], name='input_tokens'),\n",
        "        'ne': tf.placeholder('int32', [None, None], name='named_entities'),\n",
        "        'pos': tf.placeholder('int32', [None, None], name='part_of_speech_tags'),\n",
        "        'lm': tf.placeholder('int32', [None, None], name='output_tokens'),\n",
        "        'raw_text': tf.placeholder(tf.string, [None], name='elma_texts')\n",
        "    }\n",
        "\n",
        "    logits = model(ph['raw_text'])\n",
        "    seq_length = infer_length(ph['word'], pad_ix=0)\n",
        "    # Compute loss for NER. Feel free to reuse the code from original trainer\n",
        "    trans_params = {}\n",
        "    with tf.variable_scope(\"foo\", reuse=tf.AUTO_REUSE):\n",
        "        trans_params['ne'] = tf.get_variable('crf_ne', shape=[len(vocabs['ne']), len(vocabs['ne'])], dtype=tf.float32, )\n",
        "    log_likelihood_ner, _ = tf.contrib.crf.crf_log_likelihood(logits['ne'], ph['ne'], seq_length, trans_params['ne'])\n",
        "    ner_loss = tf.reduce_mean(-log_likelihood_ner)\n",
        "\n",
        "    # Compute the same kind of loss for POS.  (key: 'pos')\n",
        "    with tf.variable_scope(\"foo_2\", reuse=tf.AUTO_REUSE):\n",
        "        trans_params['pos'] = tf.get_variable('crf_pos', shape=[len(vocabs['pos']), len(vocabs['pos'])], dtype=tf.float32)\n",
        "    log_likelihood_pos, _ = tf.contrib.crf.crf_log_likelihood(logits['pos'], ph['pos'], seq_length, trans_params['pos'])\n",
        "    pos_loss = tf.reduce_mean(-log_likelihood_pos)\n",
        "\n",
        "    # Compute the same kind of loss for LM.\n",
        "\n",
        "    #lm_loss = <YOUR CODE>\n",
        "\n",
        "    # YOUR CODE HERE\n",
        "    loss = ner_loss + pos_loss\n",
        "    step = tf.train.AdamOptimizer().minimize(loss)"
      ],
      "execution_count": 44,
      "outputs": [
        {
          "output_type": "stream",
          "text": [
            "INFO:tensorflow:Saver not created because there are no variables in the graph to restore\n"
          ],
          "name": "stdout"
        },
        {
          "output_type": "stream",
          "text": [
            "/usr/local/lib/python3.6/dist-packages/tensorflow/python/ops/gradients_impl.py:112: UserWarning: Converting sparse IndexedSlices to a dense Tensor of unknown shape. This may consume a large amount of memory.\n",
            "  \"Converting sparse IndexedSlices to a dense Tensor of unknown shape. \"\n"
          ],
          "name": "stderr"
        }
      ]
    },
    {
      "metadata": {
        "id": "KJb2L76z6gwc",
        "colab_type": "code",
        "colab": {}
      },
      "cell_type": "code",
      "source": [
        "def compute_error_rate_v3(trainer, data, batch_size=128, key='ne'):\n",
        "    numerator = denominator = 0.0\n",
        "    for batch in iterate_minibatches_v2(data, batch_size, shuffle=False, cycle=False):\n",
        "        batch_ne_logits, batch_mask, batch_seq_len, batch_trans_params = sess.run([trainer.logits[key], trainer.mask, trainer.seq_length, trainer.trans_params[key]], \n",
        "                                               {trainer.ph['raw_text']: batch['raw_text'], trainer.ph['word']:batch['word']})\n",
        "        pred = np.zeros_like(batch[key])\n",
        "        for samp, right, length in zip(batch_ne_logits, batch[key], batch_seq_len):\n",
        "            seq, score = tf.contrib.crf.viterbi_decode(samp[:length], batch_trans_params)\n",
        "            numnerator += np.sum(np.array(seq) == right[:length])\n",
        "            denominator += length\n",
        "    return (1.0 - numerator / denominator) * 100\n",
        "\n",
        "def decode_greedy_v3(trainer, data, vocabs, batch_size=128, key='ne'):\n",
        "    result = []\n",
        "    for batch in iterate_minibatches_v2(data, batch_size, shuffle=False, cycle=False):\n",
        "        batch_logits, batch_seq_len, batch_trans_params = sess.run([trainer.logits[key], trainer.seq_length, trainer.trans_params[key]], \n",
        "                                {trainer.ph['raw_text']: batch['raw_text'], trainer.ph['word']: batch['word']})\n",
        "        batch_res = []\n",
        "#         print('!!!!!!!!!!', batch_seq_len)\n",
        "        for samp, length in zip(batch_logits, batch_seq_len):\n",
        "            seq, score = tf.contrib.crf.viterbi_decode(samp[:length], batch_trans_params)\n",
        "            batch_res.append(seq)\n",
        "        result.extend(vocabs[key].to_lines(batch_res))\n",
        "    return result\n",
        "\n",
        "def compute_stats_v3(trainer, data, vocabs, batch_size=128, key='ne', verbose=False):\n",
        "    pred_seqs = decode_greedy_v3(trainer, data, vocabs, batch_size, key)\n",
        "    true_seqs = [r[key] for r in data]\n",
        "    precision, recall, f1 = evaluate(true_seqs, pred_seqs, verbose)\n",
        "    return precision, recall, f1"
      ],
      "execution_count": 0,
      "outputs": []
    },
    {
      "metadata": {
        "id": "8_wP56Uv8kQt",
        "colab_type": "code",
        "outputId": "3e866b18-9c79-49f1-ccc2-46af52f632ce",
        "colab": {
          "base_uri": "https://localhost:8080/",
          "height": 34
        }
      },
      "cell_type": "code",
      "source": [
        "from tqdm import tqdm\n",
        "from IPython.display import clear_output\n",
        "import matplotlib.pyplot as plt\n",
        "%matplotlib inline\n",
        "\n",
        "loss_history = []\n",
        "dev_stats_history = StatsHistory()\n",
        "indomain_stats_history = StatsHistory()\n",
        "outdomain_stats_history = StatsHistory()\n",
        "\n",
        "sess.run([tf.global_variables_initializer(), tf.tables_initializer()])"
      ],
      "execution_count": 46,
      "outputs": [
        {
          "output_type": "execute_result",
          "data": {
            "text/plain": [
              "[None, None]"
            ]
          },
          "metadata": {
            "tags": []
          },
          "execution_count": 46
        }
      ]
    },
    {
      "metadata": {
        "id": "oDjYkP-_8qa_",
        "colab_type": "code",
        "outputId": "9e49a2da-d2d6-4cc6-fcbf-a3e18bc7617c",
        "colab": {
          "base_uri": "https://localhost:8080/",
          "height": 1355
        }
      },
      "cell_type": "code",
      "source": [
        "for batch in tqdm(iterate_minibatches_v2(train_data, batch_size=64, cycle=True, max_batches=2500)):\n",
        "    # YOUR CODE HERE\n",
        "    batch['lm'] = batch['word']\n",
        "    \n",
        "    loss_t, _ = sess.run([multitask_trainer_v3.loss, multitask_trainer_v3.step], \n",
        "                         {multitask_trainer_v3.ph[key]: batch[key] for key in multitask_trainer_v3.ph})\n",
        "    loss_history.append(loss_t)\n",
        "    \n",
        "    if len(loss_history) % 100 == 0:\n",
        "        precision, recall, f1 = compute_stats_v3(multitask_trainer_v3, dev_data, vocabs, batch_size=64, verbose=True)\n",
        "        dev_stats_history.precision.append(precision)\n",
        "        dev_stats_history.recall.append(recall)\n",
        "        dev_stats_history.f1.append(f1)\n",
        "\n",
        "        _, _, f1 = compute_stats_v3(multitask_trainer_v3, test_outdomain_data, vocabs, batch_size=64, verbose=True)\n",
        "        outdomain_stats_history.f1.append(f1)\n",
        "        \n",
        "        _, _, f1 = compute_stats_v3(multitask_trainer_v3, test_indomain_data, vocabs, batch_size=64, verbose=True)\n",
        "        indomain_stats_history.f1.append(f1)\n",
        "        \n",
        "        clear_output(True)\n",
        "        plt.figure(figsize=[12, 6])\n",
        "        plt.subplot(1, 2, 1)\n",
        "        plt.plot(loss_history)\n",
        "        plt.title('train loss'), plt.grid()\n",
        "        plt.subplot(1, 2, 2)\n",
        "        \n",
        "        plt.plot(np.arange(1, len(dev_stats_history.f1) + 1) * eval_every, dev_stats_history.f1, label=\"dev f1\")\n",
        "        plt.plot(np.arange(1, len(outdomain_stats_history.f1) + 1) * eval_every, outdomain_stats_history.f1, label=\"outdomain f1\")\n",
        "        plt.plot(np.arange(1, len(indomain_stats_history.f1) + 1) * eval_every, indomain_stats_history.f1, label=\"indomain f1\")\n",
        "        \n",
        "        plt.title('dev stats %'), plt.grid()\n",
        "        plt.show()"
      ],
      "execution_count": 0,
      "outputs": [
        {
          "output_type": "display_data",
          "data": {
            "image/png": "[encoded data removed]",
            "text/plain": [
              "<matplotlib.figure.Figure at 0x7fe8dd962ba8>"
            ]
          },
          "metadata": {
            "tags": []
          }
        },
        {
          "output_type": "stream",
          "text": [
            "1135it [50:27,  1.38it/s]"
          ],
          "name": "stderr"
        },
        {
          "output_type": "error",
          "ename": "KeyboardInterrupt",
          "evalue": "ignored",
          "traceback": [
            "\u001b[0;31m---------------------------------------------------------------------------\u001b[0m",
            "\u001b[0;31mKeyboardInterrupt\u001b[0m                         Traceback (most recent call last)",
            "\u001b[0;32m<ipython-input-43-263f81a24be4>\u001b[0m in \u001b[0;36m<module>\u001b[0;34m()\u001b[0m\n\u001b[1;32m      4\u001b[0m \u001b[0;34m\u001b[0m\u001b[0m\n\u001b[1;32m      5\u001b[0m     loss_t, _ = sess.run([multitask_trainer_v3.loss, multitask_trainer_v3.step], \n\u001b[0;32m----> 6\u001b[0;31m                          {multitask_trainer_v3.ph[key]: batch[key] for key in multitask_trainer_v3.ph})\n\u001b[0m\u001b[1;32m      7\u001b[0m     \u001b[0mloss_history\u001b[0m\u001b[0;34m.\u001b[0m\u001b[0mappend\u001b[0m\u001b[0;34m(\u001b[0m\u001b[0mloss_t\u001b[0m\u001b[0;34m)\u001b[0m\u001b[0;34m\u001b[0m\u001b[0;34m\u001b[0m\u001b[0m\n\u001b[1;32m      8\u001b[0m \u001b[0;34m\u001b[0m\u001b[0m\n",
            "\u001b[0;32m/usr/local/lib/python3.6/dist-packages/tensorflow/python/client/session.py\u001b[0m in \u001b[0;36mrun\u001b[0;34m(self, fetches, feed_dict, options, run_metadata)\u001b[0m\n\u001b[1;32m    927\u001b[0m     \u001b[0;32mtry\u001b[0m\u001b[0;34m:\u001b[0m\u001b[0;34m\u001b[0m\u001b[0;34m\u001b[0m\u001b[0m\n\u001b[1;32m    928\u001b[0m       result = self._run(None, fetches, feed_dict, options_ptr,\n\u001b[0;32m--> 929\u001b[0;31m                          run_metadata_ptr)\n\u001b[0m\u001b[1;32m    930\u001b[0m       \u001b[0;32mif\u001b[0m \u001b[0mrun_metadata\u001b[0m\u001b[0;34m:\u001b[0m\u001b[0;34m\u001b[0m\u001b[0;34m\u001b[0m\u001b[0m\n\u001b[1;32m    931\u001b[0m         \u001b[0mproto_data\u001b[0m \u001b[0;34m=\u001b[0m \u001b[0mtf_session\u001b[0m\u001b[0;34m.\u001b[0m\u001b[0mTF_GetBuffer\u001b[0m\u001b[0;34m(\u001b[0m\u001b[0mrun_metadata_ptr\u001b[0m\u001b[0;34m)\u001b[0m\u001b[0;34m\u001b[0m\u001b[0;34m\u001b[0m\u001b[0m\n",
            "\u001b[0;32m/usr/local/lib/python3.6/dist-packages/tensorflow/python/client/session.py\u001b[0m in \u001b[0;36m_run\u001b[0;34m(self, handle, fetches, feed_dict, options, run_metadata)\u001b[0m\n\u001b[1;32m   1150\u001b[0m     \u001b[0;32mif\u001b[0m \u001b[0mfinal_fetches\u001b[0m \u001b[0;32mor\u001b[0m \u001b[0mfinal_targets\u001b[0m \u001b[0;32mor\u001b[0m \u001b[0;34m(\u001b[0m\u001b[0mhandle\u001b[0m \u001b[0;32mand\u001b[0m \u001b[0mfeed_dict_tensor\u001b[0m\u001b[0;34m)\u001b[0m\u001b[0;34m:\u001b[0m\u001b[0;34m\u001b[0m\u001b[0;34m\u001b[0m\u001b[0m\n\u001b[1;32m   1151\u001b[0m       results = self._do_run(handle, final_targets, final_fetches,\n\u001b[0;32m-> 1152\u001b[0;31m                              feed_dict_tensor, options, run_metadata)\n\u001b[0m\u001b[1;32m   1153\u001b[0m     \u001b[0;32melse\u001b[0m\u001b[0;34m:\u001b[0m\u001b[0;34m\u001b[0m\u001b[0;34m\u001b[0m\u001b[0m\n\u001b[1;32m   1154\u001b[0m       \u001b[0mresults\u001b[0m \u001b[0;34m=\u001b[0m \u001b[0;34m[\u001b[0m\u001b[0;34m]\u001b[0m\u001b[0;34m\u001b[0m\u001b[0;34m\u001b[0m\u001b[0m\n",
            "\u001b[0;32m/usr/local/lib/python3.6/dist-packages/tensorflow/python/client/session.py\u001b[0m in \u001b[0;36m_do_run\u001b[0;34m(self, handle, target_list, fetch_list, feed_dict, options, run_metadata)\u001b[0m\n\u001b[1;32m   1326\u001b[0m     \u001b[0;32mif\u001b[0m \u001b[0mhandle\u001b[0m \u001b[0;32mis\u001b[0m \u001b[0;32mNone\u001b[0m\u001b[0;34m:\u001b[0m\u001b[0;34m\u001b[0m\u001b[0;34m\u001b[0m\u001b[0m\n\u001b[1;32m   1327\u001b[0m       return self._do_call(_run_fn, feeds, fetches, targets, options,\n\u001b[0;32m-> 1328\u001b[0;31m                            run_metadata)\n\u001b[0m\u001b[1;32m   1329\u001b[0m     \u001b[0;32melse\u001b[0m\u001b[0;34m:\u001b[0m\u001b[0;34m\u001b[0m\u001b[0;34m\u001b[0m\u001b[0m\n\u001b[1;32m   1330\u001b[0m       \u001b[0;32mreturn\u001b[0m \u001b[0mself\u001b[0m\u001b[0;34m.\u001b[0m\u001b[0m_do_call\u001b[0m\u001b[0;34m(\u001b[0m\u001b[0m_prun_fn\u001b[0m\u001b[0;34m,\u001b[0m \u001b[0mhandle\u001b[0m\u001b[0;34m,\u001b[0m \u001b[0mfeeds\u001b[0m\u001b[0;34m,\u001b[0m \u001b[0mfetches\u001b[0m\u001b[0;34m)\u001b[0m\u001b[0;34m\u001b[0m\u001b[0;34m\u001b[0m\u001b[0m\n",
            "\u001b[0;32m/usr/local/lib/python3.6/dist-packages/tensorflow/python/client/session.py\u001b[0m in \u001b[0;36m_do_call\u001b[0;34m(self, fn, *args)\u001b[0m\n\u001b[1;32m   1332\u001b[0m   \u001b[0;32mdef\u001b[0m \u001b[0m_do_call\u001b[0m\u001b[0;34m(\u001b[0m\u001b[0mself\u001b[0m\u001b[0;34m,\u001b[0m \u001b[0mfn\u001b[0m\u001b[0;34m,\u001b[0m \u001b[0;34m*\u001b[0m\u001b[0margs\u001b[0m\u001b[0;34m)\u001b[0m\u001b[0;34m:\u001b[0m\u001b[0;34m\u001b[0m\u001b[0;34m\u001b[0m\u001b[0m\n\u001b[1;32m   1333\u001b[0m     \u001b[0;32mtry\u001b[0m\u001b[0;34m:\u001b[0m\u001b[0;34m\u001b[0m\u001b[0;34m\u001b[0m\u001b[0m\n\u001b[0;32m-> 1334\u001b[0;31m       \u001b[0;32mreturn\u001b[0m \u001b[0mfn\u001b[0m\u001b[0;34m(\u001b[0m\u001b[0;34m*\u001b[0m\u001b[0margs\u001b[0m\u001b[0;34m)\u001b[0m\u001b[0;34m\u001b[0m\u001b[0;34m\u001b[0m\u001b[0m\n\u001b[0m\u001b[1;32m   1335\u001b[0m     \u001b[0;32mexcept\u001b[0m \u001b[0merrors\u001b[0m\u001b[0;34m.\u001b[0m\u001b[0mOpError\u001b[0m \u001b[0;32mas\u001b[0m \u001b[0me\u001b[0m\u001b[0;34m:\u001b[0m\u001b[0;34m\u001b[0m\u001b[0;34m\u001b[0m\u001b[0m\n\u001b[1;32m   1336\u001b[0m       \u001b[0mmessage\u001b[0m \u001b[0;34m=\u001b[0m \u001b[0mcompat\u001b[0m\u001b[0;34m.\u001b[0m\u001b[0mas_text\u001b[0m\u001b[0;34m(\u001b[0m\u001b[0me\u001b[0m\u001b[0;34m.\u001b[0m\u001b[0mmessage\u001b[0m\u001b[0;34m)\u001b[0m\u001b[0;34m\u001b[0m\u001b[0;34m\u001b[0m\u001b[0m\n",
            "\u001b[0;32m/usr/local/lib/python3.6/dist-packages/tensorflow/python/client/session.py\u001b[0m in \u001b[0;36m_run_fn\u001b[0;34m(feed_dict, fetch_list, target_list, options, run_metadata)\u001b[0m\n\u001b[1;32m   1317\u001b[0m       \u001b[0mself\u001b[0m\u001b[0;34m.\u001b[0m\u001b[0m_extend_graph\u001b[0m\u001b[0;34m(\u001b[0m\u001b[0;34m)\u001b[0m\u001b[0;34m\u001b[0m\u001b[0;34m\u001b[0m\u001b[0m\n\u001b[1;32m   1318\u001b[0m       return self._call_tf_sessionrun(\n\u001b[0;32m-> 1319\u001b[0;31m           options, feed_dict, fetch_list, target_list, run_metadata)\n\u001b[0m\u001b[1;32m   1320\u001b[0m \u001b[0;34m\u001b[0m\u001b[0m\n\u001b[1;32m   1321\u001b[0m     \u001b[0;32mdef\u001b[0m \u001b[0m_prun_fn\u001b[0m\u001b[0;34m(\u001b[0m\u001b[0mhandle\u001b[0m\u001b[0;34m,\u001b[0m \u001b[0mfeed_dict\u001b[0m\u001b[0;34m,\u001b[0m \u001b[0mfetch_list\u001b[0m\u001b[0;34m)\u001b[0m\u001b[0;34m:\u001b[0m\u001b[0;34m\u001b[0m\u001b[0;34m\u001b[0m\u001b[0m\n",
            "\u001b[0;32m/usr/local/lib/python3.6/dist-packages/tensorflow/python/client/session.py\u001b[0m in \u001b[0;36m_call_tf_sessionrun\u001b[0;34m(self, options, feed_dict, fetch_list, target_list, run_metadata)\u001b[0m\n\u001b[1;32m   1405\u001b[0m     return tf_session.TF_SessionRun_wrapper(\n\u001b[1;32m   1406\u001b[0m         \u001b[0mself\u001b[0m\u001b[0;34m.\u001b[0m\u001b[0m_session\u001b[0m\u001b[0;34m,\u001b[0m \u001b[0moptions\u001b[0m\u001b[0;34m,\u001b[0m \u001b[0mfeed_dict\u001b[0m\u001b[0;34m,\u001b[0m \u001b[0mfetch_list\u001b[0m\u001b[0;34m,\u001b[0m \u001b[0mtarget_list\u001b[0m\u001b[0;34m,\u001b[0m\u001b[0;34m\u001b[0m\u001b[0;34m\u001b[0m\u001b[0m\n\u001b[0;32m-> 1407\u001b[0;31m         run_metadata)\n\u001b[0m\u001b[1;32m   1408\u001b[0m \u001b[0;34m\u001b[0m\u001b[0m\n\u001b[1;32m   1409\u001b[0m   \u001b[0;32mdef\u001b[0m \u001b[0m_call_tf_sessionprun\u001b[0m\u001b[0;34m(\u001b[0m\u001b[0mself\u001b[0m\u001b[0;34m,\u001b[0m \u001b[0mhandle\u001b[0m\u001b[0;34m,\u001b[0m \u001b[0mfeed_dict\u001b[0m\u001b[0;34m,\u001b[0m \u001b[0mfetch_list\u001b[0m\u001b[0;34m)\u001b[0m\u001b[0;34m:\u001b[0m\u001b[0;34m\u001b[0m\u001b[0;34m\u001b[0m\u001b[0m\n",
            "\u001b[0;31mKeyboardInterrupt\u001b[0m: "
          ]
        }
      ]
    },
    {
      "metadata": {
        "id": "8hN9ooPXcGRN",
        "colab_type": "code",
        "outputId": "c4b39971-4a2a-45c5-a861-ae6f979de5cf",
        "colab": {
          "base_uri": "https://localhost:8080/",
          "height": 68
        }
      },
      "cell_type": "code",
      "source": [
        "print(\"Best dev f1 = %.3f%%\" % max(dev_stats_history.f1),\n",
        "      \"\\nBest indomain f1 = %.3f%%\" % max(indomain_stats_history.f1),\n",
        "      \"\\nBest outdomain f1 = %.3f%%\" % max(outdomain_stats_history.f1))"
      ],
      "execution_count": 0,
      "outputs": [
        {
          "output_type": "stream",
          "text": [
            "Best dev f1 = 75.874% \n",
            "Best indomain f1 = 17.005% \n",
            "Best outdomain f1 = 54.326%\n"
          ],
          "name": "stdout"
        }
      ]
    },
    {
      "metadata": {
        "id": "XaedVicdcKhk",
        "colab_type": "text"
      },
      "cell_type": "markdown",
      "source": [
        "Как видим с CRF результат еще лучше, даже с учетом того что сеть еще далека от завершения обучения."
      ]
    },
    {
      "metadata": {
        "id": "iBWcUQxVwQtW",
        "colab_type": "text"
      },
      "cell_type": "markdown",
      "source": [
        "## Dealing with letter case and rare entities (1 points)\n",
        "\n",
        "![lstm_crf_ner](https://github.com/yandexdataschool/nlp_course/raw/master/resources/word_and_char_embedding_concat.png)\n",
        "\n",
        "[_Picture from  Lample et al._](https://arxiv.org/abs/1603.01360)\n",
        "\n",
        "First, in European languages (both English and Russian) personal names, companies, geographical names are capitalized traditionally. Thus the letter case carries a powerful signal for named entities recognition. So it is good to utilize it.\n",
        "\n",
        "Second, most of named entities are rare words. In testsets (both from source and target distributions) they are replaced by _UNK_. To deal with OOV words you can try different approaches (feel free!). For example:\n",
        "\n",
        "* You can use additional character-level recurrent layers to obtain character-aware word embeddings (see scheme on the picture above)\n",
        "* You can use pretrained embeddings with character ngram information ([FastText](https://github.com/facebookresearch/fastText/blob/master/pretrained-vectors.md))\n",
        "* You can split words by subword units using [BPE](https://arxiv.org/abs/1508.07909)"
      ]
    },
    {
      "metadata": {
        "id": "cGjsGvT9cgc7",
        "colab_type": "code",
        "outputId": "d7b364de-2717-45c7-8f0f-2fc70e5a7c73",
        "colab": {
          "base_uri": "https://localhost:8080/",
          "height": 102
        }
      },
      "cell_type": "code",
      "source": [
        "elmo(['New York'], signature='default', as_dict=True)['word_emb'].eval()"
      ],
      "execution_count": 47,
      "outputs": [
        {
          "output_type": "stream",
          "text": [
            "INFO:tensorflow:Saver not created because there are no variables in the graph to restore\n"
          ],
          "name": "stdout"
        },
        {
          "output_type": "execute_result",
          "data": {
            "text/plain": [
              "array([[[ 0.08355643, -0.33247995, -0.77403283, ...,  0.38057843,\n",
              "         -0.43014818,  0.5005168 ],\n",
              "        [ 0.23563562, -0.8931    , -0.03087677, ..., -0.06571829,\n",
              "         -0.5036491 , -0.00098343]]], dtype=float32)"
            ]
          },
          "metadata": {
            "tags": []
          },
          "execution_count": 47
        }
      ]
    },
    {
      "metadata": {
        "id": "e5sACEK7c2QN",
        "colab_type": "code",
        "outputId": "263c2c44-8106-49f8-e6cf-a1889d9012a7",
        "colab": {
          "base_uri": "https://localhost:8080/",
          "height": 102
        }
      },
      "cell_type": "code",
      "source": [
        "elmo(['new york'], signature='default', as_dict=True)['word_emb'].eval()"
      ],
      "execution_count": 48,
      "outputs": [
        {
          "output_type": "stream",
          "text": [
            "INFO:tensorflow:Saver not created because there are no variables in the graph to restore\n"
          ],
          "name": "stdout"
        },
        {
          "output_type": "execute_result",
          "data": {
            "text/plain": [
              "array([[[ 0.11791752,  0.00147337, -0.5866463 , ...,  0.12481648,\n",
              "         -0.11010434, -0.10600737],\n",
              "        [-0.6387497 , -0.38050127, -0.5622433 , ...,  0.00497603,\n",
              "         -0.2673545 , -0.5194958 ]]], dtype=float32)"
            ]
          },
          "metadata": {
            "tags": []
          },
          "execution_count": 48
        }
      ]
    },
    {
      "metadata": {
        "id": "3q2u-s_Lc9Ou",
        "colab_type": "code",
        "outputId": "1424695d-c34d-4cf6-a256-e68bf1f67f04",
        "colab": {
          "base_uri": "https://localhost:8080/",
          "height": 102
        }
      },
      "cell_type": "code",
      "source": [
        "elmo(['New York'], signature='default', as_dict=True)['elmo'].eval()"
      ],
      "execution_count": 49,
      "outputs": [
        {
          "output_type": "stream",
          "text": [
            "INFO:tensorflow:Saver not created because there are no variables in the graph to restore\n"
          ],
          "name": "stdout"
        },
        {
          "output_type": "execute_result",
          "data": {
            "text/plain": [
              "array([[[ 0.03760708, -0.2512641 , -0.44684303, ...,  0.2539159 ,\n",
              "         -0.15896167, -0.0199298 ],\n",
              "        [-0.04678347, -0.45051944,  0.33180088, ..., -0.09790254,\n",
              "         -0.25893214, -0.01330381]]], dtype=float32)"
            ]
          },
          "metadata": {
            "tags": []
          },
          "execution_count": 49
        }
      ]
    },
    {
      "metadata": {
        "id": "Y3Az-sN1dFEE",
        "colab_type": "code",
        "outputId": "3d499d15-e3ef-4f10-e345-1571eea2c5cb",
        "colab": {
          "base_uri": "https://localhost:8080/",
          "height": 102
        }
      },
      "cell_type": "code",
      "source": [
        "elmo(['new york'], signature='default', as_dict=True)['elmo'].eval()"
      ],
      "execution_count": 50,
      "outputs": [
        {
          "output_type": "stream",
          "text": [
            "INFO:tensorflow:Saver not created because there are no variables in the graph to restore\n"
          ],
          "name": "stdout"
        },
        {
          "output_type": "execute_result",
          "data": {
            "text/plain": [
              "array([[[ 0.40692455,  0.15004973, -0.39143145, ...,  0.09346575,\n",
              "          0.59194934, -0.57878774],\n",
              "        [-0.05798532, -0.03758124,  0.1665528 , ...,  0.08025324,\n",
              "          0.41700828,  0.29501665]]], dtype=float32)"
            ]
          },
          "metadata": {
            "tags": []
          },
          "execution_count": 50
        }
      ]
    },
    {
      "metadata": {
        "id": "dxok1xUmdNcY",
        "colab_type": "text"
      },
      "cell_type": "markdown",
      "source": [
        "Как видим из простенького примера ELMO case sensitive, так как char based\n",
        "\n",
        "Соответсвенно используй я не приведенные к нижнему регистру данные  результат должен был бы быть лучше\n",
        "\n",
        "Но я как всегда ничего не успел (("
      ]
    },
    {
      "metadata": {
        "id": "L45ZeNR0vsUK",
        "colab_type": "code",
        "colab": {}
      },
      "cell_type": "code",
      "source": [
        ""
      ],
      "execution_count": 0,
      "outputs": []
    },
    {
      "metadata": {
        "colab_type": "code",
        "outputId": "461c2add-a9df-416e-a1ae-9158395a670b",
        "id": "75iRQ_WbwPY8",
        "colab": {
          "base_uri": "https://localhost:8080/",
          "height": 128
        }
      },
      "cell_type": "code",
      "source": [
        "from conlleval import evaluate\n",
        "from utils import read_conll\n",
        "data = read_conll('./kaggle-train.conll', lower_words=False)\n",
        "\n",
        "data[333]"
      ],
      "execution_count": 51,
      "outputs": [
        {
          "output_type": "execute_result",
          "data": {
            "text/plain": [
              "{'ne': 'O O O O O O B-ORG I-ORG O O O B-LOC O B-LOC O B-LOC I-LOC O B-LOC O B-LOC O B-LOC O B-LOC O B-LOC O B-LOC O B-LOC O B-LOC O B-LOC O B-LOC O B-LOC O B-LOC O B-LOC O B-LOC O',\n",
              " 'pos': 'DT CD NNS RB JJ IN NNP NNP NN NN VBP NNP , NNP , NNP NNP , NNP , NNP , NNP , NNP , NNP , NNP , NNP , NNP , NNP , NNP , NNP , NNP , NNP CC NNP .',\n",
              " 'word': 'The 17 countries now eligible for World Bank debt relief are Benin , Bolivia , Burkina Faso , Ethiopia , Ghana , Guyana , Honduras , Madagascar , Mali , Mozambique , Nicaragua , Niger , Rwanda , Senegal , Tanzania , Uganda and Zambia .'}"
            ]
          },
          "metadata": {
            "tags": []
          },
          "execution_count": 51
        }
      ]
    },
    {
      "metadata": {
        "colab_type": "code",
        "id": "UeksOgSgv-uS",
        "colab": {}
      },
      "cell_type": "code",
      "source": [
        "test_outdomain_data = read_conll('./source-domain-test.conll', lower_words=False)\n",
        "test_indomain_data = read_conll('./target-domain-test.conll', column_names=['word', 'ne'], lower_words=False)\n",
        "monolingual_indomain_data = read_conll('./target-domain-monolingual.conll', column_names=['word'], lower_words=False)"
      ],
      "execution_count": 0,
      "outputs": []
    },
    {
      "metadata": {
        "colab_type": "code",
        "outputId": "bcd4b88e-8b6b-4650-c404-bab4115c40fe",
        "id": "O6Qz9QzMwisG",
        "colab": {
          "base_uri": "https://localhost:8080/",
          "height": 34
        }
      },
      "cell_type": "code",
      "source": [
        "from sklearn.model_selection import train_test_split\n",
        "train_data, dev_data = train_test_split(data, test_size=0.25, random_state=42)\n",
        "print(\"train: {}, dev: {}\".format(len(train_data), len(dev_data)))"
      ],
      "execution_count": 53,
      "outputs": [
        {
          "output_type": "stream",
          "text": [
            "train: 35967, dev: 11989\n"
          ],
          "name": "stdout"
        }
      ]
    },
    {
      "metadata": {
        "colab_type": "code",
        "outputId": "7f48ccf2-8276-45fc-df9f-02587f534d71",
        "id": "m3onyOdVwisL",
        "colab": {
          "base_uri": "https://localhost:8080/",
          "height": 193
        }
      },
      "cell_type": "code",
      "source": [
        "train_data"
      ],
      "execution_count": 54,
      "outputs": [
        {
          "output_type": "execute_result",
          "data": {
            "text/plain": [
              "array([{'word': 'The spokesman said the U.N. forces responded using an attack helicopter .', 'pos': 'DT NN VBD DT NNP NNS VBD VBG DT NN NN .', 'ne': 'O O O O B-ORG O O O O O O O'},\n",
              "       {'word': 'Presidents of member nations Argentina , Brazil , Paraguay and Uruguay are to sign a document Tuesday extending voting rights and lower tariffs to Venezuela .', 'pos': 'NNS IN NN NNS NNP , NNP , NNP CC NNP VBP TO VB DT NN NNP VBG NN NNS CC JJR NNS TO NNP .', 'ne': 'O O O O B-ORG O B-ORG O B-ORG O B-ORG O O O O O O O O O O O O O B-ORG O'},\n",
              "       {'word': 'Ecuador \\'s daily oil exports of nearly \"150000\" barrels each day have been completely stopped .', 'pos': 'NNP POS JJ NN NNS IN RB CD NNS DT NN VBP VBN RB VBN .', 'ne': 'B-LOC O O O O O O O O O O O O O O O'},\n",
              "       ...,\n",
              "       {'word': 'Some media report the abductors were paid an unspecified ransom .', 'pos': 'DT NNS VBP DT NNS VBD VBN DT JJ NN .', 'ne': 'O O O O O O O O O O O'},\n",
              "       {'word': 'KindHearts officials have not commented on the alleged links to terrorism .', 'pos': 'NNP NNS VBP RB VBN IN DT JJ NNS TO NN .', 'ne': 'B-ORG O O O O O O O O O O O'},\n",
              "       {'word': 'It also said that no one else who has come into contact with the woman has shown any symptoms of the virus .', 'pos': 'PRP RB VBD IN DT CD NN WP VBZ VBN IN NN IN DT NN VBZ VBN DT NNS IN DT NN .', 'ne': 'O O O O O O O O O O O O O O O O O O O O O O O'}],\n",
              "      dtype=object)"
            ]
          },
          "metadata": {
            "tags": []
          },
          "execution_count": 54
        }
      ]
    },
    {
      "metadata": {
        "colab_type": "code",
        "id": "YtBBvsKYv-uW",
        "colab": {}
      },
      "cell_type": "code",
      "source": [
        "from utils import Vocab\n",
        "vocabs = {\n",
        "    key: Vocab.from_lines([row[key] for row in train_data])\n",
        "    for key in ['word', 'pos', 'ne']\n",
        "}\n",
        "\n",
        "def prepare_batch(data):\n",
        "    keys = data[0].keys()\n",
        "    return {\n",
        "        key: vocabs[key].to_matrix(row[key] for row in data)\n",
        "        for key in keys\n",
        "    }"
      ],
      "execution_count": 0,
      "outputs": []
    },
    {
      "metadata": {
        "colab_type": "code",
        "outputId": "7c93d880-ddee-48bb-854c-4ff7ea1a1cf5",
        "id": "DmapZElRv-uX",
        "colab": {
          "base_uri": "https://localhost:8080/",
          "height": 153
        }
      },
      "cell_type": "code",
      "source": [
        "dummy_rows = sorted(data, key=lambda row: len(row['word']))[100:102]\n",
        "print(dummy_rows[0])\n",
        "print(dummy_rows[1])\n",
        "prepare_batch(dummy_rows)"
      ],
      "execution_count": 56,
      "outputs": [
        {
          "output_type": "stream",
          "text": [
            "{'word': 'Well , it could happen !', 'pos': 'RB , PRP MD VB .', 'ne': 'O O O O O O'}\n",
            "{'word': 'Sudan denies the claim .', 'pos': 'NNP VBZ DT NN .', 'ne': 'B-LOC O O O O'}\n"
          ],
          "name": "stdout"
        },
        {
          "output_type": "execute_result",
          "data": {
            "text/plain": [
              "{'ne': array([[10, 10, 10, 10, 10, 10],\n",
              "        [ 2, 10, 10, 10, 10,  0]], dtype=int32),\n",
              " 'pos': array([[26,  4, 24, 17, 33,  5],\n",
              "        [19, 38, 10, 18,  5,  0]], dtype=int32),\n",
              " 'word': array([[13824,   289, 22306, 17665, 21117,     2],\n",
              "        [12510, 18263, 29342, 16830,   292,     0]], dtype=int32)}"
            ]
          },
          "metadata": {
            "tags": []
          },
          "execution_count": 56
        }
      ]
    },
    {
      "metadata": {
        "colab_type": "code",
        "outputId": "89f5a665-d2cd-4f21-d8b7-df6e9da4775c",
        "id": "FH0tWafGwzqo",
        "colab": {
          "base_uri": "https://localhost:8080/",
          "height": 34
        }
      },
      "cell_type": "code",
      "source": [
        "model = MultitaskModel('mod5')\n",
        "\n",
        "dummy_batch = prepare_batch_v2(train_data[:3])\n",
        "dummy_ix = tf.constant(dummy_batch['raw_text'], dtype=tf.string)\n",
        "dummy_ph = tf.placeholder(tf.string, shape=[None])\n",
        "#dummy_out = model(dummy_ix)\n",
        "dummy_ner = model.logits_ne(model.lm(dummy_ph, signature=\"default\", as_dict=True)['elmo'])\n",
        "\n",
        "sess.run([tf.global_variables_initializer(), tf.tables_initializer()])\n",
        "\n",
        "dummy_ner = sess.run(dummy_ner, {dummy_ph: dummy_batch['raw_text']})"
      ],
      "execution_count": 57,
      "outputs": [
        {
          "output_type": "stream",
          "text": [
            "INFO:tensorflow:Saver not created because there are no variables in the graph to restore\n"
          ],
          "name": "stdout"
        }
      ]
    },
    {
      "metadata": {
        "colab_type": "code",
        "outputId": "ec38c171-0ccb-4c70-8439-425b2cb62006",
        "id": "R9AmtAagwzqr",
        "colab": {
          "base_uri": "https://localhost:8080/",
          "height": 34
        }
      },
      "cell_type": "code",
      "source": [
        "dummy_ner.shape"
      ],
      "execution_count": 58,
      "outputs": [
        {
          "output_type": "execute_result",
          "data": {
            "text/plain": [
              "(3, 26, 11)"
            ]
          },
          "metadata": {
            "tags": []
          },
          "execution_count": 58
        }
      ]
    },
    {
      "metadata": {
        "colab_type": "code",
        "outputId": "501efaf6-c8a7-4775-c0db-1bf24aa42237",
        "id": "wezeU5cjwzqt",
        "colab": {
          "base_uri": "https://localhost:8080/",
          "height": 34
        }
      },
      "cell_type": "code",
      "source": [
        "from tqdm import tqdm\n",
        "from IPython.display import clear_output\n",
        "import matplotlib.pyplot as plt\n",
        "%matplotlib inline\n",
        "\n",
        "loss_history = []\n",
        "dev_stats_history = StatsHistory()\n",
        "indomain_stats_history = StatsHistory()\n",
        "outdomain_stats_history = StatsHistory()\n",
        "\n",
        "sess.run([tf.global_variables_initializer(), tf.tables_initializer()])"
      ],
      "execution_count": 59,
      "outputs": [
        {
          "output_type": "execute_result",
          "data": {
            "text/plain": [
              "[None, None]"
            ]
          },
          "metadata": {
            "tags": []
          },
          "execution_count": 59
        }
      ]
    },
    {
      "metadata": {
        "colab_type": "code",
        "outputId": "4a8a5de9-3620-4bca-cabe-6dda194566cf",
        "id": "RyZ0GcuJwzqv",
        "colab": {
          "base_uri": "https://localhost:8080/",
          "height": 1355
        }
      },
      "cell_type": "code",
      "source": [
        "for batch in tqdm(iterate_minibatches_v2(train_data, batch_size=64, cycle=True, max_batches=2500)):\n",
        "    # YOUR CODE HERE\n",
        "    batch['lm'] = batch['word']\n",
        "    \n",
        "    loss_t, _ = sess.run([multitask_trainer_v3.loss, multitask_trainer_v3.step], \n",
        "                         {multitask_trainer_v3.ph[key]: batch[key] for key in multitask_trainer_v3.ph})\n",
        "    loss_history.append(loss_t)\n",
        "    \n",
        "    if len(loss_history) % 100 == 0:\n",
        "        precision, recall, f1 = compute_stats_v3(multitask_trainer_v3, dev_data, vocabs, batch_size=64, verbose=True)\n",
        "        dev_stats_history.precision.append(precision)\n",
        "        dev_stats_history.recall.append(recall)\n",
        "        dev_stats_history.f1.append(f1)\n",
        "\n",
        "        _, _, f1 = compute_stats_v3(multitask_trainer_v3, test_outdomain_data, vocabs, batch_size=64, verbose=True)\n",
        "        outdomain_stats_history.f1.append(f1)\n",
        "        \n",
        "        _, _, f1 = compute_stats_v3(multitask_trainer_v3, test_indomain_data, vocabs, batch_size=64, verbose=True)\n",
        "        indomain_stats_history.f1.append(f1)\n",
        "        \n",
        "        clear_output(True)\n",
        "        plt.figure(figsize=[12, 6])\n",
        "        plt.subplot(1, 2, 1)\n",
        "        plt.plot(loss_history)\n",
        "        plt.title('train loss'), plt.grid()\n",
        "        plt.subplot(1, 2, 2)\n",
        "        \n",
        "        plt.plot(np.arange(1, len(dev_stats_history.f1) + 1) * eval_every, dev_stats_history.f1, label=\"dev f1\")\n",
        "        plt.plot(np.arange(1, len(outdomain_stats_history.f1) + 1) * eval_every, outdomain_stats_history.f1, label=\"outdomain f1\")\n",
        "        plt.plot(np.arange(1, len(indomain_stats_history.f1) + 1) * eval_every, indomain_stats_history.f1, label=\"indomain f1\")\n",
        "        \n",
        "        plt.title('dev stats %'), plt.grid()\n",
        "        plt.show()"
      ],
      "execution_count": 60,
      "outputs": [
        {
          "output_type": "display_data",
          "data": {
            "image/png": "[encoded data removed]",
            "text/plain": [
              "<matplotlib.figure.Figure at 0x7f7b29e90240>"
            ]
          },
          "metadata": {
            "tags": []
          }
        },
        {
          "output_type": "stream",
          "text": [
            "1108it [50:56,  4.11s/it]"
          ],
          "name": "stderr"
        },
        {
          "output_type": "error",
          "ename": "KeyboardInterrupt",
          "evalue": "ignored",
          "traceback": [
            "\u001b[0;31m---------------------------------------------------------------------------\u001b[0m",
            "\u001b[0;31mKeyboardInterrupt\u001b[0m                         Traceback (most recent call last)",
            "\u001b[0;32m<ipython-input-60-263f81a24be4>\u001b[0m in \u001b[0;36m<module>\u001b[0;34m()\u001b[0m\n\u001b[1;32m      4\u001b[0m \u001b[0;34m\u001b[0m\u001b[0m\n\u001b[1;32m      5\u001b[0m     loss_t, _ = sess.run([multitask_trainer_v3.loss, multitask_trainer_v3.step], \n\u001b[0;32m----> 6\u001b[0;31m                          {multitask_trainer_v3.ph[key]: batch[key] for key in multitask_trainer_v3.ph})\n\u001b[0m\u001b[1;32m      7\u001b[0m     \u001b[0mloss_history\u001b[0m\u001b[0;34m.\u001b[0m\u001b[0mappend\u001b[0m\u001b[0;34m(\u001b[0m\u001b[0mloss_t\u001b[0m\u001b[0;34m)\u001b[0m\u001b[0;34m\u001b[0m\u001b[0;34m\u001b[0m\u001b[0m\n\u001b[1;32m      8\u001b[0m \u001b[0;34m\u001b[0m\u001b[0m\n",
            "\u001b[0;32m/usr/local/lib/python3.6/dist-packages/tensorflow/python/client/session.py\u001b[0m in \u001b[0;36mrun\u001b[0;34m(self, fetches, feed_dict, options, run_metadata)\u001b[0m\n\u001b[1;32m    927\u001b[0m     \u001b[0;32mtry\u001b[0m\u001b[0;34m:\u001b[0m\u001b[0;34m\u001b[0m\u001b[0;34m\u001b[0m\u001b[0m\n\u001b[1;32m    928\u001b[0m       result = self._run(None, fetches, feed_dict, options_ptr,\n\u001b[0;32m--> 929\u001b[0;31m                          run_metadata_ptr)\n\u001b[0m\u001b[1;32m    930\u001b[0m       \u001b[0;32mif\u001b[0m \u001b[0mrun_metadata\u001b[0m\u001b[0;34m:\u001b[0m\u001b[0;34m\u001b[0m\u001b[0;34m\u001b[0m\u001b[0m\n\u001b[1;32m    931\u001b[0m         \u001b[0mproto_data\u001b[0m \u001b[0;34m=\u001b[0m \u001b[0mtf_session\u001b[0m\u001b[0;34m.\u001b[0m\u001b[0mTF_GetBuffer\u001b[0m\u001b[0;34m(\u001b[0m\u001b[0mrun_metadata_ptr\u001b[0m\u001b[0;34m)\u001b[0m\u001b[0;34m\u001b[0m\u001b[0;34m\u001b[0m\u001b[0m\n",
            "\u001b[0;32m/usr/local/lib/python3.6/dist-packages/tensorflow/python/client/session.py\u001b[0m in \u001b[0;36m_run\u001b[0;34m(self, handle, fetches, feed_dict, options, run_metadata)\u001b[0m\n\u001b[1;32m   1150\u001b[0m     \u001b[0;32mif\u001b[0m \u001b[0mfinal_fetches\u001b[0m \u001b[0;32mor\u001b[0m \u001b[0mfinal_targets\u001b[0m \u001b[0;32mor\u001b[0m \u001b[0;34m(\u001b[0m\u001b[0mhandle\u001b[0m \u001b[0;32mand\u001b[0m \u001b[0mfeed_dict_tensor\u001b[0m\u001b[0;34m)\u001b[0m\u001b[0;34m:\u001b[0m\u001b[0;34m\u001b[0m\u001b[0;34m\u001b[0m\u001b[0m\n\u001b[1;32m   1151\u001b[0m       results = self._do_run(handle, final_targets, final_fetches,\n\u001b[0;32m-> 1152\u001b[0;31m                              feed_dict_tensor, options, run_metadata)\n\u001b[0m\u001b[1;32m   1153\u001b[0m     \u001b[0;32melse\u001b[0m\u001b[0;34m:\u001b[0m\u001b[0;34m\u001b[0m\u001b[0;34m\u001b[0m\u001b[0m\n\u001b[1;32m   1154\u001b[0m       \u001b[0mresults\u001b[0m \u001b[0;34m=\u001b[0m \u001b[0;34m[\u001b[0m\u001b[0;34m]\u001b[0m\u001b[0;34m\u001b[0m\u001b[0;34m\u001b[0m\u001b[0m\n",
            "\u001b[0;32m/usr/local/lib/python3.6/dist-packages/tensorflow/python/client/session.py\u001b[0m in \u001b[0;36m_do_run\u001b[0;34m(self, handle, target_list, fetch_list, feed_dict, options, run_metadata)\u001b[0m\n\u001b[1;32m   1326\u001b[0m     \u001b[0;32mif\u001b[0m \u001b[0mhandle\u001b[0m \u001b[0;32mis\u001b[0m \u001b[0;32mNone\u001b[0m\u001b[0;34m:\u001b[0m\u001b[0;34m\u001b[0m\u001b[0;34m\u001b[0m\u001b[0m\n\u001b[1;32m   1327\u001b[0m       return self._do_call(_run_fn, feeds, fetches, targets, options,\n\u001b[0;32m-> 1328\u001b[0;31m                            run_metadata)\n\u001b[0m\u001b[1;32m   1329\u001b[0m     \u001b[0;32melse\u001b[0m\u001b[0;34m:\u001b[0m\u001b[0;34m\u001b[0m\u001b[0;34m\u001b[0m\u001b[0m\n\u001b[1;32m   1330\u001b[0m       \u001b[0;32mreturn\u001b[0m \u001b[0mself\u001b[0m\u001b[0;34m.\u001b[0m\u001b[0m_do_call\u001b[0m\u001b[0;34m(\u001b[0m\u001b[0m_prun_fn\u001b[0m\u001b[0;34m,\u001b[0m \u001b[0mhandle\u001b[0m\u001b[0;34m,\u001b[0m \u001b[0mfeeds\u001b[0m\u001b[0;34m,\u001b[0m \u001b[0mfetches\u001b[0m\u001b[0;34m)\u001b[0m\u001b[0;34m\u001b[0m\u001b[0;34m\u001b[0m\u001b[0m\n",
            "\u001b[0;32m/usr/local/lib/python3.6/dist-packages/tensorflow/python/client/session.py\u001b[0m in \u001b[0;36m_do_call\u001b[0;34m(self, fn, *args)\u001b[0m\n\u001b[1;32m   1332\u001b[0m   \u001b[0;32mdef\u001b[0m \u001b[0m_do_call\u001b[0m\u001b[0;34m(\u001b[0m\u001b[0mself\u001b[0m\u001b[0;34m,\u001b[0m \u001b[0mfn\u001b[0m\u001b[0;34m,\u001b[0m \u001b[0;34m*\u001b[0m\u001b[0margs\u001b[0m\u001b[0;34m)\u001b[0m\u001b[0;34m:\u001b[0m\u001b[0;34m\u001b[0m\u001b[0;34m\u001b[0m\u001b[0m\n\u001b[1;32m   1333\u001b[0m     \u001b[0;32mtry\u001b[0m\u001b[0;34m:\u001b[0m\u001b[0;34m\u001b[0m\u001b[0;34m\u001b[0m\u001b[0m\n\u001b[0;32m-> 1334\u001b[0;31m       \u001b[0;32mreturn\u001b[0m \u001b[0mfn\u001b[0m\u001b[0;34m(\u001b[0m\u001b[0;34m*\u001b[0m\u001b[0margs\u001b[0m\u001b[0;34m)\u001b[0m\u001b[0;34m\u001b[0m\u001b[0;34m\u001b[0m\u001b[0m\n\u001b[0m\u001b[1;32m   1335\u001b[0m     \u001b[0;32mexcept\u001b[0m \u001b[0merrors\u001b[0m\u001b[0;34m.\u001b[0m\u001b[0mOpError\u001b[0m \u001b[0;32mas\u001b[0m \u001b[0me\u001b[0m\u001b[0;34m:\u001b[0m\u001b[0;34m\u001b[0m\u001b[0;34m\u001b[0m\u001b[0m\n\u001b[1;32m   1336\u001b[0m       \u001b[0mmessage\u001b[0m \u001b[0;34m=\u001b[0m \u001b[0mcompat\u001b[0m\u001b[0;34m.\u001b[0m\u001b[0mas_text\u001b[0m\u001b[0;34m(\u001b[0m\u001b[0me\u001b[0m\u001b[0;34m.\u001b[0m\u001b[0mmessage\u001b[0m\u001b[0;34m)\u001b[0m\u001b[0;34m\u001b[0m\u001b[0;34m\u001b[0m\u001b[0m\n",
            "\u001b[0;32m/usr/local/lib/python3.6/dist-packages/tensorflow/python/client/session.py\u001b[0m in \u001b[0;36m_run_fn\u001b[0;34m(feed_dict, fetch_list, target_list, options, run_metadata)\u001b[0m\n\u001b[1;32m   1317\u001b[0m       \u001b[0mself\u001b[0m\u001b[0;34m.\u001b[0m\u001b[0m_extend_graph\u001b[0m\u001b[0;34m(\u001b[0m\u001b[0;34m)\u001b[0m\u001b[0;34m\u001b[0m\u001b[0;34m\u001b[0m\u001b[0m\n\u001b[1;32m   1318\u001b[0m       return self._call_tf_sessionrun(\n\u001b[0;32m-> 1319\u001b[0;31m           options, feed_dict, fetch_list, target_list, run_metadata)\n\u001b[0m\u001b[1;32m   1320\u001b[0m \u001b[0;34m\u001b[0m\u001b[0m\n\u001b[1;32m   1321\u001b[0m     \u001b[0;32mdef\u001b[0m \u001b[0m_prun_fn\u001b[0m\u001b[0;34m(\u001b[0m\u001b[0mhandle\u001b[0m\u001b[0;34m,\u001b[0m \u001b[0mfeed_dict\u001b[0m\u001b[0;34m,\u001b[0m \u001b[0mfetch_list\u001b[0m\u001b[0;34m)\u001b[0m\u001b[0;34m:\u001b[0m\u001b[0;34m\u001b[0m\u001b[0;34m\u001b[0m\u001b[0m\n",
            "\u001b[0;32m/usr/local/lib/python3.6/dist-packages/tensorflow/python/client/session.py\u001b[0m in \u001b[0;36m_call_tf_sessionrun\u001b[0;34m(self, options, feed_dict, fetch_list, target_list, run_metadata)\u001b[0m\n\u001b[1;32m   1405\u001b[0m     return tf_session.TF_SessionRun_wrapper(\n\u001b[1;32m   1406\u001b[0m         \u001b[0mself\u001b[0m\u001b[0;34m.\u001b[0m\u001b[0m_session\u001b[0m\u001b[0;34m,\u001b[0m \u001b[0moptions\u001b[0m\u001b[0;34m,\u001b[0m \u001b[0mfeed_dict\u001b[0m\u001b[0;34m,\u001b[0m \u001b[0mfetch_list\u001b[0m\u001b[0;34m,\u001b[0m \u001b[0mtarget_list\u001b[0m\u001b[0;34m,\u001b[0m\u001b[0;34m\u001b[0m\u001b[0;34m\u001b[0m\u001b[0m\n\u001b[0;32m-> 1407\u001b[0;31m         run_metadata)\n\u001b[0m\u001b[1;32m   1408\u001b[0m \u001b[0;34m\u001b[0m\u001b[0m\n\u001b[1;32m   1409\u001b[0m   \u001b[0;32mdef\u001b[0m \u001b[0m_call_tf_sessionprun\u001b[0m\u001b[0;34m(\u001b[0m\u001b[0mself\u001b[0m\u001b[0;34m,\u001b[0m \u001b[0mhandle\u001b[0m\u001b[0;34m,\u001b[0m \u001b[0mfeed_dict\u001b[0m\u001b[0;34m,\u001b[0m \u001b[0mfetch_list\u001b[0m\u001b[0;34m)\u001b[0m\u001b[0;34m:\u001b[0m\u001b[0;34m\u001b[0m\u001b[0;34m\u001b[0m\u001b[0m\n",
            "\u001b[0;31mKeyboardInterrupt\u001b[0m: "
          ]
        }
      ]
    },
    {
      "metadata": {
        "id": "VQIQFKpS-k8R",
        "colab_type": "code",
        "colab": {
          "base_uri": "https://localhost:8080/",
          "height": 68
        },
        "outputId": "b47b16d3-36f4-4b6b-b5da-330676c5cd00"
      },
      "cell_type": "code",
      "source": [
        "print(\"Best dev f1 = %.3f%%\" % max(dev_stats_history.f1),\n",
        "      \"\\nBest indomain f1 = %.3f%%\" % max(indomain_stats_history.f1),\n",
        "      \"\\nBest outdomain f1 = %.3f%%\" % max(outdomain_stats_history.f1))"
      ],
      "execution_count": 61,
      "outputs": [
        {
          "output_type": "stream",
          "text": [
            "Best dev f1 = 79.351% \n",
            "Best indomain f1 = 24.783% \n",
            "Best outdomain f1 = 60.879%\n"
          ],
          "name": "stdout"
        }
      ]
    },
    {
      "metadata": {
        "id": "Lt1yuLmF-n8B",
        "colab_type": "text"
      },
      "cell_type": "markdown",
      "source": [
        "Все таки чуть-чуть успел и как видно теория оправдалась и  это дало очень неплохой прирост качества"
      ]
    },
    {
      "metadata": {
        "id": "ZiADB-UhwQtW",
        "colab_type": "text"
      },
      "cell_type": "markdown",
      "source": [
        "## Domain adaptation via proxy-labels (2 points)"
      ]
    },
    {
      "metadata": {
        "id": "tlD8mzOOwQtX",
        "colab_type": "text"
      },
      "cell_type": "markdown",
      "source": [
        "As you can see above the quality of NER on the target domain (internet comments) is much worse than on the source domain (news). This is not surprising.\n",
        "\n",
        "To overcome the problem we offer you to implement any kind of proxy-label method. A good overview on this kind of methods can be found [here](https://arxiv.org/abs/1804.09530)\n",
        "\n",
        "__ATTENTION!!!__ For proxy-labeling use monolingual target-domain dataset (not testset!).\n",
        "\n",
        "Good luck!"
      ]
    },
    {
      "metadata": {
        "id": "M60fAqubwQtX",
        "colab_type": "code",
        "colab": {}
      },
      "cell_type": "code",
      "source": [
        ""
      ],
      "execution_count": 0,
      "outputs": []
    },
    {
      "metadata": {
        "id": "6_EETZL1htsl",
        "colab_type": "code",
        "colab": {}
      },
      "cell_type": "code",
      "source": [
        ""
      ],
      "execution_count": 0,
      "outputs": []
    }
  ]
}