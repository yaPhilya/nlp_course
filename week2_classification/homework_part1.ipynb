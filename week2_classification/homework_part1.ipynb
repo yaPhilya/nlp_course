{
 "cells": [
  {
   "cell_type": "code",
   "execution_count": 1,
   "metadata": {},
   "outputs": [],
   "source": [
    "import numpy as np\n",
    "import matplotlib.pyplot as plt\n",
    "%matplotlib inline"
   ]
  },
  {
   "cell_type": "markdown",
   "metadata": {},
   "source": [
    "### Homework part I: Prohibited Comment Classification (3 points)\n",
    "\n",
    "![img](https://github.com/yandexdataschool/nlp_course/raw/master/resources/banhammer.jpg)\n",
    "\n",
    "__In this notebook__ you will build an algorithm that classifies social media comments into normal or toxic.\n",
    "Like in many real-world cases, you only have a small (10^3) dataset of hand-labeled examples to work with. We'll tackle this problem using both classical nlp methods and embedding-based approach."
   ]
  },
  {
   "cell_type": "code",
   "execution_count": 2,
   "metadata": {},
   "outputs": [
    {
     "data": {
      "text/html": [
       "<div>\n",
       "<style scoped>\n",
       "    .dataframe tbody tr th:only-of-type {\n",
       "        vertical-align: middle;\n",
       "    }\n",
       "\n",
       "    .dataframe tbody tr th {\n",
       "        vertical-align: top;\n",
       "    }\n",
       "\n",
       "    .dataframe thead th {\n",
       "        text-align: right;\n",
       "    }\n",
       "</style>\n",
       "<table border=\"1\" class=\"dataframe\">\n",
       "  <thead>\n",
       "    <tr style=\"text-align: right;\">\n",
       "      <th></th>\n",
       "      <th>should_ban</th>\n",
       "      <th>comment_text</th>\n",
       "    </tr>\n",
       "  </thead>\n",
       "  <tbody>\n",
       "    <tr>\n",
       "      <th>50</th>\n",
       "      <td>0</td>\n",
       "      <td>\"Those who're in advantageous positions are th...</td>\n",
       "    </tr>\n",
       "    <tr>\n",
       "      <th>250</th>\n",
       "      <td>1</td>\n",
       "      <td>Fartsalot56 says f**k you motherclucker!!</td>\n",
       "    </tr>\n",
       "    <tr>\n",
       "      <th>450</th>\n",
       "      <td>1</td>\n",
       "      <td>Are you a fool? \\n\\nI am sorry, but you seem t...</td>\n",
       "    </tr>\n",
       "    <tr>\n",
       "      <th>650</th>\n",
       "      <td>1</td>\n",
       "      <td>I AM NOT A VANDAL!!!!!!!!!!!!!!!!!!!!!!!!!!!!!!</td>\n",
       "    </tr>\n",
       "    <tr>\n",
       "      <th>850</th>\n",
       "      <td>0</td>\n",
       "      <td>Citing sources\\n\\nCheck out the Wikipedia:Citi...</td>\n",
       "    </tr>\n",
       "  </tbody>\n",
       "</table>\n",
       "</div>"
      ],
      "text/plain": [
       "     should_ban                                       comment_text\n",
       "50            0  \"Those who're in advantageous positions are th...\n",
       "250           1          Fartsalot56 says f**k you motherclucker!!\n",
       "450           1  Are you a fool? \\n\\nI am sorry, but you seem t...\n",
       "650           1    I AM NOT A VANDAL!!!!!!!!!!!!!!!!!!!!!!!!!!!!!!\n",
       "850           0  Citing sources\\n\\nCheck out the Wikipedia:Citi..."
      ]
     },
     "execution_count": 2,
     "metadata": {},
     "output_type": "execute_result"
    }
   ],
   "source": [
    "import pandas as pd\n",
    "data = pd.read_csv(\"comments.tsv\", sep='\\t')\n",
    "\n",
    "texts = data['comment_text'].values\n",
    "target = data['should_ban'].values\n",
    "data[50::200]"
   ]
  },
  {
   "cell_type": "code",
   "execution_count": 3,
   "metadata": {},
   "outputs": [],
   "source": [
    "from sklearn.model_selection import train_test_split\n",
    "texts_train, texts_test, y_train, y_test = train_test_split(texts, target, test_size=0.5, random_state=42)"
   ]
  },
  {
   "cell_type": "markdown",
   "metadata": {},
   "source": [
    "__Note:__ it is generally a good idea to split data into train/test before anything is done to them.\n",
    "\n",
    "It guards you against possible data leakage in the preprocessing stage. For example, should you decide to select words present in obscene tweets as features, you should only count those words over the training set. Otherwise your algoritm can cheat evaluation."
   ]
  },
  {
   "cell_type": "markdown",
   "metadata": {},
   "source": [
    "### Preprocessing and tokenization\n",
    "\n",
    "Comments contain raw text with punctuation, upper/lowercase letters and even newline symbols.\n",
    "\n",
    "To simplify all further steps, we'll split text into space-separated tokens using one of nltk tokenizers."
   ]
  },
  {
   "cell_type": "code",
   "execution_count": 4,
   "metadata": {},
   "outputs": [
    {
     "name": "stdout",
     "output_type": "stream",
     "text": [
      "before: How to be a grown-up at work: replace \"fuck you\" with \"Ok, great!\".\n",
      "after: how to be a grown-up at work : replace \" fuck you \" with \" ok , great ! \" .\n"
     ]
    }
   ],
   "source": [
    "from nltk.tokenize import TweetTokenizer\n",
    "tokenizer = TweetTokenizer()\n",
    "preprocess = lambda text: ' '.join(tokenizer.tokenize(text.lower()))\n",
    "\n",
    "text = 'How to be a grown-up at work: replace \"fuck you\" with \"Ok, great!\".'\n",
    "print(\"before:\", text,)\n",
    "print(\"after:\", preprocess(text),)"
   ]
  },
  {
   "cell_type": "code",
   "execution_count": 5,
   "metadata": {},
   "outputs": [],
   "source": [
    "# task: preprocess each comment in train and test\n",
    "\n",
    "texts_train = np.array([preprocess(tweet) for tweet in texts_train])\n",
    "texts_test = np.array([preprocess(tweet) for tweet in texts_test])"
   ]
  },
  {
   "cell_type": "code",
   "execution_count": 7,
   "metadata": {},
   "outputs": [],
   "source": [
    "assert texts_train[5] ==  'who cares anymore . they attack with impunity .'\n",
    "assert texts_test[89] == 'hey todds ! quick q ? why are you so gay'\n",
    "assert len(texts_test) == len(y_test)"
   ]
  },
  {
   "cell_type": "markdown",
   "metadata": {},
   "source": [
    "### Solving it: bag of words\n",
    "\n",
    "![img](http://www.novuslight.com/uploads/n/BagofWords.jpg)\n",
    "\n",
    "One traditional approach to such problem is to use bag of words features:\n",
    "1. build a vocabulary of frequent words (use train data only)\n",
    "2. for each training sample, count the number of times a word occurs in it (for each word in vocabulary).\n",
    "3. consider this count a feature for some classifier\n",
    "\n",
    "__Note:__ in practice, you can compute such features using sklearn. Please don't do that in the current assignment, though.\n",
    "* `from sklearn.feature_extraction.text import CountVectorizer, TfidfVectorizer`"
   ]
  },
  {
   "cell_type": "code",
   "execution_count": 8,
   "metadata": {},
   "outputs": [],
   "source": [
    "from collections import Counter"
   ]
  },
  {
   "cell_type": "code",
   "execution_count": 10,
   "metadata": {},
   "outputs": [
    {
     "name": "stdout",
     "output_type": "stream",
     "text": [
      "example features: ['!', 'came', 'faggot', 'lets', 'punctuation', 'theoretical']\n"
     ]
    }
   ],
   "source": [
    "# task: find up to k most frequent tokens in texts_train,\n",
    "# sort them by number of occurences (highest first)\n",
    "\n",
    "k = 10000\n",
    "\n",
    "counter = Counter()\n",
    "for tweet in texts_train:\n",
    "    counter.update(tweet.split())\n",
    "\n",
    "bow_vocabulary = [row[0] for row in counter.most_common(k)]\n",
    "\n",
    "print('example features:', sorted(bow_vocabulary)[::1000])"
   ]
  },
  {
   "cell_type": "code",
   "execution_count": 11,
   "metadata": {},
   "outputs": [
    {
     "data": {
      "text/plain": [
       "5722"
      ]
     },
     "execution_count": 11,
     "metadata": {},
     "output_type": "execute_result"
    }
   ],
   "source": [
    "len(bow_vocabulary)"
   ]
  },
  {
   "cell_type": "code",
   "execution_count": 13,
   "metadata": {},
   "outputs": [
    {
     "data": {
      "text/plain": [
       "5722"
      ]
     },
     "execution_count": 13,
     "metadata": {},
     "output_type": "execute_result"
    }
   ],
   "source": [
    "len(counter.keys())"
   ]
  },
  {
   "cell_type": "code",
   "execution_count": 23,
   "metadata": {},
   "outputs": [],
   "source": [
    "token_to_ind = {t:i for i, t in enumerate(bow_vocabulary)}\n",
    "def text_to_bow(text):\n",
    "    \"\"\" convert text string to an array of token counts. Use bow_vocabulary. \"\"\"\n",
    "    cnt = Counter()\n",
    "    cnt.update(text.split())\n",
    "    bow = np.zeros_like(bow_vocabulary, 'float32')\n",
    "    for token, num in cnt.items():\n",
    "        if token in token_to_ind:\n",
    "            bow[token_to_ind[token]] = num\n",
    "    return bow"
   ]
  },
  {
   "cell_type": "code",
   "execution_count": 24,
   "metadata": {},
   "outputs": [],
   "source": [
    "X_train_bow = np.stack(list(map(text_to_bow, texts_train)))\n",
    "X_test_bow = np.stack(list(map(text_to_bow, texts_test)))"
   ]
  },
  {
   "cell_type": "code",
   "execution_count": 25,
   "metadata": {},
   "outputs": [
    {
     "data": {
      "text/plain": [
       "((500, 5722), (500, 5722))"
      ]
     },
     "execution_count": 25,
     "metadata": {},
     "output_type": "execute_result"
    }
   ],
   "source": [
    "X_train_bow.shape, X_test_bow.shape"
   ]
  },
  {
   "cell_type": "code",
   "execution_count": 26,
   "metadata": {},
   "outputs": [],
   "source": [
    "k_max = len(set(' '.join(texts_train).split()))\n",
    "assert X_train_bow.shape == (len(texts_train), min(k, k_max))\n",
    "assert X_test_bow.shape == (len(texts_test), min(k, k_max))\n",
    "assert np.all(X_train_bow[5:10].sum(-1) == np.array([len(s.split()) for s in  texts_train[5:10]]))\n",
    "assert len(bow_vocabulary) <= min(k, k_max)\n",
    "assert X_train_bow[6, bow_vocabulary.index('.')] == texts_train[6].split().count('.')"
   ]
  },
  {
   "cell_type": "markdown",
   "metadata": {},
   "source": [
    "Machine learning stuff: fit, predict, evaluate. You know the drill."
   ]
  },
  {
   "cell_type": "code",
   "execution_count": 27,
   "metadata": {},
   "outputs": [],
   "source": [
    "from sklearn.linear_model import LogisticRegression\n",
    "bow_model = LogisticRegression().fit(X_train_bow, y_train)"
   ]
  },
  {
   "cell_type": "code",
   "execution_count": 28,
   "metadata": {},
   "outputs": [
    {
     "data": {
      "image/png": "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\n",
      "text/plain": [
       "<Figure size 432x288 with 1 Axes>"
      ]
     },
     "metadata": {},
     "output_type": "display_data"
    }
   ],
   "source": [
    "from sklearn.metrics import roc_auc_score, roc_curve\n",
    "\n",
    "for name, X, y, model in [\n",
    "    ('train', X_train_bow, y_train, bow_model),\n",
    "    ('test ', X_test_bow, y_test, bow_model)\n",
    "]:\n",
    "    proba = model.predict_proba(X)[:, 1]\n",
    "    auc = roc_auc_score(y, proba)\n",
    "    plt.plot(*roc_curve(y, proba)[:2], label='%s AUC=%.4f' % (name, auc))\n",
    "\n",
    "plt.plot([0, 1], [0, 1], '--', color='black',)\n",
    "plt.legend(fontsize='large')\n",
    "plt.grid()"
   ]
  },
  {
   "cell_type": "markdown",
   "metadata": {},
   "source": [
    "### Task: implement TF-IDF features\n",
    "\n",
    "Not all words are equally useful. One can prioritize rare words and downscale words like \"and\"/\"or\" by using __tf-idf features__. This abbreviation stands for __text frequency/inverse document frequence__ and means exactly that:\n",
    "\n",
    "$$ feature_i = { Count(word_i \\in x) \\times { log {N \\over Count(word_i \\in D) + \\alpha} }} $$\n",
    "\n",
    "\n",
    ", where x is a single text, D is your dataset (a collection of texts), N is a total number of documents and $\\alpha$ is a smoothing hyperparameter (typically 1). \n",
    "And $Count(word_i \\in D)$ is the number of documents where $word_i$ appears.\n",
    "\n",
    "It may also be a good idea to normalize each data sample after computing tf-idf features.\n",
    "\n",
    "__Your task:__ implement tf-idf features, train a model and evaluate ROC curve. Compare it with basic BagOfWords model from above.\n",
    "\n",
    "Please don't use sklearn/nltk builtin tf-idf vectorizers in your solution :) You can still use 'em for debugging though."
   ]
  },
  {
   "cell_type": "code",
   "execution_count": 29,
   "metadata": {},
   "outputs": [
    {
     "data": {
      "text/plain": [
       "5722"
      ]
     },
     "execution_count": 29,
     "metadata": {},
     "output_type": "execute_result"
    }
   ],
   "source": [
    "idf = Counter()\n",
    "for tweet in texts_train:\n",
    "    idf.update(np.unique(tweet.split()))\n",
    "len(idf)"
   ]
  },
  {
   "cell_type": "code",
   "execution_count": 74,
   "metadata": {},
   "outputs": [],
   "source": [
    "# <YOUR CODE\n",
    "def text_to_tf_idf(text):\n",
    "    cnt = Counter()\n",
    "    cnt.update(text.split())\n",
    "    bow = np.zeros_like(bow_vocabulary, 'float32')\n",
    "    for token, num in cnt.items():\n",
    "        if token in token_to_ind:\n",
    "            bow[token_to_ind[token]] = (num / np.sum(list(cnt.values()))) * np.log(len(texts_train) / (idf.get(token) + 1))\n",
    "    return bow"
   ]
  },
  {
   "cell_type": "code",
   "execution_count": 91,
   "metadata": {},
   "outputs": [],
   "source": [
    "X_train_tfidf = np.stack(list(map(text_to_tf_idf, texts_train)))\n",
    "X_test_tfidf = np.stack(list(map(text_to_tf_idf, texts_test)))"
   ]
  },
  {
   "cell_type": "code",
   "execution_count": 92,
   "metadata": {},
   "outputs": [
    {
     "data": {
      "text/plain": [
       "((500, 5722), (500, 5722))"
      ]
     },
     "execution_count": 92,
     "metadata": {},
     "output_type": "execute_result"
    }
   ],
   "source": [
    "X_train_tfidf.shape, X_test_tfidf.shape"
   ]
  },
  {
   "cell_type": "code",
   "execution_count": 93,
   "metadata": {},
   "outputs": [],
<<<<<<< HEAD
   "source": [
    "tfidf_model = LogisticRegression().fit(X_train_tfidf, y_train)"
   ]
  },
  {
   "cell_type": "code",
   "execution_count": 94,
   "metadata": {},
   "outputs": [
    {
     "data": {
      "image/png": "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\n",
      "text/plain": [
       "<Figure size 432x288 with 1 Axes>"
      ]
     },
     "metadata": {},
     "output_type": "display_data"
    }
   ],
   "source": [
    "for name, X, y, model in [\n",
    "    ('train', X_train_tfidf, y_train, tfidf_model),\n",
    "    ('test ', X_test_tfidf, y_test, tfidf_model)\n",
    "]:\n",
    "    proba = model.predict_proba(X)[:, 1]\n",
    "    auc = roc_auc_score(y, proba)\n",
    "    plt.plot(*roc_curve(y, proba)[:2], label='%s AUC=%.4f' % (name, auc))\n",
    "\n",
    "plt.plot([0, 1], [0, 1], '--', color='black',)\n",
    "plt.legend(fontsize='large')\n",
    "plt.grid()"
   ]
  },
  {
   "cell_type": "markdown",
   "metadata": {},
   "source": [
    "Как видим качество на тесте увеличилось"
   ]
=======
   "source": []
>>>>>>> 9c973959a6ea87d94572fafa672c6e700e9bbdad
  },
  {
   "cell_type": "markdown",
   "metadata": {},
   "source": [
    "```\n",
    "\n",
    "```\n",
    "\n",
    "```\n",
    "\n",
    "```\n",
    "\n",
    "```\n",
    "\n",
    "```\n",
    "\n",
    "```\n",
    "\n",
    "```\n",
    "\n",
    "```\n",
    "\n",
    "```\n",
    "\n",
    "```\n",
    "\n",
    "```\n",
    "\n",
    "```\n",
    "\n",
    "```\n",
    "\n",
    "```\n",
    "\n",
    "```\n",
    "\n",
    "\n",
    "### Solving it better: word vectors\n",
    "\n",
    "Let's try another approach: instead of counting per-word frequencies, we shall map all words to pre-trained word vectors and average over them to get text features.\n",
    "\n",
    "This should give us two key advantages: (1) we now have 10^2 features instead of 10^4 and (2) our model can generalize to word that are not in training dataset.\n",
    "\n",
    "We begin with a standard approach with pre-trained word vectors. However, you may also try\n",
    "* training embeddings from scratch on relevant (unlabeled) data\n",
    "* multiplying word vectors by inverse word frequency in dataset (like tf-idf).\n",
    "* concatenating several embeddings\n",
    "    * call `gensim.downloader.info()['models'].keys()` to get a list of available models\n",
    "* clusterizing words by their word-vectors and try bag of cluster_ids\n",
    "\n",
    "__Note:__ loading pre-trained model may take a while. It's a perfect opportunity to refill your cup of tea/coffee and grab some extra cookies. Or binge-watch some tv series if you're slow on internet connection"
   ]
  },
  {
   "cell_type": "code",
   "execution_count": 95,
   "metadata": {
    "scrolled": false
   },
   "outputs": [
    {
     "name": "stdout",
     "output_type": "stream",
     "text": [
      "[==================================================] 100.0% 958.5/958.4MB downloaded\n"
     ]
    }
   ],
   "source": [
    "import gensim.downloader \n",
    "embeddings = gensim.downloader.load(\"fasttext-wiki-news-subwords-300\")\n",
    "\n",
    "# If you're low on RAM or download speed, use \"glove-wiki-gigaword-100\" instead. Ignore all further asserts."
   ]
  },
  {
   "cell_type": "code",
   "execution_count": null,
   "metadata": {},
   "outputs": [],
   "source": []
  },
  {
   "cell_type": "code",
   "execution_count": 118,
   "metadata": {},
   "outputs": [
    {
     "name": "stderr",
     "output_type": "stream",
     "text": [
      "/Users/ya-philya/anaconda3/lib/python3.6/site-packages/ipykernel_launcher.py:5: DeprecationWarning: Call to deprecated `wv` (Attribute will be removed in 4.0.0, use self instead).\n",
      "  \"\"\"\n"
     ]
    }
   ],
   "source": [
    "def vectorize_sum(comment):\n",
    "    \"\"\"\n",
    "    implement a function that converts preprocessed comment to a sum of token vectors\n",
    "    \"\"\"\n",
    "    embedding_dim = embeddings.wv.vectors.shape[1]\n",
    "    features = np.zeros([embedding_dim], dtype='float32')\n",
    "    \n",
    "    for word in comment.split():\n",
    "        if word in embeddings:\n",
    "            features += embeddings.get_vector(word)\n",
    "\n",
    "    return features\n",
    "\n",
    "assert np.allclose(\n",
    "    vectorize_sum(\"who cares anymore . they attack with impunity .\")[::70],\n",
    "    np.array([ 0.0108616 ,  0.0261663 ,  0.13855131, -0.18510573, -0.46380025])\n",
    ")"
   ]
  },
  {
   "cell_type": "code",
   "execution_count": 119,
   "metadata": {},
   "outputs": [
    {
     "name": "stderr",
     "output_type": "stream",
     "text": [
      "/Users/ya-philya/anaconda3/lib/python3.6/site-packages/ipykernel_launcher.py:5: DeprecationWarning: Call to deprecated `wv` (Attribute will be removed in 4.0.0, use self instead).\n",
      "  \"\"\"\n"
     ]
    }
   ],
   "source": [
    "X_train_wv = np.stack([vectorize_sum(text) for text in texts_train])\n",
    "X_test_wv = np.stack([vectorize_sum(text) for text in texts_test])"
   ]
  },
  {
   "cell_type": "code",
   "execution_count": 120,
   "metadata": {},
   "outputs": [
    {
     "data": {
      "image/png": "iVBORw0KGgoAAAANSUhEUgAAAXcAAAD8CAYAAACMwORRAAAABHNCSVQICAgIfAhkiAAAAAlwSFlzAAALEgAACxIB0t1+/AAAADl0RVh0U29mdHdhcmUAbWF0cGxvdGxpYiB2ZXJzaW9uIDIuMi4yLCBodHRwOi8vbWF0cGxvdGxpYi5vcmcvhp/UCwAAIABJREFUeJzs3XdYleUbwPHvy0iWDBcKKm4RzVGO3Ji5tTRngpPcmmn9zBlYZmiZKxepJZoryxxpliZqZuXEgQsRBFFQNqIIh+f3x5ETKOMABw5wns91ccE577rfI9685znPe9+KEAJJkiSpdDHSdwCSJEmS7snkLkmSVArJ5C5JklQKyeQuSZJUCsnkLkmSVArJ5C5JklQKyeQuSZJUCsnkLkmSVArJ5C5JklQKmejrwBUqVBA1atTI17aPHj3C0tJStwEVc/KcDYM8Z8NQkHM+e/bsQyFExdzW01tyr1GjBmfOnMnXtn5+fri6uuo2oGJOnrNhkOdsGApyzoqihGiznhyWkSRJKoVkcpckSSqFZHKXJEkqhWRylyRJKoVkcpckSSqFck3uiqJsVBQlUlGUy9ksVxRFWaEoSqCiKBcVRXlF92FKkiRJeaHNlft3QPcclvcA6j77GgusKXhYkiRJUkEo2rTZUxSlBrBfCNEoi2XrAD8hxLZnj68DrkKIeznts3nz5iI/89y3/nOHTX5XsLW11TwXY3ycOON/87yvkiQ1NRUTE73dlqAX8pwNQ2k7544XYmgdEJflsieqVJKSn0B1ezy2Hc/X/hVFOSuEaJ7berp4RR2B0AyPw54990JyVxRlLOqre+zt7fHz88vzwVZfPEqs9XkeGima556aBgHw0tNaed5fSSGEIDU1Vd9hFCl5zsVLp4uxtLmaoPP9CkDJda3Covse0g3CngAQXDXzWV2IfsSKa/ewNDZiblWbfOW/vNBFcs/q3yXLV0wI4QP4gPrKPT93aKXcXokR92hcJeObiHL0rNWTgfUG5nl/JYW8i690iNmxk/j9+7NdHhsbi62tTRFGpL2k0zcAsGjRQqf7VZ+zbe4r5ldaCiQ/90fpcQzE5zi4kH8VwdrpMQ26tgIg9lEK/9txhfXn71DH3pL177bAvLUHLQv5d1sXyT0MqJbhcVUgXAf7zZZpqgPfdv+2MA8hSVrLLWFnlHT6NKD7BFkULFq0wLp3b+wGD9LpfsN++5kmnAFVik73q/HP2uyXtZsOZta6PZ5iDI0HQdnKqFQq2rz8MtevhzJjxgy8vLwwNzcv9Kt20E1y3wtMVhRlO9AKiMttvF2SSgptEndeEnZuCfK2nx9NSuK7lSdxkPI453V+nghxYaBkfrPf9sG1/x6YFcK7FlNLsHeBnl9kft6iAthWy3qbAoqKiqKcEBgbG/PZZ59RrVo1mjfPdZhcp3JN7oqibANcgQqKooQBnoApgBBiLXAA6AkEAknAqMIKVipdckucdrGxhGzYWIQRvUibxF1YV7QlRmworGgKaVp+VuDyVqaHkZSjUs1G0H0RGJXsW2+EEHz//fdMnToVb29vxowZQ79+/fQSS67JXQjxTi7LBTBJZxFJpYKur3j1xeATd24irsAfC9SJvbkHVH5hQt1/FCOo3wusMlerDfDzo1JJfLfynNDQUMaPH8+BAwd47bXXaNu2rV7jKT3zj6QilVvy1sUVb4kdojAkV3bD9QNQ0RlaT4LytfUdkV5s27aNcePGoVKpWLZsGZMnT8bY2FivMcnkLmWpoMlbXvEagLCzcPec+op80j/6jkav7OzsaNWqFT4+PtSsWVPf4QAyuUvZiN+/nyfXrmHm7Jzlcpm8JfZNhYhLYFNd35EUudTUVJYuXcrTp0+ZM2cO3bt3p1u3biiK/mbsP08md+kFMTt2knT6NBYtWuC02Vff4UjPi74Njx4W3fFSH8OW/iAEGL/03/MpSeox9IGGNS3Z398fDw8Pzp49y6BBgxBCoChKsUrsIJO7QcjLPGz4b8jFunfvwgqp9Iu/B/5bIS0tT5s5Bd+GY6ezXyE5Hv5aUcDg8sm6KjTsm/m5hm+DSRn9xFPEkpOTWbBgAd7e3pQrV44ffviB/v37F7uknk4m91IkuySe11kpcshFBy58D398mufNagIEa7HiaxOhduc87z/fjE3BqY36u4G6efMmixYtYujQoXz11VeUL19e3yHlSCb3UiJmx07ue3oCLyZxmaz1QDy7Yp8bqb5jUUvHjh2jY8eOOa+kKGCk35kYhiIxMZE9e/bg5uZGo0aNuHbtGrVqlYwaVjK5l2AZr9TTr84rz58vk3hxYmSSp0QsjIzBWP63LA5+//13xo4dS0hICK+88goNGjQoMYkdZHIvsZ6/UpdX50XgSbx2d2Ee/xIu/VD48UiFIiYmhg8//JCNGzdSr149jh07RoMGDfQdVp7J5F7MZDdu/vyt+PJKvZDc84eowBefD/kLTq/P277avCeHT0oYlUpF27ZtuXHjBrNmzeLjjz/GzMxM32Hli0zuxUBWwyu5ffgpr9R16J4/nN4ACDiXy9TP9h+AlX3u+6zVCSrW00l4UuF7+PAh5cqVw9jYmIULF1K9enVeeaVkdwyVyb0I5OVuz+yStrwVv5DsmQznN6t/LlsFLMpD89Hwcha9AcxsoGzloo1PKlRCCDZv3sz777+Pt7c3Y8eOpW/fvrlvWALI5F5I8nI1Lq/C8yAmBG4d0d3+ru4Fu5rw2gRoNU53+5WKvZCQEMaNG8ehQ4do06YNHTp00HdIOiWTeyHJePu+TN4FEHwSTn+jvjsSIOBn3R+j5ViZ2A3Mli1bmDBhAkIIVq5cycSJEzEq4eWGnyeTeyEyc3aWt+9rK/q2uuFDBi3+nQR+YeoHFeo/+14PHF+FN7x0dGAFrCrpaF9SSVGxYkXatm3LunXrcHJy0nc4hUIm90KQsTaLlIv4e3Diyyxnolim//D2N+q2ZZKUTykpKSxZsoSUlBTmzZtHt27d6Nq1a7EtHaALMrkXgvSxdlmbRQvnfP9L7B0/gipNNYsuXb7My73HFU7rNclgnD9/Hg8PD86fP8+QIUOKbaEvXZPJvZBYtGghx9ifl/gAIgMyPxd9S/19buQLBaii7lvIxC7l25MnT/jkk09YvHgxFSpU4Mcff+Ttt9/Wd1hFRiZ3qej89C4E+b34fBlrg6ksKBWdwMBAvvzyS4YPH86SJUuws7PTd0hFSiZ3qfCcXg8Xtv73OPIaODSDrp9lXs/aoWjjkkqtxMREdu/ezbBhw2jUqBHXr18vNp2RippM7gWU1Q1KOXUwMihX98HDQKj27INlp9bQeAjU0G/jYKl0OnToEGPHjiU0NJTmzZvToEEDg03sIJN7gWXVjs7M2dkwP0wNPglXfvrv8YMbUMkZ3H/UX0xSqRcVFcX06dPx9fXF2dmZEydOlMhCX7omk7sOGNx89kdR6tZr6YSAH9+F0L/Vjy0yNDGo1rJoY5MMSnqhr8DAQObMmcPcuXNLbKEvXZPJPQ+yGoIxqPnsCRHw51L4Z0326/RdA02HFl1MkkF68OAB5cuXx9jYmEWLFuHk5ETTpk1z39CAyOSeB1kNwaSXFjAIGRN726lQvs5/yxRjqN8DLMrpJzbJIAgh+O6775g+fTre3t6MGzeOt956S99hFUsyuWsh/Yo9PbEbzBBMmgqCT8APIwFF3e3eojxMOg2Wxbt/pFT6BAcHM3bsWH7//Xfat29Pp06d9B1SsSaTey6e73hkMFfpIafgRw+Iv6t+XMkFqrVS13WRiV0qYps3b2bChAkoisLq1asZN25cqSv0pWsyuecifYzdYDoepTyBfe/BxR3/Pef2I9TuJLsKSXpjb29Phw4dWLt2LdWrV9d3OCWCTO5aMJhSAld2PxuCeabXEnhlBBib6i0kyTClpKSwePFiVCoVH3/8MV27dqVr1676DqtEkcldUgs6Bv8+K+DlOgtemwhm1vqNSTJI586dY/To0fj7+zN06FBNoS8pb7QatFIUpbuiKNcVRQlUFGVmFsurK4pyVFGU84qiXFQUpafuQ5UKRXIibB0Mvm9CyJ/qeukdP5KJXSpyjx8/ZubMmbRs2ZKIiAh2797N999/LxN7PuV65a4oijGwCugChAGnFUXZK4TIWN5vLrBTCLFGURQX4ABQoxDilXQpYC/sHPbf4/4b4OUB+otHMmhBQUF89dVXjBw5ki+++MLgCn3pmjbDMi2BQCFEEICiKNuBt4CMyV0A6Zd6NkC4LoOUdCD4T7j2S+bnwi+ov3f2hBbvyqt1qcjFx8fz66+/4urqSsOGDbl582ap7YxU1LRJ7o5AaIbHYUCr59bxAn5TFGUK6gY6b+gkOkl3/lwKt/6Al6wyP2//MrR5D4zlxy9S0Tpw4ADjx4/n7t27jBgxggYNGsjErkPa/I/OasBLPPf4HeA7IcQSRVFaA5sVRWkkhEjLtCNFGQuMBfXUJj8/vzwHnJqaihAiX9vmlfmJE1ifPs3TunW5XQTHy0liYmKBzrlxVBQmVnU49+oXLy488Wf+AytEBT3nksgQzjkuLo5Vq1bx+++/4+TkxKJFi4iIiCAiIkLfoRWZovh31ia5hwHVMjyuyovDLh5AdwAhxClFUcyACkBkxpWEED6AD0Dz5s2Fq6tr3gO+vZLU1FTys21ehWzYSBJQ3d2dJkVwvJz4+fnl/ZwTIuCYN6QmQ+p9sHYsktdNV/J1ziVcaT9nlUqFi4sLQUFBfPzxx8yePZtTp06V6nPOSlH8O2uT3E8DdRVFqQncBYYAz1eGugN0Br5TFKUBYAY80GWg+lJi57irUuDSTjizEawqq+eq1+yg76gkAxUREUHFihUxNjbmyy+/xMnJicaNG+s7rFIt16mQQohUYDJwCLiKelbMFUVRPlEU5c1nq30AjFEUxR/YBowUQjw/dCMVpQP/g9/mqn8ecwSmXYY3PPUbk2RwhBBs2LCB+vXr4+PjA0CfPn1kYi8CWn2KJoQ4gHp6Y8bnPs7wcwAg2+voy/Ev/pv5ki7sDJR1gL6rwKaqfuKSDFpQUBBjxozhjz/+oGPHjrzxhpxnUZTkFInS4OQKMDKBslX+e86ivLoEb+3X9ReXZLA2bdrExIkTMTY2Zu3atYwZM0YW+ipiMrmXFk2GQPfP9R2FJAHg4ODA66+/zpo1a6haVb5z1AeZ3EuyxAewdzI8TdR3JJKBe/r0Kd7e3qSlpeHl5UWXLl3o0qWLvsMyaPJ9Ukn1zzr4sg7c+BVMLaCu/I8k6cfp06d59dVX8fT0JCgoCDmXoniQyT0LMTt2EjJsOE+uXdN3KNl7eBNMzKHbQphxW46tS0UuKSmJDz/8kNdee42YmBj27t2Lr6+vLPRVTMjknoWMLfWKZeelX2fDlZ/A1BxaTwKTl/QdkWSAbt++zcqVKxkzZgxXrlyhT58++g5JykCOuT8nZsdOkk6fxqJFi+LZK/X0evh7lfrn1+fqNxbJ4MTFxfHTTz8xatQoGjZsSGBgINWqVct9Q6nIyeSeQcZ+qcXiil2VCkcXwOMY6oXfg6BFcOcvqFAf3HeBrWw3JhWdX375hXHjxnHv3j1at26Ns7OzTOzFmByWyaDY9UuNvqWu5nh5N+Wj/oWHN8CuBryzTSZ2qcg8ePAANzc3evfujZ2dHadOncLZ2VnfYUm5kFfuzylWtWTSZx30Wcaph+UMrriSpH8qlYp27dpx+/Zt5s+fz8yZM3npJfkZT0kgk3txFREAh730HYVkoO7fv0+lSpUwNjZmyZIl1KhRg0aNGuk7LCkP5LBMcfQkHs5sgJuHoPLL6i9JKgJpaWmsW7eOevXqsW7dOgB69+4tE3sJJK/ci6MdbnD7OBiXgbHHwMgYdbVlSSo8gYGBjBkzBj8/P15//XW6deum75CkApDJXZ/S0mD/VIh7LnHfPQ9VmkKf5c8SuyQVrm+//ZaJEyfy0ksv8c033+Dh4SFvRirhZHLXlzQVBB2Fc75gUw2s7P9bVrE+vDoSHJrqLTzJsFSvXp1u3bqxatUqHB0d9R2OpAMyuetD2Fn4ebx6aiOA60xo5q7fmCSDkpyczOeff05aWhqffPIJnTt3pnPnzvoOS9IhmdyLghCQkqT+vmcSBPz83zL3n2T7O6lI/fPPP3h4eHDlyhVGjBiBEEIOwZRCMrmjvjM1Yz0Znbp/GXaPh4hLmZ/v9RW08NDtsSQpB48ePWLevHksW7YMR0dH9u/fT69evfQdllRIZHKnkAqFPYmHE1/CyeX/PdflE3XHpJcHgVVF3RxHkrQUEhLC6tWrGT9+PN7e3lhbW+s7JKkQGXxyL7RCYXf+Vid245eg9WRoOxXMbXW3f0nSQmxsLLt27eLdd9/FxcWFwMBA2RnJQBh0ci+0QmEJ9yHIT/3z6F/B8VXd7VuStLRnzx4mTJhAZGQk7dq1w9nZWSZ2A2LQd6gWWqGwY4ufleVVwLyc7vYrSVqIjIxkyJAh9O3bl4oVK/L333/LQl8GyKCv3KGQCoWpktXz1if8BZYVdLtvScqBSqWibdu23LlzhwULFjBjxgxMTU31HZakBwaf3AuNkYlM7FKRCQ8Pp3LlyhgbG7N8+XJq1KiBi4uLvsOS9Migh2UKxbEv4JafvqOQDERaWhpr1qzB2dmZtWvXAtCzZ0+Z2CWZ3HVGCIi4op4hk/oYGvbTd0RSKXfjxg06derExIkTadWqFT169NB3SFIxIpO7rty/CGvawNMEeGUEdPtM3xFJpdiGDRto0qQJFy9eZOPGjfz222/UrFlT32FJxYhBjrnr/I7UwCPwu3pKJV0+heajC75PScpBjRo16NGjB6tWraJKlSr6DkcqhgwuuWec227RokXB57dHB8Hp9RAZAPV7QlM3KGOlg0gl6T/Jycl8+umnACxYsEAW+pJyZXDJXedz27cOVld3tKmmblwtSTr2119/4eHhwbVr1xg9erQs9CVpxSDH3HU6t/1pEtTrDu8e0c3+JOmZxMREpk6dSrt27UhKSuLXX39lw4YNMrFLWtEquSuK0l1RlOuKogQqijIzm3UGKYoSoCjKFUVRtuo2zGLOogKUtc99PUnKgzt37rBu3TomTZrE5cuXZds7KU9yTe6KohgDq4AegAvwjqIoLs+tUxeYBbQVQjQE3i+EWAssvUiYJBVXCQkJ+Pj4AODi4kJQUBArV66kbNmyeo5MKmm0GXNvCQQKIYIAFEXZDrwFBGRYZwywSggRAyCEiNR1oLqQPt6u0yJhkqQju3fv5t133yUuLo6OHTtSv359HBwc9B2WVEJpk9wdgdAMj8OAVs+tUw9AUZSTgDHgJYT49fkdKYoyFhgLYG9vj5+fX54DTk1NRQiRr23tYmOhbl387StBPrbPymvJT4i5f4/rOtpfdhITE/N1ziWZoZxzdHQ0K1as4NixY9SqVYvPP/+ce/fuce/ePX2HViQM5d85o6I4Z22Se1af3ogs9lMXcAWqAicURWkkhIjNtJEQPoAPQPPmzYWrq2te48Xk9kpSU1PJz7YhGzYC0CQf22brnBlVKlehii73mQU/P798nXNJZgjnrFKpcHZ2JjQ0lIULF9KiRQveeOMNfYdVpAzh3/l5RXHO2nygGgZUy/C4KhCexTp7hBApQojbwHXUyb70SnwAS1+G+LCs//xJUg7CwsJIS0vD2NiYFStWcOHCBWbNmoWJicHNTpYKiTbJ/TRQV1GUmoqivAQMAfY+t87PQCcARVEqoB6mCdJloMVOfBjE3VHfuNRijL6jkUqItLQ0Vq5cibOzM2vWrAGgR48est66pHO5JnchRCowGTgEXAV2CiGuKIryiaIobz5b7RAQpShKAHAU+J8QIqqwgi5WXhkODk31HYVUAly7do0OHTrw3nvv0a5dO3rLD/alQqTVe0AhxAHgwHPPfZzhZwFMf/YlSdJz1q9fz+TJk7GwsGDTpk0MGzZM3owkFSo5wCdJRaB27dr06dOHr7/+Gnt7ecObVPhkcpekQvDkyRM++eQTABYuXEinTp3o1KmTnqOSDIlB1paRpMJ08uRJmjZtyueff86DBw9Qj1pKUtGSyV2SdCQhIYEpU6bQvn17kpOTOXToEN98840cW5f0QiZ3SdKRsLAw1q9fz5QpU7h06RJdu3bVd0iSAZNj7pJUAFFRUezcuZMJEybQoEEDgoKCZGckqViQV+6SlA9CCHbt2oWLiwvvvfce169fB5CJXSo2ZHLPj4C9sLnfswdyPNXQ3Lt3j/79+zNw4ECqVavGmTNnqF+/vr7DkqRMDGJYRucNse/5w+MYaDMFnFoXfH9SiaFSqWjfvj13795l8eLFTJs2TdaDkYolg/itzJjYC1zL/e+1cHkXKMbQdYFuApSKvdDQUBwdHTE2NmbVqlXUrFmTevXq6TssScqWwQzLmDk747TZt+C9U89shMex0PQd3QQmFWsqlYoVK1ZkKvTVrVs3mdilYs8grtx1rpYrvLVK31FIhezq1at4eHhw6tQpevToQZ8+ffQdkiRpzWCu3HVClQIiTd9RSEXAx8eHpk2bcuPGDTZv3swvv/xC9erV9R2WJGlNJndtpDwG/x3waQWIuglG8g1PaVe3bl369etHQEAA7u7u8i5TqcSRWUobZzfBrx+pf67RHjrO0G88ks49fvwYLy8vFEXB29tbFvqSSjx55a6NlCT193HHYcQ+qCjnNJcmx48fp0mTJixevJi4uDhZ6EsqFWRyz82DG+p57QAV6oN8e15qxMfHM3HiRDp27IhKpeLIkSOsWbNGDsFIpUKpT+4xO3aSdPp03jdMS4PfPWFVCwj4Gcxs5Fh7KRMeHs53333H9OnTuXjxIq+//rq+Q5IknSn12Sp+/36AvN+8lHgfTi4DM1to9DZ09gTjUv9ylXoPHz5k586dTJw4EWdnZ27fvi07I0mlUqm/cgewaNEi/zcvdZkPvZeCua1ug5KKlBCCHTt24OLiwvvvv8+NGzcAZGKXSi2DSO6SYQsPD6dv374MGTIEJycnzp49K+8wlUo9Oc4glWoqlYoOHTpw9+5dvvzyS6ZOnSoLfUkGoVT/lqd/mGrRooW+Q5GKWEhICFWrVsXY2JjVq1dTq1Yt6tSpo++wJKnIlOphmXx/mCqVWCqViq+++ooGDRpoCn117dpVJnbJ4JTqK3co4IepUoly+fJlPDw8+Pfff+nduzd9+/bVd0iSpDelPrnn2e0TcONXeJqo70ikPFi7di3vvfceNjY2bN26lSFDhsibkSSDJpP78058CUHHwNRCPce9gpxVUZwJIVAUhQYNGjBw4ECWLVtGxYoV9R2WJOmdTO4Aqclw83dQJUNCBFR/DUb/qu+opBwkJSXx8ccfY2xszKJFi+jYsSMdO3bUd1iSVGyU2g9U81R24Oo+2OEGu0bDg6tgXq5wg5MKxM/Pj8aNG7NkyRISExNloS9JykKpvXLP00yZ1GT192E/g7UD2MqmDMVRXFwcM2bMwMfHh9q1a/PHH3/IsrySlA2trtwVRemuKMp1RVECFUWZmcN6AxRFEYqiNNddiHkTs2MnIcOG8+TatbzPlClXS13O19S88AKU8u3evXts2bKFDz/8kIsXL8rELkk5yPXKXVEUY2AV0AUIA04rirJXCBHw3HplgfeAfwojUG3F79/Pk2vXMHN2lvPbS4EHDx6wfft2pkyZgrOzM8HBwfIDU0nSgjbDMi2BQCFEEICiKNuBt4CA59b7FFgMfKjTCPPBzNkZp82+2q38NAli7xRuQFKeCSE4fPgwAwYMID4+nm7dulGvXj2Z2CVJS9oMyzgCoRkehz17TkNRlGZANSHEfh3GVjR+mQ7HvNU/y+GYYiE0NJQ+ffrw2WefUadOHc6fPy8LfUlSHmlz5Z7VnSCa6QmKohgBS4GRue5IUcYCY0FdatXPz0+rIDNKTU1FCIGfnx/mJ05g9m/mGTEmYWGkVq3KbS333SjsFpZm9lxt8AHxZwJ48Q1J8ZCYmJiv16ukUalUDB8+nOjoaN59912GDBnCgwcPDOLcwXD+nTOS51w4tEnuYUC1DI+rAuEZHpcFGgF+z+4IrAzsVRTlTSHEmYw7EkL4AD4AzZs3F66urnkP+PZKUlNTcXV1JWTDRp7cv4+Zs/N/K9jaYt27N0203fe9dWD6mFfeGpfnWIqSn58f+Xm9Sorg4GCqVauGsbExmzZtolatWty5c6dUn3NWSvu/c1bkORcObZL7aaCuoig1gbvAEGBo+kIhRBxQIf2xoih+wIfPJ/bCkqfxdanYSU1NZdmyZcybN4/FixczZcoU3njjDQDu3JGfhUhSfuWa3IUQqYqiTAYOAcbARiHEFUVRPgHOCCH2FnaQUul08eJFPDw8OHPmDG+99Rb9+/cv0P7i4+OJjIwkJSVFRxEWPRsbG65evarvMIqUPOfMTE1NqVSpEtbW1gU6hlY3MQkhDgAHnnvu42zWdS1QREUp/AIk3Nd3FAZp9erVTJ06FTs7O3bs2MHAgQMLVOgrPj6eiIgIHB0dMTc3L7FFwxISEihbtqy+wyhS8pz/I4Tg8ePH3L17F6BACb7Ulh/IVVoabOgK4efUBcKkIpFeKqBRo0YMGTKEgIAABg0aVOBkHBkZiaOjIxYWFiU2sUuSoihYWFjg6OhIZGRkgfZVassP5E6oC4U191A3wZYK1aNHj5g7dy4mJiZ88cUXdOjQgQ4dOuhs/ykpKZiby6msUulgbm5e4OFFw7xyT02Gyz+pfy5bGcoY1lvConbkyBFefvllli1bRnJycqEV+pJX7FJpoYvfZcNM7rf+gJ/eVf9sKe94LCyxsbG8++67vPHGG5iYmHD8+HFWrFhhkEm4Ro0aHD58WN9h5JmVlRVBQUH6DkPKB8NM7ulVIIfvgVdH6jWU0iwiIoLt27fz0Ucf4e/vT/v27fUdksHw8/OjatWqBd5PYmIitWrVyvf2jx49wsrKip49e76wTFEUAgMDMz3n5eWFu7u75nF8fDzvv/8+1atXx8rKijp16vD+++/z8OHDPMXx9ddf07x5c8qUKcPIkSNzXX/p0qVUrlwZGxsbRo8eTXJysmZZcHAwnTp1wsLCAmdn5xf+aGuzrb29fZbb6pJhJvd0lpXAAK8iC1OezTX8AAAgAElEQVRERATLly8HoH79+gQHB+Pt7S3Hw4uh1NTUQj/Grl27KFOmDL/99hv37t3L07ZPnz6lc+fOXLlyhV9//ZX4+Hj++usvypcvz7///punfTk4ODB37lxGjx6d67qHDh3C29ubI0eOEBwcTFBQEJ6enprl77zzDs2aNSMqKorPPvuMAQMG8ODBgzxtGxwc/MK2umZ4yf3GIfjzK31HUeoIIdiyZQsuLi7MmDGDmzdvAlChQoVctjQcp0+fxsXFBTs7O0aNGsWTJ080y7755hvq1KlD9erVefPNNwkPV98E7unpyZQpUwD1h8aWlpbMmDEDgMePH2NmZkZMTEym4zx69IgePXoQHh6OlZUVVlZWhIeH4+XlxYABA3B3d8fa2prvvvuOf//9l9atW2Nra0uVKlWYPHkyT58+1ewr49X1yJEjmTRpEr169aJs2bK0atWKW7du5XjOmzZtYvz48TRu3Jjvv/8+T6+Xr68vd+7cYffu3bi4uGBkZESlSpWYN29elu8EcvL222/Tt29fypcvn+u6mzZtwsPDg4YNG2JnZ8e8efP47rvvALhx4wbnzp1j/vz5mJub079/f15++WV+/PHHAm+ra4aX3C/9AJFXoVYn2ZRDR+7cuUOvXr0YNmwY9evX58KFC9StW1ffYRU733//PYcOHeLWrVvcuHGDBQsWAPDHH38wa9Ysdu7cyc2bN3FycmLIkCEAdOzYUVOD5PTp01SuXJljx44BcOrUKerXr4+dnV2m41haWnLw4EEcHBxITEwkMTERBwcHAPbs2cOAAQOIjY3Fzc0NY2Njli5dysOHDzl16hRHjhxh9erV2Z7Dtm3b8PT0JCYmhjp16jBnzpxs171z5w5+fn64ubnh5uaGr2/e7iQ/fPgw3bt3x8rKKtt1evfuja2tbZZfvfNZ8vvKlSs0adJE87hJkyZEREQQFRXFlStXqFWrVqY56k2aNOHKlSsF3lbXDHMqpE1VGP6zvqMoFdLr/ERGRrJixQomTpyIsbGxvsNi/r4rBITHF+oxXBys8ezTUOv1J0+eTLVq6jJNc+bMYcqUKSxYsIDvv/+e0aNH88orr5CQkMDnn3+OnZ0dwcHBtG7dmps3bxIVFcXx48fx8PBg9erVJCYmcuzYsTz3jW3dujV9+/YF1NPtXn31Vc2yGjVqMG7cOI4dO8b777+f5fZvv/02LVu2BMDNzY3p06dneyxfX18aN26Mi4sLtra2zJgxg/Pnz9OsWTOtYo2KisoUX1b279d9IdrExERsbGw0j9N/TkhIeGFZ+vL0m44Ksq2uGd6Vu6QTQUFBqFQqTExM+Oabb7h8+TJTpkwpFom9uEpP7ABOTk6aoZfw8HCcnJw0y6ysrChfvjx3797F3Nyc5s2bc+zYMY4fP07Hjh1p06YNJ0+ezFdyzxgDqIcKevfuTeXKlbG2tmb27Nk5flhZuXJlzc8WFhYkJiZmu66vry9ubm6Aesy7Y8eObNq0SbPc2Nj4hbncKSkpmJqaAlC+fPk8j9PrgpWVFfHx/10YpP9ctmzZF5alL0+/Gi/ItrpmGFfuaWkQ8qe6MUd8eO7rS9lKTU1lyZIleHp6snjxYt577z06d+6s77BekJcr6qISGvpfW4Q7d+5ohkocHBwICQnRLHv06BFRUVE4OqrbJnTs2JE//viD8+fP06JFCzp27MihQ4f4999/s70RLLvpps8/P2HCBJo1a8a2bdsoW7Ysy5YtY9euXQU6T4C//vqLmzdv8vnnn7NkyRJAffV65coVvvzyS0xMTKhevTrBwcGZZvXcvn1bU7v/jTfeYO7cuTx69AhLS8ssj9OjRw9OnDiR5bL27dtz8ODBPMfesGFD/P39GTRI3aLT398fe3t7ypcvT8OGDQkKCspUPsDf35+hQ4fmadt0GbfVNcO4cr9zCjb1gW2DIeQkmNnkvo30ggsXLtCqVStmzpxJz549GThwoL5DKlFWrVpFWFgY0dHRLFy4kMGDBwMwdOhQvv32Wy5cuEBycjKzZ8+mVatW1KhRA1And19fX1xcXHjppZdwdXVl/fr11KxZM9vOVPb29kRFRREXF5djTAkJCVhbW2NlZcW1a9dYs2aNTs5106ZNdOnShYCAAC5cuMCFCxe4fPkySUlJmoQ7ePBgFixYwN27d0lLS+Pw4cPs27ePAQMGADBs2DCqVatG//79uXbtGmlpaURFRbFw4UIOHFCXujp48KDmc4XnvzIm9tTUVJ48eYJKpUKlUvHkyZNsZwsNHz6cDRs2EBAQQExMDAsWLNBMn6xXrx5NmzZl/vz5PHnyhN27d3Px4kVN0buCbKtzQgi9fL366qsiP1pufFu84vOmEEKIYPdhIth9WPYr750qxKrXhPiqkRCe1kKc2yxE2FkhHkXl69j6dPToUb0ef+XKlcLExETY29uLXbt2Fckx83LOAQEBhReIDjg5OYmFCxeKBg0aCBsbGzF8+HDx6NEjzfI1a9aIWrVqCVtbW9GrVy8RGhqqWZaQkCBMTEyEl5eXEEKItLQ0UbFiRTF+/Pgcjzlq1ChRrlw5YWNjI+7evSs8PT2Fm5tbpnWOHTsm6tevLywtLUW7du3EvHnzRNu2bTXLAXHz5k0hhBAjRowQc+bM0Sw7evSocHR0fOG4jx8/Fra2tmLv3r0vLJswYYLo37+/EEKIpKQk8eGHH4rq1asLa2tr0axZM7Fnz55M68fGxoqpU6eKqlWrCktLS1GrVi0xbdo08fDhwxzP/Xmenp4CdZMhzZenp6cQQoiQkBBhaWkpQkJCNOsvWbJEVKpUSZQtW1aMHDlSPHnyRLPs9u3bomPHjsLMzEzUq1dP/P7775mOVZBtM8rudxp1Nd5cc6wiCulW8Nw0b95cnDmT95Lvrb7tT2pqKmfH7CFk2HCA7Ou5L64FL1lBlcZQxgZ6LoaXsn57V9zpq6GBEAJFUTh+/DgbN27kq6++oly5ckVy7Lyc89WrV2nQoEHhBlQEZIVEw6DNOWf3O60oylkhRPPcjlH6x9zrdoFeS/QdRYmTmJjInDlzMDU15csvv9R5oS9JkgqXYYy5S3ny22+/0ahRI1auXElKSkqhFfqSJKnwyOQuacTExDBq1Ci6deuGmZkZx48fZ/ny5QZZ6EuSSjqZ3CWNyMhIdu3axaxZs7hw4QLt2rXTd0iSJOVT6R1zf3AdVIVfGKmku3//Ptu2bWPatGmaQl/a1N+QJKl4K51X7hFXYFVLSI4DUwt9R1MsCSHYtGkTLi4uzJo1S1PoSyZ2SSodSmdyfxyr/t75Y+jwP/3GUgwFBwfTvXt3Ro4ciYuLiyz0JUmlUOkalom9A4fmwNW96sdVW4BZ/ruHl0apqal06tSJhw8fsmrVKsaPH4+RUen8Gy9Jhqx0/a/eOvi/xN71M6jaUr/xFCOBgYGaQl8bN27k8uXLTJw4USb2IlJS2+xJJVfp+p/99BHU7gzTAqDNZDA103dEepeSksLChQtp2LAhq1atAqBTp06ZqhBKpY+u2uwBmlo2eXX79m2MjIyYOHFipueDg4NRFOWF2i4jR45k7ty5msf37t3Dw8ODKlWqULZsWZydnfH09OTRo0d5iiO3tngZRUdHM3jwYCpUqECFChVwc3PLVMmxU6dOVKxYEWtra5o0acKePXs0y/z8/DAyMtI0SLGysspUBTNjq7/x48fn6Rzyo3Qld1A3vLZx1HcUxcK5c+do2bIlc+bM4a233tIUqpKkouDr64udnR3bt2/P1EdUG9HR0bRu3ZrHjx9z6tQpEhIS+P3334mNjc21+9PzcmqL97y5c+cSExNDUFAQt27dIiIiAi8vL83y5cuXc+/ePeLj4/Hx8cHd3T1TWeKMDVISExMZMWJEpmXatvrThdKX3CUAVqxYQcuWLbl//z4//fQTO3fuxN7eXt9hGTR9t9lLS0vD29ub2rVrU758eQYNGkR0dDQAT548wd3dnfLly2Nra0uLFi2IiIhgzpw5nDhxgsmTJ2NlZcXkyZO1Pl9fX18WLFiAqakp+/bty9Nr9dVXX1G2bFm2bNmiqY5ZrVo1li9fTuPGjbXeT15b292+fZu+fftibW2NjY0N/fr1y9QpqXHjxpiYqD+qVBSFlJSUTKWcc5KXVn+6IJN7KZNeKqBZs2YMHz6cgIAA+vXrp+eoJNB/m70VK1bw888/c+zYMcLDw7Gzs2PSpEmAukRvXFwcoaGhREVFsXbtWszNzfnss89o3749X3/9NYmJiXz99ddaneuJEycICwtjyJAhDBo0KF8t9t5+++0cPxNq3Lhxti320oeC8trabtKkSezfv5+YmBhiYmL48ccf6dGjR6Z1evfujZmZGa1atcLV1ZXmzf+r4RUZGYm9vT01a9Zk2rRpeR5C0qXSNVvGgCUkJDBr1izKlCnDkiVLaN++Pe3bt9d3WPpzcCbcv1S4x6j8MvTw1np1fbfZW7duHV9//bVmLN7Ly4vq1auzefNmTE1NiYqKIjAwkMaNG+fa3i43mzZtokePHtjZ2TF06FA6dOhAZGQklSpV0mr7qKgoqlSpkuM6Fy9ezHU/eW1t98orr/D06VPN1XXnzp1f+Mxg//79pKSkcPjwYa5du6b5A+Ts7MyFCxdwdnYmJCSEESNGMH36dNatW5drnIVBXrmXAr/++iuNGjVi9erVmlrOUvGj7zZ7ISEh9OvXT3N126BBA4yNjYmIiGDYsGF069aNIUOG4ODgwIwZM15ogaetx48f88MPP2ha7LVu3Zrq1auzdetWAM2wRlG02Mtra7uBAwdSr149EhISiI+Pp3bt2ri7u7+wnqmpKT169ODQoUPs3aueoVe5cmVcXFwwMjKiZs2aLF68WCddrfJLXrmXYFFRUUyfPh1fX18aNGjAyZMnad26tb7DKh7ycEVdVPTdZq9atWps3LiRtm3bZrmNp6cnnp6eBAcH07NnT+rXr4+Hh0eeC8ft3r2b+Ph4Jk6cqPm8IDY2Fl9fX95//32qVKmCqakpwcHBmeqV3759my5dugDqFnu7d+/G09Mz26GZhg0bZnrdMnJ3d2ft2rW5tsV7nr+/P6tXr9a09Rs/fnyONZZSU1Oz/YBXURS9XmjJK/cSLCoqit27dzNv3jzOnz8vE3sxp+82e+PHj2fOnDmahPjgwQPNVL6jR49y6dIlVCoV1tbWmJqaapqd29vbExQUpPV5btq0idGjR3Pp0iVNi72TJ09y4cIFLl26hLGxMf3792fOnDlERUWRkpLCtm3bCAgI0IxvT58+nfj4eEaMGKGJ9+7du0yfPl0zHHPlypVsW+ytXbsWyHtruxYtWrB+/XoeP37M48eP8fHxoUmTJgBcu3aNgwcP8vjxY1JSUtiyZYvm3RSop0LeuXMHIQShoaHMnDmTt956S7PvvLT60wlt2jUB3YHrQCAwM4vl04EA4CJwBHDKbZ+F0mZv6ctC/Dg2X/st7tJbzoWHh4svvvhCpKWlCSGEiI6O1mNUhUu22VPTVZs9lUollixZIurVqyesrKxErVq1xKxZs4QQQmzdulXUq1dPWFhYiEqVKokpU6aIlJQUIYQQf/31l6hbt66wtbUVU6ZMyfGYYWFhwtjYWFy8ePGFZT169BAffPCBEEL9e+vh4SEcHByEra2taNOmjfjzzz8zrX/37l0xatQoYW9vL6ysrET9+vWFl5dXptdNGzm1ttuyZYtwcXHRPA4KChK9e/cW5cqVE3Z2dqJbt27ixo0bQgj171jLli2FlZWVsLGxEc2bNxc//fSTZtslS5YIBwcHYW5uLqpWrSomT54s4uPjNctzavWXlYK22dMmsRsDt4BawEuAP+Dy3DqdAItnP08AduS2X5nc8+aPP/4QGzZsEDY2NsLMzEzzC1ealabkrq2MycBQyHPOWkGTuzbDMi2BQCFEkBDiKbAdeCvjCkKIo0KIpGcP/wZ0c2ucBKjHIv/3v//h4eFBkyZN8Pf3l4W+JEnKkTYfqDoCGWfphwGtcljfAziY1QJFUcYCY0E9jpc+fzcvUlNTEULg5+eHXay6+uPtZ/tp9eQJcRH3uZaP/RZXKpUKd3d34uLimDZtGr179yY8PFwz06I0S0xM1Pp3xMbGhoSEhMINqAioVKpScR55Ic85a0+ePMlXjkynTXLP6qPyLD8CVhTFHWgOZDk/SwjhA/gANG/eXGjb2T4jk9srSU1NxdXVlZANGwFokr6fC2aY21emcj72W9zcvHmTWrVqYWxszLZt24iMjGTQoEH6DqtI+fn5oe3vyNWrV3PtJl8SZJzVYSjkOWfNzMyMZs2a5fsY2gzLhAHVMjyuCrxw2agoyhvAHOBNIUTeCkkUlCoF/vgMkqKL9LCFISUlhQULFtCoUSPN3YCurq5a3/whSZIE2l25nwbqKopSE7gLDAEyTRJVFKUZsA7oLoSI1HmUuXlwDY4vhpeswLFgd9bp05kzZ/Dw8ODixYsMGTKEd955R98hSZJUQuV65S6ESAUmA4eAq8BOIcQVRVE+URTlzWerfQFYAT8oinJBUZS9hRZx1kGqv/dbB63GFumhdWX58uW0atWKhw8fsmfPHrZt2yav1iVJyjet7lAVQhwADjz33McZfn5Dx3EZDCEEiqLQvHlzPDw8WLx4Mba2tvoOS5KkEk6WH9CT+Ph4PvroI8zMzFi6dClt27bN9rZwSZKkvJLlB/TgwIEDNGzYEB8fH0xMTGShL6nY6NGjR6buQVLJJZN7EXr48CHu7u706tULGxsb/vrrL7744os8F2aSpKwoikJgYGCB9nHw4MFM3YPyw9XVFTs7uxe6L2XVrs/Pzw9nZ2fNYyEEK1asoFGjRlhaWlK1alUGDhzIpUt5K98shOCjjz6ifPnylC9fnhkzZmR7ESWE4LPPPqN69epYW1szZMiQTJUk7969y1tvvUW5cuWoWrWqpm5Nun379tGoUSOsrKxo06YNAQEBmmXJyclMmzYNBwcH7OzsmDhxYr6rbeZViU3uMTt2knT6tL7DyJOYmBj27duHp6cn586do1WrnO4FkyTdKtQiVc8EBwdz4sQJFEXRlMLNi6lTp7J8+XJWrFhBdHQ0N27coG/fvvzyyy952o+Pjw8///wz/v7+XLx4kf3792dbV93X15fNmzdz8uRJwsPDefz4saaaJagrTNasWZOIiAh++eUXZs+ezdGjRwH1/Shubm6sXbuW2NhY+vTpw5tvvql5rb29vTlz5gyXL1/WdIVKb9JS6LSpUVAYXwWtLRPsPkwE1HcW0dt3CBHuL4SntRAB+/K1z8IUFhYmFi1apCn0FRMTk6/95KXOSmlRWmrLfP7556J///6Znnvvvfc0RbhiY2PF6NGjReXKlUWVKlXEnDlzRGpqqmZdHx8f4ezsLKysrESDBg3E2bNnXzhG+/btBSAsLCyEpaWl2L59uzh69KhwdHQU3t7ewt7eXri7u4vo6GjRq1cvUaFChSyLlHXs2FF88803Qgghvv32W9G2bVvxwQcfCFtbW1GjRg1x4MCBHM91/vz5ok2bNmLatGmiV69emZZl3He6o0ePCgcHByGEEDdu3BBGRkbin3/+ye0lzVXr1q3FunXrNI/Xr18vWrVqleW6/fv3F4sXL9Y8PnnypChTpox49OiRSEhIEICIjIzULB8zZoxwd3cXQgixcuVK0bNnT80ylUolzMzMxOHDh4UQQrz66qti586dmuXff/+9qFq1arGpLVNsWbRogd1r1WDfe/oO5QVCCL755htcXFzw8vLS1HyWM2EMzzvvvMOBAwc0b/VVKhU7d+7U1BQfMWIEJiYmBAYG8ueff/Lbb79phi9++OEHvLy88PX1JT4+nr1792bZg/P48eOAuh55YmKippzw/fv3iY6OJiQkBB8fH9LS0hg1ahQhISHcuXMHc3PzHPui/vPPP9SvX5+HDx8yY8YMPDw8cvyMyNfXFzc3N9zc3Dh06BARERFav05HjhyhatWqtGzZMtt1vL29s22tl/H/1pUrVzSleiHn1nrpyTDj4+TkZG7evKl5/vnlly9fznbb3JaHhYVlKsVcWEr2bJnUZDi9HsLPQ91u4JD/W3V16datW4wZM4ajR4/i6uqqaX4sFZ1F/y7iWvS1Qj2GczlnPmr5Ua7rOTk58corr/Dzzz8zfPhw/vjjDywsLHjttdeIiIjg4MGDxMbGYm5uTsWKFZk2bRo+Pj6MGzeO9evXM2PGDFq0aAGQ598jIyMj5s+fT5kyZQA0TaLTzZkzh06dOuUY+5gxYwD1H6GJEycSERFB5cqVX1j3zz//JCQkhEGDBlGhQgVq167N1q1bmTZtmlaxatNab+bMmcycOTPXfT3fXs/GxobExETN1OOMevToweLFixk0aBB2dnYsWrQIgKSkJMqWLUvbtm359NNP+eKLLwgICODHH3/U1NHv0qULM2fOxM/PjzZt2rBo0SKePn1KUlKSZt/Lly+nU6dOqFQqVqxYAai7VRW2En3lzoNrcHkXlLEBt51g46jviEhNTaVz586cOXOGdevWceTIEZnYJYYOHcq2bdsA2Lp1q+aqPSQkhJSUFKpUqYKtrS3VqlVj3LhxREaqb/QODQ2ldu3a+T5uxYoVMTMz0zxOSkpi3LhxODk5YW1tTYcOHYiNjUWlUmW5fcYkbmFhAagTZ1Y2bdpE165dqVChguacM868MTExKZLWevBie734+HisrKyynLwwevRo3nnnHVxdXWnYsKHmj116r9nvv/+e27dvU61aNSZMmICbm5tmmbOzM5s2bWLy5MlUqVKFhw8f4uLiolk+Z84cmjVrRtOmTWnTpg19+/bF1NQ02yYrulSyr9xFGji1g7d99B0J169fp3bt2piYmLBp0yZq166t+QeWip42V9RFaeDAgXzwwQeEhYWxe/duTp06Bahb35UpU4aHDx9iYmLyQkGpatWqZdvGTRvPJ7MlS5Zw/fp1/vnnHypXrsyFCxdo1qxZgafjPn78mJ07d6JSqTR/EJKTk4mNjcXf358mTZpQvXp1goODM22XnjRB3Yx60qRJnDlzhubNm2d5nIULF7Jw4cJs40j/w9OwYUP8/f01Qzz+/v40bNgwy23S393Mnz8fgN9++w1HR0dNm0MnJyf279+vWX/o0KGZho4GDBjAgAEDAHU7wY0bN2reaZmbm/P1119r6kT5+Pjw6quvarpcFaaSfeUOYG6r1yv2p0+fMn/+fF5++WVWrVoFqNuiycQuZVSxYkVcXV0ZNWoUNWvW1PQOrVKlCl27duWDDz4gPj6etLQ0bt26xbFjxwB49913+fLLLzl79ixCCAIDA7PtG6pNO7yEhATMzc2xtbUlOjpak9AK6ueff8bY2JiAgABNa72rV6/Svn17fH19ARg8eDDffvst//77L0IIbty4wdKlSzXDRHXr1mXixIm88847+Pn58fTpU548ecL27dvx9lb3xJ09e3a2rfUyvqMYPnw4X331FXfv3iU8PJwlS5YwcuTILGOPjo7m1q1bCCEICAhg+vTpfPzxx5rerVevXiUhIYGnT5+yZcsWfvvtN6ZPn67Z/uzZs6hUKh48eMC4cePo06ePZnpn+vGFEPz99998+umnOnvNc6XNp66F8aWL2TLBrzcSYtvQfO1HF/755x/RqFEjAYihQ4eKBw8eFNqx5GyZnBXn2TLpfH19BZBpZoYQ6tky48ePF46OjsLa2lo0bdpUbNu2TbN8zZo1ol69esLS0lI0bNhQnDt3Lsv9r1mzRlSuXFnY2NiIHTt2aGbLZHT37l3RsWNHYWlpKerWrSvWrl0rAE1Lvaxmy2QEiJs3b75w7G7duonp06e/8PyOHTuEvb29Zv8bNmwQLi4uomzZsqJ27dri888/F7GxsZr109LSxLJly4SLi4swNzcXDg4OYtCgQeLy5cvZvq5ZSUtLE//73/+EnZ2dsLOzE//73/80M9aEEMLS0lIcP35cCCHE9evXRb169YS5ubmoXr26WLJkSaZ9LV26VFSoUEFYWFiItm3bitOnT2da3rZtW2FlZSXs7OzE2LFjRWJiombZsWPHhJOTkzA3Nxf16tUTW7ZsEUIUTScmmdzzaenSpcLIyEg4OjqKffsKfwqmTO45KwnJXRuy5ZxhkFMhiyHxbGyyZcuWjBkzhitXrtC7d289RyVJkpRZyf5AtQjFxcUxY8YMzM3NWbZsGW3atKFNmzb6DkuSJClL8spdC/v27cPFxYX169dTpkyZAs8skCRJKmwyuefgwYMHDB06lDfffJPy5cvz999/s2jRIlnoS5KkYk8m9xzExcVx4MAB5s+fz5kzZzRzVyVJkoq7EjnmbixUEPqPujG2kW5vBggNDWXLli3MnDmTOnXqEBISkuk2ZkmSpJKgRF65G6NSJ3aL8tD+A53sMy0tjbVr19KwYUMWLFiguStQJnZJkkqiEpncNSzLQ5Umua+Xi5s3b/L6668zYcIEWrZsyaVLl2Q9GEmSSrQSOSyjS6mpqXTp0oXY2Fg2bNjAqFGj5AemkiSVeCX7yr0Arl69SmpqKiYmJmzevJmAgABGjx4tE7tUYumizR6Al5cX7u7ued5OCEGtWrVwcXF5YVmNGjU4fPhwpue+++472rVrp3n89OlTvLy8qFu3LpaWltSoUYPRo0e/UGwsN8nJyYwePRpra2sqV67MV199leO62bXBS05OxsPDAycnJ8qWLUuzZs04ePBgpu3Xr19PnTp1sLKyonv37oSHh79wjKdPn+Ls7Fzk9aYMLrknJyfj6elJ48aNNZXa2rdvj4ODg54jk6SS7fjx40RGRhIUFMTpfLTAHDBgAHv37mXr1q3ExcXh7+/Pq6++ypEjR/K0Hy8vL27evElISAhHjx5l8eLF/Prrr1mum1MbvNTUVKpVq8axY8eIi4vj008/ZdCgQZo/NseOHWP27Nns2bOH6OhoatasyTvvvPPCMXiLVV0AAA0HSURBVL744gsqVaqUtxdDF7SpUVAYXwWpLfPauu4iuF1NEdyvW562PXXqlHBxcRGAGDZsmHj48GG+YtAHWVsmZ8W5toy+2uwJIcS+fftEkyZNhI2NjWjdurXw9/fXbOPt7S0cHByElZWVqFevnjh8+LA4ePCgMDU1FSYmJsLS0lI0btxY6/McNWqUGDp0qOjXr5+YNGlSpmVOTk7i999/z/RcemGy+Ph48fvvvwszMzNx584drY+XHQcHB3Ho0CHN47lz54rBgwdnuW52bfCy8/LLL4tdu3YJIYT44IMPxMSJEzXL7t69KwARGBioeS4oKEg4OzuLAwcOZCriJmvLZKHjhRhm7LzHk1jTPG23ZMkS2rRpQ0JCAgcOHMDX1zfLdmWSpGv6arN37tw5Ro8ezbp164iKimLcuHG8+eabJCcnc/36db7++mtOnz5NQkIChw4dokaNGnTv3p3Zs2czePBgEhMT8ff31+ock5KS2LVrl6bF3vbt23n69KnWr9Hhw4dp2bKlprZ7ViZOnJhte73GjRsD6ib04eHhBWqxl10bvIiICG7cuKGpC5/VtoCmxR7AlClTWLhwIebm5tq8DDpV4j5QbR0QR/UHTzGzTcG67cu5rp+WloaRkRGtW7dm/PjxeHt7Y21tXQSRSvp0f+FCkq8Wbpu9Mg2cqTx7dq7r6avN3jfffMO4ceNo1aoVoP4jsnDhQv7++28cHR1JTk4mICCAihUrUqNGjXy9Bul++uknypQpQ9euXVGpVKSmpvLLL7/Qr18/rbbXpsXe6tWrWb16dY7rpNd0f77FXkJCQpbrZ9cGLykpKdM+UlJScHNzY8SIEZpa7T179mTw4MGMHz+eunXr8sknn6AoiqbF3u7du0lNTaVfv374+fnl/AIUghJ35W5EGe5WsMKpcxR2b2TdrQXUHVE8PDyYOnUqAG3atGH16tUysUt6oY82eyEhISxZsiTTFW5oaCjh4eHUqVOHZcuW4eXlRaVKlRgyZEiWHwZqa9OmTQwaNAgTExPKlCnD22+/rZcWe1ZWVgAvtNjL2N0qo+za4GUcI09LS2PYsGG89NJLms/pQN05av78+fTv3x8nJydq1KhB2bJlqVq1Ko8ePWLGjBmsXLmywOeUb9qM3RTGV37H3A90fkv82qGLEJ7WQlzYnuU6u3fvFlWqVBHGxsZi1qxZmYr0l1RyzD1nxXnMXQghIiMjhZmZmQgNDRU2NjaaeMPDw4WZmZmmmcXzY7Fdu3YVy5Yt0+oYPNdIY+zYsWLBggW5bhcXFyeGDBki3N3dhRBCeHl5CTc3N62OKYQQoaGhwsjISFhbWwt7e3thb28vypYtK0xNTTUNbDp16iRWr16dabtZs2aJESNGZBpzDw0NzfY448aNE5aWlll+ubi4aNarUqWK+O233zSP582bl+2Y+/PWrVsnXnvtNc3jtLQ0MXLkSOHq6iqSkpJy3Pb69evCwsJCREdHi/PnzwsTExPN62FnZyeMjIyEvb29uH37tmzWkZWckntERIQYOHCgAETTpk2z/OCppJLJPWfFPbkLIUT37t3FG2+8IZo2bZrp+TfffFO89//27i82iuuK4/j3JCFYBoMrqNeoLoHgmD8JD46cJogKqFJVaaKEF9oSCZVaVpPQP3nIS0CRUJUGIyq1kZAoFAGNWqktNJFahGK1Ko1JFWFqqwkhxElxU29rY5UgwAbZa4z314ddHNsY79j7z7M+H2mlXe/d2XN2Zo9n78zc+/zz6u7u1pUrV9TW1qbGxkZJ0pEjR1RRUaGWlhbF43GdO3dO7e3tYy4/EomMOJDY3NysiooKNTU1KR6P69q1azp27Jh6enr00Ucf6fjx44rFYurv71dtba02b94sKTGj0+rVqzU4OBgor/r6ei1btkxdXV0jbosXL9bu3bslSfv27VNVVZVaW1sVj8fV3NysSCSihoaGoUL35JNPqqamRi0tLRoYGFBPT4/27t2rgwcPTuhzfvHFF7VmzRpdunRJra2tKi8vV0NDw5htOzo61NnZqXg8rpMnT6qiomLEZ/jss8/q4Ycf1tWrV295bV9fn86cOaN4PK5oNKq1a9dq27ZtkqSBgYERn8Ubb7yhBQsWqKurSzdu3PDiPpbxivu5c+dUWlqqHTt26Pr165Na/lTlxX18YSjuuZ5mT5IaGhpUU1OjuXPnqry8XBs2bFBPT49Onz6thx56aGh6uCeeeEKdnZ2SpIsXL2r16tUqLS1VdXV1yryWLl06VMSH27Vrl25+zwcHB7Vz505VVlaqpKREy5cv14EDByR99mulv79f27dv15IlS1RcXKyFCxeqrq5O0Wg0ZQzDxWIx1dbWqqSkRGVlZSOmzYtGo5o1a9bQMm83DZ4ktbe3C9DMmTNH/Eq42eby5ctauXKliouLFYlEtHXr1hFnOQ03esrDKVPcgceAj4E2YOsYz88EDiefPwUsSrXMTBX3aDSqV155ZajrpVCn7PLiPr4wFPcgCnX7HY/nPLasnwppZncCe4CvAyuAp81s9CVodcBlSZXAq8CutA4EjGPW3XdQekcvcYmfH/4z999/P/X19UMDfd3uwIlzzk0nQc6W+RLQJukTSdeB3wHrR7VZD9w8NP468Khl6Tr+qsoiBqyNda/18v2dh1i1ahVnz571gb6cc26YIMX9C8B/hz3uSP5tzDaSbgDdQFauEJr/rS+z6R8XONNdzC8PHRq6+MI559xnglzENNYe+OhJRIO0wcyeAZ4BiEQikzyxfwVbtu2ksrKSefPmceLEiUksI3yuXbuWlwsh8mkiOY93oUqYDA4OFkQeE+E5jy0Wi6X1nQ9S3DuA4dcEVwCjr3a42abDzO4C5gKXRi9I0n5gP0BNTY3WrVs3iZAT0nltGDU2NnrO42htbWX27NmhH9Xz6tWr0+64ked8K0kUFRVRXV096fcI0i3TDNxnZovN7G5gI3B0VJujwObk/Q3AX5NHdZ3LiRkzZtDX15fvMJzLiL6+vqGrdycrZXFP9qH/APgT0AockXTWzF42s6eSzQ4C88ysDXgB2JpWVM5NUFlZGZ2dnfT29uL7FS6sJNHb20tnZ2fawwQHGjhM0pvAm6P+tn3Y/RjwjbQicS4NN8cMOn/+/C1jmIRJLBajqKgo32HklOc80owZM4hEImmPgxW6USGdu505c+aEfmC4xsbGtPpZw8hzzo7QjQrpnHMuNS/uzjlXgLy4O+dcAfLi7pxzBcjyddqYmX0KRCf58vnAxQyGEwae8/TgOU8P6eR8j6TPp2qUt+KeDjNrkXT7OfYKkOc8PXjO00MucvZuGeecK0Be3J1zrgCFtbjvz3cAeeA5Tw+e8/SQ9ZxD2efunHNufGHdc3fOOTeOKV3czewxM/vYzNrM7JaRJs1sppkdTj5/yswW5T7KzAqQ8wtm9qGZvW9mx83snnzEmUmpch7WboOZycxCf2ZFkJzN7JvJdX3WzH6T6xgzLcC2vdDM3jKzd5Pb9+P5iDNTzOyQmV0wsw9u87yZ2e7k5/G+mT2Y0QCCzKKdjxtwJ/Av4F7gbuA0sGJUm+8B+5L3NwKH8x13DnL+ClCcvL9lOuScbFcCvA00ATX5jjsH6/k+4F3gc8nHZfmOOwc57we2JO+vANrzHXeaOa8BHgQ+uM3zjwMNJGayewQ4lcn3n8p77lNqYu4cSZmzpLck9SYfNpGYGSvMgqxngB8DPwFiuQwuS4Lk/F1gj6TLAJIu5DjGTAuSs4Cbw3rO5dYZ30JF0tuMMSPdMOuBXymhCSg1swWZev+pXNyn1MTcORIk5+HqSPznD7OUOZtZNfBFScdyGVgWBVnPVUCVmb1jZk1m9ljOosuOIDn/CNhkZh0k5o/4YW5Cy5uJft8nZCqP556xiblDJHA+ZrYJqAHWZjWi7Bs3ZzO7A3gV+E6uAsqBIOv5LhJdM+tI/Dr7m5k9IOlKlmPLliA5Pw28JumnZrYK+HUy53j2w8uLrNavqbznPpGJuRlvYu4QCZIzZvZV4CXgKUn9OYotW1LlXAI8ADSaWTuJvsmjIT+oGnTb/qOkAUn/Bj4mUezDKkjOdcARAEkngSISY7AUqkDf98maysV9Ok7MnTLnZBfFL0gU9rD3w0KKnCV1S5ovaZGkRSSOMzwlqSU/4WZEkG37DyQOnmNm80l003yS0ygzK0jO/wEeBTCz5SSK+6c5jTK3jgLfTp418wjQLakrY0vP9xHlFEebHwf+SeIo+0vJv71M4ssNiZX/e6AN+Dtwb75jzkHOfwH+B7yXvB3Nd8zZznlU20ZCfrZMwPVswM+AD4EzwMZ8x5yDnFcA75A4k+Y94Gv5jjnNfH8LdAEDJPbS64DngOeGreM9yc/jTKa3a79C1TnnCtBU7pZxzjk3SV7cnXOuAHlxd865AuTF3TnnCpAXd+ecK0Be3J1zrgB5cXfOuQLkxd055wrQ/wG2aZaV7tGBzwAAAABJRU5ErkJggg==\n",
      "text/plain": [
       "<Figure size 432x288 with 1 Axes>"
      ]
     },
     "metadata": {},
     "output_type": "display_data"
    }
   ],
   "source": [
    "wv_model = LogisticRegression().fit(X_train_wv, y_train)\n",
    "\n",
    "for name, X, y, model in [\n",
    "    ('bow train', X_train_bow, y_train, bow_model),\n",
    "    ('bow test ', X_test_bow, y_test, bow_model),\n",
    "    ('vec train', X_train_wv, y_train, wv_model),\n",
    "    ('vec test ', X_test_wv, y_test, wv_model)\n",
    "]:\n",
    "    proba = model.predict_proba(X)[:, 1]\n",
    "    auc = roc_auc_score(y, proba)\n",
    "    plt.plot(*roc_curve(y, proba)[:2], label='%s AUC=%.4f' % (name, auc))\n",
    "\n",
    "plt.plot([0, 1], [0, 1], '--', color='black',)\n",
    "plt.legend(fontsize='large')\n",
    "plt.grid()\n",
    "\n",
    "assert roc_auc_score(y_test, wv_model.predict_proba(X_test_wv)[:, 1]) > 0.92, \"something's wrong with your features\""
   ]
  },
  {
   "cell_type": "markdown",
   "metadata": {},
   "source": [
    "If everything went right, you've just managed to reduce misclassification rate by a factor of two.\n",
    "This trick is very useful when you're dealing with small datasets. However, if you have hundreds of thousands of samples, there's a whole different range of methods for that. We'll get there in the second part."
   ]
  }
 ],
 "metadata": {
  "kernelspec": {
   "display_name": "Python [default]",
   "language": "python",
   "name": "python3"
  },
  "language_info": {
   "codemirror_mode": {
    "name": "ipython",
    "version": 3
   },
   "file_extension": ".py",
   "mimetype": "text/x-python",
   "name": "python",
   "nbconvert_exporter": "python",
   "pygments_lexer": "ipython3",
<<<<<<< HEAD
   "version": "3.6.5"
=======
   "version": "3.5.6"
>>>>>>> 9c973959a6ea87d94572fafa672c6e700e9bbdad
  }
 },
 "nbformat": 4,
 "nbformat_minor": 2
}
