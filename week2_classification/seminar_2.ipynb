{
 "cells": [
  {
   "cell_type": "markdown",
   "metadata": {
    "colab_type": "text",
    "id": "jcDbPjuWygi-"
   },
   "source": [
    "# Large scale text analysis with deep learning (3 points)\n",
    "\n",
    "Today we're gonna apply the newly learned tools for the task of predicting job salary.\n",
    "\n",
    "<img src=\"https://kaggle2.blob.core.windows.net/competitions/kaggle/3342/media/salary%20prediction%20engine%20v2.png\" width=400px>\n",
    "\n",
    "_Special thanks to [Oleg Vasilev](https://github.com/Omrigan/) for the core assignment idea._"
   ]
  },
  {
   "cell_type": "code",
   "execution_count": 1,
   "metadata": {
    "colab": {},
    "colab_type": "code",
    "id": "_bxgCFO6ygjB"
   },
   "outputs": [],
   "source": [
    "import numpy as np\n",
    "import pandas as pd\n",
    "import matplotlib.pyplot as plt\n",
    "%matplotlib inline"
   ]
  },
  {
   "cell_type": "markdown",
   "metadata": {
    "colab_type": "text",
    "id": "uvGvNAl1ygjF"
   },
   "source": [
    "### About the challenge\n",
    "For starters, let's download and unpack the data from [here](https://www.dropbox.com/s/5msc5ix7ndyba10/Train_rev1.csv.tar.gz?dl=0). \n",
    "\n",
    "You can also get it from [yadisk url](https://yadi.sk/d/vVEOWPFY3NruT7) the competition [page](https://www.kaggle.com/c/job-salary-prediction/data) (pick `Train_rev1.*`)."
   ]
  },
  {
   "cell_type": "code",
   "execution_count": 2,
   "metadata": {
    "colab": {
     "base_uri": "https://localhost:8080/",
     "height": 143
    },
    "colab_type": "code",
    "id": "r1R9CZvZygjG",
    "outputId": "d569e6ab-54e2-4718-a92a-9398b52bcbe7"
   },
   "outputs": [
    {
     "name": "stdout",
     "output_type": "stream",
     "text": [
      "  % Total    % Received % Xferd  Average Speed   Time    Time     Time  Current\n",
      "                                 Dload  Upload   Total   Spent    Left  Speed\n",
      "  0     0    0     0    0     0      0      0 --:--:-- --:--:-- --:--:--     0\n",
      "  0     0    0     0    0     0      0      0 --:--:--  0:00:01 --:--:--     0\n",
      "100  119M  100  119M    0     0  5547k      0  0:00:22  0:00:22 --:--:-- 6595k   0     0  2484k      0  0:00:49  0:00:05  0:00:44 4618k\n",
      "x Train_rev1.csv\n"
     ]
    },
    {
     "data": {
      "text/plain": [
       "(244768, 12)"
      ]
     },
     "execution_count": 2,
     "metadata": {},
     "output_type": "execute_result"
    }
   ],
   "source": [
    "!curl -L https://www.dropbox.com/s/5msc5ix7ndyba10/Train_rev1.csv.tar.gz?dl=1 -o Train_rev1.csv.tar.gz\n",
    "!tar -xvzf ./Train_rev1.csv.tar.gz\n",
    "data = pd.read_csv(\"./Train_rev1.csv\", index_col=None)\n",
    "data.shape"
   ]
  },
  {
   "cell_type": "code",
   "execution_count": 3,
   "metadata": {
    "colab": {
     "base_uri": "https://localhost:8080/",
     "height": 496
    },
    "colab_type": "code",
    "id": "yS-bjhjmzrRF",
    "outputId": "3e7ae8b9-b1bc-43bb-ecc0-56a3e375495f"
   },
   "outputs": [
    {
     "data": {
      "text/html": [
       "<div>\n",
       "<style scoped>\n",
       "    .dataframe tbody tr th:only-of-type {\n",
       "        vertical-align: middle;\n",
       "    }\n",
       "\n",
       "    .dataframe tbody tr th {\n",
       "        vertical-align: top;\n",
       "    }\n",
       "\n",
       "    .dataframe thead th {\n",
       "        text-align: right;\n",
       "    }\n",
       "</style>\n",
       "<table border=\"1\" class=\"dataframe\">\n",
       "  <thead>\n",
       "    <tr style=\"text-align: right;\">\n",
       "      <th></th>\n",
       "      <th>Id</th>\n",
       "      <th>Title</th>\n",
       "      <th>FullDescription</th>\n",
       "      <th>LocationRaw</th>\n",
       "      <th>LocationNormalized</th>\n",
       "      <th>ContractType</th>\n",
       "      <th>ContractTime</th>\n",
       "      <th>Company</th>\n",
       "      <th>Category</th>\n",
       "      <th>SalaryRaw</th>\n",
       "      <th>SalaryNormalized</th>\n",
       "      <th>SourceName</th>\n",
       "    </tr>\n",
       "  </thead>\n",
       "  <tbody>\n",
       "    <tr>\n",
       "      <th>0</th>\n",
       "      <td>12612628</td>\n",
       "      <td>Engineering Systems Analyst</td>\n",
       "      <td>Engineering Systems Analyst Dorking Surrey Sal...</td>\n",
       "      <td>Dorking, Surrey, Surrey</td>\n",
       "      <td>Dorking</td>\n",
       "      <td>NaN</td>\n",
       "      <td>permanent</td>\n",
       "      <td>Gregory Martin International</td>\n",
       "      <td>Engineering Jobs</td>\n",
       "      <td>20000 - 30000/annum 20-30K</td>\n",
       "      <td>25000</td>\n",
       "      <td>cv-library.co.uk</td>\n",
       "    </tr>\n",
       "    <tr>\n",
       "      <th>1</th>\n",
       "      <td>12612830</td>\n",
       "      <td>Stress Engineer Glasgow</td>\n",
       "      <td>Stress Engineer Glasgow Salary **** to **** We...</td>\n",
       "      <td>Glasgow, Scotland, Scotland</td>\n",
       "      <td>Glasgow</td>\n",
       "      <td>NaN</td>\n",
       "      <td>permanent</td>\n",
       "      <td>Gregory Martin International</td>\n",
       "      <td>Engineering Jobs</td>\n",
       "      <td>25000 - 35000/annum 25-35K</td>\n",
       "      <td>30000</td>\n",
       "      <td>cv-library.co.uk</td>\n",
       "    </tr>\n",
       "    <tr>\n",
       "      <th>2</th>\n",
       "      <td>12612844</td>\n",
       "      <td>Modelling and simulation analyst</td>\n",
       "      <td>Mathematical Modeller / Simulation Analyst / O...</td>\n",
       "      <td>Hampshire, South East, South East</td>\n",
       "      <td>Hampshire</td>\n",
       "      <td>NaN</td>\n",
       "      <td>permanent</td>\n",
       "      <td>Gregory Martin International</td>\n",
       "      <td>Engineering Jobs</td>\n",
       "      <td>20000 - 40000/annum 20-40K</td>\n",
       "      <td>30000</td>\n",
       "      <td>cv-library.co.uk</td>\n",
       "    </tr>\n",
       "    <tr>\n",
       "      <th>3</th>\n",
       "      <td>12613049</td>\n",
       "      <td>Engineering Systems Analyst / Mathematical Mod...</td>\n",
       "      <td>Engineering Systems Analyst / Mathematical Mod...</td>\n",
       "      <td>Surrey, South East, South East</td>\n",
       "      <td>Surrey</td>\n",
       "      <td>NaN</td>\n",
       "      <td>permanent</td>\n",
       "      <td>Gregory Martin International</td>\n",
       "      <td>Engineering Jobs</td>\n",
       "      <td>25000 - 30000/annum 25K-30K negotiable</td>\n",
       "      <td>27500</td>\n",
       "      <td>cv-library.co.uk</td>\n",
       "    </tr>\n",
       "    <tr>\n",
       "      <th>4</th>\n",
       "      <td>12613647</td>\n",
       "      <td>Pioneer, Miser Engineering Systems Analyst</td>\n",
       "      <td>Pioneer, Miser  Engineering Systems Analyst Do...</td>\n",
       "      <td>Surrey, South East, South East</td>\n",
       "      <td>Surrey</td>\n",
       "      <td>NaN</td>\n",
       "      <td>permanent</td>\n",
       "      <td>Gregory Martin International</td>\n",
       "      <td>Engineering Jobs</td>\n",
       "      <td>20000 - 30000/annum 20-30K</td>\n",
       "      <td>25000</td>\n",
       "      <td>cv-library.co.uk</td>\n",
       "    </tr>\n",
       "  </tbody>\n",
       "</table>\n",
       "</div>"
      ],
      "text/plain": [
       "         Id                                              Title  \\\n",
       "0  12612628                        Engineering Systems Analyst   \n",
       "1  12612830                            Stress Engineer Glasgow   \n",
       "2  12612844                   Modelling and simulation analyst   \n",
       "3  12613049  Engineering Systems Analyst / Mathematical Mod...   \n",
       "4  12613647         Pioneer, Miser Engineering Systems Analyst   \n",
       "\n",
       "                                     FullDescription  \\\n",
       "0  Engineering Systems Analyst Dorking Surrey Sal...   \n",
       "1  Stress Engineer Glasgow Salary **** to **** We...   \n",
       "2  Mathematical Modeller / Simulation Analyst / O...   \n",
       "3  Engineering Systems Analyst / Mathematical Mod...   \n",
       "4  Pioneer, Miser  Engineering Systems Analyst Do...   \n",
       "\n",
       "                         LocationRaw LocationNormalized ContractType  \\\n",
       "0            Dorking, Surrey, Surrey            Dorking          NaN   \n",
       "1        Glasgow, Scotland, Scotland            Glasgow          NaN   \n",
       "2  Hampshire, South East, South East          Hampshire          NaN   \n",
       "3     Surrey, South East, South East             Surrey          NaN   \n",
       "4     Surrey, South East, South East             Surrey          NaN   \n",
       "\n",
       "  ContractTime                       Company          Category  \\\n",
       "0    permanent  Gregory Martin International  Engineering Jobs   \n",
       "1    permanent  Gregory Martin International  Engineering Jobs   \n",
       "2    permanent  Gregory Martin International  Engineering Jobs   \n",
       "3    permanent  Gregory Martin International  Engineering Jobs   \n",
       "4    permanent  Gregory Martin International  Engineering Jobs   \n",
       "\n",
       "                                SalaryRaw  SalaryNormalized        SourceName  \n",
       "0              20000 - 30000/annum 20-30K             25000  cv-library.co.uk  \n",
       "1              25000 - 35000/annum 25-35K             30000  cv-library.co.uk  \n",
       "2              20000 - 40000/annum 20-40K             30000  cv-library.co.uk  \n",
       "3  25000 - 30000/annum 25K-30K negotiable             27500  cv-library.co.uk  \n",
       "4              20000 - 30000/annum 20-30K             25000  cv-library.co.uk  "
      ]
     },
     "execution_count": 3,
     "metadata": {},
     "output_type": "execute_result"
    }
   ],
   "source": [
    "data.head()"
   ]
  },
  {
   "cell_type": "markdown",
   "metadata": {
    "colab_type": "text",
    "id": "8WuXCwl0ygjN"
   },
   "source": [
    "One problem with salary prediction is that it's oddly distributed: there are many people who are paid standard salaries and a few that get tons o money. The distribution is fat-tailed on the right side, which is inconvenient for MSE minimization.\n",
    "\n",
    "There are several techniques to combat this: using a different loss function, predicting log-target instead of raw target or even replacing targets with their percentiles among all salaries in the training set. We gonna use logarithm for now.\n",
    "\n",
    "_You can read more [in the official description](https://www.kaggle.com/c/job-salary-prediction#description)._"
   ]
  },
  {
   "cell_type": "code",
   "execution_count": 6,
   "metadata": {
    "colab": {
     "base_uri": "https://localhost:8080/",
     "height": 265
    },
    "colab_type": "code",
    "id": "U9IuN3P6ygjO",
    "outputId": "7a9636c1-feb5-42a4-b6b2-b32a01264af8"
   },
   "outputs": [
    {
     "data": {
      "image/png": "[encoded data removed]",
      "text/plain": [
       "<Figure size 576x288 with 2 Axes>"
      ]
     },
     "metadata": {},
     "output_type": "display_data"
    }
   ],
   "source": [
    "data['Log1pSalary'] = np.log1p(data['SalaryNormalized']).astype('float32')\n",
    "\n",
    "plt.figure(figsize=[8, 4])\n",
    "plt.subplot(1, 2, 1)\n",
    "plt.hist(data[\"SalaryNormalized\"], bins=20);\n",
    "\n",
    "plt.subplot(1, 2, 2)\n",
    "plt.hist(data['Log1pSalary'], bins=20);"
   ]
  },
  {
   "cell_type": "markdown",
   "metadata": {
    "colab_type": "text",
    "id": "A3GSIJgbygjR"
   },
   "source": [
    "Our task is to predict one number, __Log1pSalary__.\n",
    "\n",
    "To do so, our model can access a number of features:\n",
    "* Free text: __`Title`__ and  __`FullDescription`__\n",
    "* Categorical: __`Category`__, __`Company`__, __`LocationNormalized`__, __`ContractType`__, and __`ContractTime`__."
   ]
  },
  {
   "cell_type": "code",
   "execution_count": 7,
   "metadata": {
    "colab": {
     "base_uri": "https://localhost:8080/",
     "height": 383
    },
    "colab_type": "code",
    "id": "Kd39iCrJygjS",
    "outputId": "30d9eee4-0971-4cd3-b055-f60eef39e306"
   },
   "outputs": [
    {
     "data": {
      "text/html": [
       "<div>\n",
       "<style scoped>\n",
       "    .dataframe tbody tr th:only-of-type {\n",
       "        vertical-align: middle;\n",
       "    }\n",
       "\n",
       "    .dataframe tbody tr th {\n",
       "        vertical-align: top;\n",
       "    }\n",
       "\n",
       "    .dataframe thead th {\n",
       "        text-align: right;\n",
       "    }\n",
       "</style>\n",
       "<table border=\"1\" class=\"dataframe\">\n",
       "  <thead>\n",
       "    <tr style=\"text-align: right;\">\n",
       "      <th></th>\n",
       "      <th>Id</th>\n",
       "      <th>Title</th>\n",
       "      <th>FullDescription</th>\n",
       "      <th>LocationRaw</th>\n",
       "      <th>LocationNormalized</th>\n",
       "      <th>ContractType</th>\n",
       "      <th>ContractTime</th>\n",
       "      <th>Company</th>\n",
       "      <th>Category</th>\n",
       "      <th>SalaryRaw</th>\n",
       "      <th>SalaryNormalized</th>\n",
       "      <th>SourceName</th>\n",
       "      <th>Log1pSalary</th>\n",
       "    </tr>\n",
       "  </thead>\n",
       "  <tbody>\n",
       "    <tr>\n",
       "      <th>96971</th>\n",
       "      <td>69251540</td>\n",
       "      <td>Kitchen Manager  Dunstable</td>\n",
       "      <td>Working at Crown Carveries If you want the sat...</td>\n",
       "      <td>Dunstable</td>\n",
       "      <td>Dunstable</td>\n",
       "      <td>full_time</td>\n",
       "      <td>permanent</td>\n",
       "      <td>Crown Carveries</td>\n",
       "      <td>Hospitality &amp; Catering Jobs</td>\n",
       "      <td>18,000 - 20,000</td>\n",
       "      <td>19000</td>\n",
       "      <td>jobs.bighospitality.co.uk</td>\n",
       "      <td>9.852247</td>\n",
       "    </tr>\n",
       "    <tr>\n",
       "      <th>102425</th>\n",
       "      <td>69552376</td>\n",
       "      <td>Team Manager – Hampshire Youth Offending Team ...</td>\n",
       "      <td>Description: Team Manager – Hampshire Youth Of...</td>\n",
       "      <td>Winchester</td>\n",
       "      <td>Winchester</td>\n",
       "      <td>full_time</td>\n",
       "      <td>NaN</td>\n",
       "      <td>Hampshire County Council</td>\n",
       "      <td>Consultancy Jobs</td>\n",
       "      <td>36,921.00 - 41,550.00 per year</td>\n",
       "      <td>39235</td>\n",
       "      <td>Jobcentre Plus</td>\n",
       "      <td>10.577350</td>\n",
       "    </tr>\n",
       "    <tr>\n",
       "      <th>98225</th>\n",
       "      <td>69471602</td>\n",
       "      <td>PASTORAL SUPPORT MANAGER</td>\n",
       "      <td>PASTORAL SUPPORT MANAGER **** pro rata 37 hour...</td>\n",
       "      <td>Doncaster, Yorkshire</td>\n",
       "      <td>Doncaster</td>\n",
       "      <td>NaN</td>\n",
       "      <td>permanent</td>\n",
       "      <td>NaN</td>\n",
       "      <td>Consultancy Jobs</td>\n",
       "      <td>19,621 pro rata</td>\n",
       "      <td>19621</td>\n",
       "      <td>jobstoday.co.uk</td>\n",
       "      <td>9.884407</td>\n",
       "    </tr>\n",
       "  </tbody>\n",
       "</table>\n",
       "</div>"
      ],
      "text/plain": [
       "              Id                                              Title  \\\n",
       "96971   69251540                         Kitchen Manager  Dunstable   \n",
       "102425  69552376  Team Manager – Hampshire Youth Offending Team ...   \n",
       "98225   69471602                           PASTORAL SUPPORT MANAGER   \n",
       "\n",
       "                                          FullDescription  \\\n",
       "96971   Working at Crown Carveries If you want the sat...   \n",
       "102425  Description: Team Manager – Hampshire Youth Of...   \n",
       "98225   PASTORAL SUPPORT MANAGER **** pro rata 37 hour...   \n",
       "\n",
       "                 LocationRaw LocationNormalized ContractType ContractTime  \\\n",
       "96971              Dunstable          Dunstable    full_time    permanent   \n",
       "102425            Winchester         Winchester    full_time          NaN   \n",
       "98225   Doncaster, Yorkshire          Doncaster          NaN    permanent   \n",
       "\n",
       "                         Company                     Category  \\\n",
       "96971            Crown Carveries  Hospitality & Catering Jobs   \n",
       "102425  Hampshire County Council             Consultancy Jobs   \n",
       "98225                        NaN             Consultancy Jobs   \n",
       "\n",
       "                             SalaryRaw  SalaryNormalized  \\\n",
       "96971                  18,000 - 20,000             19000   \n",
       "102425  36,921.00 - 41,550.00 per year             39235   \n",
       "98225                  19,621 pro rata             19621   \n",
       "\n",
       "                       SourceName  Log1pSalary  \n",
       "96971   jobs.bighospitality.co.uk     9.852247  \n",
       "102425             Jobcentre Plus    10.577350  \n",
       "98225             jobstoday.co.uk     9.884407  "
      ]
     },
     "execution_count": 7,
     "metadata": {},
     "output_type": "execute_result"
    }
   ],
   "source": [
    "text_columns = [\"Title\", \"FullDescription\"]\n",
    "categorical_columns = [\"Category\", \"Company\", \"LocationNormalized\", \"ContractType\", \"ContractTime\"]\n",
    "target_column = \"Log1pSalary\"\n",
    "\n",
    "data[categorical_columns] = data[categorical_columns].fillna('NaN') # cast missing values to string \"NaN\"\n",
    "\n",
    "data.sample(3)"
   ]
  },
  {
   "cell_type": "markdown",
   "metadata": {
    "colab_type": "text",
    "id": "PT6ZSpohygjV"
   },
   "source": [
    "### Preprocessing text data\n",
    "\n",
    "Just like last week, applying NLP to a problem begins from tokenization: splitting raw text into sequences of tokens (words, punctuation, etc).\n",
    "\n",
    "__Your task__ is to lowercase and tokenize all texts under `Title` and `FullDescription` columns. Store the tokenized data as a __space-separated__ string of tokens for performance reasons.\n",
    "\n",
    "It's okay to use nltk tokenizers. Assertions were designed for WordPunctTokenizer, slight deviations are okay."
   ]
  },
  {
   "cell_type": "code",
   "execution_count": 8,
   "metadata": {
    "colab": {
     "base_uri": "https://localhost:8080/",
     "height": 107
    },
    "colab_type": "code",
    "id": "rvpPMTpAygjW",
    "outputId": "928c712a-9d29-4c8c-b4f9-6963359a2a1c"
   },
   "outputs": [
    {
     "name": "stdout",
     "output_type": "stream",
     "text": [
      "Raw text:\n",
      "2         Mathematical Modeller / Simulation Analyst / O...\n",
      "100002    A successful and high achieving specialist sch...\n",
      "200002    Web Designer  HTML, CSS, JavaScript, Photoshop...\n",
      "Name: FullDescription, dtype: object\n"
     ]
    }
   ],
   "source": [
    "print(\"Raw text:\")\n",
    "print(data[\"FullDescription\"][2::100000])"
   ]
  },
  {
   "cell_type": "code",
   "execution_count": 9,
   "metadata": {
    "colab": {},
    "colab_type": "code",
    "id": "DIIneukRygja"
   },
   "outputs": [],
   "source": [
    "import nltk\n",
    "tokenizer = nltk.tokenize.WordPunctTokenizer()\n",
    "\n",
    "# see task above\n",
    "for col in text_columns:\n",
    "    data[col] = [\" \".join(tokenizer.tokenize(str(text).lower())) for text in data[col]]"
   ]
  },
  {
   "cell_type": "markdown",
   "metadata": {
    "colab_type": "text",
    "id": "FG9-PHYDygjc"
   },
   "source": [
    "Now we can assume that our text is a space-separated list of tokens:"
   ]
  },
  {
   "cell_type": "code",
   "execution_count": 10,
   "metadata": {
    "colab": {
     "base_uri": "https://localhost:8080/",
     "height": 107
    },
    "colab_type": "code",
    "id": "cO5Kygzqygjd",
    "outputId": "c9c09ff7-b1b2-496c-9c9b-20f899d418f4"
   },
   "outputs": [
    {
     "name": "stdout",
     "output_type": "stream",
     "text": [
      "Tokenized:\n",
      "2         mathematical modeller / simulation analyst / o...\n",
      "100002    a successful and high achieving specialist sch...\n",
      "200002    web designer html , css , javascript , photosh...\n",
      "Name: FullDescription, dtype: object\n"
     ]
    }
   ],
   "source": [
    "print(\"Tokenized:\")\n",
    "print(data[\"FullDescription\"][2::100000])\n",
    "assert data[\"FullDescription\"][2][:50] == 'mathematical modeller / simulation analyst / opera'\n",
    "assert data[\"Title\"][54321] == 'international digital account manager ( german )'"
   ]
  },
  {
   "cell_type": "markdown",
   "metadata": {
    "colab_type": "text",
    "id": "ZmodQQRRygjg"
   },
   "source": [
    "Not all words are equally useful. Some of them are typos or rare words that are only present a few times. \n",
    "\n",
    "Let's count how many times is each word present in the data so that we can build a \"white list\" of known words."
   ]
  },
  {
   "cell_type": "code",
   "execution_count": 11,
   "metadata": {
    "colab": {},
    "colab_type": "code",
    "id": "SXKrwfc83m1i"
   },
   "outputs": [],
   "source": [
    "from collections import Counter"
   ]
  },
  {
   "cell_type": "code",
   "execution_count": 13,
   "metadata": {
    "colab": {},
    "colab_type": "code",
    "id": "CByqFZzJygjh"
   },
   "outputs": [],
   "source": [
    "# Count how many times does each token occur in both \"Title\" and \"FullDescription\" in total\n",
    "# build a dictionary { token -> it's count }\n",
    "counter = Counter()\n",
    "for col in text_columns:\n",
    "    for text in data[col]:\n",
    "        counter.update(text.split())\n",
    "token_counts = counter\n",
    "\n",
    "# hint: you may or may not want to use collections.Counter"
   ]
  },
  {
   "cell_type": "code",
   "execution_count": 14,
   "metadata": {
    "colab": {
     "base_uri": "https://localhost:8080/",
     "height": 215
    },
    "colab_type": "code",
    "id": "t7m1x9dHygjl",
    "outputId": "42a41cdf-9df1-49c6-9916-663934f0dc6d"
   },
   "outputs": [
    {
     "name": "stdout",
     "output_type": "stream",
     "text": [
      "Total unique tokens : 202704\n",
      "('and', 2657388)\n",
      "('.', 2523216)\n",
      "(',', 2318606)\n",
      "('the', 2080994)\n",
      "('to', 2019884)\n",
      "...\n",
      "('stephanietraveltraderecruitmnt', 1)\n",
      "('ruabon', 1)\n",
      "('lowehays', 1)\n",
      "Correct!\n"
     ]
    }
   ],
   "source": [
    "print(\"Total unique tokens :\", len(token_counts))\n",
    "print('\\n'.join(map(str, token_counts.most_common(n=5))))\n",
    "print('...')\n",
    "print('\\n'.join(map(str, token_counts.most_common()[-3:])))\n",
    "\n",
    "assert token_counts.most_common(1)[0][1] in  range(2600000, 2700000)\n",
    "assert len(token_counts) in range(200000, 210000)\n",
    "print('Correct!')"
   ]
  },
  {
   "cell_type": "code",
   "execution_count": 15,
   "metadata": {
    "colab": {
     "base_uri": "https://localhost:8080/",
     "height": 279
    },
    "colab_type": "code",
    "id": "L906on8gygjo",
    "outputId": "0ae1f720-c693-48f7-9959-78a782060f03"
   },
   "outputs": [
    {
     "data": {
      "image/png": "[encoded data removed]",
      "text/plain": [
       "<Figure size 432x288 with 1 Axes>"
      ]
     },
     "metadata": {},
     "output_type": "display_data"
    }
   ],
   "source": [
    "# Let's see how many words are there for each count\n",
    "plt.hist(list(token_counts.values()), range=[0, 10**4], bins=50, log=True)\n",
    "plt.xlabel(\"Word counts\");"
   ]
  },
  {
   "cell_type": "markdown",
   "metadata": {
    "colab_type": "text",
    "id": "kHgo0Epbygjp"
   },
   "source": [
    "Now filter tokens a list of all tokens that occur at least 10 times."
   ]
  },
  {
   "cell_type": "code",
   "execution_count": 16,
   "metadata": {
    "colab": {},
    "colab_type": "code",
    "id": "tEmeouVUygjq"
   },
   "outputs": [],
   "source": [
    "min_count = 10\n",
    "\n",
    "# tokens from token_counts keys that had at least min_count occurrences throughout the dataset\n",
    "tokens = [token for token, count in token_counts.items() if count > min_count]"
   ]
  },
  {
   "cell_type": "code",
   "execution_count": 17,
   "metadata": {
    "colab": {
     "base_uri": "https://localhost:8080/",
     "height": 53
    },
    "colab_type": "code",
    "id": "1XiuDG8dygjs",
    "outputId": "05b6c078-480e-4783-be00-03576025121e"
   },
   "outputs": [
    {
     "name": "stdout",
     "output_type": "stream",
     "text": [
      "Vocabulary size: 32456\n",
      "Correct!\n"
     ]
    }
   ],
   "source": [
    "# Add a special tokens for unknown and empty words\n",
    "UNK, PAD = \"UNK\", \"PAD\"\n",
    "tokens = [UNK, PAD] + sorted(tokens)\n",
    "print(\"Vocabulary size:\", len(tokens))\n",
    "\n",
    "assert type(tokens) == list\n",
    "assert len(tokens) in range(32000, 35000)\n",
    "assert 'me' in tokens\n",
    "assert UNK in tokens\n",
    "print(\"Correct!\")"
   ]
  },
  {
   "cell_type": "markdown",
   "metadata": {
    "colab_type": "text",
    "id": "1_nyoGWjygjv"
   },
   "source": [
    "Build an inverse token index: a dictionary from token(string) to it's index in `tokens` (int)"
   ]
  },
  {
   "cell_type": "code",
   "execution_count": 18,
   "metadata": {
    "colab": {},
    "colab_type": "code",
    "id": "mdjBdTC1ygjw"
   },
   "outputs": [],
   "source": [
    "token_to_id = {word:i for i, word in enumerate(tokens)}"
   ]
  },
  {
   "cell_type": "code",
   "execution_count": 19,
   "metadata": {
    "colab": {
     "base_uri": "https://localhost:8080/",
     "height": 35
    },
    "colab_type": "code",
    "id": "R2phimH-ygjx",
    "outputId": "174ee08e-5e13-426c-c9da-5d769265f7a3"
   },
   "outputs": [
    {
     "name": "stdout",
     "output_type": "stream",
     "text": [
      "Correct!\n"
     ]
    }
   ],
   "source": [
    "assert isinstance(token_to_id, dict)\n",
    "assert len(token_to_id) == len(tokens)\n",
    "for tok in tokens:\n",
    "    assert tokens[token_to_id[tok]] == tok\n",
    "\n",
    "print(\"Correct!\")"
   ]
  },
  {
   "cell_type": "markdown",
   "metadata": {
    "colab_type": "text",
    "id": "FY17puj4ygjz"
   },
   "source": [
    "And finally, let's use the vocabulary you've built to map text lines into neural network-digestible matrices."
   ]
  },
  {
   "cell_type": "code",
   "execution_count": 20,
   "metadata": {
    "colab": {},
    "colab_type": "code",
    "id": "-e_rwoOjygj1"
   },
   "outputs": [],
   "source": [
    "UNK_IX, PAD_IX = map(token_to_id.get, [UNK, PAD])\n",
    "\n",
    "def as_matrix(sequences, max_len=None):\n",
    "    \"\"\" Convert a list of tokens into a matrix with padding \"\"\"\n",
    "    if isinstance(sequences[0], str):\n",
    "        sequences = list(map(str.split, sequences))\n",
    "        \n",
    "    max_len = min(max(map(len, sequences)), max_len or float('inf'))\n",
    "    \n",
    "    matrix = np.full((len(sequences), max_len), np.int32(PAD_IX))\n",
    "    for i,seq in enumerate(sequences):\n",
    "        row_ix = [token_to_id.get(word, UNK_IX) for word in seq[:max_len]]\n",
    "        matrix[i, :len(row_ix)] = row_ix\n",
    "    \n",
    "    return matrix"
   ]
  },
  {
   "cell_type": "code",
   "execution_count": 21,
   "metadata": {
    "colab": {
     "base_uri": "https://localhost:8080/",
     "height": 179
    },
    "colab_type": "code",
    "id": "BHDT-QN0ygj3",
    "outputId": "564a62ab-9683-4be4-d9f8-2658404a2c3b"
   },
   "outputs": [
    {
     "name": "stdout",
     "output_type": "stream",
     "text": [
      "Lines:\n",
      "engineering systems analyst\n",
      "hr assistant\n",
      "senior ec & i engineer\n",
      "\n",
      "Matrix:\n",
      "[[10273 28655  2055     1     1]\n",
      " [14296  2700     1     1     1]\n",
      " [26272  9698    14 14484 10270]]\n"
     ]
    }
   ],
   "source": [
    "print(\"Lines:\")\n",
    "print('\\n'.join(data[\"Title\"][::100000].values), end='\\n\\n')\n",
    "print(\"Matrix:\")\n",
    "print(as_matrix(data[\"Title\"][::100000]))"
   ]
  },
  {
   "cell_type": "markdown",
   "metadata": {
    "colab_type": "text",
    "id": "6PUw4l3gygj7"
   },
   "source": [
    "Now let's  encode the categirical data we have.\n",
    "\n",
    "As usual, we shall use one-hot encoding for simplicity. Kudos if you implement more advanced encodings: tf-idf, pseudo-time-series, etc."
   ]
  },
  {
   "cell_type": "code",
   "execution_count": 22,
   "metadata": {
    "colab": {
     "base_uri": "https://localhost:8080/",
     "height": 53
    },
    "colab_type": "code",
    "id": "-9Dh4dfMygj7",
    "outputId": "2a16f224-66e5-43de-a49a-7de976e2c8d1"
   },
   "outputs": [
    {
     "data": {
      "text/plain": [
       "DictVectorizer(dtype=<class 'numpy.float32'>, separator='=', sort=True,\n",
       "        sparse=False)"
      ]
     },
     "execution_count": 22,
     "metadata": {},
     "output_type": "execute_result"
    }
   ],
   "source": [
    "from sklearn.feature_extraction import DictVectorizer\n",
    "\n",
    "# we only consider top-1k most frequent companies to minimize memory usage\n",
    "top_companies, top_counts = zip(*Counter(data['Company']).most_common(1000))\n",
    "recognized_companies = set(top_companies)\n",
    "data[\"Company\"] = data[\"Company\"].apply(lambda comp: comp if comp in recognized_companies else \"Other\")\n",
    "\n",
    "categorical_vectorizer = DictVectorizer(dtype=np.float32, sparse=False)\n",
    "categorical_vectorizer.fit(data[categorical_columns].apply(dict, axis=1))"
   ]
  },
  {
   "cell_type": "markdown",
   "metadata": {
    "colab_type": "text",
    "id": "8E9aBaz3ygj-"
   },
   "source": [
    "### The deep learning part\n",
    "\n",
    "Once we've learned to tokenize the data, let's design a machine learning experiment.\n",
    "\n",
    "As before, we won't focus too much on validation, opting for a simple train-test split.\n",
    "\n",
    "__To be completely rigorous,__ we've comitted a small crime here: we used the whole data for tokenization and vocabulary building. A more strict way would be to do that part on training set only. You may want to do that and measure the magnitude of changes."
   ]
  },
  {
   "cell_type": "code",
   "execution_count": 24,
   "metadata": {
    "colab": {
     "base_uri": "https://localhost:8080/",
     "height": 53
    },
    "colab_type": "code",
    "id": "2xAPt3Q5ygj-",
    "outputId": "ce9cf40c-f3f6-421d-bbb3-e35696cd8ef0"
   },
   "outputs": [
    {
     "name": "stdout",
     "output_type": "stream",
     "text": [
      "Train size =  195814\n",
      "Validation size =  48954\n"
     ]
    }
   ],
   "source": [
    "from sklearn.model_selection import train_test_split\n",
    "\n",
    "data_train, data_val = train_test_split(data, test_size=0.2, random_state=42)\n",
    "data_train.index = range(len(data_train))\n",
    "data_val.index = range(len(data_val))\n",
    "\n",
    "print(\"Train size = \", len(data_train))\n",
    "print(\"Validation size = \", len(data_val))"
   ]
  },
  {
   "cell_type": "code",
   "execution_count": 27,
   "metadata": {
    "colab": {},
    "colab_type": "code",
    "id": "YE5Om1KYygj_"
   },
   "outputs": [],
   "source": [
    "def make_batch(data, max_len=None, word_dropout=0):\n",
    "    \"\"\"\n",
    "    Creates a keras-friendly dict from the batch data.\n",
    "    :param word_dropout: replaces token index with UNK_IX with this probability\n",
    "    :returns: a dict with {'title' : int64[batch, title_max_len]\n",
    "    \"\"\"\n",
    "    batch = {}\n",
    "    batch[\"Title\"] = as_matrix(data[\"Title\"].values, max_len)\n",
    "    batch[\"FullDescription\"] = as_matrix(data[\"FullDescription\"].values, max_len)\n",
    "    batch['Categorical'] = categorical_vectorizer.transform(data[categorical_columns].apply(dict, axis=1))\n",
    "    \n",
    "    if word_dropout != 0:\n",
    "        batch[\"FullDescription\"] = apply_word_dropout(batch[\"FullDescription\"], 1. - word_dropout)\n",
    "    \n",
    "    if target_column in data.columns:\n",
    "        batch[target_column] = data[target_column].values\n",
    "    \n",
    "    return batch\n",
    "\n",
    "def apply_word_dropout(matrix, keep_prop, replace_with=UNK_IX, pad_ix=PAD_IX,):\n",
    "    dropout_mask = np.random.choice(2, np.shape(matrix), p=[keep_prop, 1 - keep_prop])\n",
    "    dropout_mask &= matrix != pad_ix\n",
    "    return np.choose(dropout_mask, [matrix, np.full_like(matrix, replace_with)])"
   ]
  },
  {
   "cell_type": "code",
   "execution_count": 28,
   "metadata": {
    "colab": {
     "base_uri": "https://localhost:8080/",
     "height": 251
    },
    "colab_type": "code",
    "id": "p749r0IiygkD",
    "outputId": "0d6f6079-4e1d-4286-cc70-e112570b4d03"
   },
   "outputs": [
    {
     "data": {
      "text/plain": [
       "{'Title': array([[26272, 28401, 31999,     1,     1,     1,     1],\n",
       "        [27772,   187, 18227, 19056, 14801, 22008,  3848],\n",
       "        [10082, 28895, 16876,    31,  8281, 27695,    61]], dtype=int32),\n",
       " 'FullDescription': array([[26272, 28401, 31999, 31307,   909, 26272, 28401, 31999, 15662,\n",
       "         31307],\n",
       "        [27772,   187, 18227, 19056, 14801, 22008,  3848, 24230,   836,\n",
       "            77],\n",
       "        [29212, 20872, 19591,  6092, 15662,  7773, 26125,   909, 28895,\n",
       "         16876]], dtype=int32),\n",
       " 'Categorical': array([[0., 0., 0., ..., 0., 0., 0.],\n",
       "        [0., 0., 0., ..., 0., 0., 0.],\n",
       "        [0., 0., 0., ..., 0., 0., 0.]], dtype=float32),\n",
       " 'Log1pSalary': array([ 9.71154 , 10.463132, 10.71444 ], dtype=float32)}"
      ]
     },
     "execution_count": 28,
     "metadata": {},
     "output_type": "execute_result"
    }
   ],
   "source": [
    "make_batch(data_train[:3], max_len=10)"
   ]
  },
  {
   "cell_type": "markdown",
   "metadata": {
    "colab_type": "text",
    "id": "miu5oDpQygkG"
   },
   "source": [
    "#### Architecture\n",
    "\n",
    "Our basic model consists of three branches:\n",
    "* Title encoder\n",
    "* Description encoder\n",
    "* Categorical features encoder\n",
    "\n",
    "We will then feed all 3 branches into one common network that predicts salary.\n",
    "\n",
    "<img src=\"https://github.com/yandexdataschool/nlp_course/raw/master/resources/w2_conv_arch.png\" width=600px>"
   ]
  },
  {
   "cell_type": "markdown",
   "metadata": {
    "colab_type": "text",
    "id": "XlW5TyncygkH"
   },
   "source": [
    "This clearly doesn't fit into keras' __Sequential__ interface. To build such a network, one will have to use __[Keras Functional API](https://keras.io/models/model/)__."
   ]
  },
  {
   "cell_type": "code",
   "execution_count": 29,
   "metadata": {
    "colab": {
     "base_uri": "https://localhost:8080/",
     "height": 35
    },
    "colab_type": "code",
    "id": "Xo3ANQ6SygkI",
    "outputId": "b37bc3da-f5c1-40fb-d1c6-2088ffe2d967"
   },
   "outputs": [
    {
     "name": "stderr",
     "output_type": "stream",
     "text": [
      "/Users/ya-philya/anaconda3/lib/python3.6/site-packages/h5py/__init__.py:36: FutureWarning: Conversion of the second argument of issubdtype from `float` to `np.floating` is deprecated. In future, it will be treated as `np.float64 == np.dtype(float).type`.\n",
      "  from ._conv import register_converters as _register_converters\n",
      "Using TensorFlow backend.\n",
      "/Users/ya-philya/anaconda3/lib/python3.6/importlib/_bootstrap.py:219: RuntimeWarning: compiletime version 3.5 of module 'tensorflow.python.framework.fast_tensor_util' does not match runtime version 3.6\n",
      "  return f(*args, **kwds)\n"
     ]
    }
   ],
   "source": [
    "import keras\n",
    "import keras.layers as L"
   ]
  },
  {
   "cell_type": "code",
   "execution_count": 31,
   "metadata": {
    "colab": {},
    "colab_type": "code",
    "id": "-ROFeQ-VygkJ"
   },
   "outputs": [],
   "source": [
    "def build_model(n_tokens=len(tokens), n_cat_features=len(categorical_vectorizer.vocabulary_), hid_size=64):\n",
    "    \"\"\" Build a model that maps three data sources to a single linear output: predicted log1p(salary) \"\"\"\n",
    "    \n",
    "    l_title = L.Input(shape=[None], name=\"Title\")\n",
    "    l_descr = L.Input(shape=[None], name=\"FullDescription\")\n",
    "    l_categ = L.Input(shape=[n_cat_features], name=\"Categorical\")\n",
    "    \n",
    "    # Build your monster!\n",
    "    \n",
    "    # <YOUR CODE>\n",
    "    emb = L.Embedding(n_tokens, hid_size)\n",
    "    \n",
    "    l_title_emb = emb(l_title)\n",
    "    l_title_conv = L.Conv1D(hid_size, kernel_size=2, activation='relu')(l_title_emb)\n",
    "    l_title_out = L.GlobalMaxPool1D()(l_title_conv)\n",
    "    \n",
    "    l_descr_emb = emb(l_descr)\n",
    "    l_descr_conv = L.Conv1D(filters=hid_size, kernel_size=2)(l_descr_emb)\n",
    "    l_descr_out = L.GlobalMaxPool1D()(l_descr_conv)\n",
    "    \n",
    "    l_categ_out = L.Dense(16)(l_categ)\n",
    "    \n",
    "    l_combined = L.Concatenate()([l_title_out, l_descr_out, l_categ_out])\n",
    "    \n",
    "    l_combined_dense = L.Dense(32)(l_combined)\n",
    "    output_layer = L.Dense(1)(l_combined_dense)\n",
    "    \n",
    "    # end of your code\n",
    "    \n",
    "    model = keras.models.Model(inputs=[l_title, l_descr, l_categ], outputs=[output_layer])\n",
    "    model.compile('adam', 'mean_squared_error', metrics=['mean_absolute_error'])\n",
    "    return model\n",
    "    "
   ]
  },
  {
   "cell_type": "code",
   "execution_count": 33,
   "metadata": {
    "colab": {
     "base_uri": "https://localhost:8080/",
     "height": 629
    },
    "colab_type": "code",
    "id": "PcwCQY6MygkK",
    "outputId": "25cd9f48-8545-405a-eef7-c82f9745970c"
   },
   "outputs": [
    {
     "name": "stdout",
     "output_type": "stream",
     "text": [
      "__________________________________________________________________________________________________\n",
      "Layer (type)                    Output Shape         Param #     Connected to                     \n",
      "==================================================================================================\n",
      "Title (InputLayer)              (None, None)         0                                            \n",
      "__________________________________________________________________________________________________\n",
      "FullDescription (InputLayer)    (None, None)         0                                            \n",
      "__________________________________________________________________________________________________\n",
      "embedding_2 (Embedding)         (None, None, 64)     2077184     Title[0][0]                      \n",
      "                                                                 FullDescription[0][0]            \n",
      "__________________________________________________________________________________________________\n",
      "conv1d_3 (Conv1D)               (None, None, 64)     8256        embedding_2[0][0]                \n",
      "__________________________________________________________________________________________________\n",
      "conv1d_4 (Conv1D)               (None, None, 64)     8256        embedding_2[1][0]                \n",
      "__________________________________________________________________________________________________\n",
      "Categorical (InputLayer)        (None, 3768)         0                                            \n",
      "__________________________________________________________________________________________________\n",
      "global_max_pooling1d_3 (GlobalM (None, 64)           0           conv1d_3[0][0]                   \n",
      "__________________________________________________________________________________________________\n",
      "global_max_pooling1d_4 (GlobalM (None, 64)           0           conv1d_4[0][0]                   \n",
      "__________________________________________________________________________________________________\n",
      "dense_4 (Dense)                 (None, 16)           60304       Categorical[0][0]                \n",
      "__________________________________________________________________________________________________\n",
      "concatenate_2 (Concatenate)     (None, 144)          0           global_max_pooling1d_3[0][0]     \n",
      "                                                                 global_max_pooling1d_4[0][0]     \n",
      "                                                                 dense_4[0][0]                    \n",
      "__________________________________________________________________________________________________\n",
      "dense_5 (Dense)                 (None, 32)           4640        concatenate_2[0][0]              \n",
      "__________________________________________________________________________________________________\n",
      "dense_6 (Dense)                 (None, 1)            33          dense_5[0][0]                    \n",
      "==================================================================================================\n",
      "Total params: 2,158,673\n",
      "Trainable params: 2,158,673\n",
      "Non-trainable params: 0\n",
      "__________________________________________________________________________________________________\n"
     ]
    }
   ],
   "source": [
    "model = build_model()\n",
    "model.summary()\n",
    "\n",
    "dummy_pred = model.predict(make_batch(data_train[:100]))\n",
    "dummy_loss = model.train_on_batch(make_batch(data_train[:100]), data_train['Log1pSalary'][:100])[0]\n",
    "assert dummy_pred.shape == (100, 1)\n",
    "assert len(np.unique(dummy_pred)) > 20, \"model returns suspiciously few unique outputs. Check your initialization\"\n",
    "assert np.ndim(dummy_loss) == 0 and 0. <= dummy_loss <= 250., \"make sure you minimize MSE\""
   ]
  },
  {
   "cell_type": "markdown",
   "metadata": {
    "colab_type": "text",
    "id": "8bJ9NkNFygkM"
   },
   "source": [
    "#### Training and evaluation\n",
    "\n",
    "As usual, we gonna feed our monster with random minibatches of data. \n",
    "\n",
    "As we train, we want to monitor not only loss function, which is computed in log-space, but also the actual error measured in dollars."
   ]
  },
  {
   "cell_type": "code",
   "execution_count": 35,
   "metadata": {
    "colab": {},
    "colab_type": "code",
    "id": "9UtuikBnygkN"
   },
   "outputs": [],
   "source": [
    "def iterate_minibatches(data, batch_size=256, shuffle=True, cycle=False, **kwargs):\n",
    "    \"\"\" iterates minibatches of data in random order \"\"\"\n",
    "    while True:\n",
    "        indices = np.arange(len(data))\n",
    "        if shuffle:\n",
    "            indices = np.random.permutation(indices)\n",
    "\n",
    "        for start in range(0, len(indices), batch_size):\n",
    "            batch = make_batch(data.iloc[indices[start : start + batch_size]], **kwargs)\n",
    "            target = batch.pop(target_column)\n",
    "            yield batch, target\n",
    "        \n",
    "        if not cycle: break"
   ]
  },
  {
   "cell_type": "markdown",
   "metadata": {
    "colab_type": "text",
    "id": "z0B4G6NBygkQ"
   },
   "source": [
    "### Model training\n",
    "\n",
    "We can now fit our model the usual minibatch way. The interesting part is that we train on an infinite stream of minibatches, produced by `iterate_minibatches` function."
   ]
  },
  {
   "cell_type": "code",
   "execution_count": 34,
   "metadata": {
    "colab": {
     "base_uri": "https://localhost:8080/",
     "height": 415
    },
    "colab_type": "code",
    "id": "oDK7GfqiygkR",
    "outputId": "398c1f01-0871-48c8-adce-daf4bace4dd0"
   },
   "outputs": [
    {
     "name": "stdout",
     "output_type": "stream",
     "text": [
      "Epoch 1/10\n",
      "100/100 [==============================] - 25s 252ms/step - loss: 19.0922 - mean_absolute_error: 2.8153 - val_loss: 0.4254 - val_mean_absolute_error: 0.4958\n",
      "Epoch 2/10\n",
      "100/100 [==============================] - 23s 227ms/step - loss: 0.3040 - mean_absolute_error: 0.4229 - val_loss: 0.2736 - val_mean_absolute_error: 0.3939\n",
      "Epoch 3/10\n",
      "100/100 [==============================] - 22s 218ms/step - loss: 0.2088 - mean_absolute_error: 0.3458 - val_loss: 0.2341 - val_mean_absolute_error: 0.3661\n",
      "Epoch 4/10\n",
      "100/100 [==============================] - 21s 213ms/step - loss: 0.1623 - mean_absolute_error: 0.3037 - val_loss: 0.1880 - val_mean_absolute_error: 0.3276\n",
      "Epoch 5/10\n",
      "100/100 [==============================] - 21s 209ms/step - loss: 0.1406 - mean_absolute_error: 0.2804 - val_loss: 0.1763 - val_mean_absolute_error: 0.3192\n",
      "Epoch 6/10\n",
      "100/100 [==============================] - 21s 211ms/step - loss: 0.1213 - mean_absolute_error: 0.2603 - val_loss: 0.1675 - val_mean_absolute_error: 0.3135\n",
      "Epoch 7/10\n",
      "100/100 [==============================] - 21s 212ms/step - loss: 0.1118 - mean_absolute_error: 0.2497 - val_loss: 0.1578 - val_mean_absolute_error: 0.3051\n",
      "Epoch 8/10\n",
      "100/100 [==============================] - 22s 215ms/step - loss: 0.1017 - mean_absolute_error: 0.2364 - val_loss: 0.1510 - val_mean_absolute_error: 0.3000\n",
      "Epoch 9/10\n",
      "100/100 [==============================] - 21s 206ms/step - loss: 0.0902 - mean_absolute_error: 0.2231 - val_loss: 0.1265 - val_mean_absolute_error: 0.2704\n",
      "Epoch 10/10\n",
      "100/100 [==============================] - 21s 207ms/step - loss: 0.0888 - mean_absolute_error: 0.2207 - val_loss: 0.1393 - val_mean_absolute_error: 0.2887\n"
     ]
    },
    {
     "data": {
      "text/plain": [
       "<keras.callbacks.History at 0x7faeeb347f98>"
      ]
     },
     "execution_count": 34,
     "metadata": {
      "tags": []
     },
     "output_type": "execute_result"
    }
   ],
   "source": [
    "batch_size = 256\n",
    "epochs = 10            # definitely too small\n",
    "steps_per_epoch = 100  # for full pass over data: (len(data_train) - 1) // batch_size + 1\n",
    "\n",
    "model = build_model()\n",
    "\n",
    "model.fit_generator(iterate_minibatches(data_train, batch_size, cycle=True, word_dropout=0.05), \n",
    "                    epochs=epochs, steps_per_epoch=steps_per_epoch,\n",
    "                    \n",
    "                    validation_data=iterate_minibatches(data_val, batch_size, cycle=True),\n",
    "                    validation_steps=data_val.shape[0] // batch_size\n",
    "                   )"
   ]
  },
  {
   "cell_type": "code",
   "execution_count": 35,
   "metadata": {
    "colab": {
     "base_uri": "https://localhost:8080/",
     "height": 125
    },
    "colab_type": "code",
    "id": "Dli2Y2tqygkT",
    "outputId": "24ae974e-2977-400d-d8ae-5d381271dc01"
   },
   "outputs": [
    {
     "name": "stdout",
     "output_type": "stream",
     "text": [
      "Train results:\n",
      "Mean square error: 0.12943\n",
      "Mean absolute error: 0.27854\n",
      "Val results:\n",
      "Mean square error: 0.13979\n",
      "Mean absolute error: 0.28912\n"
     ]
    }
   ],
   "source": [
    "def print_metrics(model, data, batch_size=batch_size, name=\"\", **kw):\n",
    "    squared_error = abs_error = num_samples = 0.0\n",
    "    for batch_x, batch_y in iterate_minibatches(data, batch_size=batch_size, shuffle=False, **kw):\n",
    "        batch_pred = model.predict(batch_x)[:, 0]\n",
    "        squared_error += np.sum(np.square(batch_pred - batch_y))\n",
    "        abs_error += np.sum(np.abs(batch_pred - batch_y))\n",
    "        num_samples += len(batch_y)\n",
    "    print(\"%s results:\" % (name or \"\"))\n",
    "    print(\"Mean square error: %.5f\" % (squared_error / num_samples))\n",
    "    print(\"Mean absolute error: %.5f\" % (abs_error / num_samples))\n",
    "    return squared_error, abs_error\n",
    "    \n",
    "print_metrics(model, data_train, name='Train')\n",
    "print_metrics(model, data_val, name='Val');"
   ]
  },
  {
   "cell_type": "markdown",
   "metadata": {
    "colab_type": "text",
    "id": "KF9_RcxUygkU"
   },
   "source": [
    "### Bonus part: explaining model predictions\n",
    "\n",
    "It's usually a good idea to understand how your model works before you let it make actual decisions. It's simple for linear models: just see which words learned positive or negative weights. However, its much harder for neural networks that learn complex nonlinear dependencies.\n",
    "\n",
    "There are, however, some ways to look inside the black box:\n",
    "* Seeing how model responds to input perturbations\n",
    "* Finding inputs that maximize/minimize activation of some chosen neurons (_read more [on distill.pub](https://distill.pub/2018/building-blocks/)_)\n",
    "* Building local linear approximations to your neural network: [article](https://arxiv.org/abs/1602.04938), [eli5 library](https://github.com/TeamHG-Memex/eli5/tree/master/eli5/formatters)\n",
    "\n",
    "Today we gonna try the first method just because it's the simplest one."
   ]
  },
  {
   "cell_type": "code",
   "execution_count": 0,
   "metadata": {
    "colab": {},
    "colab_type": "code",
    "id": "6QsOcaGgygkX"
   },
   "outputs": [],
   "source": [
    "def explain(model, sample, col_name='Title'):\n",
    "    \"\"\" Computes the effect each word had on model predictions \"\"\"\n",
    "    sample = dict(sample)\n",
    "    sample_col_tokens = [tokens[token_to_id.get(tok, 0)] for tok in sample[col_name].split()]\n",
    "    data_drop_one_token = pd.DataFrame([sample] * (len(sample_col_tokens) + 1))\n",
    "\n",
    "    for drop_i in range(len(sample_col_tokens)):\n",
    "        data_drop_one_token.loc[drop_i, col_name] = ' '.join(UNK if i == drop_i else tok\n",
    "                                                   for i, tok in enumerate(sample_col_tokens)) \n",
    "\n",
    "    *predictions_drop_one_token, baseline_pred = model.predict(make_batch(data_drop_one_token))[:, 0]\n",
    "    diffs = baseline_pred - predictions_drop_one_token\n",
    "    return list(zip(sample_col_tokens, diffs))"
   ]
  },
  {
   "cell_type": "code",
   "execution_count": 0,
   "metadata": {
    "colab": {},
    "colab_type": "code",
    "id": "IqNRdubcygkZ"
   },
   "outputs": [],
   "source": [
    "from IPython.display import HTML, display_html\n",
    "\n",
    "def draw_html(tokens_and_weights, cmap=plt.get_cmap(\"bwr\"), display=True,\n",
    "              token_template=\"\"\"<span style=\"background-color: {color_hex}\">{token}</span>\"\"\",\n",
    "              font_style=\"font-size:14px;\"\n",
    "             ):\n",
    "    \n",
    "    def get_color_hex(weight):\n",
    "        rgba = cmap(1. / (1 + np.exp(weight)), bytes=True)\n",
    "        return '#%02X%02X%02X' % rgba[:3]\n",
    "    \n",
    "    tokens_html = [\n",
    "        token_template.format(token=token, color_hex=get_color_hex(weight))\n",
    "        for token, weight in tokens_and_weights\n",
    "    ]\n",
    "    \n",
    "    \n",
    "    raw_html = \"\"\"<p style=\"{}\">{}</p>\"\"\".format(font_style, ' '.join(tokens_html))\n",
    "    if display:\n",
    "        display_html(HTML(raw_html))\n",
    "        \n",
    "    return raw_html\n",
    "    "
   ]
  },
  {
   "cell_type": "code",
   "execution_count": 38,
   "metadata": {
    "colab": {
     "base_uri": "https://localhost:8080/",
     "height": 229
    },
    "colab_type": "code",
    "id": "7G7NXfQyygka",
    "outputId": "89d986d0-bd0f-496b-f76a-92a2c0c48eff"
   },
   "outputs": [
    {
     "data": {
      "text/html": [
       "<p style=\"font-size:20px;\"><span style=\"background-color: #EAEAFF\">sales</span> <span style=\"background-color: #F8F8FF\">specialist</span> <span style=\"background-color: #FF5959\">iv</span> <span style=\"background-color: #FF6666\">access</span> <span style=\"background-color: #FFC0C0\">and</span> <span style=\"background-color: #FF9E9E\">infusion</span></p>"
      ]
     },
     "metadata": {
      "tags": []
     },
     "output_type": "display_data"
    },
    {
     "data": {
      "text/html": [
       "<p style=\"font-size:14px;\"><span style=\"background-color: #FFF6F6\">sales</span> <span style=\"background-color: #FFB0B0\">representative</span> <span style=\"background-color: #FFDEDE\">medical</span> <span style=\"background-color: #FFCACA\">sales</span> <span style=\"background-color: #FFCCCC\">iv</span> <span style=\"background-color: #FFE4E4\">access</span> <span style=\"background-color: #FFE8E8\">and</span> <span style=\"background-color: #FFD3D3\">infusion</span> <span style=\"background-color: #FFE0E0\">an</span> <span style=\"background-color: #FFBEBE\">opportunity</span> <span style=\"background-color: #FFC8C8\">to</span> <span style=\"background-color: #FFBCBC\">work</span> <span style=\"background-color: #D6D6FF\">for</span> <span style=\"background-color: #FFDEDE\">the</span> <span style=\"background-color: #FFA8A8\">industry</span> <span style=\"background-color: #FFD2D2\">leading</span> <span style=\"background-color: #FFCECE\">manufacturer</span> <span style=\"background-color: #FFE6E6\">of</span> <span style=\"background-color: #FFD6D6\">iv</span> <span style=\"background-color: #FFE4E4\">access</span> <span style=\"background-color: #FFE8E8\">and</span> <span style=\"background-color: #FFE0E0\">infusion</span> <span style=\"background-color: #FFE2E2\">solutions</span> <span style=\"background-color: #FFB8B8\">.</span> <span style=\"background-color: #FFC2C2\">formally</span> <span style=\"background-color: #FFF8F8\">recognised</span> <span style=\"background-color: #FFCCCC\">as</span> <span style=\"background-color: #FFEAEA\">the</span> <span style=\"background-color: #FFC2C2\">number</span> <span style=\"background-color: #FFD0D0\">****</span> <span style=\"background-color: #FFCECE\">company</span> <span style=\"background-color: #FFD8D8\">in</span> <span style=\"background-color: #FFD6D6\">this</span> <span style=\"background-color: #FFDCDC\">market</span> <span style=\"background-color: #FFEAEA\">space</span> <span style=\"background-color: #FFF4F4\">,</span> <span style=\"background-color: #FFB0B0\">our</span> <span style=\"background-color: #FFE4E4\">client</span> <span style=\"background-color: #FFCCCC\">are</span> <span style=\"background-color: #FFEEEE\">an</span> <span style=\"background-color: #FFB2B2\">ethical</span> <span style=\"background-color: #FFF0F0\">and</span> <span style=\"background-color: #FFDADA\">dynamic</span> <span style=\"background-color: #FFE8E8\">organisation</span> <span style=\"background-color: #FFDEDE\">absolutely</span> <span style=\"background-color: #FFE2E2\">committed</span> <span style=\"background-color: #FFECEC\">to</span> <span style=\"background-color: #FFCACA\">the</span> <span style=\"background-color: #FFC0C0\">advancement</span> <span style=\"background-color: #FFE0E0\">of</span> <span style=\"background-color: #FFD6D6\">innovative</span> <span style=\"background-color: #FFD8D8\">technologies</span> <span style=\"background-color: #FFBEBE\">.</span> <span style=\"background-color: #FFCECE\">job</span> <span style=\"background-color: #FFC0C0\">title</span> <span style=\"background-color: #FFE2E2\">:</span> <span style=\"background-color: #FFCACA\">sales</span> <span style=\"background-color: #FFCCCC\">specialist</span> <span style=\"background-color: #FFBEBE\">iv</span> <span style=\"background-color: #FFE4E4\">access</span> <span style=\"background-color: #FFE8E8\">and</span> <span style=\"background-color: #FFE2E2\">infusion</span> <span style=\"background-color: #FFDADA\">selling</span> <span style=\"background-color: #FFF4F4\">:</span> <span style=\"background-color: #FFCECE\">medication</span> <span style=\"background-color: #FFDCDC\">delivery</span> <span style=\"background-color: #FFF6F6\">solutions</span> <span style=\"background-color: #FFB6B6\">selling</span> <span style=\"background-color: #FFECEC\">to</span> <span style=\"background-color: #FFCACA\">:</span> <span style=\"background-color: #FFD0D0\">iv</span> <span style=\"background-color: #FFF4F4\">teams</span> <span style=\"background-color: #FF8080\">,</span> <span style=\"background-color: #FFB6B6\">infection</span> <span style=\"background-color: #FFDADA\">control</span> <span style=\"background-color: #FFD2D2\">,</span> <span style=\"background-color: #FFAEAE\">lead</span> <span style=\"background-color: #FFDADA\">intensive</span> <span style=\"background-color: #FFDEDE\">care</span> <span style=\"background-color: #FFEAEA\">nurse</span> <span style=\"background-color: #FFE6E6\">specialists</span> <span style=\"background-color: #FFC2C2\">,</span> <span style=\"background-color: #FF8686\">ward</span> <span style=\"background-color: #FFF0F0\">managers</span> <span style=\"background-color: #FFACAC\">territory</span> <span style=\"background-color: #FFDEDE\">:</span> <span style=\"background-color: #FFD3D3\">east</span> <span style=\"background-color: #FFDEDE\">midlands</span> <span style=\"background-color: #FFE2E2\">location</span> <span style=\"background-color: #FFE8E8\">:</span> <span style=\"background-color: #FFD3D3\">east</span> <span style=\"background-color: #FFDEDE\">midlands</span> <span style=\"background-color: #FFE2E2\">package</span> <span style=\"background-color: #FFDADA\">:</span> <span style=\"background-color: #FFCCCC\">basic</span> <span style=\"background-color: #FFEAEA\">:</span> <span style=\"background-color: #FFC2C2\">****</span> <span style=\"background-color: #FFD0D0\">k</span> <span style=\"background-color: #FFCACA\">****</span> <span style=\"background-color: #FFE8E8\">k</span> <span style=\"background-color: #FFF4F4\">,</span> <span style=\"background-color: #FFBABA\">uncapped</span> <span style=\"background-color: #FFEEEE\">bonus</span> <span style=\"background-color: #FFEEEE\">in</span> <span style=\"background-color: #FFD3D3\">addition</span> <span style=\"background-color: #FFD2D2\">,</span> <span style=\"background-color: #FFB8B8\">full</span> <span style=\"background-color: #ACACFF\">corporate</span> <span style=\"background-color: #FFFEFE\">benefits</span> <span style=\"background-color: #FFE4E4\">company</span> <span style=\"background-color: #FFDADA\">information</span> <span style=\"background-color: #FFE6E6\">hugely</span> <span style=\"background-color: #FFC8C8\">ethical</span> <span style=\"background-color: #FFE6E6\">and</span> <span style=\"background-color: #FFC8C8\">professional</span> <span style=\"background-color: #FFEEEE\">global</span> <span style=\"background-color: #FFDADA\">organisation</span> <span style=\"background-color: #FFDEDE\">extremely</span> <span style=\"background-color: #FFFAFA\">well</span> <span style=\"background-color: #FFD3D3\">established</span> <span style=\"background-color: #FFE8E8\">in</span> <span style=\"background-color: #FFB8B8\">the</span> <span style=\"background-color: #FFB3B3\">uk</span> <span style=\"background-color: #FFC6C6\">the</span> <span style=\"background-color: #FFBEBE\">market</span> <span style=\"background-color: #FFEAEA\">leader</span> <span style=\"background-color: #FFC3C3\">across</span> <span style=\"background-color: #FFC8C8\">all</span> <span style=\"background-color: #FFD0D0\">of</span> <span style=\"background-color: #FFD6D6\">their</span> <span style=\"background-color: #FFC2C2\">core</span> <span style=\"background-color: #FFEEEE\">business</span> <span style=\"background-color: #FFCECE\">areas</span> <span style=\"background-color: #FFD2D2\">focus</span> <span style=\"background-color: #FFFEFE\">on</span> <span style=\"background-color: #FFF0F0\">providing</span> <span style=\"background-color: #FFCACA\">cutting</span> <span style=\"background-color: #FCFCFF\">edge</span> <span style=\"background-color: #FFDCDC\">solutions</span> <span style=\"background-color: #FFB0B0\">along</span> <span style=\"background-color: #FFE2E2\">with</span> <span style=\"background-color: #FFBCBC\">outstanding</span> <span style=\"background-color: #FFBCBC\">service</span> <span style=\"background-color: #FFF6F6\">and</span> <span style=\"background-color: #FFD3D3\">support</span> <span style=\"background-color: #FFEAEA\">a</span> <span style=\"background-color: #FFE6E6\">business</span> <span style=\"background-color: #FFD0D0\">that</span> <span style=\"background-color: #FFAAAA\">retain</span> <span style=\"background-color: #FFF4F4\">talented</span> <span style=\"background-color: #FFDCDC\">personnel</span> <span style=\"background-color: #FFE2E2\">by</span> <span style=\"background-color: #FFB2B2\">offering</span> <span style=\"background-color: #FFD0D0\">a</span> <span style=\"background-color: #FFE0E0\">strong</span> <span style=\"background-color: #FFD3D3\">platform</span> <span style=\"background-color: #FFD2D2\">for</span> <span style=\"background-color: #FFDEDE\">career</span> <span style=\"background-color: #FFCACA\">development</span> <span style=\"background-color: #FFCACA\">sales</span> <span style=\"background-color: #FFCCCC\">specialist</span> <span style=\"background-color: #FFBEBE\">iv</span> <span style=\"background-color: #FFE4E4\">access</span> <span style=\"background-color: #FFE8E8\">and</span> <span style=\"background-color: #FFE2E2\">infusion</span> <span style=\"background-color: #FFE2E2\">you</span> <span style=\"background-color: #FFDEDE\">must</span> <span style=\"background-color: #FFD8D8\">have</span> <span style=\"background-color: #FFDEDE\">/</span> <span style=\"background-color: #FFF0F0\">be</span> <span style=\"background-color: #FFCECE\">the</span> <span style=\"background-color: #FFB6B6\">following</span> <span style=\"background-color: #FFC6C6\">at</span> <span style=\"background-color: #FFBEBE\">least</span> <span style=\"background-color: #FFBABA\">2</span> <span style=\"background-color: #FFC2C2\">years</span> <span style=\"background-color: #FFF2F2\">medical</span> <span style=\"background-color: #FFCACA\">device</span> <span style=\"background-color: #FFAEAE\">sales</span> <span style=\"background-color: #FFD3D3\">experience</span> <span style=\"background-color: #FFFEFE\">.</span> <span style=\"background-color: #FFB2B2\">candidates</span> <span style=\"background-color: #FFECEC\">who</span> <span style=\"background-color: #FFD0D0\">have</span> <span style=\"background-color: #FFE4E4\">sold</span> <span style=\"background-color: #FFD6D6\">disposables</span> <span style=\"background-color: #FFE6E6\">/</span> <span style=\"background-color: #FFFEFE\">consumables</span> <span style=\"background-color: #FFECEC\">or</span> <span style=\"background-color: #FFE2E2\">similar</span> <span style=\"background-color: #FFD8D8\">into</span> <span style=\"background-color: #FFFEFE\">hospitals</span> <span style=\"background-color: #FFD3D3\">would</span> <span style=\"background-color: #FFC6C6\">be</span> <span style=\"background-color: #FFD2D2\">of</span> <span style=\"background-color: #FFCACA\">particular</span> <span style=\"background-color: #FFFEFE\">interest</span> <span style=\"background-color: #FFFAFA\">.</span> <span style=\"background-color: #FFC2C2\">candidates</span> <span style=\"background-color: #FFECEC\">must</span> <span style=\"background-color: #FFD3D3\">have</span> <span style=\"background-color: #FFE2E2\">sold</span> <span style=\"background-color: #FFCCCC\">into</span> <span style=\"background-color: #FFFEFE\">hospitals</span> <span style=\"background-color: #FFDADA\">demonstrable</span> <span style=\"background-color: #FFC2C2\">performance</span> <span style=\"background-color: #FFE0E0\">and</span> <span style=\"background-color: #FFE2E2\">achievements</span> <span style=\"background-color: #FFE8E8\">so</span> <span style=\"background-color: #FFE6E6\">far</span> <span style=\"background-color: #FFE4E4\">personable</span> <span style=\"background-color: #FFCCCC\">,</span> <span style=\"background-color: #FFACAC\">adaptable</span> <span style=\"background-color: #FFD8D8\">and</span> <span style=\"background-color: #FFE0E0\">willing</span> <span style=\"background-color: #FFFAFA\">to</span> <span style=\"background-color: #FFBEBE\">learn</span> <span style=\"background-color: #FF8E8E\">keen</span> <span style=\"background-color: #FFD8D8\">and</span> <span style=\"background-color: #FFE0E0\">eager</span> <span style=\"background-color: #FFEEEE\">to</span> <span style=\"background-color: #FFBCBC\">be</span> <span style=\"background-color: #FFD0D0\">a</span> <span style=\"background-color: #FFE6E6\">success</span> <span style=\"background-color: #FFC8C8\">candidates</span> <span style=\"background-color: #FFECEC\">must</span> <span style=\"background-color: #FFCACA\">have</span> <span style=\"background-color: #FFE0E0\">a</span> <span style=\"background-color: #FFE6E6\">degree</span> <span style=\"background-color: #FFDCDC\">or</span> <span style=\"background-color: #FFCCCC\">at</span> <span style=\"background-color: #FFC0C0\">least</span> <span style=\"background-color: #FFC8C8\">be</span> <span style=\"background-color: #FFD8D8\">able</span> <span style=\"background-color: #FFF0F0\">to</span> <span style=\"background-color: #FFBCBC\">show</span> <span style=\"background-color: #FFD0D0\">a</span> <span style=\"background-color: #FFE0E0\">strong</span> <span style=\"background-color: #FFDEDE\">ability</span> <span style=\"background-color: #FFFCFC\">to</span> <span style=\"background-color: #FFCACA\">learn</span> <span style=\"background-color: #FFE6E6\">role</span> <span style=\"background-color: #FFE6E6\">information</span> <span style=\"background-color: #FFD8D8\">managing</span> <span style=\"background-color: #FFE2E2\">the</span> <span style=\"background-color: #FFC2C2\">east</span> <span style=\"background-color: #FFEEEE\">midlands</span> <span style=\"background-color: #FCFCFF\">region</span> <span style=\"background-color: #FF9393\">selling</span> <span style=\"background-color: #FFE6E6\">across</span> <span style=\"background-color: #FFC6C6\">the</span> <span style=\"background-color: #FFC2C2\">company</span> <span style=\"background-color: #FFDCDC\">'</span> <span style=\"background-color: #FFCECE\">s</span> <span style=\"background-color: #FFD8D8\">range</span> <span style=\"background-color: #FFE6E6\">of</span> <span style=\"background-color: #FFC8C8\">iv</span> <span style=\"background-color: #FFF2F2\">and</span> <span style=\"background-color: #FFE0E0\">infusion</span> <span style=\"background-color: #FFE8E8\">solutions</span> <span style=\"background-color: #FFB8B8\">portfolio</span> <span style=\"background-color: #FFF2F2\">selling</span> <span style=\"background-color: #FFDCDC\">into</span> <span style=\"background-color: #FFF4F4\">lead</span> <span style=\"background-color: #FFDADA\">intensive</span> <span style=\"background-color: #FFDEDE\">care</span> <span style=\"background-color: #FFEAEA\">nurse</span> <span style=\"background-color: #FFE6E6\">specialists</span> <span style=\"background-color: #FFC2C2\">,</span> <span style=\"background-color: #FF8686\">ward</span> <span style=\"background-color: #FFF0F0\">managers</span> <span style=\"background-color: #FFB3B3\">,</span> <span style=\"background-color: #FFB6B6\">iv</span> <span style=\"background-color: #FFF4F4\">teams</span> <span style=\"background-color: #FF8080\">,</span> <span style=\"background-color: #FFB6B6\">infection</span> <span style=\"background-color: #FFD6D6\">control</span> <span style=\"background-color: #FFEAEA\">teams</span> <span style=\"background-color: #FF8080\">,</span> <span style=\"background-color: #FFB8B8\">procurement</span> <span style=\"background-color: #FFD6D6\">sales</span> <span style=\"background-color: #FFCCCC\">specialist</span> <span style=\"background-color: #FFBEBE\">iv</span> <span style=\"background-color: #FFE4E4\">access</span> <span style=\"background-color: #FFE8E8\">and</span> <span style=\"background-color: #FFE2E2\">infusion</span> <span style=\"background-color: #FFE2E2\">candidates</span> <span style=\"background-color: #FFE6E6\">must</span> <span style=\"background-color: #FFD8D8\">be</span> <span style=\"background-color: #FFD8D8\">eligible</span> <span style=\"background-color: #FFDADA\">to</span> <span style=\"background-color: #FFBCBC\">work</span> <span style=\"background-color: #FFFEFE\">and</span> <span style=\"background-color: #FFEAEA\">live</span> <span style=\"background-color: #FFB6B6\">in</span> <span style=\"background-color: #FFB8B8\">the</span> <span style=\"background-color: #FFC2C2\">uk</span> <span style=\"background-color: #FFC0C0\">.</span> <span style=\"background-color: #FFBCBC\">please</span> <span style=\"background-color: #FFECEC\">contact</span> <span style=\"background-color: #FFDEDE\">allan</span> <span style=\"background-color: #FFC3C3\">waller</span> <span style=\"background-color: #FFF8F8\">on</span> <span style=\"background-color: #FFF0F0\">****</span> <span style=\"background-color: #FFD0D0\">****</span> <span style=\"background-color: #FFD0D0\">****</span> <span style=\"background-color: #FFCACA\">or</span> <span style=\"background-color: #FFF6F6\">please</span> <span style=\"background-color: #FFDEDE\">hit</span> <span style=\"background-color: #FFDADA\">the</span> <span style=\"background-color: #FFC0C0\">apply</span> <span style=\"background-color: #FFD0D0\">button</span> <span style=\"background-color: #FFF6F6\">.</span> <span style=\"background-color: #FFB8B8\">this</span> <span style=\"background-color: #FFCCCC\">job</span> <span style=\"background-color: #FFC6C6\">was</span> <span style=\"background-color: #FFF2F2\">originally</span> <span style=\"background-color: #FFE6E6\">posted</span> <span style=\"background-color: #FFECEC\">as</span> <span style=\"background-color: #FFEAEA\">www</span> <span style=\"background-color: #FFBCBC\">.</span> <span style=\"background-color: #FFC2C2\">salestarget</span> <span style=\"background-color: #FFE2E2\">.</span> <span style=\"background-color: #FFC2C2\">co</span> <span style=\"background-color: #FFEEEE\">.</span> <span style=\"background-color: #FFE4E4\">uk</span> <span style=\"background-color: #FFBEBE\">/</span> <span style=\"background-color: #FEFEFF\">jobseeking</span> <span style=\"background-color: #FFB3B3\">/</span> <span style=\"background-color: #FFFEFE\">UNK</span> <span style=\"background-color: #FFCCCC\">****</span></p>"
      ]
     },
     "metadata": {
      "tags": []
     },
     "output_type": "display_data"
    }
   ],
   "source": [
    "i = 36605\n",
    "tokens_and_weights = explain(model, data.loc[i], \"Title\")\n",
    "draw_html([(tok, weight * 5) for tok, weight in tokens_and_weights], font_style='font-size:20px;');\n",
    "\n",
    "tokens_and_weights = explain(model, data.loc[i], \"FullDescription\")\n",
    "draw_html([(tok, weight * 10) for tok, weight in tokens_and_weights]);"
   ]
  },
  {
   "cell_type": "code",
   "execution_count": 39,
   "metadata": {
    "colab": {
     "base_uri": "https://localhost:8080/",
     "height": 93
    },
    "colab_type": "code",
    "id": "LBnrgXYWygkd",
    "outputId": "444abc66-1fcf-4c87-b10e-160fd7f0cd56"
   },
   "outputs": [
    {
     "data": {
      "text/html": [
       "<p style=\"font-size:20px;\"><span style=\"background-color: #FF2C2C\">cleaning</span> <span style=\"background-color: #FF4E4E\">operative</span></p>"
      ]
     },
     "metadata": {
      "tags": []
     },
     "output_type": "display_data"
    },
    {
     "data": {
      "text/html": [
       "<p style=\"font-size:14px;\"><span style=\"background-color: #FAFAFF\">12</span> <span style=\"background-color: #F0F0FF\">.</span> <span style=\"background-color: #FFCCCC\">5</span> <span style=\"background-color: #FFE8E8\">hours</span> <span style=\"background-color: #ECECFF\">per</span> <span style=\"background-color: #FFB8B8\">week</span> <span style=\"background-color: #FFD6D6\">monday</span> <span style=\"background-color: #E6E6FF\">friday</span> <span style=\"background-color: #FFDCDC\">9am</span> <span style=\"background-color: #FFD6D6\">11</span> <span style=\"background-color: #FFEEEE\">.</span> <span style=\"background-color: #FFA6A6\">30am</span> <span style=\"background-color: #FFF0F0\">duties</span> <span style=\"background-color: #FFC2C2\">to</span> <span style=\"background-color: #FFE4E4\">include</span> <span style=\"background-color: #FFAEAE\">sweeping</span> <span style=\"background-color: #FEFEFF\">,</span> <span style=\"background-color: #FFAAAA\">mopping</span> <span style=\"background-color: #FFE6E6\">,</span> <span style=\"background-color: #FF9E9E\">vacuuming</span> <span style=\"background-color: #FFE8E8\">,</span> <span style=\"background-color: #FF9696\">buffing</span> <span style=\"background-color: #FFD2D2\">,</span> <span style=\"background-color: #FFCCCC\">cleaning</span> <span style=\"background-color: #FFE4E4\">staff</span> <span style=\"background-color: #FFC3C3\">toilets</span> <span style=\"background-color: #FFD2D2\">and</span> <span style=\"background-color: #F8F8FF\">rest</span> <span style=\"background-color: #FFC3C3\">room</span> <span style=\"background-color: #FFC3C3\">.</span> <span style=\"background-color: #FFACAC\">must</span> <span style=\"background-color: #FFEAEA\">be</span> <span style=\"background-color: #FFF8F8\">able</span> <span style=\"background-color: #FFF0F0\">to</span> <span style=\"background-color: #FFFEFE\">read</span> <span style=\"background-color: #FFECEC\">as</span> <span style=\"background-color: #FFBABA\">they</span> <span style=\"background-color: #FFCACA\">will</span> <span style=\"background-color: #FFFCFC\">be</span> <span style=\"background-color: #FFBCBC\">using</span> <span style=\"background-color: #FFFEFE\">UNK</span> <span style=\"background-color: #FFCECE\">which</span> <span style=\"background-color: #FF8C8C\">need</span> <span style=\"background-color: #FFFEFE\">UNK</span> <span style=\"background-color: #FFA6A6\">as</span> <span style=\"background-color: #FFF0F0\">per</span> <span style=\"background-color: #FF8A8A\">instructions</span> <span style=\"background-color: #FFA2A2\">on</span> <span style=\"background-color: #FFDADA\">the</span> <span style=\"background-color: #FFB2B2\">containers</span> <span style=\"background-color: #D2D2FF\">.</span> <span style=\"background-color: #FFEEEE\">sucessfull</span> <span style=\"background-color: #FFACAC\">applicants</span> <span style=\"background-color: #FFC2C2\">will</span> <span style=\"background-color: #FFF2F2\">be</span> <span style=\"background-color: #FFAEAE\">trained</span> <span style=\"background-color: #FFE6E6\">on</span> <span style=\"background-color: #FFE6E6\">all</span> <span style=\"background-color: #FFFCFC\">electrical</span> <span style=\"background-color: #FFD0D0\">appliances</span> <span style=\"background-color: #FFEAEA\">and</span> <span style=\"background-color: #FFFEFE\">UNK</span> <span style=\"background-color: #FF9393\">of</span> <span style=\"background-color: #FF9E9E\">cleaning</span> <span style=\"background-color: #FFD3D3\">materials</span> <span style=\"background-color: #FFFEFE\">.</span></p>"
      ]
     },
     "metadata": {
      "tags": []
     },
     "output_type": "display_data"
    }
   ],
   "source": [
    "i = 12077\n",
    "tokens_and_weights = explain(model, data.loc[i], \"Title\")\n",
    "draw_html([(tok, weight * 5) for tok, weight in tokens_and_weights], font_style='font-size:20px;');\n",
    "\n",
    "tokens_and_weights = explain(model, data.loc[i], \"FullDescription\")\n",
    "draw_html([(tok, weight * 10) for tok, weight in tokens_and_weights]);"
   ]
  },
  {
   "cell_type": "code",
   "execution_count": 50,
   "metadata": {
    "colab": {
     "base_uri": "https://localhost:8080/",
     "height": 231
    },
    "colab_type": "code",
    "id": "O7NDK_tJygke",
    "outputId": "9257c182-9685-4b5e-8ed8-ba6629d3b3c8"
   },
   "outputs": [
    {
     "name": "stdout",
     "output_type": "stream",
     "text": [
      "Index: 122657\n",
      "Salary (gbp): 16833.73\n"
     ]
    },
    {
     "data": {
      "text/html": [
       "<p style=\"font-size:20px;\"><span style=\"background-color: #B8B8FF\">linux</span> <span style=\"background-color: #E6E6FF\">systems</span> <span style=\"background-color: #FFD2D2\">administrator</span> <span style=\"background-color: #FFFEFE\">(</span> <span style=\"background-color: #FFEAEA\">unix</span> <span style=\"background-color: #F2F2FF\">,</span> <span style=\"background-color: #FFD2D2\">mysql</span> <span style=\"background-color: #D6D6FF\">,</span> <span style=\"background-color: #E3E3FF\">apache</span> <span style=\"background-color: #D6D6FF\">)</span> <span style=\"background-color: #ECECFF\">london</span></p>"
      ]
     },
     "metadata": {
      "tags": []
     },
     "output_type": "display_data"
    },
    {
     "data": {
      "text/html": [
       "<p style=\"font-size:14px;\"><span style=\"background-color: #FFFCFC\">linux</span> <span style=\"background-color: #FFFEFE\">systems</span> <span style=\"background-color: #FFCECE\">administrator</span> <span style=\"background-color: #FFDEDE\">(</span> <span style=\"background-color: #FFE0E0\">unix</span> <span style=\"background-color: #FFE0E0\">,</span> <span style=\"background-color: #FFE2E2\">mysql</span> <span style=\"background-color: #FFFCFC\">,</span> <span style=\"background-color: #FFE4E4\">apache</span> <span style=\"background-color: #FFDCDC\">)</span> <span style=\"background-color: #FFEEEE\">london</span> <span style=\"background-color: #FFF6F6\">my</span> <span style=\"background-color: #FFCACA\">web</span> <span style=\"background-color: #FFD8D8\">based</span> <span style=\"background-color: #FFFCFC\">client</span> <span style=\"background-color: #FFDADA\">in</span> <span style=\"background-color: #F6F6FF\">london</span> <span style=\"background-color: #F2F2FF\">are</span> <span style=\"background-color: #FFF2F2\">looking</span> <span style=\"background-color: #FFEAEA\">for</span> <span style=\"background-color: #FAFAFF\">an</span> <span style=\"background-color: #FFF4F4\">exceptional</span> <span style=\"background-color: #FFFEFE\">systems</span> <span style=\"background-color: #FFCECE\">administrator</span> <span style=\"background-color: #FFDEDE\">(</span> <span style=\"background-color: #FFE0E0\">unix</span> <span style=\"background-color: #FFE0E0\">,</span> <span style=\"background-color: #FFE2E2\">mysql</span> <span style=\"background-color: #FFFCFC\">,</span> <span style=\"background-color: #FFE4E4\">apache</span> <span style=\"background-color: #FFDEDE\">)</span> <span style=\"background-color: #FFDEDE\">to</span> <span style=\"background-color: #FFE8E8\">join</span> <span style=\"background-color: #FFFAFA\">their</span> <span style=\"background-color: #FFCCCC\">team</span> <span style=\"background-color: #FFE6E6\">on</span> <span style=\"background-color: #FFFEFE\">their</span> <span style=\"background-color: #FFDEDE\">mission</span> <span style=\"background-color: #FFFEFE\">to</span> <span style=\"background-color: #FFCACA\">bring</span> <span style=\"background-color: #FFFEFE\">the</span> <span style=\"background-color: #FFD8D8\">existing</span> <span style=\"background-color: #FFDEDE\">team</span> <span style=\"background-color: #FFEEEE\">up</span> <span style=\"background-color: #FFE8E8\">to</span> <span style=\"background-color: #FFECEC\">date</span> <span style=\"background-color: #FFD6D6\">with</span> <span style=\"background-color: #FFDEDE\">the</span> <span style=\"background-color: #FFE0E0\">latest</span> <span style=\"background-color: #FFF2F2\">technologies</span> <span style=\"background-color: #FFE6E6\">as</span> <span style=\"background-color: #FFFEFE\">they</span> <span style=\"background-color: #FFE2E2\">rapidly</span> <span style=\"background-color: #FFFEFE\">expand</span> <span style=\"background-color: #FFE8E8\">.</span> <span style=\"background-color: #FFCACA\">it</span> <span style=\"background-color: #FFC8C8\">is</span> <span style=\"background-color: #FFF8F8\">the</span> <span style=\"background-color: #FFCCCC\">perfect</span> <span style=\"background-color: #FFF0F0\">opportunity</span> <span style=\"background-color: #FFF4F4\">for</span> <span style=\"background-color: #FFEEEE\">someone</span> <span style=\"background-color: #FFF8F8\">with</span> <span style=\"background-color: #FFD3D3\">previous</span> <span style=\"background-color: #FFEEEE\">experience</span> <span style=\"background-color: #FFF0F0\">as</span> <span style=\"background-color: #FFFAFA\">a</span> <span style=\"background-color: #FCFCFF\">linux</span> <span style=\"background-color: #FFFEFE\">systems</span> <span style=\"background-color: #FFCECE\">administrator</span> <span style=\"background-color: #FFDEDE\">(</span> <span style=\"background-color: #FFE0E0\">unix</span> <span style=\"background-color: #FFE0E0\">,</span> <span style=\"background-color: #FFE2E2\">mysql</span> <span style=\"background-color: #FFFCFC\">,</span> <span style=\"background-color: #FFDCDC\">apache</span> <span style=\"background-color: #FFE0E0\">).</span> <span style=\"background-color: #FFF2F2\">they</span> <span style=\"background-color: #FFDCDC\">want</span> <span style=\"background-color: #FFF8F8\">someone</span> <span style=\"background-color: #FFD8D8\">who</span> <span style=\"background-color: #FFC3C3\">has</span> <span style=\"background-color: #FFFEFE\">the</span> <span style=\"background-color: #FFDCDC\">drive</span> <span style=\"background-color: #FFF8F8\">,</span> <span style=\"background-color: #FFD6D6\">ambition</span> <span style=\"background-color: #FFFEFE\">and</span> <span style=\"background-color: #FFFAFA\">attitude</span> <span style=\"background-color: #FFF6F6\">to</span> <span style=\"background-color: #FFD6D6\">make</span> <span style=\"background-color: #FFF2F2\">a</span> <span style=\"background-color: #F8F8FF\">real</span> <span style=\"background-color: #FFFCFC\">difference</span> <span style=\"background-color: #FFF4F4\">to</span> <span style=\"background-color: #FFD3D3\">their</span> <span style=\"background-color: #FFE8E8\">business</span> <span style=\"background-color: #FFE2E2\">.</span> <span style=\"background-color: #FFE6E6\">linux</span> <span style=\"background-color: #FFFEFE\">systems</span> <span style=\"background-color: #FFCECE\">administrator</span> <span style=\"background-color: #FFDEDE\">(</span> <span style=\"background-color: #FFE0E0\">unix</span> <span style=\"background-color: #FFE0E0\">,</span> <span style=\"background-color: #FFE2E2\">mysql</span> <span style=\"background-color: #FFFCFC\">,</span> <span style=\"background-color: #FFE4E4\">apache</span> <span style=\"background-color: #FFE0E0\">)</span> <span style=\"background-color: #FFE8E8\">skills</span> <span style=\"background-color: #FFE8E8\">/</span> <span style=\"background-color: #FFFCFC\">experience</span> <span style=\"background-color: #FFF4F4\">needed</span> <span style=\"background-color: #FFFEFE\">:</span> <span style=\"background-color: #FFE4E4\">****</span> <span style=\"background-color: #FFE8E8\">years</span> <span style=\"background-color: #FFE6E6\">professional</span> <span style=\"background-color: #FFFCFC\">unix</span> <span style=\"background-color: #FFDEDE\">systems</span> <span style=\"background-color: #FFFEFE\">admin</span> <span style=\"background-color: #FFF0F0\">1</span> <span style=\"background-color: #FFEEEE\">years</span> <span style=\"background-color: #FFFEFE\">linux</span> <span style=\"background-color: #FFE4E4\">at</span> <span style=\"background-color: #FFECEC\">system</span> <span style=\"background-color: #FFF4F4\">level</span> <span style=\"background-color: #FFFEFE\">mysql</span> <span style=\"background-color: #FFFEFE\">administration</span> <span style=\"background-color: #FFFEFE\">apache</span> <span style=\"background-color: #FFD8D8\">tomcat</span> <span style=\"background-color: #FFF0F0\">installation</span> <span style=\"background-color: #FFFAFA\">and</span> <span style=\"background-color: #FFB3B3\">maintenance</span> <span style=\"background-color: #FFFEFE\">UNK</span> <span style=\"background-color: #FFB8B8\">http</span> <span style=\"background-color: #FFFCFC\">server</span> <span style=\"background-color: #FFE6E6\">bash</span> <span style=\"background-color: #F0F0FF\">/</span> <span style=\"background-color: #DADAFF\">perl</span> <span style=\"background-color: #DADAFF\">etc</span> <span style=\"background-color: #FFF8F8\">.</span> <span style=\"background-color: #FFDADA\">iptables</span> <span style=\"background-color: #FFEEEE\">backup</span> <span style=\"background-color: #FFF2F2\">and</span> <span style=\"background-color: #FFFEFE\">restore</span> <span style=\"background-color: #FFCACA\">procedures</span> <span style=\"background-color: #D0D0FF\">ssh</span> <span style=\"background-color: #FFB0B0\">icing</span> <span style=\"background-color: #FFD6D6\">on</span> <span style=\"background-color: #FFFEFE\">the</span> <span style=\"background-color: #FFD6D6\">cake</span> <span style=\"background-color: #FFFEFE\">:</span> <span style=\"background-color: #FFB2B2\">debian</span> <span style=\"background-color: #FFFEFE\">UNK</span> <span style=\"background-color: #FF9696\">application</span> <span style=\"background-color: #FFFEFE\">deployment</span> <span style=\"background-color: #FFF8F8\">exposure</span> <span style=\"background-color: #FFF2F2\">to</span> <span style=\"background-color: #FFF0F0\">server</span> <span style=\"background-color: #FFDEDE\">cluster</span> <span style=\"background-color: #FFB8B8\">admin</span> <span style=\"background-color: #FFFEFE\">UNK</span> <span style=\"background-color: #FFC2C2\">excellent</span> <span style=\"background-color: #FFF2F2\">communications</span> <span style=\"background-color: #FFEEEE\">skills</span> <span style=\"background-color: #FFF4F4\">linux</span> <span style=\"background-color: #FFFEFE\">systems</span> <span style=\"background-color: #FFCECE\">administrator</span> <span style=\"background-color: #FFDEDE\">(</span> <span style=\"background-color: #FFE0E0\">unix</span> <span style=\"background-color: #FFE0E0\">,</span> <span style=\"background-color: #FFE2E2\">mysql</span> <span style=\"background-color: #FFFCFC\">,</span> <span style=\"background-color: #FFE4E4\">apache</span> <span style=\"background-color: #FFE0E0\">)</span> <span style=\"background-color: #FFE4E4\">education</span> <span style=\"background-color: #FFE8E8\">:</span> <span style=\"background-color: #FFEAEA\">bachelor</span> <span style=\"background-color: #FFB6B6\">'</span> <span style=\"background-color: #FFFAFA\">s</span> <span style=\"background-color: #FFEAEA\">degree</span> <span style=\"background-color: #FFFEFE\">in</span> <span style=\"background-color: #FFD6D6\">computer</span> <span style=\"background-color: #FFF6F6\">science</span> <span style=\"background-color: #FFE8E8\">or</span> <span style=\"background-color: #FFF8F8\">equivalent</span> <span style=\"background-color: #FFD3D3\">this</span> <span style=\"background-color: #FFE8E8\">is</span> <span style=\"background-color: #FFE0E0\">a</span> <span style=\"background-color: #FFFCFC\">permanent</span> <span style=\"background-color: #FFFEFE\">systems</span> <span style=\"background-color: #FFF6F6\">administrator</span> <span style=\"background-color: #FFF2F2\">r</span> <span style=\"background-color: #FFF6F6\">ole</span> <span style=\"background-color: #FFF0F0\">with</span> <span style=\"background-color: #FFDCDC\">a</span> <span style=\"background-color: #FFFEFE\">salary</span> <span style=\"background-color: #FFDCDC\">of</span> <span style=\"background-color: #FFEAEA\">up</span> <span style=\"background-color: #FFF2F2\">to</span> <span style=\"background-color: #FFF2F2\">****</span> <span style=\"background-color: #FFD8D8\">dependent</span> <span style=\"background-color: #FFECEC\">on</span> <span style=\"background-color: #FEFEFF\">experience</span> <span style=\"background-color: #FEFEFF\">.</span> <span style=\"background-color: #FFE8E8\">they</span> <span style=\"background-color: #FFE6E6\">have</span> <span style=\"background-color: #FFEAEA\">excellent</span> <span style=\"background-color: #FFFAFA\">benefits</span> <span style=\"background-color: #FFEEEE\">including</span> <span style=\"background-color: #FFDEDE\">a</span> <span style=\"background-color: #FFFCFC\">pension</span> <span style=\"background-color: #FFEAEA\">,</span> <span style=\"background-color: #FFE4E4\">annual</span> <span style=\"background-color: #FFF0F0\">bonus</span> <span style=\"background-color: #FFFEFE\">and</span> <span style=\"background-color: #FFDEDE\">much</span> <span style=\"background-color: #FFFEFE\">more</span> <span style=\"background-color: #FFECEC\">.</span> <span style=\"background-color: #FFE2E2\">if</span> <span style=\"background-color: #FFE8E8\">you</span> <span style=\"background-color: #FFDEDE\">are</span> <span style=\"background-color: #FFFAFA\">interested</span> <span style=\"background-color: #FFF8F8\">in</span> <span style=\"background-color: #FFF4F4\">this</span> <span style=\"background-color: #FFF4F4\">linux</span> <span style=\"background-color: #FFFEFE\">systems</span> <span style=\"background-color: #FFCECE\">administrator</span> <span style=\"background-color: #FFDEDE\">(</span> <span style=\"background-color: #FFE0E0\">unix</span> <span style=\"background-color: #FFE0E0\">,</span> <span style=\"background-color: #FFE2E2\">mysql</span> <span style=\"background-color: #FFFCFC\">,</span> <span style=\"background-color: #FFE4E4\">apache</span> <span style=\"background-color: #FFD2D2\">)</span> <span style=\"background-color: #FFEAEA\">position</span> <span style=\"background-color: #FFFEFE\">please</span> <span style=\"background-color: #FFE2E2\">send</span> <span style=\"background-color: #FFDCDC\">me</span> <span style=\"background-color: #FFECEC\">your</span> <span style=\"background-color: #FFC3C3\">cv</span> <span style=\"background-color: #FFF2F2\">to</span> <span style=\"background-color: #FFF2F2\">apply</span> <span style=\"background-color: #FFF0F0\">.</span> <span style=\"background-color: #FFE6E6\">linux</span> <span style=\"background-color: #FFFEFE\">systems</span> <span style=\"background-color: #FFCECE\">administrator</span> <span style=\"background-color: #FFDEDE\">(</span> <span style=\"background-color: #FFE0E0\">unix</span> <span style=\"background-color: #FFE0E0\">,</span> <span style=\"background-color: #FFE2E2\">mysql</span> <span style=\"background-color: #FFFCFC\">,</span> <span style=\"background-color: #FFE4E4\">apache</span> <span style=\"background-color: #FFDCDC\">)</span> <span style=\"background-color: #FFE8E8\">london</span> <span style=\"background-color: #FFF0F0\">this</span> <span style=\"background-color: #FFE0E0\">job</span> <span style=\"background-color: #FFF4F4\">was</span> <span style=\"background-color: #FAFAFF\">originally</span> <span style=\"background-color: #FFF8F8\">posted</span> <span style=\"background-color: #FFFEFE\">as</span> <span style=\"background-color: #E3E3FF\">www</span> <span style=\"background-color: #FFD6D6\">.</span> <span style=\"background-color: #FFECEC\">cwjobs</span> <span style=\"background-color: #FFCCCC\">.</span> <span style=\"background-color: #FFE8E8\">co</span> <span style=\"background-color: #FEFEFF\">.</span> <span style=\"background-color: #F6F6FF\">uk</span> <span style=\"background-color: #FFECEC\">/</span> <span style=\"background-color: #FFFEFE\">jobseeking</span> <span style=\"background-color: #FFBABA\">/</span> <span style=\"background-color: #FFFEFE\">UNK</span> <span style=\"background-color: #FFBEBE\">****</span></p>"
      ]
     },
     "metadata": {
      "tags": []
     },
     "output_type": "display_data"
    }
   ],
   "source": [
    "i = np.random.randint(len(data))\n",
    "print(\"Index:\", i)\n",
    "print(\"Salary (gbp):\", np.expm1(model.predict(make_batch(data.iloc[i: i+1]))[0, 0]))\n",
    "\n",
    "tokens_and_weights = explain(model, data.loc[i], \"Title\")\n",
    "draw_html([(tok, weight * 5) for tok, weight in tokens_and_weights], font_style='font-size:20px;');\n",
    "\n",
    "tokens_and_weights = explain(model, data.loc[i], \"FullDescription\")\n",
    "draw_html([(tok, weight * 10) for tok, weight in tokens_and_weights]);"
   ]
  },
  {
   "cell_type": "markdown",
   "metadata": {
    "colab_type": "text",
    "id": "Fjp-Reh9ygki"
   },
   "source": [
    "__Terrible start-up idea #1962:__ make a tool that automaticaly rephrases your job description (or CV) to meet salary expectations :)"
   ]
  }
 ],
 "metadata": {
  "accelerator": "GPU",
  "colab": {
   "name": "seminar.ipynb",
   "provenance": [],
   "version": "0.3.2"
  },
  "kernelspec": {
   "display_name": "Python 3",
   "language": "python",
   "name": "python3"
  },
  "language_info": {
   "codemirror_mode": {
    "name": "ipython",
    "version": 3
   },
   "file_extension": ".py",
   "mimetype": "text/x-python",
   "name": "python",
   "nbconvert_exporter": "python",
   "pygments_lexer": "ipython3",
   "version": "3.6.5"
  }
 },
 "nbformat": 4,
 "nbformat_minor": 1
}
