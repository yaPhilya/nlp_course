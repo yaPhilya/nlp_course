{
  "nbformat": 4,
  "nbformat_minor": 0,
  "metadata": {
    "colab": {
      "name": "Copy of seminar.ipynb",
      "version": "0.3.2",
      "provenance": [],
      "include_colab_link": true
    },
    "kernelspec": {
      "name": "python3",
      "display_name": "Python 3"
    },
    "accelerator": "GPU"
  },
  "cells": [
    {
      "cell_type": "markdown",
      "metadata": {
        "id": "view-in-github",
        "colab_type": "text"
      },
      "source": [
        "<a href=\"https://colab.research.google.com/github/yaPhilya/nlp_course/blob/master/week8_multitask/seminar_from_colab.ipynb\" target=\"_parent\"><img src=\"https://colab.research.google.com/assets/colab-badge.svg\" alt=\"Open In Colab\"/></a>"
      ]
    },
    {
      "metadata": {
        "id": "enUjjhtBVQ-8",
        "colab_type": "text"
      },
      "cell_type": "markdown",
      "source": [
        "### Seminar: Named EntityRecognition\n",
        "\n",
        "Today we're gonna solve the problem of named entity recognition. Here's what it does in one picture:\n",
        "![img](https://commons.bmstu.wiki/images/0/00/NER1.png)\n",
        "[image source](https://bit.ly/2Pmg7L2)\n",
        "\n",
        "\n",
        "For each word, in a sentence, your model should predict a named entity class:\n"
      ]
    },
    {
      "metadata": {
        "id": "xsHqWsqMVQ_A",
        "colab_type": "code",
        "colab": {}
      },
      "cell_type": "code",
      "source": [
        "import numpy as np\n",
        "import tensorflow as tf\n",
        "tf.reset_default_graph()\n",
        "sess = tf.InteractiveSession()"
      ],
      "execution_count": 0,
      "outputs": []
    },
    {
      "metadata": {
        "id": "9vzRHOmKVQ_I",
        "colab_type": "text"
      },
      "cell_type": "markdown",
      "source": [
        "### Data\n",
        "Our model will train on a [Groningen Meaning Bank corpus](https://www.kaggle.com/abhinavwalia95/entity-annotated-corpus).\n",
        "\n",
        "Each word of every sentence is labelled with named entity class and a part-of-speech tag.\n",
        "\n",
        "The named entity classes include:\n",
        "* __B-LOC__ - location - first token\n",
        "* __I-LOC__ - location - subsequent tokens\n",
        "* __B-ORG__ - organization - first token\n",
        "* __O__ - not a named entity\n",
        "\n",
        "Take a look for yourself:"
      ]
    },
    {
      "metadata": {
        "id": "SSNdjiFfVQ_N",
        "colab_type": "code",
        "outputId": "c245d34d-657b-4652-e1d9-0e51b760bbd1",
        "colab": {
          "base_uri": "https://localhost:8080/",
          "height": 480
        }
      },
      "cell_type": "code",
      "source": [
        "!wget https://www.dropbox.com/s/xobyz6jgovvz3dm/kaggle-train.conll?dl=1 -O kaggle-train.conll"
      ],
      "execution_count": 0,
      "outputs": [
        {
          "output_type": "stream",
          "text": [
            "--2018-11-08 17:19:55--  https://www.dropbox.com/s/xobyz6jgovvz3dm/kaggle-train.conll?dl=1\n",
            "Resolving www.dropbox.com (www.dropbox.com)... 162.125.1.1, 2620:100:601a:1::a27d:701\n",
            "Connecting to www.dropbox.com (www.dropbox.com)|162.125.1.1|:443... connected.\n",
            "HTTP request sent, awaiting response... 301 Moved Permanently\n",
            "Location: /s/dl/xobyz6jgovvz3dm/kaggle-train.conll [following]\n",
            "--2018-11-08 17:19:55--  https://www.dropbox.com/s/dl/xobyz6jgovvz3dm/kaggle-train.conll\n",
            "Reusing existing connection to www.dropbox.com:443.\n",
            "HTTP request sent, awaiting response... 302 Found\n",
            "Location: https://uc2b72b412744b76509f7b0219d7.dl.dropboxusercontent.com/cd/0/get/AVFZ2yH5IoW58wYsmOfB_JJUAADbZD3IEfbwMU1gEWV9IMPGbYy9uo8z2XjUw_emlPcGT1ptWxhcVbzTj8QqJxsEo6aZVdnio7Wlgon1NufNVBR2NrtgEz3sUBk16pF4vhG8blie7PkIIjewxMFiON3kKy6jw3yEubnkqWMuDKNQKGSjarxkBydSCK30F7JugT0/file?dl=1 [following]\n",
            "--2018-11-08 17:19:55--  https://uc2b72b412744b76509f7b0219d7.dl.dropboxusercontent.com/cd/0/get/AVFZ2yH5IoW58wYsmOfB_JJUAADbZD3IEfbwMU1gEWV9IMPGbYy9uo8z2XjUw_emlPcGT1ptWxhcVbzTj8QqJxsEo6aZVdnio7Wlgon1NufNVBR2NrtgEz3sUBk16pF4vhG8blie7PkIIjewxMFiON3kKy6jw3yEubnkqWMuDKNQKGSjarxkBydSCK30F7JugT0/file?dl=1\n",
            "Resolving uc2b72b412744b76509f7b0219d7.dl.dropboxusercontent.com (uc2b72b412744b76509f7b0219d7.dl.dropboxusercontent.com)... 162.125.1.6, 2620:100:6016:6::a27d:106\n",
            "Connecting to uc2b72b412744b76509f7b0219d7.dl.dropboxusercontent.com (uc2b72b412744b76509f7b0219d7.dl.dropboxusercontent.com)|162.125.1.6|:443... connected.\n",
            "HTTP request sent, awaiting response... 200 OK\n",
            "Length: 12200095 (12M) [application/binary]\n",
            "Saving to: ‘kaggle-train.conll’\n",
            "\n",
            "kaggle-train.conll  100%[===================>]  11.63M  9.80MB/s    in 1.2s    \n",
            "\n",
            "2018-11-08 17:19:57 (9.80 MB/s) - ‘kaggle-train.conll’ saved [12200095/12200095]\n",
            "\n"
          ],
          "name": "stdout"
        }
      ]
    },
    {
      "metadata": {
        "id": "PsnAJF7NVoSF",
        "colab_type": "code",
        "outputId": "d2bb1b34-5c14-45b1-cccf-5b5740705a52",
        "colab": {
          "base_uri": "https://localhost:8080/",
          "height": 235
        }
      },
      "cell_type": "code",
      "source": [
        "!wget https://raw.githubusercontent.com/yandexdataschool/nlp_course/master/week8_multitask/utils.py -O utils.py"
      ],
      "execution_count": 0,
      "outputs": [
        {
          "output_type": "stream",
          "text": [
            "--2018-11-08 17:20:08--  https://raw.githubusercontent.com/yandexdataschool/nlp_course/master/week8_multitask/utils.py\n",
            "Resolving raw.githubusercontent.com (raw.githubusercontent.com)... 151.101.0.133, 151.101.64.133, 151.101.128.133, ...\n",
            "Connecting to raw.githubusercontent.com (raw.githubusercontent.com)|151.101.0.133|:443... connected.\n",
            "HTTP request sent, awaiting response... 200 OK\n",
            "Length: 6853 (6.7K) [text/plain]\n",
            "Saving to: ‘utils.py’\n",
            "\n",
            "\rutils.py              0%[                    ]       0  --.-KB/s               \rutils.py            100%[===================>]   6.69K  --.-KB/s    in 0s      \n",
            "\n",
            "2018-11-08 17:20:08 (70.6 MB/s) - ‘utils.py’ saved [6853/6853]\n",
            "\n"
          ],
          "name": "stdout"
        }
      ]
    },
    {
      "metadata": {
        "id": "Toh-NeevVQ_f",
        "colab_type": "code",
        "outputId": "7e72f772-8d36-4d77-af4d-4c155c6147ee",
        "colab": {
          "base_uri": "https://localhost:8080/",
          "height": 108
        }
      },
      "cell_type": "code",
      "source": [
        "from utils import read_conll\n",
        "data = read_conll('./kaggle-train.conll', lower_words=True)\n",
        "\n",
        "data[333]"
      ],
      "execution_count": 0,
      "outputs": [
        {
          "output_type": "execute_result",
          "data": {
            "text/plain": [
              "{'ne': 'O O O O O O B-ORG I-ORG O O O B-LOC O B-LOC O B-LOC I-LOC O B-LOC O B-LOC O B-LOC O B-LOC O B-LOC O B-LOC O B-LOC O B-LOC O B-LOC O B-LOC O B-LOC O B-LOC O B-LOC O B-LOC O',\n",
              " 'pos': 'DT CD NNS RB JJ IN NNP NNP NN NN VBP NNP , NNP , NNP NNP , NNP , NNP , NNP , NNP , NNP , NNP , NNP , NNP , NNP , NNP , NNP , NNP , NNP CC NNP .',\n",
              " 'word': 'the 17 countries now eligible for world bank debt relief are benin , bolivia , burkina faso , ethiopia , ghana , guyana , honduras , madagascar , mali , mozambique , nicaragua , niger , rwanda , senegal , tanzania , uganda and zambia .'}"
            ]
          },
          "metadata": {
            "tags": []
          },
          "execution_count": 4
        }
      ]
    },
    {
      "metadata": {
        "id": "Z73Ch9TlVQ_h",
        "colab_type": "code",
        "outputId": "459f8e64-e50d-4a8f-eba5-91fd68f73fc9",
        "colab": {
          "base_uri": "https://localhost:8080/",
          "height": 34
        }
      },
      "cell_type": "code",
      "source": [
        "from sklearn.model_selection import train_test_split\n",
        "train_data, dev_data = train_test_split(data, test_size=0.25, random_state=42)\n",
        "print(\"train: {}, test: {}\".format(len(train_data), len(dev_data)))"
      ],
      "execution_count": 0,
      "outputs": [
        {
          "output_type": "stream",
          "text": [
            "train: 35967, test: 11989\n"
          ],
          "name": "stdout"
        }
      ]
    },
    {
      "metadata": {
        "id": "e0BYtNjUVQ_k",
        "colab_type": "code",
        "colab": {}
      },
      "cell_type": "code",
      "source": [
        "from utils import Vocab\n",
        "vocabs = {\n",
        "    key: Vocab.from_lines([row[key] for row in train_data])\n",
        "    for key in ['word', 'pos', 'ne']\n",
        "}\n",
        "\n",
        "def prepare_batch(data):\n",
        "    keys = data[0].keys()\n",
        "    return {\n",
        "        key: vocabs[key].to_matrix(row[key] for row in data)\n",
        "        for key in keys\n",
        "    }"
      ],
      "execution_count": 0,
      "outputs": []
    },
    {
      "metadata": {
        "id": "N1NIjrScVQ_m",
        "colab_type": "code",
        "outputId": "b18e8b62-0ddf-4aec-9b3a-621709e69c05",
        "colab": {
          "base_uri": "https://localhost:8080/",
          "height": 153
        }
      },
      "cell_type": "code",
      "source": [
        "dummy_rows = sorted(data, key=lambda row: len(row['word']))[100:102]\n",
        "print(dummy_rows[0])\n",
        "print(dummy_rows[1])\n",
        "prepare_batch(dummy_rows)"
      ],
      "execution_count": 0,
      "outputs": [
        {
          "output_type": "stream",
          "text": [
            "{'word': 'well , it could happen !', 'pos': 'RB , PRP MD VB .', 'ne': 'O O O O O O'}\n",
            "{'word': 'sudan denies the claim .', 'pos': 'NNP VBZ DT NN .', 'ne': 'B-LOC O O O O'}\n"
          ],
          "name": "stdout"
        },
        {
          "output_type": "execute_result",
          "data": {
            "text/plain": [
              "{'ne': array([[10, 10, 10, 10, 10, 10],\n",
              "        [ 2, 10, 10, 10, 10,  0]], dtype=int32),\n",
              " 'pos': array([[26,  4, 24, 17, 33,  5],\n",
              "        [19, 38, 10, 18,  5,  0]], dtype=int32),\n",
              " 'word': array([[27512,   289, 13824,  7061, 12084,     2],\n",
              "        [24626,  7884, 25433,  6090,   292,     0]], dtype=int32)}"
            ]
          },
          "metadata": {
            "tags": []
          },
          "execution_count": 7
        }
      ]
    },
    {
      "metadata": {
        "id": "stwQ4whsVQ_n",
        "colab_type": "text"
      },
      "cell_type": "markdown",
      "source": [
        "# Baseline: single-task model\n",
        "\n",
        "![img](https://github.com/yandexdataschool/nlp_course/raw/master/resources/gorynich_ne.png)\n",
        "\n",
        "Let's start with a straightforward model that does named entity recognition.\n",
        "\n",
        "\n",
        "The image will make sense later :)"
      ]
    },
    {
      "metadata": {
        "id": "_yiJCWxaWli3",
        "colab_type": "code",
        "outputId": "64de2306-a9fe-46c6-a420-9f7459fd881d",
        "colab": {
          "base_uri": "https://localhost:8080/",
          "height": 34
        }
      },
      "cell_type": "code",
      "source": [
        "import keras, keras.layers as L"
      ],
      "execution_count": 0,
      "outputs": [
        {
          "output_type": "stream",
          "text": [
            "Using TensorFlow backend.\n"
          ],
          "name": "stderr"
        }
      ]
    },
    {
      "metadata": {
        "id": "huUpvclvVQ_o",
        "colab_type": "code",
        "colab": {}
      },
      "cell_type": "code",
      "source": [
        "import keras, keras.layers as L\n",
        "\n",
        "class SimpleModel:\n",
        "    def __init__(self, name, emb_size=128, hid_size=128):\n",
        "        \"\"\" \n",
        "        A model that predicts named entity class for each word\n",
        "        We recommend the following model:\n",
        "        * Embedding\n",
        "        * Bi-directional LSTM\n",
        "        * Linear layer to predict logits\n",
        "        \"\"\"\n",
        "        \n",
        "        # define layers\n",
        "        self.emb = L.Embedding(len(vocabs['word']), emb_size)\n",
        "        self.lstm = L.Bidirectional(L.LSTM(hid_size // 2, return_sequences=True))\n",
        "        self.logits = L.Dense(len(vocabs['ne']))\n",
        "    \n",
        "    def __call__(self, input_ix):\n",
        "        \"\"\"\n",
        "        Compute logits for named entity recognition\n",
        "        :param input_ix: a matrix of token indices, int32[batch_size, seq_length]\n",
        "        \"\"\"\n",
        "        \n",
        "        ner_logits = self.logits(self.lstm(self.emb(input_ix)))\n",
        "        return {'ne': ner_logits}"
      ],
      "execution_count": 0,
      "outputs": []
    },
    {
      "metadata": {
        "id": "a0lStmOsVQ_q",
        "colab_type": "code",
        "colab": {}
      },
      "cell_type": "code",
      "source": [
        "model = SimpleModel('mod1')\n",
        "\n",
        "dummy_ix = tf.constant(prepare_batch(train_data[:3])['word'])\n",
        "dummy_out = model(dummy_ix)\n",
        "\n",
        "sess.run(tf.global_variables_initializer())\n",
        "dummy_logits = sess.run(dummy_out['ne'])\n",
        "\n",
        "assert dummy_logits.shape == (3, dummy_ix.shape[1], len(vocabs['ne']))\n",
        "assert dummy_logits.min() < 0 and dummy_logits.max() > 0, \"you ~may~ have added nonlinearity after logits.\"\\\n",
        "                                                          \"Make sure they're just a linear layer\""
      ],
      "execution_count": 0,
      "outputs": []
    },
    {
      "metadata": {
        "id": "11WtFdbUVQ_r",
        "colab_type": "code",
        "colab": {}
      },
      "cell_type": "code",
      "source": [
        "from utils import infer_mask\n",
        "\n",
        "class trainer:\n",
        "    \"\"\" A bunch of tensorflow operations used for model training \"\"\"\n",
        "    \n",
        "    ph = {\n",
        "        'word': tf.placeholder('int32', [None, None], name='input_tokens'),\n",
        "        'ne': tf.placeholder('int32', [None, None], name='named_entities'),\n",
        "    }\n",
        "\n",
        "    logits = model(ph['word'])\n",
        "    mask = infer_mask(ph['word'])\n",
        "    \n",
        "    loss = -tf.nn.log_softmax(logits['ne'], -1) * tf.one_hot(ph['ne'], len(vocabs['ne']))\n",
        "    loss = tf.reduce_sum(loss * mask[:, :, None]) / tf.reduce_sum(mask)\n",
        "\n",
        "    step = tf.train.AdamOptimizer().minimize(loss)"
      ],
      "execution_count": 0,
      "outputs": []
    },
    {
      "metadata": {
        "id": "l3pO3YkNVQ_t",
        "colab_type": "text"
      },
      "cell_type": "markdown",
      "source": [
        "### Training loop\n",
        "\n",
        "Nothin' special: sample random batches and perform SGD steps"
      ]
    },
    {
      "metadata": {
        "id": "igbQoEyuVQ_u",
        "colab_type": "code",
        "colab": {}
      },
      "cell_type": "code",
      "source": [
        "def iterate_minibatches(data, batch_size=128, shuffle=True, cycle=False, max_batches=None):\n",
        "    indices = np.arange(len(data))\n",
        "    total_batches = 0\n",
        "    while True:\n",
        "        if shuffle: indices = np.random.permutation(indices)\n",
        "        for start_i in range(0, len(data), batch_size):\n",
        "            batch_ix = indices[start_i: start_i + batch_size]\n",
        "            yield prepare_batch(data[batch_ix])\n",
        "            total_batches += 1\n",
        "            if max_batches and total_batches >= max_batches:\n",
        "                raise StopIteration()\n",
        "        if not cycle: break\n",
        "            \n",
        "\n",
        "def compute_error_rate(trainer, data, batch_size=128, key='ne'):\n",
        "    numerator = denominator = 0.0\n",
        "    for batch in iterate_minibatches(data, batch_size, shuffle=False, cycle=False):\n",
        "        batch_ne_logits, batch_mask = sess.run([trainer.logits[key], trainer.mask], \n",
        "                                               {trainer.ph['word']: batch['word']})\n",
        "        numerator += np.sum((batch[key] == batch_ne_logits.argmax(-1)) * batch_mask)\n",
        "        denominator += batch_mask.sum()\n",
        "    return (1.0 - numerator / denominator) * 100"
      ],
      "execution_count": 0,
      "outputs": []
    },
    {
      "metadata": {
        "id": "54IJXK8jVQ_v",
        "colab_type": "code",
        "colab": {}
      },
      "cell_type": "code",
      "source": [
        "from tqdm import tqdm\n",
        "from IPython.display import clear_output\n",
        "import matplotlib.pyplot as plt\n",
        "%matplotlib inline\n",
        "eval_every = 100\n",
        "\n",
        "loss_history, dev_err_history = [], []\n",
        "sess.run(tf.global_variables_initializer())"
      ],
      "execution_count": 0,
      "outputs": []
    },
    {
      "metadata": {
        "id": "xczOeMzTVQ_x",
        "colab_type": "code",
        "outputId": "6c96c487-3588-452d-d33e-34facc997d8a",
        "colab": {
          "base_uri": "https://localhost:8080/",
          "height": 1355
        }
      },
      "cell_type": "code",
      "source": [
        "for batch in tqdm(iterate_minibatches(train_data, cycle=True, max_batches=2500)):\n",
        "    loss_t, _ = sess.run([trainer.loss, trainer.step],\n",
        "                         {trainer.ph[key]: batch[key] for key in trainer.ph})\n",
        "    loss_history.append(loss_t)\n",
        "    \n",
        "    if len(loss_history) % eval_every == 0:\n",
        "        err_t = compute_error_rate(trainer, dev_data)\n",
        "        dev_err_history.append(err_t)\n",
        "\n",
        "        clear_output(True)\n",
        "        plt.figure(figsize=[12, 6])\n",
        "        plt.subplot(1, 2, 1)\n",
        "        plt.plot(loss_history)\n",
        "        plt.title('train loss'), plt.grid()\n",
        "        plt.subplot(1, 2, 2)\n",
        "        plt.plot(np.arange(1, len(dev_err_history) + 1) * eval_every, dev_err_history)\n",
        "        plt.title('dev error rate %'), plt.grid()\n",
        "        plt.show()"
      ],
      "execution_count": 0,
      "outputs": [
        {
          "output_type": "display_data",
          "data": {
            "image/png": "[encoded data removed]",
            "text/plain": [
              "<matplotlib.figure.Figure at 0x7fe230485cf8>"
            ]
          },
          "metadata": {
            "tags": []
          }
        },
        {
          "output_type": "stream",
          "text": [
            "1827it [10:06,  4.11it/s]"
          ],
          "name": "stderr"
        },
        {
          "output_type": "error",
          "ename": "KeyboardInterrupt",
          "evalue": "ignored",
          "traceback": [
            "\u001b[0;31m---------------------------------------------------------------------------\u001b[0m",
            "\u001b[0;31mKeyboardInterrupt\u001b[0m                         Traceback (most recent call last)",
            "\u001b[0;32m<ipython-input-14-9fad06ad4b18>\u001b[0m in \u001b[0;36m<module>\u001b[0;34m()\u001b[0m\n\u001b[1;32m      1\u001b[0m \u001b[0;32mfor\u001b[0m \u001b[0mbatch\u001b[0m \u001b[0;32min\u001b[0m \u001b[0mtqdm\u001b[0m\u001b[0;34m(\u001b[0m\u001b[0miterate_minibatches\u001b[0m\u001b[0;34m(\u001b[0m\u001b[0mtrain_data\u001b[0m\u001b[0;34m,\u001b[0m \u001b[0mcycle\u001b[0m\u001b[0;34m=\u001b[0m\u001b[0;32mTrue\u001b[0m\u001b[0;34m,\u001b[0m \u001b[0mmax_batches\u001b[0m\u001b[0;34m=\u001b[0m\u001b[0;36m2500\u001b[0m\u001b[0;34m)\u001b[0m\u001b[0;34m)\u001b[0m\u001b[0;34m:\u001b[0m\u001b[0;34m\u001b[0m\u001b[0m\n\u001b[1;32m      2\u001b[0m     loss_t, _ = sess.run([trainer.loss, trainer.step],\n\u001b[0;32m----> 3\u001b[0;31m                          {trainer.ph[key]: batch[key] for key in trainer.ph})\n\u001b[0m\u001b[1;32m      4\u001b[0m     \u001b[0mloss_history\u001b[0m\u001b[0;34m.\u001b[0m\u001b[0mappend\u001b[0m\u001b[0;34m(\u001b[0m\u001b[0mloss_t\u001b[0m\u001b[0;34m)\u001b[0m\u001b[0;34m\u001b[0m\u001b[0m\n\u001b[1;32m      5\u001b[0m \u001b[0;34m\u001b[0m\u001b[0m\n",
            "\u001b[0;32m/usr/local/lib/python3.6/dist-packages/tensorflow/python/client/session.py\u001b[0m in \u001b[0;36mrun\u001b[0;34m(self, fetches, feed_dict, options, run_metadata)\u001b[0m\n\u001b[1;32m    927\u001b[0m     \u001b[0;32mtry\u001b[0m\u001b[0;34m:\u001b[0m\u001b[0;34m\u001b[0m\u001b[0m\n\u001b[1;32m    928\u001b[0m       result = self._run(None, fetches, feed_dict, options_ptr,\n\u001b[0;32m--> 929\u001b[0;31m                          run_metadata_ptr)\n\u001b[0m\u001b[1;32m    930\u001b[0m       \u001b[0;32mif\u001b[0m \u001b[0mrun_metadata\u001b[0m\u001b[0;34m:\u001b[0m\u001b[0;34m\u001b[0m\u001b[0m\n\u001b[1;32m    931\u001b[0m         \u001b[0mproto_data\u001b[0m \u001b[0;34m=\u001b[0m \u001b[0mtf_session\u001b[0m\u001b[0;34m.\u001b[0m\u001b[0mTF_GetBuffer\u001b[0m\u001b[0;34m(\u001b[0m\u001b[0mrun_metadata_ptr\u001b[0m\u001b[0;34m)\u001b[0m\u001b[0;34m\u001b[0m\u001b[0m\n",
            "\u001b[0;32m/usr/local/lib/python3.6/dist-packages/tensorflow/python/client/session.py\u001b[0m in \u001b[0;36m_run\u001b[0;34m(self, handle, fetches, feed_dict, options, run_metadata)\u001b[0m\n\u001b[1;32m   1150\u001b[0m     \u001b[0;32mif\u001b[0m \u001b[0mfinal_fetches\u001b[0m \u001b[0;32mor\u001b[0m \u001b[0mfinal_targets\u001b[0m \u001b[0;32mor\u001b[0m \u001b[0;34m(\u001b[0m\u001b[0mhandle\u001b[0m \u001b[0;32mand\u001b[0m \u001b[0mfeed_dict_tensor\u001b[0m\u001b[0;34m)\u001b[0m\u001b[0;34m:\u001b[0m\u001b[0;34m\u001b[0m\u001b[0m\n\u001b[1;32m   1151\u001b[0m       results = self._do_run(handle, final_targets, final_fetches,\n\u001b[0;32m-> 1152\u001b[0;31m                              feed_dict_tensor, options, run_metadata)\n\u001b[0m\u001b[1;32m   1153\u001b[0m     \u001b[0;32melse\u001b[0m\u001b[0;34m:\u001b[0m\u001b[0;34m\u001b[0m\u001b[0m\n\u001b[1;32m   1154\u001b[0m       \u001b[0mresults\u001b[0m \u001b[0;34m=\u001b[0m \u001b[0;34m[\u001b[0m\u001b[0;34m]\u001b[0m\u001b[0;34m\u001b[0m\u001b[0m\n",
            "\u001b[0;32m/usr/local/lib/python3.6/dist-packages/tensorflow/python/client/session.py\u001b[0m in \u001b[0;36m_do_run\u001b[0;34m(self, handle, target_list, fetch_list, feed_dict, options, run_metadata)\u001b[0m\n\u001b[1;32m   1326\u001b[0m     \u001b[0;32mif\u001b[0m \u001b[0mhandle\u001b[0m \u001b[0;32mis\u001b[0m \u001b[0;32mNone\u001b[0m\u001b[0;34m:\u001b[0m\u001b[0;34m\u001b[0m\u001b[0m\n\u001b[1;32m   1327\u001b[0m       return self._do_call(_run_fn, feeds, fetches, targets, options,\n\u001b[0;32m-> 1328\u001b[0;31m                            run_metadata)\n\u001b[0m\u001b[1;32m   1329\u001b[0m     \u001b[0;32melse\u001b[0m\u001b[0;34m:\u001b[0m\u001b[0;34m\u001b[0m\u001b[0m\n\u001b[1;32m   1330\u001b[0m       \u001b[0;32mreturn\u001b[0m \u001b[0mself\u001b[0m\u001b[0;34m.\u001b[0m\u001b[0m_do_call\u001b[0m\u001b[0;34m(\u001b[0m\u001b[0m_prun_fn\u001b[0m\u001b[0;34m,\u001b[0m \u001b[0mhandle\u001b[0m\u001b[0;34m,\u001b[0m \u001b[0mfeeds\u001b[0m\u001b[0;34m,\u001b[0m \u001b[0mfetches\u001b[0m\u001b[0;34m)\u001b[0m\u001b[0;34m\u001b[0m\u001b[0m\n",
            "\u001b[0;32m/usr/local/lib/python3.6/dist-packages/tensorflow/python/client/session.py\u001b[0m in \u001b[0;36m_do_call\u001b[0;34m(self, fn, *args)\u001b[0m\n\u001b[1;32m   1332\u001b[0m   \u001b[0;32mdef\u001b[0m \u001b[0m_do_call\u001b[0m\u001b[0;34m(\u001b[0m\u001b[0mself\u001b[0m\u001b[0;34m,\u001b[0m \u001b[0mfn\u001b[0m\u001b[0;34m,\u001b[0m \u001b[0;34m*\u001b[0m\u001b[0margs\u001b[0m\u001b[0;34m)\u001b[0m\u001b[0;34m:\u001b[0m\u001b[0;34m\u001b[0m\u001b[0m\n\u001b[1;32m   1333\u001b[0m     \u001b[0;32mtry\u001b[0m\u001b[0;34m:\u001b[0m\u001b[0;34m\u001b[0m\u001b[0m\n\u001b[0;32m-> 1334\u001b[0;31m       \u001b[0;32mreturn\u001b[0m \u001b[0mfn\u001b[0m\u001b[0;34m(\u001b[0m\u001b[0;34m*\u001b[0m\u001b[0margs\u001b[0m\u001b[0;34m)\u001b[0m\u001b[0;34m\u001b[0m\u001b[0m\n\u001b[0m\u001b[1;32m   1335\u001b[0m     \u001b[0;32mexcept\u001b[0m \u001b[0merrors\u001b[0m\u001b[0;34m.\u001b[0m\u001b[0mOpError\u001b[0m \u001b[0;32mas\u001b[0m \u001b[0me\u001b[0m\u001b[0;34m:\u001b[0m\u001b[0;34m\u001b[0m\u001b[0m\n\u001b[1;32m   1336\u001b[0m       \u001b[0mmessage\u001b[0m \u001b[0;34m=\u001b[0m \u001b[0mcompat\u001b[0m\u001b[0;34m.\u001b[0m\u001b[0mas_text\u001b[0m\u001b[0;34m(\u001b[0m\u001b[0me\u001b[0m\u001b[0;34m.\u001b[0m\u001b[0mmessage\u001b[0m\u001b[0;34m)\u001b[0m\u001b[0;34m\u001b[0m\u001b[0m\n",
            "\u001b[0;32m/usr/local/lib/python3.6/dist-packages/tensorflow/python/client/session.py\u001b[0m in \u001b[0;36m_run_fn\u001b[0;34m(feed_dict, fetch_list, target_list, options, run_metadata)\u001b[0m\n\u001b[1;32m   1317\u001b[0m       \u001b[0mself\u001b[0m\u001b[0;34m.\u001b[0m\u001b[0m_extend_graph\u001b[0m\u001b[0;34m(\u001b[0m\u001b[0;34m)\u001b[0m\u001b[0;34m\u001b[0m\u001b[0m\n\u001b[1;32m   1318\u001b[0m       return self._call_tf_sessionrun(\n\u001b[0;32m-> 1319\u001b[0;31m           options, feed_dict, fetch_list, target_list, run_metadata)\n\u001b[0m\u001b[1;32m   1320\u001b[0m \u001b[0;34m\u001b[0m\u001b[0m\n\u001b[1;32m   1321\u001b[0m     \u001b[0;32mdef\u001b[0m \u001b[0m_prun_fn\u001b[0m\u001b[0;34m(\u001b[0m\u001b[0mhandle\u001b[0m\u001b[0;34m,\u001b[0m \u001b[0mfeed_dict\u001b[0m\u001b[0;34m,\u001b[0m \u001b[0mfetch_list\u001b[0m\u001b[0;34m)\u001b[0m\u001b[0;34m:\u001b[0m\u001b[0;34m\u001b[0m\u001b[0m\n",
            "\u001b[0;32m/usr/local/lib/python3.6/dist-packages/tensorflow/python/client/session.py\u001b[0m in \u001b[0;36m_call_tf_sessionrun\u001b[0;34m(self, options, feed_dict, fetch_list, target_list, run_metadata)\u001b[0m\n\u001b[1;32m   1405\u001b[0m     return tf_session.TF_SessionRun_wrapper(\n\u001b[1;32m   1406\u001b[0m         \u001b[0mself\u001b[0m\u001b[0;34m.\u001b[0m\u001b[0m_session\u001b[0m\u001b[0;34m,\u001b[0m \u001b[0moptions\u001b[0m\u001b[0;34m,\u001b[0m \u001b[0mfeed_dict\u001b[0m\u001b[0;34m,\u001b[0m \u001b[0mfetch_list\u001b[0m\u001b[0;34m,\u001b[0m \u001b[0mtarget_list\u001b[0m\u001b[0;34m,\u001b[0m\u001b[0;34m\u001b[0m\u001b[0m\n\u001b[0;32m-> 1407\u001b[0;31m         run_metadata)\n\u001b[0m\u001b[1;32m   1408\u001b[0m \u001b[0;34m\u001b[0m\u001b[0m\n\u001b[1;32m   1409\u001b[0m   \u001b[0;32mdef\u001b[0m \u001b[0m_call_tf_sessionprun\u001b[0m\u001b[0;34m(\u001b[0m\u001b[0mself\u001b[0m\u001b[0;34m,\u001b[0m \u001b[0mhandle\u001b[0m\u001b[0;34m,\u001b[0m \u001b[0mfeed_dict\u001b[0m\u001b[0;34m,\u001b[0m \u001b[0mfetch_list\u001b[0m\u001b[0;34m)\u001b[0m\u001b[0;34m:\u001b[0m\u001b[0;34m\u001b[0m\u001b[0m\n",
            "\u001b[0;31mKeyboardInterrupt\u001b[0m: "
          ]
        }
      ]
    },
    {
      "metadata": {
        "id": "q4QKQ1ivVQ_z",
        "colab_type": "code",
        "colab": {}
      },
      "cell_type": "code",
      "source": [
        "print(\"Best dev error rate = %.3f%%\" % min(dev_err_history))\n",
        "assert min(dev_err_history) < 1.5, \"you can do better!\""
      ],
      "execution_count": 0,
      "outputs": []
    },
    {
      "metadata": {
        "id": "MP8m3iZuVQ_0",
        "colab_type": "text"
      },
      "cell_type": "markdown",
      "source": [
        "# Multitask model: NER + POS\n",
        "\n",
        "Our data contains not only named entity labels, but also part-of-speech tags. Those problems are similar in nature, making it a good candidate for multi-tasking. With any luck, ouyr model will become better at named entity recognition by learning for POS-tagging.\n",
        "\n",
        "![model2](https://github.com/yandexdataschool/nlp_course/raw/master/resources/gorynich_2.png)"
      ]
    },
    {
      "metadata": {
        "id": "qk5NbbVWVQ_1",
        "colab_type": "code",
        "colab": {}
      },
      "cell_type": "code",
      "source": [
        "import keras, keras.layers as L\n",
        "\n",
        "class MultitaskModel:\n",
        "    def __init__(self, name, emb_size=128, hid_size=128):\n",
        "        \"\"\" \n",
        "        Equivalent to the SimpleModel above, but with two \n",
        "        linear \"heads\": one for \"ne\" logits and another for \"pos\".\n",
        "        Both heads should grow from the same intermediate \"body\" layer\n",
        "        \"\"\"\n",
        "        # define layers:\n",
        "        self.emb = L.Embedding(len(vocabs['word']), emb_size)\n",
        "        self.lstm = L.Bidirectional(L.CuDNNLSTM(hid_size // 2, return_sequences=True))\n",
        "        self.logits_ne = L.Dense(len(vocabs['ne']))\n",
        "        self.logits_pos = L.Dense(len(vocabs['pos']))\n",
        "    \n",
        "    def __call__(self, input_ix):\n",
        "        \"\"\"\n",
        "        Compute logits for named entity recognition\n",
        "        \"\"\"\n",
        "        \n",
        "        ner_logits = self.logits_ne(self.lstm(self.emb(input_ix)))\n",
        "        pos_logits = self.logits_pos(self.lstm(self.emb(input_ix)))\n",
        "        return {'ne': ner_logits, 'pos': pos_logits}"
      ],
      "execution_count": 0,
      "outputs": []
    },
    {
      "metadata": {
        "id": "QmvS2TheVQ_2",
        "colab_type": "code",
        "colab": {}
      },
      "cell_type": "code",
      "source": [
        "model = MultitaskModel('mod2')\n",
        "\n",
        "dummy_ix = tf.constant(prepare_batch(train_data[:3])['word'])\n",
        "dummy_out = model(dummy_ix)\n",
        "assert 'ne' in dummy_out and 'pos' in dummy_out\n",
        "\n",
        "sess.run(tf.global_variables_initializer())\n",
        "\n",
        "for key, logits in sess.run(dummy_out).items():\n",
        "    assert logits.shape == (3, dummy_ix.shape[1], len(vocabs[key]))"
      ],
      "execution_count": 0,
      "outputs": []
    },
    {
      "metadata": {
        "id": "tfi_FeYQVQ_4",
        "colab_type": "code",
        "colab": {}
      },
      "cell_type": "code",
      "source": [
        "from utils import infer_mask\n",
        "\n",
        "class multitask_trainer:\n",
        "    \"\"\" A trainer that computes losses for both NER and POS tasks and adds them together. \"\"\"    \n",
        "    ph = {\n",
        "        'word': tf.placeholder('int32', [None, None], name='input_tokens'),\n",
        "        'ne': tf.placeholder('int32', [None, None], name='named_entities'),\n",
        "        'pos': tf.placeholder('int32', [None, None], name='part_of_speech_tags'),\n",
        "    }\n",
        "\n",
        "    logits = model(ph['word'])\n",
        "    mask = infer_mask(ph['word'])\n",
        "    \n",
        "    # Compute loss for NER. Feel free to reuse the code from original trainer\n",
        "\n",
        "    ner_loss = -tf.nn.log_softmax(logits['ne'], -1) * tf.one_hot(ph['ne'], len(vocabs['ne']))\n",
        "    ner_loss = tf.reduce_sum(ner_loss * mask[:, :, None]) / tf.reduce_sum(mask)\n",
        "\n",
        "    # Compute the same kind of loss for POS.  (key: 'pos')\n",
        "\n",
        "    pos_loss = -tf.nn.log_softmax(logits['pos'], -1) * tf.one_hot(ph['pos'], len(vocabs['pos']))\n",
        "    pos_loss = tf.reduce_sum(pos_loss * mask[:, :, None]) / tf.reduce_sum(mask)\n",
        "    \n",
        "    # The total loss is just a sum of two losses.\n",
        "    # Note: you can use weighted combination of losses to squeeze a few more %%\n",
        "    loss = ner_loss + pos_loss\n",
        "    \n",
        "    step = tf.train.AdamOptimizer().minimize(loss)"
      ],
      "execution_count": 0,
      "outputs": []
    },
    {
      "metadata": {
        "id": "V_Wju4PNVQ_5",
        "colab_type": "code",
        "colab": {}
      },
      "cell_type": "code",
      "source": [
        "dummy_batch = prepare_batch(train_data[:3])\n",
        "ner_loss, pos_loss = sess.run([multitask_trainer.ner_loss, multitask_trainer.pos_loss], \n",
        "                              {multitask_trainer.ph[key]: dummy_batch[key] for key in multitask_trainer.ph})\n",
        "\n",
        "assert ner_loss > 0 and np.shape(ner_loss) == (), \"loss must be a positive scalar\"\n",
        "assert pos_loss > 0 and np.shape(pos_loss) == (), \"loss must be a positive scalar\""
      ],
      "execution_count": 0,
      "outputs": []
    },
    {
      "metadata": {
        "id": "QKpgC4IeVQ_7",
        "colab_type": "code",
        "colab": {}
      },
      "cell_type": "code",
      "source": [
        "from tqdm import tqdm\n",
        "from IPython.display import clear_output\n",
        "import matplotlib.pyplot as plt\n",
        "%matplotlib inline\n",
        "\n",
        "loss_history, dev_err_history = [], []\n",
        "sess.run(tf.global_variables_initializer())"
      ],
      "execution_count": 0,
      "outputs": []
    },
    {
      "metadata": {
        "id": "-vofATjOVQ_8",
        "colab_type": "code",
        "outputId": "787c4250-4f73-4f1e-9070-4e58a3f98e98",
        "colab": {
          "base_uri": "https://localhost:8080/",
          "height": 423
        }
      },
      "cell_type": "code",
      "source": [
        "for batch in tqdm(iterate_minibatches(train_data, cycle=True, max_batches=2500)):\n",
        "    loss_t, _ = sess.run([multitask_trainer.loss, multitask_trainer.step], \n",
        "                         {multitask_trainer.ph[key]: batch[key] for key in multitask_trainer.ph})\n",
        "    loss_history.append(loss_t)\n",
        "    \n",
        "    if len(loss_history) % 100 == 0:\n",
        "        err_t = compute_error_rate(multitask_trainer, dev_data)\n",
        "        dev_err_history.append(err_t)\n",
        "\n",
        "        clear_output(True)\n",
        "        plt.figure(figsize=[12, 6])\n",
        "        plt.subplot(1, 2, 1)\n",
        "        plt.plot(loss_history)\n",
        "        plt.title('train loss'), plt.grid()\n",
        "        plt.subplot(1, 2, 2)\n",
        "        plt.plot(np.arange(1, len(dev_err_history) + 1) * 100, dev_err_history)\n",
        "        plt.title('dev error rate %'), plt.grid()\n",
        "        plt.show()"
      ],
      "execution_count": 0,
      "outputs": [
        {
          "output_type": "display_data",
          "data": {
            "image/png": "[encoded data removed]",
            "text/plain": [
              "<matplotlib.figure.Figure at 0x7fe2302c4a90>"
            ]
          },
          "metadata": {
            "tags": []
          }
        },
        {
          "output_type": "stream",
          "text": [
            "\n",
            "2500it [03:16, 12.70it/s]\u001b[A"
          ],
          "name": "stderr"
        }
      ]
    },
    {
      "metadata": {
        "id": "8Rz8DZxCVQ_9",
        "colab_type": "code",
        "outputId": "10f90f25-6ce1-452f-999b-aa5a4664430a",
        "colab": {
          "base_uri": "https://localhost:8080/",
          "height": 34
        }
      },
      "cell_type": "code",
      "source": [
        "print(\"Best dev error rate = %.3f%%\" % min(dev_err_history))\n",
        "assert min(dev_err_history) < 1.4, \"you can do better!\""
      ],
      "execution_count": 0,
      "outputs": [
        {
          "output_type": "stream",
          "text": [
            "Best dev error rate = 1.369%\n"
          ],
          "name": "stdout"
        }
      ]
    },
    {
      "metadata": {
        "id": "eR5jHp8TVQ_-",
        "colab_type": "text"
      },
      "cell_type": "markdown",
      "source": [
        "### Final evaluation\n",
        "\n",
        "Let's now evaluate our corpora on a small expert-labeled dataset."
      ]
    },
    {
      "metadata": {
        "id": "B7zMCPB4VQ__",
        "colab_type": "code",
        "colab": {}
      },
      "cell_type": "code",
      "source": [
        "!wget https://www.dropbox.com/s/nfq7kp97ox7mwtz/wnut-test.conll?dl=1 -O wnut-test.conll 2> log\n",
        "    \n",
        "test_data = read_conll(\"./wnut-test.conll\", ['word', 'ne'])\n",
        "compute_error_rate(multitask_trainer, test_data)"
      ],
      "execution_count": 0,
      "outputs": []
    },
    {
      "metadata": {
        "id": "QpWr818NVRAA",
        "colab_type": "text"
      },
      "cell_type": "markdown",
      "source": [
        "## The real Zmey Gorynich [bonus section] \n",
        "\n",
        "![img](https://github.com/yandexdataschool/nlp_course/raw/master/resources/gorynich_small.png)\n",
        "\n",
        "Two heads are great, but three's even better! Let's add language modeling to the task.\n",
        "\n",
        "With language models, however, there are a few complications:\n",
        "* Our data is too small for LM training. Let's use [1 billion word benchmark](http://www.statmt.org/lm-benchmark/) instead. It *may* even be a good idea to preserve cases.\n",
        "* Language models have some issues with being bidirectional. We recommend training forward and backward models separately and fusing them together. Or use the same approach as [ELMO](https://tfhub.dev/google/elmo/2).\n",
        "* The simplest scheme is to pre-train as a language model and fine-tune for NER and POS. We recommend starting from that.\n",
        "\n",
        "It is also a good idea to try structured [CRF loss](https://github.com/tensorflow/tensorflow/tree/master/tensorflow/contrib/crf) for NER/POS."
      ]
    }
  ]
}