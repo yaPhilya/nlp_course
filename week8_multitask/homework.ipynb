{
  "nbformat": 4,
  "nbformat_minor": 0,
  "metadata": {
    "colab": {
      "name": "homework.ipynb",
      "version": "0.3.2",
      "provenance": []
    },
    "kernelspec": {
      "name": "python3",
      "display_name": "Python 3"
    },
    "accelerator": "GPU"
  },
  "cells": [
    {
      "metadata": {
        "id": "fEQLNowBwQsg",
        "colab_type": "text"
      },
      "cell_type": "markdown",
      "source": [
        "# Homework: Multi-task Learning & Domain Adaptation\n",
        "##  Named Entity Recognition\n",
        "\n",
        "Today we're gonna solve the problem of named entity recognition. Here's what it does in one picture:\n",
        "![img](https://commons.bmstu.wiki/images/0/00/NER1.png)\n",
        "[image source](https://bit.ly/2Pmg7L2)\n",
        "\n",
        "\n",
        "For each word, in a sentence, your model should predict a named entity class:\n"
      ]
    },
    {
      "metadata": {
        "id": "wBBFMOp0wQsi",
        "colab_type": "code",
        "colab": {}
      },
      "cell_type": "code",
      "source": [
        "import numpy as np\n",
        "import tensorflow as tf\n",
        "tf.reset_default_graph()\n",
        "sess = tf.InteractiveSession()"
      ],
      "execution_count": 0,
      "outputs": []
    },
    {
      "metadata": {
        "id": "D7NcduC6wQsn",
        "colab_type": "text"
      },
      "cell_type": "markdown",
      "source": [
        "## Data\n",
        "\n",
        "### Train set\n",
        "\n",
        "Our model will train on a [Groningen Meaning Bank corpus](https://www.kaggle.com/abhinavwalia95/entity-annotated-corpus).\n",
        "\n",
        "Each word of every sentence is labelled with named entity class and a part-of-speech tag.\n",
        "\n",
        "### Source domain testset\n",
        "\n",
        "Our train set consists from texts from different news sources. Therefore as source-domain testset we will use data from [CoNLL-2003 Shared Task](https://github.com/Franck-Dernoncourt/NeuroNER/blob/master/data/conll2003/en). More information about the task can be found [here](https://www.clips.uantwerpen.be/conll2003/ner/).\n",
        "\n",
        "### Target domain (in-domain) data\n",
        "\n",
        "As target-domain data we will use data from [WNUT17 Emerging and Rare entity recognition task](http://noisy-text.github.io/2017/emerging-rare-entities.html). This shared task focuses on identifying unusual, previously-unseen entities in the context of emerging discussions. The data were mined from mined from Twitter, Reddit,\n",
        "YouTube and StackExchange. Results of different competitors of the task were published [here](https://noisy-text.github.io/2017/pdf/WNUT18.pdf).\n",
        "\n",
        "### Named entity classes\n",
        "\n",
        "* PER - _person_: names of people (e.g. Alexander S. Pushkin)\n",
        "* ORG - _organization_: names of corporations (e.g. Yandex), names of non-profit organizations (e.g. UNICEF)\n",
        "Google).\n",
        "* LOC - _location_ : e.g. Russia\n",
        "* MISC - _miscellaneous_ : other named entities including names of products (e.g. iPhone) and creative works (e.g. Bohemian Rhapsody)\n",
        "\n",
        "### Evaluation metrics\n",
        "\n",
        "As evaluation metrics we will F1 measure on exact matched NEs. It means that partially overlapped enitities of same class are considered as mismatch.\n",
        "For example, LOC entities below is partially overlapped. And it is a mismatch:\n",
        "\n",
        "__O, B-LOC, I-LOC, O__\n",
        "\n",
        "__O, B-LOC, I-LOC, I-LOC__\n",
        "\n",
        "Details can be found in the code of _conlleval.py_\n",
        "\n",
        "### Data format\n",
        "\n",
        "The format of all dataset follows popular [IOB format](https://en.wikipedia.org/wiki/Inside–outside–beginning_(tagging)). The B- prefix before a tag indicates that the tag is the beginning of a chunk, and an I- prefix before a tag indicates that the tag is inside a chunk. The B- tag is used only when a tag is followed by a tag of the same type without O tokens between them. An O tag indicates that a token belongs to no chunk.\n",
        "\n",
        "The named entity labels include:\n",
        "* __B-LOC__ - location - first token\n",
        "* __I-LOC__ - location - subsequent tokens\n",
        "* __B-ORG__ - organization - first token\n",
        "* __O__ - not a named entity\n",
        "\n",
        "Take a look for yourself:"
      ]
    },
    {
      "metadata": {
        "id": "HU0nbJkswQso",
        "colab_type": "code",
        "colab": {
          "base_uri": "https://localhost:8080/",
          "height": 1397
        },
        "outputId": "e137ec20-bd42-400a-8d7c-5459519c7aa8"
      },
      "cell_type": "code",
      "source": [
        "# Train:\n",
        "!wget https://www.dropbox.com/s/xobyz6jgovvz3dm/kaggle-train.conll?dl=1 -O kaggle-train.conll\n",
        "\n",
        "# Source domain testset:\n",
        "!wget https://www.dropbox.com/s/1l8b9iy78cglrw3/source-domain-test.conll?dl=1 -O source-domain-test.conll\n",
        "\n",
        "# Target domain testset:\n",
        "!wget https://www.dropbox.com/s/oxfkdy23ux5hfz5/target-domain-test.conll?dl=1 -O target-domain-test.conll\n",
        "    \n",
        "# Target domain monolingual data:\n",
        "!wget https://www.dropbox.com/s/ysdrotjdfljydbr/target-domain-monolingual.conll?dl=1 -O target-domain-monolingual.conll\n"
      ],
      "execution_count": 2,
      "outputs": [
        {
          "output_type": "stream",
          "text": [
            "--2018-11-24 12:54:07--  https://www.dropbox.com/s/xobyz6jgovvz3dm/kaggle-train.conll?dl=1\n",
            "Resolving www.dropbox.com (www.dropbox.com)... 162.125.1.1, 2620:100:601b:1::a27d:801\n",
            "Connecting to www.dropbox.com (www.dropbox.com)|162.125.1.1|:443... connected.\n",
            "HTTP request sent, awaiting response... 301 Moved Permanently\n",
            "Location: /s/dl/xobyz6jgovvz3dm/kaggle-train.conll [following]\n",
            "--2018-11-24 12:54:07--  https://www.dropbox.com/s/dl/xobyz6jgovvz3dm/kaggle-train.conll\n",
            "Reusing existing connection to www.dropbox.com:443.\n",
            "HTTP request sent, awaiting response... 302 Found\n",
            "Location: https://uc25227c7f4a5e6ec6be26c68319.dl.dropboxusercontent.com/cd/0/get/AWNpNNiWt-GLAXXS77GHZeiHcMCG86XZRDopVc5p2aJQfduxhnTfh9fJeuu38sBE3en-EA9xsoEyOfodRlJptId4eoYjvez-qE9yn5IDPCIS3HeyYzmKOelnt5ydOr6vyt1de4DqtlzWNSjVsGziX10loP-cPyIl_JukOzn1QPvwJ5AwTXd-SXICIVSsKzUxwPE/file?dl=1 [following]\n",
            "--2018-11-24 12:54:08--  https://uc25227c7f4a5e6ec6be26c68319.dl.dropboxusercontent.com/cd/0/get/AWNpNNiWt-GLAXXS77GHZeiHcMCG86XZRDopVc5p2aJQfduxhnTfh9fJeuu38sBE3en-EA9xsoEyOfodRlJptId4eoYjvez-qE9yn5IDPCIS3HeyYzmKOelnt5ydOr6vyt1de4DqtlzWNSjVsGziX10loP-cPyIl_JukOzn1QPvwJ5AwTXd-SXICIVSsKzUxwPE/file?dl=1\n",
            "Resolving uc25227c7f4a5e6ec6be26c68319.dl.dropboxusercontent.com (uc25227c7f4a5e6ec6be26c68319.dl.dropboxusercontent.com)... 162.125.7.6, 2620:100:601a:6::a27d:706\n",
            "Connecting to uc25227c7f4a5e6ec6be26c68319.dl.dropboxusercontent.com (uc25227c7f4a5e6ec6be26c68319.dl.dropboxusercontent.com)|162.125.7.6|:443... connected.\n",
            "HTTP request sent, awaiting response... 200 OK\n",
            "Length: 12200095 (12M) [application/binary]\n",
            "Saving to: ‘kaggle-train.conll’\n",
            "\n",
            "kaggle-train.conll  100%[===================>]  11.63M  61.4MB/s    in 0.2s    \n",
            "\n",
            "2018-11-24 12:54:08 (61.4 MB/s) - ‘kaggle-train.conll’ saved [12200095/12200095]\n",
            "\n",
            "--2018-11-24 12:54:09--  https://www.dropbox.com/s/1l8b9iy78cglrw3/source-domain-test.conll?dl=1\n",
            "Resolving www.dropbox.com (www.dropbox.com)... 162.125.1.1, 2620:100:601b:1::a27d:801\n",
            "Connecting to www.dropbox.com (www.dropbox.com)|162.125.1.1|:443... connected.\n",
            "HTTP request sent, awaiting response... 301 Moved Permanently\n",
            "Location: /s/dl/1l8b9iy78cglrw3/source-domain-test.conll [following]\n",
            "--2018-11-24 12:54:09--  https://www.dropbox.com/s/dl/1l8b9iy78cglrw3/source-domain-test.conll\n",
            "Reusing existing connection to www.dropbox.com:443.\n",
            "HTTP request sent, awaiting response... 302 Found\n",
            "Location: https://uce3e2fcfef1067df9e1ddf2a59f.dl.dropboxusercontent.com/cd/0/get/AWMgOFl40lNJeVn8ORFlKIH-KD963IQmtQiFGG1Nhjc8-lBb6gM1xYyyd3iYeKZP6zyVa3k8O0w2stHE1fKagXLh0xEs9OSVfEc90k06UgBIGG9mCMONimeUkI_N8enwEe--zY9dI9H4yfsDJ48hpOWOlugwMfYxl0WQWOPcY8EvxARyDdE__BSGDTC5yOJtdcs/file?dl=1 [following]\n",
            "--2018-11-24 12:54:10--  https://uce3e2fcfef1067df9e1ddf2a59f.dl.dropboxusercontent.com/cd/0/get/AWMgOFl40lNJeVn8ORFlKIH-KD963IQmtQiFGG1Nhjc8-lBb6gM1xYyyd3iYeKZP6zyVa3k8O0w2stHE1fKagXLh0xEs9OSVfEc90k06UgBIGG9mCMONimeUkI_N8enwEe--zY9dI9H4yfsDJ48hpOWOlugwMfYxl0WQWOPcY8EvxARyDdE__BSGDTC5yOJtdcs/file?dl=1\n",
            "Resolving uce3e2fcfef1067df9e1ddf2a59f.dl.dropboxusercontent.com (uce3e2fcfef1067df9e1ddf2a59f.dl.dropboxusercontent.com)... 162.125.7.6, 2620:100:6016:6::a27d:106\n",
            "Connecting to uce3e2fcfef1067df9e1ddf2a59f.dl.dropboxusercontent.com (uce3e2fcfef1067df9e1ddf2a59f.dl.dropboxusercontent.com)|162.125.7.6|:443... connected.\n",
            "HTTP request sent, awaiting response... 200 OK\n",
            "Length: 526358 (514K) [application/binary]\n",
            "Saving to: ‘source-domain-test.conll’\n",
            "\n",
            "source-domain-test. 100%[===================>] 514.02K  --.-KB/s    in 0.09s   \n",
            "\n",
            "2018-11-24 12:54:10 (5.77 MB/s) - ‘source-domain-test.conll’ saved [526358/526358]\n",
            "\n",
            "--2018-11-24 12:54:11--  https://www.dropbox.com/s/oxfkdy23ux5hfz5/target-domain-test.conll?dl=1\n",
            "Resolving www.dropbox.com (www.dropbox.com)... 162.125.1.1, 2620:100:601b:1::a27d:801\n",
            "Connecting to www.dropbox.com (www.dropbox.com)|162.125.1.1|:443... connected.\n",
            "HTTP request sent, awaiting response... 301 Moved Permanently\n",
            "Location: /s/dl/oxfkdy23ux5hfz5/target-domain-test.conll [following]\n",
            "--2018-11-24 12:54:11--  https://www.dropbox.com/s/dl/oxfkdy23ux5hfz5/target-domain-test.conll\n",
            "Reusing existing connection to www.dropbox.com:443.\n",
            "HTTP request sent, awaiting response... 302 Found\n",
            "Location: https://uc7f2e8c9919d29ab70efbff9768.dl.dropboxusercontent.com/cd/0/get/AWNzzEmZyNU6nAJOKP5Hp1KqAhB3_YvyJ5OS0jVbOG8GOvIZ66JjzNjksub4BOFopMGxl9MvG9rwwWzc6xl4VVxSZnZRSimBP4PRMKtWHfVeSlFLWg45YCUKc00ewomqCu34YGM5aWp31SO_W5gbhNQClilgKqAwfX5-1xr-GST0uFLkmDmojdn6kaLUBwW52J0/file?dl=1 [following]\n",
            "--2018-11-24 12:54:11--  https://uc7f2e8c9919d29ab70efbff9768.dl.dropboxusercontent.com/cd/0/get/AWNzzEmZyNU6nAJOKP5Hp1KqAhB3_YvyJ5OS0jVbOG8GOvIZ66JjzNjksub4BOFopMGxl9MvG9rwwWzc6xl4VVxSZnZRSimBP4PRMKtWHfVeSlFLWg45YCUKc00ewomqCu34YGM5aWp31SO_W5gbhNQClilgKqAwfX5-1xr-GST0uFLkmDmojdn6kaLUBwW52J0/file?dl=1\n",
            "Resolving uc7f2e8c9919d29ab70efbff9768.dl.dropboxusercontent.com (uc7f2e8c9919d29ab70efbff9768.dl.dropboxusercontent.com)... 162.125.7.6, 2620:100:601a:6::a27d:706\n",
            "Connecting to uc7f2e8c9919d29ab70efbff9768.dl.dropboxusercontent.com (uc7f2e8c9919d29ab70efbff9768.dl.dropboxusercontent.com)|162.125.7.6|:443... connected.\n",
            "HTTP request sent, awaiting response... 200 OK\n",
            "Length: 183185 (179K) [application/binary]\n",
            "Saving to: ‘target-domain-test.conll’\n",
            "\n",
            "target-domain-test. 100%[===================>] 178.89K  --.-KB/s    in 0.06s   \n",
            "\n",
            "2018-11-24 12:54:12 (2.92 MB/s) - ‘target-domain-test.conll’ saved [183185/183185]\n",
            "\n",
            "--2018-11-24 12:54:12--  https://www.dropbox.com/s/ysdrotjdfljydbr/target-domain-monolingual.conll?dl=1\n",
            "Resolving www.dropbox.com (www.dropbox.com)... 162.125.1.1, 2620:100:601b:1::a27d:801\n",
            "Connecting to www.dropbox.com (www.dropbox.com)|162.125.1.1|:443... connected.\n",
            "HTTP request sent, awaiting response... 301 Moved Permanently\n",
            "Location: /s/dl/ysdrotjdfljydbr/target-domain-monolingual.conll [following]\n",
            "--2018-11-24 12:54:13--  https://www.dropbox.com/s/dl/ysdrotjdfljydbr/target-domain-monolingual.conll\n",
            "Reusing existing connection to www.dropbox.com:443.\n",
            "HTTP request sent, awaiting response... 302 Found\n",
            "Location: https://uc9ff661ebf645231191ecdfae4a.dl.dropboxusercontent.com/cd/0/get/AWNYTwiLmCUBaGE_scpWij8VVZ6IYh7Pwhp5zKpmfv_i1BIAZaF7gMmXhSL6KYymIDKogecO21GnSEUU2LVmv1_nlHz7m5fivv2tM3r2YKYcbSk_bqZLfS3FS_BGLuSImzTEF6hy2RVbYtwL661lTmjdmf18lJRAxLl7TFlX4_c52GlybWg6FuR6Powqb6AXCVs/file?dl=1 [following]\n",
            "--2018-11-24 12:54:13--  https://uc9ff661ebf645231191ecdfae4a.dl.dropboxusercontent.com/cd/0/get/AWNYTwiLmCUBaGE_scpWij8VVZ6IYh7Pwhp5zKpmfv_i1BIAZaF7gMmXhSL6KYymIDKogecO21GnSEUU2LVmv1_nlHz7m5fivv2tM3r2YKYcbSk_bqZLfS3FS_BGLuSImzTEF6hy2RVbYtwL661lTmjdmf18lJRAxLl7TFlX4_c52GlybWg6FuR6Powqb6AXCVs/file?dl=1\n",
            "Resolving uc9ff661ebf645231191ecdfae4a.dl.dropboxusercontent.com (uc9ff661ebf645231191ecdfae4a.dl.dropboxusercontent.com)... 162.125.7.6, 2620:100:601a:6::a27d:706\n",
            "Connecting to uc9ff661ebf645231191ecdfae4a.dl.dropboxusercontent.com (uc9ff661ebf645231191ecdfae4a.dl.dropboxusercontent.com)|162.125.7.6|:443... connected.\n",
            "HTTP request sent, awaiting response... 200 OK\n",
            "Length: 338533 (331K) [application/binary]\n",
            "Saving to: ‘target-domain-monolingual.conll’\n",
            "\n",
            "target-domain-monol 100%[===================>] 330.60K  --.-KB/s    in 0.08s   \n",
            "\n",
            "2018-11-24 12:54:13 (4.21 MB/s) - ‘target-domain-monolingual.conll’ saved [338533/338533]\n",
            "\n"
          ],
          "name": "stdout"
        }
      ]
    },
    {
      "metadata": {
        "id": "7E1ouE7bzPMy",
        "colab_type": "code",
        "colab": {
          "base_uri": "https://localhost:8080/",
          "height": 422
        },
        "outputId": "c46fff75-60ee-4d85-d8c5-efc3d0b22c6c"
      },
      "cell_type": "code",
      "source": [
        "!wget https://raw.githubusercontent.com/yaPhilya/nlp_course/master/week8_multitask/conlleval.py\n",
        "!wget https://raw.githubusercontent.com/yaPhilya/nlp_course/master/week8_multitask/utils.py"
      ],
      "execution_count": 9,
      "outputs": [
        {
          "output_type": "stream",
          "text": [
            "--2018-11-24 12:59:12--  https://raw.githubusercontent.com/yaPhilya/nlp_course/master/week8_multitask/conlleval.py\n",
            "Resolving raw.githubusercontent.com (raw.githubusercontent.com)... 151.101.0.133, 151.101.64.133, 151.101.128.133, ...\n",
            "Connecting to raw.githubusercontent.com (raw.githubusercontent.com)|151.101.0.133|:443... connected.\n",
            "HTTP request sent, awaiting response... 200 OK\n",
            "Length: 7046 (6.9K) [text/plain]\n",
            "Saving to: ‘conlleval.py.1’\n",
            "\n",
            "\rconlleval.py.1        0%[                    ]       0  --.-KB/s               \rconlleval.py.1      100%[===================>]   6.88K  --.-KB/s    in 0s      \n",
            "\n",
            "2018-11-24 12:59:12 (38.1 MB/s) - ‘conlleval.py.1’ saved [7046/7046]\n",
            "\n",
            "--2018-11-24 12:59:14--  https://raw.githubusercontent.com/yaPhilya/nlp_course/master/week8_multitask/utils.py\n",
            "Resolving raw.githubusercontent.com (raw.githubusercontent.com)... 151.101.0.133, 151.101.64.133, 151.101.128.133, ...\n",
            "Connecting to raw.githubusercontent.com (raw.githubusercontent.com)|151.101.0.133|:443... connected.\n",
            "HTTP request sent, awaiting response... 200 OK\n",
            "Length: 6853 (6.7K) [text/plain]\n",
            "Saving to: ‘utils.py’\n",
            "\n",
            "utils.py            100%[===================>]   6.69K  --.-KB/s    in 0s      \n",
            "\n",
            "2018-11-24 12:59:14 (57.8 MB/s) - ‘utils.py’ saved [6853/6853]\n",
            "\n"
          ],
          "name": "stdout"
        }
      ]
    },
    {
      "metadata": {
        "id": "CcBh983JwQst",
        "colab_type": "code",
        "colab": {
          "base_uri": "https://localhost:8080/",
          "height": 108
        },
        "outputId": "c91a65cf-afa5-4a58-fea7-43586d1bd402"
      },
      "cell_type": "code",
      "source": [
        "from conlleval import evaluate\n",
        "from utils import read_conll\n",
        "data = read_conll('./kaggle-train.conll', lower_words=True)\n",
        "\n",
        "data[333]"
      ],
      "execution_count": 10,
      "outputs": [
        {
          "output_type": "execute_result",
          "data": {
            "text/plain": [
              "{'ne': 'O O O O O O B-ORG I-ORG O O O B-LOC O B-LOC O B-LOC I-LOC O B-LOC O B-LOC O B-LOC O B-LOC O B-LOC O B-LOC O B-LOC O B-LOC O B-LOC O B-LOC O B-LOC O B-LOC O B-LOC O B-LOC O',\n",
              " 'pos': 'DT CD NNS RB JJ IN NNP NNP NN NN VBP NNP , NNP , NNP NNP , NNP , NNP , NNP , NNP , NNP , NNP , NNP , NNP , NNP , NNP , NNP , NNP , NNP CC NNP .',\n",
              " 'word': 'the 17 countries now eligible for world bank debt relief are benin , bolivia , burkina faso , ethiopia , ghana , guyana , honduras , madagascar , mali , mozambique , nicaragua , niger , rwanda , senegal , tanzania , uganda and zambia .'}"
            ]
          },
          "metadata": {
            "tags": []
          },
          "execution_count": 10
        }
      ]
    },
    {
      "metadata": {
        "id": "DQ2cvz6owQsv",
        "colab_type": "code",
        "colab": {}
      },
      "cell_type": "code",
      "source": [
        "test_outdomain_data = read_conll('./source-domain-test.conll', lower_words=True)\n",
        "test_indomain_data = read_conll('./target-domain-test.conll', column_names=['word', 'ne'], lower_words=True)\n",
        "monolingual_indomain_data = read_conll('./target-domain-monolingual.conll', column_names=['word'], lower_words=True)"
      ],
      "execution_count": 0,
      "outputs": []
    },
    {
      "metadata": {
        "id": "6OOuLJ3Vz_Ji",
        "colab_type": "code",
        "colab": {
          "base_uri": "https://localhost:8080/",
          "height": 108
        },
        "outputId": "feac69a5-1919-4909-fb7b-ac4508a17864"
      },
      "cell_type": "code",
      "source": [
        "test_outdomain_data[300]"
      ],
      "execution_count": 13,
      "outputs": [
        {
          "output_type": "execute_result",
          "data": {
            "text/plain": [
              "{'ne': 'B-LOC I-LOC O B-PER I-PER O O O O O B-MISC O O O O O O O O O O O O O O O O O O O O O B-LOC O O O',\n",
              " 'pos': 'NNP NNP NN NNP NNP VBD DT NN TO PRP$ JJ NN , IN RB VBG JJ IN NN , WRB PRP VBD VBN RB IN DT JJ JJ NNS VB IN NNP IN NNP .',\n",
              " 'word': 'west indies batsman brian lara suffered another blow to his australian tour , after already being disciplined for misconduct , when he was dismissed cheaply in the first limited overs match against australia on friday .'}"
            ]
          },
          "metadata": {
            "tags": []
          },
          "execution_count": 13
        }
      ]
    },
    {
      "metadata": {
        "id": "lqIAXPfc0QEv",
        "colab_type": "code",
        "colab": {
          "base_uri": "https://localhost:8080/",
          "height": 51
        },
        "outputId": "563cf5f3-3916-45b6-a616-d98d9a6a01ab"
      },
      "cell_type": "code",
      "source": [
        "test_indomain_data[846]"
      ],
      "execution_count": 21,
      "outputs": [
        {
          "output_type": "execute_result",
          "data": {
            "text/plain": [
              "{'ne': 'O B-MISC I-MISC I-MISC O O O O O O O O O O O O O O O O O O O O O O O O O O',\n",
              " 'word': '“ la la land ” received 14 academy award nominations , tying the record set by the films . . . https://t.co/ubyjchiwkd by # cnn via @ c 0 nvey'}"
            ]
          },
          "metadata": {
            "tags": []
          },
          "execution_count": 21
        }
      ]
    },
    {
      "metadata": {
        "id": "P5R2OEYT0j0P",
        "colab_type": "code",
        "colab": {
          "base_uri": "https://localhost:8080/",
          "height": 34
        },
        "outputId": "149e94bc-0d54-4a22-cadb-d03e98de9569"
      },
      "cell_type": "code",
      "source": [
        "monolingual_indomain_data[487]"
      ],
      "execution_count": 22,
      "outputs": [
        {
          "output_type": "execute_result",
          "data": {
            "text/plain": [
              "{'word': 'just got all caught up on my flagged emails from the week . now i feel good about leaving the office for the weekend . tgif !'}"
            ]
          },
          "metadata": {
            "tags": []
          },
          "execution_count": 22
        }
      ]
    },
    {
      "metadata": {
        "id": "94cFFYbawQsx",
        "colab_type": "code",
        "colab": {
          "base_uri": "https://localhost:8080/",
          "height": 34
        },
        "outputId": "d4898d0a-bb9f-4173-9fb2-1f0ad77ae1af"
      },
      "cell_type": "code",
      "source": [
        "from sklearn.model_selection import train_test_split\n",
        "train_data, dev_data = train_test_split(data, test_size=0.25, random_state=42)\n",
        "print(\"train: {}, dev: {}\".format(len(train_data), len(dev_data)))"
      ],
      "execution_count": 23,
      "outputs": [
        {
          "output_type": "stream",
          "text": [
            "train: 35967, dev: 11989\n"
          ],
          "name": "stdout"
        }
      ]
    },
    {
      "metadata": {
        "id": "oanYk9S0afp2",
        "colab_type": "code",
        "colab": {
          "base_uri": "https://localhost:8080/",
          "height": 193
        },
        "outputId": "75d4cd43-89d5-4bc1-f11f-d67e19819536"
      },
      "cell_type": "code",
      "source": [
        "train_data"
      ],
      "execution_count": 76,
      "outputs": [
        {
          "output_type": "execute_result",
          "data": {
            "text/plain": [
              "array([{'word': 'the spokesman said the u.n. forces responded using an attack helicopter .', 'pos': 'DT NN VBD DT NNP NNS VBD VBG DT NN NN .', 'ne': 'O O O O B-ORG O O O O O O O'},\n",
              "       {'word': 'presidents of member nations argentina , brazil , paraguay and uruguay are to sign a document tuesday extending voting rights and lower tariffs to venezuela .', 'pos': 'NNS IN NN NNS NNP , NNP , NNP CC NNP VBP TO VB DT NN NNP VBG NN NNS CC JJR NNS TO NNP .', 'ne': 'O O O O B-ORG O B-ORG O B-ORG O B-ORG O O O O O O O O O O O O O B-ORG O'},\n",
              "       {'word': 'ecuador \\'s daily oil exports of nearly \"150000\" barrels each day have been completely stopped .', 'pos': 'NNP POS JJ NN NNS IN RB CD NNS DT NN VBP VBN RB VBN .', 'ne': 'B-LOC O O O O O O O O O O O O O O O'},\n",
              "       ...,\n",
              "       {'word': 'some media report the abductors were paid an unspecified ransom .', 'pos': 'DT NNS VBP DT NNS VBD VBN DT JJ NN .', 'ne': 'O O O O O O O O O O O'},\n",
              "       {'word': 'kindhearts officials have not commented on the alleged links to terrorism .', 'pos': 'NNP NNS VBP RB VBN IN DT JJ NNS TO NN .', 'ne': 'B-ORG O O O O O O O O O O O'},\n",
              "       {'word': 'it also said that no one else who has come into contact with the woman has shown any symptoms of the virus .', 'pos': 'PRP RB VBD IN DT CD NN WP VBZ VBN IN NN IN DT NN VBZ VBN DT NNS IN DT NN .', 'ne': 'O O O O O O O O O O O O O O O O O O O O O O O'}],\n",
              "      dtype=object)"
            ]
          },
          "metadata": {
            "tags": []
          },
          "execution_count": 76
        }
      ]
    },
    {
      "metadata": {
        "id": "lxQOR1UWwQs0",
        "colab_type": "code",
        "colab": {}
      },
      "cell_type": "code",
      "source": [
        "from utils import Vocab\n",
        "vocabs = {\n",
        "    key: Vocab.from_lines([row[key] for row in train_data])\n",
        "    for key in ['word', 'pos', 'ne']\n",
        "}\n",
        "\n",
        "def prepare_batch(data):\n",
        "    keys = data[0].keys()\n",
        "    return {\n",
        "        key: vocabs[key].to_matrix(row[key] for row in data)\n",
        "        for key in keys\n",
        "    }"
      ],
      "execution_count": 0,
      "outputs": []
    },
    {
      "metadata": {
        "id": "crMpHF7dwQs2",
        "colab_type": "code",
        "colab": {
          "base_uri": "https://localhost:8080/",
          "height": 153
        },
        "outputId": "6ecdeeee-ae84-4158-a229-81b6c50d5d04"
      },
      "cell_type": "code",
      "source": [
        "dummy_rows = sorted(data, key=lambda row: len(row['word']))[100:102]\n",
        "print(dummy_rows[0])\n",
        "print(dummy_rows[1])\n",
        "prepare_batch(dummy_rows)"
      ],
      "execution_count": 31,
      "outputs": [
        {
          "output_type": "stream",
          "text": [
            "{'word': 'well , it could happen !', 'pos': 'RB , PRP MD VB .', 'ne': 'O O O O O O'}\n",
            "{'word': 'sudan denies the claim .', 'pos': 'NNP VBZ DT NN .', 'ne': 'B-LOC O O O O'}\n"
          ],
          "name": "stdout"
        },
        {
          "output_type": "execute_result",
          "data": {
            "text/plain": [
              "{'ne': array([[10, 10, 10, 10, 10, 10],\n",
              "        [ 2, 10, 10, 10, 10,  0]], dtype=int32),\n",
              " 'pos': array([[26,  4, 24, 17, 33,  5],\n",
              "        [19, 38, 10, 18,  5,  0]], dtype=int32),\n",
              " 'word': array([[27512,   289, 13824,  7061, 12084,     2],\n",
              "        [24626,  7884, 25433,  6090,   292,     0]], dtype=int32)}"
            ]
          },
          "metadata": {
            "tags": []
          },
          "execution_count": 31
        }
      ]
    },
    {
      "metadata": {
        "id": "3gj5mzA_wQs3",
        "colab_type": "text"
      },
      "cell_type": "markdown",
      "source": [
        "## Baseline: single-task model (1.5 points)\n",
        "\n",
        "![img](https://github.com/yandexdataschool/nlp_course/raw/master/resources/gorynich_ne.png)\n",
        "\n",
        "Let's start with a straightforward model that does named entity recognition.\n",
        "\n",
        "\n",
        "The image will make sense later :)"
      ]
    },
    {
      "metadata": {
        "id": "veoFiueP5fDI",
        "colab_type": "code",
        "colab": {
          "base_uri": "https://localhost:8080/",
          "height": 34
        },
        "outputId": "08fea166-fa96-43bb-ef54-f2e898b0073a"
      },
      "cell_type": "code",
      "source": [
        "import keras, keras.layers as L"
      ],
      "execution_count": 32,
      "outputs": [
        {
          "output_type": "stream",
          "text": [
            "Using TensorFlow backend.\n"
          ],
          "name": "stderr"
        }
      ]
    },
    {
      "metadata": {
        "id": "13cdfpe-wQs4",
        "colab_type": "code",
        "colab": {}
      },
      "cell_type": "code",
      "source": [
        "import keras, keras.layers as L\n",
        "\n",
        "class SimpleModel:\n",
        "    def __init__(self, name, emb_size=128, hid_size=128):\n",
        "        \"\"\" \n",
        "        A model that predicts named entity class for each word\n",
        "        We recommend the following model:\n",
        "        * Embedding\n",
        "        * Bi-directional LSTM\n",
        "        * Linear layer to predict logits\n",
        "        \"\"\"\n",
        "        \n",
        "        # define layers\n",
        "        self.emb = L.Embedding(len(vocabs['word']), emb_size)\n",
        "        \n",
        "        self.lstm = L.Bidirectional(L.CuDNNLSTM(hid_size // 2, return_sequences=True))\n",
        "        self.logits = L.Dense(len(vocabs['ne']))\n",
        "    \n",
        "    def __call__(self, input_ix):\n",
        "        \"\"\"\n",
        "        Compute logits for named entity recognition\n",
        "        :param input_ix: a matrix of token indices, int32[batch_size, seq_length]\n",
        "        \"\"\"\n",
        "        ner_logits = self.logits(self.lstm(self.emb(input_ix)))\n",
        "        return {'ne': ner_logits}\n"
      ],
      "execution_count": 0,
      "outputs": []
    },
    {
      "metadata": {
        "id": "JLGtetYCwQs6",
        "colab_type": "code",
        "colab": {}
      },
      "cell_type": "code",
      "source": [
        "model = SimpleModel('mod1')\n",
        "\n",
        "\n",
        "\n",
        "dummy_ix = tf.constant(prepare_batch(train_data[:3])['word'])\n",
        "dummy_out = model(dummy_ix)\n",
        "\n",
        "sess.run(tf.global_variables_initializer())\n",
        "dummy_logits = sess.run(dummy_out['ne'])\n",
        "\n",
        "assert dummy_logits.shape == (3, dummy_ix.shape[1], len(vocabs['ne']))\n",
        "assert dummy_logits.min() < 0 and dummy_logits.max() > 0, \"you ~may~ have added nonlinearity after logits.\"\\\n",
        "                                                          \"Make sure they're just a linear layer\""
      ],
      "execution_count": 0,
      "outputs": []
    },
    {
      "metadata": {
        "id": "QzDPHr9ywQs8",
        "colab_type": "code",
        "colab": {}
      },
      "cell_type": "code",
      "source": [
        "from utils import infer_mask\n",
        "\n",
        "class trainer:\n",
        "    \"\"\" A bunch of tensorflow operations used for model training \"\"\"\n",
        "    \n",
        "    ph = {\n",
        "        'word': tf.placeholder('int32', [None, None], name='input_tokens'),\n",
        "        'ne': tf.placeholder('int32', [None, None], name='named_entities'),\n",
        "    }\n",
        "\n",
        "    logits = model(ph['word'])\n",
        "    mask = infer_mask(ph['word'])\n",
        "    \n",
        "    loss = -tf.nn.log_softmax(logits['ne'], -1) * tf.one_hot(ph['ne'], len(vocabs['ne']))\n",
        "    loss = tf.reduce_sum(loss * mask[:, :, None]) / tf.reduce_sum(mask)\n",
        "\n",
        "    step = tf.train.AdamOptimizer().minimize(loss)"
      ],
      "execution_count": 0,
      "outputs": []
    },
    {
      "metadata": {
        "id": "WuXAjoJJwQs-",
        "colab_type": "text"
      },
      "cell_type": "markdown",
      "source": [
        "### Training loop\n",
        "\n",
        "Nothin' special: sample random batches and perform SGD steps"
      ]
    },
    {
      "metadata": {
        "id": "VCK33Z6QwQs-",
        "colab_type": "code",
        "colab": {}
      },
      "cell_type": "code",
      "source": [
        "def iterate_minibatches(data, batch_size=128, shuffle=True, cycle=False, max_batches=None):\n",
        "    indices = np.arange(len(data))\n",
        "    total_batches = 0\n",
        "    while True:\n",
        "        if shuffle: indices = np.random.permutation(indices)\n",
        "        for start_i in range(0, len(data), batch_size):\n",
        "            batch_ix = indices[start_i: start_i + batch_size]\n",
        "            yield prepare_batch(data[batch_ix])\n",
        "            total_batches += 1\n",
        "            if max_batches and total_batches >= max_batches:\n",
        "                raise StopIteration()\n",
        "        if not cycle: break\n",
        "            \n",
        "\n",
        "def compute_error_rate(trainer, data, batch_size=128, key='ne'):\n",
        "    numerator = denominator = 0.0\n",
        "    for batch in iterate_minibatches(data, batch_size, shuffle=False, cycle=False):\n",
        "        batch_ne_logits, batch_mask = sess.run([trainer.logits[key], trainer.mask], \n",
        "                                               {trainer.ph['word']: batch['word']})\n",
        "        numerator += np.sum((batch[key] == batch_ne_logits.argmax(-1)) * batch_mask)\n",
        "        denominator += batch_mask.sum()\n",
        "    return (1.0 - numerator / denominator) * 100\n",
        "\n",
        "def decode_greedy(trainer, data, vocabs, batch_size=128, key='ne'):\n",
        "    result = []\n",
        "    for batch in iterate_minibatches(data, batch_size, shuffle=False, cycle=False):\n",
        "        batch_logits = sess.run(trainer.logits[key], \n",
        "                                {trainer.ph['word']: batch['word']})\n",
        "        result.extend(vocabs[key].to_lines(batch_logits.argmax(-1)))\n",
        "    return result\n",
        "\n",
        "def compute_stats(trainer, data, vocabs, batch_size=128, key='ne', verbose=False):\n",
        "    pred_seqs = decode_greedy(trainer, data, vocabs, batch_size, key)\n",
        "    true_seqs = [r[key] for r in data]\n",
        "    precision, recall, f1 = evaluate(true_seqs, pred_seqs, verbose)\n",
        "    return precision, recall, f1\n",
        "    "
      ],
      "execution_count": 0,
      "outputs": []
    },
    {
      "metadata": {
        "id": "TngiCujOwQs_",
        "colab_type": "code",
        "colab": {}
      },
      "cell_type": "code",
      "source": [
        "class StatsHistory:\n",
        "    def __init__(self):\n",
        "        self.precision = []\n",
        "        self.recall = []\n",
        "        self.f1 = []"
      ],
      "execution_count": 0,
      "outputs": []
    },
    {
      "metadata": {
        "id": "j1DOa0ldwQtB",
        "colab_type": "code",
        "colab": {}
      },
      "cell_type": "code",
      "source": [
        "from tqdm import tqdm\n",
        "from IPython.display import clear_output\n",
        "import matplotlib.pyplot as plt\n",
        "%matplotlib inline\n",
        "eval_every = 100\n",
        "\n",
        "loss_history = []\n",
        "dev_stats_history = StatsHistory()\n",
        "indomain_stats_history = StatsHistory()\n",
        "outdomain_stats_history = StatsHistory()\n",
        "\n",
        "sess.run(tf.global_variables_initializer())"
      ],
      "execution_count": 0,
      "outputs": []
    },
    {
      "metadata": {
        "id": "YUtYrD1BwQtC",
        "colab_type": "code",
        "colab": {
          "base_uri": "https://localhost:8080/",
          "height": 34
        },
        "outputId": "2577b506-4920-44a2-9219-7f8ee7fc36f3"
      },
      "cell_type": "code",
      "source": [
        "len(dev_data)"
      ],
      "execution_count": 57,
      "outputs": [
        {
          "output_type": "execute_result",
          "data": {
            "text/plain": [
              "11989"
            ]
          },
          "metadata": {
            "tags": []
          },
          "execution_count": 57
        }
      ]
    },
    {
      "metadata": {
        "scrolled": false,
        "id": "_TelvmKlwQtE",
        "colab_type": "code",
        "colab": {
          "base_uri": "https://localhost:8080/",
          "height": 406
        },
        "outputId": "f4bf394e-6139-403a-c264-54764fa5584c"
      },
      "cell_type": "code",
      "source": [
        "for batch in tqdm(iterate_minibatches(train_data, batch_size=256, cycle=True, max_batches=3500)):\n",
        "    loss_t, _ = sess.run([trainer.loss, trainer.step],\n",
        "                         {trainer.ph[key]: batch[key] for key in trainer.ph})\n",
        "    loss_history.append(loss_t)\n",
        "    \n",
        "    if len(loss_history) % eval_every == 0:\n",
        "        precision, recall, f1 = compute_stats(trainer, dev_data, vocabs, verbose=True)\n",
        "        dev_stats_history.precision.append(precision)\n",
        "        dev_stats_history.recall.append(recall)\n",
        "        dev_stats_history.f1.append(f1)\n",
        "        \n",
        "        _, _, f1 = compute_stats(trainer, test_outdomain_data, vocabs, verbose=True)\n",
        "        outdomain_stats_history.f1.append(f1)\n",
        "        \n",
        "        _, _, f1 = compute_stats(trainer, test_indomain_data, vocabs, verbose=True)\n",
        "        indomain_stats_history.f1.append(f1)\n",
        "\n",
        "        clear_output(True)\n",
        "        plt.figure(figsize=[12, 6])\n",
        "        plt.subplot(1, 2, 1)\n",
        "        plt.plot(loss_history)\n",
        "        plt.title('train loss'), plt.grid()\n",
        "        plt.subplot(1, 2, 2)\n",
        "        \n",
        "        plt.plot(np.arange(1, len(dev_stats_history.f1) + 1) * eval_every, dev_stats_history.f1, label=\"dev f1\")\n",
        "        plt.plot(np.arange(1, len(outdomain_stats_history.f1) + 1) * eval_every, outdomain_stats_history.f1, label=\"outdomain f1\")\n",
        "        plt.plot(np.arange(1, len(indomain_stats_history.f1) + 1) * eval_every, indomain_stats_history.f1, label=\"indomain f1\")\n",
        "\n",
        "        plt.legend()\n",
        "        plt.title('dev stats %'), plt.grid()\n",
        "        plt.show()"
      ],
      "execution_count": 58,
      "outputs": [
        {
          "output_type": "display_data",
          "data": {
            "image/png": "[encoded data removed]",
            "text/plain": [
              "<matplotlib.figure.Figure at 0x7fcaf3db6898>"
            ]
          },
          "metadata": {
            "tags": []
          }
        },
        {
          "output_type": "stream",
          "text": [
            "\r3500it [04:16, 13.65it/s]\n"
          ],
          "name": "stderr"
        }
      ]
    },
    {
      "metadata": {
        "id": "77BmSSwrwQtG",
        "colab_type": "code",
        "colab": {
          "base_uri": "https://localhost:8080/",
          "height": 68
        },
        "outputId": "23047330-df1b-414e-d3a3-761897c5f063"
      },
      "cell_type": "code",
      "source": [
        "print(\"Best dev f1 = %.3f%%\" % max(dev_stats_history.f1),\n",
        "      \"\\nBest in-domain f1 = %.3f%%\" % max(indomain_stats_history.f1),\n",
        "      \"\\nBest out-of-domain f1 = %.3f%%\" % max(outdomain_stats_history.f1))\n",
        "assert max(dev_stats_history.f1) > 75, \"you can do better\""
      ],
      "execution_count": 60,
      "outputs": [
        {
          "output_type": "stream",
          "text": [
            "Best dev f1 = 76.485% \n",
            "Best in-domain f1 = 15.405% \n",
            "Best out-of-domain f1 = 37.513%\n"
          ],
          "name": "stdout"
        }
      ]
    },
    {
      "metadata": {
        "id": "a0pWZQjDwQtI",
        "colab_type": "text"
      },
      "cell_type": "markdown",
      "source": [
        "# Multitask model: NER + POS (1.5 points)\n",
        "\n",
        "Our data contains not only named entity labels, but also part-of-speech tags. Those problems are similar in nature, making it a good candidate for multi-tasking. With any luck, ouyr model will become better at named entity recognition by learning for POS-tagging.\n",
        "\n",
        "![model2](https://github.com/yandexdataschool/nlp_course/raw/master/resources/gorynich_2.png)"
      ]
    },
    {
      "metadata": {
        "id": "XzJTdCb4wQtJ",
        "colab_type": "code",
        "colab": {}
      },
      "cell_type": "code",
      "source": [
        "import keras, keras.layers as L\n",
        "\n",
        "class MultitaskModel:\n",
        "    def __init__(self, name, emb_size=128, hid_size=128):\n",
        "        \"\"\" \n",
        "        Equivalent to the SimpleModel above, but with two \n",
        "        linear \"heads\": one for \"ne\" logits and another for \"pos\".\n",
        "        Both heads should grow from the same intermediate \"body\" layer\n",
        "        \"\"\"\n",
        "        self.emb = L.Embedding(len(vocabs['word']), emb_size)\n",
        "        \n",
        "        self.lstm = L.Bidirectional(L.CuDNNLSTM(hid_size // 2, return_sequences=True))\n",
        "        self.logits_ne = L.Dense(len(vocabs['ne']))\n",
        "        self.logits_pos = L.Dense(len(vocabs['pos']))\n",
        "\n",
        "    \n",
        "    def __call__(self, input_ix):\n",
        "        \"\"\"\n",
        "        Compute logits for named entity recognition\n",
        "        \"\"\"\n",
        "        ner_logits = self.logits_ne(self.lstm(self.emb(input_ix)))\n",
        "        pos_logits = self.logits_pos(self.lstm(self.emb(input_ix)))\n",
        "        return {'ne': ner_logits, 'pos': pos_logits}"
      ],
      "execution_count": 0,
      "outputs": []
    },
    {
      "metadata": {
        "id": "4pvEno2IwQtL",
        "colab_type": "code",
        "colab": {}
      },
      "cell_type": "code",
      "source": [
        "model = MultitaskModel('mod2')\n",
        "\n",
        "dummy_ix = tf.constant(prepare_batch(train_data[:3])['word'])\n",
        "dummy_out = model(dummy_ix)\n",
        "assert 'ne' in dummy_out and 'pos' in dummy_out\n",
        "\n",
        "sess.run(tf.global_variables_initializer())\n",
        "\n",
        "for key, logits in sess.run(dummy_out).items():\n",
        "    assert logits.shape == (3, dummy_ix.shape[1], len(vocabs[key]))"
      ],
      "execution_count": 0,
      "outputs": []
    },
    {
      "metadata": {
        "id": "PuF3IxGTwQtM",
        "colab_type": "code",
        "colab": {}
      },
      "cell_type": "code",
      "source": [
        "from utils import infer_mask\n",
        "\n",
        "class multitask_trainer:\n",
        "    \"\"\" A trainer that computes losses for both NER and POS tasks and adds them together. \"\"\"    \n",
        "    ph = {\n",
        "        'word': tf.placeholder('int32', [None, None], name='input_tokens'),\n",
        "        'ne': tf.placeholder('int32', [None, None], name='named_entities'),\n",
        "        'pos': tf.placeholder('int32', [None, None], name='part_of_speech_tags'),\n",
        "    }\n",
        "\n",
        "    logits = model(ph['word'])\n",
        "    mask = infer_mask(ph['word'])\n",
        "    \n",
        "    # Compute loss for NER. Feel free to reuse the code from original trainer\n",
        "    ner_loss = -tf.nn.log_softmax(logits['ne'], -1) * tf.one_hot(ph['ne'], len(vocabs['ne']))\n",
        "    ner_loss = tf.reduce_sum(ner_loss * mask[:, :, None]) / tf.reduce_sum(mask)\n",
        "\n",
        "    # Compute the same kind of loss for POS.  (key: 'pos')\n",
        "    pos_loss = -tf.nn.log_softmax(logits['pos'], -1) * tf.one_hot(ph['pos'], len(vocabs['pos']))\n",
        "    pos_loss = tf.reduce_sum(pos_loss * mask[:, :, None]) / tf.reduce_sum(mask)\n",
        "    \n",
        "    # The total loss is just a sum of two losses.\n",
        "    # Note: you can use weighted combination of losses to squeeze a few more %%\n",
        "    loss = ner_loss + pos_loss\n",
        "    step = tf.train.AdamOptimizer().minimize(loss)"
      ],
      "execution_count": 0,
      "outputs": []
    },
    {
      "metadata": {
        "id": "-NKzSxJ0wQtM",
        "colab_type": "code",
        "colab": {}
      },
      "cell_type": "code",
      "source": [
        "dummy_batch = prepare_batch(train_data[:3])\n",
        "ner_loss, pos_loss = sess.run([multitask_trainer.ner_loss, multitask_trainer.pos_loss], \n",
        "                              {multitask_trainer.ph[key]: dummy_batch[key] for key in multitask_trainer.ph})\n",
        "\n",
        "assert ner_loss > 0 and np.shape(ner_loss) == (), \"loss must be a positive scalar\"\n",
        "assert pos_loss > 0 and np.shape(pos_loss) == (), \"loss must be a positive scalar\""
      ],
      "execution_count": 0,
      "outputs": []
    },
    {
      "metadata": {
        "id": "aun757hHwQtN",
        "colab_type": "code",
        "colab": {}
      },
      "cell_type": "code",
      "source": [
        "from tqdm import tqdm\n",
        "from IPython.display import clear_output\n",
        "import matplotlib.pyplot as plt\n",
        "%matplotlib inline\n",
        "\n",
        "loss_history = []\n",
        "dev_stats_history = StatsHistory()\n",
        "indomain_stats_history = StatsHistory()\n",
        "outdomain_stats_history = StatsHistory()\n",
        "\n",
        "sess.run(tf.global_variables_initializer())"
      ],
      "execution_count": 0,
      "outputs": []
    },
    {
      "metadata": {
        "id": "02ziyoXdwQtO",
        "colab_type": "code",
        "colab": {
          "base_uri": "https://localhost:8080/",
          "height": 406
        },
        "outputId": "deb93b37-e141-4e95-fcc9-2b1b68fc5c70"
      },
      "cell_type": "code",
      "source": [
        "for batch in tqdm(iterate_minibatches(train_data, cycle=True, batch_size=256, max_batches=3500)):\n",
        "    loss_t, _ = sess.run([multitask_trainer.loss, multitask_trainer.step], \n",
        "                         {multitask_trainer.ph[key]: batch[key] for key in multitask_trainer.ph})\n",
        "    loss_history.append(loss_t)\n",
        "    \n",
        "    if len(loss_history) % 100 == 0:\n",
        "        precision, recall, f1 = compute_stats(multitask_trainer, dev_data, vocabs, batch_size=256, verbose=True)\n",
        "        dev_stats_history.precision.append(precision)\n",
        "        dev_stats_history.recall.append(recall)\n",
        "        dev_stats_history.f1.append(f1)\n",
        "\n",
        "        _, _, f1 = compute_stats(multitask_trainer, test_outdomain_data, vocabs, batch_size=256, verbose=True)\n",
        "        outdomain_stats_history.f1.append(f1)\n",
        "        \n",
        "        _, _, f1 = compute_stats(multitask_trainer, test_indomain_data, vocabs, batch_size=256, verbose=True)\n",
        "        indomain_stats_history.f1.append(f1)\n",
        "        \n",
        "        clear_output(True)\n",
        "        plt.figure(figsize=[12, 6])\n",
        "        plt.subplot(1, 2, 1)\n",
        "        plt.plot(loss_history)\n",
        "        plt.title('train loss'), plt.grid()\n",
        "        plt.subplot(1, 2, 2)\n",
        "        \n",
        "        plt.plot(np.arange(1, len(dev_stats_history.f1) + 1) * eval_every, dev_stats_history.f1, label=\"dev f1\")\n",
        "        plt.plot(np.arange(1, len(outdomain_stats_history.f1) + 1) * eval_every, outdomain_stats_history.f1, label=\"outdomain f1\")\n",
        "        plt.plot(np.arange(1, len(indomain_stats_history.f1) + 1) * eval_every, indomain_stats_history.f1, label=\"indomain f1\")\n",
        "        \n",
        "        plt.title('dev stats %'), plt.grid()\n",
        "        plt.show()"
      ],
      "execution_count": 66,
      "outputs": [
        {
          "output_type": "display_data",
          "data": {
            "image/png": "[encoded data removed]",
            "text/plain": [
              "<matplotlib.figure.Figure at 0x7fcaf0ab5b00>"
            ]
          },
          "metadata": {
            "tags": []
          }
        },
        {
          "output_type": "stream",
          "text": [
            "\r3500it [05:22, 10.84it/s]\n"
          ],
          "name": "stderr"
        }
      ]
    },
    {
      "metadata": {
        "id": "e4ll_K38wQtP",
        "colab_type": "code",
        "colab": {
          "base_uri": "https://localhost:8080/",
          "height": 68
        },
        "outputId": "0f6e683f-6300-40ba-c01e-c01950908663"
      },
      "cell_type": "code",
      "source": [
        "print(\"Best dev f1 = %.3f%%\" % max(dev_stats_history.f1),\n",
        "      \"\\nBest indomain f1 = %.3f%%\" % max(indomain_stats_history.f1),\n",
        "      \"\\nBest outdomain f1 = %.3f%%\" % max(outdomain_stats_history.f1))\n",
        "assert max(dev_stats_history.f1) > 75, \"you can do better\""
      ],
      "execution_count": 67,
      "outputs": [
        {
          "output_type": "stream",
          "text": [
            "Best dev f1 = 77.631% \n",
            "Best indomain f1 = 15.627% \n",
            "Best outdomain f1 = 35.994%\n"
          ],
          "name": "stdout"
        }
      ]
    },
    {
      "metadata": {
        "id": "6JfeK1FiwQtQ",
        "colab_type": "text"
      },
      "cell_type": "markdown",
      "source": [
        "# Multitask model: NER + POS + LM (2 points)\n",
        "\n",
        "Two heads are great, but three's even better! Let's add language modeling to the task.\n",
        "\n",
        "With language models, however, there are a few complications:\n",
        "* Our data is too small for LM training. Let's use [1 billion word benchmark](http://www.statmt.org/lm-benchmark/) instead. It *may* even be a good idea to preserve cases.\n",
        "* Language models have some issues with being bidirectional. We recommend training forward and backward models separately and fusing them together. Or use the same approach as [ELMO](https://tfhub.dev/google/elmo/2).\n",
        "* The simplest scheme is to pre-train as a language model and fine-tune for NER and POS. We recommend starting from that.\n",
        "\n",
        "__IMPORTANT!__ NER/POS dataset comes pre-tokenized.  Make sure you apply {almost} the same tokenization when training language model. Alternatively, you can re-tokenize ner/pos data.\n",
        "\n",
        "\n",
        "![model3](https://github.com/yandexdataschool/nlp_course/raw/master/resources/gorynich_small.png)"
      ]
    },
    {
      "metadata": {
        "id": "LmxdvbqMOmn6",
        "colab_type": "code",
        "colab": {}
      },
      "cell_type": "code",
      "source": [
        "sess.close()"
      ],
      "execution_count": 0,
      "outputs": []
    },
    {
      "metadata": {
        "id": "9FRs-__mJKmv",
        "colab_type": "code",
        "colab": {
          "base_uri": "https://localhost:8080/",
          "height": 91
        },
        "outputId": "0a0f9930-5c45-43be-dd65-213ca029f931"
      },
      "cell_type": "code",
      "source": [
        "sess.close()\n",
        "import tensorflow as tf\n",
        "import keras.layers as L\n",
        "import tensorflow_hub as hub\n",
        "sess.close()\n",
        "tf.reset_default_graph()\n",
        "sess = tf.InteractiveSession()"
      ],
      "execution_count": 162,
      "outputs": [
        {
          "output_type": "stream",
          "text": [
            "/usr/local/lib/python3.6/dist-packages/tensorflow/python/client/session.py:1702: UserWarning: An interactive session is already active. This can cause out-of-memory errors in some cases. You must explicitly call `InteractiveSession.close()` to release resources held by the other session(s).\n",
            "  warnings.warn('An interactive session is already active. This can '\n"
          ],
          "name": "stderr"
        }
      ]
    },
    {
      "metadata": {
        "id": "jMTO5GpqJOz8",
        "colab_type": "code",
        "colab": {}
      },
      "cell_type": "code",
      "source": [
        "elmo = hub.Module(\"https://tfhub.dev/google/elmo/1\", trainable=False)"
      ],
      "execution_count": 0,
      "outputs": []
    },
    {
      "metadata": {
        "id": "zB83bntqmr_a",
        "colab_type": "code",
        "colab": {
          "base_uri": "https://localhost:8080/",
          "height": 34
        },
        "outputId": "e4dc53b3-cc7a-4378-d516-cca529a9a883"
      },
      "cell_type": "code",
      "source": [
        "sess.run([tf.global_variables_initializer(), tf.tables_initializer()])"
      ],
      "execution_count": 164,
      "outputs": [
        {
          "output_type": "execute_result",
          "data": {
            "text/plain": [
              "[None, None]"
            ]
          },
          "metadata": {
            "tags": []
          },
          "execution_count": 164
        }
      ]
    },
    {
      "metadata": {
        "id": "iYbi2VxwrDVw",
        "colab_type": "code",
        "colab": {}
      },
      "cell_type": "code",
      "source": [
        "def prepare_batch_v2(data):\n",
        "    keys = data[0].keys()\n",
        "    res = {\n",
        "        key: vocabs[key].to_matrix(row[key] for row in data)\n",
        "        for key in keys\n",
        "    }\n",
        "    res['raw_text'] = np.array([row['word'] for row in data])\n",
        "    return res"
      ],
      "execution_count": 0,
      "outputs": []
    },
    {
      "metadata": {
        "id": "7lXebKkxwQtR",
        "colab_type": "code",
        "colab": {}
      },
      "cell_type": "code",
      "source": [
        "class MultitaskModel:\n",
        "    def __init__(self, name, emb_size=128, hid_size=128):\n",
        "        \"\"\" \n",
        "        Equivalent to the SimpleModel above, but with three\n",
        "        linear \"heads\": one for \"ne\" logits, second for \"pos\" and last for language modelling.\n",
        "        Both heads should grow from the same intermediate \"body\" layer\n",
        "        \"\"\"\n",
        "        # define layers:\n",
        "        self.lm = elmo\n",
        "        self.logits_ne = L.Dense(len(vocabs['ne']), name='ner_logits')\n",
        "        self.logits_pos = L.Dense(len(vocabs['pos']))\n",
        "        \n",
        "    def __call__(self, input_ix):\n",
        "        \"\"\"\n",
        "        Compute logits for named entity recognition\n",
        "        \"\"\"\n",
        "        inter = self.lm(input_ix, signature=\"default\", as_dict=True)['elmo']\n",
        "\n",
        "        ner_logits = self.logits_ne(inter)\n",
        "        pos_logits = self.logits_pos(inter)\n",
        "        lm_logits = ner_logits\n",
        "        return {'ne': ner_logits, 'pos': pos_logits, 'lm': lm_logits}"
      ],
      "execution_count": 0,
      "outputs": []
    },
    {
      "metadata": {
        "id": "NqQ5TMZAwQtS",
        "colab_type": "code",
        "colab": {
          "base_uri": "https://localhost:8080/",
          "height": 34
        },
        "outputId": "2a79fe12-3ff4-4506-fb4c-c6d29a363b68"
      },
      "cell_type": "code",
      "source": [
        "model = MultitaskModel('mod3')\n",
        "\n",
        "dummy_batch = prepare_batch_v2(train_data[:3])\n",
        "dummy_ix = tf.constant(dummy_batch['raw_text'], dtype=tf.string)\n",
        "dummy_ph = tf.placeholder(tf.string, shape=[None])\n",
        "#dummy_out = model(dummy_ix)\n",
        "dummy_ner = model.logits_ne(model.lm(dummy_ph, signature=\"default\", as_dict=True)['elmo'])\n",
        "\n",
        "sess.run([tf.global_variables_initializer(), tf.tables_initializer()])\n",
        "\n",
        "dummy_ner = sess.run(dummy_ner, {dummy_ph: dummy_batch['raw_text']})\n",
        "\n",
        "assert 'ne' in dummy_out and 'pos' in dummy_out and 'lm' in dummy_out\n"
      ],
      "execution_count": 167,
      "outputs": [
        {
          "output_type": "stream",
          "text": [
            "INFO:tensorflow:Saver not created because there are no variables in the graph to restore\n"
          ],
          "name": "stdout"
        }
      ]
    },
    {
      "metadata": {
        "id": "IzUcDkrMYOMY",
        "colab_type": "code",
        "colab": {
          "base_uri": "https://localhost:8080/",
          "height": 680
        },
        "outputId": "23f72329-3f7d-4e40-86a1-528ef0645296"
      },
      "cell_type": "code",
      "source": [
        "for m in model.lm.variable_map.values():\n",
        "  print(m.name, m.trainable)"
      ],
      "execution_count": 168,
      "outputs": [
        {
          "output_type": "stream",
          "text": [
            "module/bilm/char_embed:0 False\n",
            "module/bilm/CNN/W_cnn_0:0 False\n",
            "module/bilm/CNN/b_cnn_0:0 False\n",
            "module/bilm/CNN/W_cnn_1:0 False\n",
            "module/bilm/CNN/b_cnn_1:0 False\n",
            "module/bilm/CNN/W_cnn_2:0 False\n",
            "module/bilm/CNN/b_cnn_2:0 False\n",
            "module/bilm/CNN/W_cnn_3:0 False\n",
            "module/bilm/CNN/b_cnn_3:0 False\n",
            "module/bilm/CNN/W_cnn_4:0 False\n",
            "module/bilm/CNN/b_cnn_4:0 False\n",
            "module/bilm/CNN/W_cnn_5:0 False\n",
            "module/bilm/CNN/b_cnn_5:0 False\n",
            "module/bilm/CNN/W_cnn_6:0 False\n",
            "module/bilm/CNN/b_cnn_6:0 False\n",
            "module/bilm/CNN_high_0/W_carry:0 False\n",
            "module/bilm/CNN_high_0/b_carry:0 False\n",
            "module/bilm/CNN_high_0/W_transform:0 False\n",
            "module/bilm/CNN_high_0/b_transform:0 False\n",
            "module/bilm/CNN_high_1/W_carry:0 False\n",
            "module/bilm/CNN_high_1/b_carry:0 False\n",
            "module/bilm/CNN_high_1/W_transform:0 False\n",
            "module/bilm/CNN_high_1/b_transform:0 False\n",
            "module/bilm/CNN_proj/W_proj:0 False\n",
            "module/bilm/CNN_proj/b_proj:0 False\n",
            "module/bilm/RNN_0/RNN/MultiRNNCell/Cell0/rnn/lstm_cell/kernel:0 False\n",
            "module/bilm/RNN_0/RNN/MultiRNNCell/Cell0/rnn/lstm_cell/bias:0 False\n",
            "module/bilm/RNN_0/RNN/MultiRNNCell/Cell0/rnn/lstm_cell/projection/kernel:0 False\n",
            "module/bilm/RNN_0/RNN/MultiRNNCell/Cell1/rnn/lstm_cell/kernel:0 False\n",
            "module/bilm/RNN_0/RNN/MultiRNNCell/Cell1/rnn/lstm_cell/bias:0 False\n",
            "module/bilm/RNN_0/RNN/MultiRNNCell/Cell1/rnn/lstm_cell/projection/kernel:0 False\n",
            "module/bilm/RNN_1/RNN/MultiRNNCell/Cell0/rnn/lstm_cell/kernel:0 False\n",
            "module/bilm/RNN_1/RNN/MultiRNNCell/Cell0/rnn/lstm_cell/bias:0 False\n",
            "module/bilm/RNN_1/RNN/MultiRNNCell/Cell0/rnn/lstm_cell/projection/kernel:0 False\n",
            "module/bilm/RNN_1/RNN/MultiRNNCell/Cell1/rnn/lstm_cell/kernel:0 False\n",
            "module/bilm/RNN_1/RNN/MultiRNNCell/Cell1/rnn/lstm_cell/bias:0 False\n",
            "module/bilm/RNN_1/RNN/MultiRNNCell/Cell1/rnn/lstm_cell/projection/kernel:0 False\n",
            "module/aggregation/weights:0 False\n",
            "module/aggregation/scaling:0 False\n"
          ],
          "name": "stdout"
        }
      ]
    },
    {
      "metadata": {
        "id": "jihYHDqcUSYv",
        "colab_type": "code",
        "colab": {
          "base_uri": "https://localhost:8080/",
          "height": 34
        },
        "outputId": "2ecc8dfa-40c2-4ef3-d858-383069497c40"
      },
      "cell_type": "code",
      "source": [
        "dummy_ner.shape"
      ],
      "execution_count": 169,
      "outputs": [
        {
          "output_type": "execute_result",
          "data": {
            "text/plain": [
              "(3, 26, 11)"
            ]
          },
          "metadata": {
            "tags": []
          },
          "execution_count": 169
        }
      ]
    },
    {
      "metadata": {
        "id": "r6Ui5R6ewQtT",
        "colab_type": "text"
      },
      "cell_type": "markdown",
      "source": [
        "Different schemes for multitask learning with Language Model component.\n",
        "\n",
        "You can try at least two of them:\n",
        "* Pretrain network using monolingual data as Language Model and then train model as NER and POS tagger.\n",
        "* Train network alternately: one step on NER and POS tasks, one step on LM tasks. \n"
      ]
    },
    {
      "metadata": {
        "id": "NuHXbMvIwQtT",
        "colab_type": "code",
        "colab": {
          "base_uri": "https://localhost:8080/",
          "height": 34
        },
        "outputId": "5a687210-3d02-4882-a8a0-3062797424cc"
      },
      "cell_type": "code",
      "source": [
        "from utils import infer_mask\n",
        "\n",
        "\n",
        "\n",
        "class multitask_trainer:\n",
        "    \"\"\" A trainer that computes losses for both NER, POS and LM tasks and adds them together. \"\"\"\n",
        "    ph = {\n",
        "        'word': tf.placeholder('int32', [None, None], name='input_tokens'),\n",
        "        'ne': tf.placeholder('int32', [None, None], name='named_entities'),\n",
        "        'pos': tf.placeholder('int32', [None, None], name='part_of_speech_tags'),\n",
        "        'lm': tf.placeholder('int32', [None, None], name='output_tokens'),\n",
        "        'raw_text': tf.placeholder(tf.string, [None], name='elma_texts')\n",
        "    }\n",
        "\n",
        "    logits = model(ph['raw_text'])\n",
        "    mask = infer_mask(ph['word'])\n",
        "\n",
        "    # Compute loss for NER. Feel free to reuse the code from original trainer\n",
        "\n",
        "    ner_loss = -tf.nn.log_softmax(logits['ne'], -1) * tf.one_hot(ph['ne'], len(vocabs['ne']))\n",
        "    ner_loss = tf.reduce_sum(ner_loss * mask[:, :, None]) / tf.reduce_sum(mask)\n",
        "\n",
        "    # Compute the same kind of loss for POS.  (key: 'pos')\n",
        "\n",
        "    pos_loss = -tf.nn.log_softmax(logits['pos'], -1) * tf.one_hot(ph['pos'], len(vocabs['pos']))\n",
        "    pos_loss = tf.reduce_sum(pos_loss * mask[:, :, None]) / tf.reduce_sum(mask)\n",
        "\n",
        "    # Compute the same kind of loss for LM.\n",
        "\n",
        "    #lm_loss = <YOUR CODE>\n",
        "\n",
        "    # YOUR CODE HERE\n",
        "    loss = ner_loss + pos_loss\n",
        "    step = tf.train.AdamOptimizer().minimize(loss)\n"
      ],
      "execution_count": 170,
      "outputs": [
        {
          "output_type": "stream",
          "text": [
            "INFO:tensorflow:Saver not created because there are no variables in the graph to restore\n"
          ],
          "name": "stdout"
        }
      ]
    },
    {
      "metadata": {
        "id": "MQFT1L9af2kA",
        "colab_type": "code",
        "colab": {}
      },
      "cell_type": "code",
      "source": [
        "def iterate_minibatches_v2(data, batch_size=128, shuffle=True, cycle=False, max_batches=None):\n",
        "    indices = np.arange(len(data))\n",
        "    total_batches = 0\n",
        "    while True:\n",
        "        if shuffle: indices = np.random.permutation(indices)\n",
        "        for start_i in range(0, len(data), batch_size):\n",
        "            batch_ix = indices[start_i: start_i + batch_size]\n",
        "            yield prepare_batch_v2(data[batch_ix])\n",
        "            total_batches += 1\n",
        "            if max_batches and total_batches >= max_batches:\n",
        "                raise StopIteration()\n",
        "        if not cycle: break"
      ],
      "execution_count": 0,
      "outputs": []
    },
    {
      "metadata": {
        "id": "oZqYA51owQtU",
        "colab_type": "code",
        "colab": {
          "base_uri": "https://localhost:8080/",
          "height": 34
        },
        "outputId": "ac946d23-4ad5-4e13-a4c1-d36cec86b712"
      },
      "cell_type": "code",
      "source": [
        "from tqdm import tqdm\n",
        "from IPython.display import clear_output\n",
        "import matplotlib.pyplot as plt\n",
        "%matplotlib inline\n",
        "\n",
        "loss_history = []\n",
        "dev_stats_history = StatsHistory()\n",
        "indomain_stats_history = StatsHistory()\n",
        "outdomain_stats_history = StatsHistory()\n",
        "\n",
        "sess.run([tf.global_variables_initializer(), tf.tables_initializer()])"
      ],
      "execution_count": 172,
      "outputs": [
        {
          "output_type": "execute_result",
          "data": {
            "text/plain": [
              "[None, None]"
            ]
          },
          "metadata": {
            "tags": []
          },
          "execution_count": 172
        }
      ]
    },
    {
      "metadata": {
        "id": "vpCWyCbfwQtV",
        "colab_type": "code",
        "colab": {
          "base_uri": "https://localhost:8080/",
          "height": 406
        },
        "outputId": "7db0df07-3d96-4a86-cc41-cb74bc1cb1af"
      },
      "cell_type": "code",
      "source": [
        "for batch in tqdm(iterate_minibatches_v2(train_data, cycle=True, max_batches=2500)):\n",
        "    # YOUR CODE HERE\n",
        "    batch['lm'] = batch['word']\n",
        "    \n",
        "    loss_t, _ = sess.run([multitask_trainer.loss, multitask_trainer.step], \n",
        "                         {multitask_trainer.ph[key]: batch[key] for key in multitask_trainer.ph})\n",
        "    loss_history.append(loss_t)\n",
        "    \n",
        "    if len(loss_history) % 100 == 0:\n",
        "        # YOUR CODE HERE\n",
        "        \n",
        "        clear_output(True)\n",
        "        plt.figure(figsize=[12, 6])\n",
        "        plt.subplot(1, 2, 1)\n",
        "        plt.plot(loss_history)\n",
        "        plt.title('train loss'), plt.grid()\n",
        "        #plt.subplot(1, 2, 2)\n",
        "        \n",
        "#         plt.plot(np.arange(1, len(dev_stats_history.f1) + 1) * eval_every, dev_stats_history.f1, label=\"dev f1\")\n",
        "#         plt.plot(np.arange(1, len(outdomain_stats_history.f1) + 1) * eval_every, outdomain_stats_history.f1, label=\"outdomain f1\")\n",
        "#         plt.plot(np.arange(1, len(indomain_stats_history.f1) + 1) * eval_every, indomain_stats_history.f1, label=\"indomain f1\")\n",
        "        \n",
        "        plt.title('dev stats %'), plt.grid()\n",
        "        plt.show()"
      ],
      "execution_count": 0,
      "outputs": [
        {
          "output_type": "display_data",
          "data": {
            "image/png": "[encoded data removed]",
            "text/plain": [
              "<matplotlib.figure.Figure at 0x7fcaf0ac9128>"
            ]
          },
          "metadata": {
            "tags": []
          }
        },
        {
          "output_type": "stream",
          "text": [
            "283it [05:54,  1.17s/it]"
          ],
          "name": "stderr"
        }
      ]
    },
    {
      "metadata": {
        "id": "KefcJVkYwQtW",
        "colab_type": "text"
      },
      "cell_type": "markdown",
      "source": [
        "# Structured prediction for NEs (2 points)\n",
        "\n",
        "![lstm_crf_ner](https://github.com/yandexdataschool/nlp_course/raw/master/resources/lstm_crf_ner.png)\n",
        "\n",
        "[_Picture from  Lample et al._](https://arxiv.org/abs/1603.01360)\n",
        "\n",
        "A setup with seq2seq and cross-entropy loss for tagging is not so good. Because in the case tagging there is an important constraint: input and output sequence have same length, and the number of output token types is much less than the number of input token types.\n",
        "\n",
        "To use this constraint effectively it is good idea to try structured [CRF loss](https://github.com/tensorflow/tensorflow/tree/master/tensorflow/contrib/crf) for NER (and POS)\n",
        "\n",
        "\n",
        "A good example of TensorFlow implementation of NER NN with CRF loss can be found in the [blogpost](https://guillaumegenthial.github.io/sequence-tagging-with-tensorflow.html)"
      ]
    },
    {
      "metadata": {
        "id": "iBWcUQxVwQtW",
        "colab_type": "text"
      },
      "cell_type": "markdown",
      "source": [
        "## Dealing with letter case and rare entities (1 points)\n",
        "\n",
        "![lstm_crf_ner](https://github.com/yandexdataschool/nlp_course/raw/master/resources/word_and_char_embedding_concat.png)\n",
        "\n",
        "[_Picture from  Lample et al._](https://arxiv.org/abs/1603.01360)\n",
        "\n",
        "First, in European languages (both English and Russian) personal names, companies, geographical names are capitalized traditionally. Thus the letter case carries a powerful signal for named entities recognition. So it is good to utilize it.\n",
        "\n",
        "Second, most of named entities are rare words. In testsets (both from source and target distributions) they are replaced by _UNK_. To deal with OOV words you can try different approaches (feel free!). For example:\n",
        "\n",
        "* You can use additional character-level recurrent layers to obtain character-aware word embeddings (see scheme on the picture above)\n",
        "* You can use pretrained embeddings with character ngram information ([FastText](https://github.com/facebookresearch/fastText/blob/master/pretrained-vectors.md))\n",
        "* You can split words by subword units using [BPE](https://arxiv.org/abs/1508.07909)"
      ]
    },
    {
      "metadata": {
        "id": "ZiADB-UhwQtW",
        "colab_type": "text"
      },
      "cell_type": "markdown",
      "source": [
        "## Domain adaptation via proxy-labels (2 points)"
      ]
    },
    {
      "metadata": {
        "id": "tlD8mzOOwQtX",
        "colab_type": "text"
      },
      "cell_type": "markdown",
      "source": [
        "As you can see above the quality of NER on the target domain (internet comments) is much worse than on the source domain (news). This is not surprising.\n",
        "\n",
        "To overcome the problem we offer you to implement any kind of proxy-label method. A good overview on this kind of methods can be found [here](https://arxiv.org/abs/1804.09530)\n",
        "\n",
        "__ATTENTION!!!__ For proxy-labeling use monolingual target-domain dataset (not testset!).\n",
        "\n",
        "Good luck!"
      ]
    },
    {
      "metadata": {
        "id": "M60fAqubwQtX",
        "colab_type": "code",
        "colab": {}
      },
      "cell_type": "code",
      "source": [
        ""
      ],
      "execution_count": 0,
      "outputs": []
    }
  ]
}