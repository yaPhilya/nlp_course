{
  "nbformat": 4,
  "nbformat_minor": 0,
  "metadata": {
    "colab": {
      "name": "homework.ipynb",
      "version": "0.3.2",
      "provenance": []
    },
    "kernelspec": {
      "name": "python3",
      "display_name": "Python 3"
    },
    "accelerator": "GPU"
  },
  "cells": [
    {
      "metadata": {
        "id": "fEQLNowBwQsg",
        "colab_type": "text"
      },
      "cell_type": "markdown",
      "source": [
        "# Homework: Multi-task Learning & Domain Adaptation\n",
        "##  Named Entity Recognition\n",
        "\n",
        "Today we're gonna solve the problem of named entity recognition. Here's what it does in one picture:\n",
        "![img](https://commons.bmstu.wiki/images/0/00/NER1.png)\n",
        "[image source](https://bit.ly/2Pmg7L2)\n",
        "\n",
        "\n",
        "For each word, in a sentence, your model should predict a named entity class:\n"
      ]
    },
    {
      "metadata": {
        "id": "wBBFMOp0wQsi",
        "colab_type": "code",
        "colab": {}
      },
      "cell_type": "code",
      "source": [
        "import numpy as np\n",
        "import tensorflow as tf\n",
        "tf.reset_default_graph()\n",
        "sess = tf.InteractiveSession()"
      ],
      "execution_count": 0,
      "outputs": []
    },
    {
      "metadata": {
        "id": "D7NcduC6wQsn",
        "colab_type": "text"
      },
      "cell_type": "markdown",
      "source": [
        "## Data\n",
        "\n",
        "### Train set\n",
        "\n",
        "Our model will train on a [Groningen Meaning Bank corpus](https://www.kaggle.com/abhinavwalia95/entity-annotated-corpus).\n",
        "\n",
        "Each word of every sentence is labelled with named entity class and a part-of-speech tag.\n",
        "\n",
        "### Source domain testset\n",
        "\n",
        "Our train set consists from texts from different news sources. Therefore as source-domain testset we will use data from [CoNLL-2003 Shared Task](https://github.com/Franck-Dernoncourt/NeuroNER/blob/master/data/conll2003/en). More information about the task can be found [here](https://www.clips.uantwerpen.be/conll2003/ner/).\n",
        "\n",
        "### Target domain (in-domain) data\n",
        "\n",
        "As target-domain data we will use data from [WNUT17 Emerging and Rare entity recognition task](http://noisy-text.github.io/2017/emerging-rare-entities.html). This shared task focuses on identifying unusual, previously-unseen entities in the context of emerging discussions. The data were mined from mined from Twitter, Reddit,\n",
        "YouTube and StackExchange. Results of different competitors of the task were published [here](https://noisy-text.github.io/2017/pdf/WNUT18.pdf).\n",
        "\n",
        "### Named entity classes\n",
        "\n",
        "* PER - _person_: names of people (e.g. Alexander S. Pushkin)\n",
        "* ORG - _organization_: names of corporations (e.g. Yandex), names of non-profit organizations (e.g. UNICEF)\n",
        "Google).\n",
        "* LOC - _location_ : e.g. Russia\n",
        "* MISC - _miscellaneous_ : other named entities including names of products (e.g. iPhone) and creative works (e.g. Bohemian Rhapsody)\n",
        "\n",
        "### Evaluation metrics\n",
        "\n",
        "As evaluation metrics we will F1 measure on exact matched NEs. It means that partially overlapped enitities of same class are considered as mismatch.\n",
        "For example, LOC entities below is partially overlapped. And it is a mismatch:\n",
        "\n",
        "__O, B-LOC, I-LOC, O__\n",
        "\n",
        "__O, B-LOC, I-LOC, I-LOC__\n",
        "\n",
        "Details can be found in the code of _conlleval.py_\n",
        "\n",
        "### Data format\n",
        "\n",
        "The format of all dataset follows popular [IOB format](https://en.wikipedia.org/wiki/Inside–outside–beginning_(tagging)). The B- prefix before a tag indicates that the tag is the beginning of a chunk, and an I- prefix before a tag indicates that the tag is inside a chunk. The B- tag is used only when a tag is followed by a tag of the same type without O tokens between them. An O tag indicates that a token belongs to no chunk.\n",
        "\n",
        "The named entity labels include:\n",
        "* __B-LOC__ - location - first token\n",
        "* __I-LOC__ - location - subsequent tokens\n",
        "* __B-ORG__ - organization - first token\n",
        "* __O__ - not a named entity\n",
        "\n",
        "Take a look for yourself:"
      ]
    },
    {
      "metadata": {
        "id": "HU0nbJkswQso",
        "colab_type": "code",
        "colab": {
          "base_uri": "https://localhost:8080/",
          "height": 1397
        },
        "outputId": "10d8aa14-d7a8-4e45-d625-2ff484eb4305"
      },
      "cell_type": "code",
      "source": [
        "# Train:\n",
        "!wget https://www.dropbox.com/s/xobyz6jgovvz3dm/kaggle-train.conll?dl=1 -O kaggle-train.conll\n",
        "\n",
        "# Source domain testset:\n",
        "!wget https://www.dropbox.com/s/1l8b9iy78cglrw3/source-domain-test.conll?dl=1 -O source-domain-test.conll\n",
        "\n",
        "# Target domain testset:\n",
        "!wget https://www.dropbox.com/s/oxfkdy23ux5hfz5/target-domain-test.conll?dl=1 -O target-domain-test.conll\n",
        "    \n",
        "# Target domain monolingual data:\n",
        "!wget https://www.dropbox.com/s/ysdrotjdfljydbr/target-domain-monolingual.conll?dl=1 -O target-domain-monolingual.conll\n"
      ],
      "execution_count": 5,
      "outputs": [
        {
          "output_type": "stream",
          "text": [
            "--2018-11-25 11:04:06--  https://www.dropbox.com/s/xobyz6jgovvz3dm/kaggle-train.conll?dl=1\n",
            "Resolving www.dropbox.com (www.dropbox.com)... 162.125.82.1, 2620:100:6032:1::a27d:5201\n",
            "Connecting to www.dropbox.com (www.dropbox.com)|162.125.82.1|:443... connected.\n",
            "HTTP request sent, awaiting response... 301 Moved Permanently\n",
            "Location: /s/dl/xobyz6jgovvz3dm/kaggle-train.conll [following]\n",
            "--2018-11-25 11:04:07--  https://www.dropbox.com/s/dl/xobyz6jgovvz3dm/kaggle-train.conll\n",
            "Reusing existing connection to www.dropbox.com:443.\n",
            "HTTP request sent, awaiting response... 302 Found\n",
            "Location: https://uccfc88bef10af6ddaf691b4f0c2.dl.dropboxusercontent.com/cd/0/get/AWR1IVQ7J05ie72fSkOgKS4u4slpBQHVrGj2hjcqCy6WE3RKB08uwzRU8N-bdVx_Gk4_Y7T2jsYbuxpygF2WYLY7h2yXnkmRieD5wCInkV9BkvyTC5TYOMU31sXfcXopha4MDjZhAxuvwfXo8ZgH8VL9KYcuFyBVukW7wZHMiC3zmEMfZCPdibJ3rHXxMCuCvHo/file?dl=1 [following]\n",
            "--2018-11-25 11:04:07--  https://uccfc88bef10af6ddaf691b4f0c2.dl.dropboxusercontent.com/cd/0/get/AWR1IVQ7J05ie72fSkOgKS4u4slpBQHVrGj2hjcqCy6WE3RKB08uwzRU8N-bdVx_Gk4_Y7T2jsYbuxpygF2WYLY7h2yXnkmRieD5wCInkV9BkvyTC5TYOMU31sXfcXopha4MDjZhAxuvwfXo8ZgH8VL9KYcuFyBVukW7wZHMiC3zmEMfZCPdibJ3rHXxMCuCvHo/file?dl=1\n",
            "Resolving uccfc88bef10af6ddaf691b4f0c2.dl.dropboxusercontent.com (uccfc88bef10af6ddaf691b4f0c2.dl.dropboxusercontent.com)... 162.125.82.6, 2620:100:6032:6::a27d:5206\n",
            "Connecting to uccfc88bef10af6ddaf691b4f0c2.dl.dropboxusercontent.com (uccfc88bef10af6ddaf691b4f0c2.dl.dropboxusercontent.com)|162.125.82.6|:443... connected.\n",
            "HTTP request sent, awaiting response... 200 OK\n",
            "Length: 12200095 (12M) [application/binary]\n",
            "Saving to: ‘kaggle-train.conll’\n",
            "\n",
            "kaggle-train.conll  100%[===================>]  11.63M  5.57MB/s    in 2.1s    \n",
            "\n",
            "2018-11-25 11:04:10 (5.57 MB/s) - ‘kaggle-train.conll’ saved [12200095/12200095]\n",
            "\n",
            "--2018-11-25 11:04:12--  https://www.dropbox.com/s/1l8b9iy78cglrw3/source-domain-test.conll?dl=1\n",
            "Resolving www.dropbox.com (www.dropbox.com)... 162.125.82.1, 2620:100:6032:1::a27d:5201\n",
            "Connecting to www.dropbox.com (www.dropbox.com)|162.125.82.1|:443... connected.\n",
            "HTTP request sent, awaiting response... 301 Moved Permanently\n",
            "Location: /s/dl/1l8b9iy78cglrw3/source-domain-test.conll [following]\n",
            "--2018-11-25 11:04:12--  https://www.dropbox.com/s/dl/1l8b9iy78cglrw3/source-domain-test.conll\n",
            "Reusing existing connection to www.dropbox.com:443.\n",
            "HTTP request sent, awaiting response... 302 Found\n",
            "Location: https://uce4ebc685045354a0fff875d03f.dl.dropboxusercontent.com/cd/0/get/AWTTaqcKxYi9N7nSuV5LpZFhqyzbJXoPeIwYIUow-ZNO_j5Vydw5KBZ6kHKSbjwXbwmYL72oniLWNRhBH_RYv4HhWXB7PEiJemKfp1WZST9TyzoOKI3Cp_yWP2lG4lhrRL7_tTQe7r5SsjPVyg1o_Z6wuZ8kV2kMu2oreweURQZ1jFupVKPqQQq1qpEZE5-xAWw/file?dl=1 [following]\n",
            "--2018-11-25 11:04:12--  https://uce4ebc685045354a0fff875d03f.dl.dropboxusercontent.com/cd/0/get/AWTTaqcKxYi9N7nSuV5LpZFhqyzbJXoPeIwYIUow-ZNO_j5Vydw5KBZ6kHKSbjwXbwmYL72oniLWNRhBH_RYv4HhWXB7PEiJemKfp1WZST9TyzoOKI3Cp_yWP2lG4lhrRL7_tTQe7r5SsjPVyg1o_Z6wuZ8kV2kMu2oreweURQZ1jFupVKPqQQq1qpEZE5-xAWw/file?dl=1\n",
            "Resolving uce4ebc685045354a0fff875d03f.dl.dropboxusercontent.com (uce4ebc685045354a0fff875d03f.dl.dropboxusercontent.com)... 162.125.82.6, 2620:100:6032:6::a27d:5206\n",
            "Connecting to uce4ebc685045354a0fff875d03f.dl.dropboxusercontent.com (uce4ebc685045354a0fff875d03f.dl.dropboxusercontent.com)|162.125.82.6|:443... connected.\n",
            "HTTP request sent, awaiting response... 200 OK\n",
            "Length: 526358 (514K) [application/binary]\n",
            "Saving to: ‘source-domain-test.conll’\n",
            "\n",
            "source-domain-test. 100%[===================>] 514.02K   809KB/s    in 0.6s    \n",
            "\n",
            "2018-11-25 11:04:13 (809 KB/s) - ‘source-domain-test.conll’ saved [526358/526358]\n",
            "\n",
            "--2018-11-25 11:04:15--  https://www.dropbox.com/s/oxfkdy23ux5hfz5/target-domain-test.conll?dl=1\n",
            "Resolving www.dropbox.com (www.dropbox.com)... 162.125.82.1, 2620:100:6032:1::a27d:5201\n",
            "Connecting to www.dropbox.com (www.dropbox.com)|162.125.82.1|:443... connected.\n",
            "HTTP request sent, awaiting response... 301 Moved Permanently\n",
            "Location: /s/dl/oxfkdy23ux5hfz5/target-domain-test.conll [following]\n",
            "--2018-11-25 11:04:15--  https://www.dropbox.com/s/dl/oxfkdy23ux5hfz5/target-domain-test.conll\n",
            "Reusing existing connection to www.dropbox.com:443.\n",
            "HTTP request sent, awaiting response... 302 Found\n",
            "Location: https://uc71c2322ce1be465ea7dd209c21.dl.dropboxusercontent.com/cd/0/get/AWTovnRA1nOft1FBcmyerBqAxlZd5SGolEibo0fwJK7cfTPQoeQKJWvuLRnnHmryrRck-okVvsSvVoll45UOrFSQAlzZQyzZvOq2iIjwNMSetT-kD4f2WQTiQaQ6rK1bKQLy_redy7qMyM-UieZEAWxVEhHakMkz2xUX4RdOCuVGSyIJgZuZ-o35wZ6JAJ860mE/file?dl=1 [following]\n",
            "--2018-11-25 11:04:15--  https://uc71c2322ce1be465ea7dd209c21.dl.dropboxusercontent.com/cd/0/get/AWTovnRA1nOft1FBcmyerBqAxlZd5SGolEibo0fwJK7cfTPQoeQKJWvuLRnnHmryrRck-okVvsSvVoll45UOrFSQAlzZQyzZvOq2iIjwNMSetT-kD4f2WQTiQaQ6rK1bKQLy_redy7qMyM-UieZEAWxVEhHakMkz2xUX4RdOCuVGSyIJgZuZ-o35wZ6JAJ860mE/file?dl=1\n",
            "Resolving uc71c2322ce1be465ea7dd209c21.dl.dropboxusercontent.com (uc71c2322ce1be465ea7dd209c21.dl.dropboxusercontent.com)... 162.125.82.6, 2620:100:6032:6::a27d:5206\n",
            "Connecting to uc71c2322ce1be465ea7dd209c21.dl.dropboxusercontent.com (uc71c2322ce1be465ea7dd209c21.dl.dropboxusercontent.com)|162.125.82.6|:443... connected.\n",
            "HTTP request sent, awaiting response... 200 OK\n",
            "Length: 183185 (179K) [application/binary]\n",
            "Saving to: ‘target-domain-test.conll’\n",
            "\n",
            "target-domain-test. 100%[===================>] 178.89K  --.-KB/s    in 0.05s   \n",
            "\n",
            "2018-11-25 11:04:16 (3.18 MB/s) - ‘target-domain-test.conll’ saved [183185/183185]\n",
            "\n",
            "--2018-11-25 11:04:18--  https://www.dropbox.com/s/ysdrotjdfljydbr/target-domain-monolingual.conll?dl=1\n",
            "Resolving www.dropbox.com (www.dropbox.com)... 162.125.82.1, 2620:100:6032:1::a27d:5201\n",
            "Connecting to www.dropbox.com (www.dropbox.com)|162.125.82.1|:443... connected.\n",
            "HTTP request sent, awaiting response... 301 Moved Permanently\n",
            "Location: /s/dl/ysdrotjdfljydbr/target-domain-monolingual.conll [following]\n",
            "--2018-11-25 11:04:18--  https://www.dropbox.com/s/dl/ysdrotjdfljydbr/target-domain-monolingual.conll\n",
            "Reusing existing connection to www.dropbox.com:443.\n",
            "HTTP request sent, awaiting response... 302 Found\n",
            "Location: https://uc4eddee13487bd2195d3ead2fc3.dl.dropboxusercontent.com/cd/0/get/AWRLxwVqhk2NhraH0c9Hr-AMhbIWSVa9WHw9g_4QoVvXl3ke3zwXSZm4JYyeLTMkU4sWDTF49_DB2Yn5LdVOL3TX7V7bZO3wqUyDpmS9B4bnoBwOB34kuHRELQEptfVg7ZetqZfuybrGxzDMAm7MKwYubhUEMyIp0thbfXxQFvYO70IAPFOeoAzsQV834BwvZsQ/file?dl=1 [following]\n",
            "--2018-11-25 11:04:18--  https://uc4eddee13487bd2195d3ead2fc3.dl.dropboxusercontent.com/cd/0/get/AWRLxwVqhk2NhraH0c9Hr-AMhbIWSVa9WHw9g_4QoVvXl3ke3zwXSZm4JYyeLTMkU4sWDTF49_DB2Yn5LdVOL3TX7V7bZO3wqUyDpmS9B4bnoBwOB34kuHRELQEptfVg7ZetqZfuybrGxzDMAm7MKwYubhUEMyIp0thbfXxQFvYO70IAPFOeoAzsQV834BwvZsQ/file?dl=1\n",
            "Resolving uc4eddee13487bd2195d3ead2fc3.dl.dropboxusercontent.com (uc4eddee13487bd2195d3ead2fc3.dl.dropboxusercontent.com)... 162.125.82.6, 2620:100:6032:6::a27d:5206\n",
            "Connecting to uc4eddee13487bd2195d3ead2fc3.dl.dropboxusercontent.com (uc4eddee13487bd2195d3ead2fc3.dl.dropboxusercontent.com)|162.125.82.6|:443... connected.\n",
            "HTTP request sent, awaiting response... 200 OK\n",
            "Length: 338533 (331K) [application/binary]\n",
            "Saving to: ‘target-domain-monolingual.conll’\n",
            "\n",
            "target-domain-monol 100%[===================>] 330.60K   522KB/s    in 0.6s    \n",
            "\n",
            "2018-11-25 11:04:19 (522 KB/s) - ‘target-domain-monolingual.conll’ saved [338533/338533]\n",
            "\n"
          ],
          "name": "stdout"
        }
      ]
    },
    {
      "metadata": {
        "id": "7E1ouE7bzPMy",
        "colab_type": "code",
        "colab": {
          "base_uri": "https://localhost:8080/",
          "height": 422
        },
        "outputId": "36c37b4b-e618-424f-b787-bf3934682661"
      },
      "cell_type": "code",
      "source": [
        "!wget https://raw.githubusercontent.com/yaPhilya/nlp_course/master/week8_multitask/conlleval.py\n",
        "!wget https://raw.githubusercontent.com/yaPhilya/nlp_course/master/week8_multitask/utils.py"
      ],
      "execution_count": 6,
      "outputs": [
        {
          "output_type": "stream",
          "text": [
            "--2018-11-25 11:04:22--  https://raw.githubusercontent.com/yaPhilya/nlp_course/master/week8_multitask/conlleval.py\n",
            "Resolving raw.githubusercontent.com (raw.githubusercontent.com)... 151.101.0.133, 151.101.64.133, 151.101.128.133, ...\n",
            "Connecting to raw.githubusercontent.com (raw.githubusercontent.com)|151.101.0.133|:443... connected.\n",
            "HTTP request sent, awaiting response... 200 OK\n",
            "Length: 7046 (6.9K) [text/plain]\n",
            "Saving to: ‘conlleval.py’\n",
            "\n",
            "\rconlleval.py          0%[                    ]       0  --.-KB/s               \rconlleval.py        100%[===================>]   6.88K  --.-KB/s    in 0s      \n",
            "\n",
            "2018-11-25 11:04:23 (63.3 MB/s) - ‘conlleval.py’ saved [7046/7046]\n",
            "\n",
            "--2018-11-25 11:04:25--  https://raw.githubusercontent.com/yaPhilya/nlp_course/master/week8_multitask/utils.py\n",
            "Resolving raw.githubusercontent.com (raw.githubusercontent.com)... 151.101.0.133, 151.101.64.133, 151.101.128.133, ...\n",
            "Connecting to raw.githubusercontent.com (raw.githubusercontent.com)|151.101.0.133|:443... connected.\n",
            "HTTP request sent, awaiting response... 200 OK\n",
            "Length: 6853 (6.7K) [text/plain]\n",
            "Saving to: ‘utils.py’\n",
            "\n",
            "utils.py            100%[===================>]   6.69K  --.-KB/s    in 0s      \n",
            "\n",
            "2018-11-25 11:04:26 (93.8 MB/s) - ‘utils.py’ saved [6853/6853]\n",
            "\n"
          ],
          "name": "stdout"
        }
      ]
    },
    {
      "metadata": {
        "id": "CcBh983JwQst",
        "colab_type": "code",
        "colab": {
          "base_uri": "https://localhost:8080/",
          "height": 128
        },
        "outputId": "bd346a85-0c10-4330-cc29-36a337a2a7af"
      },
      "cell_type": "code",
      "source": [
        "from conlleval import evaluate\n",
        "from utils import read_conll\n",
        "data = read_conll('./kaggle-train.conll', lower_words=True)\n",
        "\n",
        "data[333]"
      ],
      "execution_count": 7,
      "outputs": [
        {
          "output_type": "execute_result",
          "data": {
            "text/plain": [
              "{'ne': 'O O O O O O B-ORG I-ORG O O O B-LOC O B-LOC O B-LOC I-LOC O B-LOC O B-LOC O B-LOC O B-LOC O B-LOC O B-LOC O B-LOC O B-LOC O B-LOC O B-LOC O B-LOC O B-LOC O B-LOC O B-LOC O',\n",
              " 'pos': 'DT CD NNS RB JJ IN NNP NNP NN NN VBP NNP , NNP , NNP NNP , NNP , NNP , NNP , NNP , NNP , NNP , NNP , NNP , NNP , NNP , NNP , NNP , NNP CC NNP .',\n",
              " 'word': 'the 17 countries now eligible for world bank debt relief are benin , bolivia , burkina faso , ethiopia , ghana , guyana , honduras , madagascar , mali , mozambique , nicaragua , niger , rwanda , senegal , tanzania , uganda and zambia .'}"
            ]
          },
          "metadata": {
            "tags": []
          },
          "execution_count": 7
        }
      ]
    },
    {
      "metadata": {
        "id": "DQ2cvz6owQsv",
        "colab_type": "code",
        "colab": {}
      },
      "cell_type": "code",
      "source": [
        "test_outdomain_data = read_conll('./source-domain-test.conll', lower_words=True)\n",
        "test_indomain_data = read_conll('./target-domain-test.conll', column_names=['word', 'ne'], lower_words=True)\n",
        "monolingual_indomain_data = read_conll('./target-domain-monolingual.conll', column_names=['word'], lower_words=True)"
      ],
      "execution_count": 0,
      "outputs": []
    },
    {
      "metadata": {
        "id": "6OOuLJ3Vz_Ji",
        "colab_type": "code",
        "colab": {
          "base_uri": "https://localhost:8080/",
          "height": 108
        },
        "outputId": "4605a2b5-d04e-4ad1-9a1f-0fefd2a88ffa"
      },
      "cell_type": "code",
      "source": [
        "test_outdomain_data[300]"
      ],
      "execution_count": 9,
      "outputs": [
        {
          "output_type": "execute_result",
          "data": {
            "text/plain": [
              "{'ne': 'B-LOC I-LOC O B-PER I-PER O O O O O B-MISC O O O O O O O O O O O O O O O O O O O O O B-LOC O O O',\n",
              " 'pos': 'NNP NNP NN NNP NNP VBD DT NN TO PRP$ JJ NN , IN RB VBG JJ IN NN , WRB PRP VBD VBN RB IN DT JJ JJ NNS VB IN NNP IN NNP .',\n",
              " 'word': 'west indies batsman brian lara suffered another blow to his australian tour , after already being disciplined for misconduct , when he was dismissed cheaply in the first limited overs match against australia on friday .'}"
            ]
          },
          "metadata": {
            "tags": []
          },
          "execution_count": 9
        }
      ]
    },
    {
      "metadata": {
        "id": "lqIAXPfc0QEv",
        "colab_type": "code",
        "colab": {
          "base_uri": "https://localhost:8080/",
          "height": 51
        },
        "outputId": "57c83722-f662-4135-a69c-541f50e465a6"
      },
      "cell_type": "code",
      "source": [
        "test_indomain_data[846]"
      ],
      "execution_count": 10,
      "outputs": [
        {
          "output_type": "execute_result",
          "data": {
            "text/plain": [
              "{'ne': 'O B-MISC I-MISC I-MISC O O O O O O O O O O O O O O O O O O O O O O O O O O',\n",
              " 'word': '“ la la land ” received 14 academy award nominations , tying the record set by the films . . . https://t.co/ubyjchiwkd by # cnn via @ c 0 nvey'}"
            ]
          },
          "metadata": {
            "tags": []
          },
          "execution_count": 10
        }
      ]
    },
    {
      "metadata": {
        "id": "P5R2OEYT0j0P",
        "colab_type": "code",
        "colab": {
          "base_uri": "https://localhost:8080/",
          "height": 34
        },
        "outputId": "e12bfe6d-f715-451a-a703-e0ffb4486bac"
      },
      "cell_type": "code",
      "source": [
        "monolingual_indomain_data[487]"
      ],
      "execution_count": 11,
      "outputs": [
        {
          "output_type": "execute_result",
          "data": {
            "text/plain": [
              "{'word': 'just got all caught up on my flagged emails from the week . now i feel good about leaving the office for the weekend . tgif !'}"
            ]
          },
          "metadata": {
            "tags": []
          },
          "execution_count": 11
        }
      ]
    },
    {
      "metadata": {
        "id": "94cFFYbawQsx",
        "colab_type": "code",
        "colab": {
          "base_uri": "https://localhost:8080/",
          "height": 34
        },
        "outputId": "f6be966c-12f5-48e8-833a-7dcce7e1f380"
      },
      "cell_type": "code",
      "source": [
        "from sklearn.model_selection import train_test_split\n",
        "train_data, dev_data = train_test_split(data, test_size=0.25, random_state=42)\n",
        "print(\"train: {}, dev: {}\".format(len(train_data), len(dev_data)))"
      ],
      "execution_count": 12,
      "outputs": [
        {
          "output_type": "stream",
          "text": [
            "train: 35967, dev: 11989\n"
          ],
          "name": "stdout"
        }
      ]
    },
    {
      "metadata": {
        "id": "oanYk9S0afp2",
        "colab_type": "code",
        "colab": {
          "base_uri": "https://localhost:8080/",
          "height": 193
        },
        "outputId": "d8c0956b-eaad-4a5b-bc48-61a4669e8605"
      },
      "cell_type": "code",
      "source": [
        "train_data"
      ],
      "execution_count": 13,
      "outputs": [
        {
          "output_type": "execute_result",
          "data": {
            "text/plain": [
              "array([{'word': 'the spokesman said the u.n. forces responded using an attack helicopter .', 'pos': 'DT NN VBD DT NNP NNS VBD VBG DT NN NN .', 'ne': 'O O O O B-ORG O O O O O O O'},\n",
              "       {'word': 'presidents of member nations argentina , brazil , paraguay and uruguay are to sign a document tuesday extending voting rights and lower tariffs to venezuela .', 'pos': 'NNS IN NN NNS NNP , NNP , NNP CC NNP VBP TO VB DT NN NNP VBG NN NNS CC JJR NNS TO NNP .', 'ne': 'O O O O B-ORG O B-ORG O B-ORG O B-ORG O O O O O O O O O O O O O B-ORG O'},\n",
              "       {'word': 'ecuador \\'s daily oil exports of nearly \"150000\" barrels each day have been completely stopped .', 'pos': 'NNP POS JJ NN NNS IN RB CD NNS DT NN VBP VBN RB VBN .', 'ne': 'B-LOC O O O O O O O O O O O O O O O'},\n",
              "       ...,\n",
              "       {'word': 'some media report the abductors were paid an unspecified ransom .', 'pos': 'DT NNS VBP DT NNS VBD VBN DT JJ NN .', 'ne': 'O O O O O O O O O O O'},\n",
              "       {'word': 'kindhearts officials have not commented on the alleged links to terrorism .', 'pos': 'NNP NNS VBP RB VBN IN DT JJ NNS TO NN .', 'ne': 'B-ORG O O O O O O O O O O O'},\n",
              "       {'word': 'it also said that no one else who has come into contact with the woman has shown any symptoms of the virus .', 'pos': 'PRP RB VBD IN DT CD NN WP VBZ VBN IN NN IN DT NN VBZ VBN DT NNS IN DT NN .', 'ne': 'O O O O O O O O O O O O O O O O O O O O O O O'}],\n",
              "      dtype=object)"
            ]
          },
          "metadata": {
            "tags": []
          },
          "execution_count": 13
        }
      ]
    },
    {
      "metadata": {
        "id": "lxQOR1UWwQs0",
        "colab_type": "code",
        "colab": {}
      },
      "cell_type": "code",
      "source": [
        "from utils import Vocab\n",
        "vocabs = {\n",
        "    key: Vocab.from_lines([row[key] for row in train_data])\n",
        "    for key in ['word', 'pos', 'ne']\n",
        "}\n",
        "\n",
        "def prepare_batch(data):\n",
        "    keys = data[0].keys()\n",
        "    return {\n",
        "        key: vocabs[key].to_matrix(row[key] for row in data)\n",
        "        for key in keys\n",
        "    }"
      ],
      "execution_count": 0,
      "outputs": []
    },
    {
      "metadata": {
        "id": "crMpHF7dwQs2",
        "colab_type": "code",
        "colab": {
          "base_uri": "https://localhost:8080/",
          "height": 153
        },
        "outputId": "fc1e219c-0098-4f34-96ef-f8664901819b"
      },
      "cell_type": "code",
      "source": [
        "dummy_rows = sorted(data, key=lambda row: len(row['word']))[100:102]\n",
        "print(dummy_rows[0])\n",
        "print(dummy_rows[1])\n",
        "prepare_batch(dummy_rows)"
      ],
      "execution_count": 15,
      "outputs": [
        {
          "output_type": "stream",
          "text": [
            "{'word': 'well , it could happen !', 'pos': 'RB , PRP MD VB .', 'ne': 'O O O O O O'}\n",
            "{'word': 'sudan denies the claim .', 'pos': 'NNP VBZ DT NN .', 'ne': 'B-LOC O O O O'}\n"
          ],
          "name": "stdout"
        },
        {
          "output_type": "execute_result",
          "data": {
            "text/plain": [
              "{'ne': array([[10, 10, 10, 10, 10, 10],\n",
              "        [ 2, 10, 10, 10, 10,  0]], dtype=int32),\n",
              " 'pos': array([[26,  4, 24, 17, 33,  5],\n",
              "        [19, 38, 10, 18,  5,  0]], dtype=int32),\n",
              " 'word': array([[27512,   289, 13824,  7061, 12084,     2],\n",
              "        [24626,  7884, 25433,  6090,   292,     0]], dtype=int32)}"
            ]
          },
          "metadata": {
            "tags": []
          },
          "execution_count": 15
        }
      ]
    },
    {
      "metadata": {
        "id": "3gj5mzA_wQs3",
        "colab_type": "text"
      },
      "cell_type": "markdown",
      "source": [
        "## Baseline: single-task model (1.5 points)\n",
        "\n",
        "![img](https://github.com/yandexdataschool/nlp_course/raw/master/resources/gorynich_ne.png)\n",
        "\n",
        "Let's start with a straightforward model that does named entity recognition.\n",
        "\n",
        "\n",
        "The image will make sense later :)"
      ]
    },
    {
      "metadata": {
        "id": "veoFiueP5fDI",
        "colab_type": "code",
        "colab": {
          "base_uri": "https://localhost:8080/",
          "height": 34
        },
        "outputId": "94ae70ff-74d8-4156-c93a-af1320e21864"
      },
      "cell_type": "code",
      "source": [
        "import keras, keras.layers as L"
      ],
      "execution_count": 16,
      "outputs": [
        {
          "output_type": "stream",
          "text": [
            "Using TensorFlow backend.\n"
          ],
          "name": "stderr"
        }
      ]
    },
    {
      "metadata": {
        "id": "13cdfpe-wQs4",
        "colab_type": "code",
        "colab": {}
      },
      "cell_type": "code",
      "source": [
        "import keras, keras.layers as L\n",
        "\n",
        "class SimpleModel:\n",
        "    def __init__(self, name, emb_size=128, hid_size=128):\n",
        "        \"\"\" \n",
        "        A model that predicts named entity class for each word\n",
        "        We recommend the following model:\n",
        "        * Embedding\n",
        "        * Bi-directional LSTM\n",
        "        * Linear layer to predict logits\n",
        "        \"\"\"\n",
        "        \n",
        "        # define layers\n",
        "        self.emb = L.Embedding(len(vocabs['word']), emb_size)\n",
        "        \n",
        "        self.lstm = L.Bidirectional(L.CuDNNLSTM(hid_size // 2, return_sequences=True))\n",
        "        self.logits = L.Dense(len(vocabs['ne']))\n",
        "    \n",
        "    def __call__(self, input_ix):\n",
        "        \"\"\"\n",
        "        Compute logits for named entity recognition\n",
        "        :param input_ix: a matrix of token indices, int32[batch_size, seq_length]\n",
        "        \"\"\"\n",
        "        ner_logits = self.logits(self.lstm(self.emb(input_ix)))\n",
        "        return {'ne': ner_logits}\n"
      ],
      "execution_count": 0,
      "outputs": []
    },
    {
      "metadata": {
        "id": "JLGtetYCwQs6",
        "colab_type": "code",
        "colab": {}
      },
      "cell_type": "code",
      "source": [
        "model = SimpleModel('mod1')\n",
        "\n",
        "\n",
        "\n",
        "dummy_ix = tf.constant(prepare_batch(train_data[:3])['word'])\n",
        "dummy_out = model(dummy_ix)\n",
        "\n",
        "sess.run(tf.global_variables_initializer())\n",
        "dummy_logits = sess.run(dummy_out['ne'])\n",
        "\n",
        "assert dummy_logits.shape == (3, dummy_ix.shape[1], len(vocabs['ne']))\n",
        "assert dummy_logits.min() < 0 and dummy_logits.max() > 0, \"you ~may~ have added nonlinearity after logits.\"\\\n",
        "                                                          \"Make sure they're just a linear layer\""
      ],
      "execution_count": 0,
      "outputs": []
    },
    {
      "metadata": {
        "id": "QzDPHr9ywQs8",
        "colab_type": "code",
        "colab": {}
      },
      "cell_type": "code",
      "source": [
        "from utils import infer_mask\n",
        "\n",
        "class trainer:\n",
        "    \"\"\" A bunch of tensorflow operations used for model training \"\"\"\n",
        "    \n",
        "    ph = {\n",
        "        'word': tf.placeholder('int32', [None, None], name='input_tokens'),\n",
        "        'ne': tf.placeholder('int32', [None, None], name='named_entities'),\n",
        "    }\n",
        "\n",
        "    logits = model(ph['word'])\n",
        "    mask = infer_mask(ph['word'])\n",
        "    \n",
        "    loss = -tf.nn.log_softmax(logits['ne'], -1) * tf.one_hot(ph['ne'], len(vocabs['ne']))\n",
        "    loss = tf.reduce_sum(loss * mask[:, :, None]) / tf.reduce_sum(mask)\n",
        "\n",
        "    step = tf.train.AdamOptimizer().minimize(loss)"
      ],
      "execution_count": 0,
      "outputs": []
    },
    {
      "metadata": {
        "id": "WuXAjoJJwQs-",
        "colab_type": "text"
      },
      "cell_type": "markdown",
      "source": [
        "### Training loop\n",
        "\n",
        "Nothin' special: sample random batches and perform SGD steps"
      ]
    },
    {
      "metadata": {
        "id": "VCK33Z6QwQs-",
        "colab_type": "code",
        "colab": {}
      },
      "cell_type": "code",
      "source": [
        "def iterate_minibatches(data, batch_size=128, shuffle=True, cycle=False, max_batches=None):\n",
        "    indices = np.arange(len(data))\n",
        "    total_batches = 0\n",
        "    while True:\n",
        "        if shuffle: indices = np.random.permutation(indices)\n",
        "        for start_i in range(0, len(data), batch_size):\n",
        "            batch_ix = indices[start_i: start_i + batch_size]\n",
        "            yield prepare_batch(data[batch_ix])\n",
        "            total_batches += 1\n",
        "            if max_batches and total_batches >= max_batches:\n",
        "                raise StopIteration()\n",
        "        if not cycle: break\n",
        "            \n",
        "\n",
        "def compute_error_rate(trainer, data, batch_size=128, key='ne'):\n",
        "    numerator = denominator = 0.0\n",
        "    for batch in iterate_minibatches(data, batch_size, shuffle=False, cycle=False):\n",
        "        batch_ne_logits, batch_mask = sess.run([trainer.logits[key], trainer.mask], \n",
        "                                               {trainer.ph['word']: batch['word']})\n",
        "        numerator += np.sum((batch[key] == batch_ne_logits.argmax(-1)) * batch_mask)\n",
        "        denominator += batch_mask.sum()\n",
        "    return (1.0 - numerator / denominator) * 100\n",
        "\n",
        "def decode_greedy(trainer, data, vocabs, batch_size=128, key='ne'):\n",
        "    result = []\n",
        "    for batch in iterate_minibatches(data, batch_size, shuffle=False, cycle=False):\n",
        "        batch_logits = sess.run(trainer.logits[key], \n",
        "                                {trainer.ph['word']: batch['word']})\n",
        "        result.extend(vocabs[key].to_lines(batch_logits.argmax(-1)))\n",
        "    return result\n",
        "\n",
        "def compute_stats(trainer, data, vocabs, batch_size=128, key='ne', verbose=False):\n",
        "    pred_seqs = decode_greedy(trainer, data, vocabs, batch_size, key)\n",
        "    true_seqs = [r[key] for r in data]\n",
        "    precision, recall, f1 = evaluate(true_seqs, pred_seqs, verbose)\n",
        "    return precision, recall, f1\n",
        "    "
      ],
      "execution_count": 0,
      "outputs": []
    },
    {
      "metadata": {
        "id": "TngiCujOwQs_",
        "colab_type": "code",
        "colab": {}
      },
      "cell_type": "code",
      "source": [
        "class StatsHistory:\n",
        "    def __init__(self):\n",
        "        self.precision = []\n",
        "        self.recall = []\n",
        "        self.f1 = []"
      ],
      "execution_count": 0,
      "outputs": []
    },
    {
      "metadata": {
        "id": "j1DOa0ldwQtB",
        "colab_type": "code",
        "colab": {}
      },
      "cell_type": "code",
      "source": [
        "from tqdm import tqdm\n",
        "from IPython.display import clear_output\n",
        "import matplotlib.pyplot as plt\n",
        "%matplotlib inline\n",
        "eval_every = 100\n",
        "\n",
        "loss_history = []\n",
        "dev_stats_history = StatsHistory()\n",
        "indomain_stats_history = StatsHistory()\n",
        "outdomain_stats_history = StatsHistory()\n",
        "\n",
        "sess.run(tf.global_variables_initializer())"
      ],
      "execution_count": 0,
      "outputs": []
    },
    {
      "metadata": {
        "id": "YUtYrD1BwQtC",
        "colab_type": "code",
        "colab": {
          "base_uri": "https://localhost:8080/",
          "height": 34
        },
        "outputId": "3b4da3df-fba3-49e3-f081-7638716da820"
      },
      "cell_type": "code",
      "source": [
        "len(dev_data)"
      ],
      "execution_count": 23,
      "outputs": [
        {
          "output_type": "execute_result",
          "data": {
            "text/plain": [
              "11989"
            ]
          },
          "metadata": {
            "tags": []
          },
          "execution_count": 23
        }
      ]
    },
    {
      "metadata": {
        "scrolled": false,
        "id": "_TelvmKlwQtE",
        "colab_type": "code",
        "colab": {
          "base_uri": "https://localhost:8080/",
          "height": 1182
        },
        "outputId": "4656392f-2875-4ad1-ed37-456b75368a57"
      },
      "cell_type": "code",
      "source": [
        "for batch in tqdm(iterate_minibatches(train_data, batch_size=1024, cycle=True, max_batches=3500)):\n",
        "    loss_t, _ = sess.run([trainer.loss, trainer.step],\n",
        "                         {trainer.ph[key]: batch[key] for key in trainer.ph})\n",
        "    loss_history.append(loss_t)\n",
        "    \n",
        "    if len(loss_history) % eval_every == 0:\n",
        "        precision, recall, f1 = compute_stats(trainer, dev_data, vocabs, verbose=True)\n",
        "        dev_stats_history.precision.append(precision)\n",
        "        dev_stats_history.recall.append(recall)\n",
        "        dev_stats_history.f1.append(f1)\n",
        "        \n",
        "        _, _, f1 = compute_stats(trainer, test_outdomain_data, vocabs, verbose=True)\n",
        "        outdomain_stats_history.f1.append(f1)\n",
        "        \n",
        "        _, _, f1 = compute_stats(trainer, test_indomain_data, vocabs, verbose=True)\n",
        "        indomain_stats_history.f1.append(f1)\n",
        "\n",
        "        clear_output(True)\n",
        "        plt.figure(figsize=[12, 6])\n",
        "        plt.subplot(1, 2, 1)\n",
        "        plt.plot(loss_history)\n",
        "        plt.title('train loss'), plt.grid()\n",
        "        plt.subplot(1, 2, 2)\n",
        "        \n",
        "        plt.plot(np.arange(1, len(dev_stats_history.f1) + 1) * eval_every, dev_stats_history.f1, label=\"dev f1\")\n",
        "        plt.plot(np.arange(1, len(outdomain_stats_history.f1) + 1) * eval_every, outdomain_stats_history.f1, label=\"outdomain f1\")\n",
        "        plt.plot(np.arange(1, len(indomain_stats_history.f1) + 1) * eval_every, indomain_stats_history.f1, label=\"indomain f1\")\n",
        "\n",
        "        plt.legend()\n",
        "        plt.title('dev stats %'), plt.grid()\n",
        "        plt.show()"
      ],
      "execution_count": 24,
      "outputs": [
        {
          "output_type": "display_data",
          "data": {
            "image/png": "[encoded data removed]",
            "text/plain": [
              "<matplotlib.figure.Figure at 0x7faddfba8e48>"
            ]
          },
          "metadata": {
            "tags": []
          }
        },
        {
          "output_type": "stream",
          "text": [
            "2536it [05:52,  8.10it/s]"
          ],
          "name": "stderr"
        },
        {
          "output_type": "error",
          "ename": "KeyboardInterrupt",
          "evalue": "ignored",
          "traceback": [
            "\u001b[0;31m---------------------------------------------------------------------------\u001b[0m",
            "\u001b[0;31mKeyboardInterrupt\u001b[0m                         Traceback (most recent call last)",
            "\u001b[0;32m<ipython-input-24-9154dfd126a8>\u001b[0m in \u001b[0;36m<module>\u001b[0;34m()\u001b[0m\n\u001b[0;32m----> 1\u001b[0;31m \u001b[0;32mfor\u001b[0m \u001b[0mbatch\u001b[0m \u001b[0;32min\u001b[0m \u001b[0mtqdm\u001b[0m\u001b[0;34m(\u001b[0m\u001b[0miterate_minibatches\u001b[0m\u001b[0;34m(\u001b[0m\u001b[0mtrain_data\u001b[0m\u001b[0;34m,\u001b[0m \u001b[0mbatch_size\u001b[0m\u001b[0;34m=\u001b[0m\u001b[0;36m1024\u001b[0m\u001b[0;34m,\u001b[0m \u001b[0mcycle\u001b[0m\u001b[0;34m=\u001b[0m\u001b[0;32mTrue\u001b[0m\u001b[0;34m,\u001b[0m \u001b[0mmax_batches\u001b[0m\u001b[0;34m=\u001b[0m\u001b[0;36m3500\u001b[0m\u001b[0;34m)\u001b[0m\u001b[0;34m)\u001b[0m\u001b[0;34m:\u001b[0m\u001b[0;34m\u001b[0m\u001b[0;34m\u001b[0m\u001b[0m\n\u001b[0m\u001b[1;32m      2\u001b[0m     loss_t, _ = sess.run([trainer.loss, trainer.step],\n\u001b[1;32m      3\u001b[0m                          {trainer.ph[key]: batch[key] for key in trainer.ph})\n\u001b[1;32m      4\u001b[0m     \u001b[0mloss_history\u001b[0m\u001b[0;34m.\u001b[0m\u001b[0mappend\u001b[0m\u001b[0;34m(\u001b[0m\u001b[0mloss_t\u001b[0m\u001b[0;34m)\u001b[0m\u001b[0;34m\u001b[0m\u001b[0;34m\u001b[0m\u001b[0m\n\u001b[1;32m      5\u001b[0m \u001b[0;34m\u001b[0m\u001b[0m\n",
            "\u001b[0;32m/usr/local/lib/python3.6/dist-packages/tqdm/_tqdm.py\u001b[0m in \u001b[0;36m__iter__\u001b[0;34m(self)\u001b[0m\n\u001b[1;32m    977\u001b[0m \"\"\", fp_write=getattr(self.fp, 'write', sys.stderr.write))\n\u001b[1;32m    978\u001b[0m \u001b[0;34m\u001b[0m\u001b[0m\n\u001b[0;32m--> 979\u001b[0;31m             \u001b[0;32mfor\u001b[0m \u001b[0mobj\u001b[0m \u001b[0;32min\u001b[0m \u001b[0miterable\u001b[0m\u001b[0;34m:\u001b[0m\u001b[0;34m\u001b[0m\u001b[0;34m\u001b[0m\u001b[0m\n\u001b[0m\u001b[1;32m    980\u001b[0m                 \u001b[0;32myield\u001b[0m \u001b[0mobj\u001b[0m\u001b[0;34m\u001b[0m\u001b[0;34m\u001b[0m\u001b[0m\n\u001b[1;32m    981\u001b[0m                 \u001b[0;31m# Update and possibly print the progressbar.\u001b[0m\u001b[0;34m\u001b[0m\u001b[0;34m\u001b[0m\u001b[0;34m\u001b[0m\u001b[0m\n",
            "\u001b[0;32m<ipython-input-20-aa60453f1abd>\u001b[0m in \u001b[0;36miterate_minibatches\u001b[0;34m(data, batch_size, shuffle, cycle, max_batches)\u001b[0m\n\u001b[1;32m      6\u001b[0m         \u001b[0;32mfor\u001b[0m \u001b[0mstart_i\u001b[0m \u001b[0;32min\u001b[0m \u001b[0mrange\u001b[0m\u001b[0;34m(\u001b[0m\u001b[0;36m0\u001b[0m\u001b[0;34m,\u001b[0m \u001b[0mlen\u001b[0m\u001b[0;34m(\u001b[0m\u001b[0mdata\u001b[0m\u001b[0;34m)\u001b[0m\u001b[0;34m,\u001b[0m \u001b[0mbatch_size\u001b[0m\u001b[0;34m)\u001b[0m\u001b[0;34m:\u001b[0m\u001b[0;34m\u001b[0m\u001b[0;34m\u001b[0m\u001b[0m\n\u001b[1;32m      7\u001b[0m             \u001b[0mbatch_ix\u001b[0m \u001b[0;34m=\u001b[0m \u001b[0mindices\u001b[0m\u001b[0;34m[\u001b[0m\u001b[0mstart_i\u001b[0m\u001b[0;34m:\u001b[0m \u001b[0mstart_i\u001b[0m \u001b[0;34m+\u001b[0m \u001b[0mbatch_size\u001b[0m\u001b[0;34m]\u001b[0m\u001b[0;34m\u001b[0m\u001b[0;34m\u001b[0m\u001b[0m\n\u001b[0;32m----> 8\u001b[0;31m             \u001b[0;32myield\u001b[0m \u001b[0mprepare_batch\u001b[0m\u001b[0;34m(\u001b[0m\u001b[0mdata\u001b[0m\u001b[0;34m[\u001b[0m\u001b[0mbatch_ix\u001b[0m\u001b[0;34m]\u001b[0m\u001b[0;34m)\u001b[0m\u001b[0;34m\u001b[0m\u001b[0;34m\u001b[0m\u001b[0m\n\u001b[0m\u001b[1;32m      9\u001b[0m             \u001b[0mtotal_batches\u001b[0m \u001b[0;34m+=\u001b[0m \u001b[0;36m1\u001b[0m\u001b[0;34m\u001b[0m\u001b[0;34m\u001b[0m\u001b[0m\n\u001b[1;32m     10\u001b[0m             \u001b[0;32mif\u001b[0m \u001b[0mmax_batches\u001b[0m \u001b[0;32mand\u001b[0m \u001b[0mtotal_batches\u001b[0m \u001b[0;34m>=\u001b[0m \u001b[0mmax_batches\u001b[0m\u001b[0;34m:\u001b[0m\u001b[0;34m\u001b[0m\u001b[0;34m\u001b[0m\u001b[0m\n",
            "\u001b[0;32m<ipython-input-14-22310de51ccf>\u001b[0m in \u001b[0;36mprepare_batch\u001b[0;34m(data)\u001b[0m\n\u001b[1;32m      9\u001b[0m     return {\n\u001b[1;32m     10\u001b[0m         \u001b[0mkey\u001b[0m\u001b[0;34m:\u001b[0m \u001b[0mvocabs\u001b[0m\u001b[0;34m[\u001b[0m\u001b[0mkey\u001b[0m\u001b[0;34m]\u001b[0m\u001b[0;34m.\u001b[0m\u001b[0mto_matrix\u001b[0m\u001b[0;34m(\u001b[0m\u001b[0mrow\u001b[0m\u001b[0;34m[\u001b[0m\u001b[0mkey\u001b[0m\u001b[0;34m]\u001b[0m \u001b[0;32mfor\u001b[0m \u001b[0mrow\u001b[0m \u001b[0;32min\u001b[0m \u001b[0mdata\u001b[0m\u001b[0;34m)\u001b[0m\u001b[0;34m\u001b[0m\u001b[0;34m\u001b[0m\u001b[0m\n\u001b[0;32m---> 11\u001b[0;31m         \u001b[0;32mfor\u001b[0m \u001b[0mkey\u001b[0m \u001b[0;32min\u001b[0m \u001b[0mkeys\u001b[0m\u001b[0;34m\u001b[0m\u001b[0;34m\u001b[0m\u001b[0m\n\u001b[0m\u001b[1;32m     12\u001b[0m     }\n",
            "\u001b[0;32m<ipython-input-14-22310de51ccf>\u001b[0m in \u001b[0;36m<dictcomp>\u001b[0;34m(.0)\u001b[0m\n\u001b[1;32m      9\u001b[0m     return {\n\u001b[1;32m     10\u001b[0m         \u001b[0mkey\u001b[0m\u001b[0;34m:\u001b[0m \u001b[0mvocabs\u001b[0m\u001b[0;34m[\u001b[0m\u001b[0mkey\u001b[0m\u001b[0;34m]\u001b[0m\u001b[0;34m.\u001b[0m\u001b[0mto_matrix\u001b[0m\u001b[0;34m(\u001b[0m\u001b[0mrow\u001b[0m\u001b[0;34m[\u001b[0m\u001b[0mkey\u001b[0m\u001b[0;34m]\u001b[0m \u001b[0;32mfor\u001b[0m \u001b[0mrow\u001b[0m \u001b[0;32min\u001b[0m \u001b[0mdata\u001b[0m\u001b[0;34m)\u001b[0m\u001b[0;34m\u001b[0m\u001b[0;34m\u001b[0m\u001b[0m\n\u001b[0;32m---> 11\u001b[0;31m         \u001b[0;32mfor\u001b[0m \u001b[0mkey\u001b[0m \u001b[0;32min\u001b[0m \u001b[0mkeys\u001b[0m\u001b[0;34m\u001b[0m\u001b[0;34m\u001b[0m\u001b[0m\n\u001b[0m\u001b[1;32m     12\u001b[0m     }\n",
            "\u001b[0;32m/content/utils.py\u001b[0m in \u001b[0;36mto_matrix\u001b[0;34m(self, lines, max_len)\u001b[0m\n\u001b[1;32m     62\u001b[0m         \u001b[0;32mfor\u001b[0m \u001b[0mi\u001b[0m\u001b[0;34m,\u001b[0m \u001b[0mseq\u001b[0m \u001b[0;32min\u001b[0m \u001b[0menumerate\u001b[0m\u001b[0;34m(\u001b[0m\u001b[0mlines\u001b[0m\u001b[0;34m)\u001b[0m\u001b[0;34m:\u001b[0m\u001b[0;34m\u001b[0m\u001b[0;34m\u001b[0m\u001b[0m\n\u001b[1;32m     63\u001b[0m             \u001b[0mrow_ix\u001b[0m \u001b[0;34m=\u001b[0m \u001b[0mlist\u001b[0m\u001b[0;34m(\u001b[0m\u001b[0mmap\u001b[0m\u001b[0;34m(\u001b[0m\u001b[0mself\u001b[0m\u001b[0;34m.\u001b[0m\u001b[0mtoken_to_ix\u001b[0m\u001b[0;34m.\u001b[0m\u001b[0mget\u001b[0m\u001b[0;34m,\u001b[0m \u001b[0mseq\u001b[0m\u001b[0;34m)\u001b[0m\u001b[0;34m)\u001b[0m\u001b[0;34m[\u001b[0m\u001b[0;34m:\u001b[0m\u001b[0mmax_len\u001b[0m\u001b[0;34m]\u001b[0m\u001b[0;34m\u001b[0m\u001b[0;34m\u001b[0m\u001b[0m\n\u001b[0;32m---> 64\u001b[0;31m             \u001b[0mmatrix\u001b[0m\u001b[0;34m[\u001b[0m\u001b[0mi\u001b[0m\u001b[0;34m,\u001b[0m \u001b[0;34m:\u001b[0m\u001b[0mlen\u001b[0m\u001b[0;34m(\u001b[0m\u001b[0mrow_ix\u001b[0m\u001b[0;34m)\u001b[0m\u001b[0;34m]\u001b[0m \u001b[0;34m=\u001b[0m \u001b[0mrow_ix\u001b[0m\u001b[0;34m\u001b[0m\u001b[0;34m\u001b[0m\u001b[0m\n\u001b[0m\u001b[1;32m     65\u001b[0m         \u001b[0;32mreturn\u001b[0m \u001b[0mmatrix\u001b[0m\u001b[0;34m\u001b[0m\u001b[0;34m\u001b[0m\u001b[0m\n\u001b[1;32m     66\u001b[0m \u001b[0;34m\u001b[0m\u001b[0m\n",
            "\u001b[0;31mKeyboardInterrupt\u001b[0m: "
          ]
        }
      ]
    },
    {
      "metadata": {
        "id": "77BmSSwrwQtG",
        "colab_type": "code",
        "colab": {
          "base_uri": "https://localhost:8080/",
          "height": 68
        },
        "outputId": "81dddf8a-1752-44f0-c0b3-5cf5d8ffbdd0"
      },
      "cell_type": "code",
      "source": [
        "print(\"Best dev f1 = %.3f%%\" % max(dev_stats_history.f1),\n",
        "      \"\\nBest in-domain f1 = %.3f%%\" % max(indomain_stats_history.f1),\n",
        "      \"\\nBest out-of-domain f1 = %.3f%%\" % max(outdomain_stats_history.f1))\n",
        "assert max(dev_stats_history.f1) > 75, \"you can do better\""
      ],
      "execution_count": 25,
      "outputs": [
        {
          "output_type": "stream",
          "text": [
            "Best dev f1 = 75.449% \n",
            "Best in-domain f1 = 15.726% \n",
            "Best out-of-domain f1 = 37.463%\n"
          ],
          "name": "stdout"
        }
      ]
    },
    {
      "metadata": {
        "id": "a0pWZQjDwQtI",
        "colab_type": "text"
      },
      "cell_type": "markdown",
      "source": [
        "# Multitask model: NER + POS (1.5 points)\n",
        "\n",
        "Our data contains not only named entity labels, but also part-of-speech tags. Those problems are similar in nature, making it a good candidate for multi-tasking. With any luck, ouyr model will become better at named entity recognition by learning for POS-tagging.\n",
        "\n",
        "![model2](https://github.com/yandexdataschool/nlp_course/raw/master/resources/gorynich_2.png)"
      ]
    },
    {
      "metadata": {
        "id": "XzJTdCb4wQtJ",
        "colab_type": "code",
        "colab": {}
      },
      "cell_type": "code",
      "source": [
        "import keras, keras.layers as L\n",
        "\n",
        "class MultitaskModel:\n",
        "    def __init__(self, name, emb_size=128, hid_size=128):\n",
        "        \"\"\" \n",
        "        Equivalent to the SimpleModel above, but with two \n",
        "        linear \"heads\": one for \"ne\" logits and another for \"pos\".\n",
        "        Both heads should grow from the same intermediate \"body\" layer\n",
        "        \"\"\"\n",
        "        self.emb = L.Embedding(len(vocabs['word']), emb_size)\n",
        "        \n",
        "        self.lstm = L.Bidirectional(L.CuDNNLSTM(hid_size // 2, return_sequences=True))\n",
        "        self.logits_ne = L.Dense(len(vocabs['ne']))\n",
        "        self.logits_pos = L.Dense(len(vocabs['pos']))\n",
        "\n",
        "    \n",
        "    def __call__(self, input_ix):\n",
        "        \"\"\"\n",
        "        Compute logits for named entity recognition\n",
        "        \"\"\"\n",
        "        ner_logits = self.logits_ne(self.lstm(self.emb(input_ix)))\n",
        "        pos_logits = self.logits_pos(self.lstm(self.emb(input_ix)))\n",
        "        return {'ne': ner_logits, 'pos': pos_logits}"
      ],
      "execution_count": 0,
      "outputs": []
    },
    {
      "metadata": {
        "id": "4pvEno2IwQtL",
        "colab_type": "code",
        "colab": {}
      },
      "cell_type": "code",
      "source": [
        "model = MultitaskModel('mod2')\n",
        "\n",
        "dummy_ix = tf.constant(prepare_batch(train_data[:3])['word'])\n",
        "dummy_out = model(dummy_ix)\n",
        "assert 'ne' in dummy_out and 'pos' in dummy_out\n",
        "\n",
        "sess.run(tf.global_variables_initializer())\n",
        "\n",
        "for key, logits in sess.run(dummy_out).items():\n",
        "    assert logits.shape == (3, dummy_ix.shape[1], len(vocabs[key]))"
      ],
      "execution_count": 0,
      "outputs": []
    },
    {
      "metadata": {
        "id": "PuF3IxGTwQtM",
        "colab_type": "code",
        "colab": {}
      },
      "cell_type": "code",
      "source": [
        "from utils import infer_mask\n",
        "\n",
        "class multitask_trainer:\n",
        "    \"\"\" A trainer that computes losses for both NER and POS tasks and adds them together. \"\"\"    \n",
        "    ph = {\n",
        "        'word': tf.placeholder('int32', [None, None], name='input_tokens'),\n",
        "        'ne': tf.placeholder('int32', [None, None], name='named_entities'),\n",
        "        'pos': tf.placeholder('int32', [None, None], name='part_of_speech_tags'),\n",
        "    }\n",
        "\n",
        "    logits = model(ph['word'])\n",
        "    mask = infer_mask(ph['word'])\n",
        "    \n",
        "    # Compute loss for NER. Feel free to reuse the code from original trainer\n",
        "    ner_loss = -tf.nn.log_softmax(logits['ne'], -1) * tf.one_hot(ph['ne'], len(vocabs['ne']))\n",
        "    ner_loss = tf.reduce_sum(ner_loss * mask[:, :, None]) / tf.reduce_sum(mask)\n",
        "\n",
        "    # Compute the same kind of loss for POS.  (key: 'pos')\n",
        "    pos_loss = -tf.nn.log_softmax(logits['pos'], -1) * tf.one_hot(ph['pos'], len(vocabs['pos']))\n",
        "    pos_loss = tf.reduce_sum(pos_loss * mask[:, :, None]) / tf.reduce_sum(mask)\n",
        "    \n",
        "    # The total loss is just a sum of two losses.\n",
        "    # Note: you can use weighted combination of losses to squeeze a few more %%\n",
        "    loss = ner_loss + pos_loss\n",
        "    step = tf.train.AdamOptimizer().minimize(loss)"
      ],
      "execution_count": 0,
      "outputs": []
    },
    {
      "metadata": {
        "id": "-NKzSxJ0wQtM",
        "colab_type": "code",
        "colab": {}
      },
      "cell_type": "code",
      "source": [
        "dummy_batch = prepare_batch(train_data[:3])\n",
        "ner_loss, pos_loss = sess.run([multitask_trainer.ner_loss, multitask_trainer.pos_loss], \n",
        "                              {multitask_trainer.ph[key]: dummy_batch[key] for key in multitask_trainer.ph})\n",
        "\n",
        "assert ner_loss > 0 and np.shape(ner_loss) == (), \"loss must be a positive scalar\"\n",
        "assert pos_loss > 0 and np.shape(pos_loss) == (), \"loss must be a positive scalar\""
      ],
      "execution_count": 0,
      "outputs": []
    },
    {
      "metadata": {
        "id": "aun757hHwQtN",
        "colab_type": "code",
        "colab": {}
      },
      "cell_type": "code",
      "source": [
        "from tqdm import tqdm\n",
        "from IPython.display import clear_output\n",
        "import matplotlib.pyplot as plt\n",
        "%matplotlib inline\n",
        "\n",
        "loss_history = []\n",
        "dev_stats_history = StatsHistory()\n",
        "indomain_stats_history = StatsHistory()\n",
        "outdomain_stats_history = StatsHistory()\n",
        "\n",
        "sess.run(tf.global_variables_initializer())"
      ],
      "execution_count": 0,
      "outputs": []
    },
    {
      "metadata": {
        "id": "02ziyoXdwQtO",
        "colab_type": "code",
        "colab": {
          "base_uri": "https://localhost:8080/",
          "height": 423
        },
        "outputId": "10c6ab4b-fbef-45d1-ec41-474fedc7e242"
      },
      "cell_type": "code",
      "source": [
        "for batch in tqdm(iterate_minibatches(train_data, cycle=True, batch_size=512, max_batches=3500)):\n",
        "    loss_t, _ = sess.run([multitask_trainer.loss, multitask_trainer.step], \n",
        "                         {multitask_trainer.ph[key]: batch[key] for key in multitask_trainer.ph})\n",
        "    loss_history.append(loss_t)\n",
        "    \n",
        "    if len(loss_history) % 100 == 0:\n",
        "        precision, recall, f1 = compute_stats(multitask_trainer, dev_data, vocabs, batch_size=512, verbose=True)\n",
        "        dev_stats_history.precision.append(precision)\n",
        "        dev_stats_history.recall.append(recall)\n",
        "        dev_stats_history.f1.append(f1)\n",
        "\n",
        "        _, _, f1 = compute_stats(multitask_trainer, test_outdomain_data, vocabs, batch_size=512, verbose=True)\n",
        "        outdomain_stats_history.f1.append(f1)\n",
        "        \n",
        "        _, _, f1 = compute_stats(multitask_trainer, test_indomain_data, vocabs, batch_size=512, verbose=True)\n",
        "        indomain_stats_history.f1.append(f1)\n",
        "        \n",
        "        clear_output(True)\n",
        "        plt.figure(figsize=[12, 6])\n",
        "        plt.subplot(1, 2, 1)\n",
        "        plt.plot(loss_history)\n",
        "        plt.title('train loss'), plt.grid()\n",
        "        plt.subplot(1, 2, 2)\n",
        "        \n",
        "        plt.plot(np.arange(1, len(dev_stats_history.f1) + 1) * eval_every, dev_stats_history.f1, label=\"dev f1\")\n",
        "        plt.plot(np.arange(1, len(outdomain_stats_history.f1) + 1) * eval_every, outdomain_stats_history.f1, label=\"outdomain f1\")\n",
        "        plt.plot(np.arange(1, len(indomain_stats_history.f1) + 1) * eval_every, indomain_stats_history.f1, label=\"indomain f1\")\n",
        "        \n",
        "        plt.title('dev stats %'), plt.grid()\n",
        "        plt.show()"
      ],
      "execution_count": 31,
      "outputs": [
        {
          "output_type": "display_data",
          "data": {
            "image/png": "[encoded data removed]",
            "text/plain": [
              "<matplotlib.figure.Figure at 0x7faddcaf0438>"
            ]
          },
          "metadata": {
            "tags": []
          }
        },
        {
          "output_type": "stream",
          "text": [
            "\n",
            "3500it [07:13,  2.16it/s]\u001b[A\n",
            "\u001b[A"
          ],
          "name": "stderr"
        }
      ]
    },
    {
      "metadata": {
        "id": "e4ll_K38wQtP",
        "colab_type": "code",
        "colab": {
          "base_uri": "https://localhost:8080/",
          "height": 68
        },
        "outputId": "cf68258e-fe84-4602-928d-1694db7c6f6f"
      },
      "cell_type": "code",
      "source": [
        "print(\"Best dev f1 = %.3f%%\" % max(dev_stats_history.f1),\n",
        "      \"\\nBest indomain f1 = %.3f%%\" % max(indomain_stats_history.f1),\n",
        "      \"\\nBest outdomain f1 = %.3f%%\" % max(outdomain_stats_history.f1))\n",
        "assert max(dev_stats_history.f1) > 75, \"you can do better\""
      ],
      "execution_count": 32,
      "outputs": [
        {
          "output_type": "stream",
          "text": [
            "Best dev f1 = 77.106% \n",
            "Best indomain f1 = 15.768% \n",
            "Best outdomain f1 = 38.379%\n"
          ],
          "name": "stdout"
        }
      ]
    },
    {
      "metadata": {
        "id": "6JfeK1FiwQtQ",
        "colab_type": "text"
      },
      "cell_type": "markdown",
      "source": [
        "# Multitask model: NER + POS + LM (2 points)\n",
        "\n",
        "Two heads are great, but three's even better! Let's add language modeling to the task.\n",
        "\n",
        "With language models, however, there are a few complications:\n",
        "* Our data is too small for LM training. Let's use [1 billion word benchmark](http://www.statmt.org/lm-benchmark/) instead. It *may* even be a good idea to preserve cases.\n",
        "* Language models have some issues with being bidirectional. We recommend training forward and backward models separately and fusing them together. Or use the same approach as [ELMO](https://tfhub.dev/google/elmo/2).\n",
        "* The simplest scheme is to pre-train as a language model and fine-tune for NER and POS. We recommend starting from that.\n",
        "\n",
        "__IMPORTANT!__ NER/POS dataset comes pre-tokenized.  Make sure you apply {almost} the same tokenization when training language model. Alternatively, you can re-tokenize ner/pos data.\n",
        "\n",
        "\n",
        "![model3](https://github.com/yandexdataschool/nlp_course/raw/master/resources/gorynich_small.png)"
      ]
    },
    {
      "metadata": {
        "id": "LmxdvbqMOmn6",
        "colab_type": "code",
        "colab": {}
      },
      "cell_type": "code",
      "source": [
        "sess.close()"
      ],
      "execution_count": 0,
      "outputs": []
    },
    {
      "metadata": {
        "id": "9FRs-__mJKmv",
        "colab_type": "code",
        "colab": {}
      },
      "cell_type": "code",
      "source": [
        "sess.close()\n",
        "import tensorflow as tf\n",
        "import keras.layers as L\n",
        "import tensorflow_hub as hub\n",
        "sess.close()\n",
        "tf.reset_default_graph()\n",
        "sess = tf.InteractiveSession()"
      ],
      "execution_count": 0,
      "outputs": []
    },
    {
      "metadata": {
        "id": "jMTO5GpqJOz8",
        "colab_type": "code",
        "colab": {
          "base_uri": "https://localhost:8080/",
          "height": 68
        },
        "outputId": "071243b6-70ee-463f-e9e8-fe3cec44035e"
      },
      "cell_type": "code",
      "source": [
        "elmo = hub.Module(\"https://tfhub.dev/google/elmo/2\", trainable=False)"
      ],
      "execution_count": 35,
      "outputs": [
        {
          "output_type": "stream",
          "text": [
            "INFO:tensorflow:Using /tmp/tfhub_modules to cache modules.\n",
            "INFO:tensorflow:Downloading TF-Hub Module 'https://tfhub.dev/google/elmo/2'.\n",
            "INFO:tensorflow:Downloaded TF-Hub Module 'https://tfhub.dev/google/elmo/2'.\n"
          ],
          "name": "stdout"
        }
      ]
    },
    {
      "metadata": {
        "id": "zB83bntqmr_a",
        "colab_type": "code",
        "colab": {
          "base_uri": "https://localhost:8080/",
          "height": 34
        },
        "outputId": "c6b37180-306b-4b12-f460-5c09b15e5901"
      },
      "cell_type": "code",
      "source": [
        "sess.run([tf.global_variables_initializer(), tf.tables_initializer()])"
      ],
      "execution_count": 36,
      "outputs": [
        {
          "output_type": "execute_result",
          "data": {
            "text/plain": [
              "[None, None]"
            ]
          },
          "metadata": {
            "tags": []
          },
          "execution_count": 36
        }
      ]
    },
    {
      "metadata": {
        "id": "iYbi2VxwrDVw",
        "colab_type": "code",
        "colab": {}
      },
      "cell_type": "code",
      "source": [
        "def prepare_batch_v2(data):\n",
        "    keys = data[0].keys()\n",
        "    res = {\n",
        "        key: vocabs[key].to_matrix(row[key] for row in data)\n",
        "        for key in keys\n",
        "    }\n",
        "    res['raw_text'] = np.array([row['word'] for row in data])\n",
        "    return res"
      ],
      "execution_count": 0,
      "outputs": []
    },
    {
      "metadata": {
        "id": "7lXebKkxwQtR",
        "colab_type": "code",
        "colab": {}
      },
      "cell_type": "code",
      "source": [
        "class MultitaskModel:\n",
        "    def __init__(self, name, emb_size=128, hid_size=128):\n",
        "        \"\"\" \n",
        "        Equivalent to the SimpleModel above, but with three\n",
        "        linear \"heads\": one for \"ne\" logits, second for \"pos\" and last for language modelling.\n",
        "        Both heads should grow from the same intermediate \"body\" layer\n",
        "        \"\"\"\n",
        "        # define layers:\n",
        "        self.lm = elmo\n",
        "        self.logits_ne = L.Dense(len(vocabs['ne']), name='ner_logits')\n",
        "        self.logits_pos = L.Dense(len(vocabs['pos']))\n",
        "        \n",
        "    def __call__(self, input_ix):\n",
        "        \"\"\"\n",
        "        Compute logits for named entity recognition\n",
        "        \"\"\"\n",
        "        inter = self.lm(input_ix, signature=\"default\", as_dict=True)['elmo']\n",
        "\n",
        "        ner_logits = self.logits_ne(inter)\n",
        "        pos_logits = self.logits_pos(inter)\n",
        "        lm_logits = ner_logits\n",
        "        return {'ne': ner_logits, 'pos': pos_logits, 'lm': lm_logits}"
      ],
      "execution_count": 0,
      "outputs": []
    },
    {
      "metadata": {
        "id": "NqQ5TMZAwQtS",
        "colab_type": "code",
        "colab": {
          "base_uri": "https://localhost:8080/",
          "height": 215
        },
        "outputId": "41ec88a0-1e3a-4531-e9ed-0e30ca714a67"
      },
      "cell_type": "code",
      "source": [
        "model = MultitaskModel('mod3')\n",
        "\n",
        "dummy_batch = prepare_batch_v2(train_data[:3])\n",
        "dummy_ix = tf.constant(dummy_batch['raw_text'], dtype=tf.string)\n",
        "dummy_ph = tf.placeholder(tf.string, shape=[None])\n",
        "#dummy_out = model(dummy_ix)\n",
        "dummy_ner = model.logits_ne(model.lm(dummy_ph, signature=\"default\", as_dict=True)['elmo'])\n",
        "\n",
        "sess.run([tf.global_variables_initializer(), tf.tables_initializer()])\n",
        "\n",
        "dummy_ner = sess.run(dummy_ner, {dummy_ph: dummy_batch['raw_text']})\n",
        "\n",
        "assert 'ne' in dummy_out and 'pos' in dummy_out and 'lm' in dummy_out\n"
      ],
      "execution_count": 39,
      "outputs": [
        {
          "output_type": "stream",
          "text": [
            "INFO:tensorflow:Saver not created because there are no variables in the graph to restore\n"
          ],
          "name": "stdout"
        },
        {
          "output_type": "error",
          "ename": "AssertionError",
          "evalue": "ignored",
          "traceback": [
            "\u001b[0;31m---------------------------------------------------------------------------\u001b[0m",
            "\u001b[0;31mAssertionError\u001b[0m                            Traceback (most recent call last)",
            "\u001b[0;32m<ipython-input-39-3fba29763f83>\u001b[0m in \u001b[0;36m<module>\u001b[0;34m()\u001b[0m\n\u001b[1;32m     11\u001b[0m \u001b[0mdummy_ner\u001b[0m \u001b[0;34m=\u001b[0m \u001b[0msess\u001b[0m\u001b[0;34m.\u001b[0m\u001b[0mrun\u001b[0m\u001b[0;34m(\u001b[0m\u001b[0mdummy_ner\u001b[0m\u001b[0;34m,\u001b[0m \u001b[0;34m{\u001b[0m\u001b[0mdummy_ph\u001b[0m\u001b[0;34m:\u001b[0m \u001b[0mdummy_batch\u001b[0m\u001b[0;34m[\u001b[0m\u001b[0;34m'raw_text'\u001b[0m\u001b[0;34m]\u001b[0m\u001b[0;34m}\u001b[0m\u001b[0;34m)\u001b[0m\u001b[0;34m\u001b[0m\u001b[0;34m\u001b[0m\u001b[0m\n\u001b[1;32m     12\u001b[0m \u001b[0;34m\u001b[0m\u001b[0m\n\u001b[0;32m---> 13\u001b[0;31m \u001b[0;32massert\u001b[0m \u001b[0;34m'ne'\u001b[0m \u001b[0;32min\u001b[0m \u001b[0mdummy_out\u001b[0m \u001b[0;32mand\u001b[0m \u001b[0;34m'pos'\u001b[0m \u001b[0;32min\u001b[0m \u001b[0mdummy_out\u001b[0m \u001b[0;32mand\u001b[0m \u001b[0;34m'lm'\u001b[0m \u001b[0;32min\u001b[0m \u001b[0mdummy_out\u001b[0m\u001b[0;34m\u001b[0m\u001b[0;34m\u001b[0m\u001b[0m\n\u001b[0m",
            "\u001b[0;31mAssertionError\u001b[0m: "
          ]
        }
      ]
    },
    {
      "metadata": {
        "id": "IzUcDkrMYOMY",
        "colab_type": "code",
        "colab": {
          "base_uri": "https://localhost:8080/",
          "height": 680
        },
        "outputId": "b519d9cb-4edd-4647-a65f-c4e7c46537db"
      },
      "cell_type": "code",
      "source": [
        "for m in model.lm.variable_map.values():\n",
        "  print(m.name, m.trainable)"
      ],
      "execution_count": 40,
      "outputs": [
        {
          "output_type": "stream",
          "text": [
            "module/bilm/char_embed:0 False\n",
            "module/bilm/CNN/W_cnn_0:0 False\n",
            "module/bilm/CNN/b_cnn_0:0 False\n",
            "module/bilm/CNN/W_cnn_1:0 False\n",
            "module/bilm/CNN/b_cnn_1:0 False\n",
            "module/bilm/CNN/W_cnn_2:0 False\n",
            "module/bilm/CNN/b_cnn_2:0 False\n",
            "module/bilm/CNN/W_cnn_3:0 False\n",
            "module/bilm/CNN/b_cnn_3:0 False\n",
            "module/bilm/CNN/W_cnn_4:0 False\n",
            "module/bilm/CNN/b_cnn_4:0 False\n",
            "module/bilm/CNN/W_cnn_5:0 False\n",
            "module/bilm/CNN/b_cnn_5:0 False\n",
            "module/bilm/CNN/W_cnn_6:0 False\n",
            "module/bilm/CNN/b_cnn_6:0 False\n",
            "module/bilm/CNN_high_0/W_carry:0 False\n",
            "module/bilm/CNN_high_0/b_carry:0 False\n",
            "module/bilm/CNN_high_0/W_transform:0 False\n",
            "module/bilm/CNN_high_0/b_transform:0 False\n",
            "module/bilm/CNN_high_1/W_carry:0 False\n",
            "module/bilm/CNN_high_1/b_carry:0 False\n",
            "module/bilm/CNN_high_1/W_transform:0 False\n",
            "module/bilm/CNN_high_1/b_transform:0 False\n",
            "module/bilm/CNN_proj/W_proj:0 False\n",
            "module/bilm/CNN_proj/b_proj:0 False\n",
            "module/bilm/RNN_0/RNN/MultiRNNCell/Cell0/rnn/lstm_cell/kernel:0 False\n",
            "module/bilm/RNN_0/RNN/MultiRNNCell/Cell0/rnn/lstm_cell/bias:0 False\n",
            "module/bilm/RNN_0/RNN/MultiRNNCell/Cell0/rnn/lstm_cell/projection/kernel:0 False\n",
            "module/bilm/RNN_0/RNN/MultiRNNCell/Cell1/rnn/lstm_cell/kernel:0 False\n",
            "module/bilm/RNN_0/RNN/MultiRNNCell/Cell1/rnn/lstm_cell/bias:0 False\n",
            "module/bilm/RNN_0/RNN/MultiRNNCell/Cell1/rnn/lstm_cell/projection/kernel:0 False\n",
            "module/bilm/RNN_1/RNN/MultiRNNCell/Cell0/rnn/lstm_cell/kernel:0 False\n",
            "module/bilm/RNN_1/RNN/MultiRNNCell/Cell0/rnn/lstm_cell/bias:0 False\n",
            "module/bilm/RNN_1/RNN/MultiRNNCell/Cell0/rnn/lstm_cell/projection/kernel:0 False\n",
            "module/bilm/RNN_1/RNN/MultiRNNCell/Cell1/rnn/lstm_cell/kernel:0 False\n",
            "module/bilm/RNN_1/RNN/MultiRNNCell/Cell1/rnn/lstm_cell/bias:0 False\n",
            "module/bilm/RNN_1/RNN/MultiRNNCell/Cell1/rnn/lstm_cell/projection/kernel:0 False\n",
            "module/aggregation/weights:0 False\n",
            "module/aggregation/scaling:0 False\n"
          ],
          "name": "stdout"
        }
      ]
    },
    {
      "metadata": {
        "id": "jihYHDqcUSYv",
        "colab_type": "code",
        "colab": {
          "base_uri": "https://localhost:8080/",
          "height": 34
        },
        "outputId": "2a6079d8-f415-4333-f901-0cb118e6783d"
      },
      "cell_type": "code",
      "source": [
        "dummy_ner.shape"
      ],
      "execution_count": 41,
      "outputs": [
        {
          "output_type": "execute_result",
          "data": {
            "text/plain": [
              "(3, 26, 11)"
            ]
          },
          "metadata": {
            "tags": []
          },
          "execution_count": 41
        }
      ]
    },
    {
      "metadata": {
        "id": "r6Ui5R6ewQtT",
        "colab_type": "text"
      },
      "cell_type": "markdown",
      "source": [
        "Different schemes for multitask learning with Language Model component.\n",
        "\n",
        "You can try at least two of them:\n",
        "* Pretrain network using monolingual data as Language Model and then train model as NER and POS tagger.\n",
        "* Train network alternately: one step on NER and POS tasks, one step on LM tasks. \n"
      ]
    },
    {
      "metadata": {
        "id": "NuHXbMvIwQtT",
        "colab_type": "code",
        "colab": {
          "base_uri": "https://localhost:8080/",
          "height": 34
        },
        "outputId": "6dc6e12b-69e3-453b-bb75-6d57a35b10de"
      },
      "cell_type": "code",
      "source": [
        "from utils import infer_mask\n",
        "\n",
        "\n",
        "\n",
        "class multitask_trainer:\n",
        "    \"\"\" A trainer that computes losses for both NER, POS and LM tasks and adds them together. \"\"\"\n",
        "    ph = {\n",
        "        'word': tf.placeholder('int32', [None, None], name='input_tokens'),\n",
        "        'ne': tf.placeholder('int32', [None, None], name='named_entities'),\n",
        "        'pos': tf.placeholder('int32', [None, None], name='part_of_speech_tags'),\n",
        "        'lm': tf.placeholder('int32', [None, None], name='output_tokens'),\n",
        "        'raw_text': tf.placeholder(tf.string, [None], name='elma_texts')\n",
        "    }\n",
        "\n",
        "    logits = model(ph['raw_text'])\n",
        "    mask = infer_mask(ph['word'])\n",
        "\n",
        "    # Compute loss for NER. Feel free to reuse the code from original trainer\n",
        "\n",
        "    ner_loss = -tf.nn.log_softmax(logits['ne'], -1) * tf.one_hot(ph['ne'], len(vocabs['ne']))\n",
        "    ner_loss = tf.reduce_sum(ner_loss * mask[:, :, None]) / tf.reduce_sum(mask)\n",
        "\n",
        "    # Compute the same kind of loss for POS.  (key: 'pos')\n",
        "\n",
        "    pos_loss = -tf.nn.log_softmax(logits['pos'], -1) * tf.one_hot(ph['pos'], len(vocabs['pos']))\n",
        "    pos_loss = tf.reduce_sum(pos_loss * mask[:, :, None]) / tf.reduce_sum(mask)\n",
        "\n",
        "    # Compute the same kind of loss for LM.\n",
        "\n",
        "    #lm_loss = <YOUR CODE>\n",
        "\n",
        "    # YOUR CODE HERE\n",
        "    loss = ner_loss + pos_loss\n",
        "    step = tf.train.AdamOptimizer().minimize(loss)\n"
      ],
      "execution_count": 42,
      "outputs": [
        {
          "output_type": "stream",
          "text": [
            "INFO:tensorflow:Saver not created because there are no variables in the graph to restore\n"
          ],
          "name": "stdout"
        }
      ]
    },
    {
      "metadata": {
        "id": "MQFT1L9af2kA",
        "colab_type": "code",
        "colab": {}
      },
      "cell_type": "code",
      "source": [
        "def iterate_minibatches_v2(data, batch_size=128, shuffle=True, cycle=False, max_batches=None):\n",
        "    indices = np.arange(len(data))\n",
        "    total_batches = 0\n",
        "    while True:\n",
        "        if shuffle: indices = np.random.permutation(indices)\n",
        "        for start_i in range(0, len(data), batch_size):\n",
        "            batch_ix = indices[start_i: start_i + batch_size]\n",
        "            yield prepare_batch_v2(data[batch_ix])\n",
        "            total_batches += 1\n",
        "            if max_batches and total_batches >= max_batches:\n",
        "                raise StopIteration()\n",
        "        if not cycle: break\n",
        "\n",
        "def compute_error_rate_v2(trainer, data, batch_size=128, key='ne'):\n",
        "    numerator = denominator = 0.0\n",
        "    for batch in iterate_minibatches_v2(data, batch_size, shuffle=False, cycle=False):\n",
        "        batch_ne_logits, batch_mask = sess.run([trainer.logits[key], trainer.mask], \n",
        "                                               {trainer.ph['raw_text']: batch['raw_text']})\n",
        "        numerator += np.sum((batch[key] == batch_ne_logits.argmax(-1)) * batch_mask)\n",
        "        denominator += batch_mask.sum()\n",
        "    return (1.0 - numerator / denominator) * 100\n",
        "\n",
        "def decode_greedy_v2(trainer, data, vocabs, batch_size=128, key='ne'):\n",
        "    result = []\n",
        "    for batch in iterate_minibatches_v2(data, batch_size, shuffle=False, cycle=False):\n",
        "        batch_logits = sess.run(trainer.logits[key], \n",
        "                                {trainer.ph['raw_text']: batch['raw_text']})\n",
        "        result.extend(vocabs[key].to_lines(batch_logits.argmax(-1)))\n",
        "    return result\n",
        "\n",
        "def compute_stats_v2(trainer, data, vocabs, batch_size=128, key='ne', verbose=False):\n",
        "    pred_seqs = decode_greedy_v2(trainer, data, vocabs, batch_size, key)\n",
        "    true_seqs = [r[key] for r in data]\n",
        "    precision, recall, f1 = evaluate(true_seqs, pred_seqs, verbose)\n",
        "    return precision, recall, f1"
      ],
      "execution_count": 0,
      "outputs": []
    },
    {
      "metadata": {
        "id": "oZqYA51owQtU",
        "colab_type": "code",
        "colab": {
          "base_uri": "https://localhost:8080/",
          "height": 34
        },
        "outputId": "7dbd093c-25be-4fef-b997-a3e46b073a6a"
      },
      "cell_type": "code",
      "source": [
        "from tqdm import tqdm\n",
        "from IPython.display import clear_output\n",
        "import matplotlib.pyplot as plt\n",
        "%matplotlib inline\n",
        "\n",
        "loss_history = []\n",
        "dev_stats_history = StatsHistory()\n",
        "indomain_stats_history = StatsHistory()\n",
        "outdomain_stats_history = StatsHistory()\n",
        "\n",
        "sess.run([tf.global_variables_initializer(), tf.tables_initializer()])"
      ],
      "execution_count": 48,
      "outputs": [
        {
          "output_type": "execute_result",
          "data": {
            "text/plain": [
              "[None, None]"
            ]
          },
          "metadata": {
            "tags": []
          },
          "execution_count": 48
        }
      ]
    },
    {
      "metadata": {
        "id": "vpCWyCbfwQtV",
        "colab_type": "code",
        "colab": {
          "base_uri": "https://localhost:8080/",
          "height": 3364
        },
        "outputId": "8410831b-f2ae-49b3-9bc4-447fc2773506"
      },
      "cell_type": "code",
      "source": [
        "for batch in tqdm(iterate_minibatches_v2(train_data, cycle=True, max_batches=2500)):\n",
        "    # YOUR CODE HERE\n",
        "    batch['lm'] = batch['word']\n",
        "    \n",
        "    loss_t, _ = sess.run([multitask_trainer.loss, multitask_trainer.step], \n",
        "                         {multitask_trainer.ph[key]: batch[key] for key in multitask_trainer.ph})\n",
        "    loss_history.append(loss_t)\n",
        "    \n",
        "    if len(loss_history) % 100 == 0:\n",
        "        precision, recall, f1 = compute_stats_v2(multitask_trainer, dev_data, vocabs, batch_size=64, verbose=True)\n",
        "        dev_stats_history.precision.append(precision)\n",
        "        dev_stats_history.recall.append(recall)\n",
        "        dev_stats_history.f1.append(f1)\n",
        "\n",
        "        _, _, f1 = compute_stats_v2(multitask_trainer, test_outdomain_data, vocabs, batch_size=64, verbose=True)\n",
        "        outdomain_stats_history.f1.append(f1)\n",
        "        \n",
        "        _, _, f1 = compute_stats_v2(multitask_trainer, test_indomain_data, vocabs, batch_size=64, verbose=True)\n",
        "        indomain_stats_history.f1.append(f1)\n",
        "        \n",
        "        clear_output(True)\n",
        "        plt.figure(figsize=[12, 6])\n",
        "        plt.subplot(1, 2, 1)\n",
        "        plt.plot(loss_history)\n",
        "        plt.title('train loss'), plt.grid()\n",
        "        plt.subplot(1, 2, 2)\n",
        "        \n",
        "        plt.plot(np.arange(1, len(dev_stats_history.f1) + 1) * eval_every, dev_stats_history.f1, label=\"dev f1\")\n",
        "        plt.plot(np.arange(1, len(outdomain_stats_history.f1) + 1) * eval_every, outdomain_stats_history.f1, label=\"outdomain f1\")\n",
        "        plt.plot(np.arange(1, len(indomain_stats_history.f1) + 1) * eval_every, indomain_stats_history.f1, label=\"indomain f1\")\n",
        "        \n",
        "        plt.title('dev stats %'), plt.grid()\n",
        "        plt.show()"
      ],
      "execution_count": 0,
      "outputs": [
        {
          "output_type": "display_data",
          "data": {
            "image/png": "[encoded data removed]",
            "text/plain": [
              "<matplotlib.figure.Figure at 0x7faddfb1d048>"
            ]
          },
          "metadata": {
            "tags": []
          }
        },
        {
          "output_type": "stream",
          "text": [
            "\n",
            "\n",
            "\n",
            "1100it [55:00, 55.66s/it]\u001b[A\u001b[A\u001b[A\n",
            "\n",
            "\n",
            "1101it [55:01, 39.28s/it]\u001b[A\u001b[A\u001b[A\n",
            "\n",
            "\n",
            "1102it [55:02, 27.80s/it]\u001b[A\u001b[A\u001b[A\n",
            "\n",
            "\n",
            "1103it [55:03, 19.91s/it]\u001b[A\u001b[A\u001b[A\n",
            "\n",
            "\n",
            "1104it [55:05, 14.28s/it]\u001b[A\u001b[A\u001b[A\n",
            "\n",
            "\n",
            "1105it [55:06, 10.34s/it]\u001b[A\u001b[A\u001b[A\n",
            "\n",
            "\n",
            "1106it [55:07,  7.55s/it]\u001b[A\u001b[A\u001b[A\n",
            "\n",
            "\n",
            "1107it [55:08,  5.68s/it]\u001b[A\u001b[A\u001b[A\n",
            "\n",
            "\n",
            "1108it [55:09,  4.36s/it]\u001b[A\u001b[A\u001b[A\n",
            "\n",
            "\n",
            "1109it [55:10,  3.38s/it]\u001b[A\u001b[A\u001b[A\n",
            "\n",
            "\n",
            "1110it [55:12,  2.72s/it]\u001b[A\u001b[A\u001b[A\n",
            "\n",
            "\n",
            "1111it [55:13,  2.26s/it]\u001b[A\u001b[A\u001b[A\n",
            "\n",
            "\n",
            "1112it [55:14,  1.93s/it]\u001b[A\u001b[A\u001b[A\n",
            "\n",
            "\n",
            "1113it [55:15,  1.67s/it]\u001b[A\u001b[A\u001b[A\n",
            "\n",
            "\n",
            "1114it [55:16,  1.59s/it]\u001b[A\u001b[A\u001b[A\n",
            "\n",
            "\n",
            "1115it [55:17,  1.44s/it]\u001b[A\u001b[A\u001b[A\n",
            "\n",
            "\n",
            "1116it [55:19,  1.41s/it]\u001b[A\u001b[A\u001b[A\n",
            "\n",
            "\n",
            "1117it [55:20,  1.28s/it]\u001b[A\u001b[A\u001b[A\n",
            "\n",
            "\n",
            "1118it [55:21,  1.21s/it]\u001b[A\u001b[A\u001b[A\n",
            "\n",
            "\n",
            "1119it [55:22,  1.20s/it]\u001b[A\u001b[A\u001b[A\n",
            "\n",
            "\n",
            "1120it [55:24,  1.36s/it]\u001b[A\u001b[A\u001b[A\n",
            "\n",
            "\n",
            "1121it [55:25,  1.26s/it]\u001b[A\u001b[A\u001b[A\n",
            "\n",
            "\n",
            "1122it [55:26,  1.24s/it]\u001b[A\u001b[A\u001b[A\n",
            "\n",
            "\n",
            "1123it [55:27,  1.26s/it]\u001b[A\u001b[A\u001b[A\n",
            "\n",
            "\n",
            "1124it [55:29,  1.43s/it]\u001b[A\u001b[A\u001b[A\n",
            "\n",
            "\n",
            "1125it [55:30,  1.31s/it]\u001b[A\u001b[A\u001b[A\n",
            "\n",
            "\n",
            "1126it [55:31,  1.29s/it]\u001b[A\u001b[A\u001b[A\n",
            "\n",
            "\n",
            "1127it [55:33,  1.47s/it]\u001b[A\u001b[A\u001b[A\n",
            "\n",
            "\n",
            "1128it [55:34,  1.34s/it]\u001b[A\u001b[A\u001b[A\n",
            "\n",
            "\n",
            "1129it [55:35,  1.29s/it]\u001b[A\u001b[A\u001b[A\n",
            "\n",
            "\n",
            "1130it [55:36,  1.20s/it]\u001b[A\u001b[A\u001b[A\n",
            "\n",
            "\n",
            "1131it [55:38,  1.17s/it]\u001b[A\u001b[A\u001b[A\n",
            "\n",
            "\n",
            "1132it [55:39,  1.10s/it]\u001b[A\u001b[A\u001b[A\n",
            "\n",
            "\n",
            "1133it [55:40,  1.18s/it]\u001b[A\u001b[A\u001b[A\n",
            "\n",
            "\n",
            "1134it [55:41,  1.15s/it]\u001b[A\u001b[A\u001b[A\n",
            "\n",
            "\n",
            "1135it [55:42,  1.15s/it]\u001b[A\u001b[A\u001b[A\n",
            "\n",
            "\n",
            "1136it [55:43,  1.14s/it]\u001b[A\u001b[A\u001b[A\n",
            "\n",
            "\n",
            "1137it [55:44,  1.14s/it]\u001b[A\u001b[A\u001b[A\n",
            "\n",
            "\n",
            "1138it [55:45,  1.14s/it]\u001b[A\u001b[A\u001b[A\n",
            "\n",
            "\n",
            "1139it [55:47,  1.16s/it]\u001b[A\u001b[A\u001b[A\n",
            "\n",
            "\n",
            "1140it [55:48,  1.10s/it]\u001b[A\u001b[A\u001b[A\n",
            "\n",
            "\n",
            "1141it [55:49,  1.12s/it]\u001b[A\u001b[A\u001b[A\n",
            "\n",
            "\n",
            "1142it [55:50,  1.10s/it]\u001b[A\u001b[A\u001b[A\n",
            "\n",
            "\n",
            "1143it [55:51,  1.14s/it]\u001b[A\u001b[A\u001b[A\n",
            "\n",
            "\n",
            "1144it [55:52,  1.16s/it]\u001b[A\u001b[A\u001b[A\n",
            "\n",
            "\n",
            "1145it [55:54,  1.18s/it]\u001b[A\u001b[A\u001b[A\n",
            "\n",
            "\n",
            "1146it [55:55,  1.15s/it]\u001b[A\u001b[A\u001b[A\n",
            "\n",
            "\n",
            "1147it [55:56,  1.14s/it]\u001b[A\u001b[A\u001b[A\n",
            "\n",
            "\n",
            "1148it [55:57,  1.15s/it]\u001b[A\u001b[A\u001b[A\n",
            "\n",
            "\n",
            "1149it [55:58,  1.24s/it]\u001b[A\u001b[A\u001b[A\n",
            "\n",
            "\n",
            "1150it [56:00,  1.23s/it]\u001b[A\u001b[A\u001b[A\n",
            "\n",
            "\n",
            "1151it [56:01,  1.20s/it]\u001b[A\u001b[A\u001b[A\n",
            "\n",
            "\n",
            "1152it [56:02,  1.22s/it]\u001b[A\u001b[A\u001b[A\n",
            "\n",
            "\n",
            "1153it [56:03,  1.15s/it]\u001b[A\u001b[A\u001b[A\n",
            "\n",
            "\n",
            "1154it [56:04,  1.15s/it]\u001b[A\u001b[A\u001b[A\n",
            "\n",
            "\n",
            "1155it [56:05,  1.10s/it]\u001b[A\u001b[A\u001b[A\n",
            "\n",
            "\n",
            "1156it [56:06,  1.12s/it]\u001b[A\u001b[A\u001b[A\n",
            "\n",
            "\n",
            "1157it [56:07,  1.15s/it]\u001b[A\u001b[A\u001b[A"
          ],
          "name": "stderr"
        }
      ]
    },
    {
      "metadata": {
        "id": "hym6WytphvG5",
        "colab_type": "code",
        "colab": {
          "base_uri": "https://localhost:8080/",
          "height": 164
        },
        "outputId": "6c79f719-aee4-42fa-f90a-4badb7351976"
      },
      "cell_type": "code",
      "source": [
        "precision, recall, f1 = compute_stats_v2(multitask_trainer, dev_data, vocabs, batch_size=256, verbose=True)"
      ],
      "execution_count": 3,
      "outputs": [
        {
          "output_type": "error",
          "ename": "NameError",
          "evalue": "ignored",
          "traceback": [
            "\u001b[0;31m---------------------------------------------------------------------------\u001b[0m",
            "\u001b[0;31mNameError\u001b[0m                                 Traceback (most recent call last)",
            "\u001b[0;32m<ipython-input-3-d0ed0d64a845>\u001b[0m in \u001b[0;36m<module>\u001b[0;34m()\u001b[0m\n\u001b[0;32m----> 1\u001b[0;31m \u001b[0mprecision\u001b[0m\u001b[0;34m,\u001b[0m \u001b[0mrecall\u001b[0m\u001b[0;34m,\u001b[0m \u001b[0mf1\u001b[0m \u001b[0;34m=\u001b[0m \u001b[0mcompute_stats\u001b[0m\u001b[0;34m(\u001b[0m\u001b[0mmultitask_trainer\u001b[0m\u001b[0;34m,\u001b[0m \u001b[0mdev_data\u001b[0m\u001b[0;34m,\u001b[0m \u001b[0mvocabs\u001b[0m\u001b[0;34m,\u001b[0m \u001b[0mbatch_size\u001b[0m\u001b[0;34m=\u001b[0m\u001b[0;36m256\u001b[0m\u001b[0;34m,\u001b[0m \u001b[0mverbose\u001b[0m\u001b[0;34m=\u001b[0m\u001b[0;32mTrue\u001b[0m\u001b[0;34m)\u001b[0m\u001b[0;34m\u001b[0m\u001b[0;34m\u001b[0m\u001b[0m\n\u001b[0m",
            "\u001b[0;31mNameError\u001b[0m: name 'compute_stats' is not defined"
          ]
        }
      ]
    },
    {
      "metadata": {
        "id": "KefcJVkYwQtW",
        "colab_type": "text"
      },
      "cell_type": "markdown",
      "source": [
        "# Structured prediction for NEs (2 points)\n",
        "\n",
        "![lstm_crf_ner](https://github.com/yandexdataschool/nlp_course/raw/master/resources/lstm_crf_ner.png)\n",
        "\n",
        "[_Picture from  Lample et al._](https://arxiv.org/abs/1603.01360)\n",
        "\n",
        "A setup with seq2seq and cross-entropy loss for tagging is not so good. Because in the case tagging there is an important constraint: input and output sequence have same length, and the number of output token types is much less than the number of input token types.\n",
        "\n",
        "To use this constraint effectively it is good idea to try structured [CRF loss](https://github.com/tensorflow/tensorflow/tree/master/tensorflow/contrib/crf) for NER (and POS)\n",
        "\n",
        "\n",
        "A good example of TensorFlow implementation of NER NN with CRF loss can be found in the [blogpost](https://guillaumegenthial.github.io/sequence-tagging-with-tensorflow.html)"
      ]
    },
    {
      "metadata": {
        "id": "BdwdSxCF0SdI",
        "colab_type": "code",
        "colab": {}
      },
      "cell_type": "code",
      "source": [
        "from utils import infer_mask\n",
        "\n",
        "\n",
        "\n",
        "class multitask_trainer_v3:\n",
        "    \"\"\" A trainer that computes losses for both NER, POS and LM tasks and adds them together. \"\"\"\n",
        "    ph = {\n",
        "        'word': tf.placeholder('int32', [None, None], name='input_tokens'),\n",
        "        'ne': tf.placeholder('int32', [None, None], name='named_entities'),\n",
        "        'pos': tf.placeholder('int32', [None, None], name='part_of_speech_tags'),\n",
        "        'lm': tf.placeholder('int32', [None, None], name='output_tokens'),\n",
        "        'raw_text': tf.placeholder(tf.string, [None], name='elma_texts')\n",
        "    }\n",
        "\n",
        "    logits = model(ph['raw_text'])\n",
        "    mask = infer_mask(ph['word'])\n",
        "\n",
        "    # Compute loss for NER. Feel free to reuse the code from original trainer\n",
        "\n",
        "    ner_loss = -tf.nn.log_softmax(logits['ne'], -1) * tf.one_hot(ph['ne'], len(vocabs['ne']))\n",
        "    ner_loss = tf.reduce_sum(ner_loss * mask[:, :, None]) / tf.reduce_sum(mask)\n",
        "\n",
        "    # Compute the same kind of loss for POS.  (key: 'pos')\n",
        "\n",
        "    pos_loss = -tf.nn.log_softmax(logits['pos'], -1) * tf.one_hot(ph['pos'], len(vocabs['pos']))\n",
        "    pos_loss = tf.reduce_sum(pos_loss * mask[:, :, None]) / tf.reduce_sum(mask)\n",
        "\n",
        "    # Compute the same kind of loss for LM.\n",
        "\n",
        "    #lm_loss = <YOUR CODE>\n",
        "\n",
        "    # YOUR CODE HERE\n",
        "    loss = ner_loss + pos_loss\n",
        "    step = tf.train.AdamOptimizer().minimize(loss)"
      ],
      "execution_count": 0,
      "outputs": []
    },
    {
      "metadata": {
        "id": "iBWcUQxVwQtW",
        "colab_type": "text"
      },
      "cell_type": "markdown",
      "source": [
        "## Dealing with letter case and rare entities (1 points)\n",
        "\n",
        "![lstm_crf_ner](https://github.com/yandexdataschool/nlp_course/raw/master/resources/word_and_char_embedding_concat.png)\n",
        "\n",
        "[_Picture from  Lample et al._](https://arxiv.org/abs/1603.01360)\n",
        "\n",
        "First, in European languages (both English and Russian) personal names, companies, geographical names are capitalized traditionally. Thus the letter case carries a powerful signal for named entities recognition. So it is good to utilize it.\n",
        "\n",
        "Second, most of named entities are rare words. In testsets (both from source and target distributions) they are replaced by _UNK_. To deal with OOV words you can try different approaches (feel free!). For example:\n",
        "\n",
        "* You can use additional character-level recurrent layers to obtain character-aware word embeddings (see scheme on the picture above)\n",
        "* You can use pretrained embeddings with character ngram information ([FastText](https://github.com/facebookresearch/fastText/blob/master/pretrained-vectors.md))\n",
        "* You can split words by subword units using [BPE](https://arxiv.org/abs/1508.07909)"
      ]
    },
    {
      "metadata": {
        "id": "ZiADB-UhwQtW",
        "colab_type": "text"
      },
      "cell_type": "markdown",
      "source": [
        "## Domain adaptation via proxy-labels (2 points)"
      ]
    },
    {
      "metadata": {
        "id": "tlD8mzOOwQtX",
        "colab_type": "text"
      },
      "cell_type": "markdown",
      "source": [
        "As you can see above the quality of NER on the target domain (internet comments) is much worse than on the source domain (news). This is not surprising.\n",
        "\n",
        "To overcome the problem we offer you to implement any kind of proxy-label method. A good overview on this kind of methods can be found [here](https://arxiv.org/abs/1804.09530)\n",
        "\n",
        "__ATTENTION!!!__ For proxy-labeling use monolingual target-domain dataset (not testset!).\n",
        "\n",
        "Good luck!"
      ]
    },
    {
      "metadata": {
        "id": "M60fAqubwQtX",
        "colab_type": "code",
        "colab": {}
      },
      "cell_type": "code",
      "source": [
        ""
      ],
      "execution_count": 0,
      "outputs": []
    },
    {
      "metadata": {
        "id": "6_EETZL1htsl",
        "colab_type": "code",
        "colab": {}
      },
      "cell_type": "code",
      "source": [
        ""
      ],
      "execution_count": 0,
      "outputs": []
    }
  ]
}